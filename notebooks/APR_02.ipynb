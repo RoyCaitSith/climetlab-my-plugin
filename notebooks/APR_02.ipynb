{
 "cells": [
  {
   "cell_type": "code",
   "execution_count": null,
   "metadata": {},
   "outputs": [],
   "source": [
    "import sys\n",
    "sys.path.insert(0, \"/uufs/chpc.utah.edu/common/home/u1237353/climetlab-my-plugin/functions\")"
   ]
  },
  {
   "cell_type": "code",
   "execution_count": 1,
   "id": "c0bb1794",
   "metadata": {},
   "outputs": [
    {
     "data": {
      "application/vnd.jupyter.widget-view+json": {
       "model_id": "807e2f1923bb40d4b2443ad0d3121f3f",
       "version_major": 2,
       "version_minor": 0
      },
      "text/plain": [
       "Cases: 0/9 files | 00:00<?"
      ]
     },
     "metadata": {},
     "output_type": "display_data"
    },
    {
     "data": {
      "application/vnd.jupyter.widget-view+json": {
       "model_id": "852ed5f6caf04c9aab2202361945ba62",
       "version_major": 2,
       "version_minor": 0
      },
      "text/plain": [
       "Domains:   0%|          | 0/2 [00:00<?, ?it/s]"
      ]
     },
     "metadata": {},
     "output_type": "display_data"
    },
    {
     "data": {
      "application/vnd.jupyter.widget-view+json": {
       "model_id": "11998f5065094f36b841afa5d4fc8776",
       "version_major": 2,
       "version_minor": 0
      },
      "text/plain": [
       "Cycles:   0%|          | 0/1 [00:00<?, ?it/s]"
      ]
     },
     "metadata": {},
     "output_type": "display_data"
    },
    {
     "data": {
      "application/vnd.jupyter.widget-view+json": {
       "model_id": "ec49238ce8ea424bb66655ea1363169e",
       "version_major": 2,
       "version_minor": 0
      },
      "text/plain": [
       "Times:   0%|          | 0/4 [00:00<?, ?it/s]"
      ]
     },
     "metadata": {},
     "output_type": "display_data"
    },
    {
     "data": {
      "application/vnd.jupyter.widget-view+json": {
       "model_id": "468354aba7ab4af5a0fa04fbfb12f78a",
       "version_major": 2,
       "version_minor": 0
      },
      "text/plain": [
       "Levels:   0%|          | 0/131 [00:00<?, ?it/s]"
      ]
     },
     "metadata": {},
     "output_type": "display_data"
    },
    {
     "data": {
      "application/vnd.jupyter.widget-view+json": {
       "model_id": "e0f879b718734389a8c3102307161e2d",
       "version_major": 2,
       "version_minor": 0
      },
      "text/plain": [
       "Levels:   0%|          | 0/131 [00:00<?, ?it/s]"
      ]
     },
     "metadata": {},
     "output_type": "display_data"
    },
    {
     "data": {
      "application/vnd.jupyter.widget-view+json": {
       "model_id": "db79e1e6b29343ad8a0b7f980e8fc626",
       "version_major": 2,
       "version_minor": 0
      },
      "text/plain": [
       "Levels:   0%|          | 0/131 [00:00<?, ?it/s]"
      ]
     },
     "metadata": {},
     "output_type": "display_data"
    },
    {
     "data": {
      "application/vnd.jupyter.widget-view+json": {
       "model_id": "d940fa5031b942f598665d42920dfdba",
       "version_major": 2,
       "version_minor": 0
      },
      "text/plain": [
       "Levels:   0%|          | 0/131 [00:00<?, ?it/s]"
      ]
     },
     "metadata": {},
     "output_type": "display_data"
    },
    {
     "data": {
      "application/vnd.jupyter.widget-view+json": {
       "model_id": "b3f8ed13e57e42eb88f0defef1fd84d0",
       "version_major": 2,
       "version_minor": 0
      },
      "text/plain": [
       "Cycles:   0%|          | 0/1 [00:00<?, ?it/s]"
      ]
     },
     "metadata": {},
     "output_type": "display_data"
    },
    {
     "data": {
      "application/vnd.jupyter.widget-view+json": {
       "model_id": "d783b0e9158448da83bc67380f769efb",
       "version_major": 2,
       "version_minor": 0
      },
      "text/plain": [
       "Times:   0%|          | 0/4 [00:00<?, ?it/s]"
      ]
     },
     "metadata": {},
     "output_type": "display_data"
    },
    {
     "data": {
      "application/vnd.jupyter.widget-view+json": {
       "model_id": "7c9ad7590f2441c89dac5bf6921ca097",
       "version_major": 2,
       "version_minor": 0
      },
      "text/plain": [
       "Levels:   0%|          | 0/131 [00:00<?, ?it/s]"
      ]
     },
     "metadata": {},
     "output_type": "display_data"
    },
    {
     "data": {
      "application/vnd.jupyter.widget-view+json": {
       "model_id": "a57d48371e9848f18a32b9df730833e3",
       "version_major": 2,
       "version_minor": 0
      },
      "text/plain": [
       "Levels:   0%|          | 0/131 [00:00<?, ?it/s]"
      ]
     },
     "metadata": {},
     "output_type": "display_data"
    }
   ],
   "source": [
    "from APR import wrf_extract_APR\n",
    "\n",
    "n_exp_name = 9\n",
    "wrf_extract_APR(data_library_names=['cpex']*n_exp_name,\n",
    "                dir_cases=['/CPEX/07_CV_RF02_AEW03']*n_exp_name,\n",
    "                case_names=['AEW03']*n_exp_name,\n",
    "                exp_names=['CONV', 'CTRL', 'DAWN', 'DAWN_DS', 'DAWN_HALO', 'DAWN_HALO_DS', 'DS', 'HALO', 'HALO_DS'])"
   ]
  },
  {
   "cell_type": "code",
   "execution_count": null,
   "id": "e288c1f0",
   "metadata": {},
   "outputs": [],
   "source": []
  }
 ],
 "metadata": {
  "kernelspec": {
   "display_name": "Python 3 (ipykernel)",
   "language": "python",
   "name": "python3"
  },
  "language_info": {
   "codemirror_mode": {
    "name": "ipython",
    "version": 3
   },
   "file_extension": ".py",
   "mimetype": "text/x-python",
   "name": "python",
   "nbconvert_exporter": "python",
   "pygments_lexer": "ipython3",
   "version": "3.9.18"
  }
 },
 "nbformat": 4,
 "nbformat_minor": 5
}
