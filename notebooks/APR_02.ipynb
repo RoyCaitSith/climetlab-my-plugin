{
 "cells": [
  {
   "cell_type": "code",
   "execution_count": null,
   "metadata": {},
   "outputs": [],
   "source": [
    "import sys\n",
    "sys.path.insert(0, \"/uufs/chpc.utah.edu/common/home/u1237353/climetlab-my-plugin/functions\")"
   ]
  },
  {
   "cell_type": "code",
   "execution_count": 1,
   "id": "c0bb1794",
   "metadata": {},
   "outputs": [
    {
     "data": {
      "application/vnd.jupyter.widget-view+json": {
       "model_id": "807e2f1923bb40d4b2443ad0d3121f3f",
       "version_major": 2,
       "version_minor": 0
      },
      "text/plain": [
       "Cases: 0/9 files | 00:00<?"
      ]
     },
     "metadata": {},
     "output_type": "display_data"
    },
    {
     "data": {
      "application/vnd.jupyter.widget-view+json": {
       "model_id": "852ed5f6caf04c9aab2202361945ba62",
       "version_major": 2,
       "version_minor": 0
      },
      "text/plain": [
       "Domains:   0%|          | 0/2 [00:00<?, ?it/s]"
      ]
     },
     "metadata": {},
     "output_type": "display_data"
    },
    {
     "data": {
      "application/vnd.jupyter.widget-view+json": {
       "model_id": "11998f5065094f36b841afa5d4fc8776",
       "version_major": 2,
       "version_minor": 0
      },
      "text/plain": [
       "Cycles:   0%|          | 0/1 [00:00<?, ?it/s]"
      ]
     },
     "metadata": {},
     "output_type": "display_data"
    },
    {
     "data": {
      "application/vnd.jupyter.widget-view+json": {
       "model_id": "ec49238ce8ea424bb66655ea1363169e",
       "version_major": 2,
       "version_minor": 0
      },
      "text/plain": [
       "Times:   0%|          | 0/4 [00:00<?, ?it/s]"
      ]
     },
     "metadata": {},
     "output_type": "display_data"
    },
    {
     "data": {
      "application/vnd.jupyter.widget-view+json": {
       "model_id": "468354aba7ab4af5a0fa04fbfb12f78a",
       "version_major": 2,
       "version_minor": 0
      },
      "text/plain": [
       "Levels:   0%|          | 0/131 [00:00<?, ?it/s]"
      ]
     },
     "metadata": {},
     "output_type": "display_data"
    },
    {
     "data": {
      "application/vnd.jupyter.widget-view+json": {
       "model_id": "e0f879b718734389a8c3102307161e2d",
       "version_major": 2,
       "version_minor": 0
      },
      "text/plain": [
       "Levels:   0%|          | 0/131 [00:00<?, ?it/s]"
      ]
     },
     "metadata": {},
     "output_type": "display_data"
    },
    {
     "data": {
      "application/vnd.jupyter.widget-view+json": {
       "model_id": "db79e1e6b29343ad8a0b7f980e8fc626",
       "version_major": 2,
       "version_minor": 0
      },
      "text/plain": [
       "Levels:   0%|          | 0/131 [00:00<?, ?it/s]"
      ]
     },
     "metadata": {},
     "output_type": "display_data"
    },
    {
     "data": {
      "application/vnd.jupyter.widget-view+json": {
       "model_id": "d940fa5031b942f598665d42920dfdba",
       "version_major": 2,
       "version_minor": 0
      },
      "text/plain": [
       "Levels:   0%|          | 0/131 [00:00<?, ?it/s]"
      ]
     },
     "metadata": {},
     "output_type": "display_data"
    },
    {
     "data": {
      "application/vnd.jupyter.widget-view+json": {
       "model_id": "b3f8ed13e57e42eb88f0defef1fd84d0",
       "version_major": 2,
       "version_minor": 0
      },
      "text/plain": [
       "Cycles:   0%|          | 0/1 [00:00<?, ?it/s]"
      ]
     },
     "metadata": {},
     "output_type": "display_data"
    },
    {
     "data": {
      "application/vnd.jupyter.widget-view+json": {
       "model_id": "d783b0e9158448da83bc67380f769efb",
       "version_major": 2,
       "version_minor": 0
      },
      "text/plain": [
       "Times:   0%|          | 0/4 [00:00<?, ?it/s]"
      ]
     },
     "metadata": {},
     "output_type": "display_data"
    },
    {
     "data": {
      "application/vnd.jupyter.widget-view+json": {
       "model_id": "7c9ad7590f2441c89dac5bf6921ca097",
       "version_major": 2,
       "version_minor": 0
      },
      "text/plain": [
       "Levels:   0%|          | 0/131 [00:00<?, ?it/s]"
      ]
     },
     "metadata": {},
     "output_type": "display_data"
    },
    {
     "data": {
      "application/vnd.jupyter.widget-view+json": {
       "model_id": "a57d48371e9848f18a32b9df730833e3",
       "version_major": 2,
       "version_minor": 0
      },
      "text/plain": [
       "Levels:   0%|          | 0/131 [00:00<?, ?it/s]"
      ]
     },
     "metadata": {},
     "output_type": "display_data"
    },
    {
     "data": {
      "application/vnd.jupyter.widget-view+json": {
       "model_id": "f8253951fe784e2a9cdfda41170af225",
       "version_major": 2,
       "version_minor": 0
      },
      "text/plain": [
       "Levels:   0%|          | 0/131 [00:00<?, ?it/s]"
      ]
     },
     "metadata": {},
     "output_type": "display_data"
    },
    {
     "data": {
      "application/vnd.jupyter.widget-view+json": {
       "model_id": "560f2c649598420e85a83100d4b5b254",
       "version_major": 2,
       "version_minor": 0
      },
      "text/plain": [
       "Levels:   0%|          | 0/131 [00:00<?, ?it/s]"
      ]
     },
     "metadata": {},
     "output_type": "display_data"
    },
    {
     "data": {
      "application/vnd.jupyter.widget-view+json": {
       "model_id": "f0a4a86bd6ce4e23b245a01faf8c7a24",
       "version_major": 2,
       "version_minor": 0
      },
      "text/plain": [
       "Domains:   0%|          | 0/2 [00:00<?, ?it/s]"
      ]
     },
     "metadata": {},
     "output_type": "display_data"
    },
    {
     "data": {
      "application/vnd.jupyter.widget-view+json": {
       "model_id": "53d9fe48d0d74b5390f305843a78ab5e",
       "version_major": 2,
       "version_minor": 0
      },
      "text/plain": [
       "Cycles:   0%|          | 0/1 [00:00<?, ?it/s]"
      ]
     },
     "metadata": {},
     "output_type": "display_data"
    },
    {
     "data": {
      "application/vnd.jupyter.widget-view+json": {
       "model_id": "375dc60837934188b53d791b2dc89628",
       "version_major": 2,
       "version_minor": 0
      },
      "text/plain": [
       "Times:   0%|          | 0/4 [00:00<?, ?it/s]"
      ]
     },
     "metadata": {},
     "output_type": "display_data"
    },
    {
     "data": {
      "application/vnd.jupyter.widget-view+json": {
       "model_id": "c5cfc3c075a14befa42ea82884402247",
       "version_major": 2,
       "version_minor": 0
      },
      "text/plain": [
       "Levels:   0%|          | 0/131 [00:00<?, ?it/s]"
      ]
     },
     "metadata": {},
     "output_type": "display_data"
    },
    {
     "data": {
      "application/vnd.jupyter.widget-view+json": {
       "model_id": "2281cc7d9e7f408d927e4f271be6f925",
       "version_major": 2,
       "version_minor": 0
      },
      "text/plain": [
       "Levels:   0%|          | 0/131 [00:00<?, ?it/s]"
      ]
     },
     "metadata": {},
     "output_type": "display_data"
    },
    {
     "data": {
      "application/vnd.jupyter.widget-view+json": {
       "model_id": "ac3e12fc733744e189926ae1036146c3",
       "version_major": 2,
       "version_minor": 0
      },
      "text/plain": [
       "Levels:   0%|          | 0/131 [00:00<?, ?it/s]"
      ]
     },
     "metadata": {},
     "output_type": "display_data"
    },
    {
     "data": {
      "application/vnd.jupyter.widget-view+json": {
       "model_id": "1d175c2517bd4e3d8311cea1ec909b47",
       "version_major": 2,
       "version_minor": 0
      },
      "text/plain": [
       "Levels:   0%|          | 0/131 [00:00<?, ?it/s]"
      ]
     },
     "metadata": {},
     "output_type": "display_data"
    },
    {
     "data": {
      "application/vnd.jupyter.widget-view+json": {
       "model_id": "93d85822cafb4d7b8430b4460a1de0b8",
       "version_major": 2,
       "version_minor": 0
      },
      "text/plain": [
       "Cycles:   0%|          | 0/1 [00:00<?, ?it/s]"
      ]
     },
     "metadata": {},
     "output_type": "display_data"
    },
    {
     "data": {
      "application/vnd.jupyter.widget-view+json": {
       "model_id": "beb001bb0c9e4016ae44ce8f5762caaf",
       "version_major": 2,
       "version_minor": 0
      },
      "text/plain": [
       "Times:   0%|          | 0/4 [00:00<?, ?it/s]"
      ]
     },
     "metadata": {},
     "output_type": "display_data"
    },
    {
     "data": {
      "application/vnd.jupyter.widget-view+json": {
       "model_id": "ef97d85833104e9ca430e5ecf2ff3130",
       "version_major": 2,
       "version_minor": 0
      },
      "text/plain": [
       "Levels:   0%|          | 0/131 [00:00<?, ?it/s]"
      ]
     },
     "metadata": {},
     "output_type": "display_data"
    },
    {
     "data": {
      "application/vnd.jupyter.widget-view+json": {
       "model_id": "657d14e535cb489f9295f45eaab43092",
       "version_major": 2,
       "version_minor": 0
      },
      "text/plain": [
       "Levels:   0%|          | 0/131 [00:00<?, ?it/s]"
      ]
     },
     "metadata": {},
     "output_type": "display_data"
    },
    {
     "data": {
      "application/vnd.jupyter.widget-view+json": {
       "model_id": "08973823fdb04dad931ab83657ec30e1",
       "version_major": 2,
       "version_minor": 0
      },
      "text/plain": [
       "Levels:   0%|          | 0/131 [00:00<?, ?it/s]"
      ]
     },
     "metadata": {},
     "output_type": "display_data"
    },
    {
     "data": {
      "application/vnd.jupyter.widget-view+json": {
       "model_id": "6cdbca39dec54c3cbdb960c73a258ed4",
       "version_major": 2,
       "version_minor": 0
      },
      "text/plain": [
       "Levels:   0%|          | 0/131 [00:00<?, ?it/s]"
      ]
     },
     "metadata": {},
     "output_type": "display_data"
    },
    {
     "data": {
      "application/vnd.jupyter.widget-view+json": {
       "model_id": "d72072c0e80342d9886b058f43c5d058",
       "version_major": 2,
       "version_minor": 0
      },
      "text/plain": [
       "Domains:   0%|          | 0/2 [00:00<?, ?it/s]"
      ]
     },
     "metadata": {},
     "output_type": "display_data"
    },
    {
     "data": {
      "application/vnd.jupyter.widget-view+json": {
       "model_id": "20a27770335c48629e8ba6c7847fbafe",
       "version_major": 2,
       "version_minor": 0
      },
      "text/plain": [
       "Cycles:   0%|          | 0/1 [00:00<?, ?it/s]"
      ]
     },
     "metadata": {},
     "output_type": "display_data"
    },
    {
     "data": {
      "application/vnd.jupyter.widget-view+json": {
       "model_id": "55d530dfc06c4afb954ee1660c79bf0b",
       "version_major": 2,
       "version_minor": 0
      },
      "text/plain": [
       "Times:   0%|          | 0/4 [00:00<?, ?it/s]"
      ]
     },
     "metadata": {},
     "output_type": "display_data"
    },
    {
     "data": {
      "application/vnd.jupyter.widget-view+json": {
       "model_id": "3544544880304a7d9289e7939a04b3a2",
       "version_major": 2,
       "version_minor": 0
      },
      "text/plain": [
       "Levels:   0%|          | 0/131 [00:00<?, ?it/s]"
      ]
     },
     "metadata": {},
     "output_type": "display_data"
    },
    {
     "data": {
      "application/vnd.jupyter.widget-view+json": {
       "model_id": "95675bd93d174dd4bc9b4bc6d26435fa",
       "version_major": 2,
       "version_minor": 0
      },
      "text/plain": [
       "Levels:   0%|          | 0/131 [00:00<?, ?it/s]"
      ]
     },
     "metadata": {},
     "output_type": "display_data"
    },
    {
     "data": {
      "application/vnd.jupyter.widget-view+json": {
       "model_id": "7bd4efc7e7024cc8bfa3ec182e52e2a0",
       "version_major": 2,
       "version_minor": 0
      },
      "text/plain": [
       "Levels:   0%|          | 0/131 [00:00<?, ?it/s]"
      ]
     },
     "metadata": {},
     "output_type": "display_data"
    },
    {
     "data": {
      "application/vnd.jupyter.widget-view+json": {
       "model_id": "444f7684f14c48fab3c3a8d41a02b901",
       "version_major": 2,
       "version_minor": 0
      },
      "text/plain": [
       "Levels:   0%|          | 0/131 [00:00<?, ?it/s]"
      ]
     },
     "metadata": {},
     "output_type": "display_data"
    },
    {
     "data": {
      "application/vnd.jupyter.widget-view+json": {
       "model_id": "6a5f156816a34e17a6cc785ed0ef8643",
       "version_major": 2,
       "version_minor": 0
      },
      "text/plain": [
       "Cycles:   0%|          | 0/1 [00:00<?, ?it/s]"
      ]
     },
     "metadata": {},
     "output_type": "display_data"
    },
    {
     "data": {
      "application/vnd.jupyter.widget-view+json": {
       "model_id": "0b61dbb51a394005b5fabfad334f6b29",
       "version_major": 2,
       "version_minor": 0
      },
      "text/plain": [
       "Times:   0%|          | 0/4 [00:00<?, ?it/s]"
      ]
     },
     "metadata": {},
     "output_type": "display_data"
    },
    {
     "data": {
      "application/vnd.jupyter.widget-view+json": {
       "model_id": "e3c52539fa7b4887b38e6b4cd487a981",
       "version_major": 2,
       "version_minor": 0
      },
      "text/plain": [
       "Levels:   0%|          | 0/131 [00:00<?, ?it/s]"
      ]
     },
     "metadata": {},
     "output_type": "display_data"
    },
    {
     "data": {
      "application/vnd.jupyter.widget-view+json": {
       "model_id": "0762b442ffa94481b8432edb6d4eda77",
       "version_major": 2,
       "version_minor": 0
      },
      "text/plain": [
       "Levels:   0%|          | 0/131 [00:00<?, ?it/s]"
      ]
     },
     "metadata": {},
     "output_type": "display_data"
    },
    {
     "data": {
      "application/vnd.jupyter.widget-view+json": {
       "model_id": "b542910dcf404734b6d6c67d7ecc93ab",
       "version_major": 2,
       "version_minor": 0
      },
      "text/plain": [
       "Levels:   0%|          | 0/131 [00:00<?, ?it/s]"
      ]
     },
     "metadata": {},
     "output_type": "display_data"
    },
    {
     "data": {
      "application/vnd.jupyter.widget-view+json": {
       "model_id": "0de969fa74c848a19da4b5febdf23a6e",
       "version_major": 2,
       "version_minor": 0
      },
      "text/plain": [
       "Levels:   0%|          | 0/131 [00:00<?, ?it/s]"
      ]
     },
     "metadata": {},
     "output_type": "display_data"
    },
    {
     "data": {
      "application/vnd.jupyter.widget-view+json": {
       "model_id": "6529856d5ce440b383735974ce3e21c8",
       "version_major": 2,
       "version_minor": 0
      },
      "text/plain": [
       "Domains:   0%|          | 0/2 [00:00<?, ?it/s]"
      ]
     },
     "metadata": {},
     "output_type": "display_data"
    },
    {
     "data": {
      "application/vnd.jupyter.widget-view+json": {
       "model_id": "3d80841686dd47268e544a34f1a1bb55",
       "version_major": 2,
       "version_minor": 0
      },
      "text/plain": [
       "Cycles:   0%|          | 0/1 [00:00<?, ?it/s]"
      ]
     },
     "metadata": {},
     "output_type": "display_data"
    },
    {
     "data": {
      "application/vnd.jupyter.widget-view+json": {
       "model_id": "871681b941214d1c8529bca95ce2339a",
       "version_major": 2,
       "version_minor": 0
      },
      "text/plain": [
       "Times:   0%|          | 0/4 [00:00<?, ?it/s]"
      ]
     },
     "metadata": {},
     "output_type": "display_data"
    },
    {
     "data": {
      "application/vnd.jupyter.widget-view+json": {
       "model_id": "e13e67d2a63247ef900db54f7f8c8b54",
       "version_major": 2,
       "version_minor": 0
      },
      "text/plain": [
       "Levels:   0%|          | 0/131 [00:00<?, ?it/s]"
      ]
     },
     "metadata": {},
     "output_type": "display_data"
    },
    {
     "data": {
      "application/vnd.jupyter.widget-view+json": {
       "model_id": "708155383d914a90be378a0f0a4dd473",
       "version_major": 2,
       "version_minor": 0
      },
      "text/plain": [
       "Levels:   0%|          | 0/131 [00:00<?, ?it/s]"
      ]
     },
     "metadata": {},
     "output_type": "display_data"
    },
    {
     "data": {
      "application/vnd.jupyter.widget-view+json": {
       "model_id": "33896f13ca034c1ca2f4a5de19ef384a",
       "version_major": 2,
       "version_minor": 0
      },
      "text/plain": [
       "Levels:   0%|          | 0/131 [00:00<?, ?it/s]"
      ]
     },
     "metadata": {},
     "output_type": "display_data"
    },
    {
     "data": {
      "application/vnd.jupyter.widget-view+json": {
       "model_id": "daa5c409dd684436b6363139fe334340",
       "version_major": 2,
       "version_minor": 0
      },
      "text/plain": [
       "Levels:   0%|          | 0/131 [00:00<?, ?it/s]"
      ]
     },
     "metadata": {},
     "output_type": "display_data"
    },
    {
     "data": {
      "application/vnd.jupyter.widget-view+json": {
       "model_id": "d8dec6ba82114c33bf77af0a1ed11f21",
       "version_major": 2,
       "version_minor": 0
      },
      "text/plain": [
       "Cycles:   0%|          | 0/1 [00:00<?, ?it/s]"
      ]
     },
     "metadata": {},
     "output_type": "display_data"
    },
    {
     "data": {
      "application/vnd.jupyter.widget-view+json": {
       "model_id": "f5f31c750997490daf1335f68db9356e",
       "version_major": 2,
       "version_minor": 0
      },
      "text/plain": [
       "Times:   0%|          | 0/4 [00:00<?, ?it/s]"
      ]
     },
     "metadata": {},
     "output_type": "display_data"
    },
    {
     "data": {
      "application/vnd.jupyter.widget-view+json": {
       "model_id": "2a6e6bd001bf4f779f06d32640ce8e0d",
       "version_major": 2,
       "version_minor": 0
      },
      "text/plain": [
       "Levels:   0%|          | 0/131 [00:00<?, ?it/s]"
      ]
     },
     "metadata": {},
     "output_type": "display_data"
    },
    {
     "data": {
      "application/vnd.jupyter.widget-view+json": {
       "model_id": "345d8d55216a41eb9241631f8e372969",
       "version_major": 2,
       "version_minor": 0
      },
      "text/plain": [
       "Levels:   0%|          | 0/131 [00:00<?, ?it/s]"
      ]
     },
     "metadata": {},
     "output_type": "display_data"
    },
    {
     "data": {
      "application/vnd.jupyter.widget-view+json": {
       "model_id": "b4f9f8a8fd3144c3a597deee60f8e787",
       "version_major": 2,
       "version_minor": 0
      },
      "text/plain": [
       "Levels:   0%|          | 0/131 [00:00<?, ?it/s]"
      ]
     },
     "metadata": {},
     "output_type": "display_data"
    },
    {
     "data": {
      "application/vnd.jupyter.widget-view+json": {
       "model_id": "99bd29954d1f41c6bb8c8f6b98f4aa3a",
       "version_major": 2,
       "version_minor": 0
      },
      "text/plain": [
       "Levels:   0%|          | 0/131 [00:00<?, ?it/s]"
      ]
     },
     "metadata": {},
     "output_type": "display_data"
    },
    {
     "data": {
      "application/vnd.jupyter.widget-view+json": {
       "model_id": "b88e230132ec423e8a87980f750eb004",
       "version_major": 2,
       "version_minor": 0
      },
      "text/plain": [
       "Domains:   0%|          | 0/2 [00:00<?, ?it/s]"
      ]
     },
     "metadata": {},
     "output_type": "display_data"
    },
    {
     "data": {
      "application/vnd.jupyter.widget-view+json": {
       "model_id": "90c934c396be49398d84fbad5b9de4f4",
       "version_major": 2,
       "version_minor": 0
      },
      "text/plain": [
       "Cycles:   0%|          | 0/1 [00:00<?, ?it/s]"
      ]
     },
     "metadata": {},
     "output_type": "display_data"
    },
    {
     "data": {
      "application/vnd.jupyter.widget-view+json": {
       "model_id": "e98a03aa1e8a497389c8fca57e154a15",
       "version_major": 2,
       "version_minor": 0
      },
      "text/plain": [
       "Times:   0%|          | 0/4 [00:00<?, ?it/s]"
      ]
     },
     "metadata": {},
     "output_type": "display_data"
    },
    {
     "data": {
      "application/vnd.jupyter.widget-view+json": {
       "model_id": "04f35de46e19489d88c3e45f86110252",
       "version_major": 2,
       "version_minor": 0
      },
      "text/plain": [
       "Levels:   0%|          | 0/131 [00:00<?, ?it/s]"
      ]
     },
     "metadata": {},
     "output_type": "display_data"
    },
    {
     "data": {
      "application/vnd.jupyter.widget-view+json": {
       "model_id": "c1dcc5003a72454c87c367df6fea2678",
       "version_major": 2,
       "version_minor": 0
      },
      "text/plain": [
       "Levels:   0%|          | 0/131 [00:00<?, ?it/s]"
      ]
     },
     "metadata": {},
     "output_type": "display_data"
    },
    {
     "data": {
      "application/vnd.jupyter.widget-view+json": {
       "model_id": "52e3d5cfa3ef44418c4b8bcd4746ec3a",
       "version_major": 2,
       "version_minor": 0
      },
      "text/plain": [
       "Levels:   0%|          | 0/131 [00:00<?, ?it/s]"
      ]
     },
     "metadata": {},
     "output_type": "display_data"
    },
    {
     "data": {
      "application/vnd.jupyter.widget-view+json": {
       "model_id": "1f5bca81e63e436c9f3941ad99bc7e07",
       "version_major": 2,
       "version_minor": 0
      },
      "text/plain": [
       "Levels:   0%|          | 0/131 [00:00<?, ?it/s]"
      ]
     },
     "metadata": {},
     "output_type": "display_data"
    },
    {
     "data": {
      "application/vnd.jupyter.widget-view+json": {
       "model_id": "4a1af115a87e4f7a9440ea194d8cea9e",
       "version_major": 2,
       "version_minor": 0
      },
      "text/plain": [
       "Cycles:   0%|          | 0/1 [00:00<?, ?it/s]"
      ]
     },
     "metadata": {},
     "output_type": "display_data"
    },
    {
     "data": {
      "application/vnd.jupyter.widget-view+json": {
       "model_id": "6533e23c7fb549f6a10788110a45c203",
       "version_major": 2,
       "version_minor": 0
      },
      "text/plain": [
       "Times:   0%|          | 0/4 [00:00<?, ?it/s]"
      ]
     },
     "metadata": {},
     "output_type": "display_data"
    },
    {
     "data": {
      "application/vnd.jupyter.widget-view+json": {
       "model_id": "ab163dff4cd6455380ac08a35d36ffff",
       "version_major": 2,
       "version_minor": 0
      },
      "text/plain": [
       "Levels:   0%|          | 0/131 [00:00<?, ?it/s]"
      ]
     },
     "metadata": {},
     "output_type": "display_data"
    },
    {
     "data": {
      "application/vnd.jupyter.widget-view+json": {
       "model_id": "b3248dbdccbc4e989456d96c1518a3d1",
       "version_major": 2,
       "version_minor": 0
      },
      "text/plain": [
       "Levels:   0%|          | 0/131 [00:00<?, ?it/s]"
      ]
     },
     "metadata": {},
     "output_type": "display_data"
    },
    {
     "data": {
      "application/vnd.jupyter.widget-view+json": {
       "model_id": "821b9a75231a490fa72a452756c92e1e",
       "version_major": 2,
       "version_minor": 0
      },
      "text/plain": [
       "Levels:   0%|          | 0/131 [00:00<?, ?it/s]"
      ]
     },
     "metadata": {},
     "output_type": "display_data"
    },
    {
     "data": {
      "application/vnd.jupyter.widget-view+json": {
       "model_id": "bd95409a49484836a66ac8b63a44238e",
       "version_major": 2,
       "version_minor": 0
      },
      "text/plain": [
       "Levels:   0%|          | 0/131 [00:00<?, ?it/s]"
      ]
     },
     "metadata": {},
     "output_type": "display_data"
    },
    {
     "data": {
      "application/vnd.jupyter.widget-view+json": {
       "model_id": "c7962e26c89444d0b286cc0997adba0a",
       "version_major": 2,
       "version_minor": 0
      },
      "text/plain": [
       "Domains:   0%|          | 0/2 [00:00<?, ?it/s]"
      ]
     },
     "metadata": {},
     "output_type": "display_data"
    },
    {
     "data": {
      "application/vnd.jupyter.widget-view+json": {
       "model_id": "9010354502da4e3a9a635fdd8171b938",
       "version_major": 2,
       "version_minor": 0
      },
      "text/plain": [
       "Cycles:   0%|          | 0/1 [00:00<?, ?it/s]"
      ]
     },
     "metadata": {},
     "output_type": "display_data"
    },
    {
     "data": {
      "application/vnd.jupyter.widget-view+json": {
       "model_id": "daae7e3d1d4f4c7c8f06d3916f6e82ea",
       "version_major": 2,
       "version_minor": 0
      },
      "text/plain": [
       "Times:   0%|          | 0/4 [00:00<?, ?it/s]"
      ]
     },
     "metadata": {},
     "output_type": "display_data"
    },
    {
     "data": {
      "application/vnd.jupyter.widget-view+json": {
       "model_id": "98529d7cbec1482fb3a0c2525f28ceff",
       "version_major": 2,
       "version_minor": 0
      },
      "text/plain": [
       "Levels:   0%|          | 0/131 [00:00<?, ?it/s]"
      ]
     },
     "metadata": {},
     "output_type": "display_data"
    },
    {
     "data": {
      "application/vnd.jupyter.widget-view+json": {
       "model_id": "ddf89c9867204a558048c9532066cdc7",
       "version_major": 2,
       "version_minor": 0
      },
      "text/plain": [
       "Levels:   0%|          | 0/131 [00:00<?, ?it/s]"
      ]
     },
     "metadata": {},
     "output_type": "display_data"
    },
    {
     "data": {
      "application/vnd.jupyter.widget-view+json": {
       "model_id": "71e089e6ea42436686df0954f692d7c2",
       "version_major": 2,
       "version_minor": 0
      },
      "text/plain": [
       "Levels:   0%|          | 0/131 [00:00<?, ?it/s]"
      ]
     },
     "metadata": {},
     "output_type": "display_data"
    },
    {
     "data": {
      "application/vnd.jupyter.widget-view+json": {
       "model_id": "4bc976c5a0dc4b93b8d476db299e5078",
       "version_major": 2,
       "version_minor": 0
      },
      "text/plain": [
       "Levels:   0%|          | 0/131 [00:00<?, ?it/s]"
      ]
     },
     "metadata": {},
     "output_type": "display_data"
    },
    {
     "data": {
      "application/vnd.jupyter.widget-view+json": {
       "model_id": "36190aadec63476bb3317e72d41992c3",
       "version_major": 2,
       "version_minor": 0
      },
      "text/plain": [
       "Cycles:   0%|          | 0/1 [00:00<?, ?it/s]"
      ]
     },
     "metadata": {},
     "output_type": "display_data"
    },
    {
     "data": {
      "application/vnd.jupyter.widget-view+json": {
       "model_id": "2b5c4570d392417db0826f8a46bf3c50",
       "version_major": 2,
       "version_minor": 0
      },
      "text/plain": [
       "Times:   0%|          | 0/4 [00:00<?, ?it/s]"
      ]
     },
     "metadata": {},
     "output_type": "display_data"
    },
    {
     "data": {
      "application/vnd.jupyter.widget-view+json": {
       "model_id": "00c0c44a9db746828602527046922717",
       "version_major": 2,
       "version_minor": 0
      },
      "text/plain": [
       "Levels:   0%|          | 0/131 [00:00<?, ?it/s]"
      ]
     },
     "metadata": {},
     "output_type": "display_data"
    },
    {
     "data": {
      "application/vnd.jupyter.widget-view+json": {
       "model_id": "1264b9cd6ad247e19f4d6322a19d490e",
       "version_major": 2,
       "version_minor": 0
      },
      "text/plain": [
       "Levels:   0%|          | 0/131 [00:00<?, ?it/s]"
      ]
     },
     "metadata": {},
     "output_type": "display_data"
    },
    {
     "data": {
      "application/vnd.jupyter.widget-view+json": {
       "model_id": "fd3618ba550c4fa6983fd7d10cee34c6",
       "version_major": 2,
       "version_minor": 0
      },
      "text/plain": [
       "Levels:   0%|          | 0/131 [00:00<?, ?it/s]"
      ]
     },
     "metadata": {},
     "output_type": "display_data"
    },
    {
     "data": {
      "application/vnd.jupyter.widget-view+json": {
       "model_id": "2f9f9cfde24546e2bd0799d2aee61fd4",
       "version_major": 2,
       "version_minor": 0
      },
      "text/plain": [
       "Levels:   0%|          | 0/131 [00:00<?, ?it/s]"
      ]
     },
     "metadata": {},
     "output_type": "display_data"
    },
    {
     "data": {
      "application/vnd.jupyter.widget-view+json": {
       "model_id": "eca3d2ba2872426fbcd4ca641cdd70eb",
       "version_major": 2,
       "version_minor": 0
      },
      "text/plain": [
       "Domains:   0%|          | 0/2 [00:00<?, ?it/s]"
      ]
     },
     "metadata": {},
     "output_type": "display_data"
    },
    {
     "data": {
      "application/vnd.jupyter.widget-view+json": {
       "model_id": "77ce855121eb4c5e8c9a17304aaba058",
       "version_major": 2,
       "version_minor": 0
      },
      "text/plain": [
       "Cycles:   0%|          | 0/1 [00:00<?, ?it/s]"
      ]
     },
     "metadata": {},
     "output_type": "display_data"
    },
    {
     "data": {
      "application/vnd.jupyter.widget-view+json": {
       "model_id": "5e9f73766238438d8d3b19f96bd3d82f",
       "version_major": 2,
       "version_minor": 0
      },
      "text/plain": [
       "Times:   0%|          | 0/4 [00:00<?, ?it/s]"
      ]
     },
     "metadata": {},
     "output_type": "display_data"
    },
    {
     "data": {
      "application/vnd.jupyter.widget-view+json": {
       "model_id": "e8235eedfd814d2c9d40e01eb0d56921",
       "version_major": 2,
       "version_minor": 0
      },
      "text/plain": [
       "Levels:   0%|          | 0/131 [00:00<?, ?it/s]"
      ]
     },
     "metadata": {},
     "output_type": "display_data"
    },
    {
     "data": {
      "application/vnd.jupyter.widget-view+json": {
       "model_id": "734e9b22d6574a1aa5a8157ca233c3cb",
       "version_major": 2,
       "version_minor": 0
      },
      "text/plain": [
       "Levels:   0%|          | 0/131 [00:00<?, ?it/s]"
      ]
     },
     "metadata": {},
     "output_type": "display_data"
    },
    {
     "data": {
      "application/vnd.jupyter.widget-view+json": {
       "model_id": "a4ddf08db8d543a3a04f39ec3917ddbe",
       "version_major": 2,
       "version_minor": 0
      },
      "text/plain": [
       "Levels:   0%|          | 0/131 [00:00<?, ?it/s]"
      ]
     },
     "metadata": {},
     "output_type": "display_data"
    },
    {
     "data": {
      "application/vnd.jupyter.widget-view+json": {
       "model_id": "ff152466158e4bdcad009a7dca31a51b",
       "version_major": 2,
       "version_minor": 0
      },
      "text/plain": [
       "Levels:   0%|          | 0/131 [00:00<?, ?it/s]"
      ]
     },
     "metadata": {},
     "output_type": "display_data"
    },
    {
     "data": {
      "application/vnd.jupyter.widget-view+json": {
       "model_id": "a4f2f98a9ced46b5b94c1d7c3af89d52",
       "version_major": 2,
       "version_minor": 0
      },
      "text/plain": [
       "Cycles:   0%|          | 0/1 [00:00<?, ?it/s]"
      ]
     },
     "metadata": {},
     "output_type": "display_data"
    },
    {
     "data": {
      "application/vnd.jupyter.widget-view+json": {
       "model_id": "3edb27637d5841298457040c3af50910",
       "version_major": 2,
       "version_minor": 0
      },
      "text/plain": [
       "Times:   0%|          | 0/4 [00:00<?, ?it/s]"
      ]
     },
     "metadata": {},
     "output_type": "display_data"
    },
    {
     "data": {
      "application/vnd.jupyter.widget-view+json": {
       "model_id": "26198644164743c091c0c5a69007c5e1",
       "version_major": 2,
       "version_minor": 0
      },
      "text/plain": [
       "Levels:   0%|          | 0/131 [00:00<?, ?it/s]"
      ]
     },
     "metadata": {},
     "output_type": "display_data"
    },
    {
     "data": {
      "application/vnd.jupyter.widget-view+json": {
       "model_id": "c567770550b24fc48c366f63de5cdb1a",
       "version_major": 2,
       "version_minor": 0
      },
      "text/plain": [
       "Levels:   0%|          | 0/131 [00:00<?, ?it/s]"
      ]
     },
     "metadata": {},
     "output_type": "display_data"
    },
    {
     "data": {
      "application/vnd.jupyter.widget-view+json": {
       "model_id": "b8d1bafc5f0e4162b5457ba70e4b7347",
       "version_major": 2,
       "version_minor": 0
      },
      "text/plain": [
       "Levels:   0%|          | 0/131 [00:00<?, ?it/s]"
      ]
     },
     "metadata": {},
     "output_type": "display_data"
    },
    {
     "data": {
      "application/vnd.jupyter.widget-view+json": {
       "model_id": "22909c114e1547abb30a32bf15b6b18a",
       "version_major": 2,
       "version_minor": 0
      },
      "text/plain": [
       "Levels:   0%|          | 0/131 [00:00<?, ?it/s]"
      ]
     },
     "metadata": {},
     "output_type": "display_data"
    },
    {
     "data": {
      "application/vnd.jupyter.widget-view+json": {
       "model_id": "ea4bf6e892cf4ac3b1689a387fd6248e",
       "version_major": 2,
       "version_minor": 0
      },
      "text/plain": [
       "Domains:   0%|          | 0/2 [00:00<?, ?it/s]"
      ]
     },
     "metadata": {},
     "output_type": "display_data"
    },
    {
     "data": {
      "application/vnd.jupyter.widget-view+json": {
       "model_id": "f7a7c91fd7c643ecb706e74b7046ed5e",
       "version_major": 2,
       "version_minor": 0
      },
      "text/plain": [
       "Cycles:   0%|          | 0/1 [00:00<?, ?it/s]"
      ]
     },
     "metadata": {},
     "output_type": "display_data"
    },
    {
     "data": {
      "application/vnd.jupyter.widget-view+json": {
       "model_id": "7e250764501f48adb26209dceccc3229",
       "version_major": 2,
       "version_minor": 0
      },
      "text/plain": [
       "Times:   0%|          | 0/4 [00:00<?, ?it/s]"
      ]
     },
     "metadata": {},
     "output_type": "display_data"
    },
    {
     "data": {
      "application/vnd.jupyter.widget-view+json": {
       "model_id": "84659606875540909faf9a9cd5410211",
       "version_major": 2,
       "version_minor": 0
      },
      "text/plain": [
       "Levels:   0%|          | 0/131 [00:00<?, ?it/s]"
      ]
     },
     "metadata": {},
     "output_type": "display_data"
    },
    {
     "data": {
      "application/vnd.jupyter.widget-view+json": {
       "model_id": "b548a21cc6664d19a0a7ce2bbfe0ee8f",
       "version_major": 2,
       "version_minor": 0
      },
      "text/plain": [
       "Levels:   0%|          | 0/131 [00:00<?, ?it/s]"
      ]
     },
     "metadata": {},
     "output_type": "display_data"
    },
    {
     "data": {
      "application/vnd.jupyter.widget-view+json": {
       "model_id": "d499ac86b5cd4babb09e9d07877e77f9",
       "version_major": 2,
       "version_minor": 0
      },
      "text/plain": [
       "Levels:   0%|          | 0/131 [00:00<?, ?it/s]"
      ]
     },
     "metadata": {},
     "output_type": "display_data"
    },
    {
     "data": {
      "application/vnd.jupyter.widget-view+json": {
       "model_id": "3024d7d7a685497992118962e2148890",
       "version_major": 2,
       "version_minor": 0
      },
      "text/plain": [
       "Levels:   0%|          | 0/131 [00:00<?, ?it/s]"
      ]
     },
     "metadata": {},
     "output_type": "display_data"
    },
    {
     "data": {
      "application/vnd.jupyter.widget-view+json": {
       "model_id": "ca70bc8d4058456a90ac65a63e3dc000",
       "version_major": 2,
       "version_minor": 0
      },
      "text/plain": [
       "Cycles:   0%|          | 0/1 [00:00<?, ?it/s]"
      ]
     },
     "metadata": {},
     "output_type": "display_data"
    },
    {
     "data": {
      "application/vnd.jupyter.widget-view+json": {
       "model_id": "e8a71028b2e64377822c10b6fbfa16b0",
       "version_major": 2,
       "version_minor": 0
      },
      "text/plain": [
       "Times:   0%|          | 0/4 [00:00<?, ?it/s]"
      ]
     },
     "metadata": {},
     "output_type": "display_data"
    },
    {
     "data": {
      "application/vnd.jupyter.widget-view+json": {
       "model_id": "02e3297e1b094cb98f5074afeddf17de",
       "version_major": 2,
       "version_minor": 0
      },
      "text/plain": [
       "Levels:   0%|          | 0/131 [00:00<?, ?it/s]"
      ]
     },
     "metadata": {},
     "output_type": "display_data"
    },
    {
     "data": {
      "application/vnd.jupyter.widget-view+json": {
       "model_id": "c4d28cf71a6c49e7a52abb649c204642",
       "version_major": 2,
       "version_minor": 0
      },
      "text/plain": [
       "Levels:   0%|          | 0/131 [00:00<?, ?it/s]"
      ]
     },
     "metadata": {},
     "output_type": "display_data"
    },
    {
     "data": {
      "application/vnd.jupyter.widget-view+json": {
       "model_id": "0378b4ddc67143e2aa7d2927c15da4c4",
       "version_major": 2,
       "version_minor": 0
      },
      "text/plain": [
       "Levels:   0%|          | 0/131 [00:00<?, ?it/s]"
      ]
     },
     "metadata": {},
     "output_type": "display_data"
    },
    {
     "data": {
      "application/vnd.jupyter.widget-view+json": {
       "model_id": "cbd976b41ba54ec59106082bb9a24b3f",
       "version_major": 2,
       "version_minor": 0
      },
      "text/plain": [
       "Levels:   0%|          | 0/131 [00:00<?, ?it/s]"
      ]
     },
     "metadata": {},
     "output_type": "display_data"
    },
    {
     "data": {
      "application/vnd.jupyter.widget-view+json": {
       "model_id": "dbb6841020bd4ca3ab0d725d73d41bd6",
       "version_major": 2,
       "version_minor": 0
      },
      "text/plain": [
       "Domains:   0%|          | 0/2 [00:00<?, ?it/s]"
      ]
     },
     "metadata": {},
     "output_type": "display_data"
    },
    {
     "data": {
      "application/vnd.jupyter.widget-view+json": {
       "model_id": "69658e793a7d442daab092dd221eba3d",
       "version_major": 2,
       "version_minor": 0
      },
      "text/plain": [
       "Cycles:   0%|          | 0/1 [00:00<?, ?it/s]"
      ]
     },
     "metadata": {},
     "output_type": "display_data"
    },
    {
     "data": {
      "application/vnd.jupyter.widget-view+json": {
       "model_id": "9faac371b8a241b6b312bc77bc282b9c",
       "version_major": 2,
       "version_minor": 0
      },
      "text/plain": [
       "Times:   0%|          | 0/4 [00:00<?, ?it/s]"
      ]
     },
     "metadata": {},
     "output_type": "display_data"
    },
    {
     "data": {
      "application/vnd.jupyter.widget-view+json": {
       "model_id": "3dd97ed813ed4cbdb9e8c7635f835af1",
       "version_major": 2,
       "version_minor": 0
      },
      "text/plain": [
       "Levels:   0%|          | 0/131 [00:00<?, ?it/s]"
      ]
     },
     "metadata": {},
     "output_type": "display_data"
    },
    {
     "data": {
      "application/vnd.jupyter.widget-view+json": {
       "model_id": "14b41b7fa6054499b3c5228f8a034f7a",
       "version_major": 2,
       "version_minor": 0
      },
      "text/plain": [
       "Levels:   0%|          | 0/131 [00:00<?, ?it/s]"
      ]
     },
     "metadata": {},
     "output_type": "display_data"
    },
    {
     "data": {
      "application/vnd.jupyter.widget-view+json": {
       "model_id": "e7b42b7502a24879bf26a4543a6011be",
       "version_major": 2,
       "version_minor": 0
      },
      "text/plain": [
       "Levels:   0%|          | 0/131 [00:00<?, ?it/s]"
      ]
     },
     "metadata": {},
     "output_type": "display_data"
    },
    {
     "data": {
      "application/vnd.jupyter.widget-view+json": {
       "model_id": "4cc54e944bea40398b25f01500b20919",
       "version_major": 2,
       "version_minor": 0
      },
      "text/plain": [
       "Levels:   0%|          | 0/131 [00:00<?, ?it/s]"
      ]
     },
     "metadata": {},
     "output_type": "display_data"
    },
    {
     "data": {
      "application/vnd.jupyter.widget-view+json": {
       "model_id": "0cbb2446bf83464b9bd1b7e3835b81f8",
       "version_major": 2,
       "version_minor": 0
      },
      "text/plain": [
       "Cycles:   0%|          | 0/1 [00:00<?, ?it/s]"
      ]
     },
     "metadata": {},
     "output_type": "display_data"
    },
    {
     "data": {
      "application/vnd.jupyter.widget-view+json": {
       "model_id": "e47455184f93416d907d1c4bc87dadaf",
       "version_major": 2,
       "version_minor": 0
      },
      "text/plain": [
       "Times:   0%|          | 0/4 [00:00<?, ?it/s]"
      ]
     },
     "metadata": {},
     "output_type": "display_data"
    },
    {
     "data": {
      "application/vnd.jupyter.widget-view+json": {
       "model_id": "ef87eac747e44de09293a5a0a8276c88",
       "version_major": 2,
       "version_minor": 0
      },
      "text/plain": [
       "Levels:   0%|          | 0/131 [00:00<?, ?it/s]"
      ]
     },
     "metadata": {},
     "output_type": "display_data"
    },
    {
     "data": {
      "application/vnd.jupyter.widget-view+json": {
       "model_id": "804e8dd38a4d4e728829a217767c3858",
       "version_major": 2,
       "version_minor": 0
      },
      "text/plain": [
       "Levels:   0%|          | 0/131 [00:00<?, ?it/s]"
      ]
     },
     "metadata": {},
     "output_type": "display_data"
    },
    {
     "data": {
      "application/vnd.jupyter.widget-view+json": {
       "model_id": "86444fd3f1284bc0a37dbb33d8062a06",
       "version_major": 2,
       "version_minor": 0
      },
      "text/plain": [
       "Levels:   0%|          | 0/131 [00:00<?, ?it/s]"
      ]
     },
     "metadata": {},
     "output_type": "display_data"
    },
    {
     "data": {
      "application/vnd.jupyter.widget-view+json": {
       "model_id": "b005a291f7ec4527b2987de224583992",
       "version_major": 2,
       "version_minor": 0
      },
      "text/plain": [
       "Levels:   0%|          | 0/131 [00:00<?, ?it/s]"
      ]
     },
     "metadata": {},
     "output_type": "display_data"
    }
   ],
   "source": [
    "from APR import wrf_extract_APR\n",
    "\n",
    "n_exp_name = 9\n",
    "wrf_extract_APR(data_library_names=['cpex']*n_exp_name,\n",
    "                dir_cases=['/CPEX/07_CV_RF02_AEW03']*n_exp_name,\n",
    "                case_names=['AEW03']*n_exp_name,\n",
    "                exp_names=['CONV', 'CTRL', 'DAWN', 'DAWN_DS', 'DAWN_HALO', 'DAWN_HALO_DS', 'DS', 'HALO', 'HALO_DS'])"
   ]
  },
  {
   "cell_type": "code",
   "execution_count": null,
   "id": "e288c1f0",
   "metadata": {},
   "outputs": [],
   "source": []
  }
 ],
 "metadata": {
  "kernelspec": {
   "display_name": "Python 3 (ipykernel)",
   "language": "python",
   "name": "python3"
  },
  "language_info": {
   "codemirror_mode": {
    "name": "ipython",
    "version": 3
   },
   "file_extension": ".py",
   "mimetype": "text/x-python",
   "name": "python",
   "nbconvert_exporter": "python",
   "pygments_lexer": "ipython3",
   "version": "3.9.18"
  }
 },
 "nbformat": 4,
 "nbformat_minor": 5
}
