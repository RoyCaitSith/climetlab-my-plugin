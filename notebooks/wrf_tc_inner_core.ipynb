{
 "cells": [
  {
   "cell_type": "markdown",
   "id": "524de3a4",
   "metadata": {},
   "source": [
    "# Extract WRF Analysis Increment and Forecasts"
   ]
  },
  {
   "cell_type": "code",
   "execution_count": null,
   "id": "e7dfb7a5",
   "metadata": {},
   "outputs": [],
   "source": [
    "# from wrf_tc_inner_core import wrf_tc_inner_core_6h\n",
    "\n",
    "# n_exp_names = 8\n",
    "# data_library_names = ['goes']*n_exp_names\n",
    "# dir_cases = ['/GOES-R-observation-error-covariance/01_Laura']*n_exp_names\n",
    "# case_names = ['Laura']*n_exp_names\n",
    "# exp_names = ['NPB', 'NPB_ASRBC4CLD_CLD_08', 'NPB_ASRBC4CLD_CLD_09', 'NPB_ASRBC4CLD_CLD_10', 'NPB_ASRBC4CLD_CLD_ALL', \\\n",
    "#              'NPB_ASRBC4CLD_08', 'NPB_ASRBC4CLD_09', 'NPB_ASRBC4CLD_10']\n",
    "\n",
    "# wrf_tc_inner_core_6h(data_library_names=data_library_names,\n",
    "#                      dir_cases=dir_cases,\n",
    "#                      case_names=case_names,\n",
    "#                      exp_names=exp_names,\n",
    "#                      da_cycle=12,                  \n",
    "#                      variables=['u',     'v',     't',     'q',     'rh',     \n",
    "#                                 'u_anl', 'v_anl', 't_anl', 'q_anl', 'rh_anl',\n",
    "#                                 'u_inc', 'v_inc', 't_inc', 'q_inc', 'rh_inc'])\n",
    "#                     #  variables=['qc',     'qr',     'qg',     'qs',     'qi',\n",
    "#                     #             'qc_anl', 'qr_anl', 'qg_anl', 'qs_anl', 'qi_anl',\n",
    "#                     #             'qc_inc', 'qr_inc', 'qg_inc', 'qs_inc', 'qi_inc'])"
   ]
  },
  {
   "cell_type": "code",
   "execution_count": null,
   "metadata": {},
   "outputs": [],
   "source": [
    "import numpy as np\n",
    "import colormaps as cmaps\n",
    "from datetime import datetime, timedelta\n",
    "from wrf_tc_inner_core import draw_wrf_tc_inner_core_6h\n",
    "\n",
    "n_exp_names = 7\n",
    "data_library_names = ['goes']*n_exp_names\n",
    "dir_cases = ['/GOES-R-observation-error-covariance/02_Ida']*n_exp_names\n",
    "case_names = ['Ida']*n_exp_names\n",
    "exp_names = ['NPB_ASRBC4CLD_CLD_08', 'NPB_ASRBC4CLD_CLD_09', 'NPB_ASRBC4CLD_CLD_10', 'NPB_ASRBC4CLD_CLD_ALL', \\\n",
    "             'NPB_ASRBC4CLD_08', 'NPB_ASRBC4CLD_09', 'NPB_ASRBC4CLD_10']\n",
    "\n",
    "stime = datetime(2021, 8, 26, 12, 0, 0, 0)\n",
    "etime = datetime(2021, 8, 26, 12, 0, 0, 0)\n",
    "\n",
    "time_now = stime\n",
    "while time_now <= etime:\n",
    "    time_now_int = int(time_now.strftime('%Y%m%d%H%M%S'))\n",
    "    print(time_now_int)\n",
    "    draw_wrf_tc_inner_core_6h(data_library_names=data_library_names,\n",
    "                              dir_cases=dir_cases,\n",
    "                              case_names=case_names,\n",
    "                              exp_names=exp_names,\n",
    "                              contourf_var='q_inc',\n",
    "                              contourf_labels=[f'{float(i/1):.2f}' for i in np.arange(-0.5, 0.51, 0.1)],\n",
    "                              contourf_cmap=cmaps.vik,\n",
    "                              domains=['d01'], da_cycle=12, var_time=time_now_int)\n",
    "    time_now = time_now + timedelta(hours=6.0)"
   ]
  },
  {
   "cell_type": "code",
   "execution_count": null,
   "metadata": {},
   "outputs": [],
   "source": []
  }
 ],
 "metadata": {
  "kernelspec": {
   "display_name": "Python 3 (ipykernel)",
   "language": "python",
   "name": "python3"
  },
  "language_info": {
   "codemirror_mode": {
    "name": "ipython",
    "version": 3
   },
   "file_extension": ".py",
   "mimetype": "text/x-python",
   "name": "python",
   "nbconvert_exporter": "python",
   "pygments_lexer": "ipython3",
   "version": "3.9.18"
  }
 },
 "nbformat": 4,
 "nbformat_minor": 5
}
