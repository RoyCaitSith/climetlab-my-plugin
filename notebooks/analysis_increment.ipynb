{
 "cells": [
  {
   "attachments": {},
   "cell_type": "markdown",
   "id": "bc3f79e9-639f-49e4-9a58-4af3c47a525a",
   "metadata": {},
   "source": [
    "# Calculate Analysis Increment"
   ]
  },
  {
   "cell_type": "code",
   "execution_count": null,
   "id": "150e3456-c4fd-4809-831e-859071d6ae60",
   "metadata": {},
   "outputs": [],
   "source": [
    "# from analysis_increment import calculate_analysis_increment\n",
    "\n",
    "# data_library_names = ['cpex']*3\n",
    "# dir_cases = ['/08_CPEX/01_CV_RF07_AEW06_IAN']*3\n",
    "# case_names = ['Ian']*3\n",
    "# exp_names = ['CTRL', 'CONV', 'DAWN']\n",
    "\n",
    "# calculate_analysis_increment(data_library_names=data_library_names,\n",
    "#                              dir_cases=dir_cases,\n",
    "#                              case_names=case_names,\n",
    "#                              exp_names=exp_names,\n",
    "#                              variables=['ua', 'va', 'temp', 'QVAPOR'])"
   ]
  },
  {
   "cell_type": "code",
   "execution_count": null,
   "id": "3a156bf7-66e0-48a5-abd4-75f807b5b00f",
   "metadata": {},
   "outputs": [],
   "source": [
    "from analysis_increment import draw_analysis_increment\n",
    "\n",
    "data_library_names = ['cpex']*3\n",
    "dir_cases = ['/08_CPEX/01_CV_RF07_AEW06_IAN']*3\n",
    "case_names = ['Ian']*3\n",
    "exp_names = ['CTRL', 'CONV', 'DAWN']\n",
    "\n",
    "draw_analysis_increment(data_library_names=data_library_names,\n",
    "                        dir_cases=dir_cases,\n",
    "                        case_names=case_names,\n",
    "                        exp_names=exp_names,\n",
    "                        variables=['ua', 'va', 'temp', 'QVAPOR'])"
   ]
  },
  {
   "cell_type": "code",
   "execution_count": null,
   "id": "6bb05e2e",
   "metadata": {},
   "outputs": [],
   "source": []
  }
 ],
 "metadata": {
  "kernelspec": {
   "display_name": "Python 3 (ipykernel)",
   "language": "python",
   "name": "python3"
  },
  "language_info": {
   "codemirror_mode": {
    "name": "ipython",
    "version": 3
   },
   "file_extension": ".py",
   "mimetype": "text/x-python",
   "name": "python",
   "nbconvert_exporter": "python",
   "pygments_lexer": "ipython3",
   "version": "3.10.9"
  }
 },
 "nbformat": 4,
 "nbformat_minor": 5
}
