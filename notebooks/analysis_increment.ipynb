{
 "cells": [
  {
   "attachments": {},
   "cell_type": "markdown",
   "id": "bc3f79e9-639f-49e4-9a58-4af3c47a525a",
   "metadata": {},
   "source": [
    "# Calculate Analysis Increment"
   ]
  },
  {
   "cell_type": "code",
   "execution_count": null,
   "id": "150e3456-c4fd-4809-831e-859071d6ae60",
   "metadata": {},
   "outputs": [],
   "source": [
    "from analysis_increment import calculate_analysis_increment\n",
    "\n",
    "data_library_names = ['cpex']*4\n",
    "dir_cases = ['/08_CPEX/03_AW_RF02_AEW02']*4\n",
    "case_names = ['AEW02']*4\n",
    "exp_names = ['CTRL', 'CONV', 'DAWN', 'HALO']\n",
    "\n",
    "calculate_analysis_increment(data_library_names=data_library_names,\n",
    "                             dir_cases=dir_cases,\n",
    "                             case_names=case_names,\n",
    "                             exp_names=exp_names,\n",
    "                             variables=['ua', 'va', 'temp', 'QVAPOR'])"
   ]
  },
  {
   "cell_type": "code",
   "execution_count": 4,
   "id": "3a156bf7-66e0-48a5-abd4-75f807b5b00f",
   "metadata": {},
   "outputs": [
    {
     "data": {
      "application/vnd.jupyter.widget-view+json": {
       "model_id": "e498a3ca397443459c32c881f650e729",
       "version_major": 2,
       "version_minor": 0
      },
      "text/plain": [
       "Cases: 0/4 files | 00:00<?"
      ]
     },
     "metadata": {},
     "output_type": "display_data"
    },
    {
     "data": {
      "application/vnd.jupyter.widget-view+json": {
       "model_id": "3d0db21ab4724f57b4b75f9b9927c5c1",
       "version_major": 2,
       "version_minor": 0
      },
      "text/plain": [
       "DA Domains:   0%|          | 0/2 [00:00<?, ?it/s]"
      ]
     },
     "metadata": {},
     "output_type": "display_data"
    },
    {
     "data": {
      "application/vnd.jupyter.widget-view+json": {
       "model_id": "5d2ab45d524743e5b7b7e4fb0377dd50",
       "version_major": 2,
       "version_minor": 0
      },
      "text/plain": [
       "Variables:   0%|          | 0/4 [00:00<?, ?it/s]"
      ]
     },
     "metadata": {},
     "output_type": "display_data"
    },
    {
     "data": {
      "application/vnd.jupyter.widget-view+json": {
       "model_id": "dcef93f686574332ab81710b316c0f09",
       "version_major": 2,
       "version_minor": 0
      },
      "text/plain": [
       "Variables:   0%|          | 0/4 [00:00<?, ?it/s]"
      ]
     },
     "metadata": {},
     "output_type": "display_data"
    },
    {
     "data": {
      "application/vnd.jupyter.widget-view+json": {
       "model_id": "69bd32b862c14229b8f3e2ceb4b4f2eb",
       "version_major": 2,
       "version_minor": 0
      },
      "text/plain": [
       "DA Domains:   0%|          | 0/2 [00:00<?, ?it/s]"
      ]
     },
     "metadata": {},
     "output_type": "display_data"
    },
    {
     "data": {
      "application/vnd.jupyter.widget-view+json": {
       "model_id": "6939287090e341708836ba1f6250781f",
       "version_major": 2,
       "version_minor": 0
      },
      "text/plain": [
       "Variables:   0%|          | 0/4 [00:00<?, ?it/s]"
      ]
     },
     "metadata": {},
     "output_type": "display_data"
    },
    {
     "data": {
      "application/vnd.jupyter.widget-view+json": {
       "model_id": "1df058875e234ac885c67102b003c60a",
       "version_major": 2,
       "version_minor": 0
      },
      "text/plain": [
       "Variables:   0%|          | 0/4 [00:00<?, ?it/s]"
      ]
     },
     "metadata": {},
     "output_type": "display_data"
    },
    {
     "data": {
      "application/vnd.jupyter.widget-view+json": {
       "model_id": "1c9485b51d3f43edb5ac3bcce5e712b6",
       "version_major": 2,
       "version_minor": 0
      },
      "text/plain": [
       "DA Domains:   0%|          | 0/2 [00:00<?, ?it/s]"
      ]
     },
     "metadata": {},
     "output_type": "display_data"
    },
    {
     "data": {
      "application/vnd.jupyter.widget-view+json": {
       "model_id": "927059afcdf542868099f8d6da49a88b",
       "version_major": 2,
       "version_minor": 0
      },
      "text/plain": [
       "Variables:   0%|          | 0/4 [00:00<?, ?it/s]"
      ]
     },
     "metadata": {},
     "output_type": "display_data"
    },
    {
     "data": {
      "application/vnd.jupyter.widget-view+json": {
       "model_id": "a92dd640cee04942b07e5d043cab669b",
       "version_major": 2,
       "version_minor": 0
      },
      "text/plain": [
       "Variables:   0%|          | 0/4 [00:00<?, ?it/s]"
      ]
     },
     "metadata": {},
     "output_type": "display_data"
    },
    {
     "data": {
      "application/vnd.jupyter.widget-view+json": {
       "model_id": "0c23a2026b234b8990b24f3efc851b5e",
       "version_major": 2,
       "version_minor": 0
      },
      "text/plain": [
       "DA Domains:   0%|          | 0/2 [00:00<?, ?it/s]"
      ]
     },
     "metadata": {},
     "output_type": "display_data"
    },
    {
     "data": {
      "application/vnd.jupyter.widget-view+json": {
       "model_id": "90ec3c9da58a4a98ad72fc389d1377ac",
       "version_major": 2,
       "version_minor": 0
      },
      "text/plain": [
       "Variables:   0%|          | 0/4 [00:00<?, ?it/s]"
      ]
     },
     "metadata": {},
     "output_type": "display_data"
    },
    {
     "data": {
      "application/vnd.jupyter.widget-view+json": {
       "model_id": "249de9046d114509a47d1bf1e5c8dc2a",
       "version_major": 2,
       "version_minor": 0
      },
      "text/plain": [
       "Variables:   0%|          | 0/4 [00:00<?, ?it/s]"
      ]
     },
     "metadata": {},
     "output_type": "display_data"
    }
   ],
   "source": [
    "from analysis_increment import draw_analysis_increment\n",
    "\n",
    "data_library_names = ['cpex']*4\n",
    "dir_cases = ['/08_CPEX/03_AW_RF02_AEW02']*4\n",
    "case_names = ['AEW02']*4\n",
    "exp_names = ['CTRL', 'CONV', 'DAWN', 'HALO']\n",
    "\n",
    "draw_analysis_increment(data_library_names=data_library_names,\n",
    "                        dir_cases=dir_cases,\n",
    "                        case_names=case_names,\n",
    "                        exp_names=exp_names,\n",
    "                        variables=['ua', 'va', 'temp', 'QVAPOR'])"
   ]
  },
  {
   "cell_type": "code",
   "execution_count": null,
   "id": "6bb05e2e",
   "metadata": {},
   "outputs": [],
   "source": []
  }
 ],
 "metadata": {
  "kernelspec": {
   "display_name": "Python 3 (ipykernel)",
   "language": "python",
   "name": "python3"
  },
  "language_info": {
   "codemirror_mode": {
    "name": "ipython",
    "version": 3
   },
   "file_extension": ".py",
   "mimetype": "text/x-python",
   "name": "python",
   "nbconvert_exporter": "python",
   "pygments_lexer": "ipython3",
   "version": "3.10.9"
  }
 },
 "nbformat": 4,
 "nbformat_minor": 5
}
