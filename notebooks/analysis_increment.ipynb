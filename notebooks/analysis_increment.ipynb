{
 "cells": [
  {
   "attachments": {},
   "cell_type": "markdown",
   "id": "bc3f79e9-639f-49e4-9a58-4af3c47a525a",
   "metadata": {},
   "source": [
    "# Calculate Analysis Increment"
   ]
  },
  {
   "cell_type": "code",
   "execution_count": null,
   "id": "150e3456-c4fd-4809-831e-859071d6ae60",
   "metadata": {},
   "outputs": [],
   "source": [
    "# from analysis_increment import calculate_analysis_increment\n",
    "\n",
    "# data_library_names = ['cpex']\n",
    "# dir_cases = ['/08_CPEX/01_CV_RF07_AEW06_IAN']\n",
    "# case_names = ['Ian']\n",
    "# exp_names = ['CONV']\n",
    "\n",
    "# calculate_analysis_increment(data_library_names=data_library_names, dir_cases=dir_cases, case_names=case_names, exp_names=exp_names)"
   ]
  },
  {
   "cell_type": "code",
   "execution_count": 1,
   "id": "3a156bf7-66e0-48a5-abd4-75f807b5b00f",
   "metadata": {},
   "outputs": [
    {
     "data": {
      "application/vnd.jupyter.widget-view+json": {
       "model_id": "2aa3a31bf6ec46359e28848c1f37c6f9",
       "version_major": 2,
       "version_minor": 0
      },
      "text/plain": [
       "Cases: 0/1 files | 00:00<?"
      ]
     },
     "metadata": {},
     "output_type": "display_data"
    },
    {
     "data": {
      "application/vnd.jupyter.widget-view+json": {
       "model_id": "37f362ebe2864308add7acb21a0732f4",
       "version_major": 2,
       "version_minor": 0
      },
      "text/plain": [
       "DA Domains:   0%|          | 0/2 [00:00<?, ?it/s]"
      ]
     },
     "metadata": {},
     "output_type": "display_data"
    },
    {
     "data": {
      "application/vnd.jupyter.widget-view+json": {
       "model_id": "eb57f6a416974d49a6cfbd184c96c0b2",
       "version_major": 2,
       "version_minor": 0
      },
      "text/plain": [
       "Variables:   0%|          | 0/4 [00:00<?, ?it/s]"
      ]
     },
     "metadata": {},
     "output_type": "display_data"
    },
    {
     "data": {
      "application/vnd.jupyter.widget-view+json": {
       "model_id": "5046da1c38ac49b18e21f0690e3991a5",
       "version_major": 2,
       "version_minor": 0
      },
      "text/plain": [
       "Variables:   0%|          | 0/4 [00:00<?, ?it/s]"
      ]
     },
     "metadata": {},
     "output_type": "display_data"
    }
   ],
   "source": [
    "from analysis_increment import draw_analysis_increment\n",
    "\n",
    "data_library_names = ['cpex']\n",
    "dir_cases = ['/08_CPEX/01_CV_RF07_AEW06_IAN']\n",
    "case_names = ['Ian']\n",
    "exp_names = ['CONV']\n",
    "\n",
    "draw_analysis_increment(data_library_names=data_library_names,\n",
    "                        dir_cases=dir_cases,\n",
    "                        case_names=case_names,\n",
    "                        exp_names=exp_names,\n",
    "                        variables=['ua', 'va', 'temp', 'QVAPOR'])\n"
   ]
  },
  {
   "cell_type": "code",
   "execution_count": null,
   "id": "6bb05e2e",
   "metadata": {},
   "outputs": [],
   "source": []
  }
 ],
 "metadata": {
  "kernelspec": {
   "display_name": "Python 3 (ipykernel)",
   "language": "python",
   "name": "python3"
  },
  "language_info": {
   "codemirror_mode": {
    "name": "ipython",
    "version": 3
   },
   "file_extension": ".py",
   "mimetype": "text/x-python",
   "name": "python",
   "nbconvert_exporter": "python",
   "pygments_lexer": "ipython3",
   "version": "3.10.9"
  }
 },
 "nbformat": 4,
 "nbformat_minor": 5
}
