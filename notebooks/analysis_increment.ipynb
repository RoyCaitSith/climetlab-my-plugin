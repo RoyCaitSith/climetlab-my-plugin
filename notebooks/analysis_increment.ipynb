{
 "cells": [
  {
   "attachments": {},
   "cell_type": "markdown",
   "id": "bc3f79e9-639f-49e4-9a58-4af3c47a525a",
   "metadata": {},
   "source": [
    "# Calculate Analysis Increment"
   ]
  },
  {
   "cell_type": "code",
   "execution_count": null,
   "id": "150e3456-c4fd-4809-831e-859071d6ae60",
   "metadata": {},
   "outputs": [],
   "source": [
    "# from analysis_increment import calculate_analysis_increment\n",
    "\n",
    "# data_library_names = ['cpex']\n",
    "# dir_cases = ['/08_CPEX/01_CV_RF07_AEW06_IAN']\n",
    "# case_names = ['Ian']\n",
    "# exp_names = ['HALO']\n",
    "\n",
    "# calculate_analysis_increment(data_library_names=data_library_names,\n",
    "#                              dir_cases=dir_cases,\n",
    "#                              case_names=case_names,\n",
    "#                              exp_names=exp_names,\n",
    "#                              variables=['ua', 'va', 'temp', 'QVAPOR'])"
   ]
  },
  {
   "cell_type": "code",
   "execution_count": 1,
   "id": "3a156bf7-66e0-48a5-abd4-75f807b5b00f",
   "metadata": {},
   "outputs": [
    {
     "data": {
      "application/vnd.jupyter.widget-view+json": {
       "model_id": "ede989de8976458ca36cf517756e7014",
       "version_major": 2,
       "version_minor": 0
      },
      "text/plain": [
       "Cases: 0/4 files | 00:00<?"
      ]
     },
     "metadata": {},
     "output_type": "display_data"
    },
    {
     "data": {
      "application/vnd.jupyter.widget-view+json": {
       "model_id": "68cf8af507334ab5a7285002436e4977",
       "version_major": 2,
       "version_minor": 0
      },
      "text/plain": [
       "DA Domains:   0%|          | 0/2 [00:00<?, ?it/s]"
      ]
     },
     "metadata": {},
     "output_type": "display_data"
    },
    {
     "data": {
      "application/vnd.jupyter.widget-view+json": {
       "model_id": "d60cd2af131c4cfc97e1c05b347aa3a8",
       "version_major": 2,
       "version_minor": 0
      },
      "text/plain": [
       "Variables:   0%|          | 0/4 [00:00<?, ?it/s]"
      ]
     },
     "metadata": {},
     "output_type": "display_data"
    },
    {
     "data": {
      "application/vnd.jupyter.widget-view+json": {
       "model_id": "b11d0f699a834b4f94e0684c4f7b6aa5",
       "version_major": 2,
       "version_minor": 0
      },
      "text/plain": [
       "Variables:   0%|          | 0/4 [00:00<?, ?it/s]"
      ]
     },
     "metadata": {},
     "output_type": "display_data"
    },
    {
     "data": {
      "application/vnd.jupyter.widget-view+json": {
       "model_id": "e94df8a430b8439d9d4dbf7a76bf71d0",
       "version_major": 2,
       "version_minor": 0
      },
      "text/plain": [
       "DA Domains:   0%|          | 0/2 [00:00<?, ?it/s]"
      ]
     },
     "metadata": {},
     "output_type": "display_data"
    },
    {
     "data": {
      "application/vnd.jupyter.widget-view+json": {
       "model_id": "abf768c4df1146cb873ccdb8e84d9f3b",
       "version_major": 2,
       "version_minor": 0
      },
      "text/plain": [
       "Variables:   0%|          | 0/4 [00:00<?, ?it/s]"
      ]
     },
     "metadata": {},
     "output_type": "display_data"
    },
    {
     "data": {
      "application/vnd.jupyter.widget-view+json": {
       "model_id": "404f4ebea8134335846da1d0bdd357ee",
       "version_major": 2,
       "version_minor": 0
      },
      "text/plain": [
       "Variables:   0%|          | 0/4 [00:00<?, ?it/s]"
      ]
     },
     "metadata": {},
     "output_type": "display_data"
    },
    {
     "data": {
      "application/vnd.jupyter.widget-view+json": {
       "model_id": "8288cdd8284a401e9605ff4f8cf82ec1",
       "version_major": 2,
       "version_minor": 0
      },
      "text/plain": [
       "DA Domains:   0%|          | 0/2 [00:00<?, ?it/s]"
      ]
     },
     "metadata": {},
     "output_type": "display_data"
    },
    {
     "data": {
      "application/vnd.jupyter.widget-view+json": {
       "model_id": "b3d8ebc305d54fc29b04299207671c9c",
       "version_major": 2,
       "version_minor": 0
      },
      "text/plain": [
       "Variables:   0%|          | 0/4 [00:00<?, ?it/s]"
      ]
     },
     "metadata": {},
     "output_type": "display_data"
    },
    {
     "data": {
      "application/vnd.jupyter.widget-view+json": {
       "model_id": "65db34638ab74ead932800062aba4413",
       "version_major": 2,
       "version_minor": 0
      },
      "text/plain": [
       "Variables:   0%|          | 0/4 [00:00<?, ?it/s]"
      ]
     },
     "metadata": {},
     "output_type": "display_data"
    },
    {
     "data": {
      "application/vnd.jupyter.widget-view+json": {
       "model_id": "56d6ec9f0ac74baab757765d9ba8303f",
       "version_major": 2,
       "version_minor": 0
      },
      "text/plain": [
       "DA Domains:   0%|          | 0/2 [00:00<?, ?it/s]"
      ]
     },
     "metadata": {},
     "output_type": "display_data"
    },
    {
     "data": {
      "application/vnd.jupyter.widget-view+json": {
       "model_id": "679d17362dd749a7aa7992a06756fdce",
       "version_major": 2,
       "version_minor": 0
      },
      "text/plain": [
       "Variables:   0%|          | 0/4 [00:00<?, ?it/s]"
      ]
     },
     "metadata": {},
     "output_type": "display_data"
    },
    {
     "data": {
      "application/vnd.jupyter.widget-view+json": {
       "model_id": "e74581c76dbc4d8784e60a2ec0b4ed6d",
       "version_major": 2,
       "version_minor": 0
      },
      "text/plain": [
       "Variables:   0%|          | 0/4 [00:00<?, ?it/s]"
      ]
     },
     "metadata": {},
     "output_type": "display_data"
    }
   ],
   "source": [
    "from analysis_increment import draw_analysis_increment\n",
    "\n",
    "data_library_names = ['cpex']*4\n",
    "dir_cases = ['/08_CPEX/01_CV_RF07_AEW06_IAN']*4\n",
    "case_names = ['Ian']*4\n",
    "exp_names = ['CTRL', 'CONV', 'DAWN', 'HALO']\n",
    "\n",
    "draw_analysis_increment(data_library_names=data_library_names,\n",
    "                        dir_cases=dir_cases,\n",
    "                        case_names=case_names,\n",
    "                        exp_names=exp_names,\n",
    "                        variables=['ua', 'va', 'temp', 'QVAPOR'])"
   ]
  },
  {
   "cell_type": "code",
   "execution_count": null,
   "id": "6bb05e2e",
   "metadata": {},
   "outputs": [],
   "source": []
  }
 ],
 "metadata": {
  "kernelspec": {
   "display_name": "Python 3 (ipykernel)",
   "language": "python",
   "name": "python3"
  },
  "language_info": {
   "codemirror_mode": {
    "name": "ipython",
    "version": 3
   },
   "file_extension": ".py",
   "mimetype": "text/x-python",
   "name": "python",
   "nbconvert_exporter": "python",
   "pygments_lexer": "ipython3",
   "version": "3.10.9"
  }
 },
 "nbformat": 4,
 "nbformat_minor": 5
}
