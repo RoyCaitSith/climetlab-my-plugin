{
 "cells": [
  {
   "attachments": {},
   "cell_type": "markdown",
   "id": "0a98ed75-a6bf-48d4-9f7d-4feb289d7271",
   "metadata": {},
   "source": [
    "# Create bufr temp files for HALO"
   ]
  },
  {
   "cell_type": "code",
   "execution_count": null,
   "id": "74fe7392-9d6c-423b-92f1-ca71c54fc550",
   "metadata": {},
   "outputs": [],
   "source": [
    "# from halo import create_HALO_bufr_temp\n",
    "\n",
    "# create_HALO_bufr_temp(data_library_name='cpex',\n",
    "#                       dir_case='/CPEX/05_CV_RF07_AEW06',\n",
    "#                       case_name='AEW06')"
   ]
  },
  {
   "attachments": {},
   "cell_type": "markdown",
   "id": "757823b6",
   "metadata": {},
   "source": [
    "# Create bufr for HALO"
   ]
  },
  {
   "cell_type": "code",
   "execution_count": null,
   "id": "eb1b4545",
   "metadata": {},
   "outputs": [],
   "source": [
    "# from halo import create_HALO_bufr\n",
    "\n",
    "# create_HALO_bufr(data_library_name='cpex',\n",
    "#                  dir_case='/CPEX/03_AW_RF02_AEW02',\n",
    "#                  case_name='AEW02')"
   ]
  },
  {
   "cell_type": "markdown",
   "id": "24871ba5",
   "metadata": {},
   "source": [
    "# Interpolation of WRF data"
   ]
  },
  {
   "cell_type": "code",
   "execution_count": null,
   "id": "31618bec",
   "metadata": {},
   "outputs": [],
   "source": [
    "# from halo import wrf_extract_HALO\n",
    "\n",
    "# n_exp_name = 4\n",
    "# wrf_extract_HALO(data_library_names=['cpex']*n_exp_name,\n",
    "#                  dir_cases=['/08_CPEX/01_CV_RF07_AEW06_IAN']*n_exp_name,\n",
    "#                  case_names=['Ian']*n_exp_name,\n",
    "#                  exp_names=['HALO_OE10', 'HALO_OE15', 'HALO_OE25', 'HALO_OE30'])"
   ]
  },
  {
   "cell_type": "markdown",
   "id": "762f3ffd",
   "metadata": {},
   "source": [
    "# Compare Observation and Simulation"
   ]
  },
  {
   "cell_type": "code",
   "execution_count": null,
   "id": "75a38018",
   "metadata": {},
   "outputs": [],
   "source": [
    "# from halo import draw_HALO_comparison\n",
    "\n",
    "# n_exp_names = 9\n",
    "# data_library_names = ['cpex']*n_exp_names\n",
    "# dir_cases = ['/08_CPEX/01_CV_RF07_AEW06_IAN']*n_exp_names\n",
    "# case_names = ['Ian']*n_exp_names\n",
    "# exp_names = ['CTRL', 'CONV', 'DAWN', 'DAWN_HALO', 'HALO_OE10', 'HALO_OE15', 'HALO', 'HALO_OE25', 'HALO_OE30']\n",
    "\n",
    "# draw_HALO_comparison(data_library_names=data_library_names,\n",
    "#                      dir_cases=dir_cases,\n",
    "#                      case_names=case_names,\n",
    "#                      exp_names=exp_names,\n",
    "#                      scatter_var='q_OmA', scatter_levels=range(-6, 7, 2),\n",
    "#                      domains=['d01'], da_cycle=4, var_time=20220916180000)"
   ]
  },
  {
   "cell_type": "code",
   "execution_count": null,
   "id": "744a4166",
   "metadata": {},
   "outputs": [],
   "source": [
    "# from halo import draw_HALO_comparison\n",
    "\n",
    "# n_exp_names = 5\n",
    "# data_library_names = ['cpex']*n_exp_names\n",
    "# dir_cases = ['/08_CPEX/01_CV_RF07_AEW06_IAN']*n_exp_names\n",
    "# case_names = ['Ian']*n_exp_names\n",
    "# exp_names = ['CTRL', 'CONV', 'DAWN', 'HALO', 'DAWN_HALO']\n",
    "\n",
    "# draw_HALO_comparison(data_library_names=data_library_names,\n",
    "#                      dir_cases=dir_cases,\n",
    "#                      case_names=case_names,\n",
    "#                      exp_names=exp_names,\n",
    "#                      scatter_var='q_anl', scatter_levels=range(0, 91, 15),\n",
    "#                      domains=['d01'], da_cycle=4, var_time=20220916180000)"
   ]
  },
  {
   "cell_type": "code",
   "execution_count": null,
   "id": "d273a129",
   "metadata": {},
   "outputs": [],
   "source": []
  }
 ],
 "metadata": {
  "kernelspec": {
   "display_name": "Python 3 (ipykernel)",
   "language": "python",
   "name": "python3"
  },
  "language_info": {
   "codemirror_mode": {
    "name": "ipython",
    "version": 3
   },
   "file_extension": ".py",
   "mimetype": "text/x-python",
   "name": "python",
   "nbconvert_exporter": "python",
   "pygments_lexer": "ipython3",
   "version": "3.9.18"
  }
 },
 "nbformat": 4,
 "nbformat_minor": 5
}
