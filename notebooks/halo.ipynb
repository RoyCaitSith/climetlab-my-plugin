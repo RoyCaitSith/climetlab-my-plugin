{
 "cells": [
  {
   "attachments": {},
   "cell_type": "markdown",
   "id": "0a98ed75-a6bf-48d4-9f7d-4feb289d7271",
   "metadata": {},
   "source": [
    "# Create bufr temp files for HALO"
   ]
  },
  {
   "cell_type": "code",
   "execution_count": 1,
   "id": "74fe7392-9d6c-423b-92f1-ca71c54fc550",
   "metadata": {},
   "outputs": [
    {
     "data": {
      "application/vnd.jupyter.widget-view+json": {
       "model_id": "e11e2fda134a4dbb9cb821dd1efa50f9",
       "version_major": 2,
       "version_minor": 0
      },
      "text/plain": [
       "Cycles: 0/4 files | 00:00<?"
      ]
     },
     "metadata": {},
     "output_type": "display_data"
    },
    {
     "name": "stdout",
     "output_type": "stream",
     "text": [
      "/\n",
      "<KeysViewHDF5 ['1064_aer_dep', '1064_aer_dep_unc', '1064_bsc', '1064_bsc_Sa', '1064_bsc_Sa_unc', '1064_bsc_cloud_screened', '1064_bsc_unc', '1064_bsr', '1064_bsr_cloud_screened', '1064_dep', '1064_ext', '1064_total_attn_bsc', '532_AOT_hi', '532_AOT_hi_col', '532_AOT_hi_col_unc', '532_AOT_hi_unc', '532_AOT_lo', '532_Sa', '532_Sa_unc', '532_aer_dep', '532_aer_dep_unc', '532_bsc', '532_bsc_Sa', '532_bsc_Sa_unc', '532_bsc_cloud_screened', '532_bsc_unc', '532_bsr', '532_bsr_cloud_screened', '532_dep', '532_ext', '532_ext_unc', '532_total_attn_bsc', 'Aerosol_ID', 'Angstrom_Dust', 'Angstrom_Spherical', 'Dust_Mixing_Ratio', 'MixedLayerHeight', 'MixedLayerHeight_QAflag', 'Nav_Data', 'PWV_bottom_bin_v', 'PWV_clear_v', 'PWV_cloudy_v', 'PWV_top_bin_v', 'RHi_v', 'RHw_v', 'State', 'UserInput', 'WVD_1064_532', 'WVD_1064_532_unc', 'cloud_top_height', 'cloud_top_height_935', 'h2o_mmr_v', 'h2o_mmr_v_unc', 'lat', 'lon', 'mask_low', 'range_cell_v', 'time', 'z']>\n",
      "869\n",
      "<HDF5 dataset \"z\": shape (869,), type \"<f4\">\n",
      "12710.973\n",
      "-300.0\n",
      "[[12.87225057]\n",
      " [12.87502857]\n",
      " [12.87780657]\n",
      " ...\n",
      " [20.43219714]\n",
      " [20.43497514]\n",
      " [20.43775314]]\n"
     ]
    },
    {
     "ename": "NameError",
     "evalue": "name 'miao' is not defined",
     "output_type": "error",
     "traceback": [
      "\u001b[0;31m---------------------------------------------------------------------------\u001b[0m",
      "\u001b[0;31mNameError\u001b[0m                                 Traceback (most recent call last)",
      "Cell \u001b[0;32mIn[1], line 3\u001b[0m\n\u001b[1;32m      1\u001b[0m \u001b[39mfrom\u001b[39;00m \u001b[39mhalo\u001b[39;00m \u001b[39mimport\u001b[39;00m create_HALO_bufr_temp_cv\n\u001b[0;32m----> 3\u001b[0m create_HALO_bufr_temp_cv(data_library_name\u001b[39m=\u001b[39;49m\u001b[39m'\u001b[39;49m\u001b[39mcpex\u001b[39;49m\u001b[39m'\u001b[39;49m,\n\u001b[1;32m      4\u001b[0m                          dir_case\u001b[39m=\u001b[39;49m\u001b[39m'\u001b[39;49m\u001b[39m/08_CPEX/01_CV_RF07_AEW06_IAN\u001b[39;49m\u001b[39m'\u001b[39;49m,\n\u001b[1;32m      5\u001b[0m                          case_name\u001b[39m=\u001b[39;49m\u001b[39m'\u001b[39;49m\u001b[39mIan\u001b[39;49m\u001b[39m'\u001b[39;49m)\n",
      "File \u001b[0;32m~/climetlab-my-plugin/functions/halo.py:85\u001b[0m, in \u001b[0;36mcreate_HALO_bufr_temp_cv\u001b[0;34m(data_library_name, dir_case, case_name)\u001b[0m\n\u001b[1;32m     83\u001b[0m HALO_datetime \u001b[39m=\u001b[39m np\u001b[39m.\u001b[39mtile(np\u001b[39m.\u001b[39marray(HALO[\u001b[39m'\u001b[39m\u001b[39mNav_Data\u001b[39m\u001b[39m'\u001b[39m][\u001b[39m'\u001b[39m\u001b[39mgps_time\u001b[39m\u001b[39m'\u001b[39m]), (\u001b[39m1\u001b[39m, n_hgt))\u001b[39m.\u001b[39mflatten()\n\u001b[1;32m     84\u001b[0m \u001b[39mprint\u001b[39m(np\u001b[39m.\u001b[39marray(HALO[\u001b[39m'\u001b[39m\u001b[39mNav_Data\u001b[39m\u001b[39m'\u001b[39m][\u001b[39m'\u001b[39m\u001b[39mgps_time\u001b[39m\u001b[39m'\u001b[39m]))\n\u001b[0;32m---> 85\u001b[0m \u001b[39mprint\u001b[39m(miao)\n\u001b[1;32m     86\u001b[0m HALO_year \u001b[39m=\u001b[39m np\u001b[39m.\u001b[39marray([(initial_time \u001b[39m+\u001b[39m datetime\u001b[39m.\u001b[39mtimedelta(hours \u001b[39m=\u001b[39m d))\u001b[39m.\u001b[39myear \u001b[39mfor\u001b[39;00m d \u001b[39min\u001b[39;00m HALO_datetime], dtype\u001b[39m=\u001b[39m\u001b[39m'\u001b[39m\u001b[39mint64\u001b[39m\u001b[39m'\u001b[39m)\n\u001b[1;32m     87\u001b[0m HALO_mnth \u001b[39m=\u001b[39m np\u001b[39m.\u001b[39marray([(initial_time \u001b[39m+\u001b[39m datetime\u001b[39m.\u001b[39mtimedelta(hours \u001b[39m=\u001b[39m d))\u001b[39m.\u001b[39mmonth \u001b[39mfor\u001b[39;00m d \u001b[39min\u001b[39;00m HALO_datetime], dtype\u001b[39m=\u001b[39m\u001b[39m'\u001b[39m\u001b[39mint64\u001b[39m\u001b[39m'\u001b[39m)\n",
      "\u001b[0;31mNameError\u001b[0m: name 'miao' is not defined"
     ]
    }
   ],
   "source": [
    "from halo import create_HALO_bufr_temp_cv\n",
    "\n",
    "create_HALO_bufr_temp_cv(data_library_name='cpex',\n",
    "                         dir_case='/08_CPEX/01_CV_RF07_AEW06_IAN',\n",
    "                         case_name='Ian')"
   ]
  },
  {
   "attachments": {},
   "cell_type": "markdown",
   "id": "757823b6",
   "metadata": {},
   "source": [
    "# Create bufr for DAWN"
   ]
  },
  {
   "cell_type": "code",
   "execution_count": null,
   "id": "eb1b4545",
   "metadata": {},
   "outputs": [],
   "source": [
    "# from halo import create_HALO_bufr\n",
    "\n",
    "# create_HALO_bufr(data_library_name='cpex',\n",
    "#                  dir_case='/08_CPEX/01_CV_RF07_AEW06_IAN',\n",
    "#                  case_name='Ian')"
   ]
  },
  {
   "cell_type": "code",
   "execution_count": null,
   "id": "0bf0e018",
   "metadata": {},
   "outputs": [],
   "source": []
  }
 ],
 "metadata": {
  "kernelspec": {
   "display_name": "Python 3 (ipykernel)",
   "language": "python",
   "name": "python3"
  },
  "language_info": {
   "codemirror_mode": {
    "name": "ipython",
    "version": 3
   },
   "file_extension": ".py",
   "mimetype": "text/x-python",
   "name": "python",
   "nbconvert_exporter": "python",
   "pygments_lexer": "ipython3",
   "version": "3.10.9"
  }
 },
 "nbformat": 4,
 "nbformat_minor": 5
}
