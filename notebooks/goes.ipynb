{
 "cells": [
  {
   "cell_type": "markdown",
   "id": "ec849784",
   "metadata": {},
   "source": [
    "# Parameters"
   ]
  },
  {
   "cell_type": "code",
   "execution_count": 1,
   "id": "e4c6ae0c",
   "metadata": {},
   "outputs": [],
   "source": [
    "from datetime import datetime\n",
    "\n",
    "dir_data = '/uufs/chpc.utah.edu/common/home/zpu-group30/cfeng/GOES-R-observation-error-covariance/03_HAFS/data'\n",
    "case = '2021_AL09_Ida'\n",
    "version = 'AS'\n",
    "anl_start_time = datetime(2021, 8, 24, 0, 0, 0)\n",
    "anl_end_time = datetime(2021, 8, 24, 0, 0, 0)\n",
    "cycling_interval = 6"
   ]
  },
  {
   "attachments": {},
   "cell_type": "markdown",
   "id": "0a98ed75-a6bf-48d4-9f7d-4feb289d7271",
   "metadata": {},
   "source": [
    "# Create BUFR Temp"
   ]
  },
  {
   "cell_type": "code",
   "execution_count": 2,
   "id": "3928d53f",
   "metadata": {},
   "outputs": [
    {
     "data": {
      "application/vnd.jupyter.widget-view+json": {
       "model_id": "6d864969d75544cba381575fbb16c4a8",
       "version_major": 2,
       "version_minor": 0
      },
      "text/plain": [
       "Cycles: 0/1 files | 00:00<?"
      ]
     },
     "metadata": {},
     "output_type": "display_data"
    },
    {
     "name": "stdout",
     "output_type": "stream",
     "text": [
      "2021-08-23 21:00:00\n",
      "2021-08-24 03:00:00\n",
      "2021-08-24 00:00:20.200000\n",
      "2021-08-24 00:09:52.100000\n",
      "/uufs/chpc.utah.edu/common/home/zpu-group30/cfeng/GOES-R-observation-error-covariance/03_HAFS/data/GOES/2021_AL09_Ida/20210824/OR_ABI-L2-CMIPF-M6C07_G16_s20212360000202_e20212360009521_c20212360009592.nc\n"
     ]
    },
    {
     "name": "stderr",
     "output_type": "stream",
     "text": [
      "/uufs/chpc.utah.edu/common/home/u1237353/climetlab-my-plugin/functions/goes.py:138: RuntimeWarning: invalid value encountered in sqrt\n",
      "  r_s   = (-1.0*b - np.sqrt(np.power(b, 2)-4*a*c))/(2*a)\n",
      "/uufs/chpc.utah.edu/common/home/zpu-group30/cfeng/software/mymini3/lib/python3.9/site-packages/pyorbital/orbital.py:133: RuntimeWarning: invalid value encountered in sqrt\n",
      "  rg_ = np.sqrt(rx * rx + ry * ry + rz * rz)\n"
     ]
    },
    {
     "name": "stdout",
     "output_type": "stream",
     "text": [
      "[2021 2021 2021 ... 2021 2021 2021]\n",
      "[8 8 8 ... 8 8 8]\n",
      "[24 24 24 ... 24 24 24]\n",
      "[0 0 0 ... 0 0 0]\n",
      "[5 5 5 ... 5 5 5]\n",
      "[6.226907 6.226907 6.226907 ... 6.226907 6.226907 6.226907]\n",
      "[81.15668487548828 81.09764099121094 81.03233337402344 ...\n",
      " -80.79076385498047 -80.86253356933594 -81.0622787475586]\n",
      "[-79.28404998779297 -79.11976623535156 -78.95494079589844 ...\n",
      " -64.7054443359375 -64.48858642578125 -64.1099853515625]\n",
      "[89.85332142321862 89.79253549462875 89.72552299947976 ...\n",
      " 89.61185089439262 89.68880570127584 89.89628148230626]\n",
      "[80.77462005615234 80.8125991821289 80.85242462158203 ...\n",
      " 104.98790740966797 104.9901123046875 104.96151733398438]\n",
      "[175.66392882578123 175.8295232307457 175.99564525438612 ...\n",
      " 349.57226154660646 349.3548418324953 348.97766189274387]\n",
      "[282.9276428222656 283.0983581542969 283.2705078125 ... 245.98330688476562\n",
      " 245.74789428710938 245.31878662109375]\n",
      "[35786023. 35786023. 35786023. ... 35786023. 35786023. 35786023.]\n",
      "[0 0 0 ... 0 0 0]\n",
      "[259.2942199707031 259.0846862792969 259.2942199707031 ...\n",
      " 213.45758056640625 213.45758056640625 209.92161560058594]\n",
      "23046267\n",
      "/uufs/chpc.utah.edu/common/home/zpu-group30/cfeng/GOES-R-observation-error-covariance/03_HAFS/data/GOES/2021_AL09_Ida/20210824/OR_ABI-L2-CMIPF-M6C08_G16_s20212360000202_e20212360009510_c20212360009592.nc\n",
      "[2021 2021 2021 ... 2021 2021 2021]\n",
      "[8 8 8 ... 8 8 8]\n",
      "[24 24 24 ... 24 24 24]\n",
      "[0 0 0 ... 0 0 0]\n",
      "[5 5 5 ... 5 5 5]\n",
      "[5.678277 5.678277 5.678277 ... 5.678277 5.678277 5.678277]\n",
      "[81.15668487548828 81.09764099121094 81.03233337402344 ...\n",
      " -80.79076385498047 -80.86253356933594 -81.0622787475586]\n",
      "[-79.28404998779297 -79.11976623535156 -78.95494079589844 ...\n",
      " -64.7054443359375 -64.48858642578125 -64.1099853515625]\n",
      "[89.85332142321862 89.79253549462875 89.72552299947976 ...\n",
      " 89.61185089439263 89.68880570127584 89.89628148230626]\n",
      "[80.77427673339844 80.812255859375 80.8520736694336 ... 104.98757934570312\n",
      " 104.98978424072266 104.96118927001953]\n",
      "[175.66392882578123 175.8295232307457 175.99564525438612 ...\n",
      " 349.57226154660646 349.3548418324953 348.97766189274387]\n",
      "[282.9253845214844 283.0960998535156 283.26824951171875 ...\n",
      " 245.98561096191406 245.75018310546875 245.3210906982422]\n",
      "[35786023. 35786023. 35786023. ... 35786023. 35786023. 35786023.]\n",
      "[0 0 0 ... 0 0 0]\n",
      "[225.2537078857422 225.2537078857422 225.2537078857422 ...\n",
      " 196.01681518554688 196.01681518554688 196.01681518554688]\n",
      "23046281\n",
      "/uufs/chpc.utah.edu/common/home/zpu-group30/cfeng/GOES-R-observation-error-covariance/03_HAFS/data/GOES/2021_AL09_Ida/20210824/OR_ABI-L2-CMIPF-M6C09_G16_s20212360000202_e20212360009516_c20212360009594.nc\n"
     ]
    },
    {
     "ename": "KeyboardInterrupt",
     "evalue": "",
     "output_type": "error",
     "traceback": [
      "\u001b[0;31m---------------------------------------------------------------------------\u001b[0m",
      "\u001b[0;31mKeyboardInterrupt\u001b[0m                         Traceback (most recent call last)",
      "Cell \u001b[0;32mIn[2], line 3\u001b[0m\n\u001b[1;32m      1\u001b[0m \u001b[38;5;28;01mfrom\u001b[39;00m \u001b[38;5;21;01mgoes\u001b[39;00m \u001b[38;5;28;01mimport\u001b[39;00m create_goes_bufr_temp\n\u001b[0;32m----> 3\u001b[0m \u001b[43mcreate_goes_bufr_temp\u001b[49m\u001b[43m(\u001b[49m\u001b[43mdir_data\u001b[49m\u001b[38;5;241;43m=\u001b[39;49m\u001b[43mdir_data\u001b[49m\u001b[43m,\u001b[49m\n\u001b[1;32m      4\u001b[0m \u001b[43m                      \u001b[49m\u001b[43mcase\u001b[49m\u001b[38;5;241;43m=\u001b[39;49m\u001b[43mcase\u001b[49m\u001b[43m,\u001b[49m\n\u001b[1;32m      5\u001b[0m \u001b[43m                      \u001b[49m\u001b[43manl_start_time\u001b[49m\u001b[38;5;241;43m=\u001b[39;49m\u001b[43manl_start_time\u001b[49m\u001b[43m,\u001b[49m\n\u001b[1;32m      6\u001b[0m \u001b[43m                      \u001b[49m\u001b[43manl_end_time\u001b[49m\u001b[38;5;241;43m=\u001b[39;49m\u001b[43manl_end_time\u001b[49m\u001b[43m,\u001b[49m\n\u001b[1;32m      7\u001b[0m \u001b[43m                      \u001b[49m\u001b[43mcycling_interval\u001b[49m\u001b[38;5;241;43m=\u001b[39;49m\u001b[43mcycling_interval\u001b[49m\u001b[43m,\u001b[49m\n\u001b[1;32m      8\u001b[0m \u001b[43m                      \u001b[49m\u001b[43mversion\u001b[49m\u001b[38;5;241;43m=\u001b[39;49m\u001b[43mversion\u001b[49m\u001b[43m)\u001b[49m\n",
      "File \u001b[0;32m~/climetlab-my-plugin/functions/goes.py:135\u001b[0m, in \u001b[0;36mcreate_goes_bufr_temp\u001b[0;34m(dir_data, case, anl_start_time, anl_end_time, cycling_interval, version)\u001b[0m\n\u001b[1;32m    133\u001b[0m sin_y \u001b[38;5;241m=\u001b[39m np\u001b[38;5;241m.\u001b[39msin(y)\n\u001b[1;32m    134\u001b[0m cos_y \u001b[38;5;241m=\u001b[39m np\u001b[38;5;241m.\u001b[39mcos(y)\n\u001b[0;32m--> 135\u001b[0m a     \u001b[38;5;241m=\u001b[39m np\u001b[38;5;241m.\u001b[39mpower(sin_x, \u001b[38;5;241m2\u001b[39m) \u001b[38;5;241m+\u001b[39m np\u001b[38;5;241m.\u001b[39mpower(cos_x, \u001b[38;5;241m2\u001b[39m)\u001b[38;5;241m*\u001b[39m(\u001b[43mnp\u001b[49m\u001b[38;5;241;43m.\u001b[39;49m\u001b[43mpower\u001b[49m\u001b[43m(\u001b[49m\u001b[43mcos_y\u001b[49m\u001b[43m,\u001b[49m\u001b[43m \u001b[49m\u001b[38;5;241;43m2\u001b[39;49m\u001b[43m)\u001b[49m\u001b[38;5;241m+\u001b[39mnp\u001b[38;5;241m.\u001b[39mpower(r_eq\u001b[38;5;241m*\u001b[39msin_y\u001b[38;5;241m/\u001b[39mr_pol, \u001b[38;5;241m2\u001b[39m))\n\u001b[1;32m    136\u001b[0m b     \u001b[38;5;241m=\u001b[39m \u001b[38;5;241m-\u001b[39m\u001b[38;5;241m2.0\u001b[39m\u001b[38;5;241m*\u001b[39mH\u001b[38;5;241m*\u001b[39mcos_x\u001b[38;5;241m*\u001b[39mcos_y\n\u001b[1;32m    137\u001b[0m c     \u001b[38;5;241m=\u001b[39m np\u001b[38;5;241m.\u001b[39mpower(H, \u001b[38;5;241m2\u001b[39m) \u001b[38;5;241m-\u001b[39m np\u001b[38;5;241m.\u001b[39mpower(r_eq, \u001b[38;5;241m2\u001b[39m)\n",
      "File \u001b[0;32m/uufs/chpc.utah.edu/common/home/zpu-group30/cfeng/software/mymini3/lib/python3.9/site-packages/numpy/ma/core.py:3071\u001b[0m, in \u001b[0;36mMaskedArray.__array_wrap__\u001b[0;34m(self, obj, context)\u001b[0m\n\u001b[1;32m   3067\u001b[0m     \u001b[38;5;28;01melif\u001b[39;00m \u001b[38;5;28mself\u001b[39m\u001b[38;5;241m.\u001b[39mdtype\u001b[38;5;241m.\u001b[39mnames \u001b[38;5;129;01mis\u001b[39;00m \u001b[38;5;129;01mnot\u001b[39;00m \u001b[38;5;28;01mNone\u001b[39;00m:\n\u001b[1;32m   3068\u001b[0m         \u001b[38;5;66;03m# Finalize the default fill_value for structured arrays\u001b[39;00m\n\u001b[1;32m   3069\u001b[0m         \u001b[38;5;28mself\u001b[39m\u001b[38;5;241m.\u001b[39m_fill_value \u001b[38;5;241m=\u001b[39m _check_fill_value(\u001b[38;5;28;01mNone\u001b[39;00m, \u001b[38;5;28mself\u001b[39m\u001b[38;5;241m.\u001b[39mdtype)\n\u001b[0;32m-> 3071\u001b[0m \u001b[38;5;28;01mdef\u001b[39;00m \u001b[38;5;21m__array_wrap__\u001b[39m(\u001b[38;5;28mself\u001b[39m, obj, context\u001b[38;5;241m=\u001b[39m\u001b[38;5;28;01mNone\u001b[39;00m):\n\u001b[1;32m   3072\u001b[0m \u001b[38;5;250m    \u001b[39m\u001b[38;5;124;03m\"\"\"\u001b[39;00m\n\u001b[1;32m   3073\u001b[0m \u001b[38;5;124;03m    Special hook for ufuncs.\u001b[39;00m\n\u001b[1;32m   3074\u001b[0m \n\u001b[1;32m   3075\u001b[0m \u001b[38;5;124;03m    Wraps the numpy array and sets the mask according to context.\u001b[39;00m\n\u001b[1;32m   3076\u001b[0m \n\u001b[1;32m   3077\u001b[0m \u001b[38;5;124;03m    \"\"\"\u001b[39;00m\n\u001b[1;32m   3078\u001b[0m     \u001b[38;5;28;01mif\u001b[39;00m obj \u001b[38;5;129;01mis\u001b[39;00m \u001b[38;5;28mself\u001b[39m:  \u001b[38;5;66;03m# for in-place operations\u001b[39;00m\n",
      "\u001b[0;31mKeyboardInterrupt\u001b[0m: "
     ]
    }
   ],
   "source": [
    "from goes import create_goes_bufr_temp\n",
    "\n",
    "create_goes_bufr_temp(dir_data=dir_data,\n",
    "                      case=case,\n",
    "                      anl_start_time=anl_start_time,\n",
    "                      anl_end_time=anl_end_time,\n",
    "                      cycling_interval=cycling_interval,\n",
    "                      version=version)"
   ]
  },
  {
   "cell_type": "markdown",
   "id": "791ac6b6",
   "metadata": {},
   "source": [
    "# Create BUFR File"
   ]
  },
  {
   "cell_type": "code",
   "execution_count": null,
   "id": "9841c0b3",
   "metadata": {},
   "outputs": [],
   "source": [
    "# from goes import create_goes_bufr_file\n",
    "\n",
    "# create_goes_bufr_file(dir_data=dir_data,\n",
    "#                       case=case,\n",
    "#                       anl_start_time=anl_start_time,\n",
    "#                       anl_end_time=anl_end_time,\n",
    "#                       cycling_interval=cycling_interval,\n",
    "#                       version=version)"
   ]
  },
  {
   "cell_type": "code",
   "execution_count": null,
   "id": "983b6c17",
   "metadata": {},
   "outputs": [],
   "source": []
  }
 ],
 "metadata": {
  "kernelspec": {
   "display_name": "base",
   "language": "python",
   "name": "python3"
  },
  "language_info": {
   "codemirror_mode": {
    "name": "ipython",
    "version": 3
   },
   "file_extension": ".py",
   "mimetype": "text/x-python",
   "name": "python",
   "nbconvert_exporter": "python",
   "pygments_lexer": "ipython3",
   "version": "3.9.18"
  }
 },
 "nbformat": 4,
 "nbformat_minor": 5
}
