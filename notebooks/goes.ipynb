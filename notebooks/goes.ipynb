{
 "cells": [
  {
   "cell_type": "markdown",
   "id": "ec849784",
   "metadata": {},
   "source": [
    "# Parameters"
   ]
  },
  {
   "cell_type": "code",
   "execution_count": 1,
   "id": "e4c6ae0c",
   "metadata": {},
   "outputs": [],
   "source": [
    "from datetime import datetime\n",
    "\n",
    "dir_data = '/uufs/chpc.utah.edu/common/home/zpu-group30/cfeng/GOES-R-observation-error-covariance/03_HAFS/data'\n",
    "case = '2021_AL09_Ida'\n",
    "version = 'AS'\n",
    "anl_start_time = datetime(2021, 8, 24, 0, 0, 0)\n",
    "anl_end_time = datetime(2021, 8, 24, 0, 0, 0)\n",
    "cycling_interval = 6"
   ]
  },
  {
   "attachments": {},
   "cell_type": "markdown",
   "id": "0a98ed75-a6bf-48d4-9f7d-4feb289d7271",
   "metadata": {},
   "source": [
    "# Create BUFR Temp"
   ]
  },
  {
   "cell_type": "code",
   "execution_count": 2,
   "id": "3928d53f",
   "metadata": {},
   "outputs": [
    {
     "data": {
      "application/vnd.jupyter.widget-view+json": {
       "model_id": "e90fd443502d4f358d5e016b198cea24",
       "version_major": 2,
       "version_minor": 0
      },
      "text/plain": [
       "Cycles: 0/1 files | 00:00<?"
      ]
     },
     "metadata": {},
     "output_type": "display_data"
    },
    {
     "name": "stdout",
     "output_type": "stream",
     "text": [
      "2021-08-23 21:00:00\n",
      "2021-08-24 03:00:00\n",
      "/uufs/chpc.utah.edu/common/home/zpu-group30/cfeng/GOES-R-observation-error-covariance/03_HAFS/data/GOES/2021_AL09_Ida/20210824/OR_ABI-L2-CMIPF-M6C07_G16_s20212360000202_e20212360009521_c20212360009592.nc\n",
      "[[-- -- -- ... -- -- --]\n",
      " [-- -- -- ... -- -- --]\n",
      " [-- -- -- ... -- -- --]\n",
      " ...\n",
      " [-- -- -- ... -- -- --]\n",
      " [-- -- -- ... -- -- --]\n",
      " [-- -- -- ... -- -- --]]\n",
      "[[-- -- -- ... -- -- --]\n",
      " [-- -- -- ... -- -- --]\n",
      " [-- -- -- ... -- -- --]\n",
      " ...\n",
      " [-- -- -- ... -- -- --]\n",
      " [-- -- -- ... -- -- --]\n",
      " [-- -- -- ... -- -- --]]\n",
      "683035506.226907\n",
      "[-0.151844 -0.151788 -0.151732 ...  0.151732  0.151788  0.151844]\n",
      "[ 0.151844  0.151788  0.151732 ... -0.151732 -0.151788 -0.151844]\n"
     ]
    },
    {
     "ename": "RuntimeError",
     "evalue": "NetCDF: Not a valid ID",
     "output_type": "error",
     "traceback": [
      "\u001b[0;31m---------------------------------------------------------------------------\u001b[0m",
      "\u001b[0;31mRuntimeError\u001b[0m                              Traceback (most recent call last)",
      "Cell \u001b[0;32mIn[2], line 3\u001b[0m\n\u001b[1;32m      1\u001b[0m \u001b[38;5;28;01mfrom\u001b[39;00m \u001b[38;5;21;01mgoes\u001b[39;00m \u001b[38;5;28;01mimport\u001b[39;00m create_goes_bufr_temp\n\u001b[0;32m----> 3\u001b[0m \u001b[43mcreate_goes_bufr_temp\u001b[49m\u001b[43m(\u001b[49m\u001b[43mdir_data\u001b[49m\u001b[38;5;241;43m=\u001b[39;49m\u001b[43mdir_data\u001b[49m\u001b[43m,\u001b[49m\n\u001b[1;32m      4\u001b[0m \u001b[43m                      \u001b[49m\u001b[43mcase\u001b[49m\u001b[38;5;241;43m=\u001b[39;49m\u001b[43mcase\u001b[49m\u001b[43m,\u001b[49m\n\u001b[1;32m      5\u001b[0m \u001b[43m                      \u001b[49m\u001b[43manl_start_time\u001b[49m\u001b[38;5;241;43m=\u001b[39;49m\u001b[43manl_start_time\u001b[49m\u001b[43m,\u001b[49m\n\u001b[1;32m      6\u001b[0m \u001b[43m                      \u001b[49m\u001b[43manl_end_time\u001b[49m\u001b[38;5;241;43m=\u001b[39;49m\u001b[43manl_end_time\u001b[49m\u001b[43m,\u001b[49m\n\u001b[1;32m      7\u001b[0m \u001b[43m                      \u001b[49m\u001b[43mcycling_interval\u001b[49m\u001b[38;5;241;43m=\u001b[39;49m\u001b[43mcycling_interval\u001b[49m\u001b[43m,\u001b[49m\n\u001b[1;32m      8\u001b[0m \u001b[43m                      \u001b[49m\u001b[43mversion\u001b[49m\u001b[38;5;241;43m=\u001b[39;49m\u001b[43mversion\u001b[49m\u001b[43m)\u001b[49m\n",
      "File \u001b[0;32m~/climetlab-my-plugin/functions/goes.py:126\u001b[0m, in \u001b[0;36mcreate_goes_bufr_temp\u001b[0;34m(dir_data, case, anl_start_time, anl_end_time, cycling_interval, version)\u001b[0m\n\u001b[1;32m    124\u001b[0m \u001b[38;5;28mprint\u001b[39m(x)\n\u001b[1;32m    125\u001b[0m \u001b[38;5;28mprint\u001b[39m(y)\n\u001b[0;32m--> 126\u001b[0m \u001b[38;5;28;43mprint\u001b[39;49m\u001b[43m(\u001b[49m\u001b[43mgip\u001b[49m\u001b[43m)\u001b[49m\n\u001b[1;32m    127\u001b[0m \u001b[38;5;28mprint\u001b[39m(r_eq)\n\u001b[1;32m    128\u001b[0m \u001b[38;5;28mprint\u001b[39m(r_pol)\n",
      "File \u001b[0;32msrc/netCDF4/_netCDF4.pyx:4445\u001b[0m, in \u001b[0;36mgenexpr\u001b[0;34m()\u001b[0m\n",
      "File \u001b[0;32msrc/netCDF4/_netCDF4.pyx:4445\u001b[0m, in \u001b[0;36mgenexpr\u001b[0;34m()\u001b[0m\n",
      "File \u001b[0;32msrc/netCDF4/_netCDF4.pyx:4565\u001b[0m, in \u001b[0;36mnetCDF4._netCDF4.Variable.dimensions.__get__\u001b[0;34m()\u001b[0m\n",
      "File \u001b[0;32msrc/netCDF4/_netCDF4.pyx:4496\u001b[0m, in \u001b[0;36mnetCDF4._netCDF4.Variable._getdims\u001b[0;34m()\u001b[0m\n",
      "File \u001b[0;32msrc/netCDF4/_netCDF4.pyx:2028\u001b[0m, in \u001b[0;36mnetCDF4._netCDF4._ensure_nc_success\u001b[0;34m()\u001b[0m\n",
      "\u001b[0;31mRuntimeError\u001b[0m: NetCDF: Not a valid ID"
     ]
    }
   ],
   "source": [
    "from goes import create_goes_bufr_temp\n",
    "\n",
    "create_goes_bufr_temp(dir_data=dir_data,\n",
    "                      case=case,\n",
    "                      anl_start_time=anl_start_time,\n",
    "                      anl_end_time=anl_end_time,\n",
    "                      cycling_interval=cycling_interval,\n",
    "                      version=version)"
   ]
  },
  {
   "cell_type": "markdown",
   "id": "791ac6b6",
   "metadata": {},
   "source": [
    "# Create BUFR File"
   ]
  },
  {
   "cell_type": "code",
   "execution_count": null,
   "id": "9841c0b3",
   "metadata": {},
   "outputs": [],
   "source": [
    "# from goes import create_goes_bufr_file\n",
    "\n",
    "# create_goes_bufr_file(dir_data=dir_data,\n",
    "#                       case=case,\n",
    "#                       anl_start_time=anl_start_time,\n",
    "#                       anl_end_time=anl_end_time,\n",
    "#                       cycling_interval=cycling_interval,\n",
    "#                       version=version)"
   ]
  },
  {
   "cell_type": "code",
   "execution_count": null,
   "id": "983b6c17",
   "metadata": {},
   "outputs": [],
   "source": []
  }
 ],
 "metadata": {
  "kernelspec": {
   "display_name": "base",
   "language": "python",
   "name": "python3"
  },
  "language_info": {
   "codemirror_mode": {
    "name": "ipython",
    "version": 3
   },
   "file_extension": ".py",
   "mimetype": "text/x-python",
   "name": "python",
   "nbconvert_exporter": "python",
   "pygments_lexer": "ipython3",
   "version": "3.9.18"
  }
 },
 "nbformat": 4,
 "nbformat_minor": 5
}
