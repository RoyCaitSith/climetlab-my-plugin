{
 "cells": [
  {
   "attachments": {},
   "cell_type": "markdown",
   "id": "6b5a99c0-1e04-4606-ae00-8cdea47c4ce1",
   "metadata": {
    "tags": []
   },
   "source": [
    "# Using climetlab to download the best track"
   ]
  },
  {
   "cell_type": "code",
   "execution_count": null,
   "id": "f8971171-ba2c-4f31-84ac-b558fbee0e4d",
   "metadata": {},
   "outputs": [],
   "source": [
    "#wget https://www.ncei.noaa.gov/data/international-best-track-archive-for-climate-stewardship-ibtracs/v04r00/access/csv/ibtracs.ALL.list.v04r00.csv\n",
    "#wget https://www.ncei.noaa.gov/data/international-best-track-archive-for-climate-stewardship-ibtracs/v04r00/access/csv/ibtracs.NA.list.v04r00.csv"
   ]
  },
  {
   "attachments": {},
   "cell_type": "markdown",
   "id": "44996913",
   "metadata": {},
   "source": [
    "# Show the best track from ibtracs"
   ]
  },
  {
   "cell_type": "code",
   "execution_count": null,
   "id": "f81771d8-e749-4e96-80de-fbf9c8dc1226",
   "metadata": {
    "tags": []
   },
   "outputs": [],
   "source": [
    "from track_and_intensity import display_ibtracs_climetlab\n",
    "\n",
    "display_ibtracs_climetlab(data_library_name='cpex',\n",
    "                          dir_case='/CPEX/06_CV_Hermine',\n",
    "                          case_name='Hermine')"
   ]
  },
  {
   "attachments": {},
   "cell_type": "markdown",
   "id": "d4e05e4c-6224-4f57-9b59-52caa33a7616",
   "metadata": {
    "tags": []
   },
   "source": [
    "# Show the NHC best track data"
   ]
  },
  {
   "cell_type": "code",
   "execution_count": null,
   "id": "fe608792-7e83-4441-af16-cf765dd6e951",
   "metadata": {},
   "outputs": [],
   "source": [
    "# from track_and_intensity import display_NHC_best_track_climetlab\n",
    "\n",
    "# display_NHC_best_track_climetlab(data_library_name='cpex',\n",
    "#                                  dir_case='/CPEX/06_CV_Hermine',\n",
    "#                                  case_name='Hermine')"
   ]
  },
  {
   "attachments": {},
   "cell_type": "markdown",
   "id": "7c75970f-d78e-40b2-b9a9-8c8d259635d8",
   "metadata": {},
   "source": [
    "# Extract GFDL results and calculate track and intensity errors"
   ]
  },
  {
   "cell_type": "code",
   "execution_count": null,
   "id": "8f711cf3-9f97-4d43-98b8-e594b3ae81e3",
   "metadata": {},
   "outputs": [],
   "source": [
    "# from track_and_intensity import calculate_track_intensity_errors\n",
    "\n",
    "# calculate_track_intensity_errors(data_library_name='goes',\n",
    "#                                  dir_case='/02_GOES_Bias_Correction/29_Ida',\n",
    "#                                  case_name='Ida1',\n",
    "#                                  exp_name='CTRL')"
   ]
  },
  {
   "attachments": {},
   "cell_type": "markdown",
   "id": "2980632b-cbd8-45a1-9937-0b91cf7b3201",
   "metadata": {
    "tags": []
   },
   "source": [
    "# Compare track forecasts"
   ]
  },
  {
   "cell_type": "code",
   "execution_count": null,
   "id": "f50dcd99-dd24-4819-915b-e71b31ae3b11",
   "metadata": {},
   "outputs": [],
   "source": [
    "from track_and_intensity import compare_track_scheme\n",
    "\n",
    "compare_track_scheme(data_library_name='goes',\n",
    "                     scheme='GOES_Ida_scheme_01')"
   ]
  },
  {
   "cell_type": "code",
   "execution_count": null,
   "id": "fb13907c-e108-49a1-a4fb-8101c39ec8ec",
   "metadata": {},
   "outputs": [],
   "source": [
    "# from track_and_intensity import compare_track_scheme\n",
    "# from track_and_intensity import compare_averaged_RMSE_time_series_scheme\n",
    "# from track_and_intensity import compare_averaged_RMSE_each_cycle_scheme\n",
    "\n",
    "# # compare_track_scheme(data_library_name='goes', scheme='GOES_Laura_scheme_02')\n",
    "# compare_averaged_RMSE_time_series_scheme(data_library_name='goes', scheme='GOES_Laura_scheme_04', variable='Track_Error (km)')\n",
    "# compare_averaged_RMSE_each_cycle_scheme(data_library_name='goes', scheme='GOES_Laura_scheme_04', variable='Track_Error (km)')"
   ]
  },
  {
   "cell_type": "code",
   "execution_count": null,
   "id": "c44ef008-c5be-4083-ab7f-fdb73575b551",
   "metadata": {},
   "outputs": [],
   "source": [
    "# from track_and_intensity import compare_averaged_RMSE_specific_time_each_cycle\n",
    "\n",
    "# compare_averaged_RMSE_specific_time_each_cycle(scheme='TROPICS_Ida_scheme_20', variable='Track_Error (km)', specific_hours=72)\n",
    "# compare_averaged_RMSE_specific_time_each_cycle(scheme='TROPICS_Ida_scheme_21', variable='Track_Error (km)', specific_hours=72)\n",
    "# compare_averaged_RMSE_specific_time_each_cycle(scheme='TROPICS_Ida_scheme_22', variable='Track_Error (km)', specific_hours=72)\n",
    "# compare_averaged_RMSE_specific_time_each_cycle(scheme='TROPICS_Ida_scheme_23', variable='Track_Error (km)', specific_hours=72)"
   ]
  },
  {
   "attachments": {},
   "cell_type": "markdown",
   "id": "7f7581df-8cca-45d2-9746-8ecb32b5cad0",
   "metadata": {
    "tags": []
   },
   "source": [
    "# Compare MSLP forecasts"
   ]
  },
  {
   "cell_type": "code",
   "execution_count": null,
   "id": "e6d66bd2",
   "metadata": {},
   "outputs": [],
   "source": [
    "# from track_and_intensity import compare_intensity_scheme\n",
    "\n",
    "# compare_intensity_scheme(data_library_name='goes',\n",
    "#                          scheme='GOES_Ida_scheme_01',\n",
    "#                          variable='MSLP (hPa)')"
   ]
  },
  {
   "cell_type": "code",
   "execution_count": null,
   "id": "2f5bf594",
   "metadata": {},
   "outputs": [],
   "source": [
    "# from track_and_intensity import compare_intensity_scheme\n",
    "# from track_and_intensity import compare_averaged_RMSE_time_series_scheme\n",
    "# from track_and_intensity import compare_averaged_RMSE_each_cycle_scheme\n",
    "\n",
    "# # compare_intensity_scheme(data_library_name='goes', scheme='GOES_Laura_scheme_02', variable='MSLP (hPa)')\n",
    "# compare_averaged_RMSE_time_series_scheme(data_library_name='goes', scheme='GOES_Laura_scheme_04', variable='MSLP_Error (hPa)')\n",
    "# compare_averaged_RMSE_each_cycle_scheme(data_library_name='goes', scheme='GOES_Laura_scheme_04', variable='MSLP_Error (hPa)')"
   ]
  },
  {
   "cell_type": "code",
   "execution_count": null,
   "id": "0e23c5eb-9a55-43fb-a327-737712b15938",
   "metadata": {},
   "outputs": [],
   "source": [
    "# from track_and_intensity import compare_intensity\n",
    "# from track_and_intensity import compare_averaged_RMSE_time_series\n",
    "# from track_and_intensity import compare_averaged_RMSE_each_cycle\n",
    "\n",
    "# compare_intensity(scheme='TROPICS_Ida_scheme_05', variable='MSLP (hPa)')\n",
    "# compare_averaged_RMSE_time_series(scheme='TROPICS_Ida_scheme_04', variable='MSLP_Error (hPa)')\n",
    "# compare_averaged_RMSE_each_cycle(scheme='TROPICS_Ida_scheme_04', variable='MSLP_Error (hPa)')"
   ]
  },
  {
   "cell_type": "code",
   "execution_count": null,
   "id": "4054442e-b593-45e4-b415-c783a734d89a",
   "metadata": {},
   "outputs": [],
   "source": [
    "# from track_and_intensity import compare_averaged_RMSE_specific_time_each_cycle\n",
    "\n",
    "# compare_averaged_RMSE_specific_time_each_cycle(scheme='TROPICS_Ida_scheme_20', variable='MSLP_Error (hPa)', specific_hours=72)\n",
    "# compare_averaged_RMSE_specific_time_each_cycle(scheme='TROPICS_Ida_scheme_21', variable='MSLP_Error (hPa)', specific_hours=72)\n",
    "# compare_averaged_RMSE_specific_time_each_cycle(scheme='TROPICS_Ida_scheme_22', variable='MSLP_Error (hPa)', specific_hours=72)\n",
    "# compare_averaged_RMSE_specific_time_each_cycle(scheme='TROPICS_Ida_scheme_23', variable='MSLP_Error (hPa)', specific_hours=72)"
   ]
  },
  {
   "attachments": {},
   "cell_type": "markdown",
   "id": "c423cb9a-7dc3-44ff-9ef0-5dc82854f4eb",
   "metadata": {},
   "source": [
    "# Compare MWS forecasts"
   ]
  },
  {
   "cell_type": "code",
   "execution_count": null,
   "id": "34d35405",
   "metadata": {},
   "outputs": [],
   "source": [
    "# from track_and_intensity import compare_intensity_scheme\n",
    "\n",
    "# compare_intensity_scheme(data_library_name='goes',\n",
    "#                          scheme='GOES_Ida_scheme_01',\n",
    "#                          variable='MWS (Knot)')"
   ]
  },
  {
   "cell_type": "code",
   "execution_count": null,
   "id": "dfd6ae08",
   "metadata": {},
   "outputs": [],
   "source": [
    "# from track_and_intensity import compare_intensity_scheme\n",
    "# from track_and_intensity import compare_averaged_RMSE_time_series_scheme\n",
    "# from track_and_intensity import compare_averaged_RMSE_each_cycle_scheme\n",
    "\n",
    "# # compare_intensity_scheme(data_library_name='goes', scheme='GOES_Laura_scheme_02', variable='MWS (Knot)')\n",
    "# compare_averaged_RMSE_time_series_scheme(data_library_name='goes', scheme='GOES_Laura_scheme_04', variable='MWS_Error (Knot)')\n",
    "# compare_averaged_RMSE_each_cycle_scheme(data_library_name='goes', scheme='GOES_Laura_scheme_04', variable='MWS_Error (Knot)')"
   ]
  },
  {
   "cell_type": "code",
   "execution_count": null,
   "id": "9fcc00c5-937c-4fda-85a4-e337ebe5ab94",
   "metadata": {},
   "outputs": [],
   "source": [
    "# from track_and_intensity import compare_intensity\n",
    "# from track_and_intensity import compare_averaged_RMSE_time_series\n",
    "# from track_and_intensity import compare_averaged_RMSE_each_cycle\n",
    "\n",
    "# # compare_intensity(scheme='TROPICS_Ida_scheme_05', variable='MWS (Knot)')\n",
    "# compare_averaged_RMSE_time_series(scheme='TROPICS_Ida_scheme_04', variable='MWS_Error (Knot)')\n",
    "# compare_averaged_RMSE_each_cycle(scheme='TROPICS_Ida_scheme_04', variable='MWS_Error (Knot)')"
   ]
  },
  {
   "cell_type": "code",
   "execution_count": null,
   "id": "7285f125-f689-426f-9fd4-a6f1c641697c",
   "metadata": {},
   "outputs": [],
   "source": [
    "# from track_and_intensity import compare_averaged_RMSE_specific_time_each_cycle\n",
    "\n",
    "# compare_averaged_RMSE_specific_time_each_cycle(scheme='TROPICS_Ida_scheme_20', variable='MWS_Error (Knot)', specific_hours=72)\n",
    "# compare_averaged_RMSE_specific_time_each_cycle(scheme='TROPICS_Ida_scheme_21', variable='MWS_Error (Knot)', specific_hours=72)\n",
    "# compare_averaged_RMSE_specific_time_each_cycle(scheme='TROPICS_Ida_scheme_22', variable='MWS_Error (Knot)', specific_hours=72)\n",
    "# compare_averaged_RMSE_specific_time_each_cycle(scheme='TROPICS_Ida_scheme_23', variable='MWS_Error (Knot)', specific_hours=72)"
   ]
  }
 ],
 "metadata": {
  "kernelspec": {
   "display_name": "Python 3 (ipykernel)",
   "language": "python",
   "name": "python3"
  },
  "language_info": {
   "codemirror_mode": {
    "name": "ipython",
    "version": 3
   },
   "file_extension": ".py",
   "mimetype": "text/x-python",
   "name": "python",
   "nbconvert_exporter": "python",
   "pygments_lexer": "ipython3",
   "version": "3.9.18"
  }
 },
 "nbformat": 4,
 "nbformat_minor": 5
}
