{
 "cells": [
  {
   "cell_type": "markdown",
   "id": "8a1ac3f5-4e2c-4a46-b29c-4cd914a4b560",
   "metadata": {
    "tags": []
   },
   "source": [
    "# Link the WRF output to a specific folder"
   ]
  },
  {
   "cell_type": "code",
   "execution_count": 1,
   "id": "cb05f31e-2414-4ed6-8eb7-98a924643f59",
   "metadata": {
    "tags": []
   },
   "outputs": [
    {
     "name": "stdout",
     "output_type": "stream",
     "text": [
      "Link wrfout files from 2021-08-26 06:00:00 to 2021-08-29 18:00:00\n"
     ]
    },
    {
     "name": "stderr",
     "output_type": "stream",
     "text": [
      "Processing files: 100%|█████████████████████████████████████████████████████████████████████████████████████████████████████████████████████████████████████████████████████| 15/15 [00:03<00:00,  4.64it/s]\n"
     ]
    }
   ],
   "source": [
    "from data_library import data_library\n",
    "from GFDL_vortex_tracker import link_wrfout\n",
    "\n",
    "(dir_case, case_name, exp_name) = ('/05_TROPICS/05_cycling_da', 'Ida', 'TROPICS_T_CLR_ENS')\n",
    "\n",
    "link_wrfout(case_name=case_name,\n",
    "            exp_name=exp_name,\n",
    "            da_cycle=2,\n",
    "            itime=data_library[(dir_case, case_name, exp_name)]['itime'],\n",
    "            forecast_hours=data_library[(dir_case, case_name, exp_name)]['forecast_hours'],\n",
    "            dir_exp=data_library[(dir_case, case_name, exp_name)]['dir_exp'],\n",
    "            history_interval=data_library[(dir_case, case_name, exp_name)]['history_interval'],\n",
    "            GFDL_domains=data_library[(dir_case, case_name, exp_name)]['GFDL_domains'])"
   ]
  },
  {
   "cell_type": "markdown",
   "id": "0a993a5d-ef40-4eb3-af68-583df1928291",
   "metadata": {
    "tags": []
   },
   "source": [
    "# Copy the nessary files for running unipost"
   ]
  },
  {
   "cell_type": "code",
   "execution_count": 2,
   "id": "4eeb13fd-1196-4ba6-aca9-b5678f3f512e",
   "metadata": {
    "tags": []
   },
   "outputs": [
    {
     "name": "stdout",
     "output_type": "stream",
     "text": [
      "Ida_TROPICS_T_CLR_ENS_C02\n",
      "Please revise fort.15 in multi\n",
      "Please revise input.nml in multi\n",
      "Please revise tcvit_rsmc_storms.txt in multi\n",
      "Please revise run_unipost in postprd\n",
      "Please run run_unipost!\n"
     ]
    }
   ],
   "source": [
    "from data_library import data_library\n",
    "from GFDL_vortex_tracker import setup_GFDL_folder\n",
    "\n",
    "(dir_case, case_name, exp_name) = ('/05_TROPICS/05_cycling_da', 'Ida', 'TROPICS_T_CLR_ENS')\n",
    "\n",
    "setup_GFDL_folder(case_name=case_name,\n",
    "                  exp_name=exp_name,\n",
    "                  da_cycle=2,\n",
    "                  dir_exp=data_library[(dir_case, case_name, exp_name)]['dir_exp'],\n",
    "                  copy_exp_name='TROPICS_T_CLR_ENS_C01')"
   ]
  },
  {
   "cell_type": "markdown",
   "id": "baae3988-0589-4fb2-a236-ffa2a9bfc823",
   "metadata": {},
   "source": [
    "# Copy FINAL and run grbindex.exe"
   ]
  },
  {
   "cell_type": "code",
   "execution_count": null,
   "id": "4a2dffe1-de1b-4e9b-914c-302201f3b56c",
   "metadata": {},
   "outputs": [],
   "source": [
    "from data_library import data_library\n",
    "from GFDL_vortex_tracker import process_GFDL_files\n",
    "\n",
    "(dir_case, case_name, exp_name) = ('/05_TROPICS/05_cycling_da', 'Ida', 'TROPICS_T_CLR_ENS')\n",
    "\n",
    "process_GFDL_files(case_name=case_name,\n",
    "                   exp_name=exp_name,\n",
    "                   da_cycle=1,\n",
    "                   itime=data_library[(dir_case, case_name, exp_name)]['itime'],\n",
    "                   forecast_hours=data_library[(dir_case, case_name, exp_name)]['forecast_hours'],\n",
    "                   dir_exp=data_library[(dir_case, case_name, exp_name)]['dir_exp'],\n",
    "                   GFDL_domains=data_library[(dir_case, case_name, exp_name)]['GFDL_domains'],\n",
    "                   history_interval=data_library[(dir_case, case_name, exp_name)]['history_interval'],\n",
    "                   hwrf_header=data_library[(dir_case, case_name, exp_name)]['hwrf_header'])"
   ]
  },
  {
   "cell_type": "code",
   "execution_count": null,
   "id": "44f1a520-aaf1-4e6f-ac3d-6effa3d5104d",
   "metadata": {},
   "outputs": [],
   "source": []
  }
 ],
 "metadata": {
  "kernelspec": {
   "display_name": "Python 3 (ipykernel)",
   "language": "python",
   "name": "python3"
  },
  "language_info": {
   "codemirror_mode": {
    "name": "ipython",
    "version": 3
   },
   "file_extension": ".py",
   "mimetype": "text/x-python",
   "name": "python",
   "nbconvert_exporter": "python",
   "pygments_lexer": "ipython3",
   "version": "3.9.7"
  }
 },
 "nbformat": 4,
 "nbformat_minor": 5
}
