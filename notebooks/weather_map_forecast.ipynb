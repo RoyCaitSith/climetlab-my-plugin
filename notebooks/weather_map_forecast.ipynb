{
 "cells": [
  {
   "attachments": {},
   "cell_type": "markdown",
   "metadata": {},
   "source": [
    "# Surface Wind"
   ]
  },
  {
   "cell_type": "code",
   "execution_count": null,
   "metadata": {},
   "outputs": [],
   "source": [
    "from weather_map_forecast import draw_sfc_wind_individual\n",
    "\n",
    "data_library_names = ['cpex']*4\n",
    "dir_cases = ['/08_CPEX/02_AW_RF01_AEW01']*4\n",
    "case_names = ['AEW01']*4\n",
    "exp_names = ['CTRL', 'CONV', 'DAWN', 'HALO']\n",
    "\n",
    "draw_sfc_wind_individual(data_library_names=data_library_names,\n",
    "                         dir_cases=dir_cases,\n",
    "                         case_names=case_names,\n",
    "                         exp_names=exp_names)"
   ]
  },
  {
   "attachments": {},
   "cell_type": "markdown",
   "metadata": {},
   "source": [
    "# Surface Wind and Rainfall"
   ]
  },
  {
   "cell_type": "code",
   "execution_count": null,
   "metadata": {},
   "outputs": [],
   "source": [
    "from weather_map_forecast import draw_slp_rain_individual\n",
    "\n",
    "data_library_names = ['cpex']\n",
    "dir_cases = ['/08_CPEX/01_CV_RF07_AEW06_IAN']\n",
    "case_names = ['Ian']\n",
    "exp_names = ['HALO']\n",
    "\n",
    "draw_slp_rain_individual(data_library_names=data_library_names,\n",
    "                         dir_cases=dir_cases,\n",
    "                         case_names=case_names,\n",
    "                         exp_names=exp_names)"
   ]
  },
  {
   "cell_type": "code",
   "execution_count": null,
   "metadata": {},
   "outputs": [],
   "source": []
  }
 ],
 "metadata": {
  "kernelspec": {
   "display_name": "base",
   "language": "python",
   "name": "python3"
  },
  "language_info": {
   "codemirror_mode": {
    "name": "ipython",
    "version": 3
   },
   "file_extension": ".py",
   "mimetype": "text/x-python",
   "name": "python",
   "nbconvert_exporter": "python",
   "pygments_lexer": "ipython3",
   "version": "3.10.9"
  },
  "orig_nbformat": 4
 },
 "nbformat": 4,
 "nbformat_minor": 2
}
