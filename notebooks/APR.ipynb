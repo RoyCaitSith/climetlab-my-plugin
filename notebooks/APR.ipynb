{
 "cells": [
  {
   "cell_type": "code",
   "execution_count": null,
   "metadata": {},
   "outputs": [],
   "source": [
    "import sys\n",
    "sys.path.insert(0, \"/uufs/chpc.utah.edu/common/home/u1237353/climetlab-my-plugin/functions\")"
   ]
  },
  {
   "cell_type": "code",
   "execution_count": 1,
   "id": "c0bb1794",
   "metadata": {},
   "outputs": [
    {
     "data": {
      "application/vnd.jupyter.widget-view+json": {
       "model_id": "bcd9a13d6f574311a1f2e4040dcbe308",
       "version_major": 2,
       "version_minor": 0
      },
      "text/plain": [
       "Cases: 0/9 files | 00:00<?"
      ]
     },
     "metadata": {},
     "output_type": "display_data"
    },
    {
     "data": {
      "application/vnd.jupyter.widget-view+json": {
       "model_id": "b8e8042a05fd4c048ce9b093fa37860d",
       "version_major": 2,
       "version_minor": 0
      },
      "text/plain": [
       "Domains:   0%|          | 0/2 [00:00<?, ?it/s]"
      ]
     },
     "metadata": {},
     "output_type": "display_data"
    },
    {
     "data": {
      "application/vnd.jupyter.widget-view+json": {
       "model_id": "7ca62e17fb72427986cbe4f7ac844aff",
       "version_major": 2,
       "version_minor": 0
      },
      "text/plain": [
       "Cycles:   0%|          | 0/1 [00:00<?, ?it/s]"
      ]
     },
     "metadata": {},
     "output_type": "display_data"
    },
    {
     "data": {
      "application/vnd.jupyter.widget-view+json": {
       "model_id": "c9ac701cdc0b48f6aaf06c288b55eb07",
       "version_major": 2,
       "version_minor": 0
      },
      "text/plain": [
       "Times:   0%|          | 0/4 [00:00<?, ?it/s]"
      ]
     },
     "metadata": {},
     "output_type": "display_data"
    },
    {
     "data": {
      "application/vnd.jupyter.widget-view+json": {
       "model_id": "6e4c63f628f440ea8fddda37829a1f7e",
       "version_major": 2,
       "version_minor": 0
      },
      "text/plain": [
       "Levels:   0%|          | 0/131 [00:00<?, ?it/s]"
      ]
     },
     "metadata": {},
     "output_type": "display_data"
    },
    {
     "data": {
      "application/vnd.jupyter.widget-view+json": {
       "model_id": "c695419c7bc6472a99a841cf503f8347",
       "version_major": 2,
       "version_minor": 0
      },
      "text/plain": [
       "Levels:   0%|          | 0/131 [00:00<?, ?it/s]"
      ]
     },
     "metadata": {},
     "output_type": "display_data"
    },
    {
     "data": {
      "application/vnd.jupyter.widget-view+json": {
       "model_id": "5f5ecda1743f46199cd0ee266a33f2bf",
       "version_major": 2,
       "version_minor": 0
      },
      "text/plain": [
       "Levels:   0%|          | 0/131 [00:00<?, ?it/s]"
      ]
     },
     "metadata": {},
     "output_type": "display_data"
    },
    {
     "data": {
      "application/vnd.jupyter.widget-view+json": {
       "model_id": "5af3805400a74b389ad6b508b12dce5f",
       "version_major": 2,
       "version_minor": 0
      },
      "text/plain": [
       "Levels:   0%|          | 0/131 [00:00<?, ?it/s]"
      ]
     },
     "metadata": {},
     "output_type": "display_data"
    },
    {
     "data": {
      "application/vnd.jupyter.widget-view+json": {
       "model_id": "6a63823aa14d40b0bdbdf542f7050c57",
       "version_major": 2,
       "version_minor": 0
      },
      "text/plain": [
       "Cycles:   0%|          | 0/1 [00:00<?, ?it/s]"
      ]
     },
     "metadata": {},
     "output_type": "display_data"
    },
    {
     "data": {
      "application/vnd.jupyter.widget-view+json": {
       "model_id": "1fe9580a6eb84b358bee3255f7c385d3",
       "version_major": 2,
       "version_minor": 0
      },
      "text/plain": [
       "Times:   0%|          | 0/4 [00:00<?, ?it/s]"
      ]
     },
     "metadata": {},
     "output_type": "display_data"
    },
    {
     "data": {
      "application/vnd.jupyter.widget-view+json": {
       "model_id": "50d2c597b5ba4ebc8de41ad495056b00",
       "version_major": 2,
       "version_minor": 0
      },
      "text/plain": [
       "Levels:   0%|          | 0/131 [00:00<?, ?it/s]"
      ]
     },
     "metadata": {},
     "output_type": "display_data"
    },
    {
     "data": {
      "application/vnd.jupyter.widget-view+json": {
       "model_id": "971ead6d69b549029032201884aafd77",
       "version_major": 2,
       "version_minor": 0
      },
      "text/plain": [
       "Levels:   0%|          | 0/131 [00:00<?, ?it/s]"
      ]
     },
     "metadata": {},
     "output_type": "display_data"
    },
    {
     "data": {
      "application/vnd.jupyter.widget-view+json": {
       "model_id": "de3651bbdfc248ad82c010c156a23836",
       "version_major": 2,
       "version_minor": 0
      },
      "text/plain": [
       "Levels:   0%|          | 0/131 [00:00<?, ?it/s]"
      ]
     },
     "metadata": {},
     "output_type": "display_data"
    },
    {
     "data": {
      "application/vnd.jupyter.widget-view+json": {
       "model_id": "8a58d2ca92c14f4ba70cf1e83d1806d3",
       "version_major": 2,
       "version_minor": 0
      },
      "text/plain": [
       "Levels:   0%|          | 0/131 [00:00<?, ?it/s]"
      ]
     },
     "metadata": {},
     "output_type": "display_data"
    },
    {
     "data": {
      "application/vnd.jupyter.widget-view+json": {
       "model_id": "42f47e2c29b4404399deaab738db8169",
       "version_major": 2,
       "version_minor": 0
      },
      "text/plain": [
       "Domains:   0%|          | 0/2 [00:00<?, ?it/s]"
      ]
     },
     "metadata": {},
     "output_type": "display_data"
    },
    {
     "data": {
      "application/vnd.jupyter.widget-view+json": {
       "model_id": "4e21eb4698fd4e7c960c382e8a965a14",
       "version_major": 2,
       "version_minor": 0
      },
      "text/plain": [
       "Cycles:   0%|          | 0/1 [00:00<?, ?it/s]"
      ]
     },
     "metadata": {},
     "output_type": "display_data"
    },
    {
     "data": {
      "application/vnd.jupyter.widget-view+json": {
       "model_id": "36006fad4517418ca471dfbab1eda14c",
       "version_major": 2,
       "version_minor": 0
      },
      "text/plain": [
       "Times:   0%|          | 0/4 [00:00<?, ?it/s]"
      ]
     },
     "metadata": {},
     "output_type": "display_data"
    },
    {
     "data": {
      "application/vnd.jupyter.widget-view+json": {
       "model_id": "8e5df56bf8d8480c912fb0e52754a25d",
       "version_major": 2,
       "version_minor": 0
      },
      "text/plain": [
       "Levels:   0%|          | 0/131 [00:00<?, ?it/s]"
      ]
     },
     "metadata": {},
     "output_type": "display_data"
    },
    {
     "data": {
      "application/vnd.jupyter.widget-view+json": {
       "model_id": "120d124956d94fc39d8e6634b0068e39",
       "version_major": 2,
       "version_minor": 0
      },
      "text/plain": [
       "Levels:   0%|          | 0/131 [00:00<?, ?it/s]"
      ]
     },
     "metadata": {},
     "output_type": "display_data"
    },
    {
     "data": {
      "application/vnd.jupyter.widget-view+json": {
       "model_id": "31d6103879f2426c91130f9426adfa9c",
       "version_major": 2,
       "version_minor": 0
      },
      "text/plain": [
       "Levels:   0%|          | 0/131 [00:00<?, ?it/s]"
      ]
     },
     "metadata": {},
     "output_type": "display_data"
    },
    {
     "data": {
      "application/vnd.jupyter.widget-view+json": {
       "model_id": "dacfbac729b042e1808cec0ba0df8814",
       "version_major": 2,
       "version_minor": 0
      },
      "text/plain": [
       "Levels:   0%|          | 0/131 [00:00<?, ?it/s]"
      ]
     },
     "metadata": {},
     "output_type": "display_data"
    },
    {
     "data": {
      "application/vnd.jupyter.widget-view+json": {
       "model_id": "59b1305de20a45ed8d28622665454491",
       "version_major": 2,
       "version_minor": 0
      },
      "text/plain": [
       "Cycles:   0%|          | 0/1 [00:00<?, ?it/s]"
      ]
     },
     "metadata": {},
     "output_type": "display_data"
    },
    {
     "data": {
      "application/vnd.jupyter.widget-view+json": {
       "model_id": "9dfff679bc6c4d12ab16eae174b9a336",
       "version_major": 2,
       "version_minor": 0
      },
      "text/plain": [
       "Times:   0%|          | 0/4 [00:00<?, ?it/s]"
      ]
     },
     "metadata": {},
     "output_type": "display_data"
    },
    {
     "data": {
      "application/vnd.jupyter.widget-view+json": {
       "model_id": "28e20f0fe00d4838bdd0d914dcfd0787",
       "version_major": 2,
       "version_minor": 0
      },
      "text/plain": [
       "Levels:   0%|          | 0/131 [00:00<?, ?it/s]"
      ]
     },
     "metadata": {},
     "output_type": "display_data"
    },
    {
     "data": {
      "application/vnd.jupyter.widget-view+json": {
       "model_id": "43353b6608704084ba946366d367f2d0",
       "version_major": 2,
       "version_minor": 0
      },
      "text/plain": [
       "Levels:   0%|          | 0/131 [00:00<?, ?it/s]"
      ]
     },
     "metadata": {},
     "output_type": "display_data"
    },
    {
     "data": {
      "application/vnd.jupyter.widget-view+json": {
       "model_id": "941722b595e745f3b1a460c33cc1082d",
       "version_major": 2,
       "version_minor": 0
      },
      "text/plain": [
       "Levels:   0%|          | 0/131 [00:00<?, ?it/s]"
      ]
     },
     "metadata": {},
     "output_type": "display_data"
    },
    {
     "data": {
      "application/vnd.jupyter.widget-view+json": {
       "model_id": "f6125cd3dee0431abb32fcfdc911d710",
       "version_major": 2,
       "version_minor": 0
      },
      "text/plain": [
       "Levels:   0%|          | 0/131 [00:00<?, ?it/s]"
      ]
     },
     "metadata": {},
     "output_type": "display_data"
    },
    {
     "data": {
      "application/vnd.jupyter.widget-view+json": {
       "model_id": "285d6ac71185429ab54ae73c10d156d8",
       "version_major": 2,
       "version_minor": 0
      },
      "text/plain": [
       "Domains:   0%|          | 0/2 [00:00<?, ?it/s]"
      ]
     },
     "metadata": {},
     "output_type": "display_data"
    },
    {
     "data": {
      "application/vnd.jupyter.widget-view+json": {
       "model_id": "e6f339be194449be938c4c101fff7503",
       "version_major": 2,
       "version_minor": 0
      },
      "text/plain": [
       "Cycles:   0%|          | 0/1 [00:00<?, ?it/s]"
      ]
     },
     "metadata": {},
     "output_type": "display_data"
    },
    {
     "data": {
      "application/vnd.jupyter.widget-view+json": {
       "model_id": "656791a8e8754065a46efb91fc51b508",
       "version_major": 2,
       "version_minor": 0
      },
      "text/plain": [
       "Times:   0%|          | 0/4 [00:00<?, ?it/s]"
      ]
     },
     "metadata": {},
     "output_type": "display_data"
    },
    {
     "data": {
      "application/vnd.jupyter.widget-view+json": {
       "model_id": "529e3c611c6949e68fc39e10bc5e8bb4",
       "version_major": 2,
       "version_minor": 0
      },
      "text/plain": [
       "Levels:   0%|          | 0/131 [00:00<?, ?it/s]"
      ]
     },
     "metadata": {},
     "output_type": "display_data"
    },
    {
     "data": {
      "application/vnd.jupyter.widget-view+json": {
       "model_id": "96e5ef85d6fd46389bf4d3fb0f3eb048",
       "version_major": 2,
       "version_minor": 0
      },
      "text/plain": [
       "Levels:   0%|          | 0/131 [00:00<?, ?it/s]"
      ]
     },
     "metadata": {},
     "output_type": "display_data"
    },
    {
     "data": {
      "application/vnd.jupyter.widget-view+json": {
       "model_id": "d4b8ce66cd4846eda8e4268bab0c954b",
       "version_major": 2,
       "version_minor": 0
      },
      "text/plain": [
       "Levels:   0%|          | 0/131 [00:00<?, ?it/s]"
      ]
     },
     "metadata": {},
     "output_type": "display_data"
    },
    {
     "data": {
      "application/vnd.jupyter.widget-view+json": {
       "model_id": "9e772bcc7e6f46609c25cd5359b53773",
       "version_major": 2,
       "version_minor": 0
      },
      "text/plain": [
       "Levels:   0%|          | 0/131 [00:00<?, ?it/s]"
      ]
     },
     "metadata": {},
     "output_type": "display_data"
    },
    {
     "data": {
      "application/vnd.jupyter.widget-view+json": {
       "model_id": "31305862e29945d0af306ec3bd5e1df9",
       "version_major": 2,
       "version_minor": 0
      },
      "text/plain": [
       "Cycles:   0%|          | 0/1 [00:00<?, ?it/s]"
      ]
     },
     "metadata": {},
     "output_type": "display_data"
    },
    {
     "data": {
      "application/vnd.jupyter.widget-view+json": {
       "model_id": "19d6fcbaf9aa4a258bc525c2377e273a",
       "version_major": 2,
       "version_minor": 0
      },
      "text/plain": [
       "Times:   0%|          | 0/4 [00:00<?, ?it/s]"
      ]
     },
     "metadata": {},
     "output_type": "display_data"
    },
    {
     "data": {
      "application/vnd.jupyter.widget-view+json": {
       "model_id": "10b050fbaf2547e1b37bab51933a2995",
       "version_major": 2,
       "version_minor": 0
      },
      "text/plain": [
       "Levels:   0%|          | 0/131 [00:00<?, ?it/s]"
      ]
     },
     "metadata": {},
     "output_type": "display_data"
    },
    {
     "data": {
      "application/vnd.jupyter.widget-view+json": {
       "model_id": "5fc3288616dd4f3f8610bbfd39acb219",
       "version_major": 2,
       "version_minor": 0
      },
      "text/plain": [
       "Levels:   0%|          | 0/131 [00:00<?, ?it/s]"
      ]
     },
     "metadata": {},
     "output_type": "display_data"
    },
    {
     "data": {
      "application/vnd.jupyter.widget-view+json": {
       "model_id": "bc5024138d0c4625914e4700408cf6c1",
       "version_major": 2,
       "version_minor": 0
      },
      "text/plain": [
       "Levels:   0%|          | 0/131 [00:00<?, ?it/s]"
      ]
     },
     "metadata": {},
     "output_type": "display_data"
    },
    {
     "data": {
      "application/vnd.jupyter.widget-view+json": {
       "model_id": "84d356228eb645d384a5d30f059b6b7c",
       "version_major": 2,
       "version_minor": 0
      },
      "text/plain": [
       "Levels:   0%|          | 0/131 [00:00<?, ?it/s]"
      ]
     },
     "metadata": {},
     "output_type": "display_data"
    },
    {
     "data": {
      "application/vnd.jupyter.widget-view+json": {
       "model_id": "1cc27bf4059e4b65a5b788fc22eb85f2",
       "version_major": 2,
       "version_minor": 0
      },
      "text/plain": [
       "Domains:   0%|          | 0/2 [00:00<?, ?it/s]"
      ]
     },
     "metadata": {},
     "output_type": "display_data"
    },
    {
     "data": {
      "application/vnd.jupyter.widget-view+json": {
       "model_id": "6e2d06c7785740369e10124f804264ff",
       "version_major": 2,
       "version_minor": 0
      },
      "text/plain": [
       "Cycles:   0%|          | 0/1 [00:00<?, ?it/s]"
      ]
     },
     "metadata": {},
     "output_type": "display_data"
    },
    {
     "data": {
      "application/vnd.jupyter.widget-view+json": {
       "model_id": "81d267635d9d4dffa28d78c7b4c824a6",
       "version_major": 2,
       "version_minor": 0
      },
      "text/plain": [
       "Times:   0%|          | 0/4 [00:00<?, ?it/s]"
      ]
     },
     "metadata": {},
     "output_type": "display_data"
    },
    {
     "data": {
      "application/vnd.jupyter.widget-view+json": {
       "model_id": "d35eeecd37c44f349920d59c8b60488f",
       "version_major": 2,
       "version_minor": 0
      },
      "text/plain": [
       "Levels:   0%|          | 0/131 [00:00<?, ?it/s]"
      ]
     },
     "metadata": {},
     "output_type": "display_data"
    },
    {
     "data": {
      "application/vnd.jupyter.widget-view+json": {
       "model_id": "6eb4c20241e74049a38a7314f76f5474",
       "version_major": 2,
       "version_minor": 0
      },
      "text/plain": [
       "Levels:   0%|          | 0/131 [00:00<?, ?it/s]"
      ]
     },
     "metadata": {},
     "output_type": "display_data"
    },
    {
     "data": {
      "application/vnd.jupyter.widget-view+json": {
       "model_id": "2ab86a1bae6c4ede9aaa31320d40a2b0",
       "version_major": 2,
       "version_minor": 0
      },
      "text/plain": [
       "Levels:   0%|          | 0/131 [00:00<?, ?it/s]"
      ]
     },
     "metadata": {},
     "output_type": "display_data"
    },
    {
     "data": {
      "application/vnd.jupyter.widget-view+json": {
       "model_id": "466197483c244fa285d4dec66dde0428",
       "version_major": 2,
       "version_minor": 0
      },
      "text/plain": [
       "Levels:   0%|          | 0/131 [00:00<?, ?it/s]"
      ]
     },
     "metadata": {},
     "output_type": "display_data"
    },
    {
     "data": {
      "application/vnd.jupyter.widget-view+json": {
       "model_id": "14aec4cc9326412a82352f660ad2e22a",
       "version_major": 2,
       "version_minor": 0
      },
      "text/plain": [
       "Cycles:   0%|          | 0/1 [00:00<?, ?it/s]"
      ]
     },
     "metadata": {},
     "output_type": "display_data"
    },
    {
     "data": {
      "application/vnd.jupyter.widget-view+json": {
       "model_id": "8de5079e76a246f8918114785cb4a828",
       "version_major": 2,
       "version_minor": 0
      },
      "text/plain": [
       "Times:   0%|          | 0/4 [00:00<?, ?it/s]"
      ]
     },
     "metadata": {},
     "output_type": "display_data"
    },
    {
     "data": {
      "application/vnd.jupyter.widget-view+json": {
       "model_id": "119bc5adb7e64498a5d119ba86325afd",
       "version_major": 2,
       "version_minor": 0
      },
      "text/plain": [
       "Levels:   0%|          | 0/131 [00:00<?, ?it/s]"
      ]
     },
     "metadata": {},
     "output_type": "display_data"
    },
    {
     "data": {
      "application/vnd.jupyter.widget-view+json": {
       "model_id": "b103b4646ada42068e7133bb25aaa466",
       "version_major": 2,
       "version_minor": 0
      },
      "text/plain": [
       "Levels:   0%|          | 0/131 [00:00<?, ?it/s]"
      ]
     },
     "metadata": {},
     "output_type": "display_data"
    },
    {
     "data": {
      "application/vnd.jupyter.widget-view+json": {
       "model_id": "90d9ed9612884518b21c75fc0311fbf1",
       "version_major": 2,
       "version_minor": 0
      },
      "text/plain": [
       "Levels:   0%|          | 0/131 [00:00<?, ?it/s]"
      ]
     },
     "metadata": {},
     "output_type": "display_data"
    },
    {
     "data": {
      "application/vnd.jupyter.widget-view+json": {
       "model_id": "229e9739bb254f698d1b1e79e26f9e6f",
       "version_major": 2,
       "version_minor": 0
      },
      "text/plain": [
       "Levels:   0%|          | 0/131 [00:00<?, ?it/s]"
      ]
     },
     "metadata": {},
     "output_type": "display_data"
    },
    {
     "data": {
      "application/vnd.jupyter.widget-view+json": {
       "model_id": "b82141aab46c4d31af62bb42ae103bc0",
       "version_major": 2,
       "version_minor": 0
      },
      "text/plain": [
       "Domains:   0%|          | 0/2 [00:00<?, ?it/s]"
      ]
     },
     "metadata": {},
     "output_type": "display_data"
    },
    {
     "data": {
      "application/vnd.jupyter.widget-view+json": {
       "model_id": "808a2167e4134b89b6a43beb856fe29a",
       "version_major": 2,
       "version_minor": 0
      },
      "text/plain": [
       "Cycles:   0%|          | 0/1 [00:00<?, ?it/s]"
      ]
     },
     "metadata": {},
     "output_type": "display_data"
    },
    {
     "data": {
      "application/vnd.jupyter.widget-view+json": {
       "model_id": "fd74f60f82eb4b4dae608a35eed2deed",
       "version_major": 2,
       "version_minor": 0
      },
      "text/plain": [
       "Times:   0%|          | 0/4 [00:00<?, ?it/s]"
      ]
     },
     "metadata": {},
     "output_type": "display_data"
    },
    {
     "data": {
      "application/vnd.jupyter.widget-view+json": {
       "model_id": "aa3fcd26f946406190a1753a35c7833f",
       "version_major": 2,
       "version_minor": 0
      },
      "text/plain": [
       "Levels:   0%|          | 0/131 [00:00<?, ?it/s]"
      ]
     },
     "metadata": {},
     "output_type": "display_data"
    },
    {
     "data": {
      "application/vnd.jupyter.widget-view+json": {
       "model_id": "898feab86d384050a06c69ed8b907ce5",
       "version_major": 2,
       "version_minor": 0
      },
      "text/plain": [
       "Levels:   0%|          | 0/131 [00:00<?, ?it/s]"
      ]
     },
     "metadata": {},
     "output_type": "display_data"
    },
    {
     "data": {
      "application/vnd.jupyter.widget-view+json": {
       "model_id": "f9fecd20307745b984c195f6fb4c350d",
       "version_major": 2,
       "version_minor": 0
      },
      "text/plain": [
       "Levels:   0%|          | 0/131 [00:00<?, ?it/s]"
      ]
     },
     "metadata": {},
     "output_type": "display_data"
    },
    {
     "data": {
      "application/vnd.jupyter.widget-view+json": {
       "model_id": "427ecf1af4114424abefc1cba89a3019",
       "version_major": 2,
       "version_minor": 0
      },
      "text/plain": [
       "Levels:   0%|          | 0/131 [00:00<?, ?it/s]"
      ]
     },
     "metadata": {},
     "output_type": "display_data"
    },
    {
     "data": {
      "application/vnd.jupyter.widget-view+json": {
       "model_id": "5f2d7f731d9549779148ad3ab0cdd0bf",
       "version_major": 2,
       "version_minor": 0
      },
      "text/plain": [
       "Cycles:   0%|          | 0/1 [00:00<?, ?it/s]"
      ]
     },
     "metadata": {},
     "output_type": "display_data"
    },
    {
     "data": {
      "application/vnd.jupyter.widget-view+json": {
       "model_id": "e5245c7acb774afd997e588576e9767e",
       "version_major": 2,
       "version_minor": 0
      },
      "text/plain": [
       "Times:   0%|          | 0/4 [00:00<?, ?it/s]"
      ]
     },
     "metadata": {},
     "output_type": "display_data"
    },
    {
     "data": {
      "application/vnd.jupyter.widget-view+json": {
       "model_id": "36e2291505b24aada885dcad0e7841d4",
       "version_major": 2,
       "version_minor": 0
      },
      "text/plain": [
       "Levels:   0%|          | 0/131 [00:00<?, ?it/s]"
      ]
     },
     "metadata": {},
     "output_type": "display_data"
    },
    {
     "data": {
      "application/vnd.jupyter.widget-view+json": {
       "model_id": "6f5598d09c7543e588898a13ba0c91c6",
       "version_major": 2,
       "version_minor": 0
      },
      "text/plain": [
       "Levels:   0%|          | 0/131 [00:00<?, ?it/s]"
      ]
     },
     "metadata": {},
     "output_type": "display_data"
    },
    {
     "data": {
      "application/vnd.jupyter.widget-view+json": {
       "model_id": "bf195ae9b2a34640a56e734655b328e4",
       "version_major": 2,
       "version_minor": 0
      },
      "text/plain": [
       "Levels:   0%|          | 0/131 [00:00<?, ?it/s]"
      ]
     },
     "metadata": {},
     "output_type": "display_data"
    },
    {
     "data": {
      "application/vnd.jupyter.widget-view+json": {
       "model_id": "0eb56035108946af871485ac5b393411",
       "version_major": 2,
       "version_minor": 0
      },
      "text/plain": [
       "Levels:   0%|          | 0/131 [00:00<?, ?it/s]"
      ]
     },
     "metadata": {},
     "output_type": "display_data"
    },
    {
     "data": {
      "application/vnd.jupyter.widget-view+json": {
       "model_id": "9a3e7ff1afee4db293d8e3c9fdf1c59e",
       "version_major": 2,
       "version_minor": 0
      },
      "text/plain": [
       "Domains:   0%|          | 0/2 [00:00<?, ?it/s]"
      ]
     },
     "metadata": {},
     "output_type": "display_data"
    },
    {
     "data": {
      "application/vnd.jupyter.widget-view+json": {
       "model_id": "efb93975836349bfa045814f3722af1a",
       "version_major": 2,
       "version_minor": 0
      },
      "text/plain": [
       "Cycles:   0%|          | 0/1 [00:00<?, ?it/s]"
      ]
     },
     "metadata": {},
     "output_type": "display_data"
    },
    {
     "data": {
      "application/vnd.jupyter.widget-view+json": {
       "model_id": "e7f7561573d846548ab2f7de46c62ee4",
       "version_major": 2,
       "version_minor": 0
      },
      "text/plain": [
       "Times:   0%|          | 0/4 [00:00<?, ?it/s]"
      ]
     },
     "metadata": {},
     "output_type": "display_data"
    },
    {
     "data": {
      "application/vnd.jupyter.widget-view+json": {
       "model_id": "58d0545015034d048745af2d82a6e535",
       "version_major": 2,
       "version_minor": 0
      },
      "text/plain": [
       "Levels:   0%|          | 0/131 [00:00<?, ?it/s]"
      ]
     },
     "metadata": {},
     "output_type": "display_data"
    },
    {
     "data": {
      "application/vnd.jupyter.widget-view+json": {
       "model_id": "b02c258573e548fb95171630b7c1972f",
       "version_major": 2,
       "version_minor": 0
      },
      "text/plain": [
       "Levels:   0%|          | 0/131 [00:00<?, ?it/s]"
      ]
     },
     "metadata": {},
     "output_type": "display_data"
    },
    {
     "data": {
      "application/vnd.jupyter.widget-view+json": {
       "model_id": "dfdf81a5ae7f44938bc186290cb23f26",
       "version_major": 2,
       "version_minor": 0
      },
      "text/plain": [
       "Levels:   0%|          | 0/131 [00:00<?, ?it/s]"
      ]
     },
     "metadata": {},
     "output_type": "display_data"
    },
    {
     "data": {
      "application/vnd.jupyter.widget-view+json": {
       "model_id": "4ab78d2aa0f34fa6bd9d40c45b8a7558",
       "version_major": 2,
       "version_minor": 0
      },
      "text/plain": [
       "Levels:   0%|          | 0/131 [00:00<?, ?it/s]"
      ]
     },
     "metadata": {},
     "output_type": "display_data"
    },
    {
     "data": {
      "application/vnd.jupyter.widget-view+json": {
       "model_id": "e3a1f9499b6a470cb25a859d01ecc7be",
       "version_major": 2,
       "version_minor": 0
      },
      "text/plain": [
       "Cycles:   0%|          | 0/1 [00:00<?, ?it/s]"
      ]
     },
     "metadata": {},
     "output_type": "display_data"
    },
    {
     "data": {
      "application/vnd.jupyter.widget-view+json": {
       "model_id": "30703896cbbd44a6b58047002f921c5a",
       "version_major": 2,
       "version_minor": 0
      },
      "text/plain": [
       "Times:   0%|          | 0/4 [00:00<?, ?it/s]"
      ]
     },
     "metadata": {},
     "output_type": "display_data"
    },
    {
     "data": {
      "application/vnd.jupyter.widget-view+json": {
       "model_id": "41d813a835a344d2b0a6a14b74afb808",
       "version_major": 2,
       "version_minor": 0
      },
      "text/plain": [
       "Levels:   0%|          | 0/131 [00:00<?, ?it/s]"
      ]
     },
     "metadata": {},
     "output_type": "display_data"
    },
    {
     "data": {
      "application/vnd.jupyter.widget-view+json": {
       "model_id": "af6f97be6930483488434b495492ac91",
       "version_major": 2,
       "version_minor": 0
      },
      "text/plain": [
       "Levels:   0%|          | 0/131 [00:00<?, ?it/s]"
      ]
     },
     "metadata": {},
     "output_type": "display_data"
    },
    {
     "data": {
      "application/vnd.jupyter.widget-view+json": {
       "model_id": "8592c29b03784fa5ae72d9ca368b28d6",
       "version_major": 2,
       "version_minor": 0
      },
      "text/plain": [
       "Levels:   0%|          | 0/131 [00:00<?, ?it/s]"
      ]
     },
     "metadata": {},
     "output_type": "display_data"
    },
    {
     "data": {
      "application/vnd.jupyter.widget-view+json": {
       "model_id": "b1cbf688b4af4e0995cbf9e750c6ab8a",
       "version_major": 2,
       "version_minor": 0
      },
      "text/plain": [
       "Levels:   0%|          | 0/131 [00:00<?, ?it/s]"
      ]
     },
     "metadata": {},
     "output_type": "display_data"
    },
    {
     "data": {
      "application/vnd.jupyter.widget-view+json": {
       "model_id": "39028861493b4ba881f53ada26e4b268",
       "version_major": 2,
       "version_minor": 0
      },
      "text/plain": [
       "Domains:   0%|          | 0/2 [00:00<?, ?it/s]"
      ]
     },
     "metadata": {},
     "output_type": "display_data"
    },
    {
     "data": {
      "application/vnd.jupyter.widget-view+json": {
       "model_id": "c2aaec4cec2d4742b6db4e933cdce964",
       "version_major": 2,
       "version_minor": 0
      },
      "text/plain": [
       "Cycles:   0%|          | 0/1 [00:00<?, ?it/s]"
      ]
     },
     "metadata": {},
     "output_type": "display_data"
    },
    {
     "data": {
      "application/vnd.jupyter.widget-view+json": {
       "model_id": "03be7771e1434a6eada9eed3d9a5fcd2",
       "version_major": 2,
       "version_minor": 0
      },
      "text/plain": [
       "Times:   0%|          | 0/4 [00:00<?, ?it/s]"
      ]
     },
     "metadata": {},
     "output_type": "display_data"
    },
    {
     "data": {
      "application/vnd.jupyter.widget-view+json": {
       "model_id": "c712bba5ed4a4a8cb01819dfa673063f",
       "version_major": 2,
       "version_minor": 0
      },
      "text/plain": [
       "Levels:   0%|          | 0/131 [00:00<?, ?it/s]"
      ]
     },
     "metadata": {},
     "output_type": "display_data"
    },
    {
     "data": {
      "application/vnd.jupyter.widget-view+json": {
       "model_id": "4464f5d876be49f4b343e3fba1d8514d",
       "version_major": 2,
       "version_minor": 0
      },
      "text/plain": [
       "Levels:   0%|          | 0/131 [00:00<?, ?it/s]"
      ]
     },
     "metadata": {},
     "output_type": "display_data"
    },
    {
     "data": {
      "application/vnd.jupyter.widget-view+json": {
       "model_id": "374e17dbabec4b06ac3d9ff8c30125ff",
       "version_major": 2,
       "version_minor": 0
      },
      "text/plain": [
       "Levels:   0%|          | 0/131 [00:00<?, ?it/s]"
      ]
     },
     "metadata": {},
     "output_type": "display_data"
    },
    {
     "data": {
      "application/vnd.jupyter.widget-view+json": {
       "model_id": "00850b063c2e4559bcdf307ee826678f",
       "version_major": 2,
       "version_minor": 0
      },
      "text/plain": [
       "Levels:   0%|          | 0/131 [00:00<?, ?it/s]"
      ]
     },
     "metadata": {},
     "output_type": "display_data"
    },
    {
     "data": {
      "application/vnd.jupyter.widget-view+json": {
       "model_id": "3ca5b7e2ab4044e8997b576d4e3014e8",
       "version_major": 2,
       "version_minor": 0
      },
      "text/plain": [
       "Cycles:   0%|          | 0/1 [00:00<?, ?it/s]"
      ]
     },
     "metadata": {},
     "output_type": "display_data"
    },
    {
     "data": {
      "application/vnd.jupyter.widget-view+json": {
       "model_id": "beb75a77746c44c8836d62753f965464",
       "version_major": 2,
       "version_minor": 0
      },
      "text/plain": [
       "Times:   0%|          | 0/4 [00:00<?, ?it/s]"
      ]
     },
     "metadata": {},
     "output_type": "display_data"
    },
    {
     "data": {
      "application/vnd.jupyter.widget-view+json": {
       "model_id": "231e9f8afa264a59b8db65dcfee1968a",
       "version_major": 2,
       "version_minor": 0
      },
      "text/plain": [
       "Levels:   0%|          | 0/131 [00:00<?, ?it/s]"
      ]
     },
     "metadata": {},
     "output_type": "display_data"
    },
    {
     "data": {
      "application/vnd.jupyter.widget-view+json": {
       "model_id": "1a7d7b1f24724131b93f29b2627190ad",
       "version_major": 2,
       "version_minor": 0
      },
      "text/plain": [
       "Levels:   0%|          | 0/131 [00:00<?, ?it/s]"
      ]
     },
     "metadata": {},
     "output_type": "display_data"
    },
    {
     "data": {
      "application/vnd.jupyter.widget-view+json": {
       "model_id": "33d7704ad73e4b29a05745402265c24d",
       "version_major": 2,
       "version_minor": 0
      },
      "text/plain": [
       "Levels:   0%|          | 0/131 [00:00<?, ?it/s]"
      ]
     },
     "metadata": {},
     "output_type": "display_data"
    },
    {
     "data": {
      "application/vnd.jupyter.widget-view+json": {
       "model_id": "9f1ae1387aaa4d209588a79468be2d30",
       "version_major": 2,
       "version_minor": 0
      },
      "text/plain": [
       "Levels:   0%|          | 0/131 [00:00<?, ?it/s]"
      ]
     },
     "metadata": {},
     "output_type": "display_data"
    },
    {
     "data": {
      "application/vnd.jupyter.widget-view+json": {
       "model_id": "70a20d4f0a9341149bedac736d164a9c",
       "version_major": 2,
       "version_minor": 0
      },
      "text/plain": [
       "Domains:   0%|          | 0/2 [00:00<?, ?it/s]"
      ]
     },
     "metadata": {},
     "output_type": "display_data"
    },
    {
     "data": {
      "application/vnd.jupyter.widget-view+json": {
       "model_id": "6122ad81e90e4916a136a4761978b391",
       "version_major": 2,
       "version_minor": 0
      },
      "text/plain": [
       "Cycles:   0%|          | 0/1 [00:00<?, ?it/s]"
      ]
     },
     "metadata": {},
     "output_type": "display_data"
    },
    {
     "data": {
      "application/vnd.jupyter.widget-view+json": {
       "model_id": "86063ccba4b84c67ac14bc0f17ede20c",
       "version_major": 2,
       "version_minor": 0
      },
      "text/plain": [
       "Times:   0%|          | 0/4 [00:00<?, ?it/s]"
      ]
     },
     "metadata": {},
     "output_type": "display_data"
    },
    {
     "data": {
      "application/vnd.jupyter.widget-view+json": {
       "model_id": "514f3a1958df45939cdb6dccf81c6b62",
       "version_major": 2,
       "version_minor": 0
      },
      "text/plain": [
       "Levels:   0%|          | 0/131 [00:00<?, ?it/s]"
      ]
     },
     "metadata": {},
     "output_type": "display_data"
    },
    {
     "data": {
      "application/vnd.jupyter.widget-view+json": {
       "model_id": "89c64ac86e2044d8a8d5c7cf98b31d94",
       "version_major": 2,
       "version_minor": 0
      },
      "text/plain": [
       "Levels:   0%|          | 0/131 [00:00<?, ?it/s]"
      ]
     },
     "metadata": {},
     "output_type": "display_data"
    },
    {
     "data": {
      "application/vnd.jupyter.widget-view+json": {
       "model_id": "4d72e1a235b74b30ab25d7f94e499f31",
       "version_major": 2,
       "version_minor": 0
      },
      "text/plain": [
       "Levels:   0%|          | 0/131 [00:00<?, ?it/s]"
      ]
     },
     "metadata": {},
     "output_type": "display_data"
    },
    {
     "data": {
      "application/vnd.jupyter.widget-view+json": {
       "model_id": "acc6a6040d544d02933e5350fb43eb4b",
       "version_major": 2,
       "version_minor": 0
      },
      "text/plain": [
       "Levels:   0%|          | 0/131 [00:00<?, ?it/s]"
      ]
     },
     "metadata": {},
     "output_type": "display_data"
    },
    {
     "data": {
      "application/vnd.jupyter.widget-view+json": {
       "model_id": "117a074a03524dc688cf9f5aed7029d2",
       "version_major": 2,
       "version_minor": 0
      },
      "text/plain": [
       "Cycles:   0%|          | 0/1 [00:00<?, ?it/s]"
      ]
     },
     "metadata": {},
     "output_type": "display_data"
    },
    {
     "data": {
      "application/vnd.jupyter.widget-view+json": {
       "model_id": "83ee0095521c48e091878ae767359f3a",
       "version_major": 2,
       "version_minor": 0
      },
      "text/plain": [
       "Times:   0%|          | 0/4 [00:00<?, ?it/s]"
      ]
     },
     "metadata": {},
     "output_type": "display_data"
    },
    {
     "data": {
      "application/vnd.jupyter.widget-view+json": {
       "model_id": "51e808ebfc1743aca01695666b65a701",
       "version_major": 2,
       "version_minor": 0
      },
      "text/plain": [
       "Levels:   0%|          | 0/131 [00:00<?, ?it/s]"
      ]
     },
     "metadata": {},
     "output_type": "display_data"
    },
    {
     "data": {
      "application/vnd.jupyter.widget-view+json": {
       "model_id": "35a919cae26645e6a5c4de86ee809a9f",
       "version_major": 2,
       "version_minor": 0
      },
      "text/plain": [
       "Levels:   0%|          | 0/131 [00:00<?, ?it/s]"
      ]
     },
     "metadata": {},
     "output_type": "display_data"
    },
    {
     "data": {
      "application/vnd.jupyter.widget-view+json": {
       "model_id": "15c66a878d4648ca8e772d2b76757bcf",
       "version_major": 2,
       "version_minor": 0
      },
      "text/plain": [
       "Levels:   0%|          | 0/131 [00:00<?, ?it/s]"
      ]
     },
     "metadata": {},
     "output_type": "display_data"
    },
    {
     "data": {
      "application/vnd.jupyter.widget-view+json": {
       "model_id": "11d4e18c6a5c4a32ae26151a22147c62",
       "version_major": 2,
       "version_minor": 0
      },
      "text/plain": [
       "Levels:   0%|          | 0/131 [00:00<?, ?it/s]"
      ]
     },
     "metadata": {},
     "output_type": "display_data"
    },
    {
     "data": {
      "application/vnd.jupyter.widget-view+json": {
       "model_id": "9f96900359a14ad0ab042aaed86eefbd",
       "version_major": 2,
       "version_minor": 0
      },
      "text/plain": [
       "Domains:   0%|          | 0/2 [00:00<?, ?it/s]"
      ]
     },
     "metadata": {},
     "output_type": "display_data"
    },
    {
     "data": {
      "application/vnd.jupyter.widget-view+json": {
       "model_id": "ba0b22b95b664424918c293381dbea4f",
       "version_major": 2,
       "version_minor": 0
      },
      "text/plain": [
       "Cycles:   0%|          | 0/1 [00:00<?, ?it/s]"
      ]
     },
     "metadata": {},
     "output_type": "display_data"
    },
    {
     "data": {
      "application/vnd.jupyter.widget-view+json": {
       "model_id": "aec02bb81b624b88bed3d6cf5fada308",
       "version_major": 2,
       "version_minor": 0
      },
      "text/plain": [
       "Times:   0%|          | 0/4 [00:00<?, ?it/s]"
      ]
     },
     "metadata": {},
     "output_type": "display_data"
    },
    {
     "data": {
      "application/vnd.jupyter.widget-view+json": {
       "model_id": "5d5704f4235442bc98598a59f7456674",
       "version_major": 2,
       "version_minor": 0
      },
      "text/plain": [
       "Levels:   0%|          | 0/131 [00:00<?, ?it/s]"
      ]
     },
     "metadata": {},
     "output_type": "display_data"
    },
    {
     "data": {
      "application/vnd.jupyter.widget-view+json": {
       "model_id": "0e0c5d7a76a34a7885e76e5468ed5121",
       "version_major": 2,
       "version_minor": 0
      },
      "text/plain": [
       "Levels:   0%|          | 0/131 [00:00<?, ?it/s]"
      ]
     },
     "metadata": {},
     "output_type": "display_data"
    },
    {
     "data": {
      "application/vnd.jupyter.widget-view+json": {
       "model_id": "9f0503484e62417b92fef723f0345237",
       "version_major": 2,
       "version_minor": 0
      },
      "text/plain": [
       "Levels:   0%|          | 0/131 [00:00<?, ?it/s]"
      ]
     },
     "metadata": {},
     "output_type": "display_data"
    },
    {
     "data": {
      "application/vnd.jupyter.widget-view+json": {
       "model_id": "fc6d0e4a3e1042cca32489e7e36b7d4b",
       "version_major": 2,
       "version_minor": 0
      },
      "text/plain": [
       "Levels:   0%|          | 0/131 [00:00<?, ?it/s]"
      ]
     },
     "metadata": {},
     "output_type": "display_data"
    },
    {
     "data": {
      "application/vnd.jupyter.widget-view+json": {
       "model_id": "296feee27d104e7eb42fad353ea6d116",
       "version_major": 2,
       "version_minor": 0
      },
      "text/plain": [
       "Cycles:   0%|          | 0/1 [00:00<?, ?it/s]"
      ]
     },
     "metadata": {},
     "output_type": "display_data"
    },
    {
     "data": {
      "application/vnd.jupyter.widget-view+json": {
       "model_id": "597cced306e943a4a9ca820d79fb8b62",
       "version_major": 2,
       "version_minor": 0
      },
      "text/plain": [
       "Times:   0%|          | 0/4 [00:00<?, ?it/s]"
      ]
     },
     "metadata": {},
     "output_type": "display_data"
    },
    {
     "data": {
      "application/vnd.jupyter.widget-view+json": {
       "model_id": "49b3a61e1bc944cb82b436e56f24f1dc",
       "version_major": 2,
       "version_minor": 0
      },
      "text/plain": [
       "Levels:   0%|          | 0/131 [00:00<?, ?it/s]"
      ]
     },
     "metadata": {},
     "output_type": "display_data"
    },
    {
     "data": {
      "application/vnd.jupyter.widget-view+json": {
       "model_id": "867431f38b4d45a6a9de06c8ed0f6624",
       "version_major": 2,
       "version_minor": 0
      },
      "text/plain": [
       "Levels:   0%|          | 0/131 [00:00<?, ?it/s]"
      ]
     },
     "metadata": {},
     "output_type": "display_data"
    },
    {
     "data": {
      "application/vnd.jupyter.widget-view+json": {
       "model_id": "b77e22df738943c9bd239449815dfbe0",
       "version_major": 2,
       "version_minor": 0
      },
      "text/plain": [
       "Levels:   0%|          | 0/131 [00:00<?, ?it/s]"
      ]
     },
     "metadata": {},
     "output_type": "display_data"
    },
    {
     "data": {
      "application/vnd.jupyter.widget-view+json": {
       "model_id": "e8ae2081314645a291c81de3a6dcd3f9",
       "version_major": 2,
       "version_minor": 0
      },
      "text/plain": [
       "Levels:   0%|          | 0/131 [00:00<?, ?it/s]"
      ]
     },
     "metadata": {},
     "output_type": "display_data"
    }
   ],
   "source": [
    "from APR import wrf_extract_APR\n",
    "\n",
    "n_exp_name = 9\n",
    "wrf_extract_APR(data_library_names=['cpex']*n_exp_name,\n",
    "                dir_cases=['/CPEX/05_CV_RF07_AEW06']*n_exp_name,\n",
    "                case_names=['AEW06']*n_exp_name,\n",
    "                exp_names=['CONV', 'CTRL', 'DAWN', 'DAWN_DS', 'DAWN_HALO', 'DAWN_HALO_DS', 'DS', 'HALO', 'HALO_DS'])"
   ]
  },
  {
   "cell_type": "code",
   "execution_count": null,
   "id": "e288c1f0",
   "metadata": {},
   "outputs": [],
   "source": []
  }
 ],
 "metadata": {
  "kernelspec": {
   "display_name": "Python 3 (ipykernel)",
   "language": "python",
   "name": "python3"
  },
  "language_info": {
   "codemirror_mode": {
    "name": "ipython",
    "version": 3
   },
   "file_extension": ".py",
   "mimetype": "text/x-python",
   "name": "python",
   "nbconvert_exporter": "python",
   "pygments_lexer": "ipython3",
   "version": "3.9.18"
  }
 },
 "nbformat": 4,
 "nbformat_minor": 5
}
