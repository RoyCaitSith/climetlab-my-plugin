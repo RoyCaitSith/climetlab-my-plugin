{
 "cells": [
  {
   "cell_type": "code",
   "execution_count": null,
   "metadata": {},
   "outputs": [],
   "source": [
    "import sys\n",
    "sys.path.insert(0, \"/uufs/chpc.utah.edu/common/home/u1237353/climetlab-my-plugin/functions\")"
   ]
  },
  {
   "cell_type": "code",
   "execution_count": null,
   "id": "c0bb1794",
   "metadata": {},
   "outputs": [],
   "source": [
    "# from APR import wrf_extract_APR\n",
    "\n",
    "# n_exp_name = 9\n",
    "# wrf_extract_APR(data_library_names=['cpex']*n_exp_name,\n",
    "#                 dir_cases=['/CPEX/05_CV_RF07_AEW06']*n_exp_name,\n",
    "#                 case_names=['AEW06']*n_exp_name,\n",
    "#                 exp_names=['CONV', 'CTRL', 'DAWN', 'DAWN_DS', 'DAWN_HALO', 'DAWN_HALO_DS', 'DS', 'HALO', 'HALO_DS'])"
   ]
  },
  {
   "cell_type": "code",
   "execution_count": null,
   "id": "e288c1f0",
   "metadata": {},
   "outputs": [],
   "source": [
    "from APR import wrf_extract_APR3_composite\n",
    "\n",
    "wrf_extract_APR3_composite(data_library_names=['cpex', 'cpex', 'cpex'],\n",
    "                           dir_cases=['/CPEX/06_CV_RF01_AEW03', '/CPEX/07_CV_RF02_AEW03', '/CPEX/05_CV_RF07_AEW06'],\n",
    "                           case_names=['AEW03', 'AEW03', 'AEW06'],\n",
    "                           exp_names=['APR3', 'APR3', 'APR3'])"
   ]
  },
  {
   "cell_type": "code",
   "execution_count": null,
   "id": "52a1524a",
   "metadata": {},
   "outputs": [],
   "source": []
  }
 ],
 "metadata": {
  "kernelspec": {
   "display_name": "Python 3 (ipykernel)",
   "language": "python",
   "name": "python3"
  },
  "language_info": {
   "codemirror_mode": {
    "name": "ipython",
    "version": 3
   },
   "file_extension": ".py",
   "mimetype": "text/x-python",
   "name": "python",
   "nbconvert_exporter": "python",
   "pygments_lexer": "ipython3",
   "version": "3.9.18"
  }
 },
 "nbformat": 4,
 "nbformat_minor": 5
}
