{
 "cells": [
  {
   "attachments": {},
   "cell_type": "markdown",
   "id": "39aaed1c-258f-4d75-aae6-0503f962777b",
   "metadata": {},
   "source": [
    "# Download GEFS Ensemble Forecasts"
   ]
  },
  {
   "cell_type": "code",
   "execution_count": null,
   "id": "d916ede8-7c68-4b12-945a-f7229a1bec05",
   "metadata": {},
   "outputs": [],
   "source": [
    "#from generate_gefs_ensembles import download_gefs_ensemble                                                                                                                 \n",
    "\n",
    "#download_gefs_ensemble('cpex', '/08_CPEX/01_CV_RF07_AEW06_IAN', 'Ian')"
   ]
  },
  {
   "attachments": {},
   "cell_type": "markdown",
   "id": "378129ce-4171-43ab-b0b0-38cce57c277b",
   "metadata": {},
   "source": [
    "# Generate 60 Members Ensemble Forecasts Using GEFS Data"
   ]
  },
  {
   "cell_type": "code",
   "execution_count": null,
   "id": "96364166-38df-44d1-b324-b52bc0f80750",
   "metadata": {},
   "outputs": [],
   "source": [
    "# from generate_gefs_ensembles import run_wps_and_real_gefs\n",
    "\n",
    "# run_wps_and_real_gefs(data_library_name='cpex',\n",
    "#                       dir_case='/08_CPEX/01_CV_RF07_AEW06_IAN',\n",
    "#                       case_name='Ian',\n",
    "#                       exp_name='CONV',\n",
    "#                       whether_wait=False, nodes=1, ntasks=16, account='zpu-kp', partition='zpu-kp')"
   ]
  },
  {
   "cell_type": "code",
   "execution_count": null,
   "id": "7e7e8487-09a7-419f-881c-e4c2f28c0b04",
   "metadata": {},
   "outputs": [],
   "source": [
    "# from generate_gefs_ensembles import run_wrf_forecast_gefs\n",
    "\n",
    "# run_wrf_forecast_gefs(data_library_name='cpex',\n",
    "#                       dir_case='/08_CPEX/01_CV_RF07_AEW06_IAN',\n",
    "#                       case_name='Ian',\n",
    "#                       exp_name='CONV',\n",
    "#                       whether_wait=False, nodes=1, ntasks=16, account='zpu-kp', partition='zpu-kp')"
   ]
  },
  {
   "cell_type": "code",
   "execution_count": 1,
   "id": "d54b05ff-c4f5-4a3e-95f4-320af4d00eca",
   "metadata": {},
   "outputs": [
    {
     "name": "stdout",
     "output_type": "stream",
     "text": [
      "Ian_CON_C01_GEFS_f006_mem01\n"
     ]
    },
    {
     "data": {
      "application/vnd.jupyter.widget-view+json": {
       "model_id": "f2d50d5982194a5990d3aff6c4ca4928",
       "version_major": 2,
       "version_minor": 0
      },
      "text/plain": [
       "Files: 0/1 files | 00:00<?"
      ]
     },
     "metadata": {},
     "output_type": "display_data"
    },
    {
     "name": "stdout",
     "output_type": "stream",
     "text": [
      "Ian_CON_C01_GEFS_f006_mem02\n"
     ]
    },
    {
     "data": {
      "application/vnd.jupyter.widget-view+json": {
       "model_id": "3434ff2237b84018be8d5653bb1b22b3",
       "version_major": 2,
       "version_minor": 0
      },
      "text/plain": [
       "Files: 0/1 files | 00:00<?"
      ]
     },
     "metadata": {},
     "output_type": "display_data"
    },
    {
     "name": "stdout",
     "output_type": "stream",
     "text": [
      "Ian_CON_C01_GEFS_f006_mem03\n"
     ]
    },
    {
     "data": {
      "application/vnd.jupyter.widget-view+json": {
       "model_id": "2155bde16f764d69a344566eeaa74617",
       "version_major": 2,
       "version_minor": 0
      },
      "text/plain": [
       "Files: 0/1 files | 00:00<?"
      ]
     },
     "metadata": {},
     "output_type": "display_data"
    },
    {
     "name": "stdout",
     "output_type": "stream",
     "text": [
      "Ian_CON_C01_GEFS_f006_mem04\n"
     ]
    },
    {
     "data": {
      "application/vnd.jupyter.widget-view+json": {
       "model_id": "b01400918392415eb2d5de193c1c0897",
       "version_major": 2,
       "version_minor": 0
      },
      "text/plain": [
       "Files: 0/1 files | 00:00<?"
      ]
     },
     "metadata": {},
     "output_type": "display_data"
    },
    {
     "name": "stdout",
     "output_type": "stream",
     "text": [
      "Ian_CON_C01_GEFS_f006_mem05\n"
     ]
    },
    {
     "data": {
      "application/vnd.jupyter.widget-view+json": {
       "model_id": "fd61b7e5daa448afb8dd09f49d88071f",
       "version_major": 2,
       "version_minor": 0
      },
      "text/plain": [
       "Files: 0/1 files | 00:00<?"
      ]
     },
     "metadata": {},
     "output_type": "display_data"
    },
    {
     "name": "stdout",
     "output_type": "stream",
     "text": [
      "Ian_CON_C01_GEFS_f006_mem06\n"
     ]
    },
    {
     "data": {
      "application/vnd.jupyter.widget-view+json": {
       "model_id": "dbd2acc42dd349219ec84e10efc1b4ab",
       "version_major": 2,
       "version_minor": 0
      },
      "text/plain": [
       "Files: 0/1 files | 00:00<?"
      ]
     },
     "metadata": {},
     "output_type": "display_data"
    },
    {
     "name": "stdout",
     "output_type": "stream",
     "text": [
      "Ian_CON_C01_GEFS_f006_mem07\n"
     ]
    },
    {
     "data": {
      "application/vnd.jupyter.widget-view+json": {
       "model_id": "7537f514eae44771bda48d853a8d5f7c",
       "version_major": 2,
       "version_minor": 0
      },
      "text/plain": [
       "Files: 0/1 files | 00:00<?"
      ]
     },
     "metadata": {},
     "output_type": "display_data"
    },
    {
     "name": "stdout",
     "output_type": "stream",
     "text": [
      "Ian_CON_C01_GEFS_f006_mem08\n"
     ]
    },
    {
     "data": {
      "application/vnd.jupyter.widget-view+json": {
       "model_id": "8a02beffb731460a89017c7a8b3b93e5",
       "version_major": 2,
       "version_minor": 0
      },
      "text/plain": [
       "Files: 0/1 files | 00:00<?"
      ]
     },
     "metadata": {},
     "output_type": "display_data"
    },
    {
     "name": "stdout",
     "output_type": "stream",
     "text": [
      "Ian_CON_C01_GEFS_f006_mem09\n"
     ]
    },
    {
     "data": {
      "application/vnd.jupyter.widget-view+json": {
       "model_id": "c9b85703ea6e4f83b64161f23f62b88a",
       "version_major": 2,
       "version_minor": 0
      },
      "text/plain": [
       "Files: 0/1 files | 00:00<?"
      ]
     },
     "metadata": {},
     "output_type": "display_data"
    },
    {
     "name": "stdout",
     "output_type": "stream",
     "text": [
      "Ian_CON_C01_GEFS_f006_mem10\n"
     ]
    },
    {
     "data": {
      "application/vnd.jupyter.widget-view+json": {
       "model_id": "15fbe399adfe4cb181a4d0998612f7d7",
       "version_major": 2,
       "version_minor": 0
      },
      "text/plain": [
       "Files: 0/1 files | 00:00<?"
      ]
     },
     "metadata": {},
     "output_type": "display_data"
    },
    {
     "name": "stdout",
     "output_type": "stream",
     "text": [
      "Ian_CON_C01_GEFS_f006_mem11\n"
     ]
    },
    {
     "data": {
      "application/vnd.jupyter.widget-view+json": {
       "model_id": "508877d357084e5aafb1b50cf0a8a6f4",
       "version_major": 2,
       "version_minor": 0
      },
      "text/plain": [
       "Files: 0/1 files | 00:00<?"
      ]
     },
     "metadata": {},
     "output_type": "display_data"
    },
    {
     "name": "stdout",
     "output_type": "stream",
     "text": [
      "Ian_CON_C01_GEFS_f006_mem12\n"
     ]
    },
    {
     "data": {
      "application/vnd.jupyter.widget-view+json": {
       "model_id": "a4d793e2400349838f1ee58ce9d634ad",
       "version_major": 2,
       "version_minor": 0
      },
      "text/plain": [
       "Files: 0/1 files | 00:00<?"
      ]
     },
     "metadata": {},
     "output_type": "display_data"
    },
    {
     "name": "stdout",
     "output_type": "stream",
     "text": [
      "Ian_CON_C01_GEFS_f006_mem13\n"
     ]
    },
    {
     "data": {
      "application/vnd.jupyter.widget-view+json": {
       "model_id": "7b27ea52f8a74e8587bc6ea9ed19a983",
       "version_major": 2,
       "version_minor": 0
      },
      "text/plain": [
       "Files: 0/1 files | 00:00<?"
      ]
     },
     "metadata": {},
     "output_type": "display_data"
    },
    {
     "name": "stdout",
     "output_type": "stream",
     "text": [
      "Ian_CON_C01_GEFS_f006_mem14\n"
     ]
    },
    {
     "data": {
      "application/vnd.jupyter.widget-view+json": {
       "model_id": "832fd52804154b4181b2cd88d2995bbd",
       "version_major": 2,
       "version_minor": 0
      },
      "text/plain": [
       "Files: 0/1 files | 00:00<?"
      ]
     },
     "metadata": {},
     "output_type": "display_data"
    },
    {
     "name": "stdout",
     "output_type": "stream",
     "text": [
      "Ian_CON_C01_GEFS_f006_mem15\n"
     ]
    },
    {
     "data": {
      "application/vnd.jupyter.widget-view+json": {
       "model_id": "b4828869caeb43f89a3bdcee4d28641a",
       "version_major": 2,
       "version_minor": 0
      },
      "text/plain": [
       "Files: 0/1 files | 00:00<?"
      ]
     },
     "metadata": {},
     "output_type": "display_data"
    },
    {
     "name": "stdout",
     "output_type": "stream",
     "text": [
      "Ian_CON_C01_GEFS_f006_mem16\n"
     ]
    },
    {
     "data": {
      "application/vnd.jupyter.widget-view+json": {
       "model_id": "ef0d851245884818beebf9ca777b6b62",
       "version_major": 2,
       "version_minor": 0
      },
      "text/plain": [
       "Files: 0/1 files | 00:00<?"
      ]
     },
     "metadata": {},
     "output_type": "display_data"
    },
    {
     "name": "stdout",
     "output_type": "stream",
     "text": [
      "Ian_CON_C01_GEFS_f006_mem17\n"
     ]
    },
    {
     "data": {
      "application/vnd.jupyter.widget-view+json": {
       "model_id": "752b8d914d2646babec46738845d227c",
       "version_major": 2,
       "version_minor": 0
      },
      "text/plain": [
       "Files: 0/1 files | 00:00<?"
      ]
     },
     "metadata": {},
     "output_type": "display_data"
    },
    {
     "name": "stdout",
     "output_type": "stream",
     "text": [
      "Ian_CON_C01_GEFS_f006_mem18\n"
     ]
    },
    {
     "data": {
      "application/vnd.jupyter.widget-view+json": {
       "model_id": "d29b3659c6b04cdcb3d7e010605035ec",
       "version_major": 2,
       "version_minor": 0
      },
      "text/plain": [
       "Files: 0/1 files | 00:00<?"
      ]
     },
     "metadata": {},
     "output_type": "display_data"
    },
    {
     "name": "stdout",
     "output_type": "stream",
     "text": [
      "Ian_CON_C01_GEFS_f006_mem19\n"
     ]
    },
    {
     "data": {
      "application/vnd.jupyter.widget-view+json": {
       "model_id": "4bd6051ef07c45958947c50de22221d8",
       "version_major": 2,
       "version_minor": 0
      },
      "text/plain": [
       "Files: 0/1 files | 00:00<?"
      ]
     },
     "metadata": {},
     "output_type": "display_data"
    },
    {
     "name": "stdout",
     "output_type": "stream",
     "text": [
      "Ian_CON_C01_GEFS_f006_mem20\n"
     ]
    },
    {
     "data": {
      "application/vnd.jupyter.widget-view+json": {
       "model_id": "6051e5a3a61b4ef5ac70a5665e6c4312",
       "version_major": 2,
       "version_minor": 0
      },
      "text/plain": [
       "Files: 0/1 files | 00:00<?"
      ]
     },
     "metadata": {},
     "output_type": "display_data"
    },
    {
     "name": "stdout",
     "output_type": "stream",
     "text": [
      "Ian_CON_C01_GEFS_f006_mem21\n"
     ]
    },
    {
     "data": {
      "application/vnd.jupyter.widget-view+json": {
       "model_id": "0032fe97622b4e9e97e18d39db5ccfe8",
       "version_major": 2,
       "version_minor": 0
      },
      "text/plain": [
       "Files: 0/1 files | 00:00<?"
      ]
     },
     "metadata": {},
     "output_type": "display_data"
    },
    {
     "name": "stdout",
     "output_type": "stream",
     "text": [
      "Ian_CON_C01_GEFS_f006_mem22\n"
     ]
    },
    {
     "data": {
      "application/vnd.jupyter.widget-view+json": {
       "model_id": "a26dd7582ed64f8f86c270e5943b231d",
       "version_major": 2,
       "version_minor": 0
      },
      "text/plain": [
       "Files: 0/1 files | 00:00<?"
      ]
     },
     "metadata": {},
     "output_type": "display_data"
    },
    {
     "name": "stdout",
     "output_type": "stream",
     "text": [
      "Ian_CON_C01_GEFS_f006_mem23\n"
     ]
    },
    {
     "data": {
      "application/vnd.jupyter.widget-view+json": {
       "model_id": "8d4fa1cada80457891124f76babc678b",
       "version_major": 2,
       "version_minor": 0
      },
      "text/plain": [
       "Files: 0/1 files | 00:00<?"
      ]
     },
     "metadata": {},
     "output_type": "display_data"
    },
    {
     "name": "stdout",
     "output_type": "stream",
     "text": [
      "Ian_CON_C01_GEFS_f006_mem24\n"
     ]
    },
    {
     "data": {
      "application/vnd.jupyter.widget-view+json": {
       "model_id": "618be77e02f54c7b87893ca4e1a8b2c0",
       "version_major": 2,
       "version_minor": 0
      },
      "text/plain": [
       "Files: 0/1 files | 00:00<?"
      ]
     },
     "metadata": {},
     "output_type": "display_data"
    },
    {
     "name": "stdout",
     "output_type": "stream",
     "text": [
      "Ian_CON_C01_GEFS_f006_mem25\n"
     ]
    },
    {
     "data": {
      "application/vnd.jupyter.widget-view+json": {
       "model_id": "5421d20bfbd04a7f8e955093bad5870a",
       "version_major": 2,
       "version_minor": 0
      },
      "text/plain": [
       "Files: 0/1 files | 00:00<?"
      ]
     },
     "metadata": {},
     "output_type": "display_data"
    },
    {
     "name": "stdout",
     "output_type": "stream",
     "text": [
      "Ian_CON_C01_GEFS_f006_mem26\n"
     ]
    },
    {
     "data": {
      "application/vnd.jupyter.widget-view+json": {
       "model_id": "cf635de4fe1c44719445909b7a66b05f",
       "version_major": 2,
       "version_minor": 0
      },
      "text/plain": [
       "Files: 0/1 files | 00:00<?"
      ]
     },
     "metadata": {},
     "output_type": "display_data"
    },
    {
     "name": "stdout",
     "output_type": "stream",
     "text": [
      "Ian_CON_C01_GEFS_f006_mem27\n"
     ]
    },
    {
     "data": {
      "application/vnd.jupyter.widget-view+json": {
       "model_id": "2102980babfe4da2aa6af02c74802f87",
       "version_major": 2,
       "version_minor": 0
      },
      "text/plain": [
       "Files: 0/1 files | 00:00<?"
      ]
     },
     "metadata": {},
     "output_type": "display_data"
    },
    {
     "name": "stdout",
     "output_type": "stream",
     "text": [
      "Ian_CON_C01_GEFS_f006_mem28\n"
     ]
    },
    {
     "data": {
      "application/vnd.jupyter.widget-view+json": {
       "model_id": "2f961f618b1b4e4cb5f22cfc45b30c4f",
       "version_major": 2,
       "version_minor": 0
      },
      "text/plain": [
       "Files: 0/1 files | 00:00<?"
      ]
     },
     "metadata": {},
     "output_type": "display_data"
    },
    {
     "name": "stdout",
     "output_type": "stream",
     "text": [
      "Ian_CON_C01_GEFS_f006_mem29\n"
     ]
    },
    {
     "data": {
      "application/vnd.jupyter.widget-view+json": {
       "model_id": "be6af63e4f6243508eea28276d2e6f0b",
       "version_major": 2,
       "version_minor": 0
      },
      "text/plain": [
       "Files: 0/1 files | 00:00<?"
      ]
     },
     "metadata": {},
     "output_type": "display_data"
    },
    {
     "name": "stdout",
     "output_type": "stream",
     "text": [
      "Ian_CON_C01_GEFS_f006_mem30\n"
     ]
    },
    {
     "data": {
      "application/vnd.jupyter.widget-view+json": {
       "model_id": "9173b2345c71455bbb876de494bce289",
       "version_major": 2,
       "version_minor": 0
      },
      "text/plain": [
       "Files: 0/1 files | 00:00<?"
      ]
     },
     "metadata": {},
     "output_type": "display_data"
    },
    {
     "name": "stdout",
     "output_type": "stream",
     "text": [
      "Ian_CON_C01_GEFS_f012_mem01\n"
     ]
    },
    {
     "data": {
      "application/vnd.jupyter.widget-view+json": {
       "model_id": "8670b0683cb344548b51952765fa0cf1",
       "version_major": 2,
       "version_minor": 0
      },
      "text/plain": [
       "Files: 0/1 files | 00:00<?"
      ]
     },
     "metadata": {},
     "output_type": "display_data"
    },
    {
     "name": "stdout",
     "output_type": "stream",
     "text": [
      "Ian_CON_C01_GEFS_f012_mem02\n"
     ]
    },
    {
     "data": {
      "application/vnd.jupyter.widget-view+json": {
       "model_id": "0b90fe5c628e417398e47bd8a087c151",
       "version_major": 2,
       "version_minor": 0
      },
      "text/plain": [
       "Files: 0/1 files | 00:00<?"
      ]
     },
     "metadata": {},
     "output_type": "display_data"
    },
    {
     "name": "stdout",
     "output_type": "stream",
     "text": [
      "Ian_CON_C01_GEFS_f012_mem03\n"
     ]
    },
    {
     "data": {
      "application/vnd.jupyter.widget-view+json": {
       "model_id": "b410a86b280e44169d0e7b76df763c9c",
       "version_major": 2,
       "version_minor": 0
      },
      "text/plain": [
       "Files: 0/1 files | 00:00<?"
      ]
     },
     "metadata": {},
     "output_type": "display_data"
    },
    {
     "name": "stdout",
     "output_type": "stream",
     "text": [
      "Ian_CON_C01_GEFS_f012_mem04\n"
     ]
    },
    {
     "data": {
      "application/vnd.jupyter.widget-view+json": {
       "model_id": "315f4b4403bb4e2396ef4c55357caa75",
       "version_major": 2,
       "version_minor": 0
      },
      "text/plain": [
       "Files: 0/1 files | 00:00<?"
      ]
     },
     "metadata": {},
     "output_type": "display_data"
    },
    {
     "name": "stdout",
     "output_type": "stream",
     "text": [
      "Ian_CON_C01_GEFS_f012_mem05\n"
     ]
    },
    {
     "data": {
      "application/vnd.jupyter.widget-view+json": {
       "model_id": "6d7330c0d0604ddda1168cfdea9b82ae",
       "version_major": 2,
       "version_minor": 0
      },
      "text/plain": [
       "Files: 0/1 files | 00:00<?"
      ]
     },
     "metadata": {},
     "output_type": "display_data"
    },
    {
     "name": "stdout",
     "output_type": "stream",
     "text": [
      "Ian_CON_C01_GEFS_f012_mem06\n"
     ]
    },
    {
     "data": {
      "application/vnd.jupyter.widget-view+json": {
       "model_id": "d988e88cd9844c1b813250e90cad783b",
       "version_major": 2,
       "version_minor": 0
      },
      "text/plain": [
       "Files: 0/1 files | 00:00<?"
      ]
     },
     "metadata": {},
     "output_type": "display_data"
    },
    {
     "name": "stdout",
     "output_type": "stream",
     "text": [
      "Ian_CON_C01_GEFS_f012_mem07\n"
     ]
    },
    {
     "data": {
      "application/vnd.jupyter.widget-view+json": {
       "model_id": "7bd2884d85c34298b5ea8a3c11527b1e",
       "version_major": 2,
       "version_minor": 0
      },
      "text/plain": [
       "Files: 0/1 files | 00:00<?"
      ]
     },
     "metadata": {},
     "output_type": "display_data"
    },
    {
     "name": "stdout",
     "output_type": "stream",
     "text": [
      "Ian_CON_C01_GEFS_f012_mem08\n"
     ]
    },
    {
     "data": {
      "application/vnd.jupyter.widget-view+json": {
       "model_id": "f5b01b85b01f4b349c657b0179448bbe",
       "version_major": 2,
       "version_minor": 0
      },
      "text/plain": [
       "Files: 0/1 files | 00:00<?"
      ]
     },
     "metadata": {},
     "output_type": "display_data"
    },
    {
     "name": "stdout",
     "output_type": "stream",
     "text": [
      "Ian_CON_C01_GEFS_f012_mem09\n"
     ]
    },
    {
     "data": {
      "application/vnd.jupyter.widget-view+json": {
       "model_id": "76de19c53eff4c239d9a6056c853f730",
       "version_major": 2,
       "version_minor": 0
      },
      "text/plain": [
       "Files: 0/1 files | 00:00<?"
      ]
     },
     "metadata": {},
     "output_type": "display_data"
    },
    {
     "name": "stdout",
     "output_type": "stream",
     "text": [
      "Ian_CON_C01_GEFS_f012_mem10\n"
     ]
    },
    {
     "data": {
      "application/vnd.jupyter.widget-view+json": {
       "model_id": "cf0d58b234ef412388c283a27f2ad2ef",
       "version_major": 2,
       "version_minor": 0
      },
      "text/plain": [
       "Files: 0/1 files | 00:00<?"
      ]
     },
     "metadata": {},
     "output_type": "display_data"
    },
    {
     "name": "stdout",
     "output_type": "stream",
     "text": [
      "Ian_CON_C01_GEFS_f012_mem11\n"
     ]
    },
    {
     "data": {
      "application/vnd.jupyter.widget-view+json": {
       "model_id": "51e9b3c90f1c47cc95a3f83989c3700b",
       "version_major": 2,
       "version_minor": 0
      },
      "text/plain": [
       "Files: 0/1 files | 00:00<?"
      ]
     },
     "metadata": {},
     "output_type": "display_data"
    },
    {
     "name": "stdout",
     "output_type": "stream",
     "text": [
      "Ian_CON_C01_GEFS_f012_mem12\n"
     ]
    },
    {
     "data": {
      "application/vnd.jupyter.widget-view+json": {
       "model_id": "4372d6f596af4473b57517e9fb16cc27",
       "version_major": 2,
       "version_minor": 0
      },
      "text/plain": [
       "Files: 0/1 files | 00:00<?"
      ]
     },
     "metadata": {},
     "output_type": "display_data"
    },
    {
     "name": "stdout",
     "output_type": "stream",
     "text": [
      "Ian_CON_C01_GEFS_f012_mem13\n"
     ]
    },
    {
     "data": {
      "application/vnd.jupyter.widget-view+json": {
       "model_id": "71eb9a83ee1241bfb8816cec9a589ad3",
       "version_major": 2,
       "version_minor": 0
      },
      "text/plain": [
       "Files: 0/1 files | 00:00<?"
      ]
     },
     "metadata": {},
     "output_type": "display_data"
    },
    {
     "name": "stdout",
     "output_type": "stream",
     "text": [
      "Ian_CON_C01_GEFS_f012_mem14\n"
     ]
    },
    {
     "data": {
      "application/vnd.jupyter.widget-view+json": {
       "model_id": "b13c39aa28034a3485311c86b40cfe95",
       "version_major": 2,
       "version_minor": 0
      },
      "text/plain": [
       "Files: 0/1 files | 00:00<?"
      ]
     },
     "metadata": {},
     "output_type": "display_data"
    },
    {
     "name": "stdout",
     "output_type": "stream",
     "text": [
      "Ian_CON_C01_GEFS_f012_mem15\n"
     ]
    },
    {
     "data": {
      "application/vnd.jupyter.widget-view+json": {
       "model_id": "b70830310a8644c28778d061854b0aea",
       "version_major": 2,
       "version_minor": 0
      },
      "text/plain": [
       "Files: 0/1 files | 00:00<?"
      ]
     },
     "metadata": {},
     "output_type": "display_data"
    },
    {
     "name": "stdout",
     "output_type": "stream",
     "text": [
      "Ian_CON_C01_GEFS_f012_mem16\n"
     ]
    },
    {
     "data": {
      "application/vnd.jupyter.widget-view+json": {
       "model_id": "7bcfe3b8105d4447855536c133c7ad85",
       "version_major": 2,
       "version_minor": 0
      },
      "text/plain": [
       "Files: 0/1 files | 00:00<?"
      ]
     },
     "metadata": {},
     "output_type": "display_data"
    },
    {
     "name": "stdout",
     "output_type": "stream",
     "text": [
      "Ian_CON_C01_GEFS_f012_mem17\n"
     ]
    },
    {
     "data": {
      "application/vnd.jupyter.widget-view+json": {
       "model_id": "b4b76c7855774206940a4363d790510d",
       "version_major": 2,
       "version_minor": 0
      },
      "text/plain": [
       "Files: 0/1 files | 00:00<?"
      ]
     },
     "metadata": {},
     "output_type": "display_data"
    },
    {
     "name": "stdout",
     "output_type": "stream",
     "text": [
      "Ian_CON_C01_GEFS_f012_mem18\n"
     ]
    },
    {
     "data": {
      "application/vnd.jupyter.widget-view+json": {
       "model_id": "8fb3d083a6b54b22b32b55b35020ce3b",
       "version_major": 2,
       "version_minor": 0
      },
      "text/plain": [
       "Files: 0/1 files | 00:00<?"
      ]
     },
     "metadata": {},
     "output_type": "display_data"
    },
    {
     "name": "stdout",
     "output_type": "stream",
     "text": [
      "Ian_CON_C01_GEFS_f012_mem19\n"
     ]
    },
    {
     "data": {
      "application/vnd.jupyter.widget-view+json": {
       "model_id": "d251ac0a01a9446fb4bdba926e4fef30",
       "version_major": 2,
       "version_minor": 0
      },
      "text/plain": [
       "Files: 0/1 files | 00:00<?"
      ]
     },
     "metadata": {},
     "output_type": "display_data"
    },
    {
     "name": "stdout",
     "output_type": "stream",
     "text": [
      "Ian_CON_C01_GEFS_f012_mem20\n"
     ]
    },
    {
     "data": {
      "application/vnd.jupyter.widget-view+json": {
       "model_id": "4d946c8b8f1047e8b9e08371afb4fff1",
       "version_major": 2,
       "version_minor": 0
      },
      "text/plain": [
       "Files: 0/1 files | 00:00<?"
      ]
     },
     "metadata": {},
     "output_type": "display_data"
    },
    {
     "name": "stdout",
     "output_type": "stream",
     "text": [
      "Ian_CON_C01_GEFS_f012_mem21\n"
     ]
    },
    {
     "data": {
      "application/vnd.jupyter.widget-view+json": {
       "model_id": "0a77a57a07014818b854c950aca1b976",
       "version_major": 2,
       "version_minor": 0
      },
      "text/plain": [
       "Files: 0/1 files | 00:00<?"
      ]
     },
     "metadata": {},
     "output_type": "display_data"
    },
    {
     "name": "stdout",
     "output_type": "stream",
     "text": [
      "Ian_CON_C01_GEFS_f012_mem22\n"
     ]
    },
    {
     "data": {
      "application/vnd.jupyter.widget-view+json": {
       "model_id": "c32c3f948e5c47258e9431769e701729",
       "version_major": 2,
       "version_minor": 0
      },
      "text/plain": [
       "Files: 0/1 files | 00:00<?"
      ]
     },
     "metadata": {},
     "output_type": "display_data"
    },
    {
     "name": "stdout",
     "output_type": "stream",
     "text": [
      "Ian_CON_C01_GEFS_f012_mem23\n"
     ]
    },
    {
     "data": {
      "application/vnd.jupyter.widget-view+json": {
       "model_id": "a769b8bdcc6847b086eb8c7d4b0d6eaa",
       "version_major": 2,
       "version_minor": 0
      },
      "text/plain": [
       "Files: 0/1 files | 00:00<?"
      ]
     },
     "metadata": {},
     "output_type": "display_data"
    },
    {
     "name": "stdout",
     "output_type": "stream",
     "text": [
      "Ian_CON_C01_GEFS_f012_mem24\n"
     ]
    },
    {
     "data": {
      "application/vnd.jupyter.widget-view+json": {
       "model_id": "665d7a2f4fa344a696ea961750e09266",
       "version_major": 2,
       "version_minor": 0
      },
      "text/plain": [
       "Files: 0/1 files | 00:00<?"
      ]
     },
     "metadata": {},
     "output_type": "display_data"
    },
    {
     "name": "stdout",
     "output_type": "stream",
     "text": [
      "Ian_CON_C01_GEFS_f012_mem25\n"
     ]
    },
    {
     "data": {
      "application/vnd.jupyter.widget-view+json": {
       "model_id": "315fd31ca1cf4643a0d6033f9ecec8f2",
       "version_major": 2,
       "version_minor": 0
      },
      "text/plain": [
       "Files: 0/1 files | 00:00<?"
      ]
     },
     "metadata": {},
     "output_type": "display_data"
    },
    {
     "name": "stdout",
     "output_type": "stream",
     "text": [
      "Ian_CON_C01_GEFS_f012_mem26\n"
     ]
    },
    {
     "data": {
      "application/vnd.jupyter.widget-view+json": {
       "model_id": "83f49de45b464d539ce98689ca492434",
       "version_major": 2,
       "version_minor": 0
      },
      "text/plain": [
       "Files: 0/1 files | 00:00<?"
      ]
     },
     "metadata": {},
     "output_type": "display_data"
    },
    {
     "name": "stdout",
     "output_type": "stream",
     "text": [
      "Ian_CON_C01_GEFS_f012_mem27\n"
     ]
    },
    {
     "data": {
      "application/vnd.jupyter.widget-view+json": {
       "model_id": "2ae96911fcdc4dc8bef0b32d0abb0e04",
       "version_major": 2,
       "version_minor": 0
      },
      "text/plain": [
       "Files: 0/1 files | 00:00<?"
      ]
     },
     "metadata": {},
     "output_type": "display_data"
    },
    {
     "name": "stdout",
     "output_type": "stream",
     "text": [
      "Ian_CON_C01_GEFS_f012_mem28\n"
     ]
    },
    {
     "data": {
      "application/vnd.jupyter.widget-view+json": {
       "model_id": "b9fce1cab4e844c983a6369227b53879",
       "version_major": 2,
       "version_minor": 0
      },
      "text/plain": [
       "Files: 0/1 files | 00:00<?"
      ]
     },
     "metadata": {},
     "output_type": "display_data"
    },
    {
     "name": "stdout",
     "output_type": "stream",
     "text": [
      "Ian_CON_C01_GEFS_f012_mem29\n"
     ]
    },
    {
     "data": {
      "application/vnd.jupyter.widget-view+json": {
       "model_id": "5a21e37ab32d42a182dec1ada831d9aa",
       "version_major": 2,
       "version_minor": 0
      },
      "text/plain": [
       "Files: 0/1 files | 00:00<?"
      ]
     },
     "metadata": {},
     "output_type": "display_data"
    },
    {
     "name": "stdout",
     "output_type": "stream",
     "text": [
      "Ian_CON_C01_GEFS_f012_mem30\n"
     ]
    },
    {
     "data": {
      "application/vnd.jupyter.widget-view+json": {
       "model_id": "178f30a0fb914e6c9475fc12e842d143",
       "version_major": 2,
       "version_minor": 0
      },
      "text/plain": [
       "Files: 0/1 files | 00:00<?"
      ]
     },
     "metadata": {},
     "output_type": "display_data"
    },
    {
     "name": "stdout",
     "output_type": "stream",
     "text": [
      "Ian_CON_C02_GEFS_f006_mem01\n"
     ]
    },
    {
     "data": {
      "application/vnd.jupyter.widget-view+json": {
       "model_id": "ec7a40d2778b485cbac05575008117a1",
       "version_major": 2,
       "version_minor": 0
      },
      "text/plain": [
       "Files: 0/1 files | 00:00<?"
      ]
     },
     "metadata": {},
     "output_type": "display_data"
    },
    {
     "name": "stdout",
     "output_type": "stream",
     "text": [
      "Ian_CON_C02_GEFS_f006_mem02\n"
     ]
    },
    {
     "data": {
      "application/vnd.jupyter.widget-view+json": {
       "model_id": "da13fa4ad3de428c8ccd5c396fb20b77",
       "version_major": 2,
       "version_minor": 0
      },
      "text/plain": [
       "Files: 0/1 files | 00:00<?"
      ]
     },
     "metadata": {},
     "output_type": "display_data"
    },
    {
     "name": "stdout",
     "output_type": "stream",
     "text": [
      "Ian_CON_C02_GEFS_f006_mem03\n"
     ]
    },
    {
     "data": {
      "application/vnd.jupyter.widget-view+json": {
       "model_id": "dd98be8b23614a4a9dbe65215204b5b2",
       "version_major": 2,
       "version_minor": 0
      },
      "text/plain": [
       "Files: 0/1 files | 00:00<?"
      ]
     },
     "metadata": {},
     "output_type": "display_data"
    },
    {
     "name": "stdout",
     "output_type": "stream",
     "text": [
      "Ian_CON_C02_GEFS_f006_mem04\n"
     ]
    },
    {
     "data": {
      "application/vnd.jupyter.widget-view+json": {
       "model_id": "85922a9928894c8184583b123e4ce714",
       "version_major": 2,
       "version_minor": 0
      },
      "text/plain": [
       "Files: 0/1 files | 00:00<?"
      ]
     },
     "metadata": {},
     "output_type": "display_data"
    },
    {
     "name": "stdout",
     "output_type": "stream",
     "text": [
      "Ian_CON_C02_GEFS_f006_mem05\n"
     ]
    },
    {
     "data": {
      "application/vnd.jupyter.widget-view+json": {
       "model_id": "66e74a95a6ff42be82b8efa56a09a95d",
       "version_major": 2,
       "version_minor": 0
      },
      "text/plain": [
       "Files: 0/1 files | 00:00<?"
      ]
     },
     "metadata": {},
     "output_type": "display_data"
    },
    {
     "name": "stdout",
     "output_type": "stream",
     "text": [
      "Ian_CON_C02_GEFS_f006_mem06\n"
     ]
    },
    {
     "data": {
      "application/vnd.jupyter.widget-view+json": {
       "model_id": "efbc84422b1847e6a58dea210cd5064d",
       "version_major": 2,
       "version_minor": 0
      },
      "text/plain": [
       "Files: 0/1 files | 00:00<?"
      ]
     },
     "metadata": {},
     "output_type": "display_data"
    },
    {
     "name": "stdout",
     "output_type": "stream",
     "text": [
      "Ian_CON_C02_GEFS_f006_mem07\n"
     ]
    },
    {
     "data": {
      "application/vnd.jupyter.widget-view+json": {
       "model_id": "c10f552bf8f64824b25e07394d1f8a4d",
       "version_major": 2,
       "version_minor": 0
      },
      "text/plain": [
       "Files: 0/1 files | 00:00<?"
      ]
     },
     "metadata": {},
     "output_type": "display_data"
    },
    {
     "name": "stdout",
     "output_type": "stream",
     "text": [
      "Ian_CON_C02_GEFS_f006_mem08\n"
     ]
    },
    {
     "data": {
      "application/vnd.jupyter.widget-view+json": {
       "model_id": "322a5f8d266840cb8867f021f0533b1f",
       "version_major": 2,
       "version_minor": 0
      },
      "text/plain": [
       "Files: 0/1 files | 00:00<?"
      ]
     },
     "metadata": {},
     "output_type": "display_data"
    },
    {
     "name": "stdout",
     "output_type": "stream",
     "text": [
      "Ian_CON_C02_GEFS_f006_mem09\n"
     ]
    },
    {
     "data": {
      "application/vnd.jupyter.widget-view+json": {
       "model_id": "7d5a1320e96e4ffe9bfd296ea1d493d0",
       "version_major": 2,
       "version_minor": 0
      },
      "text/plain": [
       "Files: 0/1 files | 00:00<?"
      ]
     },
     "metadata": {},
     "output_type": "display_data"
    },
    {
     "name": "stdout",
     "output_type": "stream",
     "text": [
      "Ian_CON_C02_GEFS_f006_mem10\n"
     ]
    },
    {
     "data": {
      "application/vnd.jupyter.widget-view+json": {
       "model_id": "8b61009e37434f9396e0c59ccb24f114",
       "version_major": 2,
       "version_minor": 0
      },
      "text/plain": [
       "Files: 0/1 files | 00:00<?"
      ]
     },
     "metadata": {},
     "output_type": "display_data"
    },
    {
     "name": "stdout",
     "output_type": "stream",
     "text": [
      "Ian_CON_C02_GEFS_f006_mem11\n"
     ]
    },
    {
     "data": {
      "application/vnd.jupyter.widget-view+json": {
       "model_id": "3c4eb4956245495a8a6589845ee07d87",
       "version_major": 2,
       "version_minor": 0
      },
      "text/plain": [
       "Files: 0/1 files | 00:00<?"
      ]
     },
     "metadata": {},
     "output_type": "display_data"
    },
    {
     "name": "stdout",
     "output_type": "stream",
     "text": [
      "Ian_CON_C02_GEFS_f006_mem12\n"
     ]
    },
    {
     "data": {
      "application/vnd.jupyter.widget-view+json": {
       "model_id": "6951584751af4393aed548e9f82d2d5e",
       "version_major": 2,
       "version_minor": 0
      },
      "text/plain": [
       "Files: 0/1 files | 00:00<?"
      ]
     },
     "metadata": {},
     "output_type": "display_data"
    },
    {
     "name": "stdout",
     "output_type": "stream",
     "text": [
      "Ian_CON_C02_GEFS_f006_mem13\n"
     ]
    },
    {
     "data": {
      "application/vnd.jupyter.widget-view+json": {
       "model_id": "d864b5806a724d2b87c9be53ab845b6a",
       "version_major": 2,
       "version_minor": 0
      },
      "text/plain": [
       "Files: 0/1 files | 00:00<?"
      ]
     },
     "metadata": {},
     "output_type": "display_data"
    },
    {
     "name": "stdout",
     "output_type": "stream",
     "text": [
      "Ian_CON_C02_GEFS_f006_mem14\n"
     ]
    },
    {
     "data": {
      "application/vnd.jupyter.widget-view+json": {
       "model_id": "7c933bf8a9554adeab0de9cef03385b6",
       "version_major": 2,
       "version_minor": 0
      },
      "text/plain": [
       "Files: 0/1 files | 00:00<?"
      ]
     },
     "metadata": {},
     "output_type": "display_data"
    },
    {
     "name": "stdout",
     "output_type": "stream",
     "text": [
      "Ian_CON_C02_GEFS_f006_mem15\n"
     ]
    },
    {
     "data": {
      "application/vnd.jupyter.widget-view+json": {
       "model_id": "f3cf52dbde8f421f87b4b0784f94827d",
       "version_major": 2,
       "version_minor": 0
      },
      "text/plain": [
       "Files: 0/1 files | 00:00<?"
      ]
     },
     "metadata": {},
     "output_type": "display_data"
    },
    {
     "name": "stdout",
     "output_type": "stream",
     "text": [
      "Ian_CON_C02_GEFS_f006_mem16\n"
     ]
    },
    {
     "data": {
      "application/vnd.jupyter.widget-view+json": {
       "model_id": "a0f62a83b57d4fa99e6ca3d5c52cd79d",
       "version_major": 2,
       "version_minor": 0
      },
      "text/plain": [
       "Files: 0/1 files | 00:00<?"
      ]
     },
     "metadata": {},
     "output_type": "display_data"
    },
    {
     "name": "stdout",
     "output_type": "stream",
     "text": [
      "Ian_CON_C02_GEFS_f006_mem17\n"
     ]
    },
    {
     "data": {
      "application/vnd.jupyter.widget-view+json": {
       "model_id": "22e0f6b4aa374fb4a3a843b70fbab437",
       "version_major": 2,
       "version_minor": 0
      },
      "text/plain": [
       "Files: 0/1 files | 00:00<?"
      ]
     },
     "metadata": {},
     "output_type": "display_data"
    },
    {
     "name": "stdout",
     "output_type": "stream",
     "text": [
      "Ian_CON_C02_GEFS_f006_mem18\n"
     ]
    },
    {
     "data": {
      "application/vnd.jupyter.widget-view+json": {
       "model_id": "96f0288b83344919ae4e6b0ea23885a3",
       "version_major": 2,
       "version_minor": 0
      },
      "text/plain": [
       "Files: 0/1 files | 00:00<?"
      ]
     },
     "metadata": {},
     "output_type": "display_data"
    },
    {
     "name": "stdout",
     "output_type": "stream",
     "text": [
      "Ian_CON_C02_GEFS_f006_mem19\n"
     ]
    },
    {
     "data": {
      "application/vnd.jupyter.widget-view+json": {
       "model_id": "a12880f189de45ad8184c39b0c9fcdf9",
       "version_major": 2,
       "version_minor": 0
      },
      "text/plain": [
       "Files: 0/1 files | 00:00<?"
      ]
     },
     "metadata": {},
     "output_type": "display_data"
    },
    {
     "name": "stdout",
     "output_type": "stream",
     "text": [
      "Ian_CON_C02_GEFS_f006_mem20\n"
     ]
    },
    {
     "data": {
      "application/vnd.jupyter.widget-view+json": {
       "model_id": "93f5bb0ffa4c4566974e1652d415ae9c",
       "version_major": 2,
       "version_minor": 0
      },
      "text/plain": [
       "Files: 0/1 files | 00:00<?"
      ]
     },
     "metadata": {},
     "output_type": "display_data"
    },
    {
     "name": "stdout",
     "output_type": "stream",
     "text": [
      "Ian_CON_C02_GEFS_f006_mem21\n"
     ]
    },
    {
     "data": {
      "application/vnd.jupyter.widget-view+json": {
       "model_id": "a7d6486d90bc4c0db6d5bb0de82d624f",
       "version_major": 2,
       "version_minor": 0
      },
      "text/plain": [
       "Files: 0/1 files | 00:00<?"
      ]
     },
     "metadata": {},
     "output_type": "display_data"
    },
    {
     "name": "stdout",
     "output_type": "stream",
     "text": [
      "Ian_CON_C02_GEFS_f006_mem22\n"
     ]
    },
    {
     "data": {
      "application/vnd.jupyter.widget-view+json": {
       "model_id": "15cc5496b7964aff9871a04159dd0fda",
       "version_major": 2,
       "version_minor": 0
      },
      "text/plain": [
       "Files: 0/1 files | 00:00<?"
      ]
     },
     "metadata": {},
     "output_type": "display_data"
    },
    {
     "name": "stdout",
     "output_type": "stream",
     "text": [
      "Ian_CON_C02_GEFS_f006_mem23\n"
     ]
    },
    {
     "data": {
      "application/vnd.jupyter.widget-view+json": {
       "model_id": "514224f2b73f49b1b9cdac96cd44d3fd",
       "version_major": 2,
       "version_minor": 0
      },
      "text/plain": [
       "Files: 0/1 files | 00:00<?"
      ]
     },
     "metadata": {},
     "output_type": "display_data"
    },
    {
     "name": "stdout",
     "output_type": "stream",
     "text": [
      "Ian_CON_C02_GEFS_f006_mem24\n"
     ]
    },
    {
     "data": {
      "application/vnd.jupyter.widget-view+json": {
       "model_id": "426b2328653145959de3a0bdb1a2b6e1",
       "version_major": 2,
       "version_minor": 0
      },
      "text/plain": [
       "Files: 0/1 files | 00:00<?"
      ]
     },
     "metadata": {},
     "output_type": "display_data"
    },
    {
     "name": "stdout",
     "output_type": "stream",
     "text": [
      "Ian_CON_C02_GEFS_f006_mem25\n"
     ]
    },
    {
     "data": {
      "application/vnd.jupyter.widget-view+json": {
       "model_id": "28a62b8411d14684b470d6c1d69aef5a",
       "version_major": 2,
       "version_minor": 0
      },
      "text/plain": [
       "Files: 0/1 files | 00:00<?"
      ]
     },
     "metadata": {},
     "output_type": "display_data"
    },
    {
     "name": "stdout",
     "output_type": "stream",
     "text": [
      "Ian_CON_C02_GEFS_f006_mem26\n"
     ]
    },
    {
     "data": {
      "application/vnd.jupyter.widget-view+json": {
       "model_id": "21bb21254682416dbe9e2fdaec66ecda",
       "version_major": 2,
       "version_minor": 0
      },
      "text/plain": [
       "Files: 0/1 files | 00:00<?"
      ]
     },
     "metadata": {},
     "output_type": "display_data"
    },
    {
     "name": "stdout",
     "output_type": "stream",
     "text": [
      "Ian_CON_C02_GEFS_f006_mem27\n"
     ]
    },
    {
     "data": {
      "application/vnd.jupyter.widget-view+json": {
       "model_id": "8e16d3dce2cf45caa6c996bf4b10e383",
       "version_major": 2,
       "version_minor": 0
      },
      "text/plain": [
       "Files: 0/1 files | 00:00<?"
      ]
     },
     "metadata": {},
     "output_type": "display_data"
    },
    {
     "name": "stdout",
     "output_type": "stream",
     "text": [
      "Ian_CON_C02_GEFS_f006_mem28\n"
     ]
    },
    {
     "data": {
      "application/vnd.jupyter.widget-view+json": {
       "model_id": "52723ef09066454a855a85f074b99292",
       "version_major": 2,
       "version_minor": 0
      },
      "text/plain": [
       "Files: 0/1 files | 00:00<?"
      ]
     },
     "metadata": {},
     "output_type": "display_data"
    },
    {
     "name": "stdout",
     "output_type": "stream",
     "text": [
      "Ian_CON_C02_GEFS_f006_mem29\n"
     ]
    },
    {
     "data": {
      "application/vnd.jupyter.widget-view+json": {
       "model_id": "a97134e087ee4208a7ca5f661dc82bd8",
       "version_major": 2,
       "version_minor": 0
      },
      "text/plain": [
       "Files: 0/1 files | 00:00<?"
      ]
     },
     "metadata": {},
     "output_type": "display_data"
    },
    {
     "name": "stdout",
     "output_type": "stream",
     "text": [
      "Ian_CON_C02_GEFS_f006_mem30\n"
     ]
    },
    {
     "data": {
      "application/vnd.jupyter.widget-view+json": {
       "model_id": "2f18fb5dd8874a71946f576c91b75bb0",
       "version_major": 2,
       "version_minor": 0
      },
      "text/plain": [
       "Files: 0/1 files | 00:00<?"
      ]
     },
     "metadata": {},
     "output_type": "display_data"
    },
    {
     "name": "stdout",
     "output_type": "stream",
     "text": [
      "Ian_CON_C02_GEFS_f012_mem01\n"
     ]
    },
    {
     "data": {
      "application/vnd.jupyter.widget-view+json": {
       "model_id": "63455dc4c6b64b8987d993ced535b674",
       "version_major": 2,
       "version_minor": 0
      },
      "text/plain": [
       "Files: 0/1 files | 00:00<?"
      ]
     },
     "metadata": {},
     "output_type": "display_data"
    },
    {
     "name": "stdout",
     "output_type": "stream",
     "text": [
      "Ian_CON_C02_GEFS_f012_mem02\n"
     ]
    },
    {
     "data": {
      "application/vnd.jupyter.widget-view+json": {
       "model_id": "4d8540d4b6f647bda6cd4e1565d7b79c",
       "version_major": 2,
       "version_minor": 0
      },
      "text/plain": [
       "Files: 0/1 files | 00:00<?"
      ]
     },
     "metadata": {},
     "output_type": "display_data"
    },
    {
     "name": "stdout",
     "output_type": "stream",
     "text": [
      "Ian_CON_C02_GEFS_f012_mem03\n"
     ]
    },
    {
     "data": {
      "application/vnd.jupyter.widget-view+json": {
       "model_id": "95ae5ab40bb74a24a1de7b1cb6104747",
       "version_major": 2,
       "version_minor": 0
      },
      "text/plain": [
       "Files: 0/1 files | 00:00<?"
      ]
     },
     "metadata": {},
     "output_type": "display_data"
    },
    {
     "name": "stdout",
     "output_type": "stream",
     "text": [
      "Ian_CON_C02_GEFS_f012_mem04\n"
     ]
    },
    {
     "data": {
      "application/vnd.jupyter.widget-view+json": {
       "model_id": "5dca59a65ab942e6bed4f04394cbc56b",
       "version_major": 2,
       "version_minor": 0
      },
      "text/plain": [
       "Files: 0/1 files | 00:00<?"
      ]
     },
     "metadata": {},
     "output_type": "display_data"
    },
    {
     "name": "stdout",
     "output_type": "stream",
     "text": [
      "Ian_CON_C02_GEFS_f012_mem05\n"
     ]
    },
    {
     "data": {
      "application/vnd.jupyter.widget-view+json": {
       "model_id": "4fd8485b449a44309166b5b30b379294",
       "version_major": 2,
       "version_minor": 0
      },
      "text/plain": [
       "Files: 0/1 files | 00:00<?"
      ]
     },
     "metadata": {},
     "output_type": "display_data"
    },
    {
     "name": "stdout",
     "output_type": "stream",
     "text": [
      "Ian_CON_C02_GEFS_f012_mem06\n"
     ]
    },
    {
     "data": {
      "application/vnd.jupyter.widget-view+json": {
       "model_id": "b293d09e232448508045096ee56d1529",
       "version_major": 2,
       "version_minor": 0
      },
      "text/plain": [
       "Files: 0/1 files | 00:00<?"
      ]
     },
     "metadata": {},
     "output_type": "display_data"
    },
    {
     "name": "stdout",
     "output_type": "stream",
     "text": [
      "Ian_CON_C02_GEFS_f012_mem07\n"
     ]
    },
    {
     "data": {
      "application/vnd.jupyter.widget-view+json": {
       "model_id": "b39c6d81c1424fce86aebbd273d59890",
       "version_major": 2,
       "version_minor": 0
      },
      "text/plain": [
       "Files: 0/1 files | 00:00<?"
      ]
     },
     "metadata": {},
     "output_type": "display_data"
    },
    {
     "name": "stdout",
     "output_type": "stream",
     "text": [
      "Ian_CON_C02_GEFS_f012_mem08\n"
     ]
    },
    {
     "data": {
      "application/vnd.jupyter.widget-view+json": {
       "model_id": "c99fc47ff9ef45a19253e26f7f0c2aa8",
       "version_major": 2,
       "version_minor": 0
      },
      "text/plain": [
       "Files: 0/1 files | 00:00<?"
      ]
     },
     "metadata": {},
     "output_type": "display_data"
    },
    {
     "name": "stdout",
     "output_type": "stream",
     "text": [
      "Ian_CON_C02_GEFS_f012_mem09\n"
     ]
    },
    {
     "data": {
      "application/vnd.jupyter.widget-view+json": {
       "model_id": "105be887fb8341a18c0762b444a5cdcc",
       "version_major": 2,
       "version_minor": 0
      },
      "text/plain": [
       "Files: 0/1 files | 00:00<?"
      ]
     },
     "metadata": {},
     "output_type": "display_data"
    },
    {
     "name": "stdout",
     "output_type": "stream",
     "text": [
      "Ian_CON_C02_GEFS_f012_mem10\n"
     ]
    },
    {
     "data": {
      "application/vnd.jupyter.widget-view+json": {
       "model_id": "702a52276bd94084a03ac6f5b45a3946",
       "version_major": 2,
       "version_minor": 0
      },
      "text/plain": [
       "Files: 0/1 files | 00:00<?"
      ]
     },
     "metadata": {},
     "output_type": "display_data"
    },
    {
     "name": "stdout",
     "output_type": "stream",
     "text": [
      "Ian_CON_C02_GEFS_f012_mem11\n"
     ]
    },
    {
     "data": {
      "application/vnd.jupyter.widget-view+json": {
       "model_id": "e5abedef2db24f639fcecc1ac366ba3f",
       "version_major": 2,
       "version_minor": 0
      },
      "text/plain": [
       "Files: 0/1 files | 00:00<?"
      ]
     },
     "metadata": {},
     "output_type": "display_data"
    },
    {
     "name": "stdout",
     "output_type": "stream",
     "text": [
      "Ian_CON_C02_GEFS_f012_mem12\n"
     ]
    },
    {
     "data": {
      "application/vnd.jupyter.widget-view+json": {
       "model_id": "921f5409c7944082b8ace85c70f1e15c",
       "version_major": 2,
       "version_minor": 0
      },
      "text/plain": [
       "Files: 0/1 files | 00:00<?"
      ]
     },
     "metadata": {},
     "output_type": "display_data"
    },
    {
     "name": "stdout",
     "output_type": "stream",
     "text": [
      "Ian_CON_C02_GEFS_f012_mem13\n"
     ]
    },
    {
     "data": {
      "application/vnd.jupyter.widget-view+json": {
       "model_id": "802d828bfdf94d65bd02a374906c870a",
       "version_major": 2,
       "version_minor": 0
      },
      "text/plain": [
       "Files: 0/1 files | 00:00<?"
      ]
     },
     "metadata": {},
     "output_type": "display_data"
    },
    {
     "name": "stdout",
     "output_type": "stream",
     "text": [
      "Ian_CON_C02_GEFS_f012_mem14\n"
     ]
    },
    {
     "data": {
      "application/vnd.jupyter.widget-view+json": {
       "model_id": "159b67d9f58b489ea30300384d5ba104",
       "version_major": 2,
       "version_minor": 0
      },
      "text/plain": [
       "Files: 0/1 files | 00:00<?"
      ]
     },
     "metadata": {},
     "output_type": "display_data"
    },
    {
     "name": "stdout",
     "output_type": "stream",
     "text": [
      "Ian_CON_C02_GEFS_f012_mem15\n"
     ]
    },
    {
     "data": {
      "application/vnd.jupyter.widget-view+json": {
       "model_id": "5a72274e8624487c98a285734a8d7713",
       "version_major": 2,
       "version_minor": 0
      },
      "text/plain": [
       "Files: 0/1 files | 00:00<?"
      ]
     },
     "metadata": {},
     "output_type": "display_data"
    },
    {
     "name": "stdout",
     "output_type": "stream",
     "text": [
      "Ian_CON_C02_GEFS_f012_mem16\n"
     ]
    },
    {
     "data": {
      "application/vnd.jupyter.widget-view+json": {
       "model_id": "9bb54633c7c642c49b6962295ec620dc",
       "version_major": 2,
       "version_minor": 0
      },
      "text/plain": [
       "Files: 0/1 files | 00:00<?"
      ]
     },
     "metadata": {},
     "output_type": "display_data"
    },
    {
     "name": "stdout",
     "output_type": "stream",
     "text": [
      "Ian_CON_C02_GEFS_f012_mem17\n"
     ]
    },
    {
     "data": {
      "application/vnd.jupyter.widget-view+json": {
       "model_id": "8afb0c0c77004cc5aff4b424854a8b18",
       "version_major": 2,
       "version_minor": 0
      },
      "text/plain": [
       "Files: 0/1 files | 00:00<?"
      ]
     },
     "metadata": {},
     "output_type": "display_data"
    },
    {
     "name": "stdout",
     "output_type": "stream",
     "text": [
      "Ian_CON_C02_GEFS_f012_mem18\n"
     ]
    },
    {
     "data": {
      "application/vnd.jupyter.widget-view+json": {
       "model_id": "df36cfb347f44ef692ea26825fd39994",
       "version_major": 2,
       "version_minor": 0
      },
      "text/plain": [
       "Files: 0/1 files | 00:00<?"
      ]
     },
     "metadata": {},
     "output_type": "display_data"
    },
    {
     "name": "stdout",
     "output_type": "stream",
     "text": [
      "Ian_CON_C02_GEFS_f012_mem19\n"
     ]
    },
    {
     "data": {
      "application/vnd.jupyter.widget-view+json": {
       "model_id": "93cec9ce596843c09cf347480fb8a30e",
       "version_major": 2,
       "version_minor": 0
      },
      "text/plain": [
       "Files: 0/1 files | 00:00<?"
      ]
     },
     "metadata": {},
     "output_type": "display_data"
    },
    {
     "name": "stdout",
     "output_type": "stream",
     "text": [
      "Ian_CON_C02_GEFS_f012_mem20\n"
     ]
    },
    {
     "data": {
      "application/vnd.jupyter.widget-view+json": {
       "model_id": "d652347d2eff46b2b23784501c00eceb",
       "version_major": 2,
       "version_minor": 0
      },
      "text/plain": [
       "Files: 0/1 files | 00:00<?"
      ]
     },
     "metadata": {},
     "output_type": "display_data"
    },
    {
     "name": "stdout",
     "output_type": "stream",
     "text": [
      "Ian_CON_C02_GEFS_f012_mem21\n"
     ]
    },
    {
     "data": {
      "application/vnd.jupyter.widget-view+json": {
       "model_id": "ec1f77c3594f40ba8a4d14dd22ddfa2c",
       "version_major": 2,
       "version_minor": 0
      },
      "text/plain": [
       "Files: 0/1 files | 00:00<?"
      ]
     },
     "metadata": {},
     "output_type": "display_data"
    },
    {
     "name": "stdout",
     "output_type": "stream",
     "text": [
      "Ian_CON_C02_GEFS_f012_mem22\n"
     ]
    },
    {
     "data": {
      "application/vnd.jupyter.widget-view+json": {
       "model_id": "cf4d2e050d9d4f91849f424c5da9702f",
       "version_major": 2,
       "version_minor": 0
      },
      "text/plain": [
       "Files: 0/1 files | 00:00<?"
      ]
     },
     "metadata": {},
     "output_type": "display_data"
    },
    {
     "name": "stdout",
     "output_type": "stream",
     "text": [
      "Ian_CON_C02_GEFS_f012_mem23\n"
     ]
    },
    {
     "data": {
      "application/vnd.jupyter.widget-view+json": {
       "model_id": "81444403910045f5a4f9b5ae7dce3ff5",
       "version_major": 2,
       "version_minor": 0
      },
      "text/plain": [
       "Files: 0/1 files | 00:00<?"
      ]
     },
     "metadata": {},
     "output_type": "display_data"
    },
    {
     "name": "stdout",
     "output_type": "stream",
     "text": [
      "Ian_CON_C02_GEFS_f012_mem24\n"
     ]
    },
    {
     "data": {
      "application/vnd.jupyter.widget-view+json": {
       "model_id": "da7c490348dc4d8ab9689fb5f94ff2b5",
       "version_major": 2,
       "version_minor": 0
      },
      "text/plain": [
       "Files: 0/1 files | 00:00<?"
      ]
     },
     "metadata": {},
     "output_type": "display_data"
    },
    {
     "name": "stdout",
     "output_type": "stream",
     "text": [
      "Ian_CON_C02_GEFS_f012_mem25\n"
     ]
    },
    {
     "data": {
      "application/vnd.jupyter.widget-view+json": {
       "model_id": "567d7fb775b6416e95331e6aaf472b3e",
       "version_major": 2,
       "version_minor": 0
      },
      "text/plain": [
       "Files: 0/1 files | 00:00<?"
      ]
     },
     "metadata": {},
     "output_type": "display_data"
    },
    {
     "name": "stdout",
     "output_type": "stream",
     "text": [
      "Ian_CON_C02_GEFS_f012_mem26\n"
     ]
    },
    {
     "data": {
      "application/vnd.jupyter.widget-view+json": {
       "model_id": "ab575cad852d429e9dc222b33cf1bab5",
       "version_major": 2,
       "version_minor": 0
      },
      "text/plain": [
       "Files: 0/1 files | 00:00<?"
      ]
     },
     "metadata": {},
     "output_type": "display_data"
    },
    {
     "name": "stdout",
     "output_type": "stream",
     "text": [
      "Ian_CON_C02_GEFS_f012_mem27\n"
     ]
    },
    {
     "data": {
      "application/vnd.jupyter.widget-view+json": {
       "model_id": "ad9140cbc982462083d5c3049bf612c7",
       "version_major": 2,
       "version_minor": 0
      },
      "text/plain": [
       "Files: 0/1 files | 00:00<?"
      ]
     },
     "metadata": {},
     "output_type": "display_data"
    },
    {
     "name": "stdout",
     "output_type": "stream",
     "text": [
      "Ian_CON_C02_GEFS_f012_mem28\n"
     ]
    },
    {
     "data": {
      "application/vnd.jupyter.widget-view+json": {
       "model_id": "6a69feeea6974ff5b1fbce5079b89e80",
       "version_major": 2,
       "version_minor": 0
      },
      "text/plain": [
       "Files: 0/1 files | 00:00<?"
      ]
     },
     "metadata": {},
     "output_type": "display_data"
    },
    {
     "name": "stdout",
     "output_type": "stream",
     "text": [
      "Ian_CON_C02_GEFS_f012_mem29\n"
     ]
    },
    {
     "data": {
      "application/vnd.jupyter.widget-view+json": {
       "model_id": "2b0e1b796b6d45a6b9588b2e0d1d4929",
       "version_major": 2,
       "version_minor": 0
      },
      "text/plain": [
       "Files: 0/1 files | 00:00<?"
      ]
     },
     "metadata": {},
     "output_type": "display_data"
    },
    {
     "name": "stdout",
     "output_type": "stream",
     "text": [
      "Ian_CON_C02_GEFS_f012_mem30\n"
     ]
    },
    {
     "data": {
      "application/vnd.jupyter.widget-view+json": {
       "model_id": "6c7d2364e1a241b3aed4808fb7ff1f7e",
       "version_major": 2,
       "version_minor": 0
      },
      "text/plain": [
       "Files: 0/1 files | 00:00<?"
      ]
     },
     "metadata": {},
     "output_type": "display_data"
    },
    {
     "name": "stdout",
     "output_type": "stream",
     "text": [
      "Ian_CON_C03_GEFS_f006_mem01\n"
     ]
    },
    {
     "data": {
      "application/vnd.jupyter.widget-view+json": {
       "model_id": "66f3ca538b5f4f418dc5e9e7b10f023d",
       "version_major": 2,
       "version_minor": 0
      },
      "text/plain": [
       "Files: 0/1 files | 00:00<?"
      ]
     },
     "metadata": {},
     "output_type": "display_data"
    },
    {
     "name": "stdout",
     "output_type": "stream",
     "text": [
      "Ian_CON_C03_GEFS_f006_mem02\n"
     ]
    },
    {
     "data": {
      "application/vnd.jupyter.widget-view+json": {
       "model_id": "c1e9dd9054ac4e299614d89ac4879a3c",
       "version_major": 2,
       "version_minor": 0
      },
      "text/plain": [
       "Files: 0/1 files | 00:00<?"
      ]
     },
     "metadata": {},
     "output_type": "display_data"
    },
    {
     "name": "stdout",
     "output_type": "stream",
     "text": [
      "Ian_CON_C03_GEFS_f006_mem03\n"
     ]
    },
    {
     "data": {
      "application/vnd.jupyter.widget-view+json": {
       "model_id": "5f67524d21a04f36977e323da8a1338c",
       "version_major": 2,
       "version_minor": 0
      },
      "text/plain": [
       "Files: 0/1 files | 00:00<?"
      ]
     },
     "metadata": {},
     "output_type": "display_data"
    },
    {
     "name": "stdout",
     "output_type": "stream",
     "text": [
      "Ian_CON_C03_GEFS_f006_mem04\n"
     ]
    },
    {
     "data": {
      "application/vnd.jupyter.widget-view+json": {
       "model_id": "d2450f47a91b4f9aa8630d85797c558c",
       "version_major": 2,
       "version_minor": 0
      },
      "text/plain": [
       "Files: 0/1 files | 00:00<?"
      ]
     },
     "metadata": {},
     "output_type": "display_data"
    },
    {
     "name": "stdout",
     "output_type": "stream",
     "text": [
      "Ian_CON_C03_GEFS_f006_mem05\n"
     ]
    },
    {
     "data": {
      "application/vnd.jupyter.widget-view+json": {
       "model_id": "b6f2e2c4b8b040da890377c41abca915",
       "version_major": 2,
       "version_minor": 0
      },
      "text/plain": [
       "Files: 0/1 files | 00:00<?"
      ]
     },
     "metadata": {},
     "output_type": "display_data"
    },
    {
     "name": "stdout",
     "output_type": "stream",
     "text": [
      "Ian_CON_C03_GEFS_f006_mem06\n"
     ]
    },
    {
     "data": {
      "application/vnd.jupyter.widget-view+json": {
       "model_id": "ca404e40fc714805bf6e23e1235c8302",
       "version_major": 2,
       "version_minor": 0
      },
      "text/plain": [
       "Files: 0/1 files | 00:00<?"
      ]
     },
     "metadata": {},
     "output_type": "display_data"
    },
    {
     "name": "stdout",
     "output_type": "stream",
     "text": [
      "Ian_CON_C03_GEFS_f006_mem07\n"
     ]
    },
    {
     "data": {
      "application/vnd.jupyter.widget-view+json": {
       "model_id": "8baa3c67e560431aac85e8915e0f3381",
       "version_major": 2,
       "version_minor": 0
      },
      "text/plain": [
       "Files: 0/1 files | 00:00<?"
      ]
     },
     "metadata": {},
     "output_type": "display_data"
    },
    {
     "name": "stdout",
     "output_type": "stream",
     "text": [
      "Ian_CON_C03_GEFS_f006_mem08\n"
     ]
    },
    {
     "data": {
      "application/vnd.jupyter.widget-view+json": {
       "model_id": "bee986fa26744b64b62cf6fcf6d00a53",
       "version_major": 2,
       "version_minor": 0
      },
      "text/plain": [
       "Files: 0/1 files | 00:00<?"
      ]
     },
     "metadata": {},
     "output_type": "display_data"
    },
    {
     "name": "stdout",
     "output_type": "stream",
     "text": [
      "Ian_CON_C03_GEFS_f006_mem09\n"
     ]
    },
    {
     "data": {
      "application/vnd.jupyter.widget-view+json": {
       "model_id": "5fd2d3e8598342489bb8bb465f977410",
       "version_major": 2,
       "version_minor": 0
      },
      "text/plain": [
       "Files: 0/1 files | 00:00<?"
      ]
     },
     "metadata": {},
     "output_type": "display_data"
    },
    {
     "name": "stdout",
     "output_type": "stream",
     "text": [
      "Ian_CON_C03_GEFS_f006_mem10\n"
     ]
    },
    {
     "data": {
      "application/vnd.jupyter.widget-view+json": {
       "model_id": "b95f058969cd4b45ae1c8e3c28153f11",
       "version_major": 2,
       "version_minor": 0
      },
      "text/plain": [
       "Files: 0/1 files | 00:00<?"
      ]
     },
     "metadata": {},
     "output_type": "display_data"
    },
    {
     "name": "stdout",
     "output_type": "stream",
     "text": [
      "Ian_CON_C03_GEFS_f006_mem11\n"
     ]
    },
    {
     "data": {
      "application/vnd.jupyter.widget-view+json": {
       "model_id": "a58a4f551e914f168826bc12d37bdc3c",
       "version_major": 2,
       "version_minor": 0
      },
      "text/plain": [
       "Files: 0/1 files | 00:00<?"
      ]
     },
     "metadata": {},
     "output_type": "display_data"
    },
    {
     "name": "stdout",
     "output_type": "stream",
     "text": [
      "Ian_CON_C03_GEFS_f006_mem12\n"
     ]
    },
    {
     "data": {
      "application/vnd.jupyter.widget-view+json": {
       "model_id": "5de30e70cfe14a56aed27d691f3b109f",
       "version_major": 2,
       "version_minor": 0
      },
      "text/plain": [
       "Files: 0/1 files | 00:00<?"
      ]
     },
     "metadata": {},
     "output_type": "display_data"
    },
    {
     "name": "stdout",
     "output_type": "stream",
     "text": [
      "Ian_CON_C03_GEFS_f006_mem13\n"
     ]
    },
    {
     "data": {
      "application/vnd.jupyter.widget-view+json": {
       "model_id": "b3756c8301b84728b4aec6be64395b2b",
       "version_major": 2,
       "version_minor": 0
      },
      "text/plain": [
       "Files: 0/1 files | 00:00<?"
      ]
     },
     "metadata": {},
     "output_type": "display_data"
    },
    {
     "name": "stdout",
     "output_type": "stream",
     "text": [
      "Ian_CON_C03_GEFS_f006_mem14\n"
     ]
    },
    {
     "data": {
      "application/vnd.jupyter.widget-view+json": {
       "model_id": "2e368edfca8d4d94a5c2fed663f1c840",
       "version_major": 2,
       "version_minor": 0
      },
      "text/plain": [
       "Files: 0/1 files | 00:00<?"
      ]
     },
     "metadata": {},
     "output_type": "display_data"
    },
    {
     "name": "stdout",
     "output_type": "stream",
     "text": [
      "Ian_CON_C03_GEFS_f006_mem15\n"
     ]
    },
    {
     "data": {
      "application/vnd.jupyter.widget-view+json": {
       "model_id": "9a60fe62aad54e7cbf5b4a10033b8e23",
       "version_major": 2,
       "version_minor": 0
      },
      "text/plain": [
       "Files: 0/1 files | 00:00<?"
      ]
     },
     "metadata": {},
     "output_type": "display_data"
    },
    {
     "name": "stdout",
     "output_type": "stream",
     "text": [
      "Ian_CON_C03_GEFS_f006_mem16\n"
     ]
    },
    {
     "data": {
      "application/vnd.jupyter.widget-view+json": {
       "model_id": "81c96c17054b451b8450988acfff261a",
       "version_major": 2,
       "version_minor": 0
      },
      "text/plain": [
       "Files: 0/1 files | 00:00<?"
      ]
     },
     "metadata": {},
     "output_type": "display_data"
    },
    {
     "name": "stdout",
     "output_type": "stream",
     "text": [
      "Ian_CON_C03_GEFS_f006_mem17\n"
     ]
    },
    {
     "data": {
      "application/vnd.jupyter.widget-view+json": {
       "model_id": "4494cc068df54e4e8e669ab758ece9d5",
       "version_major": 2,
       "version_minor": 0
      },
      "text/plain": [
       "Files: 0/1 files | 00:00<?"
      ]
     },
     "metadata": {},
     "output_type": "display_data"
    },
    {
     "name": "stdout",
     "output_type": "stream",
     "text": [
      "Ian_CON_C03_GEFS_f006_mem18\n"
     ]
    },
    {
     "data": {
      "application/vnd.jupyter.widget-view+json": {
       "model_id": "f2002ed5a1794df5a02d17200df6d8ac",
       "version_major": 2,
       "version_minor": 0
      },
      "text/plain": [
       "Files: 0/1 files | 00:00<?"
      ]
     },
     "metadata": {},
     "output_type": "display_data"
    },
    {
     "name": "stdout",
     "output_type": "stream",
     "text": [
      "Ian_CON_C03_GEFS_f006_mem19\n"
     ]
    },
    {
     "data": {
      "application/vnd.jupyter.widget-view+json": {
       "model_id": "77ef7bfcd2e34d198a9cd4b89b042f45",
       "version_major": 2,
       "version_minor": 0
      },
      "text/plain": [
       "Files: 0/1 files | 00:00<?"
      ]
     },
     "metadata": {},
     "output_type": "display_data"
    },
    {
     "name": "stdout",
     "output_type": "stream",
     "text": [
      "Ian_CON_C03_GEFS_f006_mem20\n"
     ]
    },
    {
     "data": {
      "application/vnd.jupyter.widget-view+json": {
       "model_id": "b56c48604e684876ad9568b0cfc32797",
       "version_major": 2,
       "version_minor": 0
      },
      "text/plain": [
       "Files: 0/1 files | 00:00<?"
      ]
     },
     "metadata": {},
     "output_type": "display_data"
    },
    {
     "name": "stdout",
     "output_type": "stream",
     "text": [
      "Ian_CON_C03_GEFS_f006_mem21\n"
     ]
    },
    {
     "data": {
      "application/vnd.jupyter.widget-view+json": {
       "model_id": "598807870dc441649ce5b2339e0b68d7",
       "version_major": 2,
       "version_minor": 0
      },
      "text/plain": [
       "Files: 0/1 files | 00:00<?"
      ]
     },
     "metadata": {},
     "output_type": "display_data"
    },
    {
     "name": "stdout",
     "output_type": "stream",
     "text": [
      "Ian_CON_C03_GEFS_f006_mem22\n"
     ]
    },
    {
     "data": {
      "application/vnd.jupyter.widget-view+json": {
       "model_id": "c44d9a7c862e4c8cbbd7310c45067a6c",
       "version_major": 2,
       "version_minor": 0
      },
      "text/plain": [
       "Files: 0/1 files | 00:00<?"
      ]
     },
     "metadata": {},
     "output_type": "display_data"
    },
    {
     "name": "stdout",
     "output_type": "stream",
     "text": [
      "Ian_CON_C03_GEFS_f006_mem23\n"
     ]
    },
    {
     "data": {
      "application/vnd.jupyter.widget-view+json": {
       "model_id": "f7efaccec6f5416eab5b3e92b8da41f2",
       "version_major": 2,
       "version_minor": 0
      },
      "text/plain": [
       "Files: 0/1 files | 00:00<?"
      ]
     },
     "metadata": {},
     "output_type": "display_data"
    },
    {
     "name": "stdout",
     "output_type": "stream",
     "text": [
      "Ian_CON_C03_GEFS_f006_mem24\n"
     ]
    },
    {
     "data": {
      "application/vnd.jupyter.widget-view+json": {
       "model_id": "dffb4073f35f46f48e5c43d86d3c522a",
       "version_major": 2,
       "version_minor": 0
      },
      "text/plain": [
       "Files: 0/1 files | 00:00<?"
      ]
     },
     "metadata": {},
     "output_type": "display_data"
    },
    {
     "name": "stdout",
     "output_type": "stream",
     "text": [
      "Ian_CON_C03_GEFS_f006_mem25\n"
     ]
    },
    {
     "data": {
      "application/vnd.jupyter.widget-view+json": {
       "model_id": "8b066a8fd89f4de1b9b96f513d587912",
       "version_major": 2,
       "version_minor": 0
      },
      "text/plain": [
       "Files: 0/1 files | 00:00<?"
      ]
     },
     "metadata": {},
     "output_type": "display_data"
    },
    {
     "name": "stdout",
     "output_type": "stream",
     "text": [
      "Ian_CON_C03_GEFS_f006_mem26\n"
     ]
    },
    {
     "data": {
      "application/vnd.jupyter.widget-view+json": {
       "model_id": "384f98fd344e443fa6ab648cebb47f54",
       "version_major": 2,
       "version_minor": 0
      },
      "text/plain": [
       "Files: 0/1 files | 00:00<?"
      ]
     },
     "metadata": {},
     "output_type": "display_data"
    },
    {
     "name": "stdout",
     "output_type": "stream",
     "text": [
      "Ian_CON_C03_GEFS_f006_mem27\n"
     ]
    },
    {
     "data": {
      "application/vnd.jupyter.widget-view+json": {
       "model_id": "3e5756ce6c0d44dfb523a0dbf49114c2",
       "version_major": 2,
       "version_minor": 0
      },
      "text/plain": [
       "Files: 0/1 files | 00:00<?"
      ]
     },
     "metadata": {},
     "output_type": "display_data"
    },
    {
     "name": "stdout",
     "output_type": "stream",
     "text": [
      "Ian_CON_C03_GEFS_f006_mem28\n"
     ]
    },
    {
     "data": {
      "application/vnd.jupyter.widget-view+json": {
       "model_id": "b74ec75be9074d7999415525671b9138",
       "version_major": 2,
       "version_minor": 0
      },
      "text/plain": [
       "Files: 0/1 files | 00:00<?"
      ]
     },
     "metadata": {},
     "output_type": "display_data"
    },
    {
     "name": "stdout",
     "output_type": "stream",
     "text": [
      "Ian_CON_C03_GEFS_f006_mem29\n"
     ]
    },
    {
     "data": {
      "application/vnd.jupyter.widget-view+json": {
       "model_id": "2ececf42b09946e1a3a56b88c9ca0481",
       "version_major": 2,
       "version_minor": 0
      },
      "text/plain": [
       "Files: 0/1 files | 00:00<?"
      ]
     },
     "metadata": {},
     "output_type": "display_data"
    },
    {
     "name": "stdout",
     "output_type": "stream",
     "text": [
      "Ian_CON_C03_GEFS_f006_mem30\n"
     ]
    },
    {
     "data": {
      "application/vnd.jupyter.widget-view+json": {
       "model_id": "550bcfbf040844eda8ebbca8a2a06556",
       "version_major": 2,
       "version_minor": 0
      },
      "text/plain": [
       "Files: 0/1 files | 00:00<?"
      ]
     },
     "metadata": {},
     "output_type": "display_data"
    },
    {
     "name": "stdout",
     "output_type": "stream",
     "text": [
      "Ian_CON_C03_GEFS_f012_mem01\n"
     ]
    },
    {
     "data": {
      "application/vnd.jupyter.widget-view+json": {
       "model_id": "d8aaca6fdbcc45779d5111203dddaa19",
       "version_major": 2,
       "version_minor": 0
      },
      "text/plain": [
       "Files: 0/1 files | 00:00<?"
      ]
     },
     "metadata": {},
     "output_type": "display_data"
    },
    {
     "name": "stdout",
     "output_type": "stream",
     "text": [
      "Ian_CON_C03_GEFS_f012_mem02\n"
     ]
    },
    {
     "data": {
      "application/vnd.jupyter.widget-view+json": {
       "model_id": "288722932530425b9c0a794a0f8ba024",
       "version_major": 2,
       "version_minor": 0
      },
      "text/plain": [
       "Files: 0/1 files | 00:00<?"
      ]
     },
     "metadata": {},
     "output_type": "display_data"
    },
    {
     "name": "stdout",
     "output_type": "stream",
     "text": [
      "Ian_CON_C03_GEFS_f012_mem03\n"
     ]
    },
    {
     "data": {
      "application/vnd.jupyter.widget-view+json": {
       "model_id": "c8ee254437e948c1977566e5dfe3923c",
       "version_major": 2,
       "version_minor": 0
      },
      "text/plain": [
       "Files: 0/1 files | 00:00<?"
      ]
     },
     "metadata": {},
     "output_type": "display_data"
    },
    {
     "name": "stdout",
     "output_type": "stream",
     "text": [
      "Ian_CON_C03_GEFS_f012_mem04\n"
     ]
    },
    {
     "data": {
      "application/vnd.jupyter.widget-view+json": {
       "model_id": "72f99d1ad490470693e6a64c00a26abb",
       "version_major": 2,
       "version_minor": 0
      },
      "text/plain": [
       "Files: 0/1 files | 00:00<?"
      ]
     },
     "metadata": {},
     "output_type": "display_data"
    },
    {
     "name": "stdout",
     "output_type": "stream",
     "text": [
      "Ian_CON_C03_GEFS_f012_mem05\n"
     ]
    },
    {
     "data": {
      "application/vnd.jupyter.widget-view+json": {
       "model_id": "91ea9a3561714069994eb7d556ebac9d",
       "version_major": 2,
       "version_minor": 0
      },
      "text/plain": [
       "Files: 0/1 files | 00:00<?"
      ]
     },
     "metadata": {},
     "output_type": "display_data"
    },
    {
     "name": "stdout",
     "output_type": "stream",
     "text": [
      "Ian_CON_C03_GEFS_f012_mem06\n"
     ]
    },
    {
     "data": {
      "application/vnd.jupyter.widget-view+json": {
       "model_id": "3bf8e5f614614827b40bcfc763ef16a8",
       "version_major": 2,
       "version_minor": 0
      },
      "text/plain": [
       "Files: 0/1 files | 00:00<?"
      ]
     },
     "metadata": {},
     "output_type": "display_data"
    },
    {
     "name": "stdout",
     "output_type": "stream",
     "text": [
      "Ian_CON_C03_GEFS_f012_mem07\n"
     ]
    },
    {
     "data": {
      "application/vnd.jupyter.widget-view+json": {
       "model_id": "ed43afe3fb6d4d99b3691df20a147a42",
       "version_major": 2,
       "version_minor": 0
      },
      "text/plain": [
       "Files: 0/1 files | 00:00<?"
      ]
     },
     "metadata": {},
     "output_type": "display_data"
    },
    {
     "name": "stdout",
     "output_type": "stream",
     "text": [
      "Ian_CON_C03_GEFS_f012_mem08\n"
     ]
    },
    {
     "data": {
      "application/vnd.jupyter.widget-view+json": {
       "model_id": "7a3bdd78e8f947018d7950c10fbbda29",
       "version_major": 2,
       "version_minor": 0
      },
      "text/plain": [
       "Files: 0/1 files | 00:00<?"
      ]
     },
     "metadata": {},
     "output_type": "display_data"
    },
    {
     "name": "stdout",
     "output_type": "stream",
     "text": [
      "Ian_CON_C03_GEFS_f012_mem09\n"
     ]
    },
    {
     "data": {
      "application/vnd.jupyter.widget-view+json": {
       "model_id": "8de068e4920b4af49732988a9b036598",
       "version_major": 2,
       "version_minor": 0
      },
      "text/plain": [
       "Files: 0/1 files | 00:00<?"
      ]
     },
     "metadata": {},
     "output_type": "display_data"
    },
    {
     "name": "stdout",
     "output_type": "stream",
     "text": [
      "Ian_CON_C03_GEFS_f012_mem10\n"
     ]
    },
    {
     "data": {
      "application/vnd.jupyter.widget-view+json": {
       "model_id": "5da3a619718c4b3fa0e9375d62e50cbd",
       "version_major": 2,
       "version_minor": 0
      },
      "text/plain": [
       "Files: 0/1 files | 00:00<?"
      ]
     },
     "metadata": {},
     "output_type": "display_data"
    },
    {
     "name": "stdout",
     "output_type": "stream",
     "text": [
      "Ian_CON_C03_GEFS_f012_mem11\n"
     ]
    },
    {
     "data": {
      "application/vnd.jupyter.widget-view+json": {
       "model_id": "e6e4a3ee838f421c8c57847eaf9b3926",
       "version_major": 2,
       "version_minor": 0
      },
      "text/plain": [
       "Files: 0/1 files | 00:00<?"
      ]
     },
     "metadata": {},
     "output_type": "display_data"
    },
    {
     "name": "stdout",
     "output_type": "stream",
     "text": [
      "Ian_CON_C03_GEFS_f012_mem12\n"
     ]
    },
    {
     "data": {
      "application/vnd.jupyter.widget-view+json": {
       "model_id": "b1b13605298d40cfaf1f633d57f67ada",
       "version_major": 2,
       "version_minor": 0
      },
      "text/plain": [
       "Files: 0/1 files | 00:00<?"
      ]
     },
     "metadata": {},
     "output_type": "display_data"
    },
    {
     "name": "stdout",
     "output_type": "stream",
     "text": [
      "Ian_CON_C03_GEFS_f012_mem13\n"
     ]
    },
    {
     "data": {
      "application/vnd.jupyter.widget-view+json": {
       "model_id": "d882e14205b940619805f7ee7e47ad5f",
       "version_major": 2,
       "version_minor": 0
      },
      "text/plain": [
       "Files: 0/1 files | 00:00<?"
      ]
     },
     "metadata": {},
     "output_type": "display_data"
    },
    {
     "name": "stdout",
     "output_type": "stream",
     "text": [
      "Ian_CON_C03_GEFS_f012_mem14\n"
     ]
    },
    {
     "data": {
      "application/vnd.jupyter.widget-view+json": {
       "model_id": "fe7b22a31696470382d874cfc6383b7f",
       "version_major": 2,
       "version_minor": 0
      },
      "text/plain": [
       "Files: 0/1 files | 00:00<?"
      ]
     },
     "metadata": {},
     "output_type": "display_data"
    },
    {
     "name": "stdout",
     "output_type": "stream",
     "text": [
      "Ian_CON_C03_GEFS_f012_mem15\n"
     ]
    },
    {
     "data": {
      "application/vnd.jupyter.widget-view+json": {
       "model_id": "5db29e447c5741f6bbede8b29ee805d2",
       "version_major": 2,
       "version_minor": 0
      },
      "text/plain": [
       "Files: 0/1 files | 00:00<?"
      ]
     },
     "metadata": {},
     "output_type": "display_data"
    },
    {
     "name": "stdout",
     "output_type": "stream",
     "text": [
      "Ian_CON_C03_GEFS_f012_mem16\n"
     ]
    },
    {
     "data": {
      "application/vnd.jupyter.widget-view+json": {
       "model_id": "010013e2e1074d08ab616d608ae617c3",
       "version_major": 2,
       "version_minor": 0
      },
      "text/plain": [
       "Files: 0/1 files | 00:00<?"
      ]
     },
     "metadata": {},
     "output_type": "display_data"
    },
    {
     "name": "stdout",
     "output_type": "stream",
     "text": [
      "Ian_CON_C03_GEFS_f012_mem17\n"
     ]
    },
    {
     "data": {
      "application/vnd.jupyter.widget-view+json": {
       "model_id": "a12758da80dd4d739958ebbaca3a86ef",
       "version_major": 2,
       "version_minor": 0
      },
      "text/plain": [
       "Files: 0/1 files | 00:00<?"
      ]
     },
     "metadata": {},
     "output_type": "display_data"
    },
    {
     "name": "stdout",
     "output_type": "stream",
     "text": [
      "Ian_CON_C03_GEFS_f012_mem18\n"
     ]
    },
    {
     "data": {
      "application/vnd.jupyter.widget-view+json": {
       "model_id": "ec468ca63cc941439b24d35e8fabcb86",
       "version_major": 2,
       "version_minor": 0
      },
      "text/plain": [
       "Files: 0/1 files | 00:00<?"
      ]
     },
     "metadata": {},
     "output_type": "display_data"
    },
    {
     "name": "stdout",
     "output_type": "stream",
     "text": [
      "Ian_CON_C03_GEFS_f012_mem19\n"
     ]
    },
    {
     "data": {
      "application/vnd.jupyter.widget-view+json": {
       "model_id": "95cf29cc4e724eaa8997e0f87305eb93",
       "version_major": 2,
       "version_minor": 0
      },
      "text/plain": [
       "Files: 0/1 files | 00:00<?"
      ]
     },
     "metadata": {},
     "output_type": "display_data"
    },
    {
     "name": "stdout",
     "output_type": "stream",
     "text": [
      "Ian_CON_C03_GEFS_f012_mem20\n"
     ]
    },
    {
     "data": {
      "application/vnd.jupyter.widget-view+json": {
       "model_id": "575370bb08694f1e8d878ae1bd4b9ee9",
       "version_major": 2,
       "version_minor": 0
      },
      "text/plain": [
       "Files: 0/1 files | 00:00<?"
      ]
     },
     "metadata": {},
     "output_type": "display_data"
    },
    {
     "name": "stdout",
     "output_type": "stream",
     "text": [
      "Ian_CON_C03_GEFS_f012_mem21\n"
     ]
    },
    {
     "data": {
      "application/vnd.jupyter.widget-view+json": {
       "model_id": "aa087223bf734616aff0ca1a10e97869",
       "version_major": 2,
       "version_minor": 0
      },
      "text/plain": [
       "Files: 0/1 files | 00:00<?"
      ]
     },
     "metadata": {},
     "output_type": "display_data"
    },
    {
     "name": "stdout",
     "output_type": "stream",
     "text": [
      "Ian_CON_C03_GEFS_f012_mem22\n"
     ]
    },
    {
     "data": {
      "application/vnd.jupyter.widget-view+json": {
       "model_id": "785186e08cf347708b31912079873d55",
       "version_major": 2,
       "version_minor": 0
      },
      "text/plain": [
       "Files: 0/1 files | 00:00<?"
      ]
     },
     "metadata": {},
     "output_type": "display_data"
    },
    {
     "name": "stdout",
     "output_type": "stream",
     "text": [
      "Ian_CON_C03_GEFS_f012_mem23\n"
     ]
    },
    {
     "data": {
      "application/vnd.jupyter.widget-view+json": {
       "model_id": "9ecafddc106e441fb942faadb65116f1",
       "version_major": 2,
       "version_minor": 0
      },
      "text/plain": [
       "Files: 0/1 files | 00:00<?"
      ]
     },
     "metadata": {},
     "output_type": "display_data"
    },
    {
     "name": "stdout",
     "output_type": "stream",
     "text": [
      "Ian_CON_C03_GEFS_f012_mem24\n"
     ]
    },
    {
     "data": {
      "application/vnd.jupyter.widget-view+json": {
       "model_id": "6c123eb2f6c44cf49681e2950f51b2d6",
       "version_major": 2,
       "version_minor": 0
      },
      "text/plain": [
       "Files: 0/1 files | 00:00<?"
      ]
     },
     "metadata": {},
     "output_type": "display_data"
    },
    {
     "name": "stdout",
     "output_type": "stream",
     "text": [
      "Ian_CON_C03_GEFS_f012_mem25\n"
     ]
    },
    {
     "data": {
      "application/vnd.jupyter.widget-view+json": {
       "model_id": "1c92f4e417e04576a98bd85254a67c39",
       "version_major": 2,
       "version_minor": 0
      },
      "text/plain": [
       "Files: 0/1 files | 00:00<?"
      ]
     },
     "metadata": {},
     "output_type": "display_data"
    },
    {
     "name": "stdout",
     "output_type": "stream",
     "text": [
      "Ian_CON_C03_GEFS_f012_mem26\n"
     ]
    },
    {
     "data": {
      "application/vnd.jupyter.widget-view+json": {
       "model_id": "db769d70ba3748aaa4dcbe14a99f83ef",
       "version_major": 2,
       "version_minor": 0
      },
      "text/plain": [
       "Files: 0/1 files | 00:00<?"
      ]
     },
     "metadata": {},
     "output_type": "display_data"
    },
    {
     "name": "stdout",
     "output_type": "stream",
     "text": [
      "Ian_CON_C03_GEFS_f012_mem27\n"
     ]
    },
    {
     "data": {
      "application/vnd.jupyter.widget-view+json": {
       "model_id": "473f2f3a72514a27a94d47744de2c065",
       "version_major": 2,
       "version_minor": 0
      },
      "text/plain": [
       "Files: 0/1 files | 00:00<?"
      ]
     },
     "metadata": {},
     "output_type": "display_data"
    },
    {
     "name": "stdout",
     "output_type": "stream",
     "text": [
      "Ian_CON_C03_GEFS_f012_mem28\n"
     ]
    },
    {
     "data": {
      "application/vnd.jupyter.widget-view+json": {
       "model_id": "6d75eed7641e41b8a6f519eaa1fe0ee2",
       "version_major": 2,
       "version_minor": 0
      },
      "text/plain": [
       "Files: 0/1 files | 00:00<?"
      ]
     },
     "metadata": {},
     "output_type": "display_data"
    },
    {
     "name": "stdout",
     "output_type": "stream",
     "text": [
      "Ian_CON_C03_GEFS_f012_mem29\n"
     ]
    },
    {
     "data": {
      "application/vnd.jupyter.widget-view+json": {
       "model_id": "951e9895422c4e5e826ac7b5392fbd6e",
       "version_major": 2,
       "version_minor": 0
      },
      "text/plain": [
       "Files: 0/1 files | 00:00<?"
      ]
     },
     "metadata": {},
     "output_type": "display_data"
    },
    {
     "name": "stdout",
     "output_type": "stream",
     "text": [
      "Ian_CON_C03_GEFS_f012_mem30\n"
     ]
    },
    {
     "data": {
      "application/vnd.jupyter.widget-view+json": {
       "model_id": "3240d4139ef2438aaebef5068712032f",
       "version_major": 2,
       "version_minor": 0
      },
      "text/plain": [
       "Files: 0/1 files | 00:00<?"
      ]
     },
     "metadata": {},
     "output_type": "display_data"
    },
    {
     "name": "stdout",
     "output_type": "stream",
     "text": [
      "Ian_CON_C04_GEFS_f006_mem01\n"
     ]
    },
    {
     "data": {
      "application/vnd.jupyter.widget-view+json": {
       "model_id": "27f97a367f8d46f1be6e3fa7cd9b4b5f",
       "version_major": 2,
       "version_minor": 0
      },
      "text/plain": [
       "Files: 0/1 files | 00:00<?"
      ]
     },
     "metadata": {},
     "output_type": "display_data"
    },
    {
     "name": "stdout",
     "output_type": "stream",
     "text": [
      "Ian_CON_C04_GEFS_f006_mem02\n"
     ]
    },
    {
     "data": {
      "application/vnd.jupyter.widget-view+json": {
       "model_id": "aa5e802c240b4315ba28dda9bcc17f5e",
       "version_major": 2,
       "version_minor": 0
      },
      "text/plain": [
       "Files: 0/1 files | 00:00<?"
      ]
     },
     "metadata": {},
     "output_type": "display_data"
    },
    {
     "name": "stdout",
     "output_type": "stream",
     "text": [
      "Ian_CON_C04_GEFS_f006_mem03\n"
     ]
    },
    {
     "data": {
      "application/vnd.jupyter.widget-view+json": {
       "model_id": "3e0b34cc729244f2a78f1d2e98976ee5",
       "version_major": 2,
       "version_minor": 0
      },
      "text/plain": [
       "Files: 0/1 files | 00:00<?"
      ]
     },
     "metadata": {},
     "output_type": "display_data"
    },
    {
     "name": "stdout",
     "output_type": "stream",
     "text": [
      "Ian_CON_C04_GEFS_f006_mem04\n"
     ]
    },
    {
     "data": {
      "application/vnd.jupyter.widget-view+json": {
       "model_id": "0f9636756dc6404ea44b3cc17073b337",
       "version_major": 2,
       "version_minor": 0
      },
      "text/plain": [
       "Files: 0/1 files | 00:00<?"
      ]
     },
     "metadata": {},
     "output_type": "display_data"
    },
    {
     "name": "stdout",
     "output_type": "stream",
     "text": [
      "Ian_CON_C04_GEFS_f006_mem05\n"
     ]
    },
    {
     "data": {
      "application/vnd.jupyter.widget-view+json": {
       "model_id": "97b0684f86d04af39a4977ca00e369a9",
       "version_major": 2,
       "version_minor": 0
      },
      "text/plain": [
       "Files: 0/1 files | 00:00<?"
      ]
     },
     "metadata": {},
     "output_type": "display_data"
    },
    {
     "name": "stdout",
     "output_type": "stream",
     "text": [
      "Ian_CON_C04_GEFS_f006_mem06\n"
     ]
    },
    {
     "data": {
      "application/vnd.jupyter.widget-view+json": {
       "model_id": "e6ee8e671ab446d3a042e747e43ad445",
       "version_major": 2,
       "version_minor": 0
      },
      "text/plain": [
       "Files: 0/1 files | 00:00<?"
      ]
     },
     "metadata": {},
     "output_type": "display_data"
    },
    {
     "name": "stdout",
     "output_type": "stream",
     "text": [
      "Ian_CON_C04_GEFS_f006_mem07\n"
     ]
    },
    {
     "data": {
      "application/vnd.jupyter.widget-view+json": {
       "model_id": "c6e62567590b4090b162a5b9b150e674",
       "version_major": 2,
       "version_minor": 0
      },
      "text/plain": [
       "Files: 0/1 files | 00:00<?"
      ]
     },
     "metadata": {},
     "output_type": "display_data"
    },
    {
     "name": "stdout",
     "output_type": "stream",
     "text": [
      "Ian_CON_C04_GEFS_f006_mem08\n"
     ]
    },
    {
     "data": {
      "application/vnd.jupyter.widget-view+json": {
       "model_id": "6ba7c260f0a74c8f9c1989218ed702b6",
       "version_major": 2,
       "version_minor": 0
      },
      "text/plain": [
       "Files: 0/1 files | 00:00<?"
      ]
     },
     "metadata": {},
     "output_type": "display_data"
    },
    {
     "name": "stdout",
     "output_type": "stream",
     "text": [
      "Ian_CON_C04_GEFS_f006_mem09\n"
     ]
    },
    {
     "data": {
      "application/vnd.jupyter.widget-view+json": {
       "model_id": "93a18d49188f4a96a5d7f2c5c85fa991",
       "version_major": 2,
       "version_minor": 0
      },
      "text/plain": [
       "Files: 0/1 files | 00:00<?"
      ]
     },
     "metadata": {},
     "output_type": "display_data"
    },
    {
     "name": "stdout",
     "output_type": "stream",
     "text": [
      "Ian_CON_C04_GEFS_f006_mem10\n"
     ]
    },
    {
     "data": {
      "application/vnd.jupyter.widget-view+json": {
       "model_id": "4413926e7a304e23bee57d6e14cd3997",
       "version_major": 2,
       "version_minor": 0
      },
      "text/plain": [
       "Files: 0/1 files | 00:00<?"
      ]
     },
     "metadata": {},
     "output_type": "display_data"
    },
    {
     "name": "stdout",
     "output_type": "stream",
     "text": [
      "Ian_CON_C04_GEFS_f006_mem11\n"
     ]
    },
    {
     "data": {
      "application/vnd.jupyter.widget-view+json": {
       "model_id": "a032c84fb1fd4c54a8c4c622a0b56603",
       "version_major": 2,
       "version_minor": 0
      },
      "text/plain": [
       "Files: 0/1 files | 00:00<?"
      ]
     },
     "metadata": {},
     "output_type": "display_data"
    },
    {
     "name": "stdout",
     "output_type": "stream",
     "text": [
      "Ian_CON_C04_GEFS_f006_mem12\n"
     ]
    },
    {
     "data": {
      "application/vnd.jupyter.widget-view+json": {
       "model_id": "78c57be920984d7d846c04c2dbf906b0",
       "version_major": 2,
       "version_minor": 0
      },
      "text/plain": [
       "Files: 0/1 files | 00:00<?"
      ]
     },
     "metadata": {},
     "output_type": "display_data"
    },
    {
     "name": "stdout",
     "output_type": "stream",
     "text": [
      "Ian_CON_C04_GEFS_f006_mem13\n"
     ]
    },
    {
     "data": {
      "application/vnd.jupyter.widget-view+json": {
       "model_id": "840b9cdd26c44f4099005d8064344591",
       "version_major": 2,
       "version_minor": 0
      },
      "text/plain": [
       "Files: 0/1 files | 00:00<?"
      ]
     },
     "metadata": {},
     "output_type": "display_data"
    },
    {
     "name": "stdout",
     "output_type": "stream",
     "text": [
      "Ian_CON_C04_GEFS_f006_mem14\n"
     ]
    },
    {
     "data": {
      "application/vnd.jupyter.widget-view+json": {
       "model_id": "ceb016e7fc674808a519617a7c2953bf",
       "version_major": 2,
       "version_minor": 0
      },
      "text/plain": [
       "Files: 0/1 files | 00:00<?"
      ]
     },
     "metadata": {},
     "output_type": "display_data"
    },
    {
     "name": "stdout",
     "output_type": "stream",
     "text": [
      "Ian_CON_C04_GEFS_f006_mem15\n"
     ]
    },
    {
     "data": {
      "application/vnd.jupyter.widget-view+json": {
       "model_id": "0d065a4222254c389cdf4f857167a7fd",
       "version_major": 2,
       "version_minor": 0
      },
      "text/plain": [
       "Files: 0/1 files | 00:00<?"
      ]
     },
     "metadata": {},
     "output_type": "display_data"
    },
    {
     "name": "stdout",
     "output_type": "stream",
     "text": [
      "Ian_CON_C04_GEFS_f006_mem16\n"
     ]
    },
    {
     "data": {
      "application/vnd.jupyter.widget-view+json": {
       "model_id": "6a804331466d430ea5ddc55f90f9ee8b",
       "version_major": 2,
       "version_minor": 0
      },
      "text/plain": [
       "Files: 0/1 files | 00:00<?"
      ]
     },
     "metadata": {},
     "output_type": "display_data"
    },
    {
     "name": "stdout",
     "output_type": "stream",
     "text": [
      "Ian_CON_C04_GEFS_f006_mem17\n"
     ]
    },
    {
     "data": {
      "application/vnd.jupyter.widget-view+json": {
       "model_id": "97d07863b16a42b591f767b4197c68dd",
       "version_major": 2,
       "version_minor": 0
      },
      "text/plain": [
       "Files: 0/1 files | 00:00<?"
      ]
     },
     "metadata": {},
     "output_type": "display_data"
    },
    {
     "name": "stdout",
     "output_type": "stream",
     "text": [
      "Ian_CON_C04_GEFS_f006_mem18\n"
     ]
    },
    {
     "data": {
      "application/vnd.jupyter.widget-view+json": {
       "model_id": "da505688540d4ce9a3e0ce140ac21960",
       "version_major": 2,
       "version_minor": 0
      },
      "text/plain": [
       "Files: 0/1 files | 00:00<?"
      ]
     },
     "metadata": {},
     "output_type": "display_data"
    },
    {
     "name": "stdout",
     "output_type": "stream",
     "text": [
      "Ian_CON_C04_GEFS_f006_mem19\n"
     ]
    },
    {
     "data": {
      "application/vnd.jupyter.widget-view+json": {
       "model_id": "f7b1d72d5b38426ca1e07588802dbda9",
       "version_major": 2,
       "version_minor": 0
      },
      "text/plain": [
       "Files: 0/1 files | 00:00<?"
      ]
     },
     "metadata": {},
     "output_type": "display_data"
    },
    {
     "name": "stdout",
     "output_type": "stream",
     "text": [
      "Ian_CON_C04_GEFS_f006_mem20\n"
     ]
    },
    {
     "data": {
      "application/vnd.jupyter.widget-view+json": {
       "model_id": "f932da806d5d4cf793dad1c0727de697",
       "version_major": 2,
       "version_minor": 0
      },
      "text/plain": [
       "Files: 0/1 files | 00:00<?"
      ]
     },
     "metadata": {},
     "output_type": "display_data"
    },
    {
     "name": "stdout",
     "output_type": "stream",
     "text": [
      "Ian_CON_C04_GEFS_f006_mem21\n"
     ]
    },
    {
     "data": {
      "application/vnd.jupyter.widget-view+json": {
       "model_id": "8dd8d2d7de0c44e0909b7485b1e3a643",
       "version_major": 2,
       "version_minor": 0
      },
      "text/plain": [
       "Files: 0/1 files | 00:00<?"
      ]
     },
     "metadata": {},
     "output_type": "display_data"
    },
    {
     "name": "stdout",
     "output_type": "stream",
     "text": [
      "Ian_CON_C04_GEFS_f006_mem22\n"
     ]
    },
    {
     "data": {
      "application/vnd.jupyter.widget-view+json": {
       "model_id": "9c398ffa18394254bafbdd5734a6f361",
       "version_major": 2,
       "version_minor": 0
      },
      "text/plain": [
       "Files: 0/1 files | 00:00<?"
      ]
     },
     "metadata": {},
     "output_type": "display_data"
    },
    {
     "name": "stdout",
     "output_type": "stream",
     "text": [
      "Ian_CON_C04_GEFS_f006_mem23\n"
     ]
    },
    {
     "data": {
      "application/vnd.jupyter.widget-view+json": {
       "model_id": "8e93d461b61d47c89dc1dfba693d3b1f",
       "version_major": 2,
       "version_minor": 0
      },
      "text/plain": [
       "Files: 0/1 files | 00:00<?"
      ]
     },
     "metadata": {},
     "output_type": "display_data"
    },
    {
     "name": "stdout",
     "output_type": "stream",
     "text": [
      "Ian_CON_C04_GEFS_f006_mem24\n"
     ]
    },
    {
     "data": {
      "application/vnd.jupyter.widget-view+json": {
       "model_id": "0ae48137d8fa448d9c3bb08ff47962ad",
       "version_major": 2,
       "version_minor": 0
      },
      "text/plain": [
       "Files: 0/1 files | 00:00<?"
      ]
     },
     "metadata": {},
     "output_type": "display_data"
    },
    {
     "name": "stdout",
     "output_type": "stream",
     "text": [
      "Ian_CON_C04_GEFS_f006_mem25\n"
     ]
    },
    {
     "data": {
      "application/vnd.jupyter.widget-view+json": {
       "model_id": "da57ec3cf9f14470913c34e3fbe25341",
       "version_major": 2,
       "version_minor": 0
      },
      "text/plain": [
       "Files: 0/1 files | 00:00<?"
      ]
     },
     "metadata": {},
     "output_type": "display_data"
    },
    {
     "name": "stdout",
     "output_type": "stream",
     "text": [
      "Ian_CON_C04_GEFS_f006_mem26\n"
     ]
    },
    {
     "data": {
      "application/vnd.jupyter.widget-view+json": {
       "model_id": "83b76ee9a1e545b48dee196004681e5a",
       "version_major": 2,
       "version_minor": 0
      },
      "text/plain": [
       "Files: 0/1 files | 00:00<?"
      ]
     },
     "metadata": {},
     "output_type": "display_data"
    },
    {
     "name": "stdout",
     "output_type": "stream",
     "text": [
      "Ian_CON_C04_GEFS_f006_mem27\n"
     ]
    },
    {
     "data": {
      "application/vnd.jupyter.widget-view+json": {
       "model_id": "4554b8ce3aa34cff87031d992e534110",
       "version_major": 2,
       "version_minor": 0
      },
      "text/plain": [
       "Files: 0/1 files | 00:00<?"
      ]
     },
     "metadata": {},
     "output_type": "display_data"
    },
    {
     "name": "stdout",
     "output_type": "stream",
     "text": [
      "Ian_CON_C04_GEFS_f006_mem28\n"
     ]
    },
    {
     "data": {
      "application/vnd.jupyter.widget-view+json": {
       "model_id": "4746b49246b9486ba5e6712f1bdff8e5",
       "version_major": 2,
       "version_minor": 0
      },
      "text/plain": [
       "Files: 0/1 files | 00:00<?"
      ]
     },
     "metadata": {},
     "output_type": "display_data"
    },
    {
     "name": "stdout",
     "output_type": "stream",
     "text": [
      "Ian_CON_C04_GEFS_f006_mem29\n"
     ]
    },
    {
     "data": {
      "application/vnd.jupyter.widget-view+json": {
       "model_id": "e5c3bd67848347cfbff5a4a9e931c8b5",
       "version_major": 2,
       "version_minor": 0
      },
      "text/plain": [
       "Files: 0/1 files | 00:00<?"
      ]
     },
     "metadata": {},
     "output_type": "display_data"
    },
    {
     "name": "stdout",
     "output_type": "stream",
     "text": [
      "Ian_CON_C04_GEFS_f006_mem30\n"
     ]
    },
    {
     "data": {
      "application/vnd.jupyter.widget-view+json": {
       "model_id": "5e08015024b14f01ad731fb7328193ca",
       "version_major": 2,
       "version_minor": 0
      },
      "text/plain": [
       "Files: 0/1 files | 00:00<?"
      ]
     },
     "metadata": {},
     "output_type": "display_data"
    },
    {
     "name": "stdout",
     "output_type": "stream",
     "text": [
      "Ian_CON_C04_GEFS_f012_mem01\n"
     ]
    },
    {
     "data": {
      "application/vnd.jupyter.widget-view+json": {
       "model_id": "fd99f0258627435c8036129c690cd820",
       "version_major": 2,
       "version_minor": 0
      },
      "text/plain": [
       "Files: 0/1 files | 00:00<?"
      ]
     },
     "metadata": {},
     "output_type": "display_data"
    },
    {
     "name": "stdout",
     "output_type": "stream",
     "text": [
      "Ian_CON_C04_GEFS_f012_mem02\n"
     ]
    },
    {
     "data": {
      "application/vnd.jupyter.widget-view+json": {
       "model_id": "3d2c01694cbc4ba28680a0ec3d00b8f8",
       "version_major": 2,
       "version_minor": 0
      },
      "text/plain": [
       "Files: 0/1 files | 00:00<?"
      ]
     },
     "metadata": {},
     "output_type": "display_data"
    },
    {
     "name": "stdout",
     "output_type": "stream",
     "text": [
      "Ian_CON_C04_GEFS_f012_mem03\n"
     ]
    },
    {
     "data": {
      "application/vnd.jupyter.widget-view+json": {
       "model_id": "52351e752e2e4a919dd50eed425491ce",
       "version_major": 2,
       "version_minor": 0
      },
      "text/plain": [
       "Files: 0/1 files | 00:00<?"
      ]
     },
     "metadata": {},
     "output_type": "display_data"
    },
    {
     "name": "stdout",
     "output_type": "stream",
     "text": [
      "Ian_CON_C04_GEFS_f012_mem04\n"
     ]
    },
    {
     "data": {
      "application/vnd.jupyter.widget-view+json": {
       "model_id": "216891b67cd14ed5b9ac0bdb8085aa25",
       "version_major": 2,
       "version_minor": 0
      },
      "text/plain": [
       "Files: 0/1 files | 00:00<?"
      ]
     },
     "metadata": {},
     "output_type": "display_data"
    },
    {
     "name": "stdout",
     "output_type": "stream",
     "text": [
      "Ian_CON_C04_GEFS_f012_mem05\n"
     ]
    },
    {
     "data": {
      "application/vnd.jupyter.widget-view+json": {
       "model_id": "e6278c895a574d77936b3e0a1c1aa87e",
       "version_major": 2,
       "version_minor": 0
      },
      "text/plain": [
       "Files: 0/1 files | 00:00<?"
      ]
     },
     "metadata": {},
     "output_type": "display_data"
    },
    {
     "name": "stdout",
     "output_type": "stream",
     "text": [
      "Ian_CON_C04_GEFS_f012_mem06\n"
     ]
    },
    {
     "data": {
      "application/vnd.jupyter.widget-view+json": {
       "model_id": "3df9f79806004a07b020a857af86878a",
       "version_major": 2,
       "version_minor": 0
      },
      "text/plain": [
       "Files: 0/1 files | 00:00<?"
      ]
     },
     "metadata": {},
     "output_type": "display_data"
    },
    {
     "name": "stdout",
     "output_type": "stream",
     "text": [
      "Ian_CON_C04_GEFS_f012_mem07\n"
     ]
    },
    {
     "data": {
      "application/vnd.jupyter.widget-view+json": {
       "model_id": "c2e2567a20f142b7a292b8e58245fb50",
       "version_major": 2,
       "version_minor": 0
      },
      "text/plain": [
       "Files: 0/1 files | 00:00<?"
      ]
     },
     "metadata": {},
     "output_type": "display_data"
    },
    {
     "name": "stdout",
     "output_type": "stream",
     "text": [
      "Ian_CON_C04_GEFS_f012_mem08\n"
     ]
    },
    {
     "data": {
      "application/vnd.jupyter.widget-view+json": {
       "model_id": "5a0d2263295a4fe3b05a2729657a2d8c",
       "version_major": 2,
       "version_minor": 0
      },
      "text/plain": [
       "Files: 0/1 files | 00:00<?"
      ]
     },
     "metadata": {},
     "output_type": "display_data"
    },
    {
     "name": "stdout",
     "output_type": "stream",
     "text": [
      "Ian_CON_C04_GEFS_f012_mem09\n"
     ]
    },
    {
     "data": {
      "application/vnd.jupyter.widget-view+json": {
       "model_id": "0cef6492f9a242258932281cba0446c4",
       "version_major": 2,
       "version_minor": 0
      },
      "text/plain": [
       "Files: 0/1 files | 00:00<?"
      ]
     },
     "metadata": {},
     "output_type": "display_data"
    },
    {
     "name": "stdout",
     "output_type": "stream",
     "text": [
      "Ian_CON_C04_GEFS_f012_mem10\n"
     ]
    },
    {
     "data": {
      "application/vnd.jupyter.widget-view+json": {
       "model_id": "91ac3ed43794446885aade5e61c90597",
       "version_major": 2,
       "version_minor": 0
      },
      "text/plain": [
       "Files: 0/1 files | 00:00<?"
      ]
     },
     "metadata": {},
     "output_type": "display_data"
    },
    {
     "name": "stdout",
     "output_type": "stream",
     "text": [
      "Ian_CON_C04_GEFS_f012_mem11\n"
     ]
    },
    {
     "data": {
      "application/vnd.jupyter.widget-view+json": {
       "model_id": "ed38fccdda24416aa8f796e2e4728956",
       "version_major": 2,
       "version_minor": 0
      },
      "text/plain": [
       "Files: 0/1 files | 00:00<?"
      ]
     },
     "metadata": {},
     "output_type": "display_data"
    },
    {
     "name": "stdout",
     "output_type": "stream",
     "text": [
      "Ian_CON_C04_GEFS_f012_mem12\n"
     ]
    },
    {
     "data": {
      "application/vnd.jupyter.widget-view+json": {
       "model_id": "81eac222db8f45d59aeef7b39f1a6a66",
       "version_major": 2,
       "version_minor": 0
      },
      "text/plain": [
       "Files: 0/1 files | 00:00<?"
      ]
     },
     "metadata": {},
     "output_type": "display_data"
    },
    {
     "name": "stdout",
     "output_type": "stream",
     "text": [
      "Ian_CON_C04_GEFS_f012_mem13\n"
     ]
    },
    {
     "data": {
      "application/vnd.jupyter.widget-view+json": {
       "model_id": "83d115088a354a459a251441356589f3",
       "version_major": 2,
       "version_minor": 0
      },
      "text/plain": [
       "Files: 0/1 files | 00:00<?"
      ]
     },
     "metadata": {},
     "output_type": "display_data"
    },
    {
     "name": "stdout",
     "output_type": "stream",
     "text": [
      "Ian_CON_C04_GEFS_f012_mem14\n"
     ]
    },
    {
     "data": {
      "application/vnd.jupyter.widget-view+json": {
       "model_id": "b6fb6e35e4254bed850fcfb756e6b353",
       "version_major": 2,
       "version_minor": 0
      },
      "text/plain": [
       "Files: 0/1 files | 00:00<?"
      ]
     },
     "metadata": {},
     "output_type": "display_data"
    },
    {
     "name": "stdout",
     "output_type": "stream",
     "text": [
      "Ian_CON_C04_GEFS_f012_mem15\n"
     ]
    },
    {
     "data": {
      "application/vnd.jupyter.widget-view+json": {
       "model_id": "2f935cf4799f48c48746fedb7327fdb1",
       "version_major": 2,
       "version_minor": 0
      },
      "text/plain": [
       "Files: 0/1 files | 00:00<?"
      ]
     },
     "metadata": {},
     "output_type": "display_data"
    },
    {
     "name": "stdout",
     "output_type": "stream",
     "text": [
      "Ian_CON_C04_GEFS_f012_mem16\n"
     ]
    },
    {
     "data": {
      "application/vnd.jupyter.widget-view+json": {
       "model_id": "fa400ef0a3774da3978920c1a8cb8dd3",
       "version_major": 2,
       "version_minor": 0
      },
      "text/plain": [
       "Files: 0/1 files | 00:00<?"
      ]
     },
     "metadata": {},
     "output_type": "display_data"
    },
    {
     "name": "stdout",
     "output_type": "stream",
     "text": [
      "Ian_CON_C04_GEFS_f012_mem17\n"
     ]
    },
    {
     "data": {
      "application/vnd.jupyter.widget-view+json": {
       "model_id": "b09cb9c4fc184f74ac97eb9a4e6ed839",
       "version_major": 2,
       "version_minor": 0
      },
      "text/plain": [
       "Files: 0/1 files | 00:00<?"
      ]
     },
     "metadata": {},
     "output_type": "display_data"
    },
    {
     "name": "stdout",
     "output_type": "stream",
     "text": [
      "Ian_CON_C04_GEFS_f012_mem18\n"
     ]
    },
    {
     "data": {
      "application/vnd.jupyter.widget-view+json": {
       "model_id": "3cf1377ca3eb4074a2b1c6f1d88f6971",
       "version_major": 2,
       "version_minor": 0
      },
      "text/plain": [
       "Files: 0/1 files | 00:00<?"
      ]
     },
     "metadata": {},
     "output_type": "display_data"
    },
    {
     "name": "stdout",
     "output_type": "stream",
     "text": [
      "Ian_CON_C04_GEFS_f012_mem19\n"
     ]
    },
    {
     "data": {
      "application/vnd.jupyter.widget-view+json": {
       "model_id": "baf8abdb37f945fb9d3426067a97e6ce",
       "version_major": 2,
       "version_minor": 0
      },
      "text/plain": [
       "Files: 0/1 files | 00:00<?"
      ]
     },
     "metadata": {},
     "output_type": "display_data"
    },
    {
     "name": "stdout",
     "output_type": "stream",
     "text": [
      "Ian_CON_C04_GEFS_f012_mem20\n"
     ]
    },
    {
     "data": {
      "application/vnd.jupyter.widget-view+json": {
       "model_id": "3d20ff409d05408db10b6d3eb97aec7b",
       "version_major": 2,
       "version_minor": 0
      },
      "text/plain": [
       "Files: 0/1 files | 00:00<?"
      ]
     },
     "metadata": {},
     "output_type": "display_data"
    },
    {
     "name": "stdout",
     "output_type": "stream",
     "text": [
      "Ian_CON_C04_GEFS_f012_mem21\n"
     ]
    },
    {
     "data": {
      "application/vnd.jupyter.widget-view+json": {
       "model_id": "71af79a4c4ef48bc81adb70985c8ec0c",
       "version_major": 2,
       "version_minor": 0
      },
      "text/plain": [
       "Files: 0/1 files | 00:00<?"
      ]
     },
     "metadata": {},
     "output_type": "display_data"
    },
    {
     "name": "stdout",
     "output_type": "stream",
     "text": [
      "Ian_CON_C04_GEFS_f012_mem22\n"
     ]
    },
    {
     "data": {
      "application/vnd.jupyter.widget-view+json": {
       "model_id": "fafd45151101407082f09c7905239d45",
       "version_major": 2,
       "version_minor": 0
      },
      "text/plain": [
       "Files: 0/1 files | 00:00<?"
      ]
     },
     "metadata": {},
     "output_type": "display_data"
    },
    {
     "name": "stdout",
     "output_type": "stream",
     "text": [
      "Ian_CON_C04_GEFS_f012_mem23\n"
     ]
    },
    {
     "data": {
      "application/vnd.jupyter.widget-view+json": {
       "model_id": "d19abfd547c54dbc973201a26b7f4c0a",
       "version_major": 2,
       "version_minor": 0
      },
      "text/plain": [
       "Files: 0/1 files | 00:00<?"
      ]
     },
     "metadata": {},
     "output_type": "display_data"
    },
    {
     "name": "stdout",
     "output_type": "stream",
     "text": [
      "Ian_CON_C04_GEFS_f012_mem24\n"
     ]
    },
    {
     "data": {
      "application/vnd.jupyter.widget-view+json": {
       "model_id": "d9713bcf482b4b078782349c09fb84f0",
       "version_major": 2,
       "version_minor": 0
      },
      "text/plain": [
       "Files: 0/1 files | 00:00<?"
      ]
     },
     "metadata": {},
     "output_type": "display_data"
    },
    {
     "name": "stdout",
     "output_type": "stream",
     "text": [
      "Ian_CON_C04_GEFS_f012_mem25\n"
     ]
    },
    {
     "data": {
      "application/vnd.jupyter.widget-view+json": {
       "model_id": "7c9b7d2018b04b6abb4c8d5bc5e0dce5",
       "version_major": 2,
       "version_minor": 0
      },
      "text/plain": [
       "Files: 0/1 files | 00:00<?"
      ]
     },
     "metadata": {},
     "output_type": "display_data"
    },
    {
     "name": "stdout",
     "output_type": "stream",
     "text": [
      "Ian_CON_C04_GEFS_f012_mem26\n"
     ]
    },
    {
     "data": {
      "application/vnd.jupyter.widget-view+json": {
       "model_id": "ccf6255dccd34bdcb647ca26cd4b38b3",
       "version_major": 2,
       "version_minor": 0
      },
      "text/plain": [
       "Files: 0/1 files | 00:00<?"
      ]
     },
     "metadata": {},
     "output_type": "display_data"
    },
    {
     "name": "stdout",
     "output_type": "stream",
     "text": [
      "Ian_CON_C04_GEFS_f012_mem27\n"
     ]
    },
    {
     "data": {
      "application/vnd.jupyter.widget-view+json": {
       "model_id": "86505c139dc444bf8bbceed2f8fb7d4f",
       "version_major": 2,
       "version_minor": 0
      },
      "text/plain": [
       "Files: 0/1 files | 00:00<?"
      ]
     },
     "metadata": {},
     "output_type": "display_data"
    },
    {
     "name": "stdout",
     "output_type": "stream",
     "text": [
      "Ian_CON_C04_GEFS_f012_mem28\n"
     ]
    },
    {
     "data": {
      "application/vnd.jupyter.widget-view+json": {
       "model_id": "9227f3fabe6648079705ec85c2c68874",
       "version_major": 2,
       "version_minor": 0
      },
      "text/plain": [
       "Files: 0/1 files | 00:00<?"
      ]
     },
     "metadata": {},
     "output_type": "display_data"
    },
    {
     "name": "stdout",
     "output_type": "stream",
     "text": [
      "Ian_CON_C04_GEFS_f012_mem29\n"
     ]
    },
    {
     "data": {
      "application/vnd.jupyter.widget-view+json": {
       "model_id": "710edcbb4050415596289af29f5e1790",
       "version_major": 2,
       "version_minor": 0
      },
      "text/plain": [
       "Files: 0/1 files | 00:00<?"
      ]
     },
     "metadata": {},
     "output_type": "display_data"
    },
    {
     "name": "stdout",
     "output_type": "stream",
     "text": [
      "Ian_CON_C04_GEFS_f012_mem30\n"
     ]
    },
    {
     "data": {
      "application/vnd.jupyter.widget-view+json": {
       "model_id": "52da20a7554d48a8858d0baa5a8f8fda",
       "version_major": 2,
       "version_minor": 0
      },
      "text/plain": [
       "Files: 0/1 files | 00:00<?"
      ]
     },
     "metadata": {},
     "output_type": "display_data"
    }
   ],
   "source": [
    "from generate_gefs_ensembles import move_wrf_forecast_gefs\n",
    "\n",
    "move_wrf_forecast_gefs(data_library_name='cpex',\n",
    "                       dir_case='/08_CPEX/01_CV_RF07_AEW06_IAN',\n",
    "                       case_name='Ian',\n",
    "                       exp_name='CONV')"
   ]
  },
  {
   "cell_type": "code",
   "execution_count": null,
   "id": "d5bcccb6-bcd5-48d1-93b2-d0c51cfe8767",
   "metadata": {},
   "outputs": [],
   "source": []
  }
 ],
 "metadata": {
  "kernelspec": {
   "display_name": "Python 3 (ipykernel)",
   "language": "python",
   "name": "python3"
  },
  "language_info": {
   "codemirror_mode": {
    "name": "ipython",
    "version": 3
   },
   "file_extension": ".py",
   "mimetype": "text/x-python",
   "name": "python",
   "nbconvert_exporter": "python",
   "pygments_lexer": "ipython3",
   "version": "3.10.9"
  }
 },
 "nbformat": 4,
 "nbformat_minor": 5
}
