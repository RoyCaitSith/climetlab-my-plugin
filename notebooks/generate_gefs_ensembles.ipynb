{
 "cells": [
  {
   "cell_type": "markdown",
   "id": "39aaed1c-258f-4d75-aae6-0503f962777b",
   "metadata": {},
   "source": [
    "# Download GEFS Ensemble Forecasts"
   ]
  },
  {
   "cell_type": "code",
   "execution_count": null,
   "id": "d916ede8-7c68-4b12-945a-f7229a1bec05",
   "metadata": {},
   "outputs": [],
   "source": [
    "#from generate_gefs_ensembles import download_gefs_ensemble                                                                                                                 \n",
    "\n",
    "#download_gefs_ensemble('cpex', '/08_CPEX/01_CV_RF07_AEW06_IAN', 'Ian')"
   ]
  },
  {
   "cell_type": "markdown",
   "id": "378129ce-4171-43ab-b0b0-38cce57c277b",
   "metadata": {},
   "source": [
    "# Generate 60 Members Ensemble Forecasts Using GEFS Data"
   ]
  },
  {
   "cell_type": "code",
   "execution_count": 1,
   "id": "96364166-38df-44d1-b324-b52bc0f80750",
   "metadata": {},
   "outputs": [
    {
     "name": "stdout",
     "output_type": "stream",
     "text": [
      "/scratch/general/nfs1/u1237353/Ian_CON_C01_GEFS_f006_mem01 does not exist! Create it!\n",
      "Run WPS from 2022-09-16 00:00:00 to 2022-09-16 06:00:00\n",
      "jobid: ['12743096']\n",
      "\n",
      "\n",
      "/scratch/general/nfs1/u1237353/Ian_CON_C02_GEFS_f006_mem01 does not exist! Create it!\n",
      "Run WPS from 2022-09-16 06:00:00 to 2022-09-16 12:00:00\n",
      "jobid: ['12743097']\n",
      "\n",
      "\n",
      "/scratch/general/nfs1/u1237353/Ian_CON_C03_GEFS_f006_mem01 does not exist! Create it!\n",
      "Run WPS from 2022-09-16 12:00:00 to 2022-09-16 18:00:00\n",
      "jobid: ['12743098']\n",
      "\n",
      "\n",
      "/scratch/general/nfs1/u1237353/Ian_CON_C04_GEFS_f006_mem01 does not exist! Create it!\n",
      "Run WPS from 2022-09-16 18:00:00 to 2022-09-17 00:00:00\n",
      "jobid: ['12743099']\n",
      "\n",
      "\n",
      "/scratch/general/nfs1/u1237353/Ian_CON_C01_GEFS_f012_mem01 does not exist! Create it!\n",
      "Run WPS from 2022-09-15 18:00:00 to 2022-09-16 06:00:00\n",
      "jobid: ['12743100']\n",
      "\n",
      "\n",
      "/scratch/general/nfs1/u1237353/Ian_CON_C02_GEFS_f012_mem01 does not exist! Create it!\n",
      "Run WPS from 2022-09-16 00:00:00 to 2022-09-16 12:00:00\n",
      "jobid: ['12743101']\n",
      "\n",
      "\n",
      "/scratch/general/nfs1/u1237353/Ian_CON_C03_GEFS_f012_mem01 does not exist! Create it!\n",
      "Run WPS from 2022-09-16 06:00:00 to 2022-09-16 18:00:00\n",
      "jobid: ['12743102']\n",
      "\n",
      "\n",
      "/scratch/general/nfs1/u1237353/Ian_CON_C04_GEFS_f012_mem01 does not exist! Create it!\n",
      "Run WPS from 2022-09-16 12:00:00 to 2022-09-17 00:00:00\n",
      "jobid: ['12743103']\n",
      "\n",
      "\n"
     ]
    }
   ],
   "source": [
    "from generate_gefs_ensembles import run_wps_and_real_gefs\n",
    "\n",
    "run_wps_and_real_gefs(data_library_name='cpex',\n",
    "                      dir_case='/08_CPEX/01_CV_RF07_AEW06_IAN',\n",
    "                      case_name='Ian',\n",
    "                      exp_name='CON',\n",
    "                      whether_wait=False, nodes=1, ntasks=16, account='zpu-kp', partition='zpu-kp')"
   ]
  },
  {
   "cell_type": "code",
   "execution_count": null,
   "id": "7e7e8487-09a7-419f-881c-e4c2f28c0b04",
   "metadata": {},
   "outputs": [],
   "source": [
    "from generate_gefs_ensembles import run_wrf_forecast_gefs\n",
    "\n",
    "run_wrf_forecast_gefs(data_library_name='cpex',\n",
    "                      dir_case='/08_CPEX/01_CV_RF07_AEW06_IAN',\n",
    "                      case_name='Ian',\n",
    "                      exp_name='CON',\n",
    "                      whether_wait=False, nodes=1, ntasks=16, account='zpu-kp', partition='zpu-kp')"
   ]
  },
  {
   "cell_type": "code",
   "execution_count": null,
   "id": "d54b05ff-c4f5-4a3e-95f4-320af4d00eca",
   "metadata": {},
   "outputs": [],
   "source": []
  }
 ],
 "metadata": {
  "kernelspec": {
   "display_name": "Python 3 (ipykernel)",
   "language": "python",
   "name": "python3"
  },
  "language_info": {
   "codemirror_mode": {
    "name": "ipython",
    "version": 3
   },
   "file_extension": ".py",
   "mimetype": "text/x-python",
   "name": "python",
   "nbconvert_exporter": "python",
   "pygments_lexer": "ipython3",
   "version": "3.10.9"
  }
 },
 "nbformat": 4,
 "nbformat_minor": 5
}
