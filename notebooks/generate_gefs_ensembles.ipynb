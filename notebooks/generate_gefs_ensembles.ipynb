{
 "cells": [
  {
   "cell_type": "markdown",
   "id": "39aaed1c-258f-4d75-aae6-0503f962777b",
   "metadata": {},
   "source": [
    "# Download GEFS Ensemble Forecasts"
   ]
  },
  {
   "cell_type": "code",
   "execution_count": null,
   "id": "d916ede8-7c68-4b12-945a-f7229a1bec05",
   "metadata": {},
   "outputs": [],
   "source": [
    "#from generate_gefs_ensembles import download_gefs_ensemble                                                                                                                 \n",
    "\n",
    "#download_gefs_ensemble('cpex', '/08_CPEX/01_CV_RF07_AEW06_IAN', 'Ian')"
   ]
  },
  {
   "cell_type": "markdown",
   "id": "378129ce-4171-43ab-b0b0-38cce57c277b",
   "metadata": {},
   "source": [
    "# Generate 60 Members Ensemble Forecasts Using GEFS Data"
   ]
  },
  {
   "cell_type": "code",
   "execution_count": null,
   "id": "96364166-38df-44d1-b324-b52bc0f80750",
   "metadata": {},
   "outputs": [],
   "source": [
    "# from generate_gefs_ensembles import run_wps_and_real_gefs\n",
    "\n",
    "# run_wps_and_real_gefs(data_library_name='cpex',\n",
    "#                       dir_case='/08_CPEX/01_CV_RF07_AEW06_IAN',\n",
    "#                       case_name='Ian',\n",
    "#                       exp_name='CON',\n",
    "#                       whether_wait=False, nodes=1, ntasks=16, account='zpu-kp', partition='zpu-kp')"
   ]
  },
  {
   "cell_type": "code",
   "execution_count": null,
   "id": "7e7e8487-09a7-419f-881c-e4c2f28c0b04",
   "metadata": {},
   "outputs": [],
   "source": [
    "# from generate_gefs_ensembles import run_wrf_forecast_gefs\n",
    "\n",
    "# run_wrf_forecast_gefs(data_library_name='cpex',\n",
    "#                       dir_case='/08_CPEX/01_CV_RF07_AEW06_IAN',\n",
    "#                       case_name='Ian',\n",
    "#                       exp_name='CON',\n",
    "#                       whether_wait=False, nodes=1, ntasks=16, account='zpu-kp', partition='zpu-kp')"
   ]
  },
  {
   "cell_type": "code",
   "execution_count": 1,
   "id": "d54b05ff-c4f5-4a3e-95f4-320af4d00eca",
   "metadata": {},
   "outputs": [
    {
     "name": "stdout",
     "output_type": "stream",
     "text": [
      "Ian_CON_C01_GEFS_f006_mem01\n"
     ]
    },
    {
     "data": {
      "application/vnd.jupyter.widget-view+json": {
       "model_id": "fe8b3492e3574a8a912af74ff69254af",
       "version_major": 2,
       "version_minor": 0
      },
      "text/plain": [
       "Files: 0/1 files | 00:00<?"
      ]
     },
     "metadata": {},
     "output_type": "display_data"
    },
    {
     "name": "stdout",
     "output_type": "stream",
     "text": [
      "Ian_CON_C01_GEFS_f006_mem02\n"
     ]
    },
    {
     "data": {
      "application/vnd.jupyter.widget-view+json": {
       "model_id": "77baa13c6bb347278e0e9cfce3a96c5d",
       "version_major": 2,
       "version_minor": 0
      },
      "text/plain": [
       "Files: 0/1 files | 00:00<?"
      ]
     },
     "metadata": {},
     "output_type": "display_data"
    },
    {
     "name": "stdout",
     "output_type": "stream",
     "text": [
      "Ian_CON_C01_GEFS_f006_mem03\n"
     ]
    },
    {
     "data": {
      "application/vnd.jupyter.widget-view+json": {
       "model_id": "87922b2fb17d497b97bead5afa2f2741",
       "version_major": 2,
       "version_minor": 0
      },
      "text/plain": [
       "Files: 0/1 files | 00:00<?"
      ]
     },
     "metadata": {},
     "output_type": "display_data"
    },
    {
     "name": "stdout",
     "output_type": "stream",
     "text": [
      "Ian_CON_C01_GEFS_f006_mem04\n"
     ]
    },
    {
     "data": {
      "application/vnd.jupyter.widget-view+json": {
       "model_id": "a9a7969a42974a9c9812fb22e3a3dd5d",
       "version_major": 2,
       "version_minor": 0
      },
      "text/plain": [
       "Files: 0/1 files | 00:00<?"
      ]
     },
     "metadata": {},
     "output_type": "display_data"
    },
    {
     "name": "stdout",
     "output_type": "stream",
     "text": [
      "Ian_CON_C01_GEFS_f006_mem05\n"
     ]
    },
    {
     "data": {
      "application/vnd.jupyter.widget-view+json": {
       "model_id": "e2896b9170974047a5b7d7a5b0cb61aa",
       "version_major": 2,
       "version_minor": 0
      },
      "text/plain": [
       "Files: 0/1 files | 00:00<?"
      ]
     },
     "metadata": {},
     "output_type": "display_data"
    },
    {
     "name": "stdout",
     "output_type": "stream",
     "text": [
      "Ian_CON_C01_GEFS_f006_mem06\n"
     ]
    },
    {
     "data": {
      "application/vnd.jupyter.widget-view+json": {
       "model_id": "e39d48c1b15a4852bd8edb41d113aa72",
       "version_major": 2,
       "version_minor": 0
      },
      "text/plain": [
       "Files: 0/1 files | 00:00<?"
      ]
     },
     "metadata": {},
     "output_type": "display_data"
    },
    {
     "name": "stdout",
     "output_type": "stream",
     "text": [
      "Ian_CON_C01_GEFS_f006_mem07\n"
     ]
    },
    {
     "data": {
      "application/vnd.jupyter.widget-view+json": {
       "model_id": "a86313849067432bbab63f72b7b9d20b",
       "version_major": 2,
       "version_minor": 0
      },
      "text/plain": [
       "Files: 0/1 files | 00:00<?"
      ]
     },
     "metadata": {},
     "output_type": "display_data"
    },
    {
     "name": "stdout",
     "output_type": "stream",
     "text": [
      "Ian_CON_C01_GEFS_f006_mem08\n"
     ]
    },
    {
     "data": {
      "application/vnd.jupyter.widget-view+json": {
       "model_id": "a3f86e19405440b8a2803feb2f0fbc0c",
       "version_major": 2,
       "version_minor": 0
      },
      "text/plain": [
       "Files: 0/1 files | 00:00<?"
      ]
     },
     "metadata": {},
     "output_type": "display_data"
    },
    {
     "name": "stdout",
     "output_type": "stream",
     "text": [
      "Ian_CON_C01_GEFS_f006_mem09\n"
     ]
    },
    {
     "data": {
      "application/vnd.jupyter.widget-view+json": {
       "model_id": "dc6b4c47e8174abeb93cfa89607f6abe",
       "version_major": 2,
       "version_minor": 0
      },
      "text/plain": [
       "Files: 0/1 files | 00:00<?"
      ]
     },
     "metadata": {},
     "output_type": "display_data"
    },
    {
     "name": "stdout",
     "output_type": "stream",
     "text": [
      "Ian_CON_C01_GEFS_f006_mem10\n"
     ]
    },
    {
     "data": {
      "application/vnd.jupyter.widget-view+json": {
       "model_id": "fd156b22801a4b1cb94838673a071543",
       "version_major": 2,
       "version_minor": 0
      },
      "text/plain": [
       "Files: 0/1 files | 00:00<?"
      ]
     },
     "metadata": {},
     "output_type": "display_data"
    },
    {
     "name": "stdout",
     "output_type": "stream",
     "text": [
      "Ian_CON_C01_GEFS_f006_mem11\n"
     ]
    },
    {
     "data": {
      "application/vnd.jupyter.widget-view+json": {
       "model_id": "3dd5e6df39124568a981a02350e9d90f",
       "version_major": 2,
       "version_minor": 0
      },
      "text/plain": [
       "Files: 0/1 files | 00:00<?"
      ]
     },
     "metadata": {},
     "output_type": "display_data"
    },
    {
     "name": "stdout",
     "output_type": "stream",
     "text": [
      "Ian_CON_C01_GEFS_f006_mem12\n"
     ]
    },
    {
     "data": {
      "application/vnd.jupyter.widget-view+json": {
       "model_id": "b334da94fc284945a6422397a3745bf4",
       "version_major": 2,
       "version_minor": 0
      },
      "text/plain": [
       "Files: 0/1 files | 00:00<?"
      ]
     },
     "metadata": {},
     "output_type": "display_data"
    },
    {
     "name": "stdout",
     "output_type": "stream",
     "text": [
      "Ian_CON_C01_GEFS_f006_mem13\n"
     ]
    },
    {
     "data": {
      "application/vnd.jupyter.widget-view+json": {
       "model_id": "244c1140adaf45eab6585ed3dc998004",
       "version_major": 2,
       "version_minor": 0
      },
      "text/plain": [
       "Files: 0/1 files | 00:00<?"
      ]
     },
     "metadata": {},
     "output_type": "display_data"
    },
    {
     "name": "stdout",
     "output_type": "stream",
     "text": [
      "Ian_CON_C01_GEFS_f006_mem14\n"
     ]
    },
    {
     "data": {
      "application/vnd.jupyter.widget-view+json": {
       "model_id": "ea2440c3e4c94427a8451eaf3a1b3736",
       "version_major": 2,
       "version_minor": 0
      },
      "text/plain": [
       "Files: 0/1 files | 00:00<?"
      ]
     },
     "metadata": {},
     "output_type": "display_data"
    },
    {
     "name": "stdout",
     "output_type": "stream",
     "text": [
      "Ian_CON_C01_GEFS_f006_mem15\n"
     ]
    },
    {
     "data": {
      "application/vnd.jupyter.widget-view+json": {
       "model_id": "ded96a137b974477b09745bc114c786d",
       "version_major": 2,
       "version_minor": 0
      },
      "text/plain": [
       "Files: 0/1 files | 00:00<?"
      ]
     },
     "metadata": {},
     "output_type": "display_data"
    },
    {
     "name": "stdout",
     "output_type": "stream",
     "text": [
      "Ian_CON_C01_GEFS_f006_mem16\n"
     ]
    },
    {
     "data": {
      "application/vnd.jupyter.widget-view+json": {
       "model_id": "28c94a4db2fa4fbb9a8351144bb55748",
       "version_major": 2,
       "version_minor": 0
      },
      "text/plain": [
       "Files: 0/1 files | 00:00<?"
      ]
     },
     "metadata": {},
     "output_type": "display_data"
    },
    {
     "name": "stdout",
     "output_type": "stream",
     "text": [
      "Ian_CON_C01_GEFS_f006_mem17\n"
     ]
    },
    {
     "data": {
      "application/vnd.jupyter.widget-view+json": {
       "model_id": "d16689e2c3d44253b7ada760433f5b2b",
       "version_major": 2,
       "version_minor": 0
      },
      "text/plain": [
       "Files: 0/1 files | 00:00<?"
      ]
     },
     "metadata": {},
     "output_type": "display_data"
    },
    {
     "name": "stdout",
     "output_type": "stream",
     "text": [
      "Ian_CON_C01_GEFS_f006_mem18\n"
     ]
    },
    {
     "data": {
      "application/vnd.jupyter.widget-view+json": {
       "model_id": "803203e3f0d640efb7f4b6590a898031",
       "version_major": 2,
       "version_minor": 0
      },
      "text/plain": [
       "Files: 0/1 files | 00:00<?"
      ]
     },
     "metadata": {},
     "output_type": "display_data"
    },
    {
     "name": "stdout",
     "output_type": "stream",
     "text": [
      "Ian_CON_C01_GEFS_f006_mem19\n"
     ]
    },
    {
     "data": {
      "application/vnd.jupyter.widget-view+json": {
       "model_id": "ce828c439cfb403fa47b073c63751f4c",
       "version_major": 2,
       "version_minor": 0
      },
      "text/plain": [
       "Files: 0/1 files | 00:00<?"
      ]
     },
     "metadata": {},
     "output_type": "display_data"
    },
    {
     "name": "stdout",
     "output_type": "stream",
     "text": [
      "Ian_CON_C01_GEFS_f006_mem20\n"
     ]
    },
    {
     "data": {
      "application/vnd.jupyter.widget-view+json": {
       "model_id": "c80f2dcd1ceb4803832e8d6518bdd453",
       "version_major": 2,
       "version_minor": 0
      },
      "text/plain": [
       "Files: 0/1 files | 00:00<?"
      ]
     },
     "metadata": {},
     "output_type": "display_data"
    },
    {
     "name": "stdout",
     "output_type": "stream",
     "text": [
      "Ian_CON_C01_GEFS_f006_mem21\n"
     ]
    },
    {
     "data": {
      "application/vnd.jupyter.widget-view+json": {
       "model_id": "e5c0d524d4934011af8b1e9e1307222e",
       "version_major": 2,
       "version_minor": 0
      },
      "text/plain": [
       "Files: 0/1 files | 00:00<?"
      ]
     },
     "metadata": {},
     "output_type": "display_data"
    },
    {
     "name": "stdout",
     "output_type": "stream",
     "text": [
      "Ian_CON_C01_GEFS_f006_mem22\n"
     ]
    },
    {
     "data": {
      "application/vnd.jupyter.widget-view+json": {
       "model_id": "1b0f5c9ae6a44d16a0bd19d1e9e401a9",
       "version_major": 2,
       "version_minor": 0
      },
      "text/plain": [
       "Files: 0/1 files | 00:00<?"
      ]
     },
     "metadata": {},
     "output_type": "display_data"
    },
    {
     "name": "stdout",
     "output_type": "stream",
     "text": [
      "Ian_CON_C01_GEFS_f006_mem23\n"
     ]
    },
    {
     "data": {
      "application/vnd.jupyter.widget-view+json": {
       "model_id": "287b4f8aed704f81b3e66379e64584ff",
       "version_major": 2,
       "version_minor": 0
      },
      "text/plain": [
       "Files: 0/1 files | 00:00<?"
      ]
     },
     "metadata": {},
     "output_type": "display_data"
    },
    {
     "name": "stdout",
     "output_type": "stream",
     "text": [
      "Ian_CON_C01_GEFS_f006_mem24\n"
     ]
    },
    {
     "data": {
      "application/vnd.jupyter.widget-view+json": {
       "model_id": "9d588af7b7b2403da362733598de3260",
       "version_major": 2,
       "version_minor": 0
      },
      "text/plain": [
       "Files: 0/1 files | 00:00<?"
      ]
     },
     "metadata": {},
     "output_type": "display_data"
    },
    {
     "name": "stdout",
     "output_type": "stream",
     "text": [
      "Ian_CON_C01_GEFS_f006_mem25\n"
     ]
    },
    {
     "data": {
      "application/vnd.jupyter.widget-view+json": {
       "model_id": "ac66b1cd4061476588405a7ad71f530d",
       "version_major": 2,
       "version_minor": 0
      },
      "text/plain": [
       "Files: 0/1 files | 00:00<?"
      ]
     },
     "metadata": {},
     "output_type": "display_data"
    },
    {
     "name": "stdout",
     "output_type": "stream",
     "text": [
      "Ian_CON_C01_GEFS_f006_mem26\n"
     ]
    },
    {
     "data": {
      "application/vnd.jupyter.widget-view+json": {
       "model_id": "5f84844dfeb04ca7b0ce0db22078d705",
       "version_major": 2,
       "version_minor": 0
      },
      "text/plain": [
       "Files: 0/1 files | 00:00<?"
      ]
     },
     "metadata": {},
     "output_type": "display_data"
    },
    {
     "name": "stdout",
     "output_type": "stream",
     "text": [
      "Ian_CON_C01_GEFS_f006_mem27\n"
     ]
    },
    {
     "data": {
      "application/vnd.jupyter.widget-view+json": {
       "model_id": "f485b7924b4b463cb4a4540c963e551a",
       "version_major": 2,
       "version_minor": 0
      },
      "text/plain": [
       "Files: 0/1 files | 00:00<?"
      ]
     },
     "metadata": {},
     "output_type": "display_data"
    },
    {
     "name": "stdout",
     "output_type": "stream",
     "text": [
      "Ian_CON_C01_GEFS_f006_mem28\n"
     ]
    },
    {
     "data": {
      "application/vnd.jupyter.widget-view+json": {
       "model_id": "a9c7b564fb75468cae21b8e24bccd829",
       "version_major": 2,
       "version_minor": 0
      },
      "text/plain": [
       "Files: 0/1 files | 00:00<?"
      ]
     },
     "metadata": {},
     "output_type": "display_data"
    },
    {
     "name": "stdout",
     "output_type": "stream",
     "text": [
      "Ian_CON_C01_GEFS_f006_mem29\n"
     ]
    },
    {
     "data": {
      "application/vnd.jupyter.widget-view+json": {
       "model_id": "8a19e47e045740cb862f0073304ab33d",
       "version_major": 2,
       "version_minor": 0
      },
      "text/plain": [
       "Files: 0/1 files | 00:00<?"
      ]
     },
     "metadata": {},
     "output_type": "display_data"
    },
    {
     "name": "stdout",
     "output_type": "stream",
     "text": [
      "Ian_CON_C01_GEFS_f006_mem30\n"
     ]
    },
    {
     "data": {
      "application/vnd.jupyter.widget-view+json": {
       "model_id": "fd9f6ebac93648809d634bb679f9174d",
       "version_major": 2,
       "version_minor": 0
      },
      "text/plain": [
       "Files: 0/1 files | 00:00<?"
      ]
     },
     "metadata": {},
     "output_type": "display_data"
    },
    {
     "name": "stdout",
     "output_type": "stream",
     "text": [
      "Ian_CON_C01_GEFS_f012_mem01\n"
     ]
    },
    {
     "data": {
      "application/vnd.jupyter.widget-view+json": {
       "model_id": "0ada15313a8e48e78b94f9d700a8ee96",
       "version_major": 2,
       "version_minor": 0
      },
      "text/plain": [
       "Files: 0/1 files | 00:00<?"
      ]
     },
     "metadata": {},
     "output_type": "display_data"
    },
    {
     "name": "stdout",
     "output_type": "stream",
     "text": [
      "Ian_CON_C01_GEFS_f012_mem02\n"
     ]
    },
    {
     "data": {
      "application/vnd.jupyter.widget-view+json": {
       "model_id": "1952ff866349418090b2f7a805f3fa81",
       "version_major": 2,
       "version_minor": 0
      },
      "text/plain": [
       "Files: 0/1 files | 00:00<?"
      ]
     },
     "metadata": {},
     "output_type": "display_data"
    },
    {
     "name": "stdout",
     "output_type": "stream",
     "text": [
      "Ian_CON_C01_GEFS_f012_mem03\n"
     ]
    },
    {
     "data": {
      "application/vnd.jupyter.widget-view+json": {
       "model_id": "a358ab36aae44d3b802a339a5d6d1201",
       "version_major": 2,
       "version_minor": 0
      },
      "text/plain": [
       "Files: 0/1 files | 00:00<?"
      ]
     },
     "metadata": {},
     "output_type": "display_data"
    },
    {
     "name": "stdout",
     "output_type": "stream",
     "text": [
      "Ian_CON_C01_GEFS_f012_mem04\n"
     ]
    },
    {
     "data": {
      "application/vnd.jupyter.widget-view+json": {
       "model_id": "3f8e6e66c3154eff9e4827b2372d4799",
       "version_major": 2,
       "version_minor": 0
      },
      "text/plain": [
       "Files: 0/1 files | 00:00<?"
      ]
     },
     "metadata": {},
     "output_type": "display_data"
    },
    {
     "name": "stdout",
     "output_type": "stream",
     "text": [
      "Ian_CON_C01_GEFS_f012_mem05\n"
     ]
    },
    {
     "data": {
      "application/vnd.jupyter.widget-view+json": {
       "model_id": "46c9050fd0814cd080fa87e63c29cccb",
       "version_major": 2,
       "version_minor": 0
      },
      "text/plain": [
       "Files: 0/1 files | 00:00<?"
      ]
     },
     "metadata": {},
     "output_type": "display_data"
    },
    {
     "name": "stdout",
     "output_type": "stream",
     "text": [
      "Ian_CON_C01_GEFS_f012_mem06\n"
     ]
    },
    {
     "data": {
      "application/vnd.jupyter.widget-view+json": {
       "model_id": "80b2f267f0084974ab171ace158002e6",
       "version_major": 2,
       "version_minor": 0
      },
      "text/plain": [
       "Files: 0/1 files | 00:00<?"
      ]
     },
     "metadata": {},
     "output_type": "display_data"
    },
    {
     "name": "stdout",
     "output_type": "stream",
     "text": [
      "Ian_CON_C01_GEFS_f012_mem07\n"
     ]
    },
    {
     "data": {
      "application/vnd.jupyter.widget-view+json": {
       "model_id": "94757842836f445c9abaafe0bd229b93",
       "version_major": 2,
       "version_minor": 0
      },
      "text/plain": [
       "Files: 0/1 files | 00:00<?"
      ]
     },
     "metadata": {},
     "output_type": "display_data"
    },
    {
     "name": "stdout",
     "output_type": "stream",
     "text": [
      "Ian_CON_C01_GEFS_f012_mem08\n"
     ]
    },
    {
     "data": {
      "application/vnd.jupyter.widget-view+json": {
       "model_id": "ddc5fd6062904851924b9f4e39906113",
       "version_major": 2,
       "version_minor": 0
      },
      "text/plain": [
       "Files: 0/1 files | 00:00<?"
      ]
     },
     "metadata": {},
     "output_type": "display_data"
    },
    {
     "name": "stdout",
     "output_type": "stream",
     "text": [
      "Ian_CON_C01_GEFS_f012_mem09\n"
     ]
    },
    {
     "data": {
      "application/vnd.jupyter.widget-view+json": {
       "model_id": "631a9065663c441189c2905000d2e38c",
       "version_major": 2,
       "version_minor": 0
      },
      "text/plain": [
       "Files: 0/1 files | 00:00<?"
      ]
     },
     "metadata": {},
     "output_type": "display_data"
    },
    {
     "name": "stdout",
     "output_type": "stream",
     "text": [
      "Ian_CON_C01_GEFS_f012_mem10\n"
     ]
    },
    {
     "data": {
      "application/vnd.jupyter.widget-view+json": {
       "model_id": "2f2b1122a28a48aa8a644a0cf16e6060",
       "version_major": 2,
       "version_minor": 0
      },
      "text/plain": [
       "Files: 0/1 files | 00:00<?"
      ]
     },
     "metadata": {},
     "output_type": "display_data"
    },
    {
     "name": "stdout",
     "output_type": "stream",
     "text": [
      "Ian_CON_C01_GEFS_f012_mem11\n"
     ]
    },
    {
     "data": {
      "application/vnd.jupyter.widget-view+json": {
       "model_id": "a47105ce3e7943afafaa27d9dc83ab87",
       "version_major": 2,
       "version_minor": 0
      },
      "text/plain": [
       "Files: 0/1 files | 00:00<?"
      ]
     },
     "metadata": {},
     "output_type": "display_data"
    },
    {
     "name": "stdout",
     "output_type": "stream",
     "text": [
      "Ian_CON_C01_GEFS_f012_mem12\n"
     ]
    },
    {
     "data": {
      "application/vnd.jupyter.widget-view+json": {
       "model_id": "72c58c72f2854d699e51d81a6edcd1cc",
       "version_major": 2,
       "version_minor": 0
      },
      "text/plain": [
       "Files: 0/1 files | 00:00<?"
      ]
     },
     "metadata": {},
     "output_type": "display_data"
    },
    {
     "name": "stdout",
     "output_type": "stream",
     "text": [
      "Ian_CON_C01_GEFS_f012_mem13\n"
     ]
    },
    {
     "data": {
      "application/vnd.jupyter.widget-view+json": {
       "model_id": "a5e1d5a148e048fd8c9017f58df70db8",
       "version_major": 2,
       "version_minor": 0
      },
      "text/plain": [
       "Files: 0/1 files | 00:00<?"
      ]
     },
     "metadata": {},
     "output_type": "display_data"
    },
    {
     "name": "stdout",
     "output_type": "stream",
     "text": [
      "Ian_CON_C01_GEFS_f012_mem14\n"
     ]
    },
    {
     "data": {
      "application/vnd.jupyter.widget-view+json": {
       "model_id": "244ecab2d4c8428eb3a5c843cc26aa53",
       "version_major": 2,
       "version_minor": 0
      },
      "text/plain": [
       "Files: 0/1 files | 00:00<?"
      ]
     },
     "metadata": {},
     "output_type": "display_data"
    },
    {
     "name": "stdout",
     "output_type": "stream",
     "text": [
      "Ian_CON_C01_GEFS_f012_mem15\n"
     ]
    },
    {
     "data": {
      "application/vnd.jupyter.widget-view+json": {
       "model_id": "4dec8a4dfedb4a58b4c556ab4c7e5979",
       "version_major": 2,
       "version_minor": 0
      },
      "text/plain": [
       "Files: 0/1 files | 00:00<?"
      ]
     },
     "metadata": {},
     "output_type": "display_data"
    },
    {
     "name": "stdout",
     "output_type": "stream",
     "text": [
      "Ian_CON_C01_GEFS_f012_mem16\n"
     ]
    },
    {
     "data": {
      "application/vnd.jupyter.widget-view+json": {
       "model_id": "48aff50daa104a9c94b25813cc72350f",
       "version_major": 2,
       "version_minor": 0
      },
      "text/plain": [
       "Files: 0/1 files | 00:00<?"
      ]
     },
     "metadata": {},
     "output_type": "display_data"
    },
    {
     "name": "stdout",
     "output_type": "stream",
     "text": [
      "Ian_CON_C01_GEFS_f012_mem17\n",
      "Check wrfout files: False\n",
      "Ian_CON_C01_GEFS_f012_mem18\n",
      "Check wrfout files: False\n",
      "Ian_CON_C01_GEFS_f012_mem19\n",
      "Check wrfout files: False\n",
      "Ian_CON_C01_GEFS_f012_mem20\n",
      "Check wrfout files: False\n",
      "Ian_CON_C01_GEFS_f012_mem21\n",
      "Check wrfout files: False\n",
      "Ian_CON_C01_GEFS_f012_mem22\n",
      "Check wrfout files: False\n",
      "Ian_CON_C01_GEFS_f012_mem23\n",
      "Check wrfout files: False\n",
      "Ian_CON_C01_GEFS_f012_mem24\n",
      "Check wrfout files: False\n",
      "Ian_CON_C01_GEFS_f012_mem25\n",
      "Check wrfout files: False\n",
      "Ian_CON_C01_GEFS_f012_mem26\n",
      "Check wrfout files: False\n",
      "Ian_CON_C01_GEFS_f012_mem27\n",
      "Check wrfout files: False\n",
      "Ian_CON_C01_GEFS_f012_mem28\n",
      "Check wrfout files: False\n",
      "Ian_CON_C01_GEFS_f012_mem29\n",
      "Check wrfout files: False\n",
      "Ian_CON_C01_GEFS_f012_mem30\n",
      "Check wrfout files: False\n",
      "Ian_CON_C02_GEFS_f006_mem01\n"
     ]
    },
    {
     "data": {
      "application/vnd.jupyter.widget-view+json": {
       "model_id": "6d664e0e488045778ac771deab34e6d6",
       "version_major": 2,
       "version_minor": 0
      },
      "text/plain": [
       "Files: 0/1 files | 00:00<?"
      ]
     },
     "metadata": {},
     "output_type": "display_data"
    },
    {
     "name": "stdout",
     "output_type": "stream",
     "text": [
      "Ian_CON_C02_GEFS_f006_mem02\n"
     ]
    },
    {
     "data": {
      "application/vnd.jupyter.widget-view+json": {
       "model_id": "b2dca48aba334972b32a939991f55084",
       "version_major": 2,
       "version_minor": 0
      },
      "text/plain": [
       "Files: 0/1 files | 00:00<?"
      ]
     },
     "metadata": {},
     "output_type": "display_data"
    },
    {
     "name": "stdout",
     "output_type": "stream",
     "text": [
      "Ian_CON_C02_GEFS_f006_mem03\n"
     ]
    },
    {
     "data": {
      "application/vnd.jupyter.widget-view+json": {
       "model_id": "d6c5416d89414d44beb2c6277477bc7a",
       "version_major": 2,
       "version_minor": 0
      },
      "text/plain": [
       "Files: 0/1 files | 00:00<?"
      ]
     },
     "metadata": {},
     "output_type": "display_data"
    },
    {
     "name": "stdout",
     "output_type": "stream",
     "text": [
      "Ian_CON_C02_GEFS_f006_mem04\n"
     ]
    },
    {
     "data": {
      "application/vnd.jupyter.widget-view+json": {
       "model_id": "b8d89182a741454aa5873fe82666d893",
       "version_major": 2,
       "version_minor": 0
      },
      "text/plain": [
       "Files: 0/1 files | 00:00<?"
      ]
     },
     "metadata": {},
     "output_type": "display_data"
    },
    {
     "name": "stdout",
     "output_type": "stream",
     "text": [
      "Ian_CON_C02_GEFS_f006_mem05\n"
     ]
    },
    {
     "data": {
      "application/vnd.jupyter.widget-view+json": {
       "model_id": "8555943188e948038f8adc7256e461ec",
       "version_major": 2,
       "version_minor": 0
      },
      "text/plain": [
       "Files: 0/1 files | 00:00<?"
      ]
     },
     "metadata": {},
     "output_type": "display_data"
    },
    {
     "name": "stdout",
     "output_type": "stream",
     "text": [
      "Ian_CON_C02_GEFS_f006_mem06\n"
     ]
    },
    {
     "data": {
      "application/vnd.jupyter.widget-view+json": {
       "model_id": "f15f9ff04cf44464aef662a68ac9b4e7",
       "version_major": 2,
       "version_minor": 0
      },
      "text/plain": [
       "Files: 0/1 files | 00:00<?"
      ]
     },
     "metadata": {},
     "output_type": "display_data"
    },
    {
     "name": "stdout",
     "output_type": "stream",
     "text": [
      "Ian_CON_C02_GEFS_f006_mem07\n"
     ]
    },
    {
     "data": {
      "application/vnd.jupyter.widget-view+json": {
       "model_id": "c59f87c5012a4663a7bcbee67956396c",
       "version_major": 2,
       "version_minor": 0
      },
      "text/plain": [
       "Files: 0/1 files | 00:00<?"
      ]
     },
     "metadata": {},
     "output_type": "display_data"
    },
    {
     "name": "stdout",
     "output_type": "stream",
     "text": [
      "Ian_CON_C02_GEFS_f006_mem08\n"
     ]
    },
    {
     "data": {
      "application/vnd.jupyter.widget-view+json": {
       "model_id": "6b51f6993a194a8798422af05720f42e",
       "version_major": 2,
       "version_minor": 0
      },
      "text/plain": [
       "Files: 0/1 files | 00:00<?"
      ]
     },
     "metadata": {},
     "output_type": "display_data"
    },
    {
     "name": "stdout",
     "output_type": "stream",
     "text": [
      "Ian_CON_C02_GEFS_f006_mem09\n"
     ]
    },
    {
     "data": {
      "application/vnd.jupyter.widget-view+json": {
       "model_id": "404a07bee2454fdda33ccd5e028880e5",
       "version_major": 2,
       "version_minor": 0
      },
      "text/plain": [
       "Files: 0/1 files | 00:00<?"
      ]
     },
     "metadata": {},
     "output_type": "display_data"
    },
    {
     "name": "stdout",
     "output_type": "stream",
     "text": [
      "Ian_CON_C02_GEFS_f006_mem10\n"
     ]
    },
    {
     "data": {
      "application/vnd.jupyter.widget-view+json": {
       "model_id": "62f5587c613e4555ba72b59ccc9a73bb",
       "version_major": 2,
       "version_minor": 0
      },
      "text/plain": [
       "Files: 0/1 files | 00:00<?"
      ]
     },
     "metadata": {},
     "output_type": "display_data"
    },
    {
     "name": "stdout",
     "output_type": "stream",
     "text": [
      "Ian_CON_C02_GEFS_f006_mem11\n"
     ]
    },
    {
     "data": {
      "application/vnd.jupyter.widget-view+json": {
       "model_id": "1dc7bad4e5974224a9490ac611dcf3a9",
       "version_major": 2,
       "version_minor": 0
      },
      "text/plain": [
       "Files: 0/1 files | 00:00<?"
      ]
     },
     "metadata": {},
     "output_type": "display_data"
    },
    {
     "name": "stdout",
     "output_type": "stream",
     "text": [
      "Ian_CON_C02_GEFS_f006_mem12\n"
     ]
    },
    {
     "data": {
      "application/vnd.jupyter.widget-view+json": {
       "model_id": "1e08fb0ede95434c989dc3650429c801",
       "version_major": 2,
       "version_minor": 0
      },
      "text/plain": [
       "Files: 0/1 files | 00:00<?"
      ]
     },
     "metadata": {},
     "output_type": "display_data"
    },
    {
     "name": "stdout",
     "output_type": "stream",
     "text": [
      "Ian_CON_C02_GEFS_f006_mem13\n"
     ]
    },
    {
     "data": {
      "application/vnd.jupyter.widget-view+json": {
       "model_id": "86ba8352e025426b8949b942f534063f",
       "version_major": 2,
       "version_minor": 0
      },
      "text/plain": [
       "Files: 0/1 files | 00:00<?"
      ]
     },
     "metadata": {},
     "output_type": "display_data"
    },
    {
     "name": "stdout",
     "output_type": "stream",
     "text": [
      "Ian_CON_C02_GEFS_f006_mem14\n"
     ]
    },
    {
     "data": {
      "application/vnd.jupyter.widget-view+json": {
       "model_id": "522bcca201fe49f6b8420a4b14081db3",
       "version_major": 2,
       "version_minor": 0
      },
      "text/plain": [
       "Files: 0/1 files | 00:00<?"
      ]
     },
     "metadata": {},
     "output_type": "display_data"
    },
    {
     "name": "stdout",
     "output_type": "stream",
     "text": [
      "Ian_CON_C02_GEFS_f006_mem15\n"
     ]
    },
    {
     "data": {
      "application/vnd.jupyter.widget-view+json": {
       "model_id": "59d3b3e4e0684d7da2eb7ff3d7363eee",
       "version_major": 2,
       "version_minor": 0
      },
      "text/plain": [
       "Files: 0/1 files | 00:00<?"
      ]
     },
     "metadata": {},
     "output_type": "display_data"
    },
    {
     "name": "stdout",
     "output_type": "stream",
     "text": [
      "Ian_CON_C02_GEFS_f006_mem16\n"
     ]
    },
    {
     "data": {
      "application/vnd.jupyter.widget-view+json": {
       "model_id": "b3f2e3914c1142debed0c0efc682e36f",
       "version_major": 2,
       "version_minor": 0
      },
      "text/plain": [
       "Files: 0/1 files | 00:00<?"
      ]
     },
     "metadata": {},
     "output_type": "display_data"
    },
    {
     "name": "stdout",
     "output_type": "stream",
     "text": [
      "Ian_CON_C02_GEFS_f006_mem17\n"
     ]
    },
    {
     "data": {
      "application/vnd.jupyter.widget-view+json": {
       "model_id": "b02585350fa049a5af95ee0ac74ed143",
       "version_major": 2,
       "version_minor": 0
      },
      "text/plain": [
       "Files: 0/1 files | 00:00<?"
      ]
     },
     "metadata": {},
     "output_type": "display_data"
    },
    {
     "name": "stdout",
     "output_type": "stream",
     "text": [
      "Ian_CON_C02_GEFS_f006_mem18\n"
     ]
    },
    {
     "data": {
      "application/vnd.jupyter.widget-view+json": {
       "model_id": "ca29ffb07f014fdc83e0ef3f38089c84",
       "version_major": 2,
       "version_minor": 0
      },
      "text/plain": [
       "Files: 0/1 files | 00:00<?"
      ]
     },
     "metadata": {},
     "output_type": "display_data"
    },
    {
     "name": "stdout",
     "output_type": "stream",
     "text": [
      "Ian_CON_C02_GEFS_f006_mem19\n"
     ]
    },
    {
     "data": {
      "application/vnd.jupyter.widget-view+json": {
       "model_id": "928a2a4e667b43d1b17c1bbbc4a982ec",
       "version_major": 2,
       "version_minor": 0
      },
      "text/plain": [
       "Files: 0/1 files | 00:00<?"
      ]
     },
     "metadata": {},
     "output_type": "display_data"
    },
    {
     "name": "stdout",
     "output_type": "stream",
     "text": [
      "Ian_CON_C02_GEFS_f006_mem20\n"
     ]
    },
    {
     "data": {
      "application/vnd.jupyter.widget-view+json": {
       "model_id": "17a2ff7b96674314b85375ee1b1a4ac8",
       "version_major": 2,
       "version_minor": 0
      },
      "text/plain": [
       "Files: 0/1 files | 00:00<?"
      ]
     },
     "metadata": {},
     "output_type": "display_data"
    },
    {
     "name": "stdout",
     "output_type": "stream",
     "text": [
      "Ian_CON_C02_GEFS_f006_mem21\n"
     ]
    },
    {
     "data": {
      "application/vnd.jupyter.widget-view+json": {
       "model_id": "93e6606549bc426dbec04243783e6bca",
       "version_major": 2,
       "version_minor": 0
      },
      "text/plain": [
       "Files: 0/1 files | 00:00<?"
      ]
     },
     "metadata": {},
     "output_type": "display_data"
    },
    {
     "name": "stdout",
     "output_type": "stream",
     "text": [
      "Ian_CON_C02_GEFS_f006_mem22\n"
     ]
    },
    {
     "data": {
      "application/vnd.jupyter.widget-view+json": {
       "model_id": "b10cb8a549764a85bfcc02c5955a10eb",
       "version_major": 2,
       "version_minor": 0
      },
      "text/plain": [
       "Files: 0/1 files | 00:00<?"
      ]
     },
     "metadata": {},
     "output_type": "display_data"
    },
    {
     "name": "stdout",
     "output_type": "stream",
     "text": [
      "Ian_CON_C02_GEFS_f006_mem23\n"
     ]
    },
    {
     "data": {
      "application/vnd.jupyter.widget-view+json": {
       "model_id": "d1882c8501d0415d9fab4b22c97ea0fb",
       "version_major": 2,
       "version_minor": 0
      },
      "text/plain": [
       "Files: 0/1 files | 00:00<?"
      ]
     },
     "metadata": {},
     "output_type": "display_data"
    },
    {
     "name": "stdout",
     "output_type": "stream",
     "text": [
      "Ian_CON_C02_GEFS_f006_mem24\n"
     ]
    },
    {
     "data": {
      "application/vnd.jupyter.widget-view+json": {
       "model_id": "9ff0d996b3b843e5aa694308dc76183f",
       "version_major": 2,
       "version_minor": 0
      },
      "text/plain": [
       "Files: 0/1 files | 00:00<?"
      ]
     },
     "metadata": {},
     "output_type": "display_data"
    },
    {
     "name": "stdout",
     "output_type": "stream",
     "text": [
      "Ian_CON_C02_GEFS_f006_mem25\n"
     ]
    },
    {
     "data": {
      "application/vnd.jupyter.widget-view+json": {
       "model_id": "f60830f47a0b430bba54359cce409bbb",
       "version_major": 2,
       "version_minor": 0
      },
      "text/plain": [
       "Files: 0/1 files | 00:00<?"
      ]
     },
     "metadata": {},
     "output_type": "display_data"
    },
    {
     "name": "stdout",
     "output_type": "stream",
     "text": [
      "Ian_CON_C02_GEFS_f006_mem26\n"
     ]
    },
    {
     "data": {
      "application/vnd.jupyter.widget-view+json": {
       "model_id": "605f3e40fd0f4b5c85293746bcd4b4f3",
       "version_major": 2,
       "version_minor": 0
      },
      "text/plain": [
       "Files: 0/1 files | 00:00<?"
      ]
     },
     "metadata": {},
     "output_type": "display_data"
    },
    {
     "name": "stdout",
     "output_type": "stream",
     "text": [
      "Ian_CON_C02_GEFS_f006_mem27\n"
     ]
    },
    {
     "data": {
      "application/vnd.jupyter.widget-view+json": {
       "model_id": "d4556b309ac54783b8949abf345a2446",
       "version_major": 2,
       "version_minor": 0
      },
      "text/plain": [
       "Files: 0/1 files | 00:00<?"
      ]
     },
     "metadata": {},
     "output_type": "display_data"
    },
    {
     "name": "stdout",
     "output_type": "stream",
     "text": [
      "Ian_CON_C02_GEFS_f006_mem28\n"
     ]
    },
    {
     "data": {
      "application/vnd.jupyter.widget-view+json": {
       "model_id": "de957686c0524b8690a849a677d746ea",
       "version_major": 2,
       "version_minor": 0
      },
      "text/plain": [
       "Files: 0/1 files | 00:00<?"
      ]
     },
     "metadata": {},
     "output_type": "display_data"
    },
    {
     "name": "stdout",
     "output_type": "stream",
     "text": [
      "Ian_CON_C02_GEFS_f006_mem29\n"
     ]
    },
    {
     "data": {
      "application/vnd.jupyter.widget-view+json": {
       "model_id": "e29a9a54baee4ef5aff9d8d2305f3d84",
       "version_major": 2,
       "version_minor": 0
      },
      "text/plain": [
       "Files: 0/1 files | 00:00<?"
      ]
     },
     "metadata": {},
     "output_type": "display_data"
    },
    {
     "name": "stdout",
     "output_type": "stream",
     "text": [
      "Ian_CON_C02_GEFS_f006_mem30\n"
     ]
    },
    {
     "data": {
      "application/vnd.jupyter.widget-view+json": {
       "model_id": "d26869ff483e4fc19ee6bd7f0d238d1e",
       "version_major": 2,
       "version_minor": 0
      },
      "text/plain": [
       "Files: 0/1 files | 00:00<?"
      ]
     },
     "metadata": {},
     "output_type": "display_data"
    },
    {
     "name": "stdout",
     "output_type": "stream",
     "text": [
      "Ian_CON_C02_GEFS_f012_mem01\n"
     ]
    },
    {
     "data": {
      "application/vnd.jupyter.widget-view+json": {
       "model_id": "9cace058e4b0464e98b26fa3682032d1",
       "version_major": 2,
       "version_minor": 0
      },
      "text/plain": [
       "Files: 0/1 files | 00:00<?"
      ]
     },
     "metadata": {},
     "output_type": "display_data"
    },
    {
     "name": "stdout",
     "output_type": "stream",
     "text": [
      "Ian_CON_C02_GEFS_f012_mem02\n"
     ]
    },
    {
     "data": {
      "application/vnd.jupyter.widget-view+json": {
       "model_id": "50b7e346b4164328b88f5487ebed90d4",
       "version_major": 2,
       "version_minor": 0
      },
      "text/plain": [
       "Files: 0/1 files | 00:00<?"
      ]
     },
     "metadata": {},
     "output_type": "display_data"
    },
    {
     "name": "stdout",
     "output_type": "stream",
     "text": [
      "Ian_CON_C02_GEFS_f012_mem03\n"
     ]
    },
    {
     "data": {
      "application/vnd.jupyter.widget-view+json": {
       "model_id": "c45b13a93c5c4e0cab8bff8f06fb1a83",
       "version_major": 2,
       "version_minor": 0
      },
      "text/plain": [
       "Files: 0/1 files | 00:00<?"
      ]
     },
     "metadata": {},
     "output_type": "display_data"
    },
    {
     "name": "stdout",
     "output_type": "stream",
     "text": [
      "Ian_CON_C02_GEFS_f012_mem04\n"
     ]
    },
    {
     "data": {
      "application/vnd.jupyter.widget-view+json": {
       "model_id": "468aff13e94d40b1acd4af4f3e852067",
       "version_major": 2,
       "version_minor": 0
      },
      "text/plain": [
       "Files: 0/1 files | 00:00<?"
      ]
     },
     "metadata": {},
     "output_type": "display_data"
    },
    {
     "name": "stdout",
     "output_type": "stream",
     "text": [
      "Ian_CON_C02_GEFS_f012_mem05\n"
     ]
    },
    {
     "data": {
      "application/vnd.jupyter.widget-view+json": {
       "model_id": "5dbefd9981ca4c48ac83080500510844",
       "version_major": 2,
       "version_minor": 0
      },
      "text/plain": [
       "Files: 0/1 files | 00:00<?"
      ]
     },
     "metadata": {},
     "output_type": "display_data"
    },
    {
     "name": "stdout",
     "output_type": "stream",
     "text": [
      "Ian_CON_C02_GEFS_f012_mem06\n"
     ]
    },
    {
     "data": {
      "application/vnd.jupyter.widget-view+json": {
       "model_id": "41cfc0229e7f42c78a6948ced382727a",
       "version_major": 2,
       "version_minor": 0
      },
      "text/plain": [
       "Files: 0/1 files | 00:00<?"
      ]
     },
     "metadata": {},
     "output_type": "display_data"
    },
    {
     "name": "stdout",
     "output_type": "stream",
     "text": [
      "Ian_CON_C02_GEFS_f012_mem07\n"
     ]
    },
    {
     "data": {
      "application/vnd.jupyter.widget-view+json": {
       "model_id": "c31cce4e3023480f8e1c27ebe964324c",
       "version_major": 2,
       "version_minor": 0
      },
      "text/plain": [
       "Files: 0/1 files | 00:00<?"
      ]
     },
     "metadata": {},
     "output_type": "display_data"
    },
    {
     "name": "stdout",
     "output_type": "stream",
     "text": [
      "Ian_CON_C02_GEFS_f012_mem08\n"
     ]
    },
    {
     "data": {
      "application/vnd.jupyter.widget-view+json": {
       "model_id": "12570ea9914445a88565b02fbb727a1d",
       "version_major": 2,
       "version_minor": 0
      },
      "text/plain": [
       "Files: 0/1 files | 00:00<?"
      ]
     },
     "metadata": {},
     "output_type": "display_data"
    },
    {
     "name": "stdout",
     "output_type": "stream",
     "text": [
      "Ian_CON_C02_GEFS_f012_mem09\n"
     ]
    },
    {
     "data": {
      "application/vnd.jupyter.widget-view+json": {
       "model_id": "5ade89a5844a46caada92dacfdafc8c2",
       "version_major": 2,
       "version_minor": 0
      },
      "text/plain": [
       "Files: 0/1 files | 00:00<?"
      ]
     },
     "metadata": {},
     "output_type": "display_data"
    },
    {
     "name": "stdout",
     "output_type": "stream",
     "text": [
      "Ian_CON_C02_GEFS_f012_mem10\n"
     ]
    },
    {
     "data": {
      "application/vnd.jupyter.widget-view+json": {
       "model_id": "138b20b225b44c81929f59908a6966ad",
       "version_major": 2,
       "version_minor": 0
      },
      "text/plain": [
       "Files: 0/1 files | 00:00<?"
      ]
     },
     "metadata": {},
     "output_type": "display_data"
    },
    {
     "name": "stdout",
     "output_type": "stream",
     "text": [
      "Ian_CON_C02_GEFS_f012_mem11\n"
     ]
    },
    {
     "data": {
      "application/vnd.jupyter.widget-view+json": {
       "model_id": "0b9ad8d842844346941bd2789bf1ede6",
       "version_major": 2,
       "version_minor": 0
      },
      "text/plain": [
       "Files: 0/1 files | 00:00<?"
      ]
     },
     "metadata": {},
     "output_type": "display_data"
    },
    {
     "name": "stdout",
     "output_type": "stream",
     "text": [
      "Ian_CON_C02_GEFS_f012_mem12\n"
     ]
    },
    {
     "data": {
      "application/vnd.jupyter.widget-view+json": {
       "model_id": "2e3d782527784465bd70885a547f984d",
       "version_major": 2,
       "version_minor": 0
      },
      "text/plain": [
       "Files: 0/1 files | 00:00<?"
      ]
     },
     "metadata": {},
     "output_type": "display_data"
    },
    {
     "name": "stdout",
     "output_type": "stream",
     "text": [
      "Ian_CON_C02_GEFS_f012_mem13\n"
     ]
    },
    {
     "data": {
      "application/vnd.jupyter.widget-view+json": {
       "model_id": "0551f74efbf64104989ec3f2e692292e",
       "version_major": 2,
       "version_minor": 0
      },
      "text/plain": [
       "Files: 0/1 files | 00:00<?"
      ]
     },
     "metadata": {},
     "output_type": "display_data"
    },
    {
     "name": "stdout",
     "output_type": "stream",
     "text": [
      "Ian_CON_C02_GEFS_f012_mem14\n"
     ]
    },
    {
     "data": {
      "application/vnd.jupyter.widget-view+json": {
       "model_id": "20b442ab2f6743ec8aac13b2a6b8d19a",
       "version_major": 2,
       "version_minor": 0
      },
      "text/plain": [
       "Files: 0/1 files | 00:00<?"
      ]
     },
     "metadata": {},
     "output_type": "display_data"
    },
    {
     "name": "stdout",
     "output_type": "stream",
     "text": [
      "Ian_CON_C02_GEFS_f012_mem15\n"
     ]
    },
    {
     "data": {
      "application/vnd.jupyter.widget-view+json": {
       "model_id": "aa3247652fb040e5acf6ef10db47c61f",
       "version_major": 2,
       "version_minor": 0
      },
      "text/plain": [
       "Files: 0/1 files | 00:00<?"
      ]
     },
     "metadata": {},
     "output_type": "display_data"
    },
    {
     "name": "stdout",
     "output_type": "stream",
     "text": [
      "Ian_CON_C02_GEFS_f012_mem16\n"
     ]
    },
    {
     "data": {
      "application/vnd.jupyter.widget-view+json": {
       "model_id": "972224d52b3c4376b2d56ed2abd7371c",
       "version_major": 2,
       "version_minor": 0
      },
      "text/plain": [
       "Files: 0/1 files | 00:00<?"
      ]
     },
     "metadata": {},
     "output_type": "display_data"
    },
    {
     "name": "stdout",
     "output_type": "stream",
     "text": [
      "Ian_CON_C02_GEFS_f012_mem17\n",
      "Check wrfout files: False\n",
      "Ian_CON_C02_GEFS_f012_mem18\n",
      "Check wrfout files: False\n",
      "Ian_CON_C02_GEFS_f012_mem19\n",
      "Check wrfout files: False\n",
      "Ian_CON_C02_GEFS_f012_mem20\n",
      "Check wrfout files: False\n",
      "Ian_CON_C02_GEFS_f012_mem21\n",
      "Check wrfout files: False\n",
      "Ian_CON_C02_GEFS_f012_mem22\n",
      "Check wrfout files: False\n",
      "Ian_CON_C02_GEFS_f012_mem23\n",
      "Check wrfout files: False\n",
      "Ian_CON_C02_GEFS_f012_mem24\n",
      "Check wrfout files: False\n",
      "Ian_CON_C02_GEFS_f012_mem25\n",
      "Check wrfout files: False\n",
      "Ian_CON_C02_GEFS_f012_mem26\n",
      "Check wrfout files: False\n",
      "Ian_CON_C02_GEFS_f012_mem27\n",
      "Check wrfout files: False\n",
      "Ian_CON_C02_GEFS_f012_mem28\n",
      "Check wrfout files: False\n",
      "Ian_CON_C02_GEFS_f012_mem29\n",
      "Check wrfout files: False\n",
      "Ian_CON_C02_GEFS_f012_mem30\n",
      "Check wrfout files: False\n",
      "Ian_CON_C03_GEFS_f006_mem01\n"
     ]
    },
    {
     "data": {
      "application/vnd.jupyter.widget-view+json": {
       "model_id": "0ab8f9f785b04dc0b5bf8b9f4adcd322",
       "version_major": 2,
       "version_minor": 0
      },
      "text/plain": [
       "Files: 0/1 files | 00:00<?"
      ]
     },
     "metadata": {},
     "output_type": "display_data"
    },
    {
     "name": "stdout",
     "output_type": "stream",
     "text": [
      "Ian_CON_C03_GEFS_f006_mem02\n"
     ]
    },
    {
     "data": {
      "application/vnd.jupyter.widget-view+json": {
       "model_id": "fc321cb24f1d4370b95e338e9317fe63",
       "version_major": 2,
       "version_minor": 0
      },
      "text/plain": [
       "Files: 0/1 files | 00:00<?"
      ]
     },
     "metadata": {},
     "output_type": "display_data"
    },
    {
     "name": "stdout",
     "output_type": "stream",
     "text": [
      "Ian_CON_C03_GEFS_f006_mem03\n"
     ]
    },
    {
     "data": {
      "application/vnd.jupyter.widget-view+json": {
       "model_id": "f94c03d0e61a47d58d772319fed3692a",
       "version_major": 2,
       "version_minor": 0
      },
      "text/plain": [
       "Files: 0/1 files | 00:00<?"
      ]
     },
     "metadata": {},
     "output_type": "display_data"
    },
    {
     "name": "stdout",
     "output_type": "stream",
     "text": [
      "Ian_CON_C03_GEFS_f006_mem04\n"
     ]
    },
    {
     "data": {
      "application/vnd.jupyter.widget-view+json": {
       "model_id": "6d2ea12978bc45c295aacf9fb4be42b9",
       "version_major": 2,
       "version_minor": 0
      },
      "text/plain": [
       "Files: 0/1 files | 00:00<?"
      ]
     },
     "metadata": {},
     "output_type": "display_data"
    },
    {
     "name": "stdout",
     "output_type": "stream",
     "text": [
      "Ian_CON_C03_GEFS_f006_mem05\n"
     ]
    },
    {
     "data": {
      "application/vnd.jupyter.widget-view+json": {
       "model_id": "d16221d9d99a4824974c5d09d95bd2c4",
       "version_major": 2,
       "version_minor": 0
      },
      "text/plain": [
       "Files: 0/1 files | 00:00<?"
      ]
     },
     "metadata": {},
     "output_type": "display_data"
    },
    {
     "name": "stdout",
     "output_type": "stream",
     "text": [
      "Ian_CON_C03_GEFS_f006_mem06\n"
     ]
    },
    {
     "data": {
      "application/vnd.jupyter.widget-view+json": {
       "model_id": "aacb3fcbfb654eb49bcdc5e7eadb0523",
       "version_major": 2,
       "version_minor": 0
      },
      "text/plain": [
       "Files: 0/1 files | 00:00<?"
      ]
     },
     "metadata": {},
     "output_type": "display_data"
    },
    {
     "name": "stdout",
     "output_type": "stream",
     "text": [
      "Ian_CON_C03_GEFS_f006_mem07\n"
     ]
    },
    {
     "data": {
      "application/vnd.jupyter.widget-view+json": {
       "model_id": "3413b1dc692d417fa1b12b5ae28bcf69",
       "version_major": 2,
       "version_minor": 0
      },
      "text/plain": [
       "Files: 0/1 files | 00:00<?"
      ]
     },
     "metadata": {},
     "output_type": "display_data"
    },
    {
     "name": "stdout",
     "output_type": "stream",
     "text": [
      "Ian_CON_C03_GEFS_f006_mem08\n"
     ]
    },
    {
     "data": {
      "application/vnd.jupyter.widget-view+json": {
       "model_id": "abcca4ddfc454099a2a5ad18ad8709cd",
       "version_major": 2,
       "version_minor": 0
      },
      "text/plain": [
       "Files: 0/1 files | 00:00<?"
      ]
     },
     "metadata": {},
     "output_type": "display_data"
    },
    {
     "name": "stdout",
     "output_type": "stream",
     "text": [
      "Ian_CON_C03_GEFS_f006_mem09\n"
     ]
    },
    {
     "data": {
      "application/vnd.jupyter.widget-view+json": {
       "model_id": "dd964b5e20654bedabdf6c369a674712",
       "version_major": 2,
       "version_minor": 0
      },
      "text/plain": [
       "Files: 0/1 files | 00:00<?"
      ]
     },
     "metadata": {},
     "output_type": "display_data"
    },
    {
     "name": "stdout",
     "output_type": "stream",
     "text": [
      "Ian_CON_C03_GEFS_f006_mem10\n"
     ]
    },
    {
     "data": {
      "application/vnd.jupyter.widget-view+json": {
       "model_id": "39cc553f90ec480b87ec3eee70a3ef32",
       "version_major": 2,
       "version_minor": 0
      },
      "text/plain": [
       "Files: 0/1 files | 00:00<?"
      ]
     },
     "metadata": {},
     "output_type": "display_data"
    },
    {
     "name": "stdout",
     "output_type": "stream",
     "text": [
      "Ian_CON_C03_GEFS_f006_mem11\n"
     ]
    },
    {
     "data": {
      "application/vnd.jupyter.widget-view+json": {
       "model_id": "9c17e34b8da64d6889d62664e9e67b97",
       "version_major": 2,
       "version_minor": 0
      },
      "text/plain": [
       "Files: 0/1 files | 00:00<?"
      ]
     },
     "metadata": {},
     "output_type": "display_data"
    },
    {
     "name": "stdout",
     "output_type": "stream",
     "text": [
      "Ian_CON_C03_GEFS_f006_mem12\n"
     ]
    },
    {
     "data": {
      "application/vnd.jupyter.widget-view+json": {
       "model_id": "d99ff08b57c74cb1a2dbd05fd0060365",
       "version_major": 2,
       "version_minor": 0
      },
      "text/plain": [
       "Files: 0/1 files | 00:00<?"
      ]
     },
     "metadata": {},
     "output_type": "display_data"
    },
    {
     "name": "stdout",
     "output_type": "stream",
     "text": [
      "Ian_CON_C03_GEFS_f006_mem13\n"
     ]
    },
    {
     "data": {
      "application/vnd.jupyter.widget-view+json": {
       "model_id": "e2eb792aa4984967a3f36667a035a0a8",
       "version_major": 2,
       "version_minor": 0
      },
      "text/plain": [
       "Files: 0/1 files | 00:00<?"
      ]
     },
     "metadata": {},
     "output_type": "display_data"
    },
    {
     "name": "stdout",
     "output_type": "stream",
     "text": [
      "Ian_CON_C03_GEFS_f006_mem14\n"
     ]
    },
    {
     "data": {
      "application/vnd.jupyter.widget-view+json": {
       "model_id": "aa0fb399cc5e48b0a1331c220f563fc9",
       "version_major": 2,
       "version_minor": 0
      },
      "text/plain": [
       "Files: 0/1 files | 00:00<?"
      ]
     },
     "metadata": {},
     "output_type": "display_data"
    },
    {
     "name": "stdout",
     "output_type": "stream",
     "text": [
      "Ian_CON_C03_GEFS_f006_mem15\n"
     ]
    },
    {
     "data": {
      "application/vnd.jupyter.widget-view+json": {
       "model_id": "31d9a05eea6f48ec8fe44e4c969ee2da",
       "version_major": 2,
       "version_minor": 0
      },
      "text/plain": [
       "Files: 0/1 files | 00:00<?"
      ]
     },
     "metadata": {},
     "output_type": "display_data"
    },
    {
     "name": "stdout",
     "output_type": "stream",
     "text": [
      "Ian_CON_C03_GEFS_f006_mem16\n"
     ]
    },
    {
     "data": {
      "application/vnd.jupyter.widget-view+json": {
       "model_id": "72d13eae9b9b4455b6b6e6ba1bdfeb5c",
       "version_major": 2,
       "version_minor": 0
      },
      "text/plain": [
       "Files: 0/1 files | 00:00<?"
      ]
     },
     "metadata": {},
     "output_type": "display_data"
    },
    {
     "name": "stdout",
     "output_type": "stream",
     "text": [
      "Ian_CON_C03_GEFS_f006_mem17\n"
     ]
    },
    {
     "data": {
      "application/vnd.jupyter.widget-view+json": {
       "model_id": "050dddf475a94cceac8f7297c1ccfbe5",
       "version_major": 2,
       "version_minor": 0
      },
      "text/plain": [
       "Files: 0/1 files | 00:00<?"
      ]
     },
     "metadata": {},
     "output_type": "display_data"
    },
    {
     "name": "stdout",
     "output_type": "stream",
     "text": [
      "Ian_CON_C03_GEFS_f006_mem18\n"
     ]
    },
    {
     "data": {
      "application/vnd.jupyter.widget-view+json": {
       "model_id": "47a4c5c0d9904ab6bd801b9abe0dce9e",
       "version_major": 2,
       "version_minor": 0
      },
      "text/plain": [
       "Files: 0/1 files | 00:00<?"
      ]
     },
     "metadata": {},
     "output_type": "display_data"
    },
    {
     "name": "stdout",
     "output_type": "stream",
     "text": [
      "Ian_CON_C03_GEFS_f006_mem19\n"
     ]
    },
    {
     "data": {
      "application/vnd.jupyter.widget-view+json": {
       "model_id": "9ad7d8623cb84312b18903904747479e",
       "version_major": 2,
       "version_minor": 0
      },
      "text/plain": [
       "Files: 0/1 files | 00:00<?"
      ]
     },
     "metadata": {},
     "output_type": "display_data"
    },
    {
     "name": "stdout",
     "output_type": "stream",
     "text": [
      "Ian_CON_C03_GEFS_f006_mem20\n"
     ]
    },
    {
     "data": {
      "application/vnd.jupyter.widget-view+json": {
       "model_id": "4b01a1a083c84ba8bdbaf16fa444058f",
       "version_major": 2,
       "version_minor": 0
      },
      "text/plain": [
       "Files: 0/1 files | 00:00<?"
      ]
     },
     "metadata": {},
     "output_type": "display_data"
    },
    {
     "name": "stdout",
     "output_type": "stream",
     "text": [
      "Ian_CON_C03_GEFS_f006_mem21\n"
     ]
    },
    {
     "data": {
      "application/vnd.jupyter.widget-view+json": {
       "model_id": "9bb7dad132d7430c82946f81aa4fe0d2",
       "version_major": 2,
       "version_minor": 0
      },
      "text/plain": [
       "Files: 0/1 files | 00:00<?"
      ]
     },
     "metadata": {},
     "output_type": "display_data"
    },
    {
     "name": "stdout",
     "output_type": "stream",
     "text": [
      "Ian_CON_C03_GEFS_f006_mem22\n"
     ]
    },
    {
     "data": {
      "application/vnd.jupyter.widget-view+json": {
       "model_id": "57a8009665d641aba747861243cab0fe",
       "version_major": 2,
       "version_minor": 0
      },
      "text/plain": [
       "Files: 0/1 files | 00:00<?"
      ]
     },
     "metadata": {},
     "output_type": "display_data"
    },
    {
     "name": "stdout",
     "output_type": "stream",
     "text": [
      "Ian_CON_C03_GEFS_f006_mem23\n"
     ]
    },
    {
     "data": {
      "application/vnd.jupyter.widget-view+json": {
       "model_id": "b91b4ef84dd042d68dea62156d6b0ed9",
       "version_major": 2,
       "version_minor": 0
      },
      "text/plain": [
       "Files: 0/1 files | 00:00<?"
      ]
     },
     "metadata": {},
     "output_type": "display_data"
    },
    {
     "name": "stdout",
     "output_type": "stream",
     "text": [
      "Ian_CON_C03_GEFS_f006_mem24\n"
     ]
    },
    {
     "data": {
      "application/vnd.jupyter.widget-view+json": {
       "model_id": "d8883b3cea1d4a328072402ea4b0feb4",
       "version_major": 2,
       "version_minor": 0
      },
      "text/plain": [
       "Files: 0/1 files | 00:00<?"
      ]
     },
     "metadata": {},
     "output_type": "display_data"
    },
    {
     "name": "stdout",
     "output_type": "stream",
     "text": [
      "Ian_CON_C03_GEFS_f006_mem25\n"
     ]
    },
    {
     "data": {
      "application/vnd.jupyter.widget-view+json": {
       "model_id": "9d1fe17f3fda49e693ddc3a952935494",
       "version_major": 2,
       "version_minor": 0
      },
      "text/plain": [
       "Files: 0/1 files | 00:00<?"
      ]
     },
     "metadata": {},
     "output_type": "display_data"
    },
    {
     "name": "stdout",
     "output_type": "stream",
     "text": [
      "Ian_CON_C03_GEFS_f006_mem26\n"
     ]
    },
    {
     "data": {
      "application/vnd.jupyter.widget-view+json": {
       "model_id": "00f301d33188406b8c9e9b5377bf3500",
       "version_major": 2,
       "version_minor": 0
      },
      "text/plain": [
       "Files: 0/1 files | 00:00<?"
      ]
     },
     "metadata": {},
     "output_type": "display_data"
    },
    {
     "name": "stdout",
     "output_type": "stream",
     "text": [
      "Ian_CON_C03_GEFS_f006_mem27\n"
     ]
    },
    {
     "data": {
      "application/vnd.jupyter.widget-view+json": {
       "model_id": "b0ceaa8742e448f89e58b0a12bf35f1b",
       "version_major": 2,
       "version_minor": 0
      },
      "text/plain": [
       "Files: 0/1 files | 00:00<?"
      ]
     },
     "metadata": {},
     "output_type": "display_data"
    },
    {
     "name": "stdout",
     "output_type": "stream",
     "text": [
      "Ian_CON_C03_GEFS_f006_mem28\n"
     ]
    },
    {
     "data": {
      "application/vnd.jupyter.widget-view+json": {
       "model_id": "9c9b2ef518064026979eb9e7b5c3cbaf",
       "version_major": 2,
       "version_minor": 0
      },
      "text/plain": [
       "Files: 0/1 files | 00:00<?"
      ]
     },
     "metadata": {},
     "output_type": "display_data"
    },
    {
     "name": "stdout",
     "output_type": "stream",
     "text": [
      "Ian_CON_C03_GEFS_f006_mem29\n"
     ]
    },
    {
     "data": {
      "application/vnd.jupyter.widget-view+json": {
       "model_id": "d0af41cd97ff45c883e3d91f7bdcb0bb",
       "version_major": 2,
       "version_minor": 0
      },
      "text/plain": [
       "Files: 0/1 files | 00:00<?"
      ]
     },
     "metadata": {},
     "output_type": "display_data"
    },
    {
     "name": "stdout",
     "output_type": "stream",
     "text": [
      "Ian_CON_C03_GEFS_f006_mem30\n"
     ]
    },
    {
     "data": {
      "application/vnd.jupyter.widget-view+json": {
       "model_id": "7547df84273943a8b866ea2bd8a7428e",
       "version_major": 2,
       "version_minor": 0
      },
      "text/plain": [
       "Files: 0/1 files | 00:00<?"
      ]
     },
     "metadata": {},
     "output_type": "display_data"
    },
    {
     "name": "stdout",
     "output_type": "stream",
     "text": [
      "Ian_CON_C03_GEFS_f012_mem01\n"
     ]
    },
    {
     "data": {
      "application/vnd.jupyter.widget-view+json": {
       "model_id": "deccef2bd93944d69eb39fc55fe9f4ca",
       "version_major": 2,
       "version_minor": 0
      },
      "text/plain": [
       "Files: 0/1 files | 00:00<?"
      ]
     },
     "metadata": {},
     "output_type": "display_data"
    },
    {
     "name": "stdout",
     "output_type": "stream",
     "text": [
      "Ian_CON_C03_GEFS_f012_mem02\n"
     ]
    },
    {
     "data": {
      "application/vnd.jupyter.widget-view+json": {
       "model_id": "6fbb0f83078b40649a6e2a0e0bbe5129",
       "version_major": 2,
       "version_minor": 0
      },
      "text/plain": [
       "Files: 0/1 files | 00:00<?"
      ]
     },
     "metadata": {},
     "output_type": "display_data"
    },
    {
     "name": "stdout",
     "output_type": "stream",
     "text": [
      "Ian_CON_C03_GEFS_f012_mem03\n"
     ]
    },
    {
     "data": {
      "application/vnd.jupyter.widget-view+json": {
       "model_id": "f4b2c66df20d49199a94476a668e5dd0",
       "version_major": 2,
       "version_minor": 0
      },
      "text/plain": [
       "Files: 0/1 files | 00:00<?"
      ]
     },
     "metadata": {},
     "output_type": "display_data"
    },
    {
     "name": "stdout",
     "output_type": "stream",
     "text": [
      "Ian_CON_C03_GEFS_f012_mem04\n"
     ]
    },
    {
     "data": {
      "application/vnd.jupyter.widget-view+json": {
       "model_id": "fee27f7925634450bb795c5e421a0850",
       "version_major": 2,
       "version_minor": 0
      },
      "text/plain": [
       "Files: 0/1 files | 00:00<?"
      ]
     },
     "metadata": {},
     "output_type": "display_data"
    },
    {
     "name": "stdout",
     "output_type": "stream",
     "text": [
      "Ian_CON_C03_GEFS_f012_mem05\n"
     ]
    },
    {
     "data": {
      "application/vnd.jupyter.widget-view+json": {
       "model_id": "c4635a0054ae44cc989a5d5a893ed5ee",
       "version_major": 2,
       "version_minor": 0
      },
      "text/plain": [
       "Files: 0/1 files | 00:00<?"
      ]
     },
     "metadata": {},
     "output_type": "display_data"
    },
    {
     "name": "stdout",
     "output_type": "stream",
     "text": [
      "Ian_CON_C03_GEFS_f012_mem06\n"
     ]
    },
    {
     "data": {
      "application/vnd.jupyter.widget-view+json": {
       "model_id": "b38af21854354edea5a3fcfe59514395",
       "version_major": 2,
       "version_minor": 0
      },
      "text/plain": [
       "Files: 0/1 files | 00:00<?"
      ]
     },
     "metadata": {},
     "output_type": "display_data"
    },
    {
     "name": "stdout",
     "output_type": "stream",
     "text": [
      "Ian_CON_C03_GEFS_f012_mem07\n"
     ]
    },
    {
     "data": {
      "application/vnd.jupyter.widget-view+json": {
       "model_id": "e7e1591ec78549c2ab7c377e941cef6a",
       "version_major": 2,
       "version_minor": 0
      },
      "text/plain": [
       "Files: 0/1 files | 00:00<?"
      ]
     },
     "metadata": {},
     "output_type": "display_data"
    },
    {
     "name": "stdout",
     "output_type": "stream",
     "text": [
      "Ian_CON_C03_GEFS_f012_mem08\n"
     ]
    },
    {
     "data": {
      "application/vnd.jupyter.widget-view+json": {
       "model_id": "1c36fe5409cc4f92976836262ba564ee",
       "version_major": 2,
       "version_minor": 0
      },
      "text/plain": [
       "Files: 0/1 files | 00:00<?"
      ]
     },
     "metadata": {},
     "output_type": "display_data"
    },
    {
     "name": "stdout",
     "output_type": "stream",
     "text": [
      "Ian_CON_C03_GEFS_f012_mem09\n"
     ]
    },
    {
     "data": {
      "application/vnd.jupyter.widget-view+json": {
       "model_id": "dcfa2104b6f2487b8bcf2a45122f3755",
       "version_major": 2,
       "version_minor": 0
      },
      "text/plain": [
       "Files: 0/1 files | 00:00<?"
      ]
     },
     "metadata": {},
     "output_type": "display_data"
    },
    {
     "name": "stdout",
     "output_type": "stream",
     "text": [
      "Ian_CON_C03_GEFS_f012_mem10\n"
     ]
    },
    {
     "data": {
      "application/vnd.jupyter.widget-view+json": {
       "model_id": "8448c521729f4ca59495977a9f58fb86",
       "version_major": 2,
       "version_minor": 0
      },
      "text/plain": [
       "Files: 0/1 files | 00:00<?"
      ]
     },
     "metadata": {},
     "output_type": "display_data"
    },
    {
     "name": "stdout",
     "output_type": "stream",
     "text": [
      "Ian_CON_C03_GEFS_f012_mem11\n"
     ]
    },
    {
     "data": {
      "application/vnd.jupyter.widget-view+json": {
       "model_id": "b476c488843f492ea05e74945d9ff8e7",
       "version_major": 2,
       "version_minor": 0
      },
      "text/plain": [
       "Files: 0/1 files | 00:00<?"
      ]
     },
     "metadata": {},
     "output_type": "display_data"
    },
    {
     "name": "stdout",
     "output_type": "stream",
     "text": [
      "Ian_CON_C03_GEFS_f012_mem12\n"
     ]
    },
    {
     "data": {
      "application/vnd.jupyter.widget-view+json": {
       "model_id": "37b2baadb9da4a1a9f4f44e94815544a",
       "version_major": 2,
       "version_minor": 0
      },
      "text/plain": [
       "Files: 0/1 files | 00:00<?"
      ]
     },
     "metadata": {},
     "output_type": "display_data"
    },
    {
     "name": "stdout",
     "output_type": "stream",
     "text": [
      "Ian_CON_C03_GEFS_f012_mem13\n"
     ]
    },
    {
     "data": {
      "application/vnd.jupyter.widget-view+json": {
       "model_id": "73efd0432aab4df8ae54eef208ee52ef",
       "version_major": 2,
       "version_minor": 0
      },
      "text/plain": [
       "Files: 0/1 files | 00:00<?"
      ]
     },
     "metadata": {},
     "output_type": "display_data"
    },
    {
     "name": "stdout",
     "output_type": "stream",
     "text": [
      "Ian_CON_C03_GEFS_f012_mem14\n"
     ]
    },
    {
     "data": {
      "application/vnd.jupyter.widget-view+json": {
       "model_id": "6002f0d832cf4f018eb2a6f180156467",
       "version_major": 2,
       "version_minor": 0
      },
      "text/plain": [
       "Files: 0/1 files | 00:00<?"
      ]
     },
     "metadata": {},
     "output_type": "display_data"
    },
    {
     "name": "stdout",
     "output_type": "stream",
     "text": [
      "Ian_CON_C03_GEFS_f012_mem15\n"
     ]
    },
    {
     "data": {
      "application/vnd.jupyter.widget-view+json": {
       "model_id": "e7145752cfdd41b485acbd64ff72e2fe",
       "version_major": 2,
       "version_minor": 0
      },
      "text/plain": [
       "Files: 0/1 files | 00:00<?"
      ]
     },
     "metadata": {},
     "output_type": "display_data"
    },
    {
     "name": "stdout",
     "output_type": "stream",
     "text": [
      "Ian_CON_C03_GEFS_f012_mem16\n",
      "Check wrfout files: False\n",
      "Ian_CON_C03_GEFS_f012_mem17\n",
      "Check wrfout files: False\n",
      "Ian_CON_C03_GEFS_f012_mem18\n",
      "Check wrfout files: False\n",
      "Ian_CON_C03_GEFS_f012_mem19\n",
      "Check wrfout files: False\n",
      "Ian_CON_C03_GEFS_f012_mem20\n",
      "Check wrfout files: False\n",
      "Ian_CON_C03_GEFS_f012_mem21\n",
      "Check wrfout files: False\n",
      "Ian_CON_C03_GEFS_f012_mem22\n",
      "Check wrfout files: False\n",
      "Ian_CON_C03_GEFS_f012_mem23\n",
      "Check wrfout files: False\n",
      "Ian_CON_C03_GEFS_f012_mem24\n",
      "Check wrfout files: False\n",
      "Ian_CON_C03_GEFS_f012_mem25\n",
      "Check wrfout files: False\n",
      "Ian_CON_C03_GEFS_f012_mem26\n",
      "Check wrfout files: False\n",
      "Ian_CON_C03_GEFS_f012_mem27\n",
      "Check wrfout files: False\n",
      "Ian_CON_C03_GEFS_f012_mem28\n",
      "Check wrfout files: False\n",
      "Ian_CON_C03_GEFS_f012_mem29\n",
      "Check wrfout files: False\n",
      "Ian_CON_C03_GEFS_f012_mem30\n",
      "Check wrfout files: False\n",
      "Ian_CON_C04_GEFS_f006_mem01\n"
     ]
    },
    {
     "data": {
      "application/vnd.jupyter.widget-view+json": {
       "model_id": "500d9d39a3764ff79288832717a7e4cb",
       "version_major": 2,
       "version_minor": 0
      },
      "text/plain": [
       "Files: 0/1 files | 00:00<?"
      ]
     },
     "metadata": {},
     "output_type": "display_data"
    },
    {
     "name": "stdout",
     "output_type": "stream",
     "text": [
      "Ian_CON_C04_GEFS_f006_mem02\n"
     ]
    },
    {
     "data": {
      "application/vnd.jupyter.widget-view+json": {
       "model_id": "74a6503e52654275993743d092c8a796",
       "version_major": 2,
       "version_minor": 0
      },
      "text/plain": [
       "Files: 0/1 files | 00:00<?"
      ]
     },
     "metadata": {},
     "output_type": "display_data"
    },
    {
     "name": "stdout",
     "output_type": "stream",
     "text": [
      "Ian_CON_C04_GEFS_f006_mem03\n"
     ]
    },
    {
     "data": {
      "application/vnd.jupyter.widget-view+json": {
       "model_id": "c6adc5a2df294c97a0259645310ab2ce",
       "version_major": 2,
       "version_minor": 0
      },
      "text/plain": [
       "Files: 0/1 files | 00:00<?"
      ]
     },
     "metadata": {},
     "output_type": "display_data"
    },
    {
     "name": "stdout",
     "output_type": "stream",
     "text": [
      "Ian_CON_C04_GEFS_f006_mem04\n"
     ]
    },
    {
     "data": {
      "application/vnd.jupyter.widget-view+json": {
       "model_id": "53fab8c879344dd6a826ab5ac8347b15",
       "version_major": 2,
       "version_minor": 0
      },
      "text/plain": [
       "Files: 0/1 files | 00:00<?"
      ]
     },
     "metadata": {},
     "output_type": "display_data"
    },
    {
     "name": "stdout",
     "output_type": "stream",
     "text": [
      "Ian_CON_C04_GEFS_f006_mem05\n"
     ]
    },
    {
     "data": {
      "application/vnd.jupyter.widget-view+json": {
       "model_id": "9d6668076858426699d513ef888b2714",
       "version_major": 2,
       "version_minor": 0
      },
      "text/plain": [
       "Files: 0/1 files | 00:00<?"
      ]
     },
     "metadata": {},
     "output_type": "display_data"
    },
    {
     "name": "stdout",
     "output_type": "stream",
     "text": [
      "Ian_CON_C04_GEFS_f006_mem06\n"
     ]
    },
    {
     "data": {
      "application/vnd.jupyter.widget-view+json": {
       "model_id": "9c42e6c33eec4be993c1a436af52c0a3",
       "version_major": 2,
       "version_minor": 0
      },
      "text/plain": [
       "Files: 0/1 files | 00:00<?"
      ]
     },
     "metadata": {},
     "output_type": "display_data"
    },
    {
     "name": "stdout",
     "output_type": "stream",
     "text": [
      "Ian_CON_C04_GEFS_f006_mem07\n"
     ]
    },
    {
     "data": {
      "application/vnd.jupyter.widget-view+json": {
       "model_id": "36da3b5fab484e6abc2ae975b3ed9b6e",
       "version_major": 2,
       "version_minor": 0
      },
      "text/plain": [
       "Files: 0/1 files | 00:00<?"
      ]
     },
     "metadata": {},
     "output_type": "display_data"
    },
    {
     "name": "stdout",
     "output_type": "stream",
     "text": [
      "Ian_CON_C04_GEFS_f006_mem08\n"
     ]
    },
    {
     "data": {
      "application/vnd.jupyter.widget-view+json": {
       "model_id": "bc2247b3e1d342059584a16c7b110a03",
       "version_major": 2,
       "version_minor": 0
      },
      "text/plain": [
       "Files: 0/1 files | 00:00<?"
      ]
     },
     "metadata": {},
     "output_type": "display_data"
    },
    {
     "name": "stdout",
     "output_type": "stream",
     "text": [
      "Ian_CON_C04_GEFS_f006_mem09\n"
     ]
    },
    {
     "data": {
      "application/vnd.jupyter.widget-view+json": {
       "model_id": "a63bbb9cd4974c32acc1b4d3109f6874",
       "version_major": 2,
       "version_minor": 0
      },
      "text/plain": [
       "Files: 0/1 files | 00:00<?"
      ]
     },
     "metadata": {},
     "output_type": "display_data"
    },
    {
     "name": "stdout",
     "output_type": "stream",
     "text": [
      "Ian_CON_C04_GEFS_f006_mem10\n"
     ]
    },
    {
     "data": {
      "application/vnd.jupyter.widget-view+json": {
       "model_id": "65a71760a4b544168778b81e992d9f1a",
       "version_major": 2,
       "version_minor": 0
      },
      "text/plain": [
       "Files: 0/1 files | 00:00<?"
      ]
     },
     "metadata": {},
     "output_type": "display_data"
    },
    {
     "name": "stdout",
     "output_type": "stream",
     "text": [
      "Ian_CON_C04_GEFS_f006_mem11\n"
     ]
    },
    {
     "data": {
      "application/vnd.jupyter.widget-view+json": {
       "model_id": "58d233c4c78646df9f820162a3342a37",
       "version_major": 2,
       "version_minor": 0
      },
      "text/plain": [
       "Files: 0/1 files | 00:00<?"
      ]
     },
     "metadata": {},
     "output_type": "display_data"
    },
    {
     "name": "stdout",
     "output_type": "stream",
     "text": [
      "Ian_CON_C04_GEFS_f006_mem12\n"
     ]
    },
    {
     "data": {
      "application/vnd.jupyter.widget-view+json": {
       "model_id": "d1b028321d684d8eb9a380f4dc1fd88f",
       "version_major": 2,
       "version_minor": 0
      },
      "text/plain": [
       "Files: 0/1 files | 00:00<?"
      ]
     },
     "metadata": {},
     "output_type": "display_data"
    },
    {
     "name": "stdout",
     "output_type": "stream",
     "text": [
      "Ian_CON_C04_GEFS_f006_mem13\n"
     ]
    },
    {
     "data": {
      "application/vnd.jupyter.widget-view+json": {
       "model_id": "f3a6b0a320924e1c8c4a9e3c7d5ace37",
       "version_major": 2,
       "version_minor": 0
      },
      "text/plain": [
       "Files: 0/1 files | 00:00<?"
      ]
     },
     "metadata": {},
     "output_type": "display_data"
    },
    {
     "name": "stdout",
     "output_type": "stream",
     "text": [
      "Ian_CON_C04_GEFS_f006_mem14\n"
     ]
    },
    {
     "data": {
      "application/vnd.jupyter.widget-view+json": {
       "model_id": "1463e27b0f5842e8b538ce80a9357d4b",
       "version_major": 2,
       "version_minor": 0
      },
      "text/plain": [
       "Files: 0/1 files | 00:00<?"
      ]
     },
     "metadata": {},
     "output_type": "display_data"
    },
    {
     "name": "stdout",
     "output_type": "stream",
     "text": [
      "Ian_CON_C04_GEFS_f006_mem15\n"
     ]
    },
    {
     "data": {
      "application/vnd.jupyter.widget-view+json": {
       "model_id": "b20c26667e7f45c190e2919cd1e0ae17",
       "version_major": 2,
       "version_minor": 0
      },
      "text/plain": [
       "Files: 0/1 files | 00:00<?"
      ]
     },
     "metadata": {},
     "output_type": "display_data"
    },
    {
     "name": "stdout",
     "output_type": "stream",
     "text": [
      "Ian_CON_C04_GEFS_f006_mem16\n"
     ]
    },
    {
     "data": {
      "application/vnd.jupyter.widget-view+json": {
       "model_id": "d9535e9c3e86437a8617ec1441118753",
       "version_major": 2,
       "version_minor": 0
      },
      "text/plain": [
       "Files: 0/1 files | 00:00<?"
      ]
     },
     "metadata": {},
     "output_type": "display_data"
    },
    {
     "name": "stdout",
     "output_type": "stream",
     "text": [
      "Ian_CON_C04_GEFS_f006_mem17\n"
     ]
    },
    {
     "data": {
      "application/vnd.jupyter.widget-view+json": {
       "model_id": "d465c96e25eb4483ad18e59a09aa323d",
       "version_major": 2,
       "version_minor": 0
      },
      "text/plain": [
       "Files: 0/1 files | 00:00<?"
      ]
     },
     "metadata": {},
     "output_type": "display_data"
    },
    {
     "name": "stdout",
     "output_type": "stream",
     "text": [
      "Ian_CON_C04_GEFS_f006_mem18\n"
     ]
    },
    {
     "data": {
      "application/vnd.jupyter.widget-view+json": {
       "model_id": "2e42cc13c9854a7f873854c999b1e688",
       "version_major": 2,
       "version_minor": 0
      },
      "text/plain": [
       "Files: 0/1 files | 00:00<?"
      ]
     },
     "metadata": {},
     "output_type": "display_data"
    },
    {
     "name": "stdout",
     "output_type": "stream",
     "text": [
      "Ian_CON_C04_GEFS_f006_mem19\n"
     ]
    },
    {
     "data": {
      "application/vnd.jupyter.widget-view+json": {
       "model_id": "0916fba01bef404db08166c782d76758",
       "version_major": 2,
       "version_minor": 0
      },
      "text/plain": [
       "Files: 0/1 files | 00:00<?"
      ]
     },
     "metadata": {},
     "output_type": "display_data"
    },
    {
     "name": "stdout",
     "output_type": "stream",
     "text": [
      "Ian_CON_C04_GEFS_f006_mem20\n"
     ]
    },
    {
     "data": {
      "application/vnd.jupyter.widget-view+json": {
       "model_id": "533ccbb7a06e4102b8f29b88b7b7b08a",
       "version_major": 2,
       "version_minor": 0
      },
      "text/plain": [
       "Files: 0/1 files | 00:00<?"
      ]
     },
     "metadata": {},
     "output_type": "display_data"
    },
    {
     "name": "stdout",
     "output_type": "stream",
     "text": [
      "Ian_CON_C04_GEFS_f006_mem21\n"
     ]
    },
    {
     "data": {
      "application/vnd.jupyter.widget-view+json": {
       "model_id": "6211a55312a7454bbe97f1dfa225ae99",
       "version_major": 2,
       "version_minor": 0
      },
      "text/plain": [
       "Files: 0/1 files | 00:00<?"
      ]
     },
     "metadata": {},
     "output_type": "display_data"
    },
    {
     "name": "stdout",
     "output_type": "stream",
     "text": [
      "Ian_CON_C04_GEFS_f006_mem22\n"
     ]
    },
    {
     "data": {
      "application/vnd.jupyter.widget-view+json": {
       "model_id": "d65f0cd75cdf41a3a6f878ad254f2b64",
       "version_major": 2,
       "version_minor": 0
      },
      "text/plain": [
       "Files: 0/1 files | 00:00<?"
      ]
     },
     "metadata": {},
     "output_type": "display_data"
    },
    {
     "name": "stdout",
     "output_type": "stream",
     "text": [
      "Ian_CON_C04_GEFS_f006_mem23\n"
     ]
    },
    {
     "data": {
      "application/vnd.jupyter.widget-view+json": {
       "model_id": "e199aaac259e4138aa5f69b7a26ffdce",
       "version_major": 2,
       "version_minor": 0
      },
      "text/plain": [
       "Files: 0/1 files | 00:00<?"
      ]
     },
     "metadata": {},
     "output_type": "display_data"
    },
    {
     "name": "stdout",
     "output_type": "stream",
     "text": [
      "Ian_CON_C04_GEFS_f006_mem24\n"
     ]
    },
    {
     "data": {
      "application/vnd.jupyter.widget-view+json": {
       "model_id": "19a1f9b2794f4c198cc570bfd592c652",
       "version_major": 2,
       "version_minor": 0
      },
      "text/plain": [
       "Files: 0/1 files | 00:00<?"
      ]
     },
     "metadata": {},
     "output_type": "display_data"
    },
    {
     "name": "stdout",
     "output_type": "stream",
     "text": [
      "Ian_CON_C04_GEFS_f006_mem25\n"
     ]
    },
    {
     "data": {
      "application/vnd.jupyter.widget-view+json": {
       "model_id": "2c6c2571acb8425ead4277c6df682423",
       "version_major": 2,
       "version_minor": 0
      },
      "text/plain": [
       "Files: 0/1 files | 00:00<?"
      ]
     },
     "metadata": {},
     "output_type": "display_data"
    },
    {
     "name": "stdout",
     "output_type": "stream",
     "text": [
      "Ian_CON_C04_GEFS_f006_mem26\n"
     ]
    },
    {
     "data": {
      "application/vnd.jupyter.widget-view+json": {
       "model_id": "ed40f8c5b09141f897c12e784c7b98ba",
       "version_major": 2,
       "version_minor": 0
      },
      "text/plain": [
       "Files: 0/1 files | 00:00<?"
      ]
     },
     "metadata": {},
     "output_type": "display_data"
    },
    {
     "name": "stdout",
     "output_type": "stream",
     "text": [
      "Ian_CON_C04_GEFS_f006_mem27\n"
     ]
    },
    {
     "data": {
      "application/vnd.jupyter.widget-view+json": {
       "model_id": "3fc6f95def91404aa3496b72d863079d",
       "version_major": 2,
       "version_minor": 0
      },
      "text/plain": [
       "Files: 0/1 files | 00:00<?"
      ]
     },
     "metadata": {},
     "output_type": "display_data"
    },
    {
     "name": "stdout",
     "output_type": "stream",
     "text": [
      "Ian_CON_C04_GEFS_f006_mem28\n"
     ]
    },
    {
     "data": {
      "application/vnd.jupyter.widget-view+json": {
       "model_id": "ab4255897d9141ad8f97a46f3d31ae4b",
       "version_major": 2,
       "version_minor": 0
      },
      "text/plain": [
       "Files: 0/1 files | 00:00<?"
      ]
     },
     "metadata": {},
     "output_type": "display_data"
    },
    {
     "name": "stdout",
     "output_type": "stream",
     "text": [
      "Ian_CON_C04_GEFS_f006_mem29\n"
     ]
    },
    {
     "data": {
      "application/vnd.jupyter.widget-view+json": {
       "model_id": "c15f4b11b3924b629a6119201eb1d2b7",
       "version_major": 2,
       "version_minor": 0
      },
      "text/plain": [
       "Files: 0/1 files | 00:00<?"
      ]
     },
     "metadata": {},
     "output_type": "display_data"
    },
    {
     "name": "stdout",
     "output_type": "stream",
     "text": [
      "Ian_CON_C04_GEFS_f006_mem30\n"
     ]
    },
    {
     "data": {
      "application/vnd.jupyter.widget-view+json": {
       "model_id": "8da60a1dc0b74bdb83c5ce7d8cadab97",
       "version_major": 2,
       "version_minor": 0
      },
      "text/plain": [
       "Files: 0/1 files | 00:00<?"
      ]
     },
     "metadata": {},
     "output_type": "display_data"
    },
    {
     "name": "stdout",
     "output_type": "stream",
     "text": [
      "Ian_CON_C04_GEFS_f012_mem01\n"
     ]
    },
    {
     "data": {
      "application/vnd.jupyter.widget-view+json": {
       "model_id": "ac437fd964424be4aadadf5fe0a84d3c",
       "version_major": 2,
       "version_minor": 0
      },
      "text/plain": [
       "Files: 0/1 files | 00:00<?"
      ]
     },
     "metadata": {},
     "output_type": "display_data"
    },
    {
     "name": "stdout",
     "output_type": "stream",
     "text": [
      "Ian_CON_C04_GEFS_f012_mem02\n"
     ]
    },
    {
     "data": {
      "application/vnd.jupyter.widget-view+json": {
       "model_id": "3b19c35535cc4314a2b0288ed44a66cd",
       "version_major": 2,
       "version_minor": 0
      },
      "text/plain": [
       "Files: 0/1 files | 00:00<?"
      ]
     },
     "metadata": {},
     "output_type": "display_data"
    },
    {
     "name": "stdout",
     "output_type": "stream",
     "text": [
      "Ian_CON_C04_GEFS_f012_mem03\n"
     ]
    },
    {
     "data": {
      "application/vnd.jupyter.widget-view+json": {
       "model_id": "37ddf973bcb44323a8e44992ed83ec8a",
       "version_major": 2,
       "version_minor": 0
      },
      "text/plain": [
       "Files: 0/1 files | 00:00<?"
      ]
     },
     "metadata": {},
     "output_type": "display_data"
    },
    {
     "name": "stdout",
     "output_type": "stream",
     "text": [
      "Ian_CON_C04_GEFS_f012_mem04\n"
     ]
    },
    {
     "data": {
      "application/vnd.jupyter.widget-view+json": {
       "model_id": "c4a59b74a8574e85b026d6de7a632191",
       "version_major": 2,
       "version_minor": 0
      },
      "text/plain": [
       "Files: 0/1 files | 00:00<?"
      ]
     },
     "metadata": {},
     "output_type": "display_data"
    },
    {
     "name": "stdout",
     "output_type": "stream",
     "text": [
      "Ian_CON_C04_GEFS_f012_mem05\n"
     ]
    },
    {
     "data": {
      "application/vnd.jupyter.widget-view+json": {
       "model_id": "27c6634f530d4449a92c370c5de303b8",
       "version_major": 2,
       "version_minor": 0
      },
      "text/plain": [
       "Files: 0/1 files | 00:00<?"
      ]
     },
     "metadata": {},
     "output_type": "display_data"
    },
    {
     "name": "stdout",
     "output_type": "stream",
     "text": [
      "Ian_CON_C04_GEFS_f012_mem06\n"
     ]
    },
    {
     "data": {
      "application/vnd.jupyter.widget-view+json": {
       "model_id": "c1d2bd03865f4af5803bcd58a1d8d712",
       "version_major": 2,
       "version_minor": 0
      },
      "text/plain": [
       "Files: 0/1 files | 00:00<?"
      ]
     },
     "metadata": {},
     "output_type": "display_data"
    },
    {
     "name": "stdout",
     "output_type": "stream",
     "text": [
      "Ian_CON_C04_GEFS_f012_mem07\n"
     ]
    },
    {
     "data": {
      "application/vnd.jupyter.widget-view+json": {
       "model_id": "1b8263d32752482ebc8f2b32563bee07",
       "version_major": 2,
       "version_minor": 0
      },
      "text/plain": [
       "Files: 0/1 files | 00:00<?"
      ]
     },
     "metadata": {},
     "output_type": "display_data"
    },
    {
     "name": "stdout",
     "output_type": "stream",
     "text": [
      "Ian_CON_C04_GEFS_f012_mem08\n"
     ]
    },
    {
     "data": {
      "application/vnd.jupyter.widget-view+json": {
       "model_id": "6f255e822d70415f9f72741225a9f752",
       "version_major": 2,
       "version_minor": 0
      },
      "text/plain": [
       "Files: 0/1 files | 00:00<?"
      ]
     },
     "metadata": {},
     "output_type": "display_data"
    },
    {
     "name": "stdout",
     "output_type": "stream",
     "text": [
      "Ian_CON_C04_GEFS_f012_mem09\n"
     ]
    },
    {
     "data": {
      "application/vnd.jupyter.widget-view+json": {
       "model_id": "1b08fcdafa0f4423b479f13f6cbd7437",
       "version_major": 2,
       "version_minor": 0
      },
      "text/plain": [
       "Files: 0/1 files | 00:00<?"
      ]
     },
     "metadata": {},
     "output_type": "display_data"
    },
    {
     "name": "stdout",
     "output_type": "stream",
     "text": [
      "Ian_CON_C04_GEFS_f012_mem10\n"
     ]
    },
    {
     "data": {
      "application/vnd.jupyter.widget-view+json": {
       "model_id": "af149ba49778400391b60c0555a14256",
       "version_major": 2,
       "version_minor": 0
      },
      "text/plain": [
       "Files: 0/1 files | 00:00<?"
      ]
     },
     "metadata": {},
     "output_type": "display_data"
    },
    {
     "name": "stdout",
     "output_type": "stream",
     "text": [
      "Ian_CON_C04_GEFS_f012_mem11\n"
     ]
    },
    {
     "data": {
      "application/vnd.jupyter.widget-view+json": {
       "model_id": "9b8639e4be994d0ebea2fe7b4fbdafee",
       "version_major": 2,
       "version_minor": 0
      },
      "text/plain": [
       "Files: 0/1 files | 00:00<?"
      ]
     },
     "metadata": {},
     "output_type": "display_data"
    },
    {
     "name": "stdout",
     "output_type": "stream",
     "text": [
      "Ian_CON_C04_GEFS_f012_mem12\n"
     ]
    },
    {
     "data": {
      "application/vnd.jupyter.widget-view+json": {
       "model_id": "0e745cee46da438fb869bd6d5b4bd614",
       "version_major": 2,
       "version_minor": 0
      },
      "text/plain": [
       "Files: 0/1 files | 00:00<?"
      ]
     },
     "metadata": {},
     "output_type": "display_data"
    },
    {
     "name": "stdout",
     "output_type": "stream",
     "text": [
      "Ian_CON_C04_GEFS_f012_mem13\n"
     ]
    },
    {
     "data": {
      "application/vnd.jupyter.widget-view+json": {
       "model_id": "c5d200887d28472184bfc9d0fa192290",
       "version_major": 2,
       "version_minor": 0
      },
      "text/plain": [
       "Files: 0/1 files | 00:00<?"
      ]
     },
     "metadata": {},
     "output_type": "display_data"
    },
    {
     "name": "stdout",
     "output_type": "stream",
     "text": [
      "Ian_CON_C04_GEFS_f012_mem14\n"
     ]
    },
    {
     "data": {
      "application/vnd.jupyter.widget-view+json": {
       "model_id": "0eb13de7c59444d0aff81a0d8d453c8c",
       "version_major": 2,
       "version_minor": 0
      },
      "text/plain": [
       "Files: 0/1 files | 00:00<?"
      ]
     },
     "metadata": {},
     "output_type": "display_data"
    },
    {
     "name": "stdout",
     "output_type": "stream",
     "text": [
      "Ian_CON_C04_GEFS_f012_mem15\n"
     ]
    },
    {
     "data": {
      "application/vnd.jupyter.widget-view+json": {
       "model_id": "dd4b5a0116d64d1182a44a5072e00283",
       "version_major": 2,
       "version_minor": 0
      },
      "text/plain": [
       "Files: 0/1 files | 00:00<?"
      ]
     },
     "metadata": {},
     "output_type": "display_data"
    },
    {
     "name": "stdout",
     "output_type": "stream",
     "text": [
      "Ian_CON_C04_GEFS_f012_mem16\n",
      "Check wrfout files: False\n",
      "Ian_CON_C04_GEFS_f012_mem17\n",
      "Check wrfout files: False\n",
      "Ian_CON_C04_GEFS_f012_mem18\n",
      "Check wrfout files: False\n",
      "Ian_CON_C04_GEFS_f012_mem19\n",
      "Check wrfout files: False\n",
      "Ian_CON_C04_GEFS_f012_mem20\n",
      "Check wrfout files: False\n",
      "Ian_CON_C04_GEFS_f012_mem21\n",
      "Check wrfout files: False\n",
      "Ian_CON_C04_GEFS_f012_mem22\n",
      "Check wrfout files: False\n",
      "Ian_CON_C04_GEFS_f012_mem23\n",
      "Check wrfout files: False\n",
      "Ian_CON_C04_GEFS_f012_mem24\n",
      "Check wrfout files: False\n",
      "Ian_CON_C04_GEFS_f012_mem25\n",
      "Check wrfout files: False\n",
      "Ian_CON_C04_GEFS_f012_mem26\n",
      "Check wrfout files: False\n",
      "Ian_CON_C04_GEFS_f012_mem27\n",
      "Check wrfout files: False\n",
      "Ian_CON_C04_GEFS_f012_mem28\n",
      "Check wrfout files: False\n",
      "Ian_CON_C04_GEFS_f012_mem29\n",
      "Check wrfout files: False\n",
      "Ian_CON_C04_GEFS_f012_mem30\n",
      "Check wrfout files: False\n"
     ]
    }
   ],
   "source": [
    "from generate_gefs_ensembles import move_wrf_forecast_gefs\n",
    "\n",
    "move_wrf_forecast_gefs(data_library_name='cpex',\n",
    "                       dir_case='/08_CPEX/01_CV_RF07_AEW06_IAN',\n",
    "                       case_name='Ian',\n",
    "                       exp_name='CON')"
   ]
  },
  {
   "cell_type": "code",
   "execution_count": null,
   "id": "d5bcccb6-bcd5-48d1-93b2-d0c51cfe8767",
   "metadata": {},
   "outputs": [],
   "source": []
  }
 ],
 "metadata": {
  "kernelspec": {
   "display_name": "Python 3 (ipykernel)",
   "language": "python",
   "name": "python3"
  },
  "language_info": {
   "codemirror_mode": {
    "name": "ipython",
    "version": 3
   },
   "file_extension": ".py",
   "mimetype": "text/x-python",
   "name": "python",
   "nbconvert_exporter": "python",
   "pygments_lexer": "ipython3",
   "version": "3.10.9"
  }
 },
 "nbformat": 4,
 "nbformat_minor": 5
}
