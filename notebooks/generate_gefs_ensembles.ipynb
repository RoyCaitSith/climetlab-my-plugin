{
 "cells": [
  {
   "attachments": {},
   "cell_type": "markdown",
   "id": "39aaed1c-258f-4d75-aae6-0503f962777b",
   "metadata": {},
   "source": [
    "# Download GEFS Ensemble Forecasts"
   ]
  },
  {
   "cell_type": "code",
   "execution_count": null,
   "id": "d916ede8-7c68-4b12-945a-f7229a1bec05",
   "metadata": {},
   "outputs": [],
   "source": [
    "from generate_gefs_ensembles import download_gefs_ensemble\n",
    "\n",
    "download_gefs_ensemble(data_library_name='cpex',\n",
    "                       dir_case='/CPEX/08_CV_RF03_AEW04',\n",
    "                       case_name='AEW04')"
   ]
  },
  {
   "attachments": {},
   "cell_type": "markdown",
   "id": "378129ce-4171-43ab-b0b0-38cce57c277b",
   "metadata": {},
   "source": [
    "# Generate 60 Members Ensemble Forecasts Using GEFS Data"
   ]
  },
  {
   "cell_type": "code",
   "execution_count": null,
   "id": "96364166-38df-44d1-b324-b52bc0f80750",
   "metadata": {},
   "outputs": [],
   "source": [
    "# from generate_gefs_ensembles import run_wps_and_real_gefs\n",
    "\n",
    "# run_wps_and_real_gefs(data_library_name='cpex',\n",
    "#                       dir_case='/CPEX/06_CV_RF01_AEW03',\n",
    "#                       case_name='AEW03',\n",
    "#                       ref_exp_name='CTRL',\n",
    "#                       wps_version='WPS-4.4',\n",
    "#                       whether_wait=False, nodes=1, ntasks=32, account='zpu-np', partition='zpu-np')"
   ]
  },
  {
   "cell_type": "code",
   "execution_count": null,
   "id": "7e7e8487-09a7-419f-881c-e4c2f28c0b04",
   "metadata": {},
   "outputs": [],
   "source": [
    "# from generate_gefs_ensembles import run_wrf_forecast_gefs\n",
    "\n",
    "# run_wrf_forecast_gefs(data_library_name='cpex',\n",
    "#                       dir_case='/CPEX/06_CV_RF01_AEW03',\n",
    "#                       case_name='AEW03',\n",
    "#                       whether_wait=False, nodes=1, ntasks=32, account='zpu-np', partition='zpu-np')"
   ]
  },
  {
   "cell_type": "code",
   "execution_count": null,
   "id": "d54b05ff-c4f5-4a3e-95f4-320af4d00eca",
   "metadata": {},
   "outputs": [],
   "source": [
    "# from generate_gefs_ensembles import move_wrf_forecast_gefs\n",
    "\n",
    "# move_wrf_forecast_gefs(data_library_name='cpex',\n",
    "#                        dir_case='/CPEX/03_AW_RF02_AEW02',\n",
    "#                        case_name='AEW02')"
   ]
  },
  {
   "cell_type": "code",
   "execution_count": null,
   "id": "d5bcccb6-bcd5-48d1-93b2-d0c51cfe8767",
   "metadata": {},
   "outputs": [],
   "source": []
  }
 ],
 "metadata": {
  "kernelspec": {
   "display_name": "Python 3 (ipykernel)",
   "language": "python",
   "name": "python3"
  },
  "language_info": {
   "codemirror_mode": {
    "name": "ipython",
    "version": 3
   },
   "file_extension": ".py",
   "mimetype": "text/x-python",
   "name": "python",
   "nbconvert_exporter": "python",
   "pygments_lexer": "ipython3",
   "version": "3.9.18"
  }
 },
 "nbformat": 4,
 "nbformat_minor": 5
}
