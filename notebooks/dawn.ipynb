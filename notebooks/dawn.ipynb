{
 "cells": [
  {
   "attachments": {},
   "cell_type": "markdown",
   "id": "0a98ed75-a6bf-48d4-9f7d-4feb289d7271",
   "metadata": {},
   "source": [
    "# Create bufr temp files for DAWN"
   ]
  },
  {
   "cell_type": "code",
   "execution_count": null,
   "id": "74fe7392-9d6c-423b-92f1-ca71c54fc550",
   "metadata": {},
   "outputs": [],
   "source": [
    "from dawn import create_DAWN_bufr_temp\n",
    "\n",
    "create_DAWN_bufr_temp(data_library_name='cpex',\n",
    "                      dir_case='/08_CPEX/04_AW_RF07_Larry',\n",
    "                      case_name='Larry')"
   ]
  },
  {
   "attachments": {},
   "cell_type": "markdown",
   "id": "757823b6",
   "metadata": {},
   "source": [
    "# Create bufr for DAWN"
   ]
  },
  {
   "cell_type": "code",
   "execution_count": null,
   "id": "eb1b4545",
   "metadata": {},
   "outputs": [],
   "source": [
    "from dawn import create_DAWN_bufr\n",
    "\n",
    "create_DAWN_bufr(data_library_name='cpex',\n",
    "                 dir_case='/08_CPEX/04_AW_RF07_Larry',\n",
    "                 case_name='Larry')"
   ]
  },
  {
   "cell_type": "code",
   "execution_count": null,
   "id": "c02c6f2b",
   "metadata": {},
   "outputs": [],
   "source": []
  }
 ],
 "metadata": {
  "kernelspec": {
   "display_name": "Python 3 (ipykernel)",
   "language": "python",
   "name": "python3"
  },
  "language_info": {
   "codemirror_mode": {
    "name": "ipython",
    "version": 3
   },
   "file_extension": ".py",
   "mimetype": "text/x-python",
   "name": "python",
   "nbconvert_exporter": "python",
   "pygments_lexer": "ipython3",
   "version": "3.10.9"
  }
 },
 "nbformat": 4,
 "nbformat_minor": 5
}
