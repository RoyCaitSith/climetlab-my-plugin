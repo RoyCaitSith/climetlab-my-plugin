{
 "cells": [
  {
   "attachments": {},
   "cell_type": "markdown",
   "id": "0a98ed75-a6bf-48d4-9f7d-4feb289d7271",
   "metadata": {},
   "source": [
    "# DAWN"
   ]
  },
  {
   "cell_type": "code",
   "execution_count": 1,
   "id": "74fe7392-9d6c-423b-92f1-ca71c54fc550",
   "metadata": {},
   "outputs": [
    {
     "data": {
      "application/vnd.jupyter.widget-view+json": {
       "model_id": "a1fb3755a3de414e8799b10850d9b3ba",
       "version_major": 2,
       "version_minor": 0
      },
      "text/plain": [
       "Cycles: 0/4 files | 00:00<?"
      ]
     },
     "metadata": {},
     "output_type": "display_data"
    },
    {
     "name": "stdout",
     "output_type": "stream",
     "text": [
      "[nan nan nan ... nan nan nan]\n",
      "[[nan nan nan ... nan nan nan]]\n",
      "(415338,)\n"
     ]
    },
    {
     "ename": "NameError",
     "evalue": "name 'miao' is not defined",
     "output_type": "error",
     "traceback": [
      "\u001b[0;31m---------------------------------------------------------------------------\u001b[0m",
      "\u001b[0;31mNameError\u001b[0m                                 Traceback (most recent call last)",
      "Cell \u001b[0;32mIn[1], line 3\u001b[0m\n\u001b[1;32m      1\u001b[0m \u001b[39mfrom\u001b[39;00m \u001b[39mdawn\u001b[39;00m \u001b[39mimport\u001b[39;00m create_DAWN_stream_cv\n\u001b[0;32m----> 3\u001b[0m create_DAWN_stream_cv(data_library_name\u001b[39m=\u001b[39;49m\u001b[39m'\u001b[39;49m\u001b[39mcpex\u001b[39;49m\u001b[39m'\u001b[39;49m,\n\u001b[1;32m      4\u001b[0m                       dir_case\u001b[39m=\u001b[39;49m\u001b[39m'\u001b[39;49m\u001b[39m/08_CPEX/01_CV_RF07_AEW06_IAN\u001b[39;49m\u001b[39m'\u001b[39;49m,\n\u001b[1;32m      5\u001b[0m                       case_name\u001b[39m=\u001b[39;49m\u001b[39m'\u001b[39;49m\u001b[39mIan\u001b[39;49m\u001b[39m'\u001b[39;49m)\n",
      "File \u001b[0;32m~/climetlab-my-plugin/functions/dawn.py:84\u001b[0m, in \u001b[0;36mcreate_DAWN_stream_cv\u001b[0;34m(data_library_name, dir_case, case_name)\u001b[0m\n\u001b[1;32m     82\u001b[0m \u001b[39mprint\u001b[39m(DAWN_wind_speed[index])         \n\u001b[1;32m     83\u001b[0m \u001b[39mprint\u001b[39m(DAWN_altitude\u001b[39m.\u001b[39mshape)\n\u001b[0;32m---> 84\u001b[0m \u001b[39mprint\u001b[39m(miao)\n",
      "\u001b[0;31mNameError\u001b[0m: name 'miao' is not defined"
     ]
    }
   ],
   "source": [
    "from dawn import create_DAWN_stream_cv\n",
    "\n",
    "create_DAWN_stream_cv(data_library_name='cpex',\n",
    "                      dir_case='/08_CPEX/01_CV_RF07_AEW06_IAN',\n",
    "                      case_name='Ian')"
   ]
  },
  {
   "cell_type": "code",
   "execution_count": null,
   "id": "eb1b4545",
   "metadata": {},
   "outputs": [],
   "source": []
  }
 ],
 "metadata": {
  "kernelspec": {
   "display_name": "Python 3 (ipykernel)",
   "language": "python",
   "name": "python3"
  },
  "language_info": {
   "codemirror_mode": {
    "name": "ipython",
    "version": 3
   },
   "file_extension": ".py",
   "mimetype": "text/x-python",
   "name": "python",
   "nbconvert_exporter": "python",
   "pygments_lexer": "ipython3",
   "version": "3.10.9"
  }
 },
 "nbformat": 4,
 "nbformat_minor": 5
}
