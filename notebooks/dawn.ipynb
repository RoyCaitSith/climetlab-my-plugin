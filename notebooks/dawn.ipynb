{
 "cells": [
  {
   "cell_type": "code",
   "execution_count": null,
   "metadata": {},
   "outputs": [],
   "source": [
    "import sys\n",
    "sys.path.insert(0, \"/uufs/chpc.utah.edu/common/home/u1237353/climetlab-my-plugin/functions\")"
   ]
  },
  {
   "attachments": {},
   "cell_type": "markdown",
   "id": "0a98ed75-a6bf-48d4-9f7d-4feb289d7271",
   "metadata": {},
   "source": [
    "# Create bufr temp files for DAWN"
   ]
  },
  {
   "cell_type": "code",
   "execution_count": null,
   "id": "74fe7392-9d6c-423b-92f1-ca71c54fc550",
   "metadata": {},
   "outputs": [],
   "source": [
    "from dawn import create_DAWN_bufr_temp\n",
    "\n",
    "create_DAWN_bufr_temp(data_library_name='cpex',\n",
    "                      dir_case='/CPEX/09_CV_RF04_AEW04',\n",
    "                      case_name='AEW04')"
   ]
  },
  {
   "attachments": {},
   "cell_type": "markdown",
   "id": "757823b6",
   "metadata": {},
   "source": [
    "# Create bufr for DAWN"
   ]
  },
  {
   "cell_type": "code",
   "execution_count": null,
   "id": "eb1b4545",
   "metadata": {},
   "outputs": [],
   "source": [
    "# from dawn import create_DAWN_bufr\n",
    "\n",
    "# create_DAWN_bufr(data_library_name='cpex',\n",
    "#                  dir_case='/CPEX/05_CV_RF07_AEW06',\n",
    "#                  case_name='AEW06')"
   ]
  },
  {
   "cell_type": "markdown",
   "id": "cebc6028",
   "metadata": {},
   "source": [
    "# Interpolation of WRF data"
   ]
  },
  {
   "cell_type": "code",
   "execution_count": null,
   "id": "32c4c7a3",
   "metadata": {},
   "outputs": [],
   "source": [
    "# from dawn import wrf_extract_DAWN\n",
    "\n",
    "# n_exp_name = 4\n",
    "# wrf_extract_DAWN(data_library_names=['cpex']*n_exp_name,\n",
    "#                  dir_cases=['/08_CPEX/01_CV_RF07_AEW06_IAN']*n_exp_name,\n",
    "#                  case_names=['Ian']*n_exp_name,\n",
    "#                  exp_names=['HALO_OE10', 'HALO_OE15', 'HALO_OE25', 'HALO_OE30'])"
   ]
  },
  {
   "cell_type": "markdown",
   "id": "9d42782c",
   "metadata": {},
   "source": [
    "# Compare Observation and Analysis"
   ]
  },
  {
   "cell_type": "code",
   "execution_count": null,
   "id": "c0bb1794",
   "metadata": {},
   "outputs": [],
   "source": [
    "# from dawn import draw_DAWN_comparison\n",
    "\n",
    "# n_exp_names = 9\n",
    "# data_library_names = ['cpex']*n_exp_names\n",
    "# dir_cases = ['/08_CPEX/01_CV_RF07_AEW06_IAN']*n_exp_names\n",
    "# case_names = ['Ian']*n_exp_names\n",
    "# exp_names = ['CTRL', 'CONV', 'DAWN', 'DAWN_HALO', 'HALO_OE10', 'HALO_OE15', 'HALO', 'HALO_OE25', 'HALO_OE30']\n",
    "\n",
    "# draw_DAWN_comparison(data_library_names=data_library_names,\n",
    "#                      dir_cases=dir_cases,\n",
    "#                      case_names=case_names,\n",
    "#                      exp_names=exp_names,\n",
    "#                      scatter_var='v_OmA', scatter_levels=range(-6, 7, 2),\n",
    "#                      domains=['d01'], da_cycle=4, var_time=20220916180000)"
   ]
  },
  {
   "cell_type": "code",
   "execution_count": null,
   "id": "1038cce7",
   "metadata": {},
   "outputs": [],
   "source": [
    "# from dawn import draw_DAWN_comparison\n",
    "\n",
    "# n_exp_names = 5\n",
    "# data_library_names = ['cpex']*n_exp_names\n",
    "# dir_cases = ['/08_CPEX/01_CV_RF07_AEW06_IAN']*n_exp_names\n",
    "# case_names = ['Ian']*n_exp_names\n",
    "# exp_names = ['CTRL', 'CONV', 'DAWN', 'HALO', 'DAWN_HALO']\n",
    "\n",
    "# draw_DAWN_comparison(data_library_names=data_library_names,\n",
    "#                      dir_cases=dir_cases,\n",
    "#                      case_names=case_names,\n",
    "#                      exp_names=exp_names,\n",
    "#                      scatter_var='v_anl', scatter_levels=range(-24, 25, 8),\n",
    "#                      domains=['d01'], da_cycle=4, var_time=20220916180000)"
   ]
  },
  {
   "cell_type": "code",
   "execution_count": null,
   "id": "e288c1f0",
   "metadata": {},
   "outputs": [],
   "source": []
  }
 ],
 "metadata": {
  "kernelspec": {
   "display_name": "Python 3 (ipykernel)",
   "language": "python",
   "name": "python3"
  },
  "language_info": {
   "codemirror_mode": {
    "name": "ipython",
    "version": 3
   },
   "file_extension": ".py",
   "mimetype": "text/x-python",
   "name": "python",
   "nbconvert_exporter": "python",
   "pygments_lexer": "ipython3",
   "version": "3.9.18"
  }
 },
 "nbformat": 4,
 "nbformat_minor": 5
}
