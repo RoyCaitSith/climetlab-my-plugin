{
 "cells": [
  {
   "attachments": {},
   "cell_type": "markdown",
   "id": "0a98ed75-a6bf-48d4-9f7d-4feb289d7271",
   "metadata": {},
   "source": [
    "# Create bufr temp files for DAWN"
   ]
  },
  {
   "cell_type": "code",
   "execution_count": null,
   "id": "74fe7392-9d6c-423b-92f1-ca71c54fc550",
   "metadata": {},
   "outputs": [],
   "source": [
    "# from dawn import create_DAWN_bufr_temp_cv\n",
    "\n",
    "# create_DAWN_bufr_temp_cv(data_library_name='cpex',\n",
    "#                          dir_case='/08_CPEX/01_CV_RF07_AEW06_IAN',\n",
    "#                          case_name='Ian')"
   ]
  },
  {
   "attachments": {},
   "cell_type": "markdown",
   "id": "757823b6",
   "metadata": {},
   "source": [
    "# Create bufr for DAWN"
   ]
  },
  {
   "cell_type": "code",
   "execution_count": 1,
   "id": "eb1b4545",
   "metadata": {},
   "outputs": [
    {
     "data": {
      "application/vnd.jupyter.widget-view+json": {
       "model_id": "8809a2fab71d48898823104e1ed0bab3",
       "version_major": 2,
       "version_minor": 0
      },
      "text/plain": [
       "Cycles: 0/4 files | 00:00<?"
      ]
     },
     "metadata": {},
     "output_type": "display_data"
    },
    {
     "name": "stdout",
     "output_type": "stream",
     "text": [
      "Check bufr_temp: \n",
      "17\n",
      "True\n",
      "3504\n",
      "3504\n",
      "Check bufr_temp: \n",
      "17\n",
      "True\n",
      "814832\n",
      "814832\n",
      "Check bufr_temp: \n",
      "17\n",
      "True\n",
      "2072968\n",
      "2072968\n",
      "Check bufr_temp: \n",
      "17\n",
      "True\n",
      "3504\n",
      "3504\n"
     ]
    }
   ],
   "source": [
    "from dawn import create_DAWN_bufr\n",
    "\n",
    "create_DAWN_bufr(data_library_name='cpex',\n",
    "                 dir_case='/08_CPEX/01_CV_RF07_AEW06_IAN',\n",
    "                 case_name='Ian')"
   ]
  },
  {
   "cell_type": "code",
   "execution_count": null,
   "id": "0bf0e018",
   "metadata": {},
   "outputs": [],
   "source": []
  }
 ],
 "metadata": {
  "kernelspec": {
   "display_name": "Python 3 (ipykernel)",
   "language": "python",
   "name": "python3"
  },
  "language_info": {
   "codemirror_mode": {
    "name": "ipython",
    "version": 3
   },
   "file_extension": ".py",
   "mimetype": "text/x-python",
   "name": "python",
   "nbconvert_exporter": "python",
   "pygments_lexer": "ipython3",
   "version": "3.10.9"
  }
 },
 "nbformat": 4,
 "nbformat_minor": 5
}
