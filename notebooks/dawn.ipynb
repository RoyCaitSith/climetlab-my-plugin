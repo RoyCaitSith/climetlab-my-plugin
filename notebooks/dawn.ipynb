{
 "cells": [
  {
   "attachments": {},
   "cell_type": "markdown",
   "id": "0a98ed75-a6bf-48d4-9f7d-4feb289d7271",
   "metadata": {},
   "source": [
    "# Create bufr temp files for DAWN"
   ]
  },
  {
   "cell_type": "code",
   "execution_count": null,
   "id": "74fe7392-9d6c-423b-92f1-ca71c54fc550",
   "metadata": {},
   "outputs": [],
   "source": [
    "# from dawn import create_DAWN_bufr_temp\n",
    "\n",
    "# create_DAWN_bufr_temp(data_library_name='cpex',\n",
    "#                       dir_case='/08_CPEX/04_AW_RF07_Larry',\n",
    "#                       case_name='Larry')"
   ]
  },
  {
   "attachments": {},
   "cell_type": "markdown",
   "id": "757823b6",
   "metadata": {},
   "source": [
    "# Create bufr for DAWN"
   ]
  },
  {
   "cell_type": "code",
   "execution_count": null,
   "id": "eb1b4545",
   "metadata": {},
   "outputs": [],
   "source": [
    "# from dawn import create_DAWN_bufr\n",
    "\n",
    "# create_DAWN_bufr(data_library_name='cpex',\n",
    "#                  dir_case='/08_CPEX/04_AW_RF07_Larry',\n",
    "#                  case_name='Larry')"
   ]
  },
  {
   "cell_type": "markdown",
   "id": "cebc6028",
   "metadata": {},
   "source": [
    "# Interpolation of WRF data"
   ]
  },
  {
   "cell_type": "code",
   "execution_count": null,
   "id": "32c4c7a3",
   "metadata": {},
   "outputs": [],
   "source": [
    "from dawn import wrf_extract_dawn\n",
    "\n",
    "n_exp_name = 1\n",
    "wrf_extract_dawn(data_library_names=['cpex']*n_exp_name,\n",
    "                 dir_cases=['/08_CPEX/01_CV_RF07_AEW06_IAN']*n_exp_name,\n",
    "                 case_names=['Ian']*n_exp_name,\n",
    "                 exp_names=['DAWN'])"
   ]
  },
  {
   "cell_type": "markdown",
   "id": "9d42782c",
   "metadata": {},
   "source": [
    "# Compare Observation and Simulation"
   ]
  },
  {
   "cell_type": "code",
   "execution_count": 1,
   "id": "c0bb1794",
   "metadata": {},
   "outputs": [
    {
     "data": {
      "application/vnd.jupyter.widget-view+json": {
       "model_id": "d683cbd2a951426598280cb6fab35f30",
       "version_major": 2,
       "version_minor": 0
      },
      "text/plain": [
       "Domains: 0/1 files | 00:00<?"
      ]
     },
     "metadata": {},
     "output_type": "display_data"
    },
    {
     "ename": "NameError",
     "evalue": "name 'dir_weather_map' is not defined",
     "output_type": "error",
     "traceback": [
      "\u001b[0;31m---------------------------------------------------------------------------\u001b[0m",
      "\u001b[0;31mNameError\u001b[0m                                 Traceback (most recent call last)",
      "Cell \u001b[0;32mIn[1], line 9\u001b[0m\n\u001b[1;32m      6\u001b[0m case_names \u001b[39m=\u001b[39m [\u001b[39m'\u001b[39m\u001b[39mIan\u001b[39m\u001b[39m'\u001b[39m]\u001b[39m*\u001b[39mn_exp_names\n\u001b[1;32m      7\u001b[0m exp_names \u001b[39m=\u001b[39m [\u001b[39m'\u001b[39m\u001b[39mCTRL\u001b[39m\u001b[39m'\u001b[39m, \u001b[39m'\u001b[39m\u001b[39mCONV\u001b[39m\u001b[39m'\u001b[39m, \u001b[39m'\u001b[39m\u001b[39mDAWN\u001b[39m\u001b[39m'\u001b[39m, \u001b[39m'\u001b[39m\u001b[39mHALO\u001b[39m\u001b[39m'\u001b[39m, \u001b[39m'\u001b[39m\u001b[39mDAWN_HALO\u001b[39m\u001b[39m'\u001b[39m]\n\u001b[0;32m----> 9\u001b[0m draw_DAWN_normalized_comparison(data_library_names\u001b[39m=\u001b[39;49mdata_library_names,\n\u001b[1;32m     10\u001b[0m                                 dir_cases\u001b[39m=\u001b[39;49mdir_cases,\n\u001b[1;32m     11\u001b[0m                                 case_names\u001b[39m=\u001b[39;49mcase_names,\n\u001b[1;32m     12\u001b[0m                                 exp_names\u001b[39m=\u001b[39;49mexp_names,\n\u001b[1;32m     13\u001b[0m                                 domains\u001b[39m=\u001b[39;49m[\u001b[39m'\u001b[39;49m\u001b[39md01\u001b[39;49m\u001b[39m'\u001b[39;49m], da_cycle\u001b[39m=\u001b[39;49m\u001b[39m4\u001b[39;49m, var_time\u001b[39m=\u001b[39;49m\u001b[39m20220916180000\u001b[39;49m)\n",
      "File \u001b[0;32m~/climetlab-my-plugin/functions/dawn.py:460\u001b[0m, in \u001b[0;36mdraw_DAWN_normalized_comparison\u001b[0;34m(data_library_names, dir_cases, case_names, exp_names, domains, da_cycle, var_time)\u001b[0m\n\u001b[1;32m    457\u001b[0m \u001b[39mfor\u001b[39;00m dom \u001b[39min\u001b[39;00m tqdm(domains, desc\u001b[39m=\u001b[39m\u001b[39m'\u001b[39m\u001b[39mDomains\u001b[39m\u001b[39m'\u001b[39m, unit\u001b[39m=\u001b[39m\u001b[39m'\u001b[39m\u001b[39mfiles\u001b[39m\u001b[39m'\u001b[39m, bar_format\u001b[39m=\u001b[39m\u001b[39m\"\u001b[39m\u001b[39m{desc}\u001b[39;00m\u001b[39m: \u001b[39m\u001b[39m{n}\u001b[39;00m\u001b[39m/\u001b[39m\u001b[39m{total}\u001b[39;00m\u001b[39m files | \u001b[39m\u001b[39m{elapsed}\u001b[39;00m\u001b[39m<\u001b[39m\u001b[39m{remaining}\u001b[39;00m\u001b[39m\"\u001b[39m):\n\u001b[1;32m    459\u001b[0m     image_files \u001b[39m=\u001b[39m []\n\u001b[0;32m--> 460\u001b[0m     dir_save \u001b[39m=\u001b[39m os\u001b[39m.\u001b[39mpath\u001b[39m.\u001b[39mjoin(dir_weather_map, \u001b[39m'\u001b[39m\u001b[39mfigures\u001b[39m\u001b[39m'\u001b[39m)\n\u001b[1;32m    461\u001b[0m     output_filename \u001b[39m=\u001b[39m (\n\u001b[1;32m    462\u001b[0m         \u001b[39mf\u001b[39m\u001b[39m\"\u001b[39m\u001b[39m{\u001b[39;00m\u001b[39mstr\u001b[39m(var_time)\u001b[39m}\u001b[39;00m\u001b[39m_DAWN_normalized_comparison_\u001b[39m\u001b[39m\"\u001b[39m\n\u001b[1;32m    463\u001b[0m         \u001b[39mf\u001b[39m\u001b[39m\"\u001b[39m\u001b[39m{\u001b[39;00mdom\u001b[39m}\u001b[39;00m\u001b[39m_C\u001b[39m\u001b[39m{\u001b[39;00m\u001b[39mstr\u001b[39m(da_cycle)\u001b[39m.\u001b[39mzfill(\u001b[39m2\u001b[39m)\u001b[39m}\u001b[39;00m\u001b[39m\"\u001b[39m\n\u001b[1;32m    464\u001b[0m     )\n\u001b[1;32m    465\u001b[0m     output_file \u001b[39m=\u001b[39m os\u001b[39m.\u001b[39mpath\u001b[39m.\u001b[39mjoin(dir_save, output_filename\u001b[39m+\u001b[39m\u001b[39m'\u001b[39m\u001b[39m.png\u001b[39m\u001b[39m'\u001b[39m)\n",
      "\u001b[0;31mNameError\u001b[0m: name 'dir_weather_map' is not defined"
     ]
    }
   ],
   "source": [
    "from dawn import draw_DAWN_normalized_comparison\n",
    "\n",
    "n_exp_names = 5\n",
    "data_library_names = ['cpex']*n_exp_names\n",
    "dir_cases = ['/08_CPEX/01_CV_RF07_AEW06_IAN']*n_exp_names\n",
    "case_names = ['Ian']*n_exp_names\n",
    "exp_names = ['CTRL', 'CONV', 'DAWN', 'HALO', 'DAWN_HALO']\n",
    "\n",
    "draw_DAWN_normalized_comparison(data_library_names=data_library_names,\n",
    "                                dir_cases=dir_cases,\n",
    "                                case_names=case_names,\n",
    "                                exp_names=exp_names,\n",
    "                                domains=['d01'], da_cycle=4, var_time=20220916180000)"
   ]
  },
  {
   "cell_type": "code",
   "execution_count": null,
   "id": "1038cce7",
   "metadata": {},
   "outputs": [],
   "source": []
  }
 ],
 "metadata": {
  "kernelspec": {
   "display_name": "Python 3 (ipykernel)",
   "language": "python",
   "name": "python3"
  },
  "language_info": {
   "codemirror_mode": {
    "name": "ipython",
    "version": 3
   },
   "file_extension": ".py",
   "mimetype": "text/x-python",
   "name": "python",
   "nbconvert_exporter": "python",
   "pygments_lexer": "ipython3",
   "version": "3.10.9"
  }
 },
 "nbformat": 4,
 "nbformat_minor": 5
}
