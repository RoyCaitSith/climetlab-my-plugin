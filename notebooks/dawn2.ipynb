{
 "cells": [
  {
   "attachments": {},
   "cell_type": "markdown",
   "id": "0a98ed75-a6bf-48d4-9f7d-4feb289d7271",
   "metadata": {},
   "source": [
    "# Create bufr temp files for DAWN"
   ]
  },
  {
   "cell_type": "code",
   "execution_count": null,
   "id": "74fe7392-9d6c-423b-92f1-ca71c54fc550",
   "metadata": {},
   "outputs": [],
   "source": [
    "# from dawn import create_DAWN_bufr_temp\n",
    "\n",
    "# create_DAWN_bufr_temp(data_library_name='cpex',\n",
    "#                       dir_case='/08_CPEX/02_AW_RF01_AEW01',\n",
    "#                       case_name='AEW01')"
   ]
  },
  {
   "attachments": {},
   "cell_type": "markdown",
   "id": "757823b6",
   "metadata": {},
   "source": [
    "# Create bufr for DAWN"
   ]
  },
  {
   "cell_type": "code",
   "execution_count": null,
   "id": "eb1b4545",
   "metadata": {},
   "outputs": [],
   "source": [
    "# from dawn import create_DAWN_bufr\n",
    "\n",
    "# create_DAWN_bufr(data_library_name='cpex',\n",
    "#                  dir_case='/08_CPEX/02_AW_RF01_AEW01',\n",
    "#                  case_name='AEW01')"
   ]
  },
  {
   "cell_type": "markdown",
   "id": "cebc6028",
   "metadata": {},
   "source": [
    "# Interpolation of WRF data"
   ]
  },
  {
   "cell_type": "code",
   "execution_count": 1,
   "id": "32c4c7a3",
   "metadata": {},
   "outputs": [
    {
     "data": {
      "application/vnd.jupyter.widget-view+json": {
       "model_id": "ec8c77eed4934791b8f46441344debf0",
       "version_major": 2,
       "version_minor": 0
      },
      "text/plain": [
       "Cases: 0/1 files | 00:00<?"
      ]
     },
     "metadata": {},
     "output_type": "display_data"
    },
    {
     "data": {
      "application/vnd.jupyter.widget-view+json": {
       "model_id": "d0cf8f4de31a4d17ae9a3759a22afe9e",
       "version_major": 2,
       "version_minor": 0
      },
      "text/plain": [
       "Domains:   0%|          | 0/2 [00:00<?, ?it/s]"
      ]
     },
     "metadata": {},
     "output_type": "display_data"
    },
    {
     "data": {
      "application/vnd.jupyter.widget-view+json": {
       "model_id": "eedf3725f12944a0abcfba9263204304",
       "version_major": 2,
       "version_minor": 0
      },
      "text/plain": [
       "Cycles:   0%|          | 0/1 [00:00<?, ?it/s]"
      ]
     },
     "metadata": {},
     "output_type": "display_data"
    },
    {
     "data": {
      "application/vnd.jupyter.widget-view+json": {
       "model_id": "b118af85c865492cbcb32af84d924d53",
       "version_major": 2,
       "version_minor": 0
      },
      "text/plain": [
       "Times:   0%|          | 0/4 [00:00<?, ?it/s]"
      ]
     },
     "metadata": {},
     "output_type": "display_data"
    },
    {
     "data": {
      "application/vnd.jupyter.widget-view+json": {
       "model_id": "cfb0394e661c4bd3af5c44b616ee9ce4",
       "version_major": 2,
       "version_minor": 0
      },
      "text/plain": [
       "Levels:   0%|          | 0/395 [00:00<?, ?it/s]"
      ]
     },
     "metadata": {},
     "output_type": "display_data"
    },
    {
     "data": {
      "application/vnd.jupyter.widget-view+json": {
       "model_id": "39dea212e1414789b4473c2fa3a27835",
       "version_major": 2,
       "version_minor": 0
      },
      "text/plain": [
       "Levels:   0%|          | 0/414 [00:00<?, ?it/s]"
      ]
     },
     "metadata": {},
     "output_type": "display_data"
    },
    {
     "data": {
      "application/vnd.jupyter.widget-view+json": {
       "model_id": "2aaaec3391764ec08612af4f50621228",
       "version_major": 2,
       "version_minor": 0
      },
      "text/plain": [
       "Cycles:   0%|          | 0/1 [00:00<?, ?it/s]"
      ]
     },
     "metadata": {},
     "output_type": "display_data"
    },
    {
     "data": {
      "application/vnd.jupyter.widget-view+json": {
       "model_id": "fa4a895e997b4797abc2b0477f5970d6",
       "version_major": 2,
       "version_minor": 0
      },
      "text/plain": [
       "Times:   0%|          | 0/4 [00:00<?, ?it/s]"
      ]
     },
     "metadata": {},
     "output_type": "display_data"
    },
    {
     "data": {
      "application/vnd.jupyter.widget-view+json": {
       "model_id": "8f649ae7ebaa4857ae6becf853b0a815",
       "version_major": 2,
       "version_minor": 0
      },
      "text/plain": [
       "Levels:   0%|          | 0/395 [00:00<?, ?it/s]"
      ]
     },
     "metadata": {},
     "output_type": "display_data"
    },
    {
     "data": {
      "application/vnd.jupyter.widget-view+json": {
       "model_id": "2b13f29e543840af86e65087cd4a7218",
       "version_major": 2,
       "version_minor": 0
      },
      "text/plain": [
       "Levels:   0%|          | 0/414 [00:00<?, ?it/s]"
      ]
     },
     "metadata": {},
     "output_type": "display_data"
    }
   ],
   "source": [
    "from dawn import wrf_extract_DAWN\n",
    "\n",
    "n_exp_name = 1\n",
    "wrf_extract_DAWN(data_library_names=['cpex']*n_exp_name,\n",
    "                 dir_cases=['/08_CPEX/01_CV_RF07_AEW06_IAN']*n_exp_name,\n",
    "                 case_names=['Ian']*n_exp_name,\n",
    "                 exp_names=['HALO_OE25'])"
   ]
  },
  {
   "cell_type": "markdown",
   "id": "9d42782c",
   "metadata": {},
   "source": [
    "# Compare Observation and Analysis"
   ]
  },
  {
   "cell_type": "code",
   "execution_count": null,
   "id": "c0bb1794",
   "metadata": {},
   "outputs": [],
   "source": [
    "# from dawn import draw_DAWN_comparison\n",
    "\n",
    "# n_exp_names = 5\n",
    "# data_library_names = ['cpex']*n_exp_names\n",
    "# dir_cases = ['/08_CPEX/01_CV_RF07_AEW06_IAN']*n_exp_names\n",
    "# case_names = ['Ian']*n_exp_names\n",
    "# exp_names = ['CTRL', 'CONV', 'DAWN', 'HALO', 'DAWN_HALO']\n",
    "\n",
    "# draw_DAWN_comparison(data_library_names=data_library_names,\n",
    "#                      dir_cases=dir_cases,\n",
    "#                      case_names=case_names,\n",
    "#                      exp_names=exp_names,\n",
    "#                      scatter_var='v_OmB', scatter_levels=range(-6, 7, 2),\n",
    "#                      domains=['d01'], da_cycle=4, var_time=20220916180000)"
   ]
  },
  {
   "cell_type": "code",
   "execution_count": null,
   "id": "1038cce7",
   "metadata": {},
   "outputs": [],
   "source": [
    "# from dawn import draw_DAWN_comparison\n",
    "\n",
    "# n_exp_names = 5\n",
    "# data_library_names = ['cpex']*n_exp_names\n",
    "# dir_cases = ['/08_CPEX/01_CV_RF07_AEW06_IAN']*n_exp_names\n",
    "# case_names = ['Ian']*n_exp_names\n",
    "# exp_names = ['CTRL', 'CONV', 'DAWN', 'HALO', 'DAWN_HALO']\n",
    "\n",
    "# draw_DAWN_comparison(data_library_names=data_library_names,\n",
    "#                      dir_cases=dir_cases,\n",
    "#                      case_names=case_names,\n",
    "#                      exp_names=exp_names,\n",
    "#                      scatter_var='v_anl', scatter_levels=range(-24, 25, 8),\n",
    "#                      domains=['d01'], da_cycle=4, var_time=20220916180000)"
   ]
  },
  {
   "cell_type": "code",
   "execution_count": null,
   "id": "e288c1f0",
   "metadata": {},
   "outputs": [],
   "source": []
  }
 ],
 "metadata": {
  "kernelspec": {
   "display_name": "Python 3 (ipykernel)",
   "language": "python",
   "name": "python3"
  },
  "language_info": {
   "codemirror_mode": {
    "name": "ipython",
    "version": 3
   },
   "file_extension": ".py",
   "mimetype": "text/x-python",
   "name": "python",
   "nbconvert_exporter": "python",
   "pygments_lexer": "ipython3",
   "version": "3.10.9"
  }
 },
 "nbformat": 4,
 "nbformat_minor": 5
}
