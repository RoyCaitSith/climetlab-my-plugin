{
 "cells": [
  {
   "attachments": {},
   "cell_type": "markdown",
   "id": "e1ea9d67-9d77-49fd-af9e-ff3fc208ccee",
   "metadata": {},
   "source": [
    "# CYGNSS"
   ]
  },
  {
   "attachments": {},
   "cell_type": "markdown",
   "id": "2f420c59-e13b-4de7-a7e7-eee1ea1b8f55",
   "metadata": {},
   "source": [
    "## Draw CYGNSS wind speed"
   ]
  },
  {
   "cell_type": "code",
   "execution_count": null,
   "id": "ef64e046-4341-4252-8b54-c8cba5548e37",
   "metadata": {},
   "outputs": [],
   "source": [
    "from cygnss import draw_CYGNSS_wind_speed\n",
    "\n",
    "draw_CYGNSS_wind_speed(dir_cases=['/05_TROPICS/05_cycling_da'], case_names=['Ida'])"
   ]
  }
 ],
 "metadata": {
  "kernelspec": {
   "display_name": "Python 3 (ipykernel)",
   "language": "python",
   "name": "python3"
  },
  "language_info": {
   "codemirror_mode": {
    "name": "ipython",
    "version": 3
   },
   "file_extension": ".py",
   "mimetype": "text/x-python",
   "name": "python",
   "nbconvert_exporter": "python",
   "pygments_lexer": "ipython3",
   "version": "3.10.9"
  }
 },
 "nbformat": 4,
 "nbformat_minor": 5
}
