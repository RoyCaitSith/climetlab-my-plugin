{
 "cells": [
  {
   "cell_type": "markdown",
   "id": "7b7c3233",
   "metadata": {},
   "source": [
    "# Create bufr temp for CYGNSS"
   ]
  },
  {
   "cell_type": "code",
   "execution_count": null,
   "id": "212eb0e4",
   "metadata": {},
   "outputs": [],
   "source": [
    "# from cygnss import create_CYGNSS_bufr_temp\n",
    "\n",
    "# create_CYGNSS_bufr_temp(data_library_name='tropics',\n",
    "#                         dir_case='/TROPICS/12_Sam_Cycling_DA',\n",
    "#                         case_name='Sam')"
   ]
  },
  {
   "cell_type": "markdown",
   "id": "5fe65ba6",
   "metadata": {},
   "source": [
    "# Create bufr for CYGNSS"
   ]
  },
  {
   "cell_type": "code",
   "execution_count": null,
   "id": "04d9b9c4",
   "metadata": {},
   "outputs": [],
   "source": [
    "from cygnss import create_CYGNSS_bufr\n",
    "\n",
    "create_CYGNSS_bufr(data_library_name='tropics',\n",
    "                   dir_case='/TROPICS/12_Sam_Cycling_DA',\n",
    "                   case_name='Sam')"
   ]
  },
  {
   "attachments": {},
   "cell_type": "markdown",
   "id": "2f420c59-e13b-4de7-a7e7-eee1ea1b8f55",
   "metadata": {},
   "source": [
    "## Draw CYGNSS wind speed"
   ]
  },
  {
   "cell_type": "code",
   "execution_count": null,
   "id": "ef64e046-4341-4252-8b54-c8cba5548e37",
   "metadata": {},
   "outputs": [],
   "source": [
    "# from cygnss import draw_CYGNSS_wind_speed\n",
    "\n",
    "# draw_CYGNSS_wind_speed(dir_cases=['/05_TROPICS/05_cycling_da'], case_names=['Ida'])"
   ]
  }
 ],
 "metadata": {
  "kernelspec": {
   "display_name": "Python 3 (ipykernel)",
   "language": "python",
   "name": "python3"
  },
  "language_info": {
   "codemirror_mode": {
    "name": "ipython",
    "version": 3
   },
   "file_extension": ".py",
   "mimetype": "text/x-python",
   "name": "python",
   "nbconvert_exporter": "python",
   "pygments_lexer": "ipython3",
   "version": "3.9.18"
  }
 },
 "nbformat": 4,
 "nbformat_minor": 5
}
