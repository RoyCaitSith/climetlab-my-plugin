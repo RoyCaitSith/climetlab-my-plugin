{
 "cells": [
  {
   "cell_type": "markdown",
   "id": "bc3f79e9-639f-49e4-9a58-4af3c47a525a",
   "metadata": {},
   "source": [
    "# Calculate 6h Accumulated Precipitation"
   ]
  },
  {
   "cell_type": "code",
   "execution_count": 1,
   "id": "150e3456-c4fd-4809-831e-859071d6ae60",
   "metadata": {},
   "outputs": [
    {
     "ename": "TypeError",
     "evalue": "calculate_6h_accumulated_precipitation() missing 1 required positional argument: 'data_library_names'",
     "output_type": "error",
     "traceback": [
      "\u001b[0;31m---------------------------------------------------------------------------\u001b[0m",
      "\u001b[0;31mTypeError\u001b[0m                                 Traceback (most recent call last)",
      "Cell \u001b[0;32mIn[1], line 8\u001b[0m\n\u001b[1;32m      5\u001b[0m dir_cases \u001b[39m=\u001b[39m [\u001b[39m'\u001b[39m\u001b[39m/08_CPEX/01_CV_RF07_AEW06_IAN\u001b[39m\u001b[39m'\u001b[39m]\u001b[39m*\u001b[39mn_exp_names\n\u001b[1;32m      6\u001b[0m case_names \u001b[39m=\u001b[39m [\u001b[39m'\u001b[39m\u001b[39mIda\u001b[39m\u001b[39m'\u001b[39m]\u001b[39m*\u001b[39mn_exp_names\n\u001b[0;32m----> 8\u001b[0m calculate_6h_accumulated_precipitation(dir_cases\u001b[39m=\u001b[39;49mdir_cases, case_names\u001b[39m=\u001b[39;49mcase_names, exp_names\u001b[39m=\u001b[39;49mexp_names)\n",
      "\u001b[0;31mTypeError\u001b[0m: calculate_6h_accumulated_precipitation() missing 1 required positional argument: 'data_library_names'"
     ]
    }
   ],
   "source": [
    "from precipitation import calculate_6h_accumulated_precipitation\n",
    "\n",
    "n_exp_names = 4\n",
    "data_library_name = ['cpex']*n_exp_names\n",
    "exp_names = ['CONV', 'CTRL', 'DAWN', 'HALO']\n",
    "dir_cases = ['/08_CPEX/01_CV_RF07_AEW06_IAN']*n_exp_names\n",
    "case_names = ['Ian']*n_exp_names\n",
    "\n",
    "calculate_6h_accumulated_precipitation(dir_cases=dir_cases, case_names=case_names, exp_names=exp_names)"
   ]
  },
  {
   "cell_type": "markdown",
   "id": "413abeb3-8f88-48b6-9f15-48fc752112c7",
   "metadata": {},
   "source": [
    "# Compare Precipitation Based on Schemes"
   ]
  },
  {
   "cell_type": "code",
   "execution_count": null,
   "id": "f4610c69-888c-4819-a753-ae3998f73439",
   "metadata": {},
   "outputs": [],
   "source": [
    "from precipitation import draw_6h_accumulated_precipitation\n",
    "\n",
    "draw_6h_accumulated_precipitation('TROPICS_Ida_scheme_23')"
   ]
  },
  {
   "cell_type": "code",
   "execution_count": null,
   "id": "ccc889c9-1da8-4786-ab54-cb478077c26b",
   "metadata": {},
   "outputs": [],
   "source": []
  }
 ],
 "metadata": {
  "kernelspec": {
   "display_name": "Python 3 (ipykernel)",
   "language": "python",
   "name": "python3"
  },
  "language_info": {
   "codemirror_mode": {
    "name": "ipython",
    "version": 3
   },
   "file_extension": ".py",
   "mimetype": "text/x-python",
   "name": "python",
   "nbconvert_exporter": "python",
   "pygments_lexer": "ipython3",
   "version": "3.10.9"
  }
 },
 "nbformat": 4,
 "nbformat_minor": 5
}
