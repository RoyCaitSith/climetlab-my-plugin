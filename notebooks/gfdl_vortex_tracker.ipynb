{
 "cells": [
  {
   "attachments": {},
   "cell_type": "markdown",
   "id": "8a1ac3f5-4e2c-4a46-b29c-4cd914a4b560",
   "metadata": {
    "tags": []
   },
   "source": [
    "# Link the WRF output to a specific folder"
   ]
  },
  {
   "cell_type": "code",
   "execution_count": 1,
   "id": "cb05f31e-2414-4ed6-8eb7-98a924643f59",
   "metadata": {
    "tags": []
   },
   "outputs": [
    {
     "data": {
      "application/vnd.jupyter.widget-view+json": {
       "model_id": "efeae3a8ce1d42bc9bac816f21b12df3",
       "version_major": 2,
       "version_minor": 0
      },
      "text/plain": [
       "DA Cycle:   0%|          | 0/4 [00:00<?, ?it/s]"
      ]
     },
     "metadata": {},
     "output_type": "display_data"
    },
    {
     "name": "stdout",
     "output_type": "stream",
     "text": [
      "1\n",
      "240\n",
      "2022-09-22 18:00:00\n",
      "2022-09-26 06:00:00\n",
      "Link wrfout files from 2022-09-22 18:00:00 to 2022-09-26 06:00:00\n"
     ]
    },
    {
     "data": {
      "application/vnd.jupyter.widget-view+json": {
       "model_id": "6544d5d7710d4754916b7dfe9483891a",
       "version_major": 2,
       "version_minor": 0
      },
      "text/plain": [
       "Processing files:   0%|          | 0/15 [00:00<?, ?it/s]"
      ]
     },
     "metadata": {},
     "output_type": "display_data"
    },
    {
     "name": "stdout",
     "output_type": "stream",
     "text": [
      "2022-09-22 18:00:00\n",
      "2022-09-26 06:00:00\n",
      "Link wrfout files from 2022-09-22 18:00:00 to 2022-09-26 06:00:00\n"
     ]
    },
    {
     "data": {
      "application/vnd.jupyter.widget-view+json": {
       "model_id": "828a4ac037914717a5223f818e40d039",
       "version_major": 2,
       "version_minor": 0
      },
      "text/plain": [
       "Processing files:   0%|          | 0/15 [00:00<?, ?it/s]"
      ]
     },
     "metadata": {},
     "output_type": "display_data"
    },
    {
     "name": "stdout",
     "output_type": "stream",
     "text": [
      "2022-09-22 18:00:00\n",
      "2022-09-26 06:00:00\n",
      "Link wrfout files from 2022-09-22 18:00:00 to 2022-09-26 06:00:00\n"
     ]
    },
    {
     "data": {
      "application/vnd.jupyter.widget-view+json": {
       "model_id": "3820e728afc34040882da58a07759e7e",
       "version_major": 2,
       "version_minor": 0
      },
      "text/plain": [
       "Processing files:   0%|          | 0/15 [00:00<?, ?it/s]"
      ]
     },
     "metadata": {},
     "output_type": "display_data"
    },
    {
     "name": "stdout",
     "output_type": "stream",
     "text": [
      "2022-09-22 18:00:00\n",
      "2022-09-26 06:00:00\n",
      "Link wrfout files from 2022-09-22 18:00:00 to 2022-09-26 06:00:00\n"
     ]
    },
    {
     "data": {
      "application/vnd.jupyter.widget-view+json": {
       "model_id": "bf9bfcd842834e46b5150fc79707e18f",
       "version_major": 2,
       "version_minor": 0
      },
      "text/plain": [
       "Processing files:   0%|          | 0/15 [00:00<?, ?it/s]"
      ]
     },
     "metadata": {},
     "output_type": "display_data"
    }
   ],
   "source": [
    "from datetime import datetime\n",
    "from gfdl_vortex_tracker import link_wrfout\n",
    "\n",
    "link_wrfout(data_library_name='cpex',\n",
    "            dir_case='/08_CPEX/01_CV_RF07_AEW06_IAN',\n",
    "            case_name='Ian',\n",
    "            exp_name='CONV',\n",
    "            anl_start_time=datetime(2022, 9, 22, 18, 0, 0))"
   ]
  },
  {
   "attachments": {},
   "cell_type": "markdown",
   "id": "0a993a5d-ef40-4eb3-af68-583df1928291",
   "metadata": {
    "tags": []
   },
   "source": [
    "# Copy the nessary files for running unipost"
   ]
  },
  {
   "cell_type": "code",
   "execution_count": null,
   "id": "62a5cae2-f30a-426d-931c-0cb27d535ab9",
   "metadata": {
    "tags": []
   },
   "outputs": [],
   "source": [
    "from gfdl_vortex_tracker import setup_gfdl_folder\n",
    "\n",
    "setup_gfdl_folder(dir_case='/08_CPEX/01_CV_RF07_AEW06_IAN',\n",
    "                  case_name='Ian',\n",
    "                  exp_name='CTRL',\n",
    "                  copy_exp_name='CTRL')"
   ]
  },
  {
   "attachments": {},
   "cell_type": "markdown",
   "id": "baae3988-0589-4fb2-a236-ffa2a9bfc823",
   "metadata": {},
   "source": [
    "# Copy FINAL and run grbindex.exe"
   ]
  },
  {
   "cell_type": "code",
   "execution_count": null,
   "id": "4a2dffe1-de1b-4e9b-914c-302201f3b56c",
   "metadata": {},
   "outputs": [],
   "source": [
    "from gfdl_vortex_tracker import process_gfdl_files\n",
    "\n",
    "process_gfdl_files(dir_case='/05_TROPICS/10_cycling_da_tropics_v3', case_name='Ida', exp_name='TROPICS_Q_T_V3_CLR_ENS')"
   ]
  },
  {
   "cell_type": "code",
   "execution_count": null,
   "id": "44f1a520-aaf1-4e6f-ac3d-6effa3d5104d",
   "metadata": {},
   "outputs": [],
   "source": []
  }
 ],
 "metadata": {
  "kernelspec": {
   "display_name": "Python 3 (ipykernel)",
   "language": "python",
   "name": "python3"
  },
  "language_info": {
   "codemirror_mode": {
    "name": "ipython",
    "version": 3
   },
   "file_extension": ".py",
   "mimetype": "text/x-python",
   "name": "python",
   "nbconvert_exporter": "python",
   "pygments_lexer": "ipython3",
   "version": "3.10.9"
  }
 },
 "nbformat": 4,
 "nbformat_minor": 5
}
