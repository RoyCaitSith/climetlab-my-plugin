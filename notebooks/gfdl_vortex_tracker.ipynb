{
 "cells": [
  {
   "cell_type": "markdown",
   "id": "d15da68d",
   "metadata": {},
   "source": [
    "# Import Functions"
   ]
  },
  {
   "cell_type": "code",
   "execution_count": null,
   "id": "b484f4cf",
   "metadata": {},
   "outputs": [],
   "source": [
    "# import sys\n",
    "# sys.path.insert(0, \"/uufs/chpc.utah.edu/common/home/u1237353/climetlab-my-plugin/functions\")"
   ]
  },
  {
   "attachments": {},
   "cell_type": "markdown",
   "id": "8a1ac3f5-4e2c-4a46-b29c-4cd914a4b560",
   "metadata": {
    "tags": []
   },
   "source": [
    "# Link the WRF output to a specific folder"
   ]
  },
  {
   "cell_type": "code",
   "execution_count": null,
   "id": "cb05f31e-2414-4ed6-8eb7-98a924643f59",
   "metadata": {
    "tags": []
   },
   "outputs": [],
   "source": [
    "# from datetime import datetime\n",
    "# from gfdl_vortex_tracker import link_wrfout\n",
    "\n",
    "# link_wrfout(data_library_name='tropics',\n",
    "#             dir_case='/TROPICS/12_Sam_Cycling_DA',\n",
    "#             case_name='Sam',\n",
    "#             exp_name='V1_AS_QT',\n",
    "#             input_anl_start_time=datetime(2021, 9, 23, 18, 0, 0))"
   ]
  },
  {
   "attachments": {},
   "cell_type": "markdown",
   "id": "0a993a5d-ef40-4eb3-af68-583df1928291",
   "metadata": {
    "tags": []
   },
   "source": [
    "# Copy the nessary files for running unipost"
   ]
  },
  {
   "cell_type": "code",
   "execution_count": null,
   "id": "62a5cae2-f30a-426d-931c-0cb27d535ab9",
   "metadata": {
    "tags": []
   },
   "outputs": [],
   "source": [
    "from gfdl_vortex_tracker import setup_gfdl_folder\n",
    "\n",
    "setup_gfdl_folder(data_library_name='tropics',\n",
    "                  dir_case='/TROPICS/12_Sam_Cycling_DA',\n",
    "                  case_name='Sam',\n",
    "                  exp_name='V1_AS_QT',\n",
    "                  copy_exp_name='CONV')"
   ]
  },
  {
   "attachments": {},
   "cell_type": "markdown",
   "id": "baae3988-0589-4fb2-a236-ffa2a9bfc823",
   "metadata": {},
   "source": [
    "# Copy FINAL and run grbindex.exe"
   ]
  },
  {
   "cell_type": "code",
   "execution_count": null,
   "id": "4a2dffe1-de1b-4e9b-914c-302201f3b56c",
   "metadata": {},
   "outputs": [],
   "source": [
    "# from datetime import datetime\n",
    "# from gfdl_vortex_tracker import process_gfdl_files\n",
    "\n",
    "# process_gfdl_files(data_library_name='tropics',\n",
    "#                    dir_case='/TROPICS/12_Sam_Cycling_DA',\n",
    "#                    case_name='Sam',\n",
    "#                    exp_name='V1_AS_Q',\n",
    "#                    input_anl_start_time=datetime(2021, 9, 23, 18, 0, 0))"
   ]
  },
  {
   "cell_type": "code",
   "execution_count": null,
   "id": "f1134dbb",
   "metadata": {},
   "outputs": [],
   "source": []
  }
 ],
 "metadata": {
  "kernelspec": {
   "display_name": "Python 3 (ipykernel)",
   "language": "python",
   "name": "python3"
  },
  "language_info": {
   "codemirror_mode": {
    "name": "ipython",
    "version": 3
   },
   "file_extension": ".py",
   "mimetype": "text/x-python",
   "name": "python",
   "nbconvert_exporter": "python",
   "pygments_lexer": "ipython3",
   "version": "3.9.18"
  }
 },
 "nbformat": 4,
 "nbformat_minor": 5
}
