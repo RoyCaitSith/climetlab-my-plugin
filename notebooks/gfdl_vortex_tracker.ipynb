{
 "cells": [
  {
   "attachments": {},
   "cell_type": "markdown",
   "id": "8a1ac3f5-4e2c-4a46-b29c-4cd914a4b560",
   "metadata": {
    "tags": []
   },
   "source": [
    "# Link the WRF output to a specific folder"
   ]
  },
  {
   "cell_type": "code",
   "execution_count": 9,
   "id": "cb05f31e-2414-4ed6-8eb7-98a924643f59",
   "metadata": {
    "tags": []
   },
   "outputs": [
    {
     "data": {
      "application/vnd.jupyter.widget-view+json": {
       "model_id": "4625b5f2352046adae08d12f6328a53b",
       "version_major": 2,
       "version_minor": 0
      },
      "text/plain": [
       "DA Cycle:   0%|          | 0/4 [00:00<?, ?it/s]"
      ]
     },
     "metadata": {},
     "output_type": "display_data"
    },
    {
     "name": "stdout",
     "output_type": "stream",
     "text": [
      "Link wrfout files from 2022-09-22 18:00:00 to 2022-09-26 06:00:00\n"
     ]
    },
    {
     "data": {
      "application/vnd.jupyter.widget-view+json": {
       "model_id": "c2d28806dc504353bc7e798b16567b7a",
       "version_major": 2,
       "version_minor": 0
      },
      "text/plain": [
       "Processing files:   0%|          | 0/15 [00:00<?, ?it/s]"
      ]
     },
     "metadata": {},
     "output_type": "display_data"
    },
    {
     "name": "stdout",
     "output_type": "stream",
     "text": [
      "Link wrfout files from 2022-09-22 18:00:00 to 2022-09-26 12:00:00\n"
     ]
    },
    {
     "data": {
      "application/vnd.jupyter.widget-view+json": {
       "model_id": "4a77cae077bf4f0a868ba07384fdbb8a",
       "version_major": 2,
       "version_minor": 0
      },
      "text/plain": [
       "Processing files:   0%|          | 0/16 [00:00<?, ?it/s]"
      ]
     },
     "metadata": {},
     "output_type": "display_data"
    },
    {
     "name": "stdout",
     "output_type": "stream",
     "text": [
      "Link wrfout files from 2022-09-22 18:00:00 to 2022-09-26 18:00:00\n"
     ]
    },
    {
     "data": {
      "application/vnd.jupyter.widget-view+json": {
       "model_id": "2330d7bcdbc04ba88870d307b61e2ffd",
       "version_major": 2,
       "version_minor": 0
      },
      "text/plain": [
       "Processing files:   0%|          | 0/17 [00:00<?, ?it/s]"
      ]
     },
     "metadata": {},
     "output_type": "display_data"
    },
    {
     "name": "stdout",
     "output_type": "stream",
     "text": [
      "Link wrfout files from 2022-09-22 18:00:00 to 2022-09-27 00:00:00\n"
     ]
    },
    {
     "data": {
      "application/vnd.jupyter.widget-view+json": {
       "model_id": "ca610efe8d88461e96fb355ae64fc5f6",
       "version_major": 2,
       "version_minor": 0
      },
      "text/plain": [
       "Processing files:   0%|          | 0/18 [00:00<?, ?it/s]"
      ]
     },
     "metadata": {},
     "output_type": "display_data"
    }
   ],
   "source": [
    "from datetime import datetime\n",
    "from gfdl_vortex_tracker import link_wrfout\n",
    "\n",
    "link_wrfout(data_library_name='cpex',\n",
    "            dir_case='/08_CPEX/01_CV_RF07_AEW06_IAN',\n",
    "            case_name='Ian',\n",
    "            exp_name='HALO',\n",
    "            input_anl_start_time=datetime(2022, 9, 22, 18, 0, 0))"
   ]
  },
  {
   "attachments": {},
   "cell_type": "markdown",
   "id": "0a993a5d-ef40-4eb3-af68-583df1928291",
   "metadata": {
    "tags": []
   },
   "source": [
    "# Copy the nessary files for running unipost"
   ]
  },
  {
   "cell_type": "code",
   "execution_count": null,
   "id": "62a5cae2-f30a-426d-931c-0cb27d535ab9",
   "metadata": {
    "tags": []
   },
   "outputs": [],
   "source": [
    "from gfdl_vortex_tracker import setup_gfdl_folder\n",
    "\n",
    "setup_gfdl_folder(data_library_name='cpex',\n",
    "                  dir_case='/08_CPEX/01_CV_RF07_AEW06_IAN',\n",
    "                  case_name='Ian',\n",
    "                  exp_name='HALO',\n",
    "                  copy_exp_name='CTRL')"
   ]
  },
  {
   "attachments": {},
   "cell_type": "markdown",
   "id": "baae3988-0589-4fb2-a236-ffa2a9bfc823",
   "metadata": {},
   "source": [
    "# Copy FINAL and run grbindex.exe"
   ]
  },
  {
   "cell_type": "code",
   "execution_count": 11,
   "id": "4a2dffe1-de1b-4e9b-914c-302201f3b56c",
   "metadata": {},
   "outputs": [
    {
     "data": {
      "application/vnd.jupyter.widget-view+json": {
       "model_id": "920694fdf15045e58f89224cc2c8b83a",
       "version_major": 2,
       "version_minor": 0
      },
      "text/plain": [
       "DA Cycle:   0%|          | 0/4 [00:00<?, ?it/s]"
      ]
     },
     "metadata": {},
     "output_type": "display_data"
    },
    {
     "data": {
      "application/vnd.jupyter.widget-view+json": {
       "model_id": "6f3a6e163b8d4920b44fde5837da6c11",
       "version_major": 2,
       "version_minor": 0
      },
      "text/plain": [
       "Processing files:   0%|          | 0/15 [00:00<?, ?it/s]"
      ]
     },
     "metadata": {},
     "output_type": "display_data"
    },
    {
     "data": {
      "application/vnd.jupyter.widget-view+json": {
       "model_id": "52134c903e004999b42ec59f4be855f9",
       "version_major": 2,
       "version_minor": 0
      },
      "text/plain": [
       "Processing files:   0%|          | 0/16 [00:00<?, ?it/s]"
      ]
     },
     "metadata": {},
     "output_type": "display_data"
    },
    {
     "data": {
      "application/vnd.jupyter.widget-view+json": {
       "model_id": "19616e0508c74071a80c225485f5a11e",
       "version_major": 2,
       "version_minor": 0
      },
      "text/plain": [
       "Processing files:   0%|          | 0/17 [00:00<?, ?it/s]"
      ]
     },
     "metadata": {},
     "output_type": "display_data"
    },
    {
     "data": {
      "application/vnd.jupyter.widget-view+json": {
       "model_id": "25e15cef4fcf43a3b32c5c9a8c220abd",
       "version_major": 2,
       "version_minor": 0
      },
      "text/plain": [
       "Processing files:   0%|          | 0/18 [00:00<?, ?it/s]"
      ]
     },
     "metadata": {},
     "output_type": "display_data"
    }
   ],
   "source": [
    "from datetime import datetime\n",
    "from gfdl_vortex_tracker import process_gfdl_files\n",
    "\n",
    "process_gfdl_files(data_library_name='cpex',\n",
    "                   dir_case='/08_CPEX/01_CV_RF07_AEW06_IAN',\n",
    "                   case_name='Ian',\n",
    "                   exp_name='HALO',\n",
    "                   input_anl_start_time=datetime(2022, 9, 22, 18, 0, 0))"
   ]
  },
  {
   "cell_type": "code",
   "execution_count": null,
   "id": "44f1a520-aaf1-4e6f-ac3d-6effa3d5104d",
   "metadata": {},
   "outputs": [],
   "source": []
  }
 ],
 "metadata": {
  "kernelspec": {
   "display_name": "Python 3 (ipykernel)",
   "language": "python",
   "name": "python3"
  },
  "language_info": {
   "codemirror_mode": {
    "name": "ipython",
    "version": 3
   },
   "file_extension": ".py",
   "mimetype": "text/x-python",
   "name": "python",
   "nbconvert_exporter": "python",
   "pygments_lexer": "ipython3",
   "version": "3.10.9"
  }
 },
 "nbformat": 4,
 "nbformat_minor": 5
}
