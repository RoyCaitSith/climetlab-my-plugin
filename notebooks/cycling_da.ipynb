{
 "cells": [
  {
   "attachments": {},
   "cell_type": "markdown",
   "id": "31708322-de5f-4bb9-8fa0-e3a27d06450a",
   "metadata": {},
   "source": [
    "# Run WPS and Real for Cycling DA"
   ]
  },
  {
   "cell_type": "code",
   "execution_count": null,
   "id": "ac3fdaf0-826b-4fc0-9070-eef35208b6ad",
   "metadata": {},
   "outputs": [],
   "source": [
    "# from cycling_da import run_wps_and_real\n",
    "\n",
    "# run_wps_and_real(data_library_name='cpex',\n",
    "#                  dir_case='/08_CPEX/01_CV_RF07_AEW06_IAN',\n",
    "#                  case_name='Ian',\n",
    "#                  exp_name='CONV',\n",
    "#                  period='cycling_da',\n",
    "#                  whether_wait=False, nodes=1, ntasks=16, account='zpu-kp', partition='zpu-kp')"
   ]
  },
  {
   "attachments": {},
   "cell_type": "markdown",
   "id": "a2767040-9971-47aa-b904-85f0751c59ca",
   "metadata": {},
   "source": [
    "# Run WPS and Real for WRF Forecasts"
   ]
  },
  {
   "cell_type": "code",
   "execution_count": null,
   "id": "ec90efa4-9c0d-46c3-bd47-3e45f49e442e",
   "metadata": {},
   "outputs": [],
   "source": [
    "# from cycling_da import run_wps_and_real\n",
    "\n",
    "# run_wps_and_real(data_library_name='cpex',                                                                                                                           \n",
    "#                  dir_case='/08_CPEX/01_CV_RF07_AEW06_IAN',\n",
    "#                  case_name='Ian',\n",
    "#                  exp_name='CONV',\n",
    "#                  period='forecast',\n",
    "#                  whether_wait=False, nodes=1, ntasks=16, account='zpu-kp', partition='zpu-kp')"
   ]
  },
  {
   "attachments": {},
   "cell_type": "markdown",
   "id": "6e327713-e58b-4f04-a912-1c6de0461330",
   "metadata": {},
   "source": [
    "# Cycling DA"
   ]
  },
  {
   "cell_type": "code",
   "execution_count": 1,
   "id": "73945b5f-6382-43d3-85b8-82aa501f3df8",
   "metadata": {},
   "outputs": [
    {
     "data": {
      "application/vnd.jupyter.widget-view+json": {
       "model_id": "79196fce5a9a4ab381ede7ef4a7d80e3",
       "version_major": 2,
       "version_minor": 0
      },
      "text/plain": [
       "DA Cycle: 0/4 DA Cycles | 00:00<?"
      ]
     },
     "metadata": {},
     "output_type": "display_data"
    },
    {
     "name": "stdout",
     "output_type": "stream",
     "text": [
      "Run GSI at 2022091606\n",
      "Check wrfinput file for d01\n",
      "Copy satbias_out to satbias_out\n",
      "Copy satbias_pc.out to satbias_pc.out\n",
      "2022091606\n",
      "Create bkg folder, and copy wrfout to bkg\n",
      "Create obs folder, and copy bufr to obs\n",
      "Create gfsens folder, and copy wrfout to gfsens\n",
      "Copy, revise, and the script of running gsi at 2022091606\n",
      "Run gsi for domain d01 at 2022091606, jobid: ['12754115']\n"
     ]
    },
    {
     "ename": "NameError",
     "evalue": "name 'miao' is not defined",
     "output_type": "error",
     "traceback": [
      "\u001b[0;31m---------------------------------------------------------------------------\u001b[0m",
      "\u001b[0;31mNameError\u001b[0m                                 Traceback (most recent call last)",
      "Cell \u001b[0;32mIn[1], line 3\u001b[0m\n\u001b[1;32m      1\u001b[0m \u001b[39mfrom\u001b[39;00m \u001b[39mcycling_da\u001b[39;00m \u001b[39mimport\u001b[39;00m run_cycling_da\n\u001b[0;32m----> 3\u001b[0m run_cycling_da(data_library_name\u001b[39m=\u001b[39;49m\u001b[39m'\u001b[39;49m\u001b[39mcpex\u001b[39;49m\u001b[39m'\u001b[39;49m,                                                                                                                           \n\u001b[1;32m      4\u001b[0m                dir_case\u001b[39m=\u001b[39;49m\u001b[39m'\u001b[39;49m\u001b[39m/08_CPEX/01_CV_RF07_AEW06_IAN\u001b[39;49m\u001b[39m'\u001b[39;49m,\n\u001b[1;32m      5\u001b[0m                case_name\u001b[39m=\u001b[39;49m\u001b[39m'\u001b[39;49m\u001b[39mIan\u001b[39;49m\u001b[39m'\u001b[39;49m,\n\u001b[1;32m      6\u001b[0m                exp_name\u001b[39m=\u001b[39;49m\u001b[39m'\u001b[39;49m\u001b[39mCONV\u001b[39;49m\u001b[39m'\u001b[39;49m,\n\u001b[1;32m      7\u001b[0m                nodes\u001b[39m=\u001b[39;49m\u001b[39m1\u001b[39;49m, ntasks\u001b[39m=\u001b[39;49m\u001b[39m16\u001b[39;49m, account\u001b[39m=\u001b[39;49m\u001b[39m'\u001b[39;49m\u001b[39mzpu-kp\u001b[39;49m\u001b[39m'\u001b[39;49m, partition\u001b[39m=\u001b[39;49m\u001b[39m'\u001b[39;49m\u001b[39mzpu-kp\u001b[39;49m\u001b[39m'\u001b[39;49m)\n",
      "File \u001b[0;32m~/climetlab-my-plugin/functions/cycling_da.py:399\u001b[0m, in \u001b[0;36mrun_cycling_da\u001b[0;34m(data_library_name, dir_case, case_name, exp_name, nodes, ntasks, account, partition)\u001b[0m\n\u001b[1;32m    396\u001b[0m         \u001b[39mif\u001b[39;00m num \u001b[39m==\u001b[39m jobid[\u001b[39m0\u001b[39m]:\n\u001b[1;32m    397\u001b[0m             flag \u001b[39m=\u001b[39m \u001b[39mTrue\u001b[39;00m\n\u001b[0;32m--> 399\u001b[0m \u001b[39mprint\u001b[39m(miao)\n\u001b[1;32m    401\u001b[0m info \u001b[39m=\u001b[39m os\u001b[39m.\u001b[39mpopen(\u001b[39mf\u001b[39m\u001b[39m\"\u001b[39m\u001b[39mgrep \u001b[39m\u001b[39m'\u001b[39m\u001b[39mENDING DATE-TIME\u001b[39m\u001b[39m'\u001b[39m\u001b[39m \u001b[39m\u001b[39m{\u001b[39;00mrun_gsi_dir\u001b[39m}\u001b[39;00m\u001b[39m/case_\u001b[39m\u001b[39m{\u001b[39;00mdom\u001b[39m}\u001b[39;00m\u001b[39m/stdout\u001b[39m\u001b[39m\"\u001b[39m)\u001b[39m.\u001b[39mreadlines()\n\u001b[1;32m    402\u001b[0m \u001b[39mif\u001b[39;00m \u001b[39mlen\u001b[39m(info) \u001b[39m==\u001b[39m \u001b[39m1\u001b[39m:\n",
      "\u001b[0;31mNameError\u001b[0m: name 'miao' is not defined"
     ]
    }
   ],
   "source": [
    "from cycling_da import run_cycling_da\n",
    "\n",
    "run_cycling_da(data_library_name='cpex',                                                                                                                           \n",
    "               dir_case='/08_CPEX/01_CV_RF07_AEW06_IAN',\n",
    "               case_name='Ian',\n",
    "               exp_name='CONV',\n",
    "               nodes=1, ntasks=16, account='zpu-kp', partition='zpu-kp')"
   ]
  },
  {
   "attachments": {},
   "cell_type": "markdown",
   "id": "2b0583b0-bae5-4a2b-a6d8-6d1014d27abb",
   "metadata": {},
   "source": [
    "# Run WRF forecast after Cycling DA"
   ]
  },
  {
   "cell_type": "code",
   "execution_count": null,
   "id": "76881246-975c-4eee-b07c-16f244be13c1",
   "metadata": {
    "tags": []
   },
   "outputs": [],
   "source": [
    "# from cycling_da import run_wrf_forecast\n",
    "\n",
    "# run_wrf_forecast(dir_case='/02_GOES_Bias_Correction/27_ChCor',\n",
    "#                  case_name='Laura',\n",
    "#                  exp_name='NPB_ASRBC4CLD_CLD_10_V2',\n",
    "#                  da_cycle=12,\n",
    "#                  whether_wait=False, nodes=2, ntasks=64, account='zpu-np', partition='zpu-np')"
   ]
  },
  {
   "cell_type": "code",
   "execution_count": null,
   "id": "0b6158fd-2760-4db7-a0b5-f6cecbe105c5",
   "metadata": {},
   "outputs": [],
   "source": []
  }
 ],
 "metadata": {
  "kernelspec": {
   "display_name": "Python 3 (ipykernel)",
   "language": "python",
   "name": "python3"
  },
  "language_info": {
   "codemirror_mode": {
    "name": "ipython",
    "version": 3
   },
   "file_extension": ".py",
   "mimetype": "text/x-python",
   "name": "python",
   "nbconvert_exporter": "python",
   "pygments_lexer": "ipython3",
   "version": "3.10.9"
  }
 },
 "nbformat": 4,
 "nbformat_minor": 5
}
