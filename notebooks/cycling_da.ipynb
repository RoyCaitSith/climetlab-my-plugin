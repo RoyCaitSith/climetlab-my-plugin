{
 "cells": [
  {
   "attachments": {},
   "cell_type": "markdown",
   "id": "31708322-de5f-4bb9-8fa0-e3a27d06450a",
   "metadata": {},
   "source": [
    "# Run WPS and Real for Cycling DA"
   ]
  },
  {
   "cell_type": "code",
   "execution_count": null,
   "id": "ac3fdaf0-826b-4fc0-9070-eef35208b6ad",
   "metadata": {},
   "outputs": [],
   "source": [
    "from cycling_da import run_wps_and_real\n",
    "\n",
    "run_wps_and_real(data_library_name='cfact',\n",
    "                 dir_case='/CFACT/06_CV_RF01_AEW03',\n",
    "                 case_name='AEW03',\n",
    "                 exp_name='CONV',\n",
    "                 period='cycling_da',\n",
    "                 wps_version='WPS',\n",
    "                 whether_wait=False, nodes=2, ntasks=32, account='zpu-kp', partition='zpu-kp')"
   ]
  },
  {
   "attachments": {},
   "cell_type": "markdown",
   "id": "6e327713-e58b-4f04-a912-1c6de0461330",
   "metadata": {},
   "source": [
    "# Cycling DA"
   ]
  },
  {
   "cell_type": "code",
   "execution_count": null,
   "id": "73945b5f-6382-43d3-85b8-82aa501f3df8",
   "metadata": {},
   "outputs": [],
   "source": [
    "# from cycling_da import run_cycling_da\n",
    "\n",
    "# run_cycling_da(data_library_name='cpex',\n",
    "#                dir_case='/08_CPEX/01_CV_RF07_AEW06_IAN',\n",
    "#                case_name='Ian',\n",
    "#                exp_name='HALO_OE30',\n",
    "#                gsi_nodes=8, gsi_ntasks=192, gsi_account='zpu-kp', gsi_partition='zpu-kp', gsi_nodelist='kp[272-279]',\n",
    "#                wrf_nodes=4, wrf_ntasks=96,  wrf_account='zpu-kp', wrf_partition='zpu-kp', wrf_nodelist='kp[272-275]')\n",
    "#             #    gsi_nodes=3, gsi_ntasks=168, gsi_account='zpu-np', gsi_partition='zpu-np', gsi_nodelist='notch[382-384]',\n",
    "#             #    wrf_nodes=2, wrf_ntasks=112, wrf_account='zpu-np', wrf_partition='zpu-np', wrf_nodelist='notch[382-383]')"
   ]
  },
  {
   "attachments": {},
   "cell_type": "markdown",
   "id": "d3fd01f8",
   "metadata": {},
   "source": [
    "# Prepare files for WRF Forecasts"
   ]
  },
  {
   "cell_type": "code",
   "execution_count": null,
   "id": "538ebfef",
   "metadata": {},
   "outputs": [],
   "source": [
    "# from cycling_da import prepare_wrf_forecast\n",
    "\n",
    "# prepare_wrf_forecast(data_library_name='cpex',\n",
    "#                      dir_case='/08_CPEX/01_CV_RF07_AEW06_IAN',\n",
    "#                      case_name='Ian',\n",
    "#                      exp_name='HALO_OE30')"
   ]
  },
  {
   "attachments": {},
   "cell_type": "markdown",
   "id": "a2767040-9971-47aa-b904-85f0751c59ca",
   "metadata": {},
   "source": [
    "# Run WPS and Real for WRF Forecasts"
   ]
  },
  {
   "cell_type": "code",
   "execution_count": null,
   "id": "33022ec2",
   "metadata": {},
   "outputs": [],
   "source": [
    "# from cycling_da import run_wps_and_real\n",
    "\n",
    "# run_wps_and_real(data_library_name='cpex',\n",
    "#                  dir_case='/08_CPEX/01_CV_RF07_AEW06_IAN',\n",
    "#                  case_name='Ian',\n",
    "#                  exp_name='CTRL_V1_Thompson',\n",
    "#                  period='forecast',\n",
    "#                  whether_wait=False, nodes=1, ntasks=32, account='zpu-np', partition='zpu-np')"
   ]
  },
  {
   "attachments": {},
   "cell_type": "markdown",
   "id": "2b0583b0-bae5-4a2b-a6d8-6d1014d27abb",
   "metadata": {},
   "source": [
    "# Run WRF forecast after Cycling DA"
   ]
  },
  {
   "cell_type": "code",
   "execution_count": null,
   "id": "76881246-975c-4eee-b07c-16f244be13c1",
   "metadata": {
    "tags": []
   },
   "outputs": [],
   "source": [
    "# from cycling_da import run_wrf_forecast\n",
    "\n",
    "# run_wrf_forecast(data_library_name='cpex',\n",
    "#                  dir_case='/08_CPEX/01_CV_RF07_AEW06_IAN',\n",
    "#                  case_name='Ian',\n",
    "#                  exp_name='HALO_OE30',\n",
    "#                  da_cycle=4,\n",
    "#                 #  whether_wait=False, nodes=1, ntasks=32, account='zpu-np', partition='zpu-np', nodelist='notch[063-064]')\n",
    "#                  whether_wait=False, nodes=1, ntasks=32, account='zpu', partition='notchpeak', nodelist='')"
   ]
  },
  {
   "cell_type": "code",
   "execution_count": null,
   "id": "0b6158fd-2760-4db7-a0b5-f6cecbe105c5",
   "metadata": {},
   "outputs": [],
   "source": []
  }
 ],
 "metadata": {
  "kernelspec": {
   "display_name": "Python 3 (ipykernel)",
   "language": "python",
   "name": "python3"
  },
  "language_info": {
   "codemirror_mode": {
    "name": "ipython",
    "version": 3
   },
   "file_extension": ".py",
   "mimetype": "text/x-python",
   "name": "python",
   "nbconvert_exporter": "python",
   "pygments_lexer": "ipython3",
   "version": "3.9.18"
  }
 },
 "nbformat": 4,
 "nbformat_minor": 5
}
