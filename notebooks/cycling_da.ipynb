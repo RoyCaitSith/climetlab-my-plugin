{
 "cells": [
  {
   "cell_type": "markdown",
   "id": "5e624b79-9f39-43b8-957a-88e519cd160f",
   "metadata": {},
   "source": [
    "# Run WRF forecast after cycling da"
   ]
  },
  {
   "cell_type": "code",
   "execution_count": 1,
   "id": "76881246-975c-4eee-b07c-16f244be13c1",
   "metadata": {
    "tags": []
   },
   "outputs": [
    {
     "name": "stdout",
     "output_type": "stream",
     "text": [
      "Finsh checking the existence of wrf_inout\n",
      "Check wrfout files\n",
      "Move wrf forecasts from 2020-08-27 00:00:00 to 2020-08-29 06:00:00\n"
     ]
    },
    {
     "data": {
      "application/vnd.jupyter.widget-view+json": {
       "model_id": "ea099088ef384d03813b185d59513767",
       "version_major": 2,
       "version_minor": 0
      },
      "text/plain": [
       "Files: 0/10 files | 00:00<?"
      ]
     },
     "metadata": {},
     "output_type": "display_data"
    },
    {
     "name": "stdout",
     "output_type": "stream",
     "text": [
      "wrfout_d01_2020-08-27_00:00:00 already exists in /uufs/chpc.utah.edu/common/home/zpu-group16/cfeng/02_GOES_Bias_Correction/27_ChCor/cycling_da/Data/Laura/NPB_C12/bkg\n",
      "wrfout_d02_2020-08-27_00:00:00 already exists in /uufs/chpc.utah.edu/common/home/zpu-group16/cfeng/02_GOES_Bias_Correction/27_ChCor/cycling_da/Data/Laura/NPB_C12/bkg\n",
      "wrfout_d01_2020-08-27_06:00:00 already exists in /uufs/chpc.utah.edu/common/home/zpu-group16/cfeng/02_GOES_Bias_Correction/27_ChCor/cycling_da/Data/Laura/NPB_C12/bkg\n",
      "wrfout_d02_2020-08-27_06:00:00 already exists in /uufs/chpc.utah.edu/common/home/zpu-group16/cfeng/02_GOES_Bias_Correction/27_ChCor/cycling_da/Data/Laura/NPB_C12/bkg\n",
      "wrfout_d01_2020-08-27_12:00:00 already exists in /uufs/chpc.utah.edu/common/home/zpu-group16/cfeng/02_GOES_Bias_Correction/27_ChCor/cycling_da/Data/Laura/NPB_C12/bkg\n",
      "wrfout_d02_2020-08-27_12:00:00 already exists in /uufs/chpc.utah.edu/common/home/zpu-group16/cfeng/02_GOES_Bias_Correction/27_ChCor/cycling_da/Data/Laura/NPB_C12/bkg\n",
      "wrfout_d01_2020-08-27_18:00:00 already exists in /uufs/chpc.utah.edu/common/home/zpu-group16/cfeng/02_GOES_Bias_Correction/27_ChCor/cycling_da/Data/Laura/NPB_C12/bkg\n",
      "wrfout_d02_2020-08-27_18:00:00 already exists in /uufs/chpc.utah.edu/common/home/zpu-group16/cfeng/02_GOES_Bias_Correction/27_ChCor/cycling_da/Data/Laura/NPB_C12/bkg\n",
      "wrfout_d01_2020-08-28_00:00:00 already exists in /uufs/chpc.utah.edu/common/home/zpu-group16/cfeng/02_GOES_Bias_Correction/27_ChCor/cycling_da/Data/Laura/NPB_C12/bkg\n",
      "wrfout_d02_2020-08-28_00:00:00 already exists in /uufs/chpc.utah.edu/common/home/zpu-group16/cfeng/02_GOES_Bias_Correction/27_ChCor/cycling_da/Data/Laura/NPB_C12/bkg\n",
      "wrfout_d01_2020-08-28_06:00:00 already exists in /uufs/chpc.utah.edu/common/home/zpu-group16/cfeng/02_GOES_Bias_Correction/27_ChCor/cycling_da/Data/Laura/NPB_C12/bkg\n",
      "wrfout_d02_2020-08-28_06:00:00 already exists in /uufs/chpc.utah.edu/common/home/zpu-group16/cfeng/02_GOES_Bias_Correction/27_ChCor/cycling_da/Data/Laura/NPB_C12/bkg\n",
      "wrfout_d01_2020-08-28_12:00:00 already exists in /uufs/chpc.utah.edu/common/home/zpu-group16/cfeng/02_GOES_Bias_Correction/27_ChCor/cycling_da/Data/Laura/NPB_C12/bkg\n",
      "wrfout_d02_2020-08-28_12:00:00 already exists in /uufs/chpc.utah.edu/common/home/zpu-group16/cfeng/02_GOES_Bias_Correction/27_ChCor/cycling_da/Data/Laura/NPB_C12/bkg\n",
      "wrfout_d01_2020-08-28_18:00:00 already exists in /uufs/chpc.utah.edu/common/home/zpu-group16/cfeng/02_GOES_Bias_Correction/27_ChCor/cycling_da/Data/Laura/NPB_C12/bkg\n",
      "wrfout_d02_2020-08-28_18:00:00 already exists in /uufs/chpc.utah.edu/common/home/zpu-group16/cfeng/02_GOES_Bias_Correction/27_ChCor/cycling_da/Data/Laura/NPB_C12/bkg\n",
      "wrfout_d01_2020-08-29_00:00:00 already exists in /uufs/chpc.utah.edu/common/home/zpu-group16/cfeng/02_GOES_Bias_Correction/27_ChCor/cycling_da/Data/Laura/NPB_C12/bkg\n",
      "wrfout_d02_2020-08-29_00:00:00 already exists in /uufs/chpc.utah.edu/common/home/zpu-group16/cfeng/02_GOES_Bias_Correction/27_ChCor/cycling_da/Data/Laura/NPB_C12/bkg\n",
      "wrfout_d01_2020-08-29_06:00:00 already exists in /uufs/chpc.utah.edu/common/home/zpu-group16/cfeng/02_GOES_Bias_Correction/27_ChCor/cycling_da/Data/Laura/NPB_C12/bkg\n",
      "wrfout_d02_2020-08-29_06:00:00 already exists in /uufs/chpc.utah.edu/common/home/zpu-group16/cfeng/02_GOES_Bias_Correction/27_ChCor/cycling_da/Data/Laura/NPB_C12/bkg\n"
     ]
    }
   ],
   "source": [
    "from cycling_da import run_wrf_forecast\n",
    "\n",
    "run_wrf_forecast(dir_case='/02_GOES_Bias_Correction/27_ChCor', case_name='Laura', exp_name='NPB', da_cycle=12,\n",
    "                 whether_wait=True, nodes=1, ntasks=32, account='zpu', partition='notchpeak')"
   ]
  },
  {
   "cell_type": "code",
   "execution_count": null,
   "id": "0b6158fd-2760-4db7-a0b5-f6cecbe105c5",
   "metadata": {},
   "outputs": [],
   "source": []
  }
 ],
 "metadata": {
  "kernelspec": {
   "display_name": "Python 3 (ipykernel)",
   "language": "python",
   "name": "python3"
  },
  "language_info": {
   "codemirror_mode": {
    "name": "ipython",
    "version": 3
   },
   "file_extension": ".py",
   "mimetype": "text/x-python",
   "name": "python",
   "nbconvert_exporter": "python",
   "pygments_lexer": "ipython3",
   "version": "3.10.9"
  }
 },
 "nbformat": 4,
 "nbformat_minor": 5
}
