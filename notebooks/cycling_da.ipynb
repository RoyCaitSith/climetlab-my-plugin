{
 "cells": [
  {
   "cell_type": "markdown",
   "id": "5e624b79-9f39-43b8-957a-88e519cd160f",
   "metadata": {},
   "source": [
    "# Run WRF forecast after cycling da"
   ]
  },
  {
   "cell_type": "code",
   "execution_count": null,
   "id": "7946312a-281a-4dda-b20d-ce62dcb20437",
   "metadata": {
    "tags": []
   },
   "outputs": [],
   "source": [
    "from cycling_da import run_wrf_forecast\n",
    "\n",
    "run_wrf_forecast(dir_case='/05_TROPICS/05_cycling_da',\n",
    "                 case_name='Ida',\n",
    "                 exp_name='CON_CYG_TROPICS_Q_T_V1_CLR_ENS',\n",
    "                 da_cycle=1,\n",
    "                 whether_wait=False, nodes=2, ntasks=64, account='zpu-np', partition='zpu-np')"
   ]
  },
  {
   "cell_type": "code",
   "execution_count": 24,
   "id": "76881246-975c-4eee-b07c-16f244be13c1",
   "metadata": {
    "tags": []
   },
   "outputs": [
    {
     "name": "stdout",
     "output_type": "stream",
     "text": [
      "Finsh checking the existence of wrf_inout\n",
      "Check wrfout files\n",
      "Move wrf forecasts from 2020-08-27 00:00:00 to 2020-08-29 06:00:00\n"
     ]
    },
    {
     "data": {
      "application/vnd.jupyter.widget-view+json": {
       "model_id": "105df614059b4515937bf23b4cfc529e",
       "version_major": 2,
       "version_minor": 0
      },
      "text/plain": [
       "Files: 0/10 files | 00:00<?"
      ]
     },
     "metadata": {},
     "output_type": "display_data"
    },
    {
     "name": "stdout",
     "output_type": "stream",
     "text": [
      "wrfout_d01_2020-08-27_00:00:00 already exists in /uufs/chpc.utah.edu/common/home/zpu-group16/cfeng/02_GOES_Bias_Correction/27_ChCor/cycling_da/Data/Laura/NPB_ASRBC4CLD_CLD_10_V2_C12/bkg\n"
     ]
    }
   ],
   "source": [
    "from cycling_da import run_wrf_forecast\n",
    "\n",
    "run_wrf_forecast(dir_case='/02_GOES_Bias_Correction/27_ChCor',\n",
    "                 case_name='Laura',\n",
    "                 exp_name='NPB_ASRBC4CLD_CLD_10_V2',\n",
    "                 da_cycle=12,\n",
    "                 whether_wait=False, nodes=2, ntasks=64, account='zpu-np', partition='zpu-np')"
   ]
  },
  {
   "cell_type": "code",
   "execution_count": null,
   "id": "0b6158fd-2760-4db7-a0b5-f6cecbe105c5",
   "metadata": {},
   "outputs": [],
   "source": []
  }
 ],
 "metadata": {
  "kernelspec": {
   "display_name": "Python 3 (ipykernel)",
   "language": "python",
   "name": "python3"
  },
  "language_info": {
   "codemirror_mode": {
    "name": "ipython",
    "version": 3
   },
   "file_extension": ".py",
   "mimetype": "text/x-python",
   "name": "python",
   "nbconvert_exporter": "python",
   "pygments_lexer": "ipython3",
   "version": "3.10.9"
  }
 },
 "nbformat": 4,
 "nbformat_minor": 5
}
