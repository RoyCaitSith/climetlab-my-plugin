{
 "cells": [
  {
   "attachments": {},
   "cell_type": "markdown",
   "id": "31708322-de5f-4bb9-8fa0-e3a27d06450a",
   "metadata": {},
   "source": [
    "# Run WPS and Real for Cycling DA"
   ]
  },
  {
   "cell_type": "code",
   "execution_count": null,
   "id": "ac3fdaf0-826b-4fc0-9070-eef35208b6ad",
   "metadata": {},
   "outputs": [],
   "source": [
    "# from cycling_da import run_wps_and_real\n",
    "\n",
    "# run_wps_and_real(data_library_name='tropics',\n",
    "#                  dir_case='/TROPICS/12_Sam_Cycling_DA',\n",
    "#                  case_name='Sam',\n",
    "#                  exp_name='HVOLD_GEFS_V2_CS_T',\n",
    "#                  period='cycling_da',\n",
    "#                  wps_version='WPS',\n",
    "#                  whether_wait=False, nodes=1, ntasks=16, account='zpu-kp', partition='zpu-kp')"
   ]
  },
  {
   "attachments": {},
   "cell_type": "markdown",
   "id": "6e327713-e58b-4f04-a912-1c6de0461330",
   "metadata": {},
   "source": [
    "# Cycling DA"
   ]
  },
  {
   "cell_type": "code",
   "execution_count": 3,
   "id": "73945b5f-6382-43d3-85b8-82aa501f3df8",
   "metadata": {},
   "outputs": [
    {
     "name": "stdout",
     "output_type": "stream",
     "text": [
      "Copy files to dir_option\n"
     ]
    },
    {
     "data": {
      "application/vnd.jupyter.widget-view+json": {
       "model_id": "eea11361d2c548c28af020d028781744",
       "version_major": 2,
       "version_minor": 0
      },
      "text/plain": [
       "DA Cycle: 0/8 DA Cycles | 00:00<?"
      ]
     },
     "metadata": {},
     "output_type": "display_data"
    },
    {
     "name": "stdout",
     "output_type": "stream",
     "text": [
      "Run GSI at 2021092318\n",
      "Check wrfinput file for d01\n",
      "Copy satbias_out to satbias_out\n",
      "Copy satbias_pc.out to satbias_pc.out\n",
      "2021092318\n",
      "Create bkg folder, and copy wrfout to bkg\n",
      "Create obs folder, and copy bufr to obs\n"
     ]
    },
    {
     "name": "stderr",
     "output_type": "stream",
     "text": [
      "cp: cannot stat '/uufs/chpc.utah.edu/common/home/zpu-group30/cfeng/TROPICS/12_Sam_Cycling_DA/cycling_da/Sam_HVOLD_CYG_V2_AS_QT_C08/da/satbias_out.2021092312.d01': No such file or directory\n",
      "cp: cannot stat '/uufs/chpc.utah.edu/common/home/zpu-group30/cfeng/TROPICS/12_Sam_Cycling_DA/cycling_da/Sam_HVOLD_CYG_V2_AS_QT_C08/da/satbias_pc.out.2021092312.d01': No such file or directory\n",
      "cp: cannot stat '/uufs/chpc.utah.edu/common/home/zpu-group30/cfeng/TROPICS/12_Sam_Cycling_DA/cycling_da/Sam_HVOLD_CYG_V2_AS_QT_C08/bkg/wrfout_d01_2021-09-23_18:00:00': No such file or directory\n",
      "cp: cannot stat '/uufs/chpc.utah.edu/common/home/zpu-group30/cfeng/TROPICS/12_Sam_Cycling_DA/data/TROPICS_V2_SEA_AS/bufr/20210923/gdas.t18z.tropics.tm00.bufr_d': No such file or directory\n"
     ]
    },
    {
     "name": "stdout",
     "output_type": "stream",
     "text": [
      "Create ens folder, and copy wrfout to ens\n",
      "Copy, revise, and the script of running gsi at 2021092318\n",
      "Run gsi for domain d01 at 2021092318\n",
      "jobid: ['13362289']\n"
     ]
    },
    {
     "ename": "KeyboardInterrupt",
     "evalue": "",
     "output_type": "error",
     "traceback": [
      "\u001b[0;31m---------------------------------------------------------------------------\u001b[0m",
      "\u001b[0;31mKeyboardInterrupt\u001b[0m                         Traceback (most recent call last)",
      "Cell \u001b[0;32mIn[3], line 3\u001b[0m\n\u001b[1;32m      1\u001b[0m \u001b[38;5;28;01mfrom\u001b[39;00m \u001b[38;5;21;01mcycling_da\u001b[39;00m \u001b[38;5;28;01mimport\u001b[39;00m run_cycling_da\n\u001b[0;32m----> 3\u001b[0m \u001b[43mrun_cycling_da\u001b[49m\u001b[43m(\u001b[49m\u001b[43mdata_library_name\u001b[49m\u001b[38;5;241;43m=\u001b[39;49m\u001b[38;5;124;43m'\u001b[39;49m\u001b[38;5;124;43mtropics\u001b[39;49m\u001b[38;5;124;43m'\u001b[39;49m\u001b[43m,\u001b[49m\n\u001b[1;32m      4\u001b[0m \u001b[43m               \u001b[49m\u001b[43mdir_case\u001b[49m\u001b[38;5;241;43m=\u001b[39;49m\u001b[38;5;124;43m'\u001b[39;49m\u001b[38;5;124;43m/TROPICS/12_Sam_Cycling_DA\u001b[39;49m\u001b[38;5;124;43m'\u001b[39;49m\u001b[43m,\u001b[49m\n\u001b[1;32m      5\u001b[0m \u001b[43m               \u001b[49m\u001b[43mcase_name\u001b[49m\u001b[38;5;241;43m=\u001b[39;49m\u001b[38;5;124;43m'\u001b[39;49m\u001b[38;5;124;43mSam\u001b[39;49m\u001b[38;5;124;43m'\u001b[39;49m\u001b[43m,\u001b[49m\n\u001b[1;32m      6\u001b[0m \u001b[43m               \u001b[49m\u001b[43mexp_name\u001b[49m\u001b[38;5;241;43m=\u001b[39;49m\u001b[38;5;124;43m'\u001b[39;49m\u001b[38;5;124;43mHVOLD_CYG_V2_AS_QT\u001b[39;49m\u001b[38;5;124;43m'\u001b[39;49m\u001b[43m,\u001b[49m\n\u001b[1;32m      7\u001b[0m \u001b[43m               \u001b[49m\u001b[43mgsi_nodes\u001b[49m\u001b[38;5;241;43m=\u001b[39;49m\u001b[38;5;241;43m8\u001b[39;49m\u001b[43m,\u001b[49m\u001b[43m \u001b[49m\u001b[43mgsi_ntasks\u001b[49m\u001b[38;5;241;43m=\u001b[39;49m\u001b[38;5;241;43m192\u001b[39;49m\u001b[43m,\u001b[49m\u001b[43m \u001b[49m\u001b[43mgsi_account\u001b[49m\u001b[38;5;241;43m=\u001b[39;49m\u001b[38;5;124;43m'\u001b[39;49m\u001b[38;5;124;43mzpu-kp\u001b[39;49m\u001b[38;5;124;43m'\u001b[39;49m\u001b[43m,\u001b[49m\u001b[43m \u001b[49m\u001b[43mgsi_partition\u001b[49m\u001b[38;5;241;43m=\u001b[39;49m\u001b[38;5;124;43m'\u001b[39;49m\u001b[38;5;124;43mzpu-kp\u001b[39;49m\u001b[38;5;124;43m'\u001b[39;49m\u001b[43m,\u001b[49m\u001b[43m \u001b[49m\u001b[43mgsi_nodelist\u001b[49m\u001b[38;5;241;43m=\u001b[39;49m\u001b[38;5;124;43m'\u001b[39;49m\u001b[38;5;124;43mkp[272-279]\u001b[39;49m\u001b[38;5;124;43m'\u001b[39;49m\u001b[43m,\u001b[49m\n\u001b[1;32m      8\u001b[0m \u001b[43m               \u001b[49m\u001b[43mwrf_nodes\u001b[49m\u001b[38;5;241;43m=\u001b[39;49m\u001b[38;5;241;43m4\u001b[39;49m\u001b[43m,\u001b[49m\u001b[43m \u001b[49m\u001b[43mwrf_ntasks\u001b[49m\u001b[38;5;241;43m=\u001b[39;49m\u001b[38;5;241;43m96\u001b[39;49m\u001b[43m,\u001b[49m\u001b[43m  \u001b[49m\u001b[43mwrf_account\u001b[49m\u001b[38;5;241;43m=\u001b[39;49m\u001b[38;5;124;43m'\u001b[39;49m\u001b[38;5;124;43mzpu-kp\u001b[39;49m\u001b[38;5;124;43m'\u001b[39;49m\u001b[43m,\u001b[49m\u001b[43m \u001b[49m\u001b[43mwrf_partition\u001b[49m\u001b[38;5;241;43m=\u001b[39;49m\u001b[38;5;124;43m'\u001b[39;49m\u001b[38;5;124;43mzpu-kp\u001b[39;49m\u001b[38;5;124;43m'\u001b[39;49m\u001b[43m,\u001b[49m\u001b[43m \u001b[49m\u001b[43mwrf_nodelist\u001b[49m\u001b[38;5;241;43m=\u001b[39;49m\u001b[38;5;124;43m'\u001b[39;49m\u001b[38;5;124;43mkp[272-275]\u001b[39;49m\u001b[38;5;124;43m'\u001b[39;49m\u001b[43m)\u001b[49m\n\u001b[1;32m      9\u001b[0m             \u001b[38;5;66;03m#    gsi_nodes=3, gsi_ntasks=168, gsi_account='zpu-np', gsi_partition='zpu-np', gsi_nodelist='notch[382-384]',\u001b[39;00m\n\u001b[1;32m     10\u001b[0m             \u001b[38;5;66;03m#    wrf_nodes=2, wrf_ntasks=112, wrf_account='zpu-np', wrf_partition='zpu-np', wrf_nodelist='notch[382-383]')\u001b[39;00m\n",
      "File \u001b[0;32m~/climetlab-my-plugin/functions/cycling_da.py:517\u001b[0m, in \u001b[0;36mrun_cycling_da\u001b[0;34m(data_library_name, dir_case, case_name, exp_name, gsi_nodes, gsi_ntasks, gsi_account, gsi_partition, wrf_nodes, wrf_ntasks, wrf_account, wrf_partition, gsi_nodelist, wrf_nodelist)\u001b[0m\n\u001b[1;32m    514\u001b[0m run_gsi_input\u001b[38;5;241m.\u001b[39msave_content()\n\u001b[1;32m    516\u001b[0m \u001b[38;5;28mprint\u001b[39m(\u001b[38;5;124mf\u001b[39m\u001b[38;5;124m\"\u001b[39m\u001b[38;5;124mRun gsi for domain \u001b[39m\u001b[38;5;132;01m{\u001b[39;00mdom\u001b[38;5;132;01m}\u001b[39;00m\u001b[38;5;124m at \u001b[39m\u001b[38;5;132;01m{\u001b[39;00mtime_now_YYYYMMDDHH\u001b[38;5;132;01m}\u001b[39;00m\u001b[38;5;124m\"\u001b[39m)\n\u001b[0;32m--> 517\u001b[0m \u001b[43msubmit_job\u001b[49m\u001b[43m(\u001b[49m\u001b[43mdir_script\u001b[49m\u001b[38;5;241;43m=\u001b[39;49m\u001b[43mdir_option\u001b[49m\u001b[43m,\u001b[49m\n\u001b[1;32m    518\u001b[0m \u001b[43m           \u001b[49m\u001b[43mscript_name\u001b[49m\u001b[38;5;241;43m=\u001b[39;49m\u001b[38;5;124;43m'\u001b[39;49m\u001b[38;5;124;43mrun_GSI.sh\u001b[39;49m\u001b[38;5;124;43m'\u001b[39;49m\u001b[43m,\u001b[49m\n\u001b[1;32m    519\u001b[0m \u001b[43m           \u001b[49m\u001b[43mwhether_wait\u001b[49m\u001b[38;5;241;43m=\u001b[39;49m\u001b[38;5;28;43;01mTrue\u001b[39;49;00m\u001b[43m,\u001b[49m\n\u001b[1;32m    520\u001b[0m \u001b[43m           \u001b[49m\u001b[43mnodes\u001b[49m\u001b[38;5;241;43m=\u001b[39;49m\u001b[43mgsi_nodes\u001b[49m\u001b[43m,\u001b[49m\n\u001b[1;32m    521\u001b[0m \u001b[43m           \u001b[49m\u001b[43mntasks\u001b[49m\u001b[38;5;241;43m=\u001b[39;49m\u001b[43mgsi_ntasks\u001b[49m\u001b[43m,\u001b[49m\n\u001b[1;32m    522\u001b[0m \u001b[43m           \u001b[49m\u001b[43maccount\u001b[49m\u001b[38;5;241;43m=\u001b[39;49m\u001b[43mgsi_account\u001b[49m\u001b[43m,\u001b[49m\n\u001b[1;32m    523\u001b[0m \u001b[43m           \u001b[49m\u001b[43mpartition\u001b[49m\u001b[38;5;241;43m=\u001b[39;49m\u001b[43mgsi_partition\u001b[49m\u001b[43m,\u001b[49m\n\u001b[1;32m    524\u001b[0m \u001b[43m           \u001b[49m\u001b[43mnodelist\u001b[49m\u001b[38;5;241;43m=\u001b[39;49m\u001b[43mgsi_nodelist\u001b[49m\u001b[43m)\u001b[49m\n\u001b[1;32m    526\u001b[0m info \u001b[38;5;241m=\u001b[39m os\u001b[38;5;241m.\u001b[39mpopen(\u001b[38;5;124mf\u001b[39m\u001b[38;5;124m\"\u001b[39m\u001b[38;5;124mgrep \u001b[39m\u001b[38;5;124m'\u001b[39m\u001b[38;5;124mENDING DATE-TIME\u001b[39m\u001b[38;5;124m'\u001b[39m\u001b[38;5;124m \u001b[39m\u001b[38;5;132;01m{\u001b[39;00mrun_gsi_dir\u001b[38;5;132;01m}\u001b[39;00m\u001b[38;5;124m/case_\u001b[39m\u001b[38;5;132;01m{\u001b[39;00mdom\u001b[38;5;132;01m}\u001b[39;00m\u001b[38;5;124m/stdout\u001b[39m\u001b[38;5;124m\"\u001b[39m)\u001b[38;5;241m.\u001b[39mreadlines()\n\u001b[1;32m    527\u001b[0m \u001b[38;5;28;01mif\u001b[39;00m \u001b[38;5;28mlen\u001b[39m(info) \u001b[38;5;241m==\u001b[39m \u001b[38;5;241m1\u001b[39m:\n",
      "File \u001b[0;32m~/climetlab-my-plugin/functions/cycling_da.py:127\u001b[0m, in \u001b[0;36msubmit_job\u001b[0;34m(dir_script, script_name, whether_wait, nodes, ntasks, account, partition, nodelist, user_id, sleep_interval)\u001b[0m\n\u001b[1;32m    125\u001b[0m \u001b[38;5;28;01mif\u001b[39;00m whether_wait:\n\u001b[1;32m    126\u001b[0m     \u001b[38;5;28;01mwhile\u001b[39;00m \u001b[38;5;28many\u001b[39m(num \u001b[38;5;241m==\u001b[39m jobid[\u001b[38;5;241m0\u001b[39m] \u001b[38;5;28;01mfor\u001b[39;00m num \u001b[38;5;129;01min\u001b[39;00m re\u001b[38;5;241m.\u001b[39mfindall(\u001b[38;5;124mr\u001b[39m\u001b[38;5;124m\"\u001b[39m\u001b[38;5;124m\\\u001b[39m\u001b[38;5;124md+\u001b[39m\u001b[38;5;124m\\\u001b[39m\u001b[38;5;124m.?\u001b[39m\u001b[38;5;124m\\\u001b[39m\u001b[38;5;124md*\u001b[39m\u001b[38;5;124m\"\u001b[39m, os\u001b[38;5;241m.\u001b[39mpopen(\u001b[38;5;124mf\u001b[39m\u001b[38;5;124m'\u001b[39m\u001b[38;5;124msqueue -u \u001b[39m\u001b[38;5;132;01m{\u001b[39;00muser_id\u001b[38;5;132;01m}\u001b[39;00m\u001b[38;5;124m'\u001b[39m)\u001b[38;5;241m.\u001b[39mread())):\n\u001b[0;32m--> 127\u001b[0m         \u001b[43mtime\u001b[49m\u001b[38;5;241;43m.\u001b[39;49m\u001b[43msleep\u001b[49m\u001b[43m(\u001b[49m\u001b[43msleep_interval\u001b[49m\u001b[43m)\u001b[49m\n\u001b[1;32m    128\u001b[0m     \u001b[38;5;28mprint\u001b[39m(\u001b[38;5;124mf\u001b[39m\u001b[38;5;124m'\u001b[39m\u001b[38;5;124mFinish running the job\u001b[39m\u001b[38;5;124m'\u001b[39m)\n",
      "\u001b[0;31mKeyboardInterrupt\u001b[0m: "
     ]
    }
   ],
   "source": [
    "from cycling_da import run_cycling_da\n",
    "\n",
    "run_cycling_da(data_library_name='tropics',\n",
    "               dir_case='/TROPICS/12_Sam_Cycling_DA',\n",
    "               case_name='Sam',\n",
    "               exp_name='HVOLD_CYG_V2_AS_QT',\n",
    "               gsi_nodes=8, gsi_ntasks=192, gsi_account='zpu-kp', gsi_partition='zpu-kp', gsi_nodelist='kp[272-279]',\n",
    "               wrf_nodes=4, wrf_ntasks=96,  wrf_account='zpu-kp', wrf_partition='zpu-kp', wrf_nodelist='kp[272-275]')\n",
    "            #    gsi_nodes=3, gsi_ntasks=168, gsi_account='zpu-np', gsi_partition='zpu-np', gsi_nodelist='notch[382-384]',\n",
    "            #    wrf_nodes=2, wrf_ntasks=112, wrf_account='zpu-np', wrf_partition='zpu-np', wrf_nodelist='notch[382-383]')"
   ]
  },
  {
   "attachments": {},
   "cell_type": "markdown",
   "id": "d3fd01f8",
   "metadata": {},
   "source": [
    "# Prepare files for WRF Forecasts"
   ]
  },
  {
   "cell_type": "code",
   "execution_count": null,
   "id": "538ebfef",
   "metadata": {},
   "outputs": [],
   "source": [
    "# from cycling_da import prepare_wrf_forecast\n",
    "\n",
    "# prepare_wrf_forecast(data_library_name='cpex',\n",
    "#                      dir_case='/08_CPEX/01_CV_RF07_AEW06_IAN',\n",
    "#                      case_name='Ian',\n",
    "#                      exp_name='HALO_OE30')"
   ]
  },
  {
   "attachments": {},
   "cell_type": "markdown",
   "id": "a2767040-9971-47aa-b904-85f0751c59ca",
   "metadata": {},
   "source": [
    "# Run WPS and Real for WRF Forecasts"
   ]
  },
  {
   "cell_type": "code",
   "execution_count": null,
   "id": "33022ec2",
   "metadata": {},
   "outputs": [],
   "source": [
    "# from cycling_da import run_wps_and_real\n",
    "\n",
    "# run_wps_and_real(data_library_name='cpex',\n",
    "#                  dir_case='/08_CPEX/01_CV_RF07_AEW06_IAN',\n",
    "#                  case_name='Ian',\n",
    "#                  exp_name='CTRL_V1_Thompson',\n",
    "#                  period='forecast',\n",
    "#                  whether_wait=False, nodes=1, ntasks=32, account='zpu-np', partition='zpu-np')"
   ]
  },
  {
   "attachments": {},
   "cell_type": "markdown",
   "id": "2b0583b0-bae5-4a2b-a6d8-6d1014d27abb",
   "metadata": {},
   "source": [
    "# Run WRF forecast after Cycling DA"
   ]
  },
  {
   "cell_type": "code",
   "execution_count": null,
   "id": "76881246-975c-4eee-b07c-16f244be13c1",
   "metadata": {
    "tags": []
   },
   "outputs": [],
   "source": [
    "# from cycling_da import run_wrf_forecast\n",
    "\n",
    "# run_wrf_forecast(data_library_name='tropics',\n",
    "#                  dir_case='/TROPICS/12_Sam_Cycling_DA',\n",
    "#                  case_name='Sam',\n",
    "#                  exp_name='V1_CS_QT',\n",
    "#                  da_cycle=7,\n",
    "#                  whether_wait=False, nodes=2, ntasks=48, account='zpu-kp', partition='zpu-kp', nodelist='')\n",
    "#                 #  whether_wait=False, nodes=1, ntasks=32, account='zpu-np', partition='zpu-np', nodelist='notch[063-064]')"
   ]
  },
  {
   "cell_type": "code",
   "execution_count": null,
   "id": "0b6158fd-2760-4db7-a0b5-f6cecbe105c5",
   "metadata": {},
   "outputs": [],
   "source": []
  }
 ],
 "metadata": {
  "kernelspec": {
   "display_name": "Python 3 (ipykernel)",
   "language": "python",
   "name": "python3"
  },
  "language_info": {
   "codemirror_mode": {
    "name": "ipython",
    "version": 3
   },
   "file_extension": ".py",
   "mimetype": "text/x-python",
   "name": "python",
   "nbconvert_exporter": "python",
   "pygments_lexer": "ipython3",
   "version": "3.9.18"
  }
 },
 "nbformat": 4,
 "nbformat_minor": 5
}
