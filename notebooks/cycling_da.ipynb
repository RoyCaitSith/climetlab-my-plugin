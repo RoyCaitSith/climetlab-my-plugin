{
 "cells": [
  {
   "cell_type": "markdown",
   "id": "5e624b79-9f39-43b8-957a-88e519cd160f",
   "metadata": {},
   "source": [
    "# Run WRF forecast after cycling da"
   ]
  },
  {
   "cell_type": "code",
   "execution_count": 12,
   "id": "76881246-975c-4eee-b07c-16f244be13c1",
   "metadata": {
    "tags": []
   },
   "outputs": [
    {
     "name": "stdout",
     "output_type": "stream",
     "text": [
      "Finsh checking the existence of wrf_inout\n",
      "Check wrfout files\n",
      "Move wrf forecasts from 2020-08-27 00:00:00 to 2020-08-29 06:00:00\n"
     ]
    },
    {
     "data": {
      "application/json": {
       "ascii": false,
       "bar_format": "{desc}: {n}/{total} files | {elapsed}<{remaining}",
       "colour": null,
       "elapsed": 0.007543802261352539,
       "initial": 0,
       "n": 0,
       "ncols": null,
       "nrows": 43,
       "postfix": null,
       "prefix": "Files",
       "rate": null,
       "total": 10,
       "unit": "files",
       "unit_divisor": 1000,
       "unit_scale": false
      },
      "application/vnd.jupyter.widget-view+json": {
       "model_id": "1b2d0e45931e4719b26e641ae1e1fb50",
       "version_major": 2,
       "version_minor": 0
      },
      "text/plain": [
       "Files: 0/10 files | 00:00<?"
      ]
     },
     "metadata": {},
     "output_type": "display_data"
    },
    {
     "name": "stdout",
     "output_type": "stream",
     "text": [
      "wrfout_d01_2020-08-27_00:00:00 already exists in /uufs/chpc.utah.edu/common/home/zpu-group16/cfeng/02_GOES_Bias_Correction/27_ChCor/cycling_da/Data/Laura/NPB_C12/bkg\n"
     ]
    }
   ],
   "source": [
    "from data_library import data_library\n",
    "from cycling_da import run_wrf_forecast\n",
    "\n",
    "(dir_case, case_name, exp_name) = ('/02_GOES_Bias_Correction/27_ChCor', 'Laura', 'NPB')\n",
    "\n",
    "run_wrf_forecast(case_name=case_name,\n",
    "                 exp_name=exp_name,\n",
    "                 da_cycle=12,\n",
    "                 itime=data_library[(dir_case, case_name, exp_name)]['itime'],\n",
    "                 forecast_hours=data_library[(dir_case, case_name, exp_name)]['forecast_hours'],\n",
    "                 dir_exp=data_library[(dir_case, case_name, exp_name)]['dir_exp'],\n",
    "                 dir_scratch=data_library[(dir_case, case_name, exp_name)]['dir_scratch'],\n",
    "                 da_domains=data_library[(dir_case, case_name, exp_name)]['da_domains'],\n",
    "                 forecast_domains=data_library[(dir_case, case_name, exp_name)]['forecast_domains'],\n",
    "                 cycling_interval=data_library[(dir_case, case_name, exp_name)]['cycling_interval'],\n",
    "                 history_interval=data_library[(dir_case, case_name, exp_name)]['history_interval'],\n",
    "                 whether_wait=True,\n",
    "                 nodes=1,\n",
    "                 ntasks=32,\n",
    "                 account='zpu',\n",
    "                 partition='notchpeak')"
   ]
  },
  {
   "cell_type": "code",
   "execution_count": null,
   "id": "0b6158fd-2760-4db7-a0b5-f6cecbe105c5",
   "metadata": {},
   "outputs": [],
   "source": []
  }
 ],
 "metadata": {
  "kernelspec": {
   "display_name": "Python 3 (ipykernel)",
   "language": "python",
   "name": "python3"
  },
  "language_info": {
   "codemirror_mode": {
    "name": "ipython",
    "version": 3
   },
   "file_extension": ".py",
   "mimetype": "text/x-python",
   "name": "python",
   "nbconvert_exporter": "python",
   "pygments_lexer": "ipython3",
   "version": "3.9.7"
  }
 },
 "nbformat": 4,
 "nbformat_minor": 5
}
