{
 "cells": [
  {
   "cell_type": "markdown",
   "id": "5e624b79-9f39-43b8-957a-88e519cd160f",
   "metadata": {},
   "source": [
    "# Run WRF forecast after cycling da"
   ]
  },
  {
   "cell_type": "code",
   "execution_count": 1,
   "id": "7946312a-281a-4dda-b20d-ce62dcb20437",
   "metadata": {
    "tags": []
   },
   "outputs": [
    {
     "name": "stdout",
     "output_type": "stream",
     "text": [
      "Finsh checking the existence of wrf_inout\n",
      "Check wrfout files\n",
      "Wrfout does not exist! Start to copy wrf_inout to run the forecast\n"
     ]
    },
    {
     "data": {
      "application/vnd.jupyter.widget-view+json": {
       "model_id": "e4b602833641423aafae05cfa025a932",
       "version_major": 2,
       "version_minor": 0
      },
      "text/plain": [
       "Files: 0/1 files | 00:00<?"
      ]
     },
     "metadata": {},
     "output_type": "display_data"
    },
    {
     "name": "stdout",
     "output_type": "stream",
     "text": [
      "Revise namelist.input\n"
     ]
    },
    {
     "name": "stderr",
     "output_type": "stream",
     "text": [
      "cp: cannot create regular file '/scratch/general/nfs1/u1237353/Ida_CON_CYG_TROPICS_Q_T_V1_CLR_ENS_C01/Run_WRF/wrfinput_d01': No such file or directory\n",
      "cp: cannot create regular file '/scratch/general/nfs1/u1237353/Ida_CON_CYG_TROPICS_Q_T_V1_CLR_ENS_C01/Run_WRF/wrfinput_d02': No such file or directory\n"
     ]
    },
    {
     "ename": "FileNotFoundError",
     "evalue": "[Errno 2] No such file or directory: '/scratch/general/nfs1/u1237353/Ida_CON_CYG_TROPICS_Q_T_V1_CLR_ENS_C01/Run_WRF/namelist.input'",
     "output_type": "error",
     "traceback": [
      "\u001b[0;31m---------------------------------------------------------------------------\u001b[0m",
      "\u001b[0;31mFileNotFoundError\u001b[0m                         Traceback (most recent call last)",
      "Cell \u001b[0;32mIn[1], line 3\u001b[0m\n\u001b[1;32m      1\u001b[0m \u001b[38;5;28;01mfrom\u001b[39;00m \u001b[38;5;21;01mcycling_da\u001b[39;00m \u001b[38;5;28;01mimport\u001b[39;00m run_wrf_forecast\n\u001b[0;32m----> 3\u001b[0m \u001b[43mrun_wrf_forecast\u001b[49m\u001b[43m(\u001b[49m\u001b[43mdir_case\u001b[49m\u001b[38;5;241;43m=\u001b[39;49m\u001b[38;5;124;43m'\u001b[39;49m\u001b[38;5;124;43m/05_TROPICS/05_cycling_da\u001b[39;49m\u001b[38;5;124;43m'\u001b[39;49m\u001b[43m,\u001b[49m\n\u001b[1;32m      4\u001b[0m \u001b[43m                 \u001b[49m\u001b[43mcase_name\u001b[49m\u001b[38;5;241;43m=\u001b[39;49m\u001b[38;5;124;43m'\u001b[39;49m\u001b[38;5;124;43mIda\u001b[39;49m\u001b[38;5;124;43m'\u001b[39;49m\u001b[43m,\u001b[49m\n\u001b[1;32m      5\u001b[0m \u001b[43m                 \u001b[49m\u001b[43mexp_name\u001b[49m\u001b[38;5;241;43m=\u001b[39;49m\u001b[38;5;124;43m'\u001b[39;49m\u001b[38;5;124;43mCON_CYG_TROPICS_Q_T_V1_CLR_ENS\u001b[39;49m\u001b[38;5;124;43m'\u001b[39;49m\u001b[43m,\u001b[49m\n\u001b[1;32m      6\u001b[0m \u001b[43m                 \u001b[49m\u001b[43mda_cycle\u001b[49m\u001b[38;5;241;43m=\u001b[39;49m\u001b[38;5;241;43m1\u001b[39;49m\u001b[43m,\u001b[49m\n\u001b[1;32m      7\u001b[0m \u001b[43m                 \u001b[49m\u001b[43mwhether_wait\u001b[49m\u001b[38;5;241;43m=\u001b[39;49m\u001b[38;5;28;43;01mFalse\u001b[39;49;00m\u001b[43m,\u001b[49m\u001b[43m \u001b[49m\u001b[43mnodes\u001b[49m\u001b[38;5;241;43m=\u001b[39;49m\u001b[38;5;241;43m2\u001b[39;49m\u001b[43m,\u001b[49m\u001b[43m \u001b[49m\u001b[43mntasks\u001b[49m\u001b[38;5;241;43m=\u001b[39;49m\u001b[38;5;241;43m64\u001b[39;49m\u001b[43m,\u001b[49m\u001b[43m \u001b[49m\u001b[43maccount\u001b[49m\u001b[38;5;241;43m=\u001b[39;49m\u001b[38;5;124;43m'\u001b[39;49m\u001b[38;5;124;43mzpu-np\u001b[39;49m\u001b[38;5;124;43m'\u001b[39;49m\u001b[43m,\u001b[49m\u001b[43m \u001b[49m\u001b[43mpartition\u001b[49m\u001b[38;5;241;43m=\u001b[39;49m\u001b[38;5;124;43m'\u001b[39;49m\u001b[38;5;124;43mzpu-np\u001b[39;49m\u001b[38;5;124;43m'\u001b[39;49m\u001b[43m)\u001b[49m\n",
      "File \u001b[0;32m~/climetlab-my-plugin/functions/cycling_da.py:150\u001b[0m, in \u001b[0;36mrun_wrf_forecast\u001b[0;34m(dir_case, case_name, exp_name, da_cycle, whether_wait, nodes, ntasks, account, partition)\u001b[0m\n\u001b[1;32m    148\u001b[0m \u001b[38;5;66;03m# Time_Control\u001b[39;00m\n\u001b[1;32m    149\u001b[0m \u001b[38;5;28mprint\u001b[39m(\u001b[38;5;124m'\u001b[39m\u001b[38;5;124mRevise namelist.input\u001b[39m\u001b[38;5;124m'\u001b[39m)\n\u001b[0;32m--> 150\u001b[0m \u001b[43mupdate_namelist_time_control\u001b[49m\u001b[43m(\u001b[49m\u001b[43mtime_start\u001b[49m\u001b[43m,\u001b[49m\u001b[43m \u001b[49m\u001b[43mtime_end\u001b[49m\u001b[43m,\u001b[49m\u001b[43m \u001b[49m\u001b[43mforecast_hours\u001b[49m\u001b[43m,\u001b[49m\u001b[43m \u001b[49m\u001b[43mdir_case\u001b[49m\u001b[43m,\u001b[49m\u001b[43m \u001b[49m\u001b[43mforecast_domains\u001b[49m\u001b[43m,\u001b[49m\u001b[43m \u001b[49m\u001b[43mhistory_interval\u001b[49m\u001b[43m)\u001b[49m\n\u001b[1;32m    152\u001b[0m \u001b[38;5;66;03m# Run wrf to get the forecast\u001b[39;00m\n\u001b[1;32m    153\u001b[0m \u001b[38;5;28mprint\u001b[39m(\u001b[38;5;124mf\u001b[39m\u001b[38;5;124m'\u001b[39m\u001b[38;5;124mRun wrf from \u001b[39m\u001b[38;5;132;01m{\u001b[39;00mtime_start\u001b[38;5;132;01m}\u001b[39;00m\u001b[38;5;124m to \u001b[39m\u001b[38;5;132;01m{\u001b[39;00mtime_end\u001b[38;5;132;01m}\u001b[39;00m\u001b[38;5;124m'\u001b[39m)\n",
      "File \u001b[0;32m~/climetlab-my-plugin/functions/cycling_da.py:55\u001b[0m, in \u001b[0;36mupdate_namelist_time_control\u001b[0;34m(time_start, time_end, forecast_hours, dir_case, forecast_domains, history_interval)\u001b[0m\n\u001b[1;32m     52\u001b[0m     \u001b[38;5;28;01mreturn\u001b[39;00m [dt\u001b[38;5;241m.\u001b[39mstrftime(time_part) \u001b[38;5;241m+\u001b[39m \u001b[38;5;124m'\u001b[39m\u001b[38;5;124m, \u001b[39m\u001b[38;5;124m'\u001b[39m \u001b[38;5;28;01mfor\u001b[39;00m time_part \u001b[38;5;129;01min\u001b[39;00m time_parts]\n\u001b[1;32m     54\u001b[0m namelist_input_dir \u001b[38;5;241m=\u001b[39m os\u001b[38;5;241m.\u001b[39mpath\u001b[38;5;241m.\u001b[39mjoin(dir_case, \u001b[38;5;124m'\u001b[39m\u001b[38;5;124mRun_WRF\u001b[39m\u001b[38;5;124m'\u001b[39m, \u001b[38;5;124m'\u001b[39m\u001b[38;5;124mnamelist.input\u001b[39m\u001b[38;5;124m'\u001b[39m)\n\u001b[0;32m---> 55\u001b[0m namelist_input \u001b[38;5;241m=\u001b[39m \u001b[43mfo\u001b[49m\u001b[38;5;241;43m.\u001b[39;49m\u001b[43mchange_content\u001b[49m\u001b[43m(\u001b[49m\u001b[43mnamelist_input_dir\u001b[49m\u001b[43m)\u001b[49m\n\u001b[1;32m     56\u001b[0m max_dom \u001b[38;5;241m=\u001b[39m \u001b[38;5;28mlen\u001b[39m(forecast_domains)\n\u001b[1;32m     57\u001b[0m start_parts \u001b[38;5;241m=\u001b[39m update_time_parts(time_start, max_dom)\n",
      "File \u001b[0;32m~/climetlab-my-plugin/functions/file_operations.py:26\u001b[0m, in \u001b[0;36mchange_content.__init__\u001b[0;34m(self, path)\u001b[0m\n\u001b[1;32m     24\u001b[0m \u001b[38;5;28;01mdef\u001b[39;00m \u001b[38;5;21m__init__\u001b[39m(\u001b[38;5;28mself\u001b[39m, path):\n\u001b[1;32m     25\u001b[0m     \u001b[38;5;28mself\u001b[39m\u001b[38;5;241m.\u001b[39mpath \u001b[38;5;241m=\u001b[39m path\n\u001b[0;32m---> 26\u001b[0m     temp \u001b[38;5;241m=\u001b[39m \u001b[38;5;28;43mopen\u001b[39;49m\u001b[43m(\u001b[49m\u001b[43mpath\u001b[49m\u001b[43m)\u001b[49m\n\u001b[1;32m     27\u001b[0m     \u001b[38;5;28mself\u001b[39m\u001b[38;5;241m.\u001b[39mcontent \u001b[38;5;241m=\u001b[39m temp\u001b[38;5;241m.\u001b[39mreadlines()\n\u001b[1;32m     28\u001b[0m     temp\u001b[38;5;241m.\u001b[39mclose()\n",
      "\u001b[0;31mFileNotFoundError\u001b[0m: [Errno 2] No such file or directory: '/scratch/general/nfs1/u1237353/Ida_CON_CYG_TROPICS_Q_T_V1_CLR_ENS_C01/Run_WRF/namelist.input'"
     ]
    }
   ],
   "source": [
    "from cycling_da import run_wrf_forecast\n",
    "\n",
    "run_wrf_forecast(dir_case='/05_TROPICS/05_cycling_da',\n",
    "                 case_name='Ida',\n",
    "                 exp_name='CON_CYG_TROPICS_Q_T_V1_CLR_ENS',\n",
    "                 da_cycle=1,\n",
    "                 whether_wait=False, nodes=2, ntasks=64, account='zpu-np', partition='zpu-np')"
   ]
  },
  {
   "cell_type": "code",
   "execution_count": 25,
   "id": "76881246-975c-4eee-b07c-16f244be13c1",
   "metadata": {
    "tags": []
   },
   "outputs": [
    {
     "name": "stdout",
     "output_type": "stream",
     "text": [
      "Finsh checking the existence of wrf_inout\n",
      "Check wrfout files\n",
      "Wrfout does not exist! Start to copy wrf_inout to run the forecast\n"
     ]
    },
    {
     "data": {
      "application/vnd.jupyter.widget-view+json": {
       "model_id": "ad48a7c2c2754c6682b98f43efe0917a",
       "version_major": 2,
       "version_minor": 0
      },
      "text/plain": [
       "Files: 0/1 files | 00:00<?"
      ]
     },
     "metadata": {},
     "output_type": "display_data"
    },
    {
     "name": "stdout",
     "output_type": "stream",
     "text": [
      "Revise namelist.input\n",
      "Run wrf from 2020-08-27 00:00:00 to 2020-08-29 06:00:00\n",
      "jobid: ['7432109']\n"
     ]
    }
   ],
   "source": [
    "from cycling_da import run_wrf_forecast\n",
    "\n",
    "run_wrf_forecast(dir_case='/02_GOES_Bias_Correction/27_ChCor',\n",
    "                 case_name='Laura',\n",
    "                 exp_name='NPB_ASRBC4CLD_CLD_10_V1',\n",
    "                 da_cycle=12,\n",
    "                 whether_wait=False, nodes=2, ntasks=64, account='zpu-np', partition='zpu-np')"
   ]
  },
  {
   "cell_type": "code",
   "execution_count": null,
   "id": "0b6158fd-2760-4db7-a0b5-f6cecbe105c5",
   "metadata": {},
   "outputs": [],
   "source": []
  }
 ],
 "metadata": {
  "kernelspec": {
   "display_name": "Python 3 (ipykernel)",
   "language": "python",
   "name": "python3"
  },
  "language_info": {
   "codemirror_mode": {
    "name": "ipython",
    "version": 3
   },
   "file_extension": ".py",
   "mimetype": "text/x-python",
   "name": "python",
   "nbconvert_exporter": "python",
   "pygments_lexer": "ipython3",
   "version": "3.10.9"
  }
 },
 "nbformat": 4,
 "nbformat_minor": 5
}
