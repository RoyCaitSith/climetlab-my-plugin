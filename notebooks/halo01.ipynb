{
 "cells": [
  {
   "attachments": {},
   "cell_type": "markdown",
   "id": "0a98ed75-a6bf-48d4-9f7d-4feb289d7271",
   "metadata": {},
   "source": [
    "# Create bufr temp files for HALO"
   ]
  },
  {
   "cell_type": "code",
   "execution_count": null,
   "id": "74fe7392-9d6c-423b-92f1-ca71c54fc550",
   "metadata": {},
   "outputs": [],
   "source": [
    "# from halo import create_HALO_bufr_temp\n",
    "\n",
    "# create_HALO_bufr_temp(data_library_name='cpex',\n",
    "#                       dir_case='/CPEX/09_CV_RF04_AEW04',\n",
    "#                       case_name='AEW04')"
   ]
  },
  {
   "attachments": {},
   "cell_type": "markdown",
   "id": "757823b6",
   "metadata": {},
   "source": [
    "# Create bufr for HALO"
   ]
  },
  {
   "cell_type": "code",
   "execution_count": null,
   "id": "eb1b4545",
   "metadata": {},
   "outputs": [],
   "source": [
    "# from halo import create_HALO_bufr\n",
    "\n",
    "# create_HALO_bufr(data_library_name='cpex',\n",
    "#                  dir_case='/CPEX/09_CV_RF04_AEW04',\n",
    "#                  case_name='AEW04')"
   ]
  },
  {
   "cell_type": "markdown",
   "id": "24871ba5",
   "metadata": {},
   "source": [
    "# Interpolation of WRF data"
   ]
  },
  {
   "cell_type": "code",
   "execution_count": null,
   "id": "31618bec",
   "metadata": {},
   "outputs": [],
   "source": [
    "# from halo import wrf_extract_HALO\n",
    "\n",
    "# n_exp_name = 1\n",
    "# wrf_extract_HALO(data_library_names=['cpex']*n_exp_name,\n",
    "#                  dir_cases=['/CPEX/02_AW_RF01_AEW01']*n_exp_name,\n",
    "#                  case_names=['AEW01']*n_exp_name,\n",
    "#                  exp_names=['DAWN_HALO'])"
   ]
  },
  {
   "cell_type": "code",
   "execution_count": 1,
   "id": "426729e9",
   "metadata": {},
   "outputs": [
    {
     "data": {
      "application/vnd.jupyter.widget-view+json": {
       "model_id": "ff600b97e2ea45bdbde4c7326c2a0f3d",
       "version_major": 2,
       "version_minor": 0
      },
      "text/plain": [
       "Cases: 0/1 files | 00:00<?"
      ]
     },
     "metadata": {},
     "output_type": "display_data"
    },
    {
     "data": {
      "application/vnd.jupyter.widget-view+json": {
       "model_id": "72e0c6d0c3fa4d7b929d5d7d99a167f5",
       "version_major": 2,
       "version_minor": 0
      },
      "text/plain": [
       "Domains:   0%|          | 0/1 [00:00<?, ?it/s]"
      ]
     },
     "metadata": {},
     "output_type": "display_data"
    },
    {
     "data": {
      "application/vnd.jupyter.widget-view+json": {
       "model_id": "61c9719039b14fe080984c6f09d55573",
       "version_major": 2,
       "version_minor": 0
      },
      "text/plain": [
       "Cycles:   0%|          | 0/4 [00:00<?, ?it/s]"
      ]
     },
     "metadata": {},
     "output_type": "display_data"
    },
    {
     "data": {
      "application/vnd.jupyter.widget-view+json": {
       "model_id": "53ca16e4c43d4228b081f12188e04744",
       "version_major": 2,
       "version_minor": 0
      },
      "text/plain": [
       "Times:   0%|          | 0/1 [00:00<?, ?it/s]"
      ]
     },
     "metadata": {},
     "output_type": "display_data"
    },
    {
     "data": {
      "application/vnd.jupyter.widget-view+json": {
       "model_id": "11839028cc184191b800f0074d700d84",
       "version_major": 2,
       "version_minor": 0
      },
      "text/plain": [
       "Times:   0%|          | 0/2 [00:00<?, ?it/s]"
      ]
     },
     "metadata": {},
     "output_type": "display_data"
    },
    {
     "data": {
      "application/vnd.jupyter.widget-view+json": {
       "model_id": "8acf9a71913d459381fe97917f64b177",
       "version_major": 2,
       "version_minor": 0
      },
      "text/plain": [
       "Levels:   0%|          | 0/775 [00:00<?, ?it/s]"
      ]
     },
     "metadata": {},
     "output_type": "display_data"
    },
    {
     "data": {
      "application/vnd.jupyter.widget-view+json": {
       "model_id": "a0a613503f514178979d67963cd5b8be",
       "version_major": 2,
       "version_minor": 0
      },
      "text/plain": [
       "Times:   0%|          | 0/3 [00:00<?, ?it/s]"
      ]
     },
     "metadata": {},
     "output_type": "display_data"
    },
    {
     "data": {
      "application/vnd.jupyter.widget-view+json": {
       "model_id": "4178261a70d74b67949c6618d98a4196",
       "version_major": 2,
       "version_minor": 0
      },
      "text/plain": [
       "Levels:   0%|          | 0/775 [00:00<?, ?it/s]"
      ]
     },
     "metadata": {},
     "output_type": "display_data"
    },
    {
     "data": {
      "application/vnd.jupyter.widget-view+json": {
       "model_id": "657d7fcc1dfa4c20b633e2c2225b6841",
       "version_major": 2,
       "version_minor": 0
      },
      "text/plain": [
       "Levels:   0%|          | 0/814 [00:00<?, ?it/s]"
      ]
     },
     "metadata": {},
     "output_type": "display_data"
    },
    {
     "data": {
      "application/vnd.jupyter.widget-view+json": {
       "model_id": "f03e4754ffad4f668f7b306f2ed60e70",
       "version_major": 2,
       "version_minor": 0
      },
      "text/plain": [
       "Times:   0%|          | 0/4 [00:00<?, ?it/s]"
      ]
     },
     "metadata": {},
     "output_type": "display_data"
    },
    {
     "data": {
      "application/vnd.jupyter.widget-view+json": {
       "model_id": "a91fd3b8db3846af82c5797c6164ebed",
       "version_major": 2,
       "version_minor": 0
      },
      "text/plain": [
       "Levels:   0%|          | 0/775 [00:00<?, ?it/s]"
      ]
     },
     "metadata": {},
     "output_type": "display_data"
    },
    {
     "data": {
      "application/vnd.jupyter.widget-view+json": {
       "model_id": "49163f1763614c5688c0df5a0849f4f5",
       "version_major": 2,
       "version_minor": 0
      },
      "text/plain": [
       "Levels:   0%|          | 0/814 [00:00<?, ?it/s]"
      ]
     },
     "metadata": {},
     "output_type": "display_data"
    }
   ],
   "source": [
    "from halo import wrf_extract_HALO\n",
    "\n",
    "n_exp_name = 1\n",
    "wrf_extract_HALO(data_library_names=['cpex']*n_exp_name,\n",
    "                 dir_cases=['/CPEX/06_CV_RF01_AEW03']*n_exp_name,\n",
    "                 case_names=['AEW03']*n_exp_name,\n",
    "                 exp_names=['DAWN_HALO'])"
   ]
  },
  {
   "cell_type": "markdown",
   "id": "762f3ffd",
   "metadata": {},
   "source": [
    "# Compare Observation and Simulation"
   ]
  },
  {
   "cell_type": "code",
   "execution_count": null,
   "id": "75a38018",
   "metadata": {},
   "outputs": [],
   "source": [
    "# from halo import draw_HALO_comparison\n",
    "\n",
    "# n_exp_names = 9\n",
    "# data_library_names = ['cpex']*n_exp_names\n",
    "# dir_cases = ['/08_CPEX/01_CV_RF07_AEW06_IAN']*n_exp_names\n",
    "# case_names = ['Ian']*n_exp_names\n",
    "# exp_names = ['CTRL', 'CONV', 'DAWN', 'DAWN_HALO', 'HALO_OE10', 'HALO_OE15', 'HALO', 'HALO_OE25', 'HALO_OE30']\n",
    "\n",
    "# draw_HALO_comparison(data_library_names=data_library_names,\n",
    "#                      dir_cases=dir_cases,\n",
    "#                      case_names=case_names,\n",
    "#                      exp_names=exp_names,\n",
    "#                      scatter_var='q_OmA', scatter_levels=range(-6, 7, 2),\n",
    "#                      domains=['d01'], da_cycle=4, var_time=20220916180000)"
   ]
  },
  {
   "cell_type": "code",
   "execution_count": null,
   "id": "744a4166",
   "metadata": {},
   "outputs": [],
   "source": [
    "# from halo import draw_HALO_comparison\n",
    "\n",
    "# n_exp_names = 5\n",
    "# data_library_names = ['cpex']*n_exp_names\n",
    "# dir_cases = ['/08_CPEX/01_CV_RF07_AEW06_IAN']*n_exp_names\n",
    "# case_names = ['Ian']*n_exp_names\n",
    "# exp_names = ['CTRL', 'CONV', 'DAWN', 'HALO', 'DAWN_HALO']\n",
    "\n",
    "# draw_HALO_comparison(data_library_names=data_library_names,\n",
    "#                      dir_cases=dir_cases,\n",
    "#                      case_names=case_names,\n",
    "#                      exp_names=exp_names,\n",
    "#                      scatter_var='q_anl', scatter_levels=range(0, 91, 15),\n",
    "#                      domains=['d01'], da_cycle=4, var_time=20220916180000)"
   ]
  },
  {
   "cell_type": "code",
   "execution_count": null,
   "id": "d273a129",
   "metadata": {},
   "outputs": [],
   "source": []
  }
 ],
 "metadata": {
  "kernelspec": {
   "display_name": "Python 3 (ipykernel)",
   "language": "python",
   "name": "python3"
  },
  "language_info": {
   "codemirror_mode": {
    "name": "ipython",
    "version": 3
   },
   "file_extension": ".py",
   "mimetype": "text/x-python",
   "name": "python",
   "nbconvert_exporter": "python",
   "pygments_lexer": "ipython3",
   "version": "3.9.18"
  }
 },
 "nbformat": 4,
 "nbformat_minor": 5
}
