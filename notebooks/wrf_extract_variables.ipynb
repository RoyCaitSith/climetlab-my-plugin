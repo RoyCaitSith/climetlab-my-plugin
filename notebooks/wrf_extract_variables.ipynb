{
 "cells": [
  {
   "cell_type": "markdown",
   "id": "524de3a4",
   "metadata": {},
   "source": [
    "# Extract Analysis Increment"
   ]
  },
  {
   "cell_type": "code",
   "execution_count": null,
   "id": "ceb982b7",
   "metadata": {},
   "outputs": [],
   "source": [
    "from wrf_extract_variables import wrf_extract_variables\n",
    "\n",
    "data_library_names = ['cpex']*4\n",
    "dir_cases = ['/08_CPEX/03_AW_RF02_AEW02']*4\n",
    "case_names = ['AEW02']*4\n",
    "exp_names = ['CTRL', 'CONV', 'DAWN', 'HALO']\n",
    "\n",
    "calculate_analysis_increment(data_library_names=data_library_names,\n",
    "                             dir_cases=dir_cases,\n",
    "                             case_names=case_names,\n",
    "                             exp_names=exp_names,\n",
    "                             variables=['ua', 'va', 'temp', 'QVAPOR'])"
   ]
  },
  {
   "cell_type": "markdown",
   "id": "bc3f79e9-639f-49e4-9a58-4af3c47a525a",
   "metadata": {},
   "source": [
    "# Extract 6h Accumulated Precipitation"
   ]
  },
  {
   "cell_type": "code",
   "execution_count": 1,
   "id": "150e3456-c4fd-4809-831e-859071d6ae60",
   "metadata": {},
   "outputs": [
    {
     "data": {
      "application/vnd.jupyter.widget-view+json": {
       "model_id": "1444b0b944684f10b5c08b379a25b9a2",
       "version_major": 2,
       "version_minor": 0
      },
      "text/plain": [
       "Cases: 0/2 files | 00:00<?"
      ]
     },
     "metadata": {},
     "output_type": "display_data"
    },
    {
     "data": {
      "application/vnd.jupyter.widget-view+json": {
       "model_id": "fa750f8ec15444a78381e470e36e79a9",
       "version_major": 2,
       "version_minor": 0
      },
      "text/plain": [
       "Cycles:   0%|          | 0/4 [00:00<?, ?it/s]"
      ]
     },
     "metadata": {},
     "output_type": "display_data"
    },
    {
     "data": {
      "application/vnd.jupyter.widget-view+json": {
       "model_id": "40867b0a2eda44fc9da5e8ae1c3ad4b8",
       "version_major": 2,
       "version_minor": 0
      },
      "text/plain": [
       "Domains:   0%|          | 0/2 [00:00<?, ?it/s]"
      ]
     },
     "metadata": {},
     "output_type": "display_data"
    },
    {
     "data": {
      "application/vnd.jupyter.widget-view+json": {
       "model_id": "3a33da2c50bd40dba4afa9918c7637e2",
       "version_major": 2,
       "version_minor": 0
      },
      "text/plain": [
       "Variables:   0%|          | 0/1 [00:00<?, ?it/s]"
      ]
     },
     "metadata": {},
     "output_type": "display_data"
    },
    {
     "data": {
      "application/vnd.jupyter.widget-view+json": {
       "model_id": "089ffe17676644108761f721c4a4a083",
       "version_major": 2,
       "version_minor": 0
      },
      "text/plain": [
       "Times:   0%|          | 0/41 [00:00<?, ?it/s]"
      ]
     },
     "metadata": {},
     "output_type": "display_data"
    },
    {
     "data": {
      "application/vnd.jupyter.widget-view+json": {
       "model_id": "e5b1f345378643ac90febe0970efb595",
       "version_major": 2,
       "version_minor": 0
      },
      "text/plain": [
       "Variables:   0%|          | 0/1 [00:00<?, ?it/s]"
      ]
     },
     "metadata": {},
     "output_type": "display_data"
    },
    {
     "data": {
      "application/vnd.jupyter.widget-view+json": {
       "model_id": "200d863ca70245389eaf8bae15ab4ace",
       "version_major": 2,
       "version_minor": 0
      },
      "text/plain": [
       "Times:   0%|          | 0/41 [00:00<?, ?it/s]"
      ]
     },
     "metadata": {},
     "output_type": "display_data"
    },
    {
     "data": {
      "application/vnd.jupyter.widget-view+json": {
       "model_id": "72da0b57d95644f6a41cb861c5c1dd1a",
       "version_major": 2,
       "version_minor": 0
      },
      "text/plain": [
       "Domains:   0%|          | 0/2 [00:00<?, ?it/s]"
      ]
     },
     "metadata": {},
     "output_type": "display_data"
    },
    {
     "data": {
      "application/vnd.jupyter.widget-view+json": {
       "model_id": "997a0cd8ca21491f909c13169f1d791e",
       "version_major": 2,
       "version_minor": 0
      },
      "text/plain": [
       "Variables:   0%|          | 0/1 [00:00<?, ?it/s]"
      ]
     },
     "metadata": {},
     "output_type": "display_data"
    },
    {
     "data": {
      "application/vnd.jupyter.widget-view+json": {
       "model_id": "16b8d7e33d1048bf9eb08c5ccfd0ff48",
       "version_major": 2,
       "version_minor": 0
      },
      "text/plain": [
       "Times:   0%|          | 0/42 [00:00<?, ?it/s]"
      ]
     },
     "metadata": {},
     "output_type": "display_data"
    },
    {
     "data": {
      "application/vnd.jupyter.widget-view+json": {
       "model_id": "3fac63229b5f45f3ba6346dfb72a76ae",
       "version_major": 2,
       "version_minor": 0
      },
      "text/plain": [
       "Variables:   0%|          | 0/1 [00:00<?, ?it/s]"
      ]
     },
     "metadata": {},
     "output_type": "display_data"
    },
    {
     "data": {
      "application/vnd.jupyter.widget-view+json": {
       "model_id": "a5607d39f5eb4dddbf53c5d9c91c22db",
       "version_major": 2,
       "version_minor": 0
      },
      "text/plain": [
       "Times:   0%|          | 0/42 [00:00<?, ?it/s]"
      ]
     },
     "metadata": {},
     "output_type": "display_data"
    },
    {
     "data": {
      "application/vnd.jupyter.widget-view+json": {
       "model_id": "c56069d22a8b47268b92ab11f6f7b782",
       "version_major": 2,
       "version_minor": 0
      },
      "text/plain": [
       "Domains:   0%|          | 0/2 [00:00<?, ?it/s]"
      ]
     },
     "metadata": {},
     "output_type": "display_data"
    },
    {
     "data": {
      "application/vnd.jupyter.widget-view+json": {
       "model_id": "b69216df8ef64cf2ba8f3bc5626367c6",
       "version_major": 2,
       "version_minor": 0
      },
      "text/plain": [
       "Variables:   0%|          | 0/1 [00:00<?, ?it/s]"
      ]
     },
     "metadata": {},
     "output_type": "display_data"
    },
    {
     "data": {
      "application/vnd.jupyter.widget-view+json": {
       "model_id": "e0c820522e1a45498fc9ced1d16c34a1",
       "version_major": 2,
       "version_minor": 0
      },
      "text/plain": [
       "Times:   0%|          | 0/43 [00:00<?, ?it/s]"
      ]
     },
     "metadata": {},
     "output_type": "display_data"
    },
    {
     "data": {
      "application/vnd.jupyter.widget-view+json": {
       "model_id": "5ff26dab634249488552fd73b4174461",
       "version_major": 2,
       "version_minor": 0
      },
      "text/plain": [
       "Variables:   0%|          | 0/1 [00:00<?, ?it/s]"
      ]
     },
     "metadata": {},
     "output_type": "display_data"
    },
    {
     "data": {
      "application/vnd.jupyter.widget-view+json": {
       "model_id": "6fdef6ef4c494d5ba089892b60aae362",
       "version_major": 2,
       "version_minor": 0
      },
      "text/plain": [
       "Times:   0%|          | 0/43 [00:00<?, ?it/s]"
      ]
     },
     "metadata": {},
     "output_type": "display_data"
    },
    {
     "data": {
      "application/vnd.jupyter.widget-view+json": {
       "model_id": "6474600d1b104abeb5c392fd6f2a4fc8",
       "version_major": 2,
       "version_minor": 0
      },
      "text/plain": [
       "Domains:   0%|          | 0/2 [00:00<?, ?it/s]"
      ]
     },
     "metadata": {},
     "output_type": "display_data"
    },
    {
     "data": {
      "application/vnd.jupyter.widget-view+json": {
       "model_id": "ee88e0ba2af5489281afe65d041c8915",
       "version_major": 2,
       "version_minor": 0
      },
      "text/plain": [
       "Variables:   0%|          | 0/1 [00:00<?, ?it/s]"
      ]
     },
     "metadata": {},
     "output_type": "display_data"
    },
    {
     "data": {
      "application/vnd.jupyter.widget-view+json": {
       "model_id": "c372277382d949e9b7bd88f52780aebc",
       "version_major": 2,
       "version_minor": 0
      },
      "text/plain": [
       "Times:   0%|          | 0/44 [00:00<?, ?it/s]"
      ]
     },
     "metadata": {},
     "output_type": "display_data"
    },
    {
     "data": {
      "application/vnd.jupyter.widget-view+json": {
       "model_id": "1b70e64a66644312807940c8d6cdd1b4",
       "version_major": 2,
       "version_minor": 0
      },
      "text/plain": [
       "Variables:   0%|          | 0/1 [00:00<?, ?it/s]"
      ]
     },
     "metadata": {},
     "output_type": "display_data"
    },
    {
     "data": {
      "application/vnd.jupyter.widget-view+json": {
       "model_id": "55fcf47e34d444fb84dd219e2c15d8f2",
       "version_major": 2,
       "version_minor": 0
      },
      "text/plain": [
       "Times:   0%|          | 0/44 [00:00<?, ?it/s]"
      ]
     },
     "metadata": {},
     "output_type": "display_data"
    },
    {
     "data": {
      "application/vnd.jupyter.widget-view+json": {
       "model_id": "e5e758ebc3c94bd0ac3089342f86dc75",
       "version_major": 2,
       "version_minor": 0
      },
      "text/plain": [
       "Cycles:   0%|          | 0/4 [00:00<?, ?it/s]"
      ]
     },
     "metadata": {},
     "output_type": "display_data"
    },
    {
     "data": {
      "application/vnd.jupyter.widget-view+json": {
       "model_id": "b19b92003eae47a18e2fef52b289f35f",
       "version_major": 2,
       "version_minor": 0
      },
      "text/plain": [
       "Domains:   0%|          | 0/2 [00:00<?, ?it/s]"
      ]
     },
     "metadata": {},
     "output_type": "display_data"
    },
    {
     "data": {
      "application/vnd.jupyter.widget-view+json": {
       "model_id": "c4d94c73fcaa4fd19d3378611e7697de",
       "version_major": 2,
       "version_minor": 0
      },
      "text/plain": [
       "Variables:   0%|          | 0/1 [00:00<?, ?it/s]"
      ]
     },
     "metadata": {},
     "output_type": "display_data"
    },
    {
     "data": {
      "application/vnd.jupyter.widget-view+json": {
       "model_id": "d8682662f8424aa19b812731f66c7d79",
       "version_major": 2,
       "version_minor": 0
      },
      "text/plain": [
       "Times:   0%|          | 0/41 [00:00<?, ?it/s]"
      ]
     },
     "metadata": {},
     "output_type": "display_data"
    },
    {
     "name": "stdout",
     "output_type": "stream",
     "text": [
      "35.48\n",
      "[[0.00000000e+00 7.27566690e-02]\n",
      " [7.27566690e-02 1.45513338e-01]\n",
      " [1.45513338e-01 2.18270007e-01]\n",
      " ...\n",
      " [3.59781728e+02 3.59854485e+02]\n",
      " [3.59854485e+02 3.59927242e+02]\n",
      " [3.59927242e+02 3.59999998e+02]]\n",
      "66.865\n",
      "[[0.00000000e+00 7.27566690e-02]\n",
      " [7.27566690e-02 1.45513338e-01]\n",
      " [1.45513338e-01 2.18270007e-01]\n",
      " ...\n",
      " [3.59781728e+02 3.59854485e+02]\n",
      " [3.59854485e+02 3.59927242e+02]\n",
      " [3.59927242e+02 3.59999998e+02]]\n",
      "42.985\n",
      "[[0.00000000e+00 7.27566690e-02]\n",
      " [7.27566690e-02 1.45513338e-01]\n",
      " [1.45513338e-01 2.18270007e-01]\n",
      " ...\n",
      " [3.59781728e+02 3.59854485e+02]\n",
      " [3.59854485e+02 3.59927242e+02]\n",
      " [3.59927242e+02 3.59999998e+02]]\n",
      "30.92\n",
      "[[0.00000000e+00 7.27566690e-02]\n",
      " [7.27566690e-02 1.45513338e-01]\n",
      " [1.45513338e-01 2.18270007e-01]\n",
      " ...\n",
      " [3.59781728e+02 3.59854485e+02]\n",
      " [3.59854485e+02 3.59927242e+02]\n",
      " [3.59927242e+02 3.59999998e+02]]\n",
      "25.955\n",
      "[[0.00000000e+00 7.27566690e-02]\n",
      " [7.27566690e-02 1.45513338e-01]\n",
      " [1.45513338e-01 2.18270007e-01]\n",
      " ...\n",
      " [3.59781728e+02 3.59854485e+02]\n",
      " [3.59854485e+02 3.59927242e+02]\n",
      " [3.59927242e+02 3.59999998e+02]]\n",
      "32.085\n",
      "[[0.00000000e+00 7.27566690e-02]\n",
      " [7.27566690e-02 1.45513338e-01]\n",
      " [1.45513338e-01 2.18270007e-01]\n",
      " ...\n",
      " [3.59781728e+02 3.59854485e+02]\n",
      " [3.59854485e+02 3.59927242e+02]\n",
      " [3.59927242e+02 3.59999998e+02]]\n",
      "40.51\n",
      "[[0.00000000e+00 7.27566690e-02]\n",
      " [7.27566690e-02 1.45513338e-01]\n",
      " [1.45513338e-01 2.18270007e-01]\n",
      " ...\n",
      " [3.59781728e+02 3.59854485e+02]\n",
      " [3.59854485e+02 3.59927242e+02]\n",
      " [3.59927242e+02 3.59999998e+02]]\n",
      "38.785\n",
      "[[0.00000000e+00 7.27566690e-02]\n",
      " [7.27566690e-02 1.45513338e-01]\n",
      " [1.45513338e-01 2.18270007e-01]\n",
      " ...\n",
      " [3.59781728e+02 3.59854485e+02]\n",
      " [3.59854485e+02 3.59927242e+02]\n",
      " [3.59927242e+02 3.59999998e+02]]\n",
      "45.995\n",
      "[[0.00000000e+00 7.27566690e-02]\n",
      " [7.27566690e-02 1.45513338e-01]\n",
      " [1.45513338e-01 2.18270007e-01]\n",
      " ...\n",
      " [3.59781728e+02 3.59854485e+02]\n",
      " [3.59854485e+02 3.59927242e+02]\n",
      " [3.59927242e+02 3.59999998e+02]]\n",
      "53.43\n",
      "[[0.00000000e+00 7.27566690e-02]\n",
      " [7.27566690e-02 1.45513338e-01]\n",
      " [1.45513338e-01 2.18270007e-01]\n",
      " ...\n",
      " [3.59781728e+02 3.59854485e+02]\n",
      " [3.59854485e+02 3.59927242e+02]\n",
      " [3.59927242e+02 3.59999998e+02]]\n",
      "64.1\n",
      "[[0.00000000e+00 7.27566690e-02]\n",
      " [7.27566690e-02 1.45513338e-01]\n",
      " [1.45513338e-01 2.18270007e-01]\n",
      " ...\n",
      " [3.59781728e+02 3.59854485e+02]\n",
      " [3.59854485e+02 3.59927242e+02]\n",
      " [3.59927242e+02 3.59999998e+02]]\n",
      "34.2\n",
      "[[0.00000000e+00 7.27566690e-02]\n",
      " [7.27566690e-02 1.45513338e-01]\n",
      " [1.45513338e-01 2.18270007e-01]\n",
      " ...\n",
      " [3.59781728e+02 3.59854485e+02]\n",
      " [3.59854485e+02 3.59927242e+02]\n",
      " [3.59927242e+02 3.59999998e+02]]\n"
     ]
    }
   ],
   "source": [
    "from wrf_extract_variables import wrf_extract_variables_6h\n",
    "\n",
    "n_exp_names = 1\n",
    "data_library_name = ['cpex']*n_exp_names\n",
    "dir_cases = ['/08_CPEX/01_CV_RF07_AEW06_IAN']*n_exp_names\n",
    "case_names = ['Ian']*n_exp_names\n",
    "exp_names = ['CMORPH']\n",
    "\n",
    "wrf_extract_variables_6h(data_library_names=data_library_name,\n",
    "                         dir_cases=dir_cases,\n",
    "                         case_names=case_names,\n",
    "                         exp_names=exp_names,\n",
    "                         variables=['rain_6h'])"
   ]
  },
  {
   "cell_type": "code",
   "execution_count": null,
   "id": "f2327e87",
   "metadata": {},
   "outputs": [],
   "source": []
  }
 ],
 "metadata": {
  "kernelspec": {
   "display_name": "Python 3 (ipykernel)",
   "language": "python",
   "name": "python3"
  },
  "language_info": {
   "codemirror_mode": {
    "name": "ipython",
    "version": 3
   },
   "file_extension": ".py",
   "mimetype": "text/x-python",
   "name": "python",
   "nbconvert_exporter": "python",
   "pygments_lexer": "ipython3",
   "version": "3.10.9"
  }
 },
 "nbformat": 4,
 "nbformat_minor": 5
}
