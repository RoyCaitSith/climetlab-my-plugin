{
 "cells": [
  {
   "cell_type": "markdown",
   "id": "524de3a4",
   "metadata": {},
   "source": [
    "# Extract Analysis Increment"
   ]
  },
  {
   "cell_type": "code",
   "execution_count": null,
   "id": "ceb982b7",
   "metadata": {},
   "outputs": [],
   "source": [
    "# from wrf_extract_variables import wrf_extract_variables_6h\n",
    "\n",
    "# n_exp_names = 5\n",
    "# data_library_names = ['cpex']*n_exp_names\n",
    "# dir_cases = ['/08_CPEX/04_AW_RF07_Larry']*n_exp_names\n",
    "# case_names = ['Larry']*n_exp_names\n",
    "# exp_names = ['CTRL', 'CONV', 'DAWN', 'HALO', 'DAWN_HALO']\n",
    "\n",
    "# wrf_extract_variables_6h(data_library_names=data_library_names,\n",
    "#                          dir_cases=dir_cases,\n",
    "#                          case_names=case_names,\n",
    "#                          exp_names=exp_names,\n",
    "#                          variables=['u',     'v',     't',     'q',\n",
    "#                                     'u_anl', 'v_anl', 't_anl', 'q_anl',\n",
    "#                                     'u_inc', 'v_inc', 't_inc', 'q_inc'])"
   ]
  },
  {
   "cell_type": "code",
   "execution_count": null,
   "id": "e7dfb7a5",
   "metadata": {},
   "outputs": [],
   "source": [
    "# from wrf_extract_variables import wrf_extract_variables_6h\n",
    "\n",
    "# n_exp_names = 1\n",
    "# data_library_names = ['cpex']*n_exp_names\n",
    "# dir_cases = ['/08_CPEX/03_AW_RF02_AEW02']*n_exp_names\n",
    "# case_names = ['AEW02']*n_exp_names\n",
    "# exp_names = ['DAWN_HALO']\n",
    "\n",
    "# wrf_extract_variables_6h(data_library_names=data_library_names,\n",
    "#                          dir_cases=dir_cases,\n",
    "#                          case_names=case_names,\n",
    "#                          exp_names=exp_names,\n",
    "#                          variables=['u',     'v',     't',     'q',\n",
    "#                                     'u_anl', 'v_anl', 't_anl', 'q_anl',\n",
    "#                                     'u_inc', 'v_inc', 't_inc', 'q_inc'])"
   ]
  },
  {
   "cell_type": "markdown",
   "id": "bc3f79e9-639f-49e4-9a58-4af3c47a525a",
   "metadata": {},
   "source": [
    "# Extract 6h Accumulated Precipitation"
   ]
  },
  {
   "cell_type": "code",
   "execution_count": null,
   "id": "91d1f064",
   "metadata": {},
   "outputs": [],
   "source": [
    "# from wrf_extract_variables import wrf_extract_variables_6h\n",
    "\n",
    "# n_exp_names = 8\n",
    "# data_library_name = ['cpex']*n_exp_names\n",
    "# dir_cases = ['/08_CPEX/04_AW_RF07_Larry']*n_exp_names\n",
    "# case_names = ['Larry']*n_exp_names\n",
    "# exp_names = ['IMERG', 'CMORPH', 'GSMaP', 'CTRL', 'CONV', 'DAWN', 'HALO', 'DAWN_HALO']\n",
    "\n",
    "# wrf_extract_variables_6h(data_library_names=data_library_name,\n",
    "#                          dir_cases=dir_cases,\n",
    "#                          case_names=case_names,\n",
    "#                          exp_names=exp_names,\n",
    "#                          variables=['rain_6h'])"
   ]
  },
  {
   "cell_type": "code",
   "execution_count": null,
   "id": "71a34aed",
   "metadata": {},
   "outputs": [],
   "source": [
    "# from wrf_extract_variables import wrf_extract_variables_6h\n",
    "\n",
    "# n_exp_names = 1\n",
    "# data_library_name = ['cpex']*n_exp_names\n",
    "# dir_cases = ['/08_CPEX/03_AW_RF02_AEW02']*n_exp_names\n",
    "# case_names = ['AEW02']*n_exp_names\n",
    "# exp_names = ['DAWN_HALO']\n",
    "\n",
    "# wrf_extract_variables_6h(data_library_names=data_library_name,\n",
    "#                          dir_cases=dir_cases,\n",
    "#                          case_names=case_names,\n",
    "#                          exp_names=exp_names,\n",
    "#                          variables=['rain_6h'])"
   ]
  },
  {
   "cell_type": "markdown",
   "id": "86514bb8",
   "metadata": {},
   "source": [
    "# Extract the Environment of AEW06"
   ]
  },
  {
   "cell_type": "code",
   "execution_count": null,
   "id": "7fd96a3a",
   "metadata": {},
   "outputs": [],
   "source": [
    "# from wrf_extract_variables import wrf_extract_variables_6h\n",
    "\n",
    "# n_exp_names = 1\n",
    "# data_library_name = ['cpex']*n_exp_names\n",
    "# dir_cases = ['/08_CPEX/01_CV_RF07_AEW06_IAN']*n_exp_names\n",
    "# case_names = ['Ian']*n_exp_names\n",
    "# exp_names = ['GFS']\n",
    "\n",
    "# wrf_extract_variables_6h(data_library_names=data_library_name,\n",
    "#                          dir_cases=dir_cases,\n",
    "#                          case_names=case_names,\n",
    "#                          exp_names=exp_names,\n",
    "#                          variables=['u', 'v', 't', 'q'])"
   ]
  },
  {
   "cell_type": "code",
   "execution_count": null,
   "id": "f00f3e34",
   "metadata": {},
   "outputs": [],
   "source": [
    "from wrf_extract_variables import wrf_extract_variables_6h\n",
    "\n",
    "n_exp_names = 6\n",
    "data_library_name = ['cpex']*n_exp_names\n",
    "dir_cases = ['/08_CPEX/01_CV_RF07_AEW06_IAN']*n_exp_names\n",
    "case_names = ['Ian']*n_exp_names\n",
    "exp_names = ['GFS', 'CTRL', 'CONV', 'DAWN', 'HALO', 'DAWN_HALO']\n",
    "\n",
    "wrf_extract_variables_6h(data_library_names=data_library_name,\n",
    "                         dir_cases=dir_cases,\n",
    "                         case_names=case_names,\n",
    "                         exp_names=exp_names,\n",
    "                         variables=['rh', 'avo', 'geopt'])"
   ]
  },
  {
   "cell_type": "code",
   "execution_count": null,
   "id": "1dc6cb41",
   "metadata": {},
   "outputs": [],
   "source": []
  }
 ],
 "metadata": {
  "kernelspec": {
   "display_name": "Python 3 (ipykernel)",
   "language": "python",
   "name": "python3"
  },
  "language_info": {
   "codemirror_mode": {
    "name": "ipython",
    "version": 3
   },
   "file_extension": ".py",
   "mimetype": "text/x-python",
   "name": "python",
   "nbconvert_exporter": "python",
   "pygments_lexer": "ipython3",
   "version": "3.10.9"
  }
 },
 "nbformat": 4,
 "nbformat_minor": 5
}
