{
 "cells": [
  {
   "cell_type": "markdown",
   "id": "524de3a4",
   "metadata": {},
   "source": [
    "# Extract Analysis Increment"
   ]
  },
  {
   "cell_type": "code",
   "execution_count": null,
   "id": "ceb982b7",
   "metadata": {},
   "outputs": [],
   "source": [
    "from wrf_extract_variables import wrf_extract_variables_6h\n",
    "\n",
    "data_library_names = ['cpex']*4\n",
    "dir_cases = ['/08_CPEX/03_AW_RF02_AEW02']*4\n",
    "case_names = ['AEW02']*4\n",
    "exp_names = ['CTRL', 'CONV', 'DAWN', 'HALO']\n",
    "\n",
    "wrf_extract_variables_6h(data_library_names=data_library_names,\n",
    "                         dir_cases=dir_cases,\n",
    "                         case_names=case_names,\n",
    "                         exp_names=exp_names,\n",
    "                         variables=['ua', 'va', 'temp', 'QVAPOR'])"
   ]
  },
  {
   "cell_type": "markdown",
   "id": "bc3f79e9-639f-49e4-9a58-4af3c47a525a",
   "metadata": {},
   "source": [
    "# Extract 6h Accumulated Precipitation"
   ]
  },
  {
   "cell_type": "code",
   "execution_count": 1,
   "id": "150e3456-c4fd-4809-831e-859071d6ae60",
   "metadata": {},
   "outputs": [
    {
     "data": {
      "application/vnd.jupyter.widget-view+json": {
       "model_id": "393a9c3b61824972a063184802d03473",
       "version_major": 2,
       "version_minor": 0
      },
      "text/plain": [
       "Cases: 0/1 files | 00:00<?"
      ]
     },
     "metadata": {},
     "output_type": "display_data"
    },
    {
     "data": {
      "application/vnd.jupyter.widget-view+json": {
       "model_id": "fe25f168e70c401780f757481fca9dde",
       "version_major": 2,
       "version_minor": 0
      },
      "text/plain": [
       "Cycles:   0%|          | 0/4 [00:00<?, ?it/s]"
      ]
     },
     "metadata": {},
     "output_type": "display_data"
    },
    {
     "data": {
      "application/vnd.jupyter.widget-view+json": {
       "model_id": "b04610a03a4f4385848cf6285a5c1aa0",
       "version_major": 2,
       "version_minor": 0
      },
      "text/plain": [
       "Domains:   0%|          | 0/2 [00:00<?, ?it/s]"
      ]
     },
     "metadata": {},
     "output_type": "display_data"
    },
    {
     "data": {
      "application/vnd.jupyter.widget-view+json": {
       "model_id": "270f28008d034d6fb00dcc91f6cf5bda",
       "version_major": 2,
       "version_minor": 0
      },
      "text/plain": [
       "Variables:   0%|          | 0/1 [00:00<?, ?it/s]"
      ]
     },
     "metadata": {},
     "output_type": "display_data"
    },
    {
     "data": {
      "application/vnd.jupyter.widget-view+json": {
       "model_id": "def41d04ed504a98a299643dd493f5bd",
       "version_major": 2,
       "version_minor": 0
      },
      "text/plain": [
       "Times:   0%|          | 0/41 [00:00<?, ?it/s]"
      ]
     },
     "metadata": {},
     "output_type": "display_data"
    },
    {
     "data": {
      "application/vnd.jupyter.widget-view+json": {
       "model_id": "e1c2d7be169a4f619565412ac1c3c176",
       "version_major": 2,
       "version_minor": 0
      },
      "text/plain": [
       "Variables:   0%|          | 0/1 [00:00<?, ?it/s]"
      ]
     },
     "metadata": {},
     "output_type": "display_data"
    },
    {
     "data": {
      "application/vnd.jupyter.widget-view+json": {
       "model_id": "7c6218fe2d9a4df1a623a7760e11f466",
       "version_major": 2,
       "version_minor": 0
      },
      "text/plain": [
       "Times:   0%|          | 0/41 [00:00<?, ?it/s]"
      ]
     },
     "metadata": {},
     "output_type": "display_data"
    },
    {
     "data": {
      "application/vnd.jupyter.widget-view+json": {
       "model_id": "61ac39c3a5ac406eb5d0d8ee5409cd7e",
       "version_major": 2,
       "version_minor": 0
      },
      "text/plain": [
       "Domains:   0%|          | 0/2 [00:00<?, ?it/s]"
      ]
     },
     "metadata": {},
     "output_type": "display_data"
    },
    {
     "data": {
      "application/vnd.jupyter.widget-view+json": {
       "model_id": "3625c51c8515472ea0f05e5eb4481da5",
       "version_major": 2,
       "version_minor": 0
      },
      "text/plain": [
       "Variables:   0%|          | 0/1 [00:00<?, ?it/s]"
      ]
     },
     "metadata": {},
     "output_type": "display_data"
    },
    {
     "data": {
      "application/vnd.jupyter.widget-view+json": {
       "model_id": "8814cce26da149dca8f1a1657298bed1",
       "version_major": 2,
       "version_minor": 0
      },
      "text/plain": [
       "Times:   0%|          | 0/42 [00:00<?, ?it/s]"
      ]
     },
     "metadata": {},
     "output_type": "display_data"
    },
    {
     "data": {
      "application/vnd.jupyter.widget-view+json": {
       "model_id": "b8d2de4ded304d95b96ac580ae3b0375",
       "version_major": 2,
       "version_minor": 0
      },
      "text/plain": [
       "Variables:   0%|          | 0/1 [00:00<?, ?it/s]"
      ]
     },
     "metadata": {},
     "output_type": "display_data"
    },
    {
     "data": {
      "application/vnd.jupyter.widget-view+json": {
       "model_id": "6277a1ab1f1a4ad6a804f7521869b018",
       "version_major": 2,
       "version_minor": 0
      },
      "text/plain": [
       "Times:   0%|          | 0/42 [00:00<?, ?it/s]"
      ]
     },
     "metadata": {},
     "output_type": "display_data"
    },
    {
     "data": {
      "application/vnd.jupyter.widget-view+json": {
       "model_id": "b831bda705a04020a96c2fae59e98194",
       "version_major": 2,
       "version_minor": 0
      },
      "text/plain": [
       "Domains:   0%|          | 0/2 [00:00<?, ?it/s]"
      ]
     },
     "metadata": {},
     "output_type": "display_data"
    },
    {
     "data": {
      "application/vnd.jupyter.widget-view+json": {
       "model_id": "b372b8ee0d3e4e8aa5bbe8c933166911",
       "version_major": 2,
       "version_minor": 0
      },
      "text/plain": [
       "Variables:   0%|          | 0/1 [00:00<?, ?it/s]"
      ]
     },
     "metadata": {},
     "output_type": "display_data"
    },
    {
     "data": {
      "application/vnd.jupyter.widget-view+json": {
       "model_id": "5834642965064b54885301fc0777df48",
       "version_major": 2,
       "version_minor": 0
      },
      "text/plain": [
       "Times:   0%|          | 0/43 [00:00<?, ?it/s]"
      ]
     },
     "metadata": {},
     "output_type": "display_data"
    },
    {
     "data": {
      "application/vnd.jupyter.widget-view+json": {
       "model_id": "543dd364dfcd46b7985f2b4496c08384",
       "version_major": 2,
       "version_minor": 0
      },
      "text/plain": [
       "Variables:   0%|          | 0/1 [00:00<?, ?it/s]"
      ]
     },
     "metadata": {},
     "output_type": "display_data"
    },
    {
     "data": {
      "application/vnd.jupyter.widget-view+json": {
       "model_id": "d02b995746944fc3bc69072b835472a2",
       "version_major": 2,
       "version_minor": 0
      },
      "text/plain": [
       "Times:   0%|          | 0/43 [00:00<?, ?it/s]"
      ]
     },
     "metadata": {},
     "output_type": "display_data"
    },
    {
     "data": {
      "application/vnd.jupyter.widget-view+json": {
       "model_id": "3d2949b5cd8c4283a198fc79b0bc7e28",
       "version_major": 2,
       "version_minor": 0
      },
      "text/plain": [
       "Domains:   0%|          | 0/2 [00:00<?, ?it/s]"
      ]
     },
     "metadata": {},
     "output_type": "display_data"
    },
    {
     "data": {
      "application/vnd.jupyter.widget-view+json": {
       "model_id": "2ec73c4c96a145f3a5aea8b3be1af9e3",
       "version_major": 2,
       "version_minor": 0
      },
      "text/plain": [
       "Variables:   0%|          | 0/1 [00:00<?, ?it/s]"
      ]
     },
     "metadata": {},
     "output_type": "display_data"
    },
    {
     "data": {
      "application/vnd.jupyter.widget-view+json": {
       "model_id": "9f6af3043715449b9b25e0924de763ac",
       "version_major": 2,
       "version_minor": 0
      },
      "text/plain": [
       "Times:   0%|          | 0/44 [00:00<?, ?it/s]"
      ]
     },
     "metadata": {},
     "output_type": "display_data"
    }
   ],
   "source": [
    "from wrf_extract_variables import wrf_extract_variables_6h\n",
    "\n",
    "n_exp_names = 1\n",
    "data_library_name = ['cpex']*n_exp_names\n",
    "dir_cases = ['/08_CPEX/01_CV_RF07_AEW06_IAN']*n_exp_names\n",
    "case_names = ['Ian']*n_exp_names\n",
    "exp_names = ['GSMaP']\n",
    "\n",
    "wrf_extract_variables_6h(data_library_names=data_library_name,\n",
    "                         dir_cases=dir_cases,\n",
    "                         case_names=case_names,\n",
    "                         exp_names=exp_names,\n",
    "                         variables=['rain_6h'])"
   ]
  },
  {
   "cell_type": "code",
   "execution_count": null,
   "id": "f2327e87",
   "metadata": {},
   "outputs": [],
   "source": []
  }
 ],
 "metadata": {
  "kernelspec": {
   "display_name": "Python 3 (ipykernel)",
   "language": "python",
   "name": "python3"
  },
  "language_info": {
   "codemirror_mode": {
    "name": "ipython",
    "version": 3
   },
   "file_extension": ".py",
   "mimetype": "text/x-python",
   "name": "python",
   "nbconvert_exporter": "python",
   "pygments_lexer": "ipython3",
   "version": "3.10.9"
  }
 },
 "nbformat": 4,
 "nbformat_minor": 5
}
