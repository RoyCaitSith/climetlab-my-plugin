{
 "cells": [
  {
   "cell_type": "markdown",
   "id": "524de3a4",
   "metadata": {},
   "source": [
    "# Extract WRF Analysis Increment and Forecasts"
   ]
  },
  {
   "cell_type": "code",
   "execution_count": null,
   "id": "e7dfb7a5",
   "metadata": {},
   "outputs": [],
   "source": [
    "# from wrf_extract_variables import wrf_extract_variables_6h\n",
    "\n",
    "# n_exp_names = 13\n",
    "# data_library_names = ['goes']*n_exp_names\n",
    "# dir_cases = ['/02_GOES_Bias_Correction/27_ChCor']*n_exp_names\n",
    "# case_names = ['Laura']*n_exp_names\n",
    "# exp_names = ['PB', 'ASRBC4CLD_CLD_08', 'ASRBC4CLD_CLD_09', 'ASRBC4CLD_CLD_10', 'ASRBC4CLD_CLD_ALL', \\\n",
    "#              'NPB', 'NPB_ASRBC4CLD_CLD_08', 'NPB_ASRBC4CLD_CLD_09', 'NPB_ASRBC4CLD_CLD_10', 'NPB_ASRBC4CLD_CLD_ALL', \\\n",
    "#              'NPB_ASRBC4CLD_08', 'NPB_ASRBC4CLD_CLD_10_V1', 'NPB_ASRBC4CLD_CLD_10_V2']\n",
    "\n",
    "# wrf_extract_variables_6h(data_library_names=data_library_names,\n",
    "#                          dir_cases=dir_cases,\n",
    "#                          case_names=case_names,\n",
    "#                          exp_names=exp_names,\n",
    "#                          specific_level=925,\n",
    "#                          da_cycle=1,\n",
    "#                          ref_exp_name='NPB',\n",
    "#                          variables=['u',     'v',     't',     'q',     \n",
    "#                                     'u_anl', 'v_anl', 't_anl', 'q_anl',\n",
    "#                                     'u_inc', 'v_inc', 't_inc', 'q_inc'])"
   ]
  },
  {
   "cell_type": "code",
   "execution_count": null,
   "id": "555a8270",
   "metadata": {},
   "outputs": [],
   "source": [
    "# from wrf_extract_variables import wrf_extract_variables_6h\n",
    "\n",
    "# n_exp_names = 13\n",
    "# data_library_names = ['goes']*n_exp_names\n",
    "# dir_cases = ['/02_GOES_Bias_Correction/27_ChCor']*n_exp_names\n",
    "# case_names = ['Laura']*n_exp_names\n",
    "# exp_names = ['PB', 'ASRBC4CLD_CLD_08', 'ASRBC4CLD_CLD_09', 'ASRBC4CLD_CLD_10', 'ASRBC4CLD_CLD_ALL', \\\n",
    "#              'NPB', 'NPB_ASRBC4CLD_CLD_08', 'NPB_ASRBC4CLD_CLD_09', 'NPB_ASRBC4CLD_CLD_10', 'NPB_ASRBC4CLD_CLD_ALL', \\\n",
    "#              'NPB_ASRBC4CLD_08', 'NPB_ASRBC4CLD_CLD_10_V1', 'NPB_ASRBC4CLD_CLD_10_V2']\n",
    "\n",
    "# wrf_extract_variables_6h(data_library_names=data_library_names,\n",
    "#                          dir_cases=dir_cases,\n",
    "#                          case_names=case_names,\n",
    "#                          exp_names=exp_names,\n",
    "#                          specific_level=925,\n",
    "#                          da_cycle=1,\n",
    "#                          ref_exp_name='NPB',\n",
    "#                          variables=['qc',     'qr',     'qg',     'qs',     'qi',\n",
    "#                                     'qc_anl', 'qr_anl', 'qg_anl', 'qs_anl', 'qi_anl',\n",
    "#                                     'qc_inc', 'qr_inc', 'qg_inc', 'qs_inc', 'qi_inc'])"
   ]
  },
  {
   "cell_type": "code",
   "execution_count": null,
   "id": "f5b85738",
   "metadata": {},
   "outputs": [],
   "source": [
    "# from wrf_extract_variables import wrf_extract_variables_6h\n",
    "\n",
    "# n_exp_names = 13\n",
    "# data_library_names = ['goes']*n_exp_names\n",
    "# dir_cases = ['/02_GOES_Bias_Correction/27_ChCor']*n_exp_names\n",
    "# case_names = ['Laura']*n_exp_names\n",
    "# exp_names = ['PB', 'ASRBC4CLD_CLD_08', 'ASRBC4CLD_CLD_09', 'ASRBC4CLD_CLD_10', 'ASRBC4CLD_CLD_ALL', \\\n",
    "#              'NPB', 'NPB_ASRBC4CLD_CLD_08', 'NPB_ASRBC4CLD_CLD_09', 'NPB_ASRBC4CLD_CLD_10', 'NPB_ASRBC4CLD_CLD_ALL', \\\n",
    "#              'NPB_ASRBC4CLD_08', 'NPB_ASRBC4CLD_CLD_10_V1', 'NPB_ASRBC4CLD_CLD_10_V2']\n",
    "\n",
    "# wrf_extract_variables_6h(data_library_names=data_library_names,\n",
    "#                          dir_cases=dir_cases,\n",
    "#                          case_names=case_names,\n",
    "#                          exp_names=exp_names,\n",
    "#                          specific_level=925,\n",
    "#                          da_cycle=1,\n",
    "#                          ref_exp_name='NPB',\n",
    "#                          variables=['rh',     'avo',     'geopt',\n",
    "#                                     'rh_anl', 'avo_anl', 'geopt_anl',\n",
    "#                                     'rh_inc', 'avo_inc', 'geopt_inc'])"
   ]
  },
  {
   "cell_type": "markdown",
   "id": "bc3f79e9-639f-49e4-9a58-4af3c47a525a",
   "metadata": {},
   "source": [
    "# Extract 6h Accumulated Precipitation"
   ]
  },
  {
   "cell_type": "code",
   "execution_count": null,
   "id": "91d1f064",
   "metadata": {},
   "outputs": [],
   "source": [
    "# from wrf_extract_variables import wrf_extract_variables_6h\n",
    "\n",
    "# n_exp_names = 13\n",
    "# data_library_name = ['goes']*n_exp_names\n",
    "# dir_cases = ['/02_GOES_Bias_Correction/27_ChCor']*n_exp_names\n",
    "# case_names = ['Laura']*n_exp_names\n",
    "# exp_names = ['PB', 'ASRBC4CLD_CLD_08', 'ASRBC4CLD_CLD_09', 'ASRBC4CLD_CLD_10', 'ASRBC4CLD_CLD_ALL', \\\n",
    "#              'NPB', 'NPB_ASRBC4CLD_CLD_08', 'NPB_ASRBC4CLD_CLD_09', 'NPB_ASRBC4CLD_CLD_10', 'NPB_ASRBC4CLD_CLD_ALL', \\\n",
    "#              'NPB_ASRBC4CLD_08', 'NPB_ASRBC4CLD_CLD_10_V1', 'NPB_ASRBC4CLD_CLD_10_V2']\n",
    "\n",
    "# wrf_extract_variables_6h(data_library_names=data_library_name,\n",
    "#                          dir_cases=dir_cases,\n",
    "#                          case_names=case_names,\n",
    "#                          exp_names=exp_names,\n",
    "#                          specific_level=9999,\n",
    "#                          da_cycle=12,\n",
    "#                          ref_exp_name='NPB',\n",
    "#                          variables=['rain_6h'])"
   ]
  },
  {
   "cell_type": "code",
   "execution_count": null,
   "id": "5c8a891d",
   "metadata": {},
   "outputs": [],
   "source": [
    "# from wrf_extract_variables import wrf_extract_variables_6h\n",
    "\n",
    "# n_exp_names = 3\n",
    "# data_library_name = ['goes']*n_exp_names\n",
    "# dir_cases = ['/02_GOES_Bias_Correction/27_ChCor']*n_exp_names\n",
    "# case_names = ['Laura']*n_exp_names\n",
    "# exp_names = ['IMERG', 'CMORPH', 'GSMaP']\n",
    "\n",
    "# wrf_extract_variables_6h(data_library_names=data_library_name,\n",
    "#                          dir_cases=dir_cases,\n",
    "#                          case_names=case_names,\n",
    "#                          exp_names=exp_names,\n",
    "#                          specific_level=9999,\n",
    "#                          da_cycle=12,\n",
    "#                          ref_exp_name='NPB',\n",
    "#                          variables=['rain_6h'])"
   ]
  },
  {
   "cell_type": "markdown",
   "id": "86514bb8",
   "metadata": {},
   "source": [
    "# Extract the environment using analysis"
   ]
  },
  {
   "cell_type": "code",
   "execution_count": null,
   "id": "7fd96a3a",
   "metadata": {},
   "outputs": [],
   "source": [
    "# from wrf_extract_variables import wrf_extract_variables_6h\n",
    "\n",
    "# n_exp_names = 2\n",
    "# data_library_name = ['cpex']*n_exp_names\n",
    "# dir_cases = ['/08_CPEX/01_CV_RF07_AEW06_IAN']*n_exp_names\n",
    "# case_names = ['Ian']*n_exp_names\n",
    "# exp_names = ['GFS', 'ERA5']\n",
    "\n",
    "# wrf_extract_variables_6h(data_library_names=data_library_name,\n",
    "#                          dir_cases=dir_cases,\n",
    "#                          case_names=case_names,\n",
    "#                          exp_names=exp_names,\n",
    "#                          specific_level=925,\n",
    "#                          da_cycle=1,\n",
    "#                          ref_exp_name='NPB',\n",
    "#                          variables=['u',     'v',     't',     \n",
    "#                                     'u_anl', 'v_anl', 't_anl'\n",
    "#                                     'u_inc', 'v_inc', 't_inc'])"
   ]
  },
  {
   "cell_type": "code",
   "execution_count": null,
   "id": "3b2628c6",
   "metadata": {},
   "outputs": [],
   "source": [
    "# from wrf_extract_variables import wrf_extract_variables_6h\n",
    "\n",
    "# n_exp_names = 2\n",
    "# data_library_name = ['cpex']*n_exp_names\n",
    "# dir_cases = ['/08_CPEX/01_CV_RF07_AEW06_IAN']*n_exp_names\n",
    "# case_names = ['Ian']*n_exp_names\n",
    "# exp_names = ['GFS', 'ERA5']\n",
    "\n",
    "# wrf_extract_variables_6h(data_library_names=data_library_name,\n",
    "#                          dir_cases=dir_cases,\n",
    "#                          case_names=case_names,\n",
    "#                          exp_names=exp_names,\n",
    "#                          specific_level=925,\n",
    "#                          da_cycle=1,\n",
    "#                          ref_exp_name='NPB',\n",
    "#                          variables=['qc',     'qr',     'qs',     'qi',\n",
    "#                                     'qc_anl', 'qr_anl', 'qs_anl', 'qi_anl',\n",
    "#                                     'qc_inc', 'qr_inc', 'qs_inc', 'qi_inc'])"
   ]
  },
  {
   "cell_type": "code",
   "execution_count": null,
   "id": "8c727e6b",
   "metadata": {},
   "outputs": [],
   "source": [
    "# from wrf_extract_variables import wrf_extract_variables_6h\n",
    "\n",
    "# n_exp_names = 2\n",
    "# data_library_name = ['cpex']*n_exp_names\n",
    "# dir_cases = ['/08_CPEX/01_CV_RF07_AEW06_IAN']*n_exp_names\n",
    "# case_names = ['Ian']*n_exp_names\n",
    "# exp_names = ['GFS', 'ERA5']\n",
    "\n",
    "# wrf_extract_variables_6h(data_library_names=data_library_name,\n",
    "#                          dir_cases=dir_cases,\n",
    "#                          case_names=case_names,\n",
    "#                          exp_names=exp_names,\n",
    "#                          specific_level=925,\n",
    "#                          da_cycle=1,\n",
    "#                          ref_exp_name='NPB',\n",
    "#                          variables=['rh',     'avo',     'geopt',\n",
    "#                                     'rh_anl', 'avo_anl', 'geopt_anl',\n",
    "#                                     'rh_inc', 'avo_inc', 'geopt_inc'])"
   ]
  },
  {
   "cell_type": "markdown",
   "id": "0f31c68d",
   "metadata": {},
   "source": [
    "# Extract single-level variables"
   ]
  },
  {
   "cell_type": "code",
   "execution_count": null,
   "id": "d1fc8bac",
   "metadata": {},
   "outputs": [],
   "source": [
    "# from wrf_extract_variables import wrf_extract_variables_6h\n",
    "\n",
    "# n_exp_names = 2\n",
    "# data_library_names = ['goes']*n_exp_names\n",
    "# dir_cases = ['/02_GOES_Bias_Correction/27_ChCor']*n_exp_names\n",
    "# case_names = ['Laura']*n_exp_names\n",
    "# # exp_names = ['PB', 'ASRBC4CLD_CLD_08', 'ASRBC4CLD_CLD_09', 'ASRBC4CLD_CLD_10', 'ASRBC4CLD_CLD_ALL', \\\n",
    "# #              'NPB', 'NPB_ASRBC4CLD_CLD_08', 'NPB_ASRBC4CLD_CLD_09', 'NPB_ASRBC4CLD_CLD_10', 'NPB_ASRBC4CLD_CLD_ALL', \\\n",
    "# #              'NPB_ASRBC4CLD_08', 'NPB_ASRBC4CLD_CLD_10_V1', 'NPB_ASRBC4CLD_CLD_10_V2']\n",
    "# exp_names = ['GFS', 'ERA5']\n",
    "\n",
    "# wrf_extract_variables_6h(data_library_names=data_library_names,\n",
    "#                          dir_cases=dir_cases,\n",
    "#                          case_names=case_names,\n",
    "#                          exp_names=exp_names,\n",
    "#                          specific_level=9999,\n",
    "#                          da_cycle=8,\n",
    "#                          ref_exp_name='NPB',\n",
    "#                          variables=['u10',     'v10',     'wspd10',     'sp',     'slp',\n",
    "#                                     'u10_anl', 'v10_anl', 'wspd10_anl', 'sp_anl', 'slp_anl'])"
   ]
  },
  {
   "cell_type": "code",
   "execution_count": null,
   "id": "ab71f911",
   "metadata": {},
   "outputs": [],
   "source": []
  }
 ],
 "metadata": {
  "kernelspec": {
   "display_name": "Python 3 (ipykernel)",
   "language": "python",
   "name": "python3"
  },
  "language_info": {
   "codemirror_mode": {
    "name": "ipython",
    "version": 3
   },
   "file_extension": ".py",
   "mimetype": "text/x-python",
   "name": "python",
   "nbconvert_exporter": "python",
   "pygments_lexer": "ipython3",
   "version": "3.10.9"
  }
 },
 "nbformat": 4,
 "nbformat_minor": 5
}
