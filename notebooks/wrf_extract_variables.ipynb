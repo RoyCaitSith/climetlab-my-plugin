{
 "cells": [
  {
   "cell_type": "markdown",
   "id": "bc3f79e9-639f-49e4-9a58-4af3c47a525a",
   "metadata": {},
   "source": [
    "# Extract 6h Accumulated Precipitation"
   ]
  },
  {
   "cell_type": "code",
   "execution_count": 1,
   "id": "150e3456-c4fd-4809-831e-859071d6ae60",
   "metadata": {},
   "outputs": [
    {
     "data": {
      "application/vnd.jupyter.widget-view+json": {
       "model_id": "8d35eb14141343a7bf92acefdb727b7e",
       "version_major": 2,
       "version_minor": 0
      },
      "text/plain": [
       "Cases: 0/1 files | 00:00<?"
      ]
     },
     "metadata": {},
     "output_type": "display_data"
    },
    {
     "data": {
      "application/vnd.jupyter.widget-view+json": {
       "model_id": "3f2c6b53700049cabb1e8f6e8fc46a31",
       "version_major": 2,
       "version_minor": 0
      },
      "text/plain": [
       "Cycles:   0%|          | 0/4 [00:00<?, ?it/s]"
      ]
     },
     "metadata": {},
     "output_type": "display_data"
    },
    {
     "data": {
      "application/vnd.jupyter.widget-view+json": {
       "model_id": "0e4c809050b04643b182f839a6f6ad35",
       "version_major": 2,
       "version_minor": 0
      },
      "text/plain": [
       "Domains:   0%|          | 0/2 [00:00<?, ?it/s]"
      ]
     },
     "metadata": {},
     "output_type": "display_data"
    },
    {
     "data": {
      "application/vnd.jupyter.widget-view+json": {
       "model_id": "f8638f14c9a540bb8abd4b7934d3fc62",
       "version_major": 2,
       "version_minor": 0
      },
      "text/plain": [
       "Variables:   0%|          | 0/1 [00:00<?, ?it/s]"
      ]
     },
     "metadata": {},
     "output_type": "display_data"
    },
    {
     "data": {
      "application/vnd.jupyter.widget-view+json": {
       "model_id": "2a8fe92f761e4829a3810462cf583322",
       "version_major": 2,
       "version_minor": 0
      },
      "text/plain": [
       "Times: 0it [00:00, ?it/s]"
      ]
     },
     "metadata": {},
     "output_type": "display_data"
    },
    {
     "ename": "TypeError",
     "evalue": "'int' object is not iterable",
     "output_type": "error",
     "traceback": [
      "\u001b[0;31m---------------------------------------------------------------------------\u001b[0m",
      "\u001b[0;31mTypeError\u001b[0m                                 Traceback (most recent call last)",
      "Cell \u001b[0;32mIn[1], line 9\u001b[0m\n\u001b[1;32m      6\u001b[0m case_names \u001b[39m=\u001b[39m [\u001b[39m'\u001b[39m\u001b[39mIan\u001b[39m\u001b[39m'\u001b[39m]\u001b[39m*\u001b[39mn_exp_names\n\u001b[1;32m      7\u001b[0m exp_names \u001b[39m=\u001b[39m [\u001b[39m'\u001b[39m\u001b[39mIMERG\u001b[39m\u001b[39m'\u001b[39m]\n\u001b[0;32m----> 9\u001b[0m wrf_extract_variables_6h(data_library_names\u001b[39m=\u001b[39;49mdata_library_name,\n\u001b[1;32m     10\u001b[0m                          dir_cases\u001b[39m=\u001b[39;49mdir_cases,\n\u001b[1;32m     11\u001b[0m                          case_names\u001b[39m=\u001b[39;49mcase_names,\n\u001b[1;32m     12\u001b[0m                          exp_names\u001b[39m=\u001b[39;49mexp_names,\n\u001b[1;32m     13\u001b[0m                          variables\u001b[39m=\u001b[39;49m[\u001b[39m'\u001b[39;49m\u001b[39mrain_6h\u001b[39;49m\u001b[39m'\u001b[39;49m])\n",
      "File \u001b[0;32m~/climetlab-my-plugin/functions/wrf_extract_variables.py:97\u001b[0m, in \u001b[0;36mwrf_extract_variables_6h\u001b[0;34m(data_library_names, dir_cases, case_names, exp_names, ref_exp_name, variables)\u001b[0m\n\u001b[1;32m     94\u001b[0m ncfile_output\u001b[39m.\u001b[39mvariables[\u001b[39m'\u001b[39m\u001b[39mlon\u001b[39m\u001b[39m'\u001b[39m][:,:] \u001b[39m=\u001b[39m lon\n\u001b[1;32m     95\u001b[0m ncfile_output\u001b[39m.\u001b[39mvariables[var][:,:,:,:] \u001b[39m=\u001b[39m \u001b[39m0.0\u001b[39m\n\u001b[0;32m---> 97\u001b[0m \u001b[39mfor\u001b[39;00m idt \u001b[39min\u001b[39;00m tqdm(n_time, desc\u001b[39m=\u001b[39m\u001b[39m'\u001b[39m\u001b[39mTimes\u001b[39m\u001b[39m'\u001b[39m, leave\u001b[39m=\u001b[39m\u001b[39mFalse\u001b[39;00m):\n\u001b[1;32m     99\u001b[0m     time_now \u001b[39m=\u001b[39m anl_start_time \u001b[39m+\u001b[39m timedelta(hours \u001b[39m=\u001b[39m idt\u001b[39m*\u001b[39mtime_interval)\n\u001b[1;32m    100\u001b[0m     \u001b[39mprint\u001b[39m(time_now)\n",
      "File \u001b[0;32m/uufs/chpc.utah.edu/common/home/zpu-group16/cfeng/mymini3/lib/python3.10/site-packages/tqdm/notebook.py:254\u001b[0m, in \u001b[0;36mtqdm_notebook.__iter__\u001b[0;34m(self)\u001b[0m\n\u001b[1;32m    252\u001b[0m \u001b[39mtry\u001b[39;00m:\n\u001b[1;32m    253\u001b[0m     it \u001b[39m=\u001b[39m \u001b[39msuper\u001b[39m(tqdm_notebook, \u001b[39mself\u001b[39m)\u001b[39m.\u001b[39m\u001b[39m__iter__\u001b[39m()\n\u001b[0;32m--> 254\u001b[0m     \u001b[39mfor\u001b[39;00m obj \u001b[39min\u001b[39;00m it:\n\u001b[1;32m    255\u001b[0m         \u001b[39m# return super(tqdm...) will not catch exception\u001b[39;00m\n\u001b[1;32m    256\u001b[0m         \u001b[39myield\u001b[39;00m obj\n\u001b[1;32m    257\u001b[0m \u001b[39m# NB: except ... [ as ...] breaks IPython async KeyboardInterrupt\u001b[39;00m\n",
      "File \u001b[0;32m/uufs/chpc.utah.edu/common/home/zpu-group16/cfeng/mymini3/lib/python3.10/site-packages/tqdm/std.py:1178\u001b[0m, in \u001b[0;36mtqdm.__iter__\u001b[0;34m(self)\u001b[0m\n\u001b[1;32m   1175\u001b[0m time \u001b[39m=\u001b[39m \u001b[39mself\u001b[39m\u001b[39m.\u001b[39m_time\n\u001b[1;32m   1177\u001b[0m \u001b[39mtry\u001b[39;00m:\n\u001b[0;32m-> 1178\u001b[0m     \u001b[39mfor\u001b[39;00m obj \u001b[39min\u001b[39;00m iterable:\n\u001b[1;32m   1179\u001b[0m         \u001b[39myield\u001b[39;00m obj\n\u001b[1;32m   1180\u001b[0m         \u001b[39m# Update and possibly print the progressbar.\u001b[39;00m\n\u001b[1;32m   1181\u001b[0m         \u001b[39m# Note: does not call self.update(1) for speed optimisation.\u001b[39;00m\n",
      "\u001b[0;31mTypeError\u001b[0m: 'int' object is not iterable"
     ]
    }
   ],
   "source": [
    "from wrf_extract_variables import wrf_extract_variables_6h\n",
    "\n",
    "n_exp_names = 1\n",
    "data_library_name = ['cpex']*n_exp_names\n",
    "dir_cases = ['/08_CPEX/01_CV_RF07_AEW06_IAN']*n_exp_names\n",
    "case_names = ['Ian']*n_exp_names\n",
    "exp_names = ['IMERG']\n",
    "\n",
    "wrf_extract_variables_6h(data_library_names=data_library_name,\n",
    "                         dir_cases=dir_cases,\n",
    "                         case_names=case_names,\n",
    "                         exp_names=exp_names,\n",
    "                         variables=['rain_6h'])"
   ]
  },
  {
   "cell_type": "markdown",
   "id": "524de3a4",
   "metadata": {},
   "source": [
    "# Extract Analysis Increment"
   ]
  },
  {
   "cell_type": "code",
   "execution_count": null,
   "id": "ceb982b7",
   "metadata": {},
   "outputs": [],
   "source": [
    "from wrf_extract_variables import wrf_extract_variables\n",
    "\n",
    "data_library_names = ['cpex']*4\n",
    "dir_cases = ['/08_CPEX/03_AW_RF02_AEW02']*4\n",
    "case_names = ['AEW02']*4\n",
    "exp_names = ['CTRL', 'CONV', 'DAWN', 'HALO']\n",
    "\n",
    "calculate_analysis_increment(data_library_names=data_library_names,\n",
    "                             dir_cases=dir_cases,\n",
    "                             case_names=case_names,\n",
    "                             exp_names=exp_names,\n",
    "                             variables=['ua', 'va', 'temp', 'QVAPOR'])"
   ]
  }
 ],
 "metadata": {
  "kernelspec": {
   "display_name": "Python 3 (ipykernel)",
   "language": "python",
   "name": "python3"
  },
  "language_info": {
   "codemirror_mode": {
    "name": "ipython",
    "version": 3
   },
   "file_extension": ".py",
   "mimetype": "text/x-python",
   "name": "python",
   "nbconvert_exporter": "python",
   "pygments_lexer": "ipython3",
   "version": "3.10.9"
  }
 },
 "nbformat": 4,
 "nbformat_minor": 5
}
