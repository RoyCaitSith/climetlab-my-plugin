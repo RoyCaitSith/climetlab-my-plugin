{
 "cells": [
  {
   "cell_type": "markdown",
   "id": "bc3f79e9-639f-49e4-9a58-4af3c47a525a",
   "metadata": {},
   "source": [
    "# Extract 6h Accumulated Precipitation"
   ]
  },
  {
   "cell_type": "code",
   "execution_count": 1,
   "id": "150e3456-c4fd-4809-831e-859071d6ae60",
   "metadata": {},
   "outputs": [
    {
     "data": {
      "application/vnd.jupyter.widget-view+json": {
       "model_id": "93ddae629fd94ae3a75cdee14451f45c",
       "version_major": 2,
       "version_minor": 0
      },
      "text/plain": [
       "Cases: 0/2 files | 00:00<?"
      ]
     },
     "metadata": {},
     "output_type": "display_data"
    },
    {
     "data": {
      "application/vnd.jupyter.widget-view+json": {
       "model_id": "3d38ff9c8f01431fa089d7c3857ad84f",
       "version_major": 2,
       "version_minor": 0
      },
      "text/plain": [
       "Cycles:   0%|          | 0/4 [00:00<?, ?it/s]"
      ]
     },
     "metadata": {},
     "output_type": "display_data"
    },
    {
     "data": {
      "application/vnd.jupyter.widget-view+json": {
       "model_id": "ea8a1c0d23224bedb17c455d906fdcf8",
       "version_major": 2,
       "version_minor": 0
      },
      "text/plain": [
       "Domains:   0%|          | 0/2 [00:00<?, ?it/s]"
      ]
     },
     "metadata": {},
     "output_type": "display_data"
    },
    {
     "data": {
      "application/vnd.jupyter.widget-view+json": {
       "model_id": "d1fc7404f51a407db043dcde0d7c97ce",
       "version_major": 2,
       "version_minor": 0
      },
      "text/plain": [
       "Variables:   0%|          | 0/1 [00:00<?, ?it/s]"
      ]
     },
     "metadata": {},
     "output_type": "display_data"
    },
    {
     "name": "stdout",
     "output_type": "stream",
     "text": [
      "[9999]\n"
     ]
    },
    {
     "name": "stderr",
     "output_type": "stream",
     "text": [
      "ls: cannot access '/uufs/chpc.utah.edu/common/home/zpu-group16/cfeng/08_CPEX/01_CV_RF07_AEW06_IAN/data/IMERG/20220916/3B-HHR.MS.MRG.3IMERG.20220916-S060000*': No such file or directory\n"
     ]
    },
    {
     "ename": "IndexError",
     "evalue": "list index out of range",
     "output_type": "error",
     "traceback": [
      "\u001b[0;31m---------------------------------------------------------------------------\u001b[0m",
      "\u001b[0;31mIndexError\u001b[0m                                Traceback (most recent call last)",
      "Cell \u001b[0;32mIn[1], line 9\u001b[0m\n\u001b[1;32m      6\u001b[0m case_names \u001b[39m=\u001b[39m [\u001b[39m'\u001b[39m\u001b[39mIan\u001b[39m\u001b[39m'\u001b[39m]\u001b[39m*\u001b[39mn_exp_names\n\u001b[1;32m      7\u001b[0m exp_names \u001b[39m=\u001b[39m [\u001b[39m'\u001b[39m\u001b[39mIMERG\u001b[39m\u001b[39m'\u001b[39m, \u001b[39m'\u001b[39m\u001b[39mCONV\u001b[39m\u001b[39m'\u001b[39m]\n\u001b[0;32m----> 9\u001b[0m wrf_extract_variables(data_library_names\u001b[39m=\u001b[39;49mdata_library_name,\n\u001b[1;32m     10\u001b[0m                       dir_cases\u001b[39m=\u001b[39;49mdir_cases,\n\u001b[1;32m     11\u001b[0m                       case_names\u001b[39m=\u001b[39;49mcase_names,\n\u001b[1;32m     12\u001b[0m                       exp_names\u001b[39m=\u001b[39;49mexp_names,\n\u001b[1;32m     13\u001b[0m                       variables\u001b[39m=\u001b[39;49m[\u001b[39m'\u001b[39;49m\u001b[39mrain_6h\u001b[39;49m\u001b[39m'\u001b[39;49m])\n",
      "File \u001b[0;32m~/climetlab-my-plugin/functions/wrf_extract_variables.py:125\u001b[0m, in \u001b[0;36mwrf_extract_variables\u001b[0;34m(data_library_names, dir_cases, case_names, exp_names, ref_exp_name, variables)\u001b[0m\n\u001b[1;32m    122\u001b[0m HHMMSS \u001b[39m=\u001b[39m time_IMERG\u001b[39m.\u001b[39mstrftime(\u001b[39m'\u001b[39m\u001b[39m%\u001b[39m\u001b[39mH\u001b[39m\u001b[39m%\u001b[39m\u001b[39mM\u001b[39m\u001b[39m%\u001b[39m\u001b[39mS\u001b[39m\u001b[39m'\u001b[39m)\n\u001b[1;32m    124\u001b[0m info \u001b[39m=\u001b[39m os\u001b[39m.\u001b[39mpopen(\u001b[39mf\u001b[39m\u001b[39m'\u001b[39m\u001b[39mls \u001b[39m\u001b[39m{\u001b[39;00mdir_IMERG\u001b[39m}\u001b[39;00m\u001b[39m/\u001b[39m\u001b[39m{\u001b[39;00mYYMMDD\u001b[39m}\u001b[39;00m\u001b[39m/3B-HHR.MS.MRG.3IMERG.\u001b[39m\u001b[39m{\u001b[39;00mYYMMDD\u001b[39m}\u001b[39;00m\u001b[39m-S\u001b[39m\u001b[39m{\u001b[39;00mHHMMSS\u001b[39m}\u001b[39;00m\u001b[39m*\u001b[39m\u001b[39m'\u001b[39m)\u001b[39m.\u001b[39mreadlines()\n\u001b[0;32m--> 125\u001b[0m file_IMERG \u001b[39m=\u001b[39m info[\u001b[39m0\u001b[39;49m]\u001b[39m.\u001b[39mstrip()\n\u001b[1;32m    126\u001b[0m f \u001b[39m=\u001b[39m h5py\u001b[39m.\u001b[39mFile(file_IMERG)\n\u001b[1;32m    127\u001b[0m IMERG_prep \u001b[39m=\u001b[39m IMERG_prep \u001b[39m+\u001b[39m IMERG_time_resolution\u001b[39m*\u001b[39mf[\u001b[39m'\u001b[39m\u001b[39mGrid\u001b[39m\u001b[39m'\u001b[39m][\u001b[39m'\u001b[39m\u001b[39mprecipitationCal\u001b[39m\u001b[39m'\u001b[39m][\u001b[39m0\u001b[39m,:,:]\n",
      "\u001b[0;31mIndexError\u001b[0m: list index out of range"
     ]
    }
   ],
   "source": [
    "from wrf_extract_variables import wrf_extract_variables\n",
    "\n",
    "n_exp_names = 2\n",
    "data_library_name = ['cpex']*n_exp_names\n",
    "dir_cases = ['/08_CPEX/01_CV_RF07_AEW06_IAN']*n_exp_names\n",
    "case_names = ['Ian']*n_exp_names\n",
    "exp_names = ['IMERG', 'CONV']\n",
    "\n",
    "wrf_extract_variables(data_library_names=data_library_name,\n",
    "                      dir_cases=dir_cases,\n",
    "                      case_names=case_names,\n",
    "                      exp_names=exp_names,\n",
    "                      variables=['rain_6h'])"
   ]
  },
  {
   "cell_type": "markdown",
   "id": "524de3a4",
   "metadata": {},
   "source": [
    "# Extract Analysis Increment"
   ]
  },
  {
   "cell_type": "code",
   "execution_count": null,
   "id": "ceb982b7",
   "metadata": {},
   "outputs": [],
   "source": [
    "from wrf_extract_variables import wrf_extract_variables\n",
    "\n",
    "data_library_names = ['cpex']*4\n",
    "dir_cases = ['/08_CPEX/03_AW_RF02_AEW02']*4\n",
    "case_names = ['AEW02']*4\n",
    "exp_names = ['CTRL', 'CONV', 'DAWN', 'HALO']\n",
    "\n",
    "calculate_analysis_increment(data_library_names=data_library_names,\n",
    "                             dir_cases=dir_cases,\n",
    "                             case_names=case_names,\n",
    "                             exp_names=exp_names,\n",
    "                             variables=['ua', 'va', 'temp', 'QVAPOR'])"
   ]
  }
 ],
 "metadata": {
  "kernelspec": {
   "display_name": "Python 3 (ipykernel)",
   "language": "python",
   "name": "python3"
  },
  "language_info": {
   "codemirror_mode": {
    "name": "ipython",
    "version": 3
   },
   "file_extension": ".py",
   "mimetype": "text/x-python",
   "name": "python",
   "nbconvert_exporter": "python",
   "pygments_lexer": "ipython3",
   "version": "3.10.9"
  }
 },
 "nbformat": 4,
 "nbformat_minor": 5
}
