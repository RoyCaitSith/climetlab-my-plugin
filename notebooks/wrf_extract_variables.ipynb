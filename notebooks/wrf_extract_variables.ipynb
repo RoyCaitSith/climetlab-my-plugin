{
 "cells": [
  {
   "cell_type": "markdown",
   "id": "524de3a4",
   "metadata": {},
   "source": [
    "# Extract Analysis Increment"
   ]
  },
  {
   "cell_type": "code",
   "execution_count": null,
   "id": "ceb982b7",
   "metadata": {},
   "outputs": [],
   "source": [
    "from wrf_extract_variables import wrf_extract_variables_6h\n",
    "\n",
    "n_exp_names = 4\n",
    "data_library_names = ['cpex']*n_exp_names\n",
    "dir_cases = ['/08_CPEX/01_CV_RF07_AEW06_IAN']*n_exp_names\n",
    "case_names = ['Ian']*n_exp_names\n",
    "exp_names = ['CTRL', 'CONV', 'DAWN', 'HALO']\n",
    "\n",
    "wrf_extract_variables_6h(data_library_names=data_library_names,\n",
    "                         dir_cases=dir_cases,\n",
    "                         case_names=case_names,\n",
    "                         exp_names=exp_names,\n",
    "                         variables=['u_anl', 'v_anl', 't_anl', 'q_anl'])"
   ]
  },
  {
   "cell_type": "markdown",
   "id": "bc3f79e9-639f-49e4-9a58-4af3c47a525a",
   "metadata": {},
   "source": [
    "# Extract 6h Accumulated Precipitation"
   ]
  },
  {
   "cell_type": "code",
   "execution_count": null,
   "id": "150e3456-c4fd-4809-831e-859071d6ae60",
   "metadata": {},
   "outputs": [],
   "source": [
    "from wrf_extract_variables import wrf_extract_variables_6h\n",
    "\n",
    "n_exp_names = 4\n",
    "data_library_name = ['cpex']*n_exp_names\n",
    "dir_cases = ['/08_CPEX/01_CV_RF07_AEW06_IAN']*n_exp_names\n",
    "case_names = ['Ian']*n_exp_names\n",
    "exp_names = ['CTRL', 'CONV', 'DAWN', 'HALO']\n",
    "\n",
    "wrf_extract_variables_6h(data_library_names=data_library_name,\n",
    "                         dir_cases=dir_cases,\n",
    "                         case_names=case_names,\n",
    "                         exp_names=exp_names,\n",
    "                         variables=['rain_6h'])"
   ]
  },
  {
   "cell_type": "code",
   "execution_count": null,
   "id": "f2327e87",
   "metadata": {},
   "outputs": [],
   "source": []
  }
 ],
 "metadata": {
  "kernelspec": {
   "display_name": "Python 3 (ipykernel)",
   "language": "python",
   "name": "python3"
  },
  "language_info": {
   "codemirror_mode": {
    "name": "ipython",
    "version": 3
   },
   "file_extension": ".py",
   "mimetype": "text/x-python",
   "name": "python",
   "nbconvert_exporter": "python",
   "pygments_lexer": "ipython3",
   "version": "3.10.9"
  }
 },
 "nbformat": 4,
 "nbformat_minor": 5
}
