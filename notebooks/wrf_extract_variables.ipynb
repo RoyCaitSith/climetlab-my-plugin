{
 "cells": [
  {
   "cell_type": "markdown",
   "id": "524de3a4",
   "metadata": {},
   "source": [
    "# Extract WRF Analysis Increment and Forecasts"
   ]
  },
  {
   "cell_type": "code",
   "execution_count": null,
   "id": "e7dfb7a5",
   "metadata": {},
   "outputs": [],
   "source": [
    "# from wrf_extract_variables import wrf_extract_variables_6h\n",
    "\n",
    "# n_exp_names = 13\n",
    "# data_library_names = ['goes']*n_exp_names\n",
    "# dir_cases = ['/02_GOES_Bias_Correction/27_ChCor']*n_exp_names\n",
    "# case_names = ['Laura']*n_exp_names\n",
    "# exp_names = ['PB', 'ASRBC4CLD_CLD_08', 'ASRBC4CLD_CLD_09', 'ASRBC4CLD_CLD_10', 'ASRBC4CLD_CLD_ALL', \\\n",
    "#              'NPB', 'NPB_ASRBC4CLD_CLD_08', 'NPB_ASRBC4CLD_CLD_09', 'NPB_ASRBC4CLD_CLD_10', 'NPB_ASRBC4CLD_CLD_ALL', \\\n",
    "#              'NPB_ASRBC4CLD_08', 'NPB_ASRBC4CLD_CLD_10_V1', 'NPB_ASRBC4CLD_CLD_10_V2']\n",
    "\n",
    "# wrf_extract_variables_6h(data_library_names=data_library_names,\n",
    "#                          dir_cases=dir_cases,\n",
    "#                          case_names=case_names,\n",
    "#                          exp_names=exp_names,\n",
    "#                          specific_level=925,\n",
    "#                          da_cycle=1,\n",
    "#                          ref_exp_name='NPB',\n",
    "#                          variables=['u',     'v',     't',     'q',     \n",
    "#                                     'u_anl', 'v_anl', 't_anl', 'q_anl',\n",
    "#                                     'u_inc', 'v_inc', 't_inc', 'q_inc'])"
   ]
  },
  {
   "cell_type": "code",
   "execution_count": null,
   "id": "555a8270",
   "metadata": {},
   "outputs": [],
   "source": [
    "# from wrf_extract_variables import wrf_extract_variables_6h\n",
    "\n",
    "# n_exp_names = 13\n",
    "# data_library_names = ['goes']*n_exp_names\n",
    "# dir_cases = ['/02_GOES_Bias_Correction/27_ChCor']*n_exp_names\n",
    "# case_names = ['Laura']*n_exp_names\n",
    "# exp_names = ['PB', 'ASRBC4CLD_CLD_08', 'ASRBC4CLD_CLD_09', 'ASRBC4CLD_CLD_10', 'ASRBC4CLD_CLD_ALL', \\\n",
    "#              'NPB', 'NPB_ASRBC4CLD_CLD_08', 'NPB_ASRBC4CLD_CLD_09', 'NPB_ASRBC4CLD_CLD_10', 'NPB_ASRBC4CLD_CLD_ALL', \\\n",
    "#              'NPB_ASRBC4CLD_08', 'NPB_ASRBC4CLD_CLD_10_V1', 'NPB_ASRBC4CLD_CLD_10_V2']\n",
    "\n",
    "# wrf_extract_variables_6h(data_library_names=data_library_names,\n",
    "#                          dir_cases=dir_cases,\n",
    "#                          case_names=case_names,\n",
    "#                          exp_names=exp_names,\n",
    "#                          specific_level=925,\n",
    "#                          da_cycle=1,\n",
    "#                          ref_exp_name='NPB',\n",
    "#                          variables=['qc',     'qr',     'qg',     'qs',     'qi',\n",
    "#                                     'qc_anl', 'qr_anl', 'qg_anl', 'qs_anl', 'qi_anl',\n",
    "#                                     'qc_inc', 'qr_inc', 'qg_inc', 'qs_inc', 'qi_inc'])"
   ]
  },
  {
   "cell_type": "code",
   "execution_count": null,
   "id": "f5b85738",
   "metadata": {},
   "outputs": [],
   "source": [
    "# from wrf_extract_variables import wrf_extract_variables_6h\n",
    "\n",
    "# n_exp_names = 13\n",
    "# data_library_names = ['goes']*n_exp_names\n",
    "# dir_cases = ['/02_GOES_Bias_Correction/27_ChCor']*n_exp_names\n",
    "# case_names = ['Laura']*n_exp_names\n",
    "# exp_names = ['PB', 'ASRBC4CLD_CLD_08', 'ASRBC4CLD_CLD_09', 'ASRBC4CLD_CLD_10', 'ASRBC4CLD_CLD_ALL', \\\n",
    "#              'NPB', 'NPB_ASRBC4CLD_CLD_08', 'NPB_ASRBC4CLD_CLD_09', 'NPB_ASRBC4CLD_CLD_10', 'NPB_ASRBC4CLD_CLD_ALL', \\\n",
    "#              'NPB_ASRBC4CLD_08', 'NPB_ASRBC4CLD_CLD_10_V1', 'NPB_ASRBC4CLD_CLD_10_V2']\n",
    "\n",
    "# wrf_extract_variables_6h(data_library_names=data_library_names,\n",
    "#                          dir_cases=dir_cases,\n",
    "#                          case_names=case_names,\n",
    "#                          exp_names=exp_names,\n",
    "#                          specific_level=925,\n",
    "#                          da_cycle=1,\n",
    "#                          ref_exp_name='NPB',\n",
    "#                          variables=['rh',     'avo',     'geopt',\n",
    "#                                     'rh_anl', 'avo_anl', 'geopt_anl',\n",
    "#                                     'rh_inc', 'avo_inc', 'geopt_inc'])"
   ]
  },
  {
   "cell_type": "markdown",
   "id": "bc3f79e9-639f-49e4-9a58-4af3c47a525a",
   "metadata": {},
   "source": [
    "# Extract 6h Accumulated Precipitation"
   ]
  },
  {
   "cell_type": "code",
   "execution_count": 8,
   "id": "91d1f064",
   "metadata": {},
   "outputs": [
    {
     "data": {
      "application/vnd.jupyter.widget-view+json": {
       "model_id": "a36b93f4abf2451985022092b2b6bd5f",
       "version_major": 2,
       "version_minor": 0
      },
      "text/plain": [
       "Cases: 0/5 files | 00:00<?"
      ]
     },
     "metadata": {},
     "output_type": "display_data"
    },
    {
     "data": {
      "application/vnd.jupyter.widget-view+json": {
       "model_id": "baf60bc0f34e4df6851451835aea1cb6",
       "version_major": 2,
       "version_minor": 0
      },
      "text/plain": [
       "Domains:   0%|          | 0/2 [00:00<?, ?it/s]"
      ]
     },
     "metadata": {},
     "output_type": "display_data"
    },
    {
     "data": {
      "application/vnd.jupyter.widget-view+json": {
       "model_id": "2f43e1ff674c44839871fefbb3195562",
       "version_major": 2,
       "version_minor": 0
      },
      "text/plain": [
       "Variables:   0%|          | 0/1 [00:00<?, ?it/s]"
      ]
     },
     "metadata": {},
     "output_type": "display_data"
    },
    {
     "data": {
      "application/vnd.jupyter.widget-view+json": {
       "model_id": "32ce032e9dfe4139a75f7354206f2531",
       "version_major": 2,
       "version_minor": 0
      },
      "text/plain": [
       "Times:   0%|          | 0/21 [00:00<?, ?it/s]"
      ]
     },
     "metadata": {},
     "output_type": "display_data"
    },
    {
     "data": {
      "application/vnd.jupyter.widget-view+json": {
       "model_id": "28a4356493914040969f455de0ef0cc2",
       "version_major": 2,
       "version_minor": 0
      },
      "text/plain": [
       "Variables:   0%|          | 0/1 [00:00<?, ?it/s]"
      ]
     },
     "metadata": {},
     "output_type": "display_data"
    },
    {
     "data": {
      "application/vnd.jupyter.widget-view+json": {
       "model_id": "2b8a463d69cf40389011a594ce6fe6e1",
       "version_major": 2,
       "version_minor": 0
      },
      "text/plain": [
       "Times:   0%|          | 0/21 [00:00<?, ?it/s]"
      ]
     },
     "metadata": {},
     "output_type": "display_data"
    },
    {
     "data": {
      "application/vnd.jupyter.widget-view+json": {
       "model_id": "be99f48f43d34e548a3b70a3796b6a63",
       "version_major": 2,
       "version_minor": 0
      },
      "text/plain": [
       "Domains:   0%|          | 0/2 [00:00<?, ?it/s]"
      ]
     },
     "metadata": {},
     "output_type": "display_data"
    },
    {
     "data": {
      "application/vnd.jupyter.widget-view+json": {
       "model_id": "429936c1d56244f9895f2c48dabc6b3b",
       "version_major": 2,
       "version_minor": 0
      },
      "text/plain": [
       "Variables:   0%|          | 0/1 [00:00<?, ?it/s]"
      ]
     },
     "metadata": {},
     "output_type": "display_data"
    },
    {
     "data": {
      "application/vnd.jupyter.widget-view+json": {
       "model_id": "0209dfe77bd74c80a2881c7c995f71fa",
       "version_major": 2,
       "version_minor": 0
      },
      "text/plain": [
       "Times:   0%|          | 0/21 [00:00<?, ?it/s]"
      ]
     },
     "metadata": {},
     "output_type": "display_data"
    },
    {
     "data": {
      "application/vnd.jupyter.widget-view+json": {
       "model_id": "3dd96c8b4c404d1b8ebd283e42dcb0d2",
       "version_major": 2,
       "version_minor": 0
      },
      "text/plain": [
       "Variables:   0%|          | 0/1 [00:00<?, ?it/s]"
      ]
     },
     "metadata": {},
     "output_type": "display_data"
    },
    {
     "data": {
      "application/vnd.jupyter.widget-view+json": {
       "model_id": "a6228d36c6d146848f1b6e61cae8a6e8",
       "version_major": 2,
       "version_minor": 0
      },
      "text/plain": [
       "Times:   0%|          | 0/21 [00:00<?, ?it/s]"
      ]
     },
     "metadata": {},
     "output_type": "display_data"
    },
    {
     "data": {
      "application/vnd.jupyter.widget-view+json": {
       "model_id": "3b0d1b3e394b43d89aff841c9559f3e6",
       "version_major": 2,
       "version_minor": 0
      },
      "text/plain": [
       "Domains:   0%|          | 0/2 [00:00<?, ?it/s]"
      ]
     },
     "metadata": {},
     "output_type": "display_data"
    },
    {
     "data": {
      "application/vnd.jupyter.widget-view+json": {
       "model_id": "d584157b973c4e52837fbc1e9d751a6f",
       "version_major": 2,
       "version_minor": 0
      },
      "text/plain": [
       "Variables:   0%|          | 0/1 [00:00<?, ?it/s]"
      ]
     },
     "metadata": {},
     "output_type": "display_data"
    },
    {
     "data": {
      "application/vnd.jupyter.widget-view+json": {
       "model_id": "16f6ab8707ab4776b522987d8dfeb573",
       "version_major": 2,
       "version_minor": 0
      },
      "text/plain": [
       "Times:   0%|          | 0/21 [00:00<?, ?it/s]"
      ]
     },
     "metadata": {},
     "output_type": "display_data"
    },
    {
     "data": {
      "application/vnd.jupyter.widget-view+json": {
       "model_id": "59282f3a55464eb7a2aca0beef221ff6",
       "version_major": 2,
       "version_minor": 0
      },
      "text/plain": [
       "Variables:   0%|          | 0/1 [00:00<?, ?it/s]"
      ]
     },
     "metadata": {},
     "output_type": "display_data"
    },
    {
     "data": {
      "application/vnd.jupyter.widget-view+json": {
       "model_id": "4f8fc725d0d04c029f017e78a1756ac3",
       "version_major": 2,
       "version_minor": 0
      },
      "text/plain": [
       "Times:   0%|          | 0/21 [00:00<?, ?it/s]"
      ]
     },
     "metadata": {},
     "output_type": "display_data"
    },
    {
     "data": {
      "application/vnd.jupyter.widget-view+json": {
       "model_id": "83176456ccb94d10952005d2556759a2",
       "version_major": 2,
       "version_minor": 0
      },
      "text/plain": [
       "Domains:   0%|          | 0/2 [00:00<?, ?it/s]"
      ]
     },
     "metadata": {},
     "output_type": "display_data"
    },
    {
     "data": {
      "application/vnd.jupyter.widget-view+json": {
       "model_id": "45c0b5cb61454e3d97dcf6fda3988fa1",
       "version_major": 2,
       "version_minor": 0
      },
      "text/plain": [
       "Variables:   0%|          | 0/1 [00:00<?, ?it/s]"
      ]
     },
     "metadata": {},
     "output_type": "display_data"
    },
    {
     "data": {
      "application/vnd.jupyter.widget-view+json": {
       "model_id": "f9d082d456ca43e194aef81582058dbd",
       "version_major": 2,
       "version_minor": 0
      },
      "text/plain": [
       "Times:   0%|          | 0/21 [00:00<?, ?it/s]"
      ]
     },
     "metadata": {},
     "output_type": "display_data"
    },
    {
     "data": {
      "application/vnd.jupyter.widget-view+json": {
       "model_id": "95804f8c264441718ae6125b5cfa6df9",
       "version_major": 2,
       "version_minor": 0
      },
      "text/plain": [
       "Variables:   0%|          | 0/1 [00:00<?, ?it/s]"
      ]
     },
     "metadata": {},
     "output_type": "display_data"
    },
    {
     "data": {
      "application/vnd.jupyter.widget-view+json": {
       "model_id": "fb5f90647e9e4bffa6d57f97f85272ca",
       "version_major": 2,
       "version_minor": 0
      },
      "text/plain": [
       "Times:   0%|          | 0/21 [00:00<?, ?it/s]"
      ]
     },
     "metadata": {},
     "output_type": "display_data"
    },
    {
     "data": {
      "application/vnd.jupyter.widget-view+json": {
       "model_id": "5d0f2f3daad34c268056b8ed9dcfb4c4",
       "version_major": 2,
       "version_minor": 0
      },
      "text/plain": [
       "Domains:   0%|          | 0/2 [00:00<?, ?it/s]"
      ]
     },
     "metadata": {},
     "output_type": "display_data"
    },
    {
     "data": {
      "application/vnd.jupyter.widget-view+json": {
       "model_id": "3650112380b44c13acc61749dadd63c9",
       "version_major": 2,
       "version_minor": 0
      },
      "text/plain": [
       "Variables:   0%|          | 0/1 [00:00<?, ?it/s]"
      ]
     },
     "metadata": {},
     "output_type": "display_data"
    },
    {
     "data": {
      "application/vnd.jupyter.widget-view+json": {
       "model_id": "9aeefc1daef547929e7033407948638f",
       "version_major": 2,
       "version_minor": 0
      },
      "text/plain": [
       "Times:   0%|          | 0/21 [00:00<?, ?it/s]"
      ]
     },
     "metadata": {},
     "output_type": "display_data"
    },
    {
     "data": {
      "application/vnd.jupyter.widget-view+json": {
       "model_id": "d8fc7317a6a34bb2af92eb34a17e0c2f",
       "version_major": 2,
       "version_minor": 0
      },
      "text/plain": [
       "Variables:   0%|          | 0/1 [00:00<?, ?it/s]"
      ]
     },
     "metadata": {},
     "output_type": "display_data"
    },
    {
     "data": {
      "application/vnd.jupyter.widget-view+json": {
       "model_id": "940455ca4f4f4fdcbe012b3143ce13e6",
       "version_major": 2,
       "version_minor": 0
      },
      "text/plain": [
       "Times:   0%|          | 0/21 [00:00<?, ?it/s]"
      ]
     },
     "metadata": {},
     "output_type": "display_data"
    }
   ],
   "source": [
    "from wrf_extract_variables import wrf_extract_variables_6h\n",
    "\n",
    "n_exp_names = 5\n",
    "data_library_name = ['tropics']*n_exp_names\n",
    "dir_cases = ['/TROPICS/12_Sam_Cycling_DA']*n_exp_names\n",
    "case_names = ['Sam']*n_exp_names\n",
    "# exp_names = ['CONV', 'V1_AS_Q', 'V1_AS_T', 'V1_AS_QT', 'CYG_V1_AS_QT']\n",
    "exp_names = ['CYG', 'V1_CS_Q', 'V1_CS_T', 'CYG_V1_AS_QT', 'CYG_V1_CS_QT']\n",
    "\n",
    "wrf_extract_variables_6h(data_library_names=data_library_name,\n",
    "                         dir_cases=dir_cases,\n",
    "                         case_names=case_names,\n",
    "                         exp_names=exp_names,\n",
    "                         specific_level=9999,\n",
    "                         da_cycle=8,\n",
    "                         ref_exp_name='CONV',\n",
    "                         variables=['rain_6h'])"
   ]
  },
  {
   "cell_type": "code",
   "execution_count": null,
   "id": "5c8a891d",
   "metadata": {},
   "outputs": [],
   "source": [
    "# from wrf_extract_variables import wrf_extract_variables_6h\n",
    "\n",
    "# n_exp_names = 2\n",
    "# data_library_name = ['tropics']*n_exp_names\n",
    "# dir_cases = ['/TROPICS/12_Sam_Cycling_DA']*n_exp_names\n",
    "# case_names = ['Sam']*n_exp_names\n",
    "# exp_names = ['IMERG', 'CMORPH', 'GSMaP']\n",
    "\n",
    "# wrf_extract_variables_6h(data_library_names=data_library_name,\n",
    "#                          dir_cases=dir_cases,\n",
    "#                          case_names=case_names,\n",
    "#                          exp_names=exp_names,\n",
    "#                          specific_level=9999,\n",
    "#                          da_cycle=8,\n",
    "#                          ref_exp_name='CONV',\n",
    "#                          variables=['rain_6h'])"
   ]
  },
  {
   "cell_type": "markdown",
   "id": "86514bb8",
   "metadata": {},
   "source": [
    "# Extract the environment using analysis"
   ]
  },
  {
   "cell_type": "code",
   "execution_count": null,
   "id": "7fd96a3a",
   "metadata": {},
   "outputs": [],
   "source": [
    "# from wrf_extract_variables import wrf_extract_variables_6h\n",
    "\n",
    "# n_exp_names = 2\n",
    "# data_library_name = ['cpex']*n_exp_names\n",
    "# dir_cases = ['/08_CPEX/01_CV_RF07_AEW06_IAN']*n_exp_names\n",
    "# case_names = ['Ian']*n_exp_names\n",
    "# exp_names = ['GFS', 'ERA5']\n",
    "\n",
    "# wrf_extract_variables_6h(data_library_names=data_library_name,\n",
    "#                          dir_cases=dir_cases,\n",
    "#                          case_names=case_names,\n",
    "#                          exp_names=exp_names,\n",
    "#                          specific_level=925,\n",
    "#                          da_cycle=1,\n",
    "#                          ref_exp_name='NPB',\n",
    "#                          variables=['u',     'v',     't',     \n",
    "#                                     'u_anl', 'v_anl', 't_anl'\n",
    "#                                     'u_inc', 'v_inc', 't_inc'])"
   ]
  },
  {
   "cell_type": "code",
   "execution_count": null,
   "id": "3b2628c6",
   "metadata": {},
   "outputs": [],
   "source": [
    "# from wrf_extract_variables import wrf_extract_variables_6h\n",
    "\n",
    "# n_exp_names = 2\n",
    "# data_library_name = ['cpex']*n_exp_names\n",
    "# dir_cases = ['/08_CPEX/01_CV_RF07_AEW06_IAN']*n_exp_names\n",
    "# case_names = ['Ian']*n_exp_names\n",
    "# exp_names = ['GFS', 'ERA5']\n",
    "\n",
    "# wrf_extract_variables_6h(data_library_names=data_library_name,\n",
    "#                          dir_cases=dir_cases,\n",
    "#                          case_names=case_names,\n",
    "#                          exp_names=exp_names,\n",
    "#                          specific_level=925,\n",
    "#                          da_cycle=1,\n",
    "#                          ref_exp_name='NPB',\n",
    "#                          variables=['qc',     'qr',     'qs',     'qi',\n",
    "#                                     'qc_anl', 'qr_anl', 'qs_anl', 'qi_anl',\n",
    "#                                     'qc_inc', 'qr_inc', 'qs_inc', 'qi_inc'])"
   ]
  },
  {
   "cell_type": "code",
   "execution_count": null,
   "id": "8c727e6b",
   "metadata": {},
   "outputs": [],
   "source": [
    "# from wrf_extract_variables import wrf_extract_variables_6h\n",
    "\n",
    "# n_exp_names = 2\n",
    "# data_library_name = ['cpex']*n_exp_names\n",
    "# dir_cases = ['/08_CPEX/01_CV_RF07_AEW06_IAN']*n_exp_names\n",
    "# case_names = ['Ian']*n_exp_names\n",
    "# exp_names = ['GFS', 'ERA5']\n",
    "\n",
    "# wrf_extract_variables_6h(data_library_names=data_library_name,\n",
    "#                          dir_cases=dir_cases,\n",
    "#                          case_names=case_names,\n",
    "#                          exp_names=exp_names,\n",
    "#                          specific_level=925,\n",
    "#                          da_cycle=1,\n",
    "#                          ref_exp_name='NPB',\n",
    "#                          variables=['rh',     'avo',     'geopt',\n",
    "#                                     'rh_anl', 'avo_anl', 'geopt_anl',\n",
    "#                                     'rh_inc', 'avo_inc', 'geopt_inc'])"
   ]
  },
  {
   "cell_type": "markdown",
   "id": "0f31c68d",
   "metadata": {},
   "source": [
    "# Extract single-level variables"
   ]
  },
  {
   "cell_type": "code",
   "execution_count": null,
   "id": "d1fc8bac",
   "metadata": {},
   "outputs": [],
   "source": [
    "# from wrf_extract_variables import wrf_extract_variables_6h\n",
    "\n",
    "# n_exp_names = 2\n",
    "# data_library_names = ['goes']*n_exp_names\n",
    "# dir_cases = ['/02_GOES_Bias_Correction/27_ChCor']*n_exp_names\n",
    "# case_names = ['Laura']*n_exp_names\n",
    "# # exp_names = ['PB', 'ASRBC4CLD_CLD_08', 'ASRBC4CLD_CLD_09', 'ASRBC4CLD_CLD_10', 'ASRBC4CLD_CLD_ALL', \\\n",
    "# #              'NPB', 'NPB_ASRBC4CLD_CLD_08', 'NPB_ASRBC4CLD_CLD_09', 'NPB_ASRBC4CLD_CLD_10', 'NPB_ASRBC4CLD_CLD_ALL', \\\n",
    "# #              'NPB_ASRBC4CLD_08', 'NPB_ASRBC4CLD_CLD_10_V1', 'NPB_ASRBC4CLD_CLD_10_V2']\n",
    "# exp_names = ['GFS', 'ERA5']\n",
    "\n",
    "# wrf_extract_variables_6h(data_library_names=data_library_names,\n",
    "#                          dir_cases=dir_cases,\n",
    "#                          case_names=case_names,\n",
    "#                          exp_names=exp_names,\n",
    "#                          specific_level=9999,\n",
    "#                          da_cycle=8,\n",
    "#                          ref_exp_name='NPB',\n",
    "#                          variables=['u10',     'v10',     'wspd10',     'sp',     'slp',\n",
    "#                                     'u10_anl', 'v10_anl', 'wspd10_anl', 'sp_anl', 'slp_anl'])"
   ]
  },
  {
   "cell_type": "code",
   "execution_count": null,
   "id": "ab71f911",
   "metadata": {},
   "outputs": [],
   "source": []
  }
 ],
 "metadata": {
  "kernelspec": {
   "display_name": "Python 3 (ipykernel)",
   "language": "python",
   "name": "python3"
  },
  "language_info": {
   "codemirror_mode": {
    "name": "ipython",
    "version": 3
   },
   "file_extension": ".py",
   "mimetype": "text/x-python",
   "name": "python",
   "nbconvert_exporter": "python",
   "pygments_lexer": "ipython3",
   "version": "3.9.18"
  }
 },
 "nbformat": 4,
 "nbformat_minor": 5
}
