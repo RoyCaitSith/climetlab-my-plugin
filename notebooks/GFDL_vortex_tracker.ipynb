{
 "cells": [
  {
   "cell_type": "markdown",
   "id": "8a1ac3f5-4e2c-4a46-b29c-4cd914a4b560",
   "metadata": {
    "tags": []
   },
   "source": [
    "# Link the WRF output to a specific folder"
   ]
  },
  {
   "cell_type": "code",
   "execution_count": 1,
   "id": "cb05f31e-2414-4ed6-8eb7-98a924643f59",
   "metadata": {
    "tags": []
   },
   "outputs": [
    {
     "data": {
      "application/vnd.jupyter.widget-view+json": {
       "model_id": "d878fb9d7b284d53a3fd2c94582e4e30",
       "version_major": 2,
       "version_minor": 0
      },
      "text/plain": [
       "DA Cycle:   0%|          | 0/12 [00:00<?, ?it/s]"
      ]
     },
     "metadata": {},
     "output_type": "display_data"
    },
    {
     "name": "stdout",
     "output_type": "stream",
     "text": [
      "Link wrfout files from 2020-08-24 06:00:00 to 2020-08-26 12:00:00\n"
     ]
    },
    {
     "data": {
      "application/vnd.jupyter.widget-view+json": {
       "model_id": "",
       "version_major": 2,
       "version_minor": 0
      },
      "text/plain": [
       "Processing files:   0%|          | 0/10 [00:00<?, ?it/s]"
      ]
     },
     "metadata": {},
     "output_type": "display_data"
    },
    {
     "name": "stdout",
     "output_type": "stream",
     "text": [
      "Link wrfout files from 2020-08-24 06:00:00 to 2020-08-26 18:00:00\n"
     ]
    },
    {
     "data": {
      "application/vnd.jupyter.widget-view+json": {
       "model_id": "",
       "version_major": 2,
       "version_minor": 0
      },
      "text/plain": [
       "Processing files:   0%|          | 0/11 [00:00<?, ?it/s]"
      ]
     },
     "metadata": {},
     "output_type": "display_data"
    },
    {
     "name": "stdout",
     "output_type": "stream",
     "text": [
      "Link wrfout files from 2020-08-24 06:00:00 to 2020-08-27 00:00:00\n"
     ]
    },
    {
     "data": {
      "application/vnd.jupyter.widget-view+json": {
       "model_id": "",
       "version_major": 2,
       "version_minor": 0
      },
      "text/plain": [
       "Processing files:   0%|          | 0/12 [00:00<?, ?it/s]"
      ]
     },
     "metadata": {},
     "output_type": "display_data"
    },
    {
     "name": "stdout",
     "output_type": "stream",
     "text": [
      "Link wrfout files from 2020-08-24 06:00:00 to 2020-08-27 06:00:00\n"
     ]
    },
    {
     "data": {
      "application/vnd.jupyter.widget-view+json": {
       "model_id": "",
       "version_major": 2,
       "version_minor": 0
      },
      "text/plain": [
       "Processing files:   0%|          | 0/13 [00:00<?, ?it/s]"
      ]
     },
     "metadata": {},
     "output_type": "display_data"
    },
    {
     "name": "stdout",
     "output_type": "stream",
     "text": [
      "Link wrfout files from 2020-08-24 06:00:00 to 2020-08-27 12:00:00\n"
     ]
    },
    {
     "data": {
      "application/vnd.jupyter.widget-view+json": {
       "model_id": "",
       "version_major": 2,
       "version_minor": 0
      },
      "text/plain": [
       "Processing files:   0%|          | 0/14 [00:00<?, ?it/s]"
      ]
     },
     "metadata": {},
     "output_type": "display_data"
    },
    {
     "name": "stdout",
     "output_type": "stream",
     "text": [
      "Link wrfout files from 2020-08-24 06:00:00 to 2020-08-27 18:00:00\n"
     ]
    },
    {
     "data": {
      "application/vnd.jupyter.widget-view+json": {
       "model_id": "",
       "version_major": 2,
       "version_minor": 0
      },
      "text/plain": [
       "Processing files:   0%|          | 0/15 [00:00<?, ?it/s]"
      ]
     },
     "metadata": {},
     "output_type": "display_data"
    },
    {
     "name": "stdout",
     "output_type": "stream",
     "text": [
      "Link wrfout files from 2020-08-24 06:00:00 to 2020-08-28 00:00:00\n"
     ]
    },
    {
     "data": {
      "application/vnd.jupyter.widget-view+json": {
       "model_id": "",
       "version_major": 2,
       "version_minor": 0
      },
      "text/plain": [
       "Processing files:   0%|          | 0/16 [00:00<?, ?it/s]"
      ]
     },
     "metadata": {},
     "output_type": "display_data"
    },
    {
     "name": "stdout",
     "output_type": "stream",
     "text": [
      "Link wrfout files from 2020-08-24 06:00:00 to 2020-08-28 06:00:00\n"
     ]
    },
    {
     "data": {
      "application/vnd.jupyter.widget-view+json": {
       "model_id": "",
       "version_major": 2,
       "version_minor": 0
      },
      "text/plain": [
       "Processing files:   0%|          | 0/17 [00:00<?, ?it/s]"
      ]
     },
     "metadata": {},
     "output_type": "display_data"
    },
    {
     "name": "stdout",
     "output_type": "stream",
     "text": [
      "Link wrfout files from 2020-08-24 06:00:00 to 2020-08-28 12:00:00\n"
     ]
    },
    {
     "data": {
      "application/vnd.jupyter.widget-view+json": {
       "model_id": "",
       "version_major": 2,
       "version_minor": 0
      },
      "text/plain": [
       "Processing files:   0%|          | 0/18 [00:00<?, ?it/s]"
      ]
     },
     "metadata": {},
     "output_type": "display_data"
    },
    {
     "name": "stdout",
     "output_type": "stream",
     "text": [
      "Link wrfout files from 2020-08-24 06:00:00 to 2020-08-28 18:00:00\n"
     ]
    },
    {
     "data": {
      "application/vnd.jupyter.widget-view+json": {
       "model_id": "",
       "version_major": 2,
       "version_minor": 0
      },
      "text/plain": [
       "Processing files:   0%|          | 0/19 [00:00<?, ?it/s]"
      ]
     },
     "metadata": {},
     "output_type": "display_data"
    },
    {
     "name": "stdout",
     "output_type": "stream",
     "text": [
      "Link wrfout files from 2020-08-24 06:00:00 to 2020-08-29 00:00:00\n"
     ]
    },
    {
     "data": {
      "application/vnd.jupyter.widget-view+json": {
       "model_id": "",
       "version_major": 2,
       "version_minor": 0
      },
      "text/plain": [
       "Processing files:   0%|          | 0/20 [00:00<?, ?it/s]"
      ]
     },
     "metadata": {},
     "output_type": "display_data"
    },
    {
     "name": "stdout",
     "output_type": "stream",
     "text": [
      "Link wrfout files from 2020-08-24 06:00:00 to 2020-08-29 06:00:00\n"
     ]
    },
    {
     "data": {
      "application/vnd.jupyter.widget-view+json": {
       "model_id": "",
       "version_major": 2,
       "version_minor": 0
      },
      "text/plain": [
       "Processing files:   0%|          | 0/21 [00:00<?, ?it/s]"
      ]
     },
     "metadata": {},
     "output_type": "display_data"
    }
   ],
   "source": [
    "from GFDL_vortex_tracker import link_wrfout\n",
    "\n",
    "link_wrfout(dir_case='/02_GOES_Bias_Correction/27_ChCor', case_name='Laura', exp_name='ASRBC4CLD_CLD_ALL')"
   ]
  },
  {
   "cell_type": "markdown",
   "id": "0a993a5d-ef40-4eb3-af68-583df1928291",
   "metadata": {
    "tags": []
   },
   "source": [
    "# Copy the nessary files for running unipost"
   ]
  },
  {
   "cell_type": "code",
   "execution_count": 2,
   "id": "4eeb13fd-1196-4ba6-aca9-b5678f3f512e",
   "metadata": {
    "tags": []
   },
   "outputs": [
    {
     "data": {
      "application/vnd.jupyter.widget-view+json": {
       "model_id": "526ec0cee28942aaa16f3d5e52819b73",
       "version_major": 2,
       "version_minor": 0
      },
      "text/plain": [
       "DA Cycle:   0%|          | 0/12 [00:00<?, ?it/s]"
      ]
     },
     "metadata": {},
     "output_type": "display_data"
    },
    {
     "name": "stdout",
     "output_type": "stream",
     "text": [
      "Laura_NPB_C01\n",
      "Please revise fort.15 in multi\n",
      "Please revise input.nml in multi\n",
      "Please revise tcvit_rsmc_storms.txt in multi\n",
      "Please revise run_unipost in postprd\n",
      "Please run run_unipost!\n",
      "Laura_NPB_C02\n",
      "Please revise fort.15 in multi\n",
      "Please revise input.nml in multi\n",
      "Please revise tcvit_rsmc_storms.txt in multi\n",
      "Please revise run_unipost in postprd\n",
      "Please run run_unipost!\n",
      "Laura_NPB_C03\n",
      "Please revise fort.15 in multi\n",
      "Please revise input.nml in multi\n",
      "Please revise tcvit_rsmc_storms.txt in multi\n",
      "Please revise run_unipost in postprd\n",
      "Please run run_unipost!\n",
      "Laura_NPB_C04\n",
      "Please revise fort.15 in multi\n",
      "Please revise input.nml in multi\n",
      "Please revise tcvit_rsmc_storms.txt in multi\n",
      "Please revise run_unipost in postprd\n",
      "Please run run_unipost!\n",
      "Laura_NPB_C05\n",
      "Please revise fort.15 in multi\n",
      "Please revise input.nml in multi\n",
      "Please revise tcvit_rsmc_storms.txt in multi\n",
      "Please revise run_unipost in postprd\n",
      "Please run run_unipost!\n",
      "Laura_NPB_C06\n",
      "Please revise fort.15 in multi\n",
      "Please revise input.nml in multi\n",
      "Please revise tcvit_rsmc_storms.txt in multi\n",
      "Please revise run_unipost in postprd\n",
      "Please run run_unipost!\n",
      "Laura_NPB_C07\n",
      "Please revise fort.15 in multi\n",
      "Please revise input.nml in multi\n",
      "Please revise tcvit_rsmc_storms.txt in multi\n",
      "Please revise run_unipost in postprd\n",
      "Please run run_unipost!\n",
      "Laura_NPB_C08\n",
      "Please revise fort.15 in multi\n",
      "Please revise input.nml in multi\n",
      "Please revise tcvit_rsmc_storms.txt in multi\n",
      "Please revise run_unipost in postprd\n",
      "Please run run_unipost!\n",
      "Laura_NPB_C09\n",
      "Please revise fort.15 in multi\n",
      "Please revise input.nml in multi\n",
      "Please revise tcvit_rsmc_storms.txt in multi\n",
      "Please revise run_unipost in postprd\n",
      "Please run run_unipost!\n",
      "Laura_NPB_C10\n",
      "Please revise fort.15 in multi\n",
      "Please revise input.nml in multi\n",
      "Please revise tcvit_rsmc_storms.txt in multi\n",
      "Please revise run_unipost in postprd\n",
      "Please run run_unipost!\n",
      "Laura_NPB_C11\n",
      "Please revise fort.15 in multi\n",
      "Please revise input.nml in multi\n",
      "Please revise tcvit_rsmc_storms.txt in multi\n",
      "Please revise run_unipost in postprd\n",
      "Please run run_unipost!\n",
      "Laura_NPB_C12\n",
      "Please revise fort.15 in multi\n",
      "Please revise input.nml in multi\n",
      "Please revise tcvit_rsmc_storms.txt in multi\n",
      "Please revise run_unipost in postprd\n",
      "Please run run_unipost!\n"
     ]
    }
   ],
   "source": [
    "from GFDL_vortex_tracker import setup_GFDL_folder\n",
    "\n",
    "setup_GFDL_folder(dir_case='/02_GOES_Bias_Correction/27_ChCor', case_name='Laura', exp_name='NPB',\n",
    "                  copy_exp_name='ASRBC4CLD_CLD_ALL')"
   ]
  },
  {
   "cell_type": "markdown",
   "id": "baae3988-0589-4fb2-a236-ffa2a9bfc823",
   "metadata": {},
   "source": [
    "# Copy FINAL and run grbindex.exe"
   ]
  },
  {
   "cell_type": "code",
   "execution_count": 10,
   "id": "4a2dffe1-de1b-4e9b-914c-302201f3b56c",
   "metadata": {},
   "outputs": [
    {
     "data": {
      "application/vnd.jupyter.widget-view+json": {
       "model_id": "e71649f5dd524facb51fe5f6ceb91657",
       "version_major": 2,
       "version_minor": 0
      },
      "text/plain": [
       "DA Cycle:   0%|          | 0/12 [00:00<?, ?it/s]"
      ]
     },
     "metadata": {},
     "output_type": "display_data"
    },
    {
     "data": {
      "application/vnd.jupyter.widget-view+json": {
       "model_id": "",
       "version_major": 2,
       "version_minor": 0
      },
      "text/plain": [
       "Processing files:   0%|          | 0/10 [00:00<?, ?it/s]"
      ]
     },
     "metadata": {},
     "output_type": "display_data"
    },
    {
     "data": {
      "application/vnd.jupyter.widget-view+json": {
       "model_id": "",
       "version_major": 2,
       "version_minor": 0
      },
      "text/plain": [
       "Processing files:   0%|          | 0/11 [00:00<?, ?it/s]"
      ]
     },
     "metadata": {},
     "output_type": "display_data"
    },
    {
     "data": {
      "application/vnd.jupyter.widget-view+json": {
       "model_id": "",
       "version_major": 2,
       "version_minor": 0
      },
      "text/plain": [
       "Processing files:   0%|          | 0/12 [00:00<?, ?it/s]"
      ]
     },
     "metadata": {},
     "output_type": "display_data"
    },
    {
     "data": {
      "application/vnd.jupyter.widget-view+json": {
       "model_id": "",
       "version_major": 2,
       "version_minor": 0
      },
      "text/plain": [
       "Processing files:   0%|          | 0/13 [00:00<?, ?it/s]"
      ]
     },
     "metadata": {},
     "output_type": "display_data"
    },
    {
     "data": {
      "application/vnd.jupyter.widget-view+json": {
       "model_id": "",
       "version_major": 2,
       "version_minor": 0
      },
      "text/plain": [
       "Processing files:   0%|          | 0/14 [00:00<?, ?it/s]"
      ]
     },
     "metadata": {},
     "output_type": "display_data"
    },
    {
     "data": {
      "application/vnd.jupyter.widget-view+json": {
       "model_id": "",
       "version_major": 2,
       "version_minor": 0
      },
      "text/plain": [
       "Processing files:   0%|          | 0/15 [00:00<?, ?it/s]"
      ]
     },
     "metadata": {},
     "output_type": "display_data"
    },
    {
     "data": {
      "application/vnd.jupyter.widget-view+json": {
       "model_id": "",
       "version_major": 2,
       "version_minor": 0
      },
      "text/plain": [
       "Processing files:   0%|          | 0/16 [00:00<?, ?it/s]"
      ]
     },
     "metadata": {},
     "output_type": "display_data"
    },
    {
     "data": {
      "application/vnd.jupyter.widget-view+json": {
       "model_id": "",
       "version_major": 2,
       "version_minor": 0
      },
      "text/plain": [
       "Processing files:   0%|          | 0/17 [00:00<?, ?it/s]"
      ]
     },
     "metadata": {},
     "output_type": "display_data"
    },
    {
     "data": {
      "application/vnd.jupyter.widget-view+json": {
       "model_id": "",
       "version_major": 2,
       "version_minor": 0
      },
      "text/plain": [
       "Processing files:   0%|          | 0/18 [00:00<?, ?it/s]"
      ]
     },
     "metadata": {},
     "output_type": "display_data"
    },
    {
     "data": {
      "application/vnd.jupyter.widget-view+json": {
       "model_id": "",
       "version_major": 2,
       "version_minor": 0
      },
      "text/plain": [
       "Processing files:   0%|          | 0/19 [00:00<?, ?it/s]"
      ]
     },
     "metadata": {},
     "output_type": "display_data"
    },
    {
     "data": {
      "application/vnd.jupyter.widget-view+json": {
       "model_id": "",
       "version_major": 2,
       "version_minor": 0
      },
      "text/plain": [
       "Processing files:   0%|          | 0/20 [00:00<?, ?it/s]"
      ]
     },
     "metadata": {},
     "output_type": "display_data"
    },
    {
     "data": {
      "application/vnd.jupyter.widget-view+json": {
       "model_id": "",
       "version_major": 2,
       "version_minor": 0
      },
      "text/plain": [
       "Processing files:   0%|          | 0/21 [00:00<?, ?it/s]"
      ]
     },
     "metadata": {},
     "output_type": "display_data"
    }
   ],
   "source": [
    "from GFDL_vortex_tracker import process_GFDL_files\n",
    "\n",
    "process_GFDL_files(dir_case='/02_GOES_Bias_Correction/27_ChCor', case_name='Laura', exp_name='PB')"
   ]
  },
  {
   "cell_type": "code",
   "execution_count": null,
   "id": "44f1a520-aaf1-4e6f-ac3d-6effa3d5104d",
   "metadata": {},
   "outputs": [],
   "source": []
  }
 ],
 "metadata": {
  "kernelspec": {
   "display_name": "Python 3 (ipykernel)",
   "language": "python",
   "name": "python3"
  },
  "language_info": {
   "codemirror_mode": {
    "name": "ipython",
    "version": 3
   },
   "file_extension": ".py",
   "mimetype": "text/x-python",
   "name": "python",
   "nbconvert_exporter": "python",
   "pygments_lexer": "ipython3",
   "version": "3.10.9"
  }
 },
 "nbformat": 4,
 "nbformat_minor": 5
}
