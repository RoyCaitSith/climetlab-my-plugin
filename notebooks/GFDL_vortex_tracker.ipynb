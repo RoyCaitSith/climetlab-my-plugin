{
 "cells": [
  {
   "cell_type": "markdown",
   "id": "8a1ac3f5-4e2c-4a46-b29c-4cd914a4b560",
   "metadata": {
    "tags": []
   },
   "source": [
    "# Link the WRF output to a specific folder"
   ]
  },
  {
   "cell_type": "code",
   "execution_count": 25,
   "id": "cb05f31e-2414-4ed6-8eb7-98a924643f59",
   "metadata": {
    "tags": []
   },
   "outputs": [
    {
     "data": {
      "application/vnd.jupyter.widget-view+json": {
       "model_id": "62d7f72f6ee3410e93ca6bdb7e4e64dc",
       "version_major": 2,
       "version_minor": 0
      },
      "text/plain": [
       "DA Cycle:   0%|          | 0/3 [00:00<?, ?it/s]"
      ]
     },
     "metadata": {},
     "output_type": "display_data"
    },
    {
     "name": "stdout",
     "output_type": "stream",
     "text": [
      "Link wrfout files from 2021-08-26 06:00:00 to 2021-08-29 12:00:00\n"
     ]
    },
    {
     "data": {
      "application/vnd.jupyter.widget-view+json": {
       "model_id": "",
       "version_major": 2,
       "version_minor": 0
      },
      "text/plain": [
       "Processing files:   0%|          | 0/14 [00:00<?, ?it/s]"
      ]
     },
     "metadata": {},
     "output_type": "display_data"
    },
    {
     "name": "stdout",
     "output_type": "stream",
     "text": [
      "Link wrfout files from 2021-08-26 06:00:00 to 2021-08-29 18:00:00\n"
     ]
    },
    {
     "data": {
      "application/vnd.jupyter.widget-view+json": {
       "model_id": "",
       "version_major": 2,
       "version_minor": 0
      },
      "text/plain": [
       "Processing files:   0%|          | 0/15 [00:00<?, ?it/s]"
      ]
     },
     "metadata": {},
     "output_type": "display_data"
    },
    {
     "name": "stdout",
     "output_type": "stream",
     "text": [
      "Link wrfout files from 2021-08-26 06:00:00 to 2021-08-30 00:00:00\n"
     ]
    },
    {
     "data": {
      "application/vnd.jupyter.widget-view+json": {
       "model_id": "",
       "version_major": 2,
       "version_minor": 0
      },
      "text/plain": [
       "Processing files:   0%|          | 0/16 [00:00<?, ?it/s]"
      ]
     },
     "metadata": {},
     "output_type": "display_data"
    }
   ],
   "source": [
    "from GFDL_vortex_tracker import link_wrfout\n",
    "\n",
    "link_wrfout(dir_case='/05_TROPICS/10_cycling_da_tropics_v3', case_name='Ida', exp_name='CON_TROPICS_Q_V3_CLR_ENS')"
   ]
  },
  {
   "cell_type": "markdown",
   "id": "0a993a5d-ef40-4eb3-af68-583df1928291",
   "metadata": {
    "tags": []
   },
   "source": [
    "# Copy the nessary files for running unipost"
   ]
  },
  {
   "cell_type": "code",
   "execution_count": 58,
   "id": "4eeb13fd-1196-4ba6-aca9-b5678f3f512e",
   "metadata": {
    "tags": []
   },
   "outputs": [
    {
     "data": {
      "application/vnd.jupyter.widget-view+json": {
       "model_id": "a69f158511f5451994e0a259dde6b380",
       "version_major": 2,
       "version_minor": 0
      },
      "text/plain": [
       "DA Cycle:   0%|          | 0/3 [00:00<?, ?it/s]"
      ]
     },
     "metadata": {},
     "output_type": "display_data"
    },
    {
     "name": "stdout",
     "output_type": "stream",
     "text": [
      "Ida_CON_TROPICS_T_V3_CLR_ENS_C01\n",
      "Please revise fort.15 in multi\n",
      "Please revise input.nml in multi\n",
      "Please revise tcvit_rsmc_storms.txt in multi\n",
      "Please revise run_unipost in postprd\n",
      "Please run run_unipost!\n",
      "Ida_CON_TROPICS_T_V3_CLR_ENS_C02\n",
      "Please revise fort.15 in multi\n",
      "Please revise input.nml in multi\n",
      "Please revise tcvit_rsmc_storms.txt in multi\n",
      "Please revise run_unipost in postprd\n",
      "Please run run_unipost!\n",
      "Ida_CON_TROPICS_T_V3_CLR_ENS_C03\n",
      "Please revise fort.15 in multi\n",
      "Please revise input.nml in multi\n",
      "Please revise tcvit_rsmc_storms.txt in multi\n",
      "Please revise run_unipost in postprd\n",
      "Please run run_unipost!\n"
     ]
    }
   ],
   "source": [
    "from GFDL_vortex_tracker import setup_GFDL_folder\n",
    "\n",
    "setup_GFDL_folder(dir_case='/05_TROPICS/10_cycling_da_tropics_v3', case_name='Ida', exp_name='CON_TROPICS_T_V3_CLR_ENS',\n",
    "                  copy_exp_name='TROPICS_Q_V3_CLR_ENS')"
   ]
  },
  {
   "cell_type": "markdown",
   "id": "baae3988-0589-4fb2-a236-ffa2a9bfc823",
   "metadata": {},
   "source": [
    "# Copy FINAL and run grbindex.exe"
   ]
  },
  {
   "cell_type": "code",
   "execution_count": 51,
   "id": "4a2dffe1-de1b-4e9b-914c-302201f3b56c",
   "metadata": {},
   "outputs": [
    {
     "data": {
      "application/vnd.jupyter.widget-view+json": {
       "model_id": "5716c7abbd9449f4bbb20b0ce3367baa",
       "version_major": 2,
       "version_minor": 0
      },
      "text/plain": [
       "DA Cycle:   0%|          | 0/3 [00:00<?, ?it/s]"
      ]
     },
     "metadata": {},
     "output_type": "display_data"
    },
    {
     "data": {
      "application/vnd.jupyter.widget-view+json": {
       "model_id": "",
       "version_major": 2,
       "version_minor": 0
      },
      "text/plain": [
       "Processing files:   0%|          | 0/14 [00:00<?, ?it/s]"
      ]
     },
     "metadata": {},
     "output_type": "display_data"
    },
    {
     "data": {
      "application/vnd.jupyter.widget-view+json": {
       "model_id": "",
       "version_major": 2,
       "version_minor": 0
      },
      "text/plain": [
       "Processing files:   0%|          | 0/15 [00:00<?, ?it/s]"
      ]
     },
     "metadata": {},
     "output_type": "display_data"
    },
    {
     "data": {
      "application/vnd.jupyter.widget-view+json": {
       "model_id": "",
       "version_major": 2,
       "version_minor": 0
      },
      "text/plain": [
       "Processing files:   0%|          | 0/16 [00:00<?, ?it/s]"
      ]
     },
     "metadata": {},
     "output_type": "display_data"
    }
   ],
   "source": [
    "from GFDL_vortex_tracker import process_GFDL_files\n",
    "\n",
    "process_GFDL_files(dir_case='/05_TROPICS/10_cycling_da_tropics_v3', case_name='Ida', exp_name='TROPICS_Q_T_V3_CLR_ENS')"
   ]
  },
  {
   "cell_type": "code",
   "execution_count": null,
   "id": "44f1a520-aaf1-4e6f-ac3d-6effa3d5104d",
   "metadata": {},
   "outputs": [],
   "source": []
  }
 ],
 "metadata": {
  "kernelspec": {
   "display_name": "Python 3 (ipykernel)",
   "language": "python",
   "name": "python3"
  },
  "language_info": {
   "codemirror_mode": {
    "name": "ipython",
    "version": 3
   },
   "file_extension": ".py",
   "mimetype": "text/x-python",
   "name": "python",
   "nbconvert_exporter": "python",
   "pygments_lexer": "ipython3",
   "version": "3.10.9"
  }
 },
 "nbformat": 4,
 "nbformat_minor": 5
}
