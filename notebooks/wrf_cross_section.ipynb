{
 "cells": [
  {
   "cell_type": "code",
   "execution_count": null,
   "id": "a4353fe0",
   "metadata": {},
   "outputs": [],
   "source": [
    "var_time = 20220918120000\n",
    "lat_start = 11.7\n",
    "lon_start = -42.0\n",
    "lat_end = 11.7\n",
    "lon_end = -17.0\n",
    "domain = 'd01'\n",
    "contourf_var = 'rh'"
   ]
  },
  {
   "cell_type": "markdown",
   "id": "524de3a4",
   "metadata": {},
   "source": [
    "# Extract cross section"
   ]
  },
  {
   "cell_type": "code",
   "execution_count": null,
   "id": "e7dfb7a5",
   "metadata": {},
   "outputs": [],
   "source": [
    "from wrf_cross_section import extract_cross_section\n",
    "\n",
    "n_exp_names = 7\n",
    "data_library_names = ['cpex']*n_exp_names\n",
    "dir_cases = ['/08_CPEX/01_CV_RF07_AEW06_IAN']*n_exp_names\n",
    "case_names = ['Ian']*n_exp_names\n",
    "exp_names = ['ERA5', 'GFS', 'CTRL', 'CONV', 'DAWN', 'HALO', 'DAWN_HALO']\n",
    "\n",
    "extract_cross_section(data_library_names=data_library_names,\n",
    "                      dir_cases=dir_cases,\n",
    "                      case_names=case_names,\n",
    "                      exp_names=exp_names,\n",
    "                      da_cycle=4, domain=domain, var_time=var_time,\n",
    "                      lat_start=lat_start, lon_start=lon_start, lat_end=lat_end, lon_end=lon_end,\n",
    "                      ref_exp_name='CTRL',\n",
    "                      variables=[contourf_var])"
   ]
  },
  {
   "cell_type": "markdown",
   "id": "86514bb8",
   "metadata": {},
   "source": [
    "# Draw cross section"
   ]
  },
  {
   "cell_type": "code",
   "execution_count": null,
   "id": "7fd96a3a",
   "metadata": {},
   "outputs": [],
   "source": [
    "import colormaps as cmaps\n",
    "from wrf_cross_section import draw_cross_section\n",
    "\n",
    "n_exp_names = 7\n",
    "data_library_names = ['cpex']*n_exp_names\n",
    "dir_cases = ['/08_CPEX/01_CV_RF07_AEW06_IAN']*n_exp_names\n",
    "case_names = ['Ian']*n_exp_names\n",
    "exp_names = ['ERA5', 'GFS', 'CTRL', 'CONV', 'DAWN', 'HALO', 'DAWN_HALO']\n",
    "\n",
    "draw_cross_section(data_library_names=data_library_names,\n",
    "                   dir_cases=dir_cases,\n",
    "                   case_names=case_names,\n",
    "                   exp_names=exp_names,\n",
    "                   contourf_var=contourf_var, contourf_var_levels=range(0, 101, 10), contourf_var_cmap=cmaps.div3_green_brown_r,\n",
    "                   contour_var='null', quiver_vars=['null', 'null'],\n",
    "                   lat_start=lat_start, lon_start=lon_start, lat_end=lat_end, lon_end=lon_end,\n",
    "                   domain=domain, da_cycle=4, var_time=var_time, x_display_mode='lon')"
   ]
  },
  {
   "cell_type": "code",
   "execution_count": null,
   "id": "ad17efa1",
   "metadata": {},
   "outputs": [],
   "source": []
  }
 ],
 "metadata": {
  "kernelspec": {
   "display_name": "Python 3 (ipykernel)",
   "language": "python",
   "name": "python3"
  },
  "language_info": {
   "codemirror_mode": {
    "name": "ipython",
    "version": 3
   },
   "file_extension": ".py",
   "mimetype": "text/x-python",
   "name": "python",
   "nbconvert_exporter": "python",
   "pygments_lexer": "ipython3",
   "version": "3.10.9"
  }
 },
 "nbformat": 4,
 "nbformat_minor": 5
}
