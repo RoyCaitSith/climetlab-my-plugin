{
 "cells": [
  {
   "cell_type": "markdown",
   "id": "524de3a4",
   "metadata": {},
   "source": [
    "# Compare WRF analysis with Reanalysis data"
   ]
  },
  {
   "cell_type": "code",
   "execution_count": 2,
   "id": "e7dfb7a5",
   "metadata": {},
   "outputs": [
    {
     "data": {
      "application/vnd.jupyter.widget-view+json": {
       "model_id": "5ca5add502194ff2992767a9496f5461",
       "version_major": 2,
       "version_minor": 0
      },
      "text/plain": [
       "Cases: 0/8 files | 00:00<?"
      ]
     },
     "metadata": {},
     "output_type": "display_data"
    },
    {
     "data": {
      "application/vnd.jupyter.widget-view+json": {
       "model_id": "0fe25848210648378b0d3c1d4d297bbb",
       "version_major": 2,
       "version_minor": 0
      },
      "text/plain": [
       "Domains:   0%|          | 0/1 [00:00<?, ?it/s]"
      ]
     },
     "metadata": {},
     "output_type": "display_data"
    },
    {
     "data": {
      "application/vnd.jupyter.widget-view+json": {
       "model_id": "32903da2daa142968a67e125eb818b7f",
       "version_major": 2,
       "version_minor": 0
      },
      "text/plain": [
       "Observations:   0%|          | 0/3 [00:00<?, ?it/s]"
      ]
     },
     "metadata": {},
     "output_type": "display_data"
    },
    {
     "name": "stdout",
     "output_type": "stream",
     "text": [
      "     Observation DA_Cycle Forecast_Hour            Date_Time Threshold  \\\n",
      "0         CMORPH        1             6  2021-08-26 06:00:00         1   \n",
      "1         CMORPH        1             6  2021-08-26 06:00:00         1   \n",
      "2         CMORPH        1             6  2021-08-26 06:00:00         5   \n",
      "3         CMORPH        1             6  2021-08-26 06:00:00         5   \n",
      "4         CMORPH        1             6  2021-08-26 06:00:00        10   \n",
      "...          ...      ...           ...                  ...       ...   \n",
      "2587       GSMaP       11            90  2021-08-29 18:00:00         5   \n",
      "2588       GSMaP       11            90  2021-08-29 18:00:00        10   \n",
      "2589       GSMaP       11            90  2021-08-29 18:00:00        10   \n",
      "2590       GSMaP       11            90  2021-08-29 18:00:00        15   \n",
      "2591       GSMaP       11            90  2021-08-29 18:00:00        15   \n",
      "\n",
      "     Region_Type       ETS  \n",
      "0             tc  0.121492  \n",
      "1         domain  0.260001  \n",
      "2             tc    0.0958  \n",
      "3         domain  0.200137  \n",
      "4             tc  0.079596  \n",
      "...          ...       ...  \n",
      "2587      domain  0.076477  \n",
      "2588          tc  0.181798  \n",
      "2589      domain  0.045162  \n",
      "2590          tc  0.234174  \n",
      "2591      domain  0.030943  \n",
      "\n",
      "[2592 rows x 7 columns]\n"
     ]
    },
    {
     "data": {
      "application/vnd.jupyter.widget-view+json": {
       "model_id": "ec9815ba11a2484bae06880593081b6f",
       "version_major": 2,
       "version_minor": 0
      },
      "text/plain": [
       "Domains:   0%|          | 0/1 [00:00<?, ?it/s]"
      ]
     },
     "metadata": {},
     "output_type": "display_data"
    },
    {
     "data": {
      "application/vnd.jupyter.widget-view+json": {
       "model_id": "78535721d96442c8a8668ef507c1e03e",
       "version_major": 2,
       "version_minor": 0
      },
      "text/plain": [
       "Observations:   0%|          | 0/3 [00:00<?, ?it/s]"
      ]
     },
     "metadata": {},
     "output_type": "display_data"
    },
    {
     "name": "stdout",
     "output_type": "stream",
     "text": [
      "     Observation DA_Cycle Forecast_Hour            Date_Time Threshold  \\\n",
      "0         CMORPH        1             6  2021-08-26 06:00:00         1   \n",
      "1         CMORPH        1             6  2021-08-26 06:00:00         1   \n",
      "2         CMORPH        1             6  2021-08-26 06:00:00         5   \n",
      "3         CMORPH        1             6  2021-08-26 06:00:00         5   \n",
      "4         CMORPH        1             6  2021-08-26 06:00:00        10   \n",
      "...          ...      ...           ...                  ...       ...   \n",
      "2587       GSMaP       11            90  2021-08-29 18:00:00         5   \n",
      "2588       GSMaP       11            90  2021-08-29 18:00:00        10   \n",
      "2589       GSMaP       11            90  2021-08-29 18:00:00        10   \n",
      "2590       GSMaP       11            90  2021-08-29 18:00:00        15   \n",
      "2591       GSMaP       11            90  2021-08-29 18:00:00        15   \n",
      "\n",
      "     Region_Type       ETS  \n",
      "0             tc  0.125379  \n",
      "1         domain  0.260486  \n",
      "2             tc  0.089918  \n",
      "3         domain  0.200598  \n",
      "4             tc  0.079478  \n",
      "...          ...       ...  \n",
      "2587      domain  0.071207  \n",
      "2588          tc  0.171444  \n",
      "2589      domain  0.039017  \n",
      "2590          tc  0.175801  \n",
      "2591      domain  0.025191  \n",
      "\n",
      "[2592 rows x 7 columns]\n"
     ]
    },
    {
     "data": {
      "application/vnd.jupyter.widget-view+json": {
       "model_id": "34f0989c1b7e4337b56d503de9b1a84a",
       "version_major": 2,
       "version_minor": 0
      },
      "text/plain": [
       "Domains:   0%|          | 0/1 [00:00<?, ?it/s]"
      ]
     },
     "metadata": {},
     "output_type": "display_data"
    },
    {
     "data": {
      "application/vnd.jupyter.widget-view+json": {
       "model_id": "978fc11ca6b84ca0a3458100ed616f18",
       "version_major": 2,
       "version_minor": 0
      },
      "text/plain": [
       "Observations:   0%|          | 0/3 [00:00<?, ?it/s]"
      ]
     },
     "metadata": {},
     "output_type": "display_data"
    },
    {
     "name": "stdout",
     "output_type": "stream",
     "text": [
      "     Observation DA_Cycle Forecast_Hour            Date_Time Threshold  \\\n",
      "0         CMORPH        1             6  2021-08-26 06:00:00         1   \n",
      "1         CMORPH        1             6  2021-08-26 06:00:00         1   \n",
      "2         CMORPH        1             6  2021-08-26 06:00:00         5   \n",
      "3         CMORPH        1             6  2021-08-26 06:00:00         5   \n",
      "4         CMORPH        1             6  2021-08-26 06:00:00        10   \n",
      "...          ...      ...           ...                  ...       ...   \n",
      "2587       GSMaP       11            90  2021-08-29 18:00:00         5   \n",
      "2588       GSMaP       11            90  2021-08-29 18:00:00        10   \n",
      "2589       GSMaP       11            90  2021-08-29 18:00:00        10   \n",
      "2590       GSMaP       11            90  2021-08-29 18:00:00        15   \n",
      "2591       GSMaP       11            90  2021-08-29 18:00:00        15   \n",
      "\n",
      "     Region_Type       ETS  \n",
      "0             tc  0.123079  \n",
      "1         domain  0.260758  \n",
      "2             tc   0.09067  \n",
      "3         domain  0.201173  \n",
      "4             tc  0.077631  \n",
      "...          ...       ...  \n",
      "2587      domain  0.077277  \n",
      "2588          tc    0.1861  \n",
      "2589      domain  0.041292  \n",
      "2590          tc  0.221309  \n",
      "2591      domain  0.025771  \n",
      "\n",
      "[2592 rows x 7 columns]\n"
     ]
    },
    {
     "data": {
      "application/vnd.jupyter.widget-view+json": {
       "model_id": "d33efa9bdbf94efaa7c055a710495b1a",
       "version_major": 2,
       "version_minor": 0
      },
      "text/plain": [
       "Domains:   0%|          | 0/1 [00:00<?, ?it/s]"
      ]
     },
     "metadata": {},
     "output_type": "display_data"
    },
    {
     "data": {
      "application/vnd.jupyter.widget-view+json": {
       "model_id": "c381608ef9264f2ea4d64ef647fe9103",
       "version_major": 2,
       "version_minor": 0
      },
      "text/plain": [
       "Observations:   0%|          | 0/3 [00:00<?, ?it/s]"
      ]
     },
     "metadata": {},
     "output_type": "display_data"
    },
    {
     "name": "stdout",
     "output_type": "stream",
     "text": [
      "     Observation DA_Cycle Forecast_Hour            Date_Time Threshold  \\\n",
      "0         CMORPH        1             6  2021-08-26 06:00:00         1   \n",
      "1         CMORPH        1             6  2021-08-26 06:00:00         1   \n",
      "2         CMORPH        1             6  2021-08-26 06:00:00         5   \n",
      "3         CMORPH        1             6  2021-08-26 06:00:00         5   \n",
      "4         CMORPH        1             6  2021-08-26 06:00:00        10   \n",
      "...          ...      ...           ...                  ...       ...   \n",
      "2587       GSMaP       11            90  2021-08-29 18:00:00         5   \n",
      "2588       GSMaP       11            90  2021-08-29 18:00:00        10   \n",
      "2589       GSMaP       11            90  2021-08-29 18:00:00        10   \n",
      "2590       GSMaP       11            90  2021-08-29 18:00:00        15   \n",
      "2591       GSMaP       11            90  2021-08-29 18:00:00        15   \n",
      "\n",
      "     Region_Type       ETS  \n",
      "0             tc  0.121867  \n",
      "1         domain  0.261351  \n",
      "2             tc  0.092522  \n",
      "3         domain  0.201173  \n",
      "4             tc  0.080369  \n",
      "...          ...       ...  \n",
      "2587      domain  0.077124  \n",
      "2588          tc  0.194643  \n",
      "2589      domain  0.042669  \n",
      "2590          tc  0.203059  \n",
      "2591      domain  0.026051  \n",
      "\n",
      "[2592 rows x 7 columns]\n"
     ]
    },
    {
     "data": {
      "application/vnd.jupyter.widget-view+json": {
       "model_id": "f30eb8050e9e4184916743cbac4cd496",
       "version_major": 2,
       "version_minor": 0
      },
      "text/plain": [
       "Domains:   0%|          | 0/1 [00:00<?, ?it/s]"
      ]
     },
     "metadata": {},
     "output_type": "display_data"
    },
    {
     "data": {
      "application/vnd.jupyter.widget-view+json": {
       "model_id": "5f2d00cd699f4291a62bb85ac7491d65",
       "version_major": 2,
       "version_minor": 0
      },
      "text/plain": [
       "Observations:   0%|          | 0/3 [00:00<?, ?it/s]"
      ]
     },
     "metadata": {},
     "output_type": "display_data"
    },
    {
     "name": "stdout",
     "output_type": "stream",
     "text": [
      "     Observation DA_Cycle Forecast_Hour            Date_Time Threshold  \\\n",
      "0         CMORPH        1             6  2021-08-26 06:00:00         1   \n",
      "1         CMORPH        1             6  2021-08-26 06:00:00         1   \n",
      "2         CMORPH        1             6  2021-08-26 06:00:00         5   \n",
      "3         CMORPH        1             6  2021-08-26 06:00:00         5   \n",
      "4         CMORPH        1             6  2021-08-26 06:00:00        10   \n",
      "...          ...      ...           ...                  ...       ...   \n",
      "2587       GSMaP       11            90  2021-08-29 18:00:00         5   \n",
      "2588       GSMaP       11            90  2021-08-29 18:00:00        10   \n",
      "2589       GSMaP       11            90  2021-08-29 18:00:00        10   \n",
      "2590       GSMaP       11            90  2021-08-29 18:00:00        15   \n",
      "2591       GSMaP       11            90  2021-08-29 18:00:00        15   \n",
      "\n",
      "     Region_Type       ETS  \n",
      "0             tc  0.122529  \n",
      "1         domain  0.260564  \n",
      "2             tc  0.089929  \n",
      "3         domain  0.201532  \n",
      "4             tc  0.081192  \n",
      "...          ...       ...  \n",
      "2587      domain   0.07646  \n",
      "2588          tc   0.19067  \n",
      "2589      domain  0.046002  \n",
      "2590          tc  0.203645  \n",
      "2591      domain  0.028771  \n",
      "\n",
      "[2592 rows x 7 columns]\n"
     ]
    },
    {
     "data": {
      "application/vnd.jupyter.widget-view+json": {
       "model_id": "f319cffdb78146efb8ab380b4c966c02",
       "version_major": 2,
       "version_minor": 0
      },
      "text/plain": [
       "Domains:   0%|          | 0/1 [00:00<?, ?it/s]"
      ]
     },
     "metadata": {},
     "output_type": "display_data"
    },
    {
     "data": {
      "application/vnd.jupyter.widget-view+json": {
       "model_id": "cc53619ce087477587ce8acd9cbaf2e8",
       "version_major": 2,
       "version_minor": 0
      },
      "text/plain": [
       "Observations:   0%|          | 0/3 [00:00<?, ?it/s]"
      ]
     },
     "metadata": {},
     "output_type": "display_data"
    },
    {
     "name": "stdout",
     "output_type": "stream",
     "text": [
      "     Observation DA_Cycle Forecast_Hour            Date_Time Threshold  \\\n",
      "0         CMORPH        1             6  2021-08-26 06:00:00         1   \n",
      "1         CMORPH        1             6  2021-08-26 06:00:00         1   \n",
      "2         CMORPH        1             6  2021-08-26 06:00:00         5   \n",
      "3         CMORPH        1             6  2021-08-26 06:00:00         5   \n",
      "4         CMORPH        1             6  2021-08-26 06:00:00        10   \n",
      "...          ...      ...           ...                  ...       ...   \n",
      "2587       GSMaP       11            90  2021-08-29 18:00:00         5   \n",
      "2588       GSMaP       11            90  2021-08-29 18:00:00        10   \n",
      "2589       GSMaP       11            90  2021-08-29 18:00:00        10   \n",
      "2590       GSMaP       11            90  2021-08-29 18:00:00        15   \n",
      "2591       GSMaP       11            90  2021-08-29 18:00:00        15   \n",
      "\n",
      "     Region_Type       ETS  \n",
      "0             tc  0.126578  \n",
      "1         domain  0.261207  \n",
      "2             tc  0.089565  \n",
      "3         domain  0.201361  \n",
      "4             tc  0.077145  \n",
      "...          ...       ...  \n",
      "2587      domain  0.072812  \n",
      "2588          tc  0.153854  \n",
      "2589      domain  0.035327  \n",
      "2590          tc  0.180942  \n",
      "2591      domain  0.020905  \n",
      "\n",
      "[2592 rows x 7 columns]\n"
     ]
    },
    {
     "data": {
      "application/vnd.jupyter.widget-view+json": {
       "model_id": "aa5dd0993e3044ff81f95a1b1b206dc2",
       "version_major": 2,
       "version_minor": 0
      },
      "text/plain": [
       "Domains:   0%|          | 0/1 [00:00<?, ?it/s]"
      ]
     },
     "metadata": {},
     "output_type": "display_data"
    },
    {
     "data": {
      "application/vnd.jupyter.widget-view+json": {
       "model_id": "c2afbeb542ce4267812002acab4512eb",
       "version_major": 2,
       "version_minor": 0
      },
      "text/plain": [
       "Observations:   0%|          | 0/3 [00:00<?, ?it/s]"
      ]
     },
     "metadata": {},
     "output_type": "display_data"
    },
    {
     "name": "stdout",
     "output_type": "stream",
     "text": [
      "     Observation DA_Cycle Forecast_Hour            Date_Time Threshold  \\\n",
      "0         CMORPH        1             6  2021-08-26 06:00:00         1   \n",
      "1         CMORPH        1             6  2021-08-26 06:00:00         1   \n",
      "2         CMORPH        1             6  2021-08-26 06:00:00         5   \n",
      "3         CMORPH        1             6  2021-08-26 06:00:00         5   \n",
      "4         CMORPH        1             6  2021-08-26 06:00:00        10   \n",
      "...          ...      ...           ...                  ...       ...   \n",
      "2587       GSMaP       11            90  2021-08-29 18:00:00         5   \n",
      "2588       GSMaP       11            90  2021-08-29 18:00:00        10   \n",
      "2589       GSMaP       11            90  2021-08-29 18:00:00        10   \n",
      "2590       GSMaP       11            90  2021-08-29 18:00:00        15   \n",
      "2591       GSMaP       11            90  2021-08-29 18:00:00        15   \n",
      "\n",
      "     Region_Type       ETS  \n",
      "0             tc  0.122926  \n",
      "1         domain  0.260858  \n",
      "2             tc  0.092039  \n",
      "3         domain  0.200901  \n",
      "4             tc  0.080704  \n",
      "...          ...       ...  \n",
      "2587      domain  0.077615  \n",
      "2588          tc  0.186299  \n",
      "2589      domain  0.043897  \n",
      "2590          tc  0.193646  \n",
      "2591      domain  0.027404  \n",
      "\n",
      "[2592 rows x 7 columns]\n"
     ]
    },
    {
     "data": {
      "application/vnd.jupyter.widget-view+json": {
       "model_id": "18e5258951b141e38332fbc8cfe4120c",
       "version_major": 2,
       "version_minor": 0
      },
      "text/plain": [
       "Domains:   0%|          | 0/1 [00:00<?, ?it/s]"
      ]
     },
     "metadata": {},
     "output_type": "display_data"
    },
    {
     "data": {
      "application/vnd.jupyter.widget-view+json": {
       "model_id": "7d21491ab4aa4387bf9b259b20e5920b",
       "version_major": 2,
       "version_minor": 0
      },
      "text/plain": [
       "Observations:   0%|          | 0/3 [00:00<?, ?it/s]"
      ]
     },
     "metadata": {},
     "output_type": "display_data"
    },
    {
     "name": "stdout",
     "output_type": "stream",
     "text": [
      "     Observation DA_Cycle Forecast_Hour            Date_Time Threshold  \\\n",
      "0         CMORPH        1             6  2021-08-26 06:00:00         1   \n",
      "1         CMORPH        1             6  2021-08-26 06:00:00         1   \n",
      "2         CMORPH        1             6  2021-08-26 06:00:00         5   \n",
      "3         CMORPH        1             6  2021-08-26 06:00:00         5   \n",
      "4         CMORPH        1             6  2021-08-26 06:00:00        10   \n",
      "...          ...      ...           ...                  ...       ...   \n",
      "2587       GSMaP       11            90  2021-08-29 18:00:00         5   \n",
      "2588       GSMaP       11            90  2021-08-29 18:00:00        10   \n",
      "2589       GSMaP       11            90  2021-08-29 18:00:00        10   \n",
      "2590       GSMaP       11            90  2021-08-29 18:00:00        15   \n",
      "2591       GSMaP       11            90  2021-08-29 18:00:00        15   \n",
      "\n",
      "     Region_Type       ETS  \n",
      "0             tc  0.121559  \n",
      "1         domain  0.260651  \n",
      "2             tc  0.091676  \n",
      "3         domain  0.200143  \n",
      "4             tc  0.081618  \n",
      "...          ...       ...  \n",
      "2587      domain  0.074057  \n",
      "2588          tc  0.196477  \n",
      "2589      domain  0.046101  \n",
      "2590          tc  0.215332  \n",
      "2591      domain   0.02667  \n",
      "\n",
      "[2592 rows x 7 columns]\n"
     ]
    }
   ],
   "source": [
    "from precipitation_scores import ETS_6h\n",
    "\n",
    "n_exp_names = 8\n",
    "data_library_names = ['goes']*n_exp_names\n",
    "dir_cases = ['/GOES-R-observation-error-covariance/02_Ida']*n_exp_names\n",
    "case_names = ['Ida']*n_exp_names\n",
    "exp_names = ['NPB', 'NPB_ASRBC4CLD_CLD_08', 'NPB_ASRBC4CLD_CLD_09', 'NPB_ASRBC4CLD_CLD_10', 'NPB_ASRBC4CLD_CLD_ALL', \\\n",
    "             'NPB_ASRBC4CLD_08', 'NPB_ASRBC4CLD_09', 'NPB_ASRBC4CLD_10']\n",
    "\n",
    "ETS_6h(data_library_names=data_library_names,\n",
    "       dir_cases=dir_cases,\n",
    "       case_names=case_names,\n",
    "       exp_names=exp_names)"
   ]
  },
  {
   "cell_type": "code",
   "execution_count": null,
   "metadata": {},
   "outputs": [],
   "source": []
  }
 ],
 "metadata": {
  "kernelspec": {
   "display_name": "Python 3 (ipykernel)",
   "language": "python",
   "name": "python3"
  },
  "language_info": {
   "codemirror_mode": {
    "name": "ipython",
    "version": 3
   },
   "file_extension": ".py",
   "mimetype": "text/x-python",
   "name": "python",
   "nbconvert_exporter": "python",
   "pygments_lexer": "ipython3",
   "version": "3.9.18"
  }
 },
 "nbformat": 4,
 "nbformat_minor": 5
}
