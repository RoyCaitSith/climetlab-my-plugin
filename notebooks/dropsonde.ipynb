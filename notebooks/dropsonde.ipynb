{
 "cells": [
  {
   "cell_type": "markdown",
   "metadata": {},
   "source": [
    "# Transform Dropsonde files to csv"
   ]
  },
  {
   "cell_type": "code",
   "execution_count": null,
   "metadata": {},
   "outputs": [],
   "source": [
    "# from dropsonde import dropsonde_to_csv\n",
    "\n",
    "# dropsonde_to_csv(data_library_name='cpex',\n",
    "#                  dir_case='/CPEX/05_CV_RF07_AEW06',\n",
    "#                  case_name='AEW06')"
   ]
  },
  {
   "attachments": {},
   "cell_type": "markdown",
   "id": "0a98ed75-a6bf-48d4-9f7d-4feb289d7271",
   "metadata": {},
   "source": [
    "# Create bufr temp files for Dropsonde data"
   ]
  },
  {
   "cell_type": "code",
   "execution_count": null,
   "id": "3928d53f",
   "metadata": {},
   "outputs": [],
   "source": [
    "# from dropsonde import create_dropsonde_bufr_temp\n",
    "\n",
    "# create_dropsonde_bufr_temp(data_library_name='cpex',\n",
    "#                          dir_case='/CPEX/05_CV_RF07_AEW06',\n",
    "#                          case_name='AEW06')"
   ]
  },
  {
   "cell_type": "markdown",
   "id": "5dd1b671",
   "metadata": {},
   "source": [
    "# Create bufr for Dropsonde"
   ]
  },
  {
   "cell_type": "code",
   "execution_count": 4,
   "id": "30b136eb",
   "metadata": {},
   "outputs": [
    {
     "data": {
      "application/vnd.jupyter.widget-view+json": {
       "model_id": "27ff4bd5b21840bebe0c9a7336d6ab49",
       "version_major": 2,
       "version_minor": 0
      },
      "text/plain": [
       "Cycles: 0/4 files | 00:00<?"
      ]
     },
     "metadata": {},
     "output_type": "display_data"
    },
    {
     "name": "stdout",
     "output_type": "stream",
     "text": [
      "Check bufr_temp: \n",
      "22\n",
      "True\n",
      "4088\n",
      "4088\n",
      "Check bufr_temp: \n",
      "22\n",
      "True\n",
      "294424\n",
      "294424\n",
      "Check bufr_temp: \n",
      "22\n",
      "True\n",
      "736376\n",
      "736376\n",
      "Check bufr_temp: \n",
      "22\n",
      "True\n",
      "4088\n",
      "4088\n"
     ]
    }
   ],
   "source": [
    "from dropsonde import create_dropsonde_bufr\n",
    "\n",
    "create_dropsonde_bufr(data_library_name='cpex',\n",
    "                      dir_case='/CPEX/05_CV_RF07_AEW06',\n",
    "                      case_name='AEW06')"
   ]
  },
  {
   "cell_type": "code",
   "execution_count": null,
   "id": "5c7914cf",
   "metadata": {},
   "outputs": [],
   "source": []
  }
 ],
 "metadata": {
  "kernelspec": {
   "display_name": "Python 3 (ipykernel)",
   "language": "python",
   "name": "python3"
  },
  "language_info": {
   "codemirror_mode": {
    "name": "ipython",
    "version": 3
   },
   "file_extension": ".py",
   "mimetype": "text/x-python",
   "name": "python",
   "nbconvert_exporter": "python",
   "pygments_lexer": "ipython3",
   "version": "3.9.18"
  }
 },
 "nbformat": 4,
 "nbformat_minor": 5
}
