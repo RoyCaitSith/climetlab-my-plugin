{
 "cells": [
  {
   "cell_type": "markdown",
   "metadata": {},
   "source": [
    "# Transform Dropsonde files to csv"
   ]
  },
  {
   "cell_type": "code",
   "execution_count": null,
   "metadata": {},
   "outputs": [],
   "source": [
    "# from dropsonde import dropsonde_to_csv\n",
    "\n",
    "# dropsonde_to_csv(data_library_name='cpex',\n",
    "#                  dir_case='/CPEX/05_CV_RF07_AEW06',\n",
    "#                  case_name='AEW06')"
   ]
  },
  {
   "attachments": {},
   "cell_type": "markdown",
   "id": "0a98ed75-a6bf-48d4-9f7d-4feb289d7271",
   "metadata": {},
   "source": [
    "# Create bufr temp files for Different TROPICS version"
   ]
  },
  {
   "cell_type": "code",
   "execution_count": null,
   "id": "3928d53f",
   "metadata": {},
   "outputs": [],
   "source": [
    "# from tropics import create_TROPICS_bufr_temp\n",
    "\n",
    "# create_TROPICS_bufr_temp(data_library_name='tropics',\n",
    "#                          dir_case='/05_TROPICS/11_cycling_da_tropics',\n",
    "#                          case_name='Ida',\n",
    "#                          version='V2_CS_OLD')"
   ]
  },
  {
   "cell_type": "markdown",
   "id": "5dd1b671",
   "metadata": {},
   "source": [
    "# Create bufr for TROPICS"
   ]
  },
  {
   "cell_type": "code",
   "execution_count": null,
   "id": "30b136eb",
   "metadata": {},
   "outputs": [],
   "source": [
    "# from tropics import create_TROPICS_bufr\n",
    "\n",
    "# create_TROPICS_bufr(data_library_name='tropics',\n",
    "#                     dir_case='/05_TROPICS/11_cycling_da_tropics',\n",
    "#                     case_name='Ida',\n",
    "#                     version='V2_CS_OLD')"
   ]
  },
  {
   "cell_type": "code",
   "execution_count": null,
   "id": "5c7914cf",
   "metadata": {},
   "outputs": [],
   "source": []
  }
 ],
 "metadata": {
  "kernelspec": {
   "display_name": "Python 3 (ipykernel)",
   "language": "python",
   "name": "python3"
  },
  "language_info": {
   "codemirror_mode": {
    "name": "ipython",
    "version": 3
   },
   "file_extension": ".py",
   "mimetype": "text/x-python",
   "name": "python",
   "nbconvert_exporter": "python",
   "pygments_lexer": "ipython3",
   "version": "3.9.18"
  }
 },
 "nbformat": 4,
 "nbformat_minor": 5
}
