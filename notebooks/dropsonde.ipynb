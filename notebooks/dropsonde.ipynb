{
 "cells": [
  {
   "cell_type": "markdown",
   "metadata": {},
   "source": [
    "# Transform Dropsonde files to csv"
   ]
  },
  {
   "cell_type": "code",
   "execution_count": null,
   "metadata": {},
   "outputs": [],
   "source": [
    "# from dropsonde import dropsonde_to_csv\n",
    "\n",
    "# dropsonde_to_csv(data_library_name='cpex',\n",
    "#                  dir_case='/CPEX/05_CV_RF07_AEW06',\n",
    "#                  case_name='AEW06')"
   ]
  },
  {
   "attachments": {},
   "cell_type": "markdown",
   "id": "0a98ed75-a6bf-48d4-9f7d-4feb289d7271",
   "metadata": {},
   "source": [
    "# Create bufr temp files for Different TROPICS version"
   ]
  },
  {
   "cell_type": "code",
   "execution_count": 1,
   "id": "3928d53f",
   "metadata": {},
   "outputs": [
    {
     "data": {
      "application/vnd.jupyter.widget-view+json": {
       "model_id": "9187f8f4e48f41f8b3cee5401f413582",
       "version_major": 2,
       "version_minor": 0
      },
      "text/plain": [
       "Cycles: 0/4 files | 00:00<?"
      ]
     },
     "metadata": {},
     "output_type": "display_data"
    },
    {
     "name": "stdout",
     "output_type": "stream",
     "text": [
      "2022-09-16 03:00:00\n",
      "2022-09-16 09:00:00\n",
      "/uufs/chpc.utah.edu/common/home/zpu-group30/cfeng/CPEX/05_CV_RF07_AEW06/data/Dropsonde/Dropsonde_DC8_20220916134044.csv\n",
      "\n",
      "[datetime.datetime(2022, 9, 16, 13, 40, 55)\n",
      " datetime.datetime(2022, 9, 16, 13, 40, 56)\n",
      " datetime.datetime(2022, 9, 16, 13, 41) ...\n",
      " datetime.datetime(2022, 9, 16, 13, 54, 32)\n",
      " datetime.datetime(2022, 9, 16, 13, 54, 33)\n",
      " datetime.datetime(2022, 9, 16, 13, 54, 33)]\n",
      "[2022 2022 2022 ... 2022 2022 2022]\n",
      "[9 9 9 ... 9 9 9]\n",
      "[16 16 16 ... 16 16 16]\n",
      "[13 13 13 ... 13 13 13]\n",
      "[40 40 41 ... 54 54 54]\n",
      "[55. 56.  0. ... 32. 33. 33.]\n",
      "[0 0 0 ... 0 0 0]\n",
      "[14.752971 14.7531   14.753412 ... 14.748139 14.748117 14.748097]\n",
      "[-26.429543 -26.429325 -26.428961 ... -26.511383 -26.511408 -26.511435]\n",
      "[ 24523.  24624.  24897. ... 100912. 100970. 101031.]\n",
      "[1.08906771e+05 1.08633165e+05 1.07896686e+05 ... 1.82403690e+02\n",
      " 1.32389775e+02 8.04145300e+01]\n",
      "[232.16 232.3  232.73 ... 300.31 300.36 300.4 ]\n",
      "[7.48998617e-05 6.63280713e-05 6.62557284e-05 ... 1.76457388e-02\n",
      " 1.75923926e-02 1.75601550e-02]\n",
      "[18.92 16.71 16.16 ... 78.31 77.91 77.58]\n",
      "[ 32.19 235.74  89.35 ...  48.45  53.14  59.  ]\n"
     ]
    },
    {
     "ename": "NameError",
     "evalue": "name 'miao' is not defined",
     "output_type": "error",
     "traceback": [
      "\u001b[0;31m---------------------------------------------------------------------------\u001b[0m",
      "\u001b[0;31mNameError\u001b[0m                                 Traceback (most recent call last)",
      "\u001b[1;32m/uufs/chpc.utah.edu/common/home/u1237353/climetlab-my-plugin/notebooks/dropsonde.ipynb Cell 4\u001b[0m line \u001b[0;36m3\n\u001b[1;32m      <a href='vscode-notebook-cell://ssh-remote%2Bkingspeak28.chpc.utah.edu/uufs/chpc.utah.edu/common/home/u1237353/climetlab-my-plugin/notebooks/dropsonde.ipynb#W3sdnNjb2RlLXJlbW90ZQ%3D%3D?line=0'>1</a>\u001b[0m \u001b[39mfrom\u001b[39;00m \u001b[39mdropsonde\u001b[39;00m \u001b[39mimport\u001b[39;00m create_dropsonde_bufr_temp\n\u001b[0;32m----> <a href='vscode-notebook-cell://ssh-remote%2Bkingspeak28.chpc.utah.edu/uufs/chpc.utah.edu/common/home/u1237353/climetlab-my-plugin/notebooks/dropsonde.ipynb#W3sdnNjb2RlLXJlbW90ZQ%3D%3D?line=2'>3</a>\u001b[0m create_dropsonde_bufr_temp(data_library_name\u001b[39m=\u001b[39;49m\u001b[39m'\u001b[39;49m\u001b[39mcpex\u001b[39;49m\u001b[39m'\u001b[39;49m,\n\u001b[1;32m      <a href='vscode-notebook-cell://ssh-remote%2Bkingspeak28.chpc.utah.edu/uufs/chpc.utah.edu/common/home/u1237353/climetlab-my-plugin/notebooks/dropsonde.ipynb#W3sdnNjb2RlLXJlbW90ZQ%3D%3D?line=3'>4</a>\u001b[0m                          dir_case\u001b[39m=\u001b[39;49m\u001b[39m'\u001b[39;49m\u001b[39m/CPEX/05_CV_RF07_AEW06\u001b[39;49m\u001b[39m'\u001b[39;49m,\n\u001b[1;32m      <a href='vscode-notebook-cell://ssh-remote%2Bkingspeak28.chpc.utah.edu/uufs/chpc.utah.edu/common/home/u1237353/climetlab-my-plugin/notebooks/dropsonde.ipynb#W3sdnNjb2RlLXJlbW90ZQ%3D%3D?line=4'>5</a>\u001b[0m                          case_name\u001b[39m=\u001b[39;49m\u001b[39m'\u001b[39;49m\u001b[39mAEW06\u001b[39;49m\u001b[39m'\u001b[39;49m)\n",
      "File \u001b[0;32m~/climetlab-my-plugin/functions/dropsonde.py:204\u001b[0m, in \u001b[0;36mcreate_dropsonde_bufr_temp\u001b[0;34m(data_library_name, dir_case, case_name)\u001b[0m\n\u001b[1;32m    202\u001b[0m \u001b[39mprint\u001b[39m(dropsonde_relative_humidity)\n\u001b[1;32m    203\u001b[0m \u001b[39mprint\u001b[39m(dropsonde_wind_direction)\n\u001b[0;32m--> 204\u001b[0m \u001b[39mprint\u001b[39m(miao)\n\u001b[1;32m    206\u001b[0m n_data \u001b[39m=\u001b[39m \u001b[39msum\u001b[39m(index\u001b[39m==\u001b[39m\u001b[39mTrue\u001b[39;00m)\n\u001b[1;32m    207\u001b[0m \u001b[39mif\u001b[39;00m n_data \u001b[39m>\u001b[39m \u001b[39m0\u001b[39m:\n",
      "\u001b[0;31mNameError\u001b[0m: name 'miao' is not defined"
     ]
    }
   ],
   "source": [
    "from dropsonde import create_dropsonde_bufr_temp\n",
    "\n",
    "create_dropsonde_bufr_temp(data_library_name='cpex',\n",
    "                         dir_case='/CPEX/05_CV_RF07_AEW06',\n",
    "                         case_name='AEW06')"
   ]
  },
  {
   "cell_type": "markdown",
   "id": "5dd1b671",
   "metadata": {},
   "source": [
    "# Create bufr for TROPICS"
   ]
  },
  {
   "cell_type": "code",
   "execution_count": null,
   "id": "30b136eb",
   "metadata": {},
   "outputs": [],
   "source": [
    "# from tropics import create_TROPICS_bufr\n",
    "\n",
    "# create_TROPICS_bufr(data_library_name='tropics',\n",
    "#                     dir_case='/05_TROPICS/11_cycling_da_tropics',\n",
    "#                     case_name='Ida',\n",
    "#                     version='V2_CS_OLD')"
   ]
  },
  {
   "cell_type": "code",
   "execution_count": null,
   "id": "5c7914cf",
   "metadata": {},
   "outputs": [],
   "source": []
  }
 ],
 "metadata": {
  "kernelspec": {
   "display_name": "Python 3 (ipykernel)",
   "language": "python",
   "name": "python3"
  },
  "language_info": {
   "codemirror_mode": {
    "name": "ipython",
    "version": 3
   },
   "file_extension": ".py",
   "mimetype": "text/x-python",
   "name": "python",
   "nbconvert_exporter": "python",
   "pygments_lexer": "ipython3",
   "version": "3.9.18"
  }
 },
 "nbformat": 4,
 "nbformat_minor": 5
}
