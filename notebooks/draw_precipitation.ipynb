{
 "cells": [
  {
   "cell_type": "markdown",
   "id": "bc3f79e9-639f-49e4-9a58-4af3c47a525a",
   "metadata": {},
   "source": [
    "# Calculate 6h Accumulated Precipitation"
   ]
  },
  {
   "cell_type": "code",
   "execution_count": null,
   "id": "150e3456-c4fd-4809-831e-859071d6ae60",
   "metadata": {},
   "outputs": [],
   "source": [
    "from precipitation import calculate_6h_accumulated_precipitation\n",
    "\n",
    "exp_names = ['CON_CYG_ENS', 'CON_CYG_TROPICS_Q_T_ENS', 'CON_CYG_TROPICS_Q_T_V1_CLR_ENS', 'CON_ENS', \\\n",
    "             'CONTROL', 'CON_TROPICS_Q_ENS', 'CON_TROPICS_Q_T_ENS', 'CON_TROPICS_Q_T_V1_CLR_ENS', \\\n",
    "             'CON_TROPICS_Q_V1_CLR_ENS', 'CON_TROPICS_T_CLR_ENS', 'CON_TROPICS_T_ENS', 'CON_TROPICS_T_V1_CLR_ENS', \\\n",
    "             'CYG', 'CYG_ENS', 'CYG_TROPICS_Q_T', 'CYG_TROPICS_Q_T_ENS', 'CYG_TROPICS_Q_T_V1_CLR_ENS', \\\n",
    "             'TROPICS_Q', 'TROPICS_Q_ENS', 'TROPICS_Q_T', 'TROPICS_Q_T_ENS', 'TROPICS_Q_T_V1_CLR_ENS', \\\n",
    "             'TROPICS_Q_V1_CLR_ENS', 'TROPICS_T', 'TROPICS_T_CLR_ENS', 'TROPICS_T_ENS', 'TROPICS_T_V1_CLR_ENS']\n",
    "n_exp_names = len(exp_names)\n",
    "dir_cases = ['/05_TROPICS/05_cycling_da']*n_exp_names\n",
    "case_names = ['Ida']*n_exp_names\n",
    "\n",
    "calculate_6h_accumulated_precipitation(dir_cases=dir_cases, case_names=case_names, exp_names=exp_names)"
   ]
  },
  {
   "cell_type": "code",
   "execution_count": null,
   "id": "3a156bf7-66e0-48a5-abd4-75f807b5b00f",
   "metadata": {},
   "outputs": [],
   "source": [
    "from precipitation import calculate_6h_accumulated_precipitation\n",
    "\n",
    "exp_names = ['CON_CYG_TROPICS_Q_T_ENS', 'CON_CYG_TROPICS_Q_T_V3_CLR_ENS', 'CON_TROPICS_Q_ENS', 'CON_TROPICS_Q_T_ENS', \\\n",
    "             'CON_TROPICS_Q_T_V3_CLR_ENS', 'CON_TROPICS_Q_V3_CLR_ENS', 'CON_TROPICS_T_CLR_ENS', 'CON_TROPICS_T_ENS', \\\n",
    "             'CON_TROPICS_T_OCEAN_ENS', 'CON_TROPICS_T_V3_CLR_ENS', 'CYG_TROPICS_Q_T_ENS', \\\n",
    "             'CYG_TROPICS_Q_T_V3_CLR_ENS', 'TROPICS_Q_ENS', 'TROPICS_Q_T_ENS', 'TROPICS_Q_T_V3_CLR_ENS', \\\n",
    "             'TROPICS_Q_V3_CLR_ENS', 'TROPICS_T_CLR_ENS', 'TROPICS_T_ENS', 'TROPICS_T_V3_CLR_ENS']\n",
    "n_exp_names = len(exp_names)\n",
    "dir_cases = ['/05_TROPICS/10_cycling_da_tropics_v3']*n_exp_names\n",
    "case_names = ['Ida']*n_exp_names\n",
    "\n",
    "calculate_6h_accumulated_precipitation(dir_cases=dir_cases, case_names=case_names, exp_names=exp_names)"
   ]
  },
  {
   "cell_type": "markdown",
   "id": "413abeb3-8f88-48b6-9f15-48fc752112c7",
   "metadata": {},
   "source": [
    "# Compare Precipitation Based on Schemes"
   ]
  },
  {
   "cell_type": "code",
   "execution_count": null,
   "id": "f4610c69-888c-4819-a753-ae3998f73439",
   "metadata": {},
   "outputs": [],
   "source": [
    "from precipitation import draw_6h_accumulated_precipitation\n",
    "\n",
    "draw_6h_accumulated_precipitation('TROPICS_Ida_scheme_23')"
   ]
  },
  {
   "cell_type": "code",
   "execution_count": null,
   "id": "ccc889c9-1da8-4786-ab54-cb478077c26b",
   "metadata": {},
   "outputs": [],
   "source": []
  }
 ],
 "metadata": {
  "kernelspec": {
   "display_name": "Python 3 (ipykernel)",
   "language": "python",
   "name": "python3"
  },
  "language_info": {
   "codemirror_mode": {
    "name": "ipython",
    "version": 3
   },
   "file_extension": ".py",
   "mimetype": "text/x-python",
   "name": "python",
   "nbconvert_exporter": "python",
   "pygments_lexer": "ipython3",
   "version": "3.10.9"
  }
 },
 "nbformat": 4,
 "nbformat_minor": 5
}
