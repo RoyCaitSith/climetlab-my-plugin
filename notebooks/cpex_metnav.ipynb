{
 "cells": [
  {
   "attachments": {},
   "cell_type": "markdown",
   "id": "f62fe7bd-c59a-44c9-8251-828a65ed3702",
   "metadata": {},
   "source": [
    "# Hurricane Ian (2022)"
   ]
  },
  {
   "cell_type": "code",
   "execution_count": null,
   "id": "31c558a6-cac0-43d8-b3b2-63211be55183",
   "metadata": {},
   "outputs": [],
   "source": [
    "# Download ibtracs\n",
    "#wget https://www.ncei.noaa.gov/data/international-best-track-archive-for-climate-stewardship-ibtracs/v04r00/access/csv/ibtracs.ALL.list.v04r00.csv\n",
    "#wget https://www.ncei.noaa.gov/data/international-best-track-archive-for-climate-stewardship-ibtracs/v04r00/access/csv/ibtracs.NA.list.v04r00.csv"
   ]
  },
  {
   "cell_type": "code",
   "execution_count": null,
   "id": "59c7c199-a402-4de0-8dc1-7d93840faf80",
   "metadata": {},
   "outputs": [],
   "source": [
    "# from data_library_cpex import attributes\n",
    "# import climetlab as cml\n",
    "# import pandas as pd\n",
    "\n",
    "# (dir_case, case_name) = ('/08_CPEX/01_CV_RF07_AEW06_IAN', 'Ian')\n",
    "# pd.set_option('display.max_rows', None)  # Show all rows\n",
    "# pd.set_option('display.max_columns', None)  # Show all columns\n",
    "\n",
    "# case_attributes = attributes[(dir_case, case_name)]\n",
    "# ibtracs = cml.load_source('file', case_attributes['ibtracs'])\n",
    "# pd = ibtracs.to_pandas()\n",
    "# pd = pd[(pd.NAME == case_attributes['ibtracs_case']) & (pd.SEASON == case_attributes['ibtracs_season'])]\n",
    "# cml.plot_map(pd, style=\"cyclone-track\")\n",
    "# pd"
   ]
  },
  {
   "attachments": {},
   "cell_type": "markdown",
   "id": "08d6e3b0-9566-49a2-90d7-4e981724c3f4",
   "metadata": {},
   "source": [
    "# Quick Check of MetNav"
   ]
  },
  {
   "cell_type": "code",
   "execution_count": null,
   "id": "f9800ea4-0094-486c-a0d1-1136cf59fc20",
   "metadata": {},
   "outputs": [],
   "source": [
    "# from cpex_metnav import metnav_to_csv\n",
    "\n",
    "# metnav_to_csv(data_library_name='cpex',\n",
    "#               dir_case='/CPEX/06_CV_Hermine',\n",
    "#               case_name='Hermine')"
   ]
  },
  {
   "cell_type": "code",
   "execution_count": null,
   "id": "7fc35df8-df3d-41a4-984f-7f634dcd8cc2",
   "metadata": {},
   "outputs": [],
   "source": [
    "# from cpex_metnav import draw_metnav_dc8\n",
    "\n",
    "# draw_metnav_dc8(data_library_name='cpex',\n",
    "#                 dir_case='/CPEX/06_CV_Hermine',\n",
    "#                 case_name='Hermine',\n",
    "#                 wrf_domain=False)"
   ]
  },
  {
   "cell_type": "code",
   "execution_count": null,
   "id": "c0f7b3e5-5196-4055-a65e-a2aea3306401",
   "metadata": {},
   "outputs": [],
   "source": [
    "from cpex_metnav import draw_metnav_dc8\n",
    "\n",
    "draw_metnav_dc8(data_library_name='cpex',\n",
    "                dir_case='/08_CPEX/01_CV_RF07_AEW06_IAN',\n",
    "                case_name='Ian',\n",
    "                wrf_domain=True)"
   ]
  },
  {
   "cell_type": "code",
   "execution_count": null,
   "id": "ff0cbceb",
   "metadata": {},
   "outputs": [],
   "source": []
  }
 ],
 "metadata": {
  "kernelspec": {
   "display_name": "Python 3 (ipykernel)",
   "language": "python",
   "name": "python3"
  },
  "language_info": {
   "codemirror_mode": {
    "name": "ipython",
    "version": 3
   },
   "file_extension": ".py",
   "mimetype": "text/x-python",
   "name": "python",
   "nbconvert_exporter": "python",
   "pygments_lexer": "ipython3",
   "version": "3.9.18"
  }
 },
 "nbformat": 4,
 "nbformat_minor": 5
}
