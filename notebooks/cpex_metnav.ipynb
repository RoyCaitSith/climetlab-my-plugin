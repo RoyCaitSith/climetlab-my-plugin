{
 "cells": [
  {
   "attachments": {},
   "cell_type": "markdown",
   "id": "f62fe7bd-c59a-44c9-8251-828a65ed3702",
   "metadata": {},
   "source": [
    "# Hurricane Ian (2022)"
   ]
  },
  {
   "cell_type": "code",
   "execution_count": null,
   "id": "31c558a6-cac0-43d8-b3b2-63211be55183",
   "metadata": {},
   "outputs": [],
   "source": [
    "# Download ibtracs\n",
    "#wget https://www.ncei.noaa.gov/data/international-best-track-archive-for-climate-stewardship-ibtracs/v04r00/access/csv/ibtracs.ALL.list.v04r00.csv\n",
    "#wget https://www.ncei.noaa.gov/data/international-best-track-archive-for-climate-stewardship-ibtracs/v04r00/access/csv/ibtracs.NA.list.v04r00.csv"
   ]
  },
  {
   "cell_type": "code",
   "execution_count": null,
   "id": "59c7c199-a402-4de0-8dc1-7d93840faf80",
   "metadata": {},
   "outputs": [],
   "source": [
    "# from data_library_cpex import attributes\n",
    "# import climetlab as cml\n",
    "# import pandas as pd\n",
    "\n",
    "# (dir_case, case_name) = ('/08_CPEX/01_CV_RF07_AEW06_IAN', 'Ian')\n",
    "# pd.set_option('display.max_rows', None)  # Show all rows\n",
    "# pd.set_option('display.max_columns', None)  # Show all columns\n",
    "\n",
    "# case_attributes = attributes[(dir_case, case_name)]\n",
    "# ibtracs = cml.load_source('file', case_attributes['ibtracs'])\n",
    "# pd = ibtracs.to_pandas()\n",
    "# pd = pd[(pd.NAME == case_attributes['ibtracs_case']) & (pd.SEASON == case_attributes['ibtracs_season'])]\n",
    "# cml.plot_map(pd, style=\"cyclone-track\")\n",
    "# pd"
   ]
  },
  {
   "attachments": {},
   "cell_type": "markdown",
   "id": "08d6e3b0-9566-49a2-90d7-4e981724c3f4",
   "metadata": {},
   "source": [
    "# Quick Check of MetNav"
   ]
  },
  {
   "cell_type": "code",
   "execution_count": null,
   "id": "f9800ea4-0094-486c-a0d1-1136cf59fc20",
   "metadata": {},
   "outputs": [],
   "source": [
    "# from cpex_metnav import metnav_to_csv\n",
    "\n",
    "# metnav_to_csv(data_library_name='cpex',\n",
    "#               dir_case='/CPEX/06_CV_Hermine',\n",
    "#               case_name='Hermine')"
   ]
  },
  {
   "cell_type": "code",
   "execution_count": 3,
   "id": "7fc35df8-df3d-41a4-984f-7f634dcd8cc2",
   "metadata": {},
   "outputs": [
    {
     "ename": "KeyError",
     "evalue": "'dir_ScientificColourMaps7'",
     "output_type": "error",
     "traceback": [
      "\u001b[0;31m---------------------------------------------------------------------------\u001b[0m",
      "\u001b[0;31mKeyError\u001b[0m                                  Traceback (most recent call last)",
      "\u001b[1;32m/uufs/chpc.utah.edu/common/home/u1237353/climetlab-my-plugin/notebooks/cpex_metnav.ipynb Cell 6\u001b[0m line \u001b[0;36m3\n\u001b[1;32m      <a href='vscode-notebook-cell://ssh-remote%2Bkingspeak28.chpc.utah.edu/uufs/chpc.utah.edu/common/home/u1237353/climetlab-my-plugin/notebooks/cpex_metnav.ipynb#W5sdnNjb2RlLXJlbW90ZQ%3D%3D?line=0'>1</a>\u001b[0m \u001b[39mfrom\u001b[39;00m \u001b[39mcpex_metnav\u001b[39;00m \u001b[39mimport\u001b[39;00m draw_metnav_dc8\n\u001b[0;32m----> <a href='vscode-notebook-cell://ssh-remote%2Bkingspeak28.chpc.utah.edu/uufs/chpc.utah.edu/common/home/u1237353/climetlab-my-plugin/notebooks/cpex_metnav.ipynb#W5sdnNjb2RlLXJlbW90ZQ%3D%3D?line=2'>3</a>\u001b[0m draw_metnav_dc8(data_library_name\u001b[39m=\u001b[39;49m\u001b[39m'\u001b[39;49m\u001b[39mcpex\u001b[39;49m\u001b[39m'\u001b[39;49m,\n\u001b[1;32m      <a href='vscode-notebook-cell://ssh-remote%2Bkingspeak28.chpc.utah.edu/uufs/chpc.utah.edu/common/home/u1237353/climetlab-my-plugin/notebooks/cpex_metnav.ipynb#W5sdnNjb2RlLXJlbW90ZQ%3D%3D?line=3'>4</a>\u001b[0m                 dir_case\u001b[39m=\u001b[39;49m\u001b[39m'\u001b[39;49m\u001b[39m/CPEX/06_CV_Hermine\u001b[39;49m\u001b[39m'\u001b[39;49m,\n\u001b[1;32m      <a href='vscode-notebook-cell://ssh-remote%2Bkingspeak28.chpc.utah.edu/uufs/chpc.utah.edu/common/home/u1237353/climetlab-my-plugin/notebooks/cpex_metnav.ipynb#W5sdnNjb2RlLXJlbW90ZQ%3D%3D?line=4'>5</a>\u001b[0m                 case_name\u001b[39m=\u001b[39;49m\u001b[39m'\u001b[39;49m\u001b[39mHermine\u001b[39;49m\u001b[39m'\u001b[39;49m,\n\u001b[1;32m      <a href='vscode-notebook-cell://ssh-remote%2Bkingspeak28.chpc.utah.edu/uufs/chpc.utah.edu/common/home/u1237353/climetlab-my-plugin/notebooks/cpex_metnav.ipynb#W5sdnNjb2RlLXJlbW90ZQ%3D%3D?line=5'>6</a>\u001b[0m                 wrf_domain\u001b[39m=\u001b[39;49m\u001b[39mFalse\u001b[39;49;00m)\n",
      "File \u001b[0;32m~/climetlab-my-plugin/functions/cpex_metnav.py:77\u001b[0m, in \u001b[0;36mdraw_metnav_dc8\u001b[0;34m(data_library_name, dir_case, case_name, wrf_domain, wrf_domain_exp_name)\u001b[0m\n\u001b[1;32m     75\u001b[0m initial_time \u001b[39m=\u001b[39m datetime(\u001b[39m*\u001b[39mitime)\n\u001b[1;32m     76\u001b[0m dir_exp \u001b[39m=\u001b[39m attributes[(dir_case, case_name)][\u001b[39m'\u001b[39m\u001b[39mdir_exp\u001b[39m\u001b[39m'\u001b[39m]\n\u001b[0;32m---> 77\u001b[0m dir_ScientificColourMaps7 \u001b[39m=\u001b[39m attributes[(dir_case, case_name)][\u001b[39m'\u001b[39;49m\u001b[39mdir_ScientificColourMaps7\u001b[39;49m\u001b[39m'\u001b[39;49m]\n\u001b[1;32m     78\u001b[0m total_da_cycles \u001b[39m=\u001b[39m attributes[(dir_case, case_name)][\u001b[39m'\u001b[39m\u001b[39mtotal_da_cycles\u001b[39m\u001b[39m'\u001b[39m]\n\u001b[1;32m     80\u001b[0m dir_data \u001b[39m=\u001b[39m os\u001b[39m.\u001b[39mpath\u001b[39m.\u001b[39mjoin(dir_exp, \u001b[39m'\u001b[39m\u001b[39mdata\u001b[39m\u001b[39m'\u001b[39m)\n",
      "\u001b[0;31mKeyError\u001b[0m: 'dir_ScientificColourMaps7'"
     ]
    }
   ],
   "source": [
    "from cpex_metnav import draw_metnav_dc8\n",
    "\n",
    "draw_metnav_dc8(data_library_name='cpex',\n",
    "                dir_case='/CPEX/06_CV_Hermine',\n",
    "                case_name='Hermine',\n",
    "                wrf_domain=False)"
   ]
  },
  {
   "cell_type": "code",
   "execution_count": null,
   "id": "c0f7b3e5-5196-4055-a65e-a2aea3306401",
   "metadata": {},
   "outputs": [],
   "source": [
    "from cpex_metnav import draw_metnav_dc8\n",
    "\n",
    "draw_metnav_dc8(data_library_name='cpex',\n",
    "                dir_case='/08_CPEX/01_CV_RF07_AEW06_IAN',\n",
    "                case_name='Ian',\n",
    "                wrf_domain=True)"
   ]
  },
  {
   "cell_type": "code",
   "execution_count": null,
   "id": "ff0cbceb",
   "metadata": {},
   "outputs": [],
   "source": []
  }
 ],
 "metadata": {
  "kernelspec": {
   "display_name": "Python 3 (ipykernel)",
   "language": "python",
   "name": "python3"
  },
  "language_info": {
   "codemirror_mode": {
    "name": "ipython",
    "version": 3
   },
   "file_extension": ".py",
   "mimetype": "text/x-python",
   "name": "python",
   "nbconvert_exporter": "python",
   "pygments_lexer": "ipython3",
   "version": "3.9.18"
  }
 },
 "nbformat": 4,
 "nbformat_minor": 5
}
