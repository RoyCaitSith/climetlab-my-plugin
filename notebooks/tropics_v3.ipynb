{
 "cells": [
  {
   "cell_type": "markdown",
   "id": "ec849784",
   "metadata": {},
   "source": [
    "# Parameters"
   ]
  },
  {
   "cell_type": "code",
   "execution_count": 1,
   "id": "e4c6ae0c",
   "metadata": {},
   "outputs": [],
   "source": [
    "from datetime import datetime\n",
    "\n",
    "dir_data = '/uufs/chpc.utah.edu/common/home/zpu-group31/cfeng2/TROPICS/13_HAFS/data'\n",
    "case = '2024_AL02_Beryl'\n",
    "version = 'AS'\n",
    "anl_start_time = datetime(2024, 6, 26,  6, 0, 0)\n",
    "anl_end_time = datetime(2024, 7, 10,  0, 0, 0)\n",
    "cycling_interval = 6"
   ]
  },
  {
   "attachments": {},
   "cell_type": "markdown",
   "id": "0a98ed75-a6bf-48d4-9f7d-4feb289d7271",
   "metadata": {},
   "source": [
    "# Create BUFR Temp"
   ]
  },
  {
   "cell_type": "code",
   "execution_count": null,
   "id": "3928d53f",
   "metadata": {},
   "outputs": [
    {
     "data": {
      "application/vnd.jupyter.widget-view+json": {
       "model_id": "3c1bbc0f48c14a68a644c4fd59b33371",
       "version_major": 2,
       "version_minor": 0
      },
      "text/plain": [
       "Cycles: 0/56 files | 00:00<?"
      ]
     },
     "metadata": {},
     "output_type": "display_data"
    },
    {
     "name": "stdout",
     "output_type": "stream",
     "text": [
      "2024-06-26 03:00:00\n",
      "2024-06-26 09:00:00\n",
      "/uufs/chpc.utah.edu/common/home/zpu-group31/cfeng2/TROPICS/13_HAFS/data/TROPICS/2024_AL02_Beryl/TROPICS_V3/TROPICS03.NNAVP.L2B.Orbit00000.V00-03.ST20240626-083642.ET20240626-092712.CT20240820-204933.nc\n",
      "n_bands=1\n",
      "n_channels=12\n",
      "n_vertical_levels=91\n",
      "n_scans=1505\n",
      "n_spots=81\n",
      "8293831\n",
      "\n",
      "\n",
      "2024-06-26 09:00:00\n",
      "2024-06-26 15:00:00\n",
      "/uufs/chpc.utah.edu/common/home/zpu-group31/cfeng2/TROPICS/13_HAFS/data/TROPICS/2024_AL02_Beryl/TROPICS_V3/TROPICS03.NNAVP.L2B.Orbit00000.V00-03.ST20240626-083642.ET20240626-092712.CT20240820-204933.nc\n",
      "n_bands=1\n",
      "n_channels=12\n",
      "n_vertical_levels=91\n",
      "n_scans=1505\n",
      "n_spots=81\n",
      "8293831\n",
      "\n",
      "\n",
      "2024-06-26 15:00:00\n",
      "2024-06-26 21:00:00\n",
      "\n",
      "\n",
      "2024-06-26 21:00:00\n",
      "2024-06-27 03:00:00\n",
      "\n",
      "\n",
      "2024-06-27 03:00:00\n",
      "2024-06-27 09:00:00\n",
      "/uufs/chpc.utah.edu/common/home/zpu-group31/cfeng2/TROPICS/13_HAFS/data/TROPICS/2024_AL02_Beryl/TROPICS_V3/TROPICS03.NNAVP.L2B.Orbit00000.V00-03.ST20240627-072712.ET20240627-084613.CT20240820-204933.nc\n",
      "n_bands=1\n",
      "n_channels=12\n",
      "n_vertical_levels=91\n",
      "n_scans=2149\n",
      "n_spots=81\n",
      "11369449\n",
      "\n",
      "\n",
      "2024-06-27 09:00:00\n",
      "2024-06-27 15:00:00\n",
      "\n",
      "\n",
      "2024-06-27 15:00:00\n",
      "2024-06-27 21:00:00\n",
      "\n",
      "\n",
      "2024-06-27 21:00:00\n",
      "2024-06-28 03:00:00\n",
      "/uufs/chpc.utah.edu/common/home/zpu-group31/cfeng2/TROPICS/13_HAFS/data/TROPICS/2024_AL02_Beryl/TROPICS_V3/TROPICS03.NNAVP.L2B.Orbit00000.V00-03.ST20240627-210415.ET20240627-221114.CT20240820-204937.nc\n",
      "n_bands=1\n",
      "n_channels=12\n",
      "n_vertical_levels=91\n",
      "n_scans=2009\n",
      "n_spots=81\n",
      "13846924\n",
      "\n",
      "\n",
      "2024-06-28 03:00:00\n",
      "2024-06-28 09:00:00\n",
      "/uufs/chpc.utah.edu/common/home/zpu-group31/cfeng2/TROPICS/13_HAFS/data/TROPICS/2024_AL02_Beryl/TROPICS_V3/TROPICS03.NNAVP.L2B.Orbit00000.V00-03.ST20240628-070815.ET20240628-082714.CT20240820-204929.nc\n",
      "n_bands=1\n",
      "n_channels=12\n",
      "n_vertical_levels=91\n",
      "n_scans=2136\n",
      "n_spots=81\n",
      "14157052\n",
      "\n",
      "\n",
      "2024-06-28 09:00:00\n",
      "2024-06-28 15:00:00\n",
      "\n",
      "\n",
      "2024-06-28 15:00:00\n",
      "2024-06-28 21:00:00\n",
      "/uufs/chpc.utah.edu/common/home/zpu-group31/cfeng2/TROPICS/13_HAFS/data/TROPICS/2024_AL02_Beryl/TROPICS_V3/TROPICS03.NNAVP.L2B.Orbit00000.V00-03.ST20240628-204534.ET20240628-215214.CT20240820-204934.nc\n",
      "n_bands=1\n",
      "n_channels=12\n",
      "n_vertical_levels=91\n",
      "n_scans=2000\n",
      "n_spots=81\n",
      "13716703\n",
      "\n",
      "\n",
      "2024-06-28 21:00:00\n",
      "2024-06-29 03:00:00\n",
      "/uufs/chpc.utah.edu/common/home/zpu-group31/cfeng2/TROPICS/13_HAFS/data/TROPICS/2024_AL02_Beryl/TROPICS_V3/TROPICS03.NNAVP.L2B.Orbit00000.V00-03.ST20240628-204534.ET20240628-215214.CT20240820-204934.nc\n",
      "n_bands=1\n",
      "n_channels=12\n",
      "n_vertical_levels=91\n",
      "n_scans=2000\n",
      "n_spots=81\n",
      "13716703\n",
      "\n",
      "\n",
      "2024-06-29 03:00:00\n",
      "2024-06-29 09:00:00\n",
      "\n",
      "\n",
      "2024-06-29 09:00:00\n",
      "2024-06-29 15:00:00\n",
      "\n",
      "\n",
      "2024-06-29 15:00:00\n",
      "2024-06-29 21:00:00\n",
      "\n",
      "\n",
      "2024-06-29 21:00:00\n",
      "2024-06-30 03:00:00\n",
      "\n",
      "\n",
      "2024-06-30 03:00:00\n",
      "2024-06-30 09:00:00\n",
      "/uufs/chpc.utah.edu/common/home/zpu-group31/cfeng2/TROPICS/13_HAFS/data/TROPICS/2024_AL02_Beryl/TROPICS_V3/TROPICS03.NNAVP.L2B.Orbit00000.V00-03.ST20240630-063836.ET20240630-074915.CT20240820-204936.nc\n",
      "n_bands=1\n",
      "n_channels=12\n",
      "n_vertical_levels=91\n",
      "n_scans=2118\n",
      "n_spots=81\n",
      "14752738\n",
      "\n",
      "\n",
      "2024-06-30 09:00:00\n",
      "2024-06-30 15:00:00\n",
      "\n",
      "\n",
      "2024-06-30 15:00:00\n",
      "2024-06-30 21:00:00\n",
      "/uufs/chpc.utah.edu/common/home/zpu-group31/cfeng2/TROPICS/13_HAFS/data/TROPICS/2024_AL02_Beryl/TROPICS_V3/TROPICS03.NNAVP.L2B.Orbit00000.V00-03.ST20240630-200815.ET20240630-211314.CT20240820-204936.nc\n",
      "n_bands=1\n",
      "n_channels=12\n",
      "n_vertical_levels=91\n",
      "n_scans=1951\n",
      "n_spots=81\n"
     ]
    }
   ],
   "source": [
    "from tropics_v3 import create_tropics_bufr_temp\n",
    "\n",
    "create_tropics_bufr_temp(dir_data=dir_data,\n",
    "                         case=case,\n",
    "                         anl_start_time=anl_start_time,\n",
    "                         anl_end_time=anl_end_time,\n",
    "                         cycling_interval=cycling_interval,\n",
    "                         version=version)"
   ]
  },
  {
   "cell_type": "markdown",
   "id": "791ac6b6",
   "metadata": {},
   "source": [
    "# Create BUFR File"
   ]
  },
  {
   "cell_type": "code",
   "execution_count": null,
   "id": "9841c0b3",
   "metadata": {},
   "outputs": [],
   "source": [
    "from tropics_v3 import create_tropics_bufr_file\n",
    "\n",
    "create_tropics_bufr_file(dir_data=dir_data,\n",
    "                         case=case,\n",
    "                         anl_start_time=anl_start_time,\n",
    "                         anl_end_time=anl_end_time,\n",
    "                         cycling_interval=cycling_interval,\n",
    "                         version=version)"
   ]
  },
  {
   "cell_type": "code",
   "execution_count": null,
   "id": "983b6c17",
   "metadata": {},
   "outputs": [],
   "source": []
  }
 ],
 "metadata": {
  "kernelspec": {
   "display_name": "base",
   "language": "python",
   "name": "python3"
  },
  "language_info": {
   "codemirror_mode": {
    "name": "ipython",
    "version": 3
   },
   "file_extension": ".py",
   "mimetype": "text/x-python",
   "name": "python",
   "nbconvert_exporter": "python",
   "pygments_lexer": "ipython3",
   "version": "3.9.18"
  }
 },
 "nbformat": 4,
 "nbformat_minor": 5
}
