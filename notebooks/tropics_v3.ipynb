{
 "cells": [
  {
   "cell_type": "markdown",
   "id": "ec849784",
   "metadata": {},
   "source": [
    "# Parameters"
   ]
  },
  {
   "cell_type": "code",
   "execution_count": null,
   "id": "e4c6ae0c",
   "metadata": {},
   "outputs": [],
   "source": [
    "from datetime import datetime\n",
    "\n",
    "dir_data = '/uufs/chpc.utah.edu/common/home/zpu-group31/cfeng2/TROPICS/13_HAFS/data'\n",
    "case = '2024_AL02_Beryl'\n",
    "version = 'AS'\n",
    "anl_start_time = datetime(2024, 6, 26,  6, 0, 0)\n",
    "anl_end_time = datetime(2024, 7, 10,  0, 0, 0)\n",
    "cycling_interval = 6"
   ]
  },
  {
   "attachments": {},
   "cell_type": "markdown",
   "id": "0a98ed75-a6bf-48d4-9f7d-4feb289d7271",
   "metadata": {},
   "source": [
    "# Create BUFR Temp"
   ]
  },
  {
   "cell_type": "code",
   "execution_count": null,
   "id": "3928d53f",
   "metadata": {},
   "outputs": [],
   "source": [
    "from tropics_v3 import create_tropics_bufr_temp\n",
    "\n",
    "create_tropics_bufr_temp(dir_data=dir_data,\n",
    "                         case=case,\n",
    "                         anl_start_time=anl_start_time,\n",
    "                         anl_end_time=anl_end_time,\n",
    "                         cycling_interval=cycling_interval,\n",
    "                         version=version)"
   ]
  },
  {
   "cell_type": "markdown",
   "id": "791ac6b6",
   "metadata": {},
   "source": [
    "# Create BUFR File"
   ]
  },
  {
   "cell_type": "code",
   "execution_count": null,
   "id": "9841c0b3",
   "metadata": {},
   "outputs": [],
   "source": [
    "from tropics_v3 import create_tropics_bufr_file\n",
    "\n",
    "create_tropics_bufr_file(dir_data=dir_data,\n",
    "                         case=case,\n",
    "                         anl_start_time=anl_start_time,\n",
    "                         anl_end_time=anl_end_time,\n",
    "                         cycling_interval=cycling_interval,\n",
    "                         version=version)"
   ]
  },
  {
   "cell_type": "code",
   "execution_count": null,
   "id": "983b6c17",
   "metadata": {},
   "outputs": [],
   "source": []
  }
 ],
 "metadata": {
  "kernelspec": {
   "display_name": "base",
   "language": "python",
   "name": "python3"
  },
  "language_info": {
   "codemirror_mode": {
    "name": "ipython",
    "version": 3
   },
   "file_extension": ".py",
   "mimetype": "text/x-python",
   "name": "python",
   "nbconvert_exporter": "python",
   "pygments_lexer": "ipython3",
   "version": "3.9.18"
  }
 },
 "nbformat": 4,
 "nbformat_minor": 5
}
