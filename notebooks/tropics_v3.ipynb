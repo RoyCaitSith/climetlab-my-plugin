{
 "cells": [
  {
   "attachments": {},
   "cell_type": "markdown",
   "id": "0a98ed75-a6bf-48d4-9f7d-4feb289d7271",
   "metadata": {},
   "source": [
    "# Create BUFR Temp Files"
   ]
  },
  {
   "cell_type": "code",
   "execution_count": null,
   "id": "3928d53f",
   "metadata": {},
   "outputs": [
    {
     "data": {
      "application/vnd.jupyter.widget-view+json": {
       "model_id": "ee9b4ee336bf4c1fa881ba498b35bcfa",
       "version_major": 2,
       "version_minor": 0
      },
      "text/plain": [
       "Cycles: 0/1 files | 00:00<?"
      ]
     },
     "metadata": {},
     "output_type": "display_data"
    },
    {
     "name": "stdout",
     "output_type": "stream",
     "text": [
      "2024-06-26 06:00:00\n",
      "/uufs/chpc.utah.edu/common/home/zpu-group31/cfeng2/TROPICS/13_HAFS/data/TROPICS/2024_AL02_Beryl/TROPICS_V3/TROPICS03.NNAVP.L2B.Orbit00000.V00-03.ST20240626-083642.ET20240626-092712.CT20240820-204933.nc\n",
      "n_bands=1\n",
      "n_channels=12\n",
      "n_vertical_levels=91\n",
      "n_scans=1505\n",
      "n_spots=81\n",
      "8293831\n",
      "134.52944479997518\n",
      "-0.0010713058437335577\n",
      "1.0000200271606445\n",
      "264.0810546875\n",
      "6.6846819208876695e-06\n",
      "-0.0010713058437335577\n"
     ]
    },
    {
     "ename": "NameError",
     "evalue": "name 'miao' is not defined",
     "output_type": "error",
     "traceback": [
      "\u001b[0;31m---------------------------------------------------------------------------\u001b[0m",
      "\u001b[0;31mNameError\u001b[0m                                 Traceback (most recent call last)",
      "Cell \u001b[0;32mIn[1], line 4\u001b[0m\n\u001b[1;32m      1\u001b[0m \u001b[38;5;28;01mfrom\u001b[39;00m \u001b[38;5;21;01mdatetime\u001b[39;00m \u001b[38;5;28;01mimport\u001b[39;00m datetime\n\u001b[1;32m      2\u001b[0m \u001b[38;5;28;01mfrom\u001b[39;00m \u001b[38;5;21;01mtropics_v3\u001b[39;00m \u001b[38;5;28;01mimport\u001b[39;00m create_tropics_bufr_temp\n\u001b[0;32m----> 4\u001b[0m \u001b[43mcreate_tropics_bufr_temp\u001b[49m\u001b[43m(\u001b[49m\u001b[43mdir_data\u001b[49m\u001b[38;5;241;43m=\u001b[39;49m\u001b[38;5;124;43m'\u001b[39;49m\u001b[38;5;124;43m/uufs/chpc.utah.edu/common/home/zpu-group31/cfeng2/TROPICS/13_HAFS/data\u001b[39;49m\u001b[38;5;124;43m'\u001b[39;49m\u001b[43m,\u001b[49m\n\u001b[1;32m      5\u001b[0m \u001b[43m                         \u001b[49m\u001b[43mcase\u001b[49m\u001b[38;5;241;43m=\u001b[39;49m\u001b[38;5;124;43m'\u001b[39;49m\u001b[38;5;124;43m2024_AL02_Beryl\u001b[39;49m\u001b[38;5;124;43m'\u001b[39;49m\u001b[43m,\u001b[49m\n\u001b[1;32m      6\u001b[0m \u001b[43m                         \u001b[49m\u001b[43manl_start_time\u001b[49m\u001b[38;5;241;43m=\u001b[39;49m\u001b[43mdatetime\u001b[49m\u001b[43m(\u001b[49m\u001b[38;5;241;43m2024\u001b[39;49m\u001b[43m,\u001b[49m\u001b[43m \u001b[49m\u001b[38;5;241;43m6\u001b[39;49m\u001b[43m,\u001b[49m\u001b[43m \u001b[49m\u001b[38;5;241;43m26\u001b[39;49m\u001b[43m,\u001b[49m\u001b[43m  \u001b[49m\u001b[38;5;241;43m6\u001b[39;49m\u001b[43m,\u001b[49m\u001b[43m \u001b[49m\u001b[38;5;241;43m0\u001b[39;49m\u001b[43m,\u001b[49m\u001b[43m \u001b[49m\u001b[38;5;241;43m0\u001b[39;49m\u001b[43m)\u001b[49m\u001b[43m,\u001b[49m\n\u001b[1;32m      7\u001b[0m \u001b[43m                         \u001b[49m\u001b[43manl_end_time\u001b[49m\u001b[38;5;241;43m=\u001b[39;49m\u001b[43mdatetime\u001b[49m\u001b[43m(\u001b[49m\u001b[38;5;241;43m2024\u001b[39;49m\u001b[43m,\u001b[49m\u001b[43m \u001b[49m\u001b[38;5;241;43m6\u001b[39;49m\u001b[43m,\u001b[49m\u001b[43m \u001b[49m\u001b[38;5;241;43m26\u001b[39;49m\u001b[43m,\u001b[49m\u001b[43m  \u001b[49m\u001b[38;5;241;43m6\u001b[39;49m\u001b[43m,\u001b[49m\u001b[43m \u001b[49m\u001b[38;5;241;43m0\u001b[39;49m\u001b[43m,\u001b[49m\u001b[43m \u001b[49m\u001b[38;5;241;43m0\u001b[39;49m\u001b[43m)\u001b[49m\u001b[43m,\u001b[49m\n\u001b[1;32m      8\u001b[0m \u001b[43m                         \u001b[49m\u001b[43mcycling_interval\u001b[49m\u001b[38;5;241;43m=\u001b[39;49m\u001b[38;5;241;43m6\u001b[39;49m\u001b[43m,\u001b[49m\n\u001b[1;32m      9\u001b[0m \u001b[43m                         \u001b[49m\u001b[43mversion\u001b[49m\u001b[38;5;241;43m=\u001b[39;49m\u001b[38;5;124;43m'\u001b[39;49m\u001b[38;5;124;43mAS\u001b[39;49m\u001b[38;5;124;43m'\u001b[39;49m\u001b[43m)\u001b[49m\n",
      "File \u001b[0;32m~/climetlab-my-plugin/functions/tropics_v3.py:203\u001b[0m, in \u001b[0;36mcreate_tropics_bufr_temp\u001b[0;34m(dir_data, case, anl_start_time, anl_end_time, cycling_interval, version)\u001b[0m\n\u001b[1;32m    201\u001b[0m     \u001b[38;5;28mprint\u001b[39m(sh)\n\u001b[1;32m    202\u001b[0m     \u001b[38;5;28mprint\u001b[39m(relative_humidity_from_specific_humidity(pressure\u001b[38;5;241m*\u001b[39munits\u001b[38;5;241m.\u001b[39mPa, t\u001b[38;5;241m*\u001b[39munits\u001b[38;5;241m.\u001b[39mkelvin, sh)\u001b[38;5;241m.\u001b[39mto(\u001b[38;5;124m'\u001b[39m\u001b[38;5;124mpercent\u001b[39m\u001b[38;5;124m'\u001b[39m)\u001b[38;5;241m.\u001b[39mmagnitude)\n\u001b[0;32m--> 203\u001b[0m     \u001b[38;5;28mprint\u001b[39m(\u001b[43mmiao\u001b[49m)\n\u001b[1;32m    205\u001b[0m \u001b[38;5;66;03m# TROPICS_REHU = relative_humidity_from_specific_humidity(TROPICS_PRLC[100]*units.hPa, TROPICS_TMDB[100]*units.K, TROPICS_SPFH[100]).to('percent').magnitude\u001b[39;00m\n\u001b[1;32m    206\u001b[0m \u001b[38;5;66;03m# print(TROPICS_REHU)\u001b[39;00m\n\u001b[1;32m    207\u001b[0m \u001b[38;5;66;03m# print(np.nammax(TROPICS_REHU))\u001b[39;00m\n\u001b[0;32m   (...)\u001b[0m\n\u001b[1;32m    210\u001b[0m \u001b[38;5;66;03m# TROPICS_REHU = np.array(TROPICS_REHU)\u001b[39;00m\n\u001b[1;32m    211\u001b[0m \u001b[38;5;66;03m# REHU += TROPICS_REHU[index].tolist()\u001b[39;00m\n\u001b[1;32m    213\u001b[0m \u001b[38;5;28;01mwith\u001b[39;00m \u001b[38;5;28mopen\u001b[39m(os\u001b[38;5;241m.\u001b[39mpath\u001b[38;5;241m.\u001b[39mjoin(dir_bufr_temp_HH,  \u001b[38;5;124m'\u001b[39m\u001b[38;5;124m1.txt\u001b[39m\u001b[38;5;124m'\u001b[39m), \u001b[38;5;124m'\u001b[39m\u001b[38;5;124mab\u001b[39m\u001b[38;5;124m'\u001b[39m) \u001b[38;5;28;01mas\u001b[39;00m f:\n",
      "\u001b[0;31mNameError\u001b[0m: name 'miao' is not defined"
     ]
    }
   ],
   "source": [
    "from datetime import datetime\n",
    "from tropics_v3 import create_tropics_bufr_temp\n",
    "\n",
    "create_tropics_bufr_temp(dir_data='/uufs/chpc.utah.edu/common/home/zpu-group31/cfeng2/TROPICS/13_HAFS/data',\n",
    "                         case='2024_AL02_Beryl',\n",
    "                         anl_start_time=datetime(2024, 6, 26,  6, 0, 0),\n",
    "                         anl_end_time=datetime(2024, 7, 10,  0, 0, 0),\n",
    "                         cycling_interval=6,\n",
    "                         version='AS')"
   ]
  },
  {
   "cell_type": "code",
   "execution_count": null,
   "id": "9841c0b3",
   "metadata": {},
   "outputs": [],
   "source": []
  }
 ],
 "metadata": {
  "kernelspec": {
   "display_name": "base",
   "language": "python",
   "name": "python3"
  },
  "language_info": {
   "codemirror_mode": {
    "name": "ipython",
    "version": 3
   },
   "file_extension": ".py",
   "mimetype": "text/x-python",
   "name": "python",
   "nbconvert_exporter": "python",
   "pygments_lexer": "ipython3",
   "version": "3.9.18"
  }
 },
 "nbformat": 4,
 "nbformat_minor": 5
}
