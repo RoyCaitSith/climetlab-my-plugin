{
 "cells": [
  {
   "cell_type": "markdown",
   "id": "ec849784",
   "metadata": {},
   "source": [
    "# Parameters"
   ]
  },
  {
   "cell_type": "code",
   "execution_count": 1,
   "id": "e4c6ae0c",
   "metadata": {},
   "outputs": [],
   "source": [
    "from datetime import datetime\n",
    "\n",
    "dir_data = '/uufs/chpc.utah.edu/common/home/zpu-group31/cfeng2/TROPICS/13_HAFS/data'\n",
    "case = '2024_AL04_Debby'\n",
    "version = 'AS'\n",
    "anl_start_time = datetime(2024, 7, 31, 12, 0, 0)\n",
    "anl_end_time = datetime(2024, 8,  9, 12, 0, 0)\n",
    "cycling_interval = 6"
   ]
  },
  {
   "attachments": {},
   "cell_type": "markdown",
   "id": "0a98ed75-a6bf-48d4-9f7d-4feb289d7271",
   "metadata": {},
   "source": [
    "# Create BUFR Temp"
   ]
  },
  {
   "cell_type": "code",
   "execution_count": null,
   "id": "3928d53f",
   "metadata": {},
   "outputs": [
    {
     "data": {
      "application/vnd.jupyter.widget-view+json": {
       "model_id": "72504b08c092404c89a65c28212bf579",
       "version_major": 2,
       "version_minor": 0
      },
      "text/plain": [
       "Cycles: 0/37 files | 00:00<?"
      ]
     },
     "metadata": {},
     "output_type": "display_data"
    },
    {
     "name": "stdout",
     "output_type": "stream",
     "text": [
      "2024-07-31 09:00:00\n",
      "2024-07-31 15:00:00\n",
      "/uufs/chpc.utah.edu/common/home/zpu-group31/cfeng2/TROPICS/13_HAFS/data/TROPICS/2024_AL04_Debby/TROPICS_V3/TROPICS03.NNAVP.L2B.Orbit00000.V00-03.ST20240731-143316.ET20240731-161315.CT20240820-205040.nc\n",
      "n_bands=1\n",
      "n_channels=12\n",
      "n_vertical_levels=91\n",
      "n_scans=2753\n",
      "n_spots=81\n",
      "18066958\n",
      "\n",
      "\n",
      "2024-07-31 15:00:00\n",
      "2024-07-31 21:00:00\n",
      "/uufs/chpc.utah.edu/common/home/zpu-group31/cfeng2/TROPICS/13_HAFS/data/TROPICS/2024_AL04_Debby/TROPICS_V3/TROPICS03.NNAVP.L2B.Orbit00000.V00-03.ST20240731-143316.ET20240731-161315.CT20240820-205040.nc\n",
      "n_bands=1\n",
      "n_channels=12\n",
      "n_vertical_levels=91\n",
      "n_scans=2753\n",
      "n_spots=81\n",
      "18066958\n",
      "\n",
      "\n",
      "2024-07-31 21:00:00\n",
      "2024-08-01 03:00:00\n",
      "\n",
      "\n",
      "2024-08-01 03:00:00\n",
      "2024-08-01 09:00:00\n",
      "/uufs/chpc.utah.edu/common/home/zpu-group31/cfeng2/TROPICS/13_HAFS/data/TROPICS/2024_AL04_Debby/TROPICS_V3/TROPICS03.NNAVP.L2B.Orbit00000.V00-03.ST20240801-062615.ET20240801-071614.CT20240820-205033.nc\n",
      "n_bands=1\n",
      "n_channels=12\n",
      "n_vertical_levels=91\n",
      "n_scans=1501\n",
      "n_spots=81\n",
      "10269532\n",
      "/uufs/chpc.utah.edu/common/home/zpu-group31/cfeng2/TROPICS/13_HAFS/data/TROPICS/2024_AL04_Debby/TROPICS_V3/TROPICS03.NNAVP.L2B.Orbit00000.V00-03.ST20240801-080615.ET20240801-085614.CT20240820-205040.nc\n",
      "n_bands=1\n",
      "n_channels=12\n",
      "n_vertical_levels=91\n",
      "n_scans=1501\n",
      "n_spots=81\n",
      "10108098\n",
      "\n",
      "\n",
      "2024-08-01 09:00:00\n",
      "2024-08-01 15:00:00\n",
      "\n",
      "\n",
      "2024-08-01 15:00:00\n",
      "2024-08-01 21:00:00\n",
      "\n",
      "\n",
      "2024-08-01 21:00:00\n",
      "2024-08-02 03:00:00\n",
      "\n",
      "\n",
      "2024-08-02 03:00:00\n",
      "2024-08-02 09:00:00\n",
      "\n",
      "\n",
      "2024-08-02 09:00:00\n",
      "2024-08-02 15:00:00\n",
      "/uufs/chpc.utah.edu/common/home/zpu-group31/cfeng2/TROPICS/13_HAFS/data/TROPICS/2024_AL04_Debby/TROPICS_V3/TROPICS03.NNAVP.L2B.Orbit00000.V00-03.ST20240802-144140.ET20240802-153208.CT20240820-205039.nc\n",
      "n_bands=1\n",
      "n_channels=12\n",
      "n_vertical_levels=91\n",
      "n_scans=1515\n",
      "n_spots=81\n",
      "10272080\n"
     ]
    }
   ],
   "source": [
    "from tropics_v3 import create_tropics_bufr_temp\n",
    "\n",
    "create_tropics_bufr_temp(dir_data=dir_data,\n",
    "                         case=case,\n",
    "                         anl_start_time=anl_start_time,\n",
    "                         anl_end_time=anl_end_time,\n",
    "                         cycling_interval=cycling_interval,\n",
    "                         version=version)"
   ]
  },
  {
   "cell_type": "markdown",
   "id": "791ac6b6",
   "metadata": {},
   "source": [
    "# Create BUFR File"
   ]
  },
  {
   "cell_type": "code",
   "execution_count": null,
   "id": "9841c0b3",
   "metadata": {},
   "outputs": [],
   "source": [
    "from tropics_v3 import create_tropics_bufr_file\n",
    "\n",
    "create_tropics_bufr_file(dir_data=dir_data,\n",
    "                         case=case,\n",
    "                         anl_start_time=anl_start_time,\n",
    "                         anl_end_time=anl_end_time,\n",
    "                         cycling_interval=cycling_interval,\n",
    "                         version=version)"
   ]
  },
  {
   "cell_type": "code",
   "execution_count": null,
   "id": "983b6c17",
   "metadata": {},
   "outputs": [],
   "source": []
  }
 ],
 "metadata": {
  "kernelspec": {
   "display_name": "base",
   "language": "python",
   "name": "python3"
  },
  "language_info": {
   "codemirror_mode": {
    "name": "ipython",
    "version": 3
   },
   "file_extension": ".py",
   "mimetype": "text/x-python",
   "name": "python",
   "nbconvert_exporter": "python",
   "pygments_lexer": "ipython3",
   "version": "3.9.18"
  }
 },
 "nbformat": 4,
 "nbformat_minor": 5
}
