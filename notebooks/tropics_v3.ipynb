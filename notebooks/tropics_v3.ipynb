{
 "cells": [
  {
   "attachments": {},
   "cell_type": "markdown",
   "id": "0a98ed75-a6bf-48d4-9f7d-4feb289d7271",
   "metadata": {},
   "source": [
    "# Create BUFR Temp Files"
   ]
  },
  {
   "cell_type": "code",
   "execution_count": 1,
   "id": "3928d53f",
   "metadata": {},
   "outputs": [
    {
     "data": {
      "application/vnd.jupyter.widget-view+json": {
       "model_id": "68be886a5cc34258bf5211eaec3c865f",
       "version_major": 2,
       "version_minor": 0
      },
      "text/plain": [
       "Cycles: 0/1 files | 00:00<?"
      ]
     },
     "metadata": {},
     "output_type": "display_data"
    },
    {
     "name": "stdout",
     "output_type": "stream",
     "text": [
      "2024-06-26 06:00:00\n",
      "/uufs/chpc.utah.edu/common/home/zpu-group31/cfeng2/TROPICS/13_HAFS/data/TROPICS/2024_AL02_Beryl/TROPICS_V3/TROPICS03.NNAVP.L2B.Orbit00000.V00-03.ST20240626-083642.ET20240626-092712.CT20240820-204933.nc\n"
     ]
    },
    {
     "ename": "ValueError",
     "evalue": "This function changed in 1.0--double check that the function is being called properly.\n`relative_humidity_from_specific_humidity` given arguments with incorrect units: `pressure` requires \"[pressure]\" but given \"none\", `temperature` requires \"[temperature]\" but given \"none\"\nA masked array `m` can be assigned a unit as follows:\n    from metpy.units import units\n    m = units.Quantity(m, \"m/s\")\nFor more information see the Units Tutorial: https://unidata.github.io/MetPy/latest/tutorials/unit_tutorial.html",
     "output_type": "error",
     "traceback": [
      "\u001b[0;31m---------------------------------------------------------------------------\u001b[0m",
      "\u001b[0;31mValueError\u001b[0m                                Traceback (most recent call last)",
      "Cell \u001b[0;32mIn[1], line 4\u001b[0m\n\u001b[1;32m      1\u001b[0m \u001b[38;5;28;01mfrom\u001b[39;00m \u001b[38;5;21;01mdatetime\u001b[39;00m \u001b[38;5;28;01mimport\u001b[39;00m datetime\n\u001b[1;32m      2\u001b[0m \u001b[38;5;28;01mfrom\u001b[39;00m \u001b[38;5;21;01mtropics_v3\u001b[39;00m \u001b[38;5;28;01mimport\u001b[39;00m create_tropics_bufr_temp\n\u001b[0;32m----> 4\u001b[0m \u001b[43mcreate_tropics_bufr_temp\u001b[49m\u001b[43m(\u001b[49m\u001b[43mdir_data\u001b[49m\u001b[38;5;241;43m=\u001b[39;49m\u001b[38;5;124;43m'\u001b[39;49m\u001b[38;5;124;43m/uufs/chpc.utah.edu/common/home/zpu-group31/cfeng2/TROPICS/13_HAFS/data\u001b[39;49m\u001b[38;5;124;43m'\u001b[39;49m\u001b[43m,\u001b[49m\n\u001b[1;32m      5\u001b[0m \u001b[43m                         \u001b[49m\u001b[43mcase\u001b[49m\u001b[38;5;241;43m=\u001b[39;49m\u001b[38;5;124;43m'\u001b[39;49m\u001b[38;5;124;43m2024_AL02_Beryl\u001b[39;49m\u001b[38;5;124;43m'\u001b[39;49m\u001b[43m,\u001b[49m\n\u001b[1;32m      6\u001b[0m \u001b[43m                         \u001b[49m\u001b[43manl_start_time\u001b[49m\u001b[38;5;241;43m=\u001b[39;49m\u001b[43mdatetime\u001b[49m\u001b[43m(\u001b[49m\u001b[38;5;241;43m2024\u001b[39;49m\u001b[43m,\u001b[49m\u001b[43m \u001b[49m\u001b[38;5;241;43m6\u001b[39;49m\u001b[43m,\u001b[49m\u001b[43m \u001b[49m\u001b[38;5;241;43m26\u001b[39;49m\u001b[43m,\u001b[49m\u001b[43m  \u001b[49m\u001b[38;5;241;43m6\u001b[39;49m\u001b[43m,\u001b[49m\u001b[43m \u001b[49m\u001b[38;5;241;43m0\u001b[39;49m\u001b[43m,\u001b[49m\u001b[43m \u001b[49m\u001b[38;5;241;43m0\u001b[39;49m\u001b[43m)\u001b[49m\u001b[43m,\u001b[49m\n\u001b[1;32m      7\u001b[0m \u001b[43m                         \u001b[49m\u001b[43manl_end_time\u001b[49m\u001b[38;5;241;43m=\u001b[39;49m\u001b[43mdatetime\u001b[49m\u001b[43m(\u001b[49m\u001b[38;5;241;43m2024\u001b[39;49m\u001b[43m,\u001b[49m\u001b[43m \u001b[49m\u001b[38;5;241;43m6\u001b[39;49m\u001b[43m,\u001b[49m\u001b[43m \u001b[49m\u001b[38;5;241;43m26\u001b[39;49m\u001b[43m,\u001b[49m\u001b[43m  \u001b[49m\u001b[38;5;241;43m6\u001b[39;49m\u001b[43m,\u001b[49m\u001b[43m \u001b[49m\u001b[38;5;241;43m0\u001b[39;49m\u001b[43m,\u001b[49m\u001b[43m \u001b[49m\u001b[38;5;241;43m0\u001b[39;49m\u001b[43m)\u001b[49m\u001b[43m,\u001b[49m\n\u001b[1;32m      8\u001b[0m \u001b[43m                         \u001b[49m\u001b[43mcycling_interval\u001b[49m\u001b[38;5;241;43m=\u001b[39;49m\u001b[38;5;241;43m6\u001b[39;49m\u001b[43m,\u001b[49m\n\u001b[1;32m      9\u001b[0m \u001b[43m                         \u001b[49m\u001b[43mversion\u001b[49m\u001b[38;5;241;43m=\u001b[39;49m\u001b[38;5;124;43m'\u001b[39;49m\u001b[38;5;124;43mAS\u001b[39;49m\u001b[38;5;124;43m'\u001b[39;49m\u001b[43m)\u001b[49m\n",
      "File \u001b[0;32m~/climetlab-my-plugin/functions/tropics_v3.py:132\u001b[0m, in \u001b[0;36mcreate_tropics_bufr_temp\u001b[0;34m(dir_data, case, anl_start_time, anl_end_time, cycling_interval, version)\u001b[0m\n\u001b[1;32m    130\u001b[0m TROPICS_SPFH = nnavp_profiles.variables['q'][:,:,:].flatten()\n\u001b[1;32m    131\u001b[0m # Calculate relative humidity\n\u001b[0;32m--> 132\u001b[0m TROPICS_REHU = relative_humidity_from_specific_humidity(TROPICS_PRLC*units.Pa, TROPICS_TMDB*units.K, TROPICS_SPFH).to('percent').magnitude\n\u001b[1;32m    133\u001b[0m print(TROPICS_REHU)\n\u001b[1;32m    134\u001b[0m print(np.nammax(TROPICS_REHU))\n",
      "File \u001b[0;32m/uufs/chpc.utah.edu/common/home/zpu-group30/cfeng/software/mymini3/lib/python3.9/site-packages/metpy/xarray.py:1328\u001b[0m, in \u001b[0;36mpreprocess_and_wrap.<locals>.decorator.<locals>.wrapper\u001b[0;34m(*args, **kwargs)\u001b[0m\n\u001b[1;32m   1325\u001b[0m     _mutate_arguments(bound_args, units\u001b[38;5;241m.\u001b[39mQuantity, \u001b[38;5;28;01mlambda\u001b[39;00m arg, _: arg\u001b[38;5;241m.\u001b[39mm)\n\u001b[1;32m   1327\u001b[0m \u001b[38;5;66;03m# Evaluate inner calculation\u001b[39;00m\n\u001b[0;32m-> 1328\u001b[0m result \u001b[38;5;241m=\u001b[39m \u001b[43mfunc\u001b[49m\u001b[43m(\u001b[49m\u001b[38;5;241;43m*\u001b[39;49m\u001b[43mbound_args\u001b[49m\u001b[38;5;241;43m.\u001b[39;49m\u001b[43margs\u001b[49m\u001b[43m,\u001b[49m\u001b[43m \u001b[49m\u001b[38;5;241;43m*\u001b[39;49m\u001b[38;5;241;43m*\u001b[39;49m\u001b[43mbound_args\u001b[49m\u001b[38;5;241;43m.\u001b[39;49m\u001b[43mkwargs\u001b[49m\u001b[43m)\u001b[49m\n\u001b[1;32m   1330\u001b[0m \u001b[38;5;66;03m# Wrap output based on match and match_unit\u001b[39;00m\n\u001b[1;32m   1331\u001b[0m \u001b[38;5;28;01mif\u001b[39;00m match \u001b[38;5;129;01mis\u001b[39;00m \u001b[38;5;28;01mNone\u001b[39;00m:\n",
      "File \u001b[0;32m/uufs/chpc.utah.edu/common/home/zpu-group30/cfeng/software/mymini3/lib/python3.9/site-packages/metpy/units.py:324\u001b[0m, in \u001b[0;36mcheck_units.<locals>.dec.<locals>.wrapper\u001b[0;34m(*args, **kwargs)\u001b[0m\n\u001b[1;32m    322\u001b[0m \u001b[38;5;129m@functools\u001b[39m\u001b[38;5;241m.\u001b[39mwraps(func)\n\u001b[1;32m    323\u001b[0m \u001b[38;5;28;01mdef\u001b[39;00m \u001b[38;5;21mwrapper\u001b[39m(\u001b[38;5;241m*\u001b[39margs, \u001b[38;5;241m*\u001b[39m\u001b[38;5;241m*\u001b[39mkwargs):\n\u001b[0;32m--> 324\u001b[0m     \u001b[43m_check_units_inner_helper\u001b[49m\u001b[43m(\u001b[49m\u001b[43mfunc\u001b[49m\u001b[43m,\u001b[49m\u001b[43m \u001b[49m\u001b[43msig\u001b[49m\u001b[43m,\u001b[49m\u001b[43m \u001b[49m\u001b[43mdefaults\u001b[49m\u001b[43m,\u001b[49m\u001b[43m \u001b[49m\u001b[43mdims\u001b[49m\u001b[43m,\u001b[49m\u001b[43m \u001b[49m\u001b[38;5;241;43m*\u001b[39;49m\u001b[43margs\u001b[49m\u001b[43m,\u001b[49m\u001b[43m \u001b[49m\u001b[38;5;241;43m*\u001b[39;49m\u001b[38;5;241;43m*\u001b[39;49m\u001b[43mkwargs\u001b[49m\u001b[43m)\u001b[49m\n\u001b[1;32m    325\u001b[0m     \u001b[38;5;28;01mreturn\u001b[39;00m func(\u001b[38;5;241m*\u001b[39margs, \u001b[38;5;241m*\u001b[39m\u001b[38;5;241m*\u001b[39mkwargs)\n",
      "File \u001b[0;32m/uufs/chpc.utah.edu/common/home/zpu-group30/cfeng/software/mymini3/lib/python3.9/site-packages/metpy/units.py:311\u001b[0m, in \u001b[0;36m_check_units_inner_helper\u001b[0;34m(func, sig, defaults, dims, *args, **kwargs)\u001b[0m\n\u001b[1;32m    306\u001b[0m         \u001b[38;5;28;01mif\u001b[39;00m changed_version:\n\u001b[1;32m    307\u001b[0m             msg \u001b[38;5;241m=\u001b[39m (\n\u001b[1;32m    308\u001b[0m                 \u001b[38;5;124mf\u001b[39m\u001b[38;5;124m'\u001b[39m\u001b[38;5;124mThis function changed in \u001b[39m\u001b[38;5;132;01m{\u001b[39;00mchanged_version\u001b[38;5;132;01m}\u001b[39;00m\u001b[38;5;124m--double check \u001b[39m\u001b[38;5;124m'\u001b[39m\n\u001b[1;32m    309\u001b[0m                 \u001b[38;5;124m'\u001b[39m\u001b[38;5;124mthat the function is being called properly.\u001b[39m\u001b[38;5;130;01m\\n\u001b[39;00m\u001b[38;5;124m'\u001b[39m\n\u001b[1;32m    310\u001b[0m             ) \u001b[38;5;241m+\u001b[39m msg\n\u001b[0;32m--> 311\u001b[0m     \u001b[38;5;28;01mraise\u001b[39;00m \u001b[38;5;167;01mValueError\u001b[39;00m(msg)\n\u001b[1;32m    313\u001b[0m \u001b[38;5;66;03m# Return the bound arguments for reuse\u001b[39;00m\n\u001b[1;32m    314\u001b[0m \u001b[38;5;28;01mreturn\u001b[39;00m bound_args\n",
      "\u001b[0;31mValueError\u001b[0m: This function changed in 1.0--double check that the function is being called properly.\n`relative_humidity_from_specific_humidity` given arguments with incorrect units: `pressure` requires \"[pressure]\" but given \"none\", `temperature` requires \"[temperature]\" but given \"none\"\nA masked array `m` can be assigned a unit as follows:\n    from metpy.units import units\n    m = units.Quantity(m, \"m/s\")\nFor more information see the Units Tutorial: https://unidata.github.io/MetPy/latest/tutorials/unit_tutorial.html"
     ]
    }
   ],
   "source": [
    "from datetime import datetime\n",
    "from tropics_v3 import create_tropics_bufr_temp\n",
    "\n",
    "create_tropics_bufr_temp(dir_data='/uufs/chpc.utah.edu/common/home/zpu-group31/cfeng2/TROPICS/13_HAFS/data',\n",
    "                         case='2024_AL02_Beryl',\n",
    "                         anl_start_time=datetime(2024, 6, 26,  6, 0, 0),\n",
    "                         anl_end_time=datetime(2024, 6, 26,  6, 0, 0),\n",
    "                         cycling_interval=6,\n",
    "                         version='AS')"
   ]
  },
  {
   "cell_type": "code",
   "execution_count": null,
   "id": "9841c0b3",
   "metadata": {},
   "outputs": [],
   "source": []
  }
 ],
 "metadata": {
  "kernelspec": {
   "display_name": "base",
   "language": "python",
   "name": "python3"
  },
  "language_info": {
   "codemirror_mode": {
    "name": "ipython",
    "version": 3
   },
   "file_extension": ".py",
   "mimetype": "text/x-python",
   "name": "python",
   "nbconvert_exporter": "python",
   "pygments_lexer": "ipython3",
   "version": "3.9.18"
  }
 },
 "nbformat": 4,
 "nbformat_minor": 5
}
