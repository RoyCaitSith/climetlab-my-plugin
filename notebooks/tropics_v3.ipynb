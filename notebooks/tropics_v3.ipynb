{
 "cells": [
  {
   "attachments": {},
   "cell_type": "markdown",
   "id": "0a98ed75-a6bf-48d4-9f7d-4feb289d7271",
   "metadata": {},
   "source": [
    "# Create BUFR Temp Files"
   ]
  },
  {
   "cell_type": "code",
   "execution_count": 1,
   "id": "3928d53f",
   "metadata": {},
   "outputs": [
    {
     "data": {
      "application/vnd.jupyter.widget-view+json": {
       "model_id": "c4d8c2a4f5b945b49cd4bc11c984e047",
       "version_major": 2,
       "version_minor": 0
      },
      "text/plain": [
       "Cycles: 0/1 files | 00:00<?"
      ]
     },
     "metadata": {},
     "output_type": "display_data"
    },
    {
     "name": "stdout",
     "output_type": "stream",
     "text": [
      "2024-06-26 06:00:00\n",
      "/uufs/chpc.utah.edu/common/home/zpu-group31/cfeng2/TROPICS/13_HAFS/data/TROPICS/2024_AL02_Beryl/TROPICS_V3/TROPICS03.NNAVP.L2B.Orbit00000.V00-03.ST20240626-083642.ET20240626-092712.CT20240820-204933.nc\n",
      "2024\n",
      "[268.4808044433594 268.3620300292969 268.2596740722656 ...\n",
      " 90.52141571044922 90.80825805664062 91.1644515991211]\n"
     ]
    },
    {
     "ename": "NameError",
     "evalue": "name 'miao' is not defined",
     "output_type": "error",
     "traceback": [
      "\u001b[0;31m---------------------------------------------------------------------------\u001b[0m",
      "\u001b[0;31mNameError\u001b[0m                                 Traceback (most recent call last)",
      "Cell \u001b[0;32mIn[1], line 4\u001b[0m\n\u001b[1;32m      1\u001b[0m \u001b[38;5;28;01mfrom\u001b[39;00m \u001b[38;5;21;01mdatetime\u001b[39;00m \u001b[38;5;28;01mimport\u001b[39;00m datetime\n\u001b[1;32m      2\u001b[0m \u001b[38;5;28;01mfrom\u001b[39;00m \u001b[38;5;21;01mtropics_v3\u001b[39;00m \u001b[38;5;28;01mimport\u001b[39;00m create_tropics_bufr_temp\n\u001b[0;32m----> 4\u001b[0m \u001b[43mcreate_tropics_bufr_temp\u001b[49m\u001b[43m(\u001b[49m\u001b[43mdir_data\u001b[49m\u001b[38;5;241;43m=\u001b[39;49m\u001b[38;5;124;43m'\u001b[39;49m\u001b[38;5;124;43m/uufs/chpc.utah.edu/common/home/zpu-group31/cfeng2/TROPICS/13_HAFS/data\u001b[39;49m\u001b[38;5;124;43m'\u001b[39;49m\u001b[43m,\u001b[49m\n\u001b[1;32m      5\u001b[0m \u001b[43m                         \u001b[49m\u001b[43mcase\u001b[49m\u001b[38;5;241;43m=\u001b[39;49m\u001b[38;5;124;43m'\u001b[39;49m\u001b[38;5;124;43m2024_AL02_Beryl\u001b[39;49m\u001b[38;5;124;43m'\u001b[39;49m\u001b[43m,\u001b[49m\n\u001b[1;32m      6\u001b[0m \u001b[43m                         \u001b[49m\u001b[43manl_start_time\u001b[49m\u001b[38;5;241;43m=\u001b[39;49m\u001b[43mdatetime\u001b[49m\u001b[43m(\u001b[49m\u001b[38;5;241;43m2024\u001b[39;49m\u001b[43m,\u001b[49m\u001b[43m \u001b[49m\u001b[38;5;241;43m6\u001b[39;49m\u001b[43m,\u001b[49m\u001b[43m \u001b[49m\u001b[38;5;241;43m26\u001b[39;49m\u001b[43m,\u001b[49m\u001b[43m  \u001b[49m\u001b[38;5;241;43m6\u001b[39;49m\u001b[43m,\u001b[49m\u001b[43m \u001b[49m\u001b[38;5;241;43m0\u001b[39;49m\u001b[43m,\u001b[49m\u001b[43m \u001b[49m\u001b[38;5;241;43m0\u001b[39;49m\u001b[43m)\u001b[49m\u001b[43m,\u001b[49m\n\u001b[1;32m      7\u001b[0m \u001b[43m                         \u001b[49m\u001b[43manl_end_time\u001b[49m\u001b[38;5;241;43m=\u001b[39;49m\u001b[43mdatetime\u001b[49m\u001b[43m(\u001b[49m\u001b[38;5;241;43m2024\u001b[39;49m\u001b[43m,\u001b[49m\u001b[43m \u001b[49m\u001b[38;5;241;43m6\u001b[39;49m\u001b[43m,\u001b[49m\u001b[43m \u001b[49m\u001b[38;5;241;43m26\u001b[39;49m\u001b[43m,\u001b[49m\u001b[43m  \u001b[49m\u001b[38;5;241;43m6\u001b[39;49m\u001b[43m,\u001b[49m\u001b[43m \u001b[49m\u001b[38;5;241;43m0\u001b[39;49m\u001b[43m,\u001b[49m\u001b[43m \u001b[49m\u001b[38;5;241;43m0\u001b[39;49m\u001b[43m)\u001b[49m\u001b[43m,\u001b[49m\n\u001b[1;32m      8\u001b[0m \u001b[43m                         \u001b[49m\u001b[43mcycling_interval\u001b[49m\u001b[38;5;241;43m=\u001b[39;49m\u001b[38;5;241;43m6\u001b[39;49m\u001b[43m,\u001b[49m\n\u001b[1;32m      9\u001b[0m \u001b[43m                         \u001b[49m\u001b[43mversion\u001b[49m\u001b[38;5;241;43m=\u001b[39;49m\u001b[38;5;124;43m'\u001b[39;49m\u001b[38;5;124;43mAS\u001b[39;49m\u001b[38;5;124;43m'\u001b[39;49m\u001b[43m)\u001b[49m\n",
      "File \u001b[0;32m~/climetlab-my-plugin/functions/tropics_v3.py:118\u001b[0m, in \u001b[0;36mcreate_tropics_bufr_temp\u001b[0;34m(dir_data, case, anl_start_time, anl_end_time, cycling_interval, version)\u001b[0m\n\u001b[1;32m    116\u001b[0m TROPICS_CLON[TROPICS_CLON\u001b[38;5;241m<\u001b[39m\u001b[38;5;241m0\u001b[39m] \u001b[38;5;241m=\u001b[39m TROPICS_CLON[TROPICS_CLON\u001b[38;5;241m<\u001b[39m\u001b[38;5;241m0\u001b[39m] \u001b[38;5;241m+\u001b[39m \u001b[38;5;241m360.0\u001b[39m\n\u001b[1;32m    117\u001b[0m \u001b[38;5;28mprint\u001b[39m(TROPICS_CLON)\n\u001b[0;32m--> 118\u001b[0m \u001b[38;5;28mprint\u001b[39m(\u001b[43mmiao\u001b[49m)\n\u001b[1;32m    121\u001b[0m TROPICS_PRLC \u001b[38;5;241m=\u001b[39m (ncfile\u001b[38;5;241m.\u001b[39mvariables[\u001b[38;5;124m'\u001b[39m\u001b[38;5;124mpress\u001b[39m\u001b[38;5;124m'\u001b[39m][:,:,:]\u001b[38;5;241m*\u001b[39m\u001b[38;5;241m100.0\u001b[39m)\u001b[38;5;241m.\u001b[39mflatten()\n\u001b[1;32m    122\u001b[0m TROPICS_GP10 \u001b[38;5;241m=\u001b[39m np\u001b[38;5;241m.\u001b[39mfull((n_data), \u001b[38;5;241m0.0\u001b[39m, dtype\u001b[38;5;241m=\u001b[39m\u001b[38;5;124m'\u001b[39m\u001b[38;5;124mfloat64\u001b[39m\u001b[38;5;124m'\u001b[39m)\n",
      "\u001b[0;31mNameError\u001b[0m: name 'miao' is not defined"
     ]
    }
   ],
   "source": [
    "from datetime import datetime\n",
    "from tropics_v3 import create_tropics_bufr_temp\n",
    "\n",
    "create_tropics_bufr_temp(dir_data='/uufs/chpc.utah.edu/common/home/zpu-group31/cfeng2/TROPICS/13_HAFS/data',\n",
    "                         case='2024_AL02_Beryl',\n",
    "                         anl_start_time=datetime(2024, 6, 26,  6, 0, 0),\n",
    "                         anl_end_time=datetime(2024, 6, 26,  6, 0, 0),\n",
    "                         cycling_interval=6,\n",
    "                         version='AS')"
   ]
  },
  {
   "cell_type": "code",
   "execution_count": null,
   "id": "7170d764",
   "metadata": {},
   "outputs": [],
   "source": []
  }
 ],
 "metadata": {
  "kernelspec": {
   "display_name": "base",
   "language": "python",
   "name": "python3"
  },
  "language_info": {
   "codemirror_mode": {
    "name": "ipython",
    "version": 3
   },
   "file_extension": ".py",
   "mimetype": "text/x-python",
   "name": "python",
   "nbconvert_exporter": "python",
   "pygments_lexer": "ipython3",
   "version": "3.9.18"
  }
 },
 "nbformat": 4,
 "nbformat_minor": 5
}
