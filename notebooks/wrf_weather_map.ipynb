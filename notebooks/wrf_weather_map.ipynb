{
 "cells": [
  {
   "cell_type": "markdown",
   "metadata": {},
   "source": [
    "# Analysis increment"
   ]
  },
  {
   "cell_type": "code",
   "execution_count": null,
   "metadata": {},
   "outputs": [],
   "source": [
    "# from wrf_weather_map import draw_weather_map_6h\n",
    "\n",
    "# n_exp_names = 5\n",
    "# data_library_names = ['cpex']*n_exp_names\n",
    "# dir_cases = ['/08_CPEX/01_CV_RF07_AEW06_IAN']*n_exp_names\n",
    "# case_names = ['Ian']*n_exp_names\n",
    "# exp_names = ['CTRL', 'CONV', 'DAWN', 'HALO', 'DAWN_HALO']\n",
    "\n",
    "# draw_weather_map_6h(data_library_names=data_library_names,\n",
    "#                     dir_cases=dir_cases,\n",
    "#                     case_names=case_names,\n",
    "#                     exp_names=exp_names,\n",
    "#                     contourf_var='q_inc', contourf_var_level=700,\n",
    "#                     contour_var='null', contour_var_level=700,\n",
    "#                     quiver_vars=['u_inc', 'v_inc'], quiver_var_level=700, quiver_var_space=3,\n",
    "#                     domains=['d01'], da_cycle=4, var_time=20220917000000, region_type='aew')"
   ]
  },
  {
   "cell_type": "code",
   "execution_count": null,
   "metadata": {},
   "outputs": [],
   "source": [
    "# from wrf_weather_map import draw_weather_map_6h\n",
    "\n",
    "# n_exp_names = 5\n",
    "# data_library_names = ['cpex']*n_exp_names\n",
    "# dir_cases = ['/08_CPEX/01_CV_RF07_AEW06_IAN']*n_exp_names\n",
    "# case_names = ['Ian']*n_exp_names\n",
    "# exp_names = ['CTRL', 'CONV', 'DAWN', 'HALO', 'DAWN_HALO']\n",
    "\n",
    "# draw_weather_map_6h(data_library_names=data_library_names,\n",
    "#                     dir_cases=dir_cases,\n",
    "#                     case_names=case_names,\n",
    "#                     exp_names=exp_names,\n",
    "#                     contourf_var='q_inc', contourf_var_level=700,\n",
    "#                     contour_var='null', contour_var_level=700,\n",
    "#                     quiver_vars=['u_inc', 'v_inc'], quiver_var_level=700, quiver_var_space=10,\n",
    "#                     domains=['d01'], da_cycle=4, var_time=20220917000000, region_type='aew')"
   ]
  },
  {
   "cell_type": "code",
   "execution_count": null,
   "metadata": {},
   "outputs": [],
   "source": [
    "# from wrf_weather_map import draw_weather_map_6h\n",
    "\n",
    "# n_exp_names = 5\n",
    "# data_library_names = ['cpex']*n_exp_names\n",
    "# dir_cases = ['/08_CPEX/01_CV_RF07_AEW06_IAN']*n_exp_names\n",
    "# case_names = ['Ian']*n_exp_names\n",
    "# exp_names = ['CTRL', 'CONV', 'DAWN', 'HALO', 'DAWN_HALO']\n",
    "\n",
    "# draw_weather_map_6h(data_library_names=data_library_names,\n",
    "#                     dir_cases=dir_cases,\n",
    "#                     case_names=case_names,\n",
    "#                     exp_names=exp_names,\n",
    "#                     contourf_var='t_inc', contourf_var_level=700,\n",
    "#                     contour_var='null', contour_var_level=700,\n",
    "#                     quiver_vars=['u_inc', 'v_inc'], quiver_var_level=700, quiver_var_space=3,\n",
    "#                     domains=['d01'], da_cycle=4, var_time=20220917000000, region_type='aew')"
   ]
  },
  {
   "cell_type": "code",
   "execution_count": null,
   "metadata": {},
   "outputs": [],
   "source": [
    "# from wrf_weather_map import draw_weather_map_6h\n",
    "\n",
    "# n_exp_names = 5\n",
    "# data_library_names = ['cpex']*n_exp_names\n",
    "# dir_cases = ['/08_CPEX/01_CV_RF07_AEW06_IAN']*n_exp_names\n",
    "# case_names = ['Ian']*n_exp_names\n",
    "# exp_names = ['CTRL', 'CONV', 'DAWN', 'HALO', 'DAWN_HALO']\n",
    "\n",
    "# draw_weather_map_6h(data_library_names=data_library_names,\n",
    "#                     dir_cases=dir_cases,\n",
    "#                     case_names=case_names,\n",
    "#                     exp_names=exp_names,\n",
    "#                     contourf_var='t_inc', contourf_var_level=700,\n",
    "#                     contour_var='null', contour_var_level=700,\n",
    "#                     quiver_vars=['u_inc', 'v_inc'], quiver_var_level=700, quiver_var_space=10,\n",
    "#                     domains=['d02'], da_cycle=4, var_time=20220917000000, region_type='aew')"
   ]
  },
  {
   "attachments": {},
   "cell_type": "markdown",
   "metadata": {},
   "source": [
    "# 6-hr accumulated rainfall, sea surface pressure, and 10m wind"
   ]
  },
  {
   "cell_type": "code",
   "execution_count": null,
   "metadata": {},
   "outputs": [],
   "source": [
    "# from wrf_weather_map import draw_weather_map_6h\n",
    "\n",
    "# n_exp_names = 8\n",
    "# data_library_names = ['cpex']*n_exp_names\n",
    "# dir_cases = ['/08_CPEX/01_CV_RF07_AEW06_IAN']*n_exp_names\n",
    "# case_names = ['Ian']*n_exp_names\n",
    "# exp_names = ['IMERG', 'CMORPH', 'GSMaP', 'CTRL', 'CONV', 'DAWN', 'HALO', 'DAWN_HALO']\n",
    "\n",
    "# draw_weather_map_6h(data_library_names=data_library_names,\n",
    "#                     dir_cases=dir_cases,\n",
    "#                     case_names=case_names,\n",
    "#                     exp_names=exp_names,\n",
    "#                     contourf_var='rain_6h', contourf_var_level=9999,\n",
    "#                     contour_var='null', contour_var_level=9999, contour_var_ref_exp_name='GFS',\n",
    "#                     quiver_vars=['null', 'null'], quiver_var_level=9999, quiver_var_ref_exp_name='GFS', quiver_var_space=10,\n",
    "#                     domains=['d01'], da_cycle=4, var_time=20220918120000, region_type='aew')"
   ]
  },
  {
   "cell_type": "markdown",
   "metadata": {},
   "source": [
    "# Geopotential height, relative humidity, winds fields on 850 hPa"
   ]
  },
  {
   "cell_type": "code",
   "execution_count": null,
   "metadata": {},
   "outputs": [],
   "source": [
    "import numpy as np\n",
    "from wrf_weather_map import draw_weather_map_6h\n",
    "\n",
    "n_exp_names = 7\n",
    "data_library_names = ['cpex']*n_exp_names\n",
    "dir_cases = ['/08_CPEX/01_CV_RF07_AEW06_IAN']*n_exp_names\n",
    "case_names = ['Ian']*n_exp_names\n",
    "exp_names = ['ERA5', 'GFS', 'CTRL', 'CONV', 'DAWN', 'HALO', 'DAWN_HALO']\n",
    "\n",
    "draw_weather_map_6h(data_library_names=data_library_names,\n",
    "                    dir_cases=dir_cases,\n",
    "                    case_names=case_names,\n",
    "                    exp_names=exp_names,\n",
    "                    contourf_var='rh', contourf_var_level=850,\n",
    "                    contour_var='null', contour_var_level=850, contour_var_ref_exp_name='GFS',\n",
    "                    contour_positive_clabel=True, contour_positive_levels=np.arange(1000, 2001, 10),\n",
    "                    quiver_vars=['u', 'v'], quiver_var_level=850, quiver_var_ref_exp_name='GFS',\n",
    "                    quiver_var_space=20, quiver_var_scale=50,\n",
    "                    domains=['d01'], da_cycle=4, var_time=20220918120000, region_type='d02')"
   ]
  },
  {
   "cell_type": "code",
   "execution_count": null,
   "metadata": {},
   "outputs": [],
   "source": [
    "import numpy as np\n",
    "from wrf_weather_map import draw_weather_map_6h\n",
    "\n",
    "n_exp_names = 7\n",
    "data_library_names = ['cpex']*n_exp_names\n",
    "dir_cases = ['/08_CPEX/01_CV_RF07_AEW06_IAN']*n_exp_names\n",
    "case_names = ['Ian']*n_exp_names\n",
    "exp_names = ['ERA5', 'GFS', 'CTRL', 'CONV', 'DAWN', 'HALO', 'DAWN_HALO']\n",
    "\n",
    "draw_weather_map_6h(data_library_names=data_library_names,\n",
    "                    dir_cases=dir_cases,\n",
    "                    case_names=case_names,\n",
    "                    exp_names=exp_names,\n",
    "                    contourf_var='rh', contourf_var_level=850,\n",
    "                    contour_var='null', contour_var_level=850, contour_var_ref_exp_name='GFS',\n",
    "                    contour_positive_clabel=True, contour_positive_levels=np.arange(1000, 2001, 3),\n",
    "                    quiver_vars=['u', 'v'], quiver_var_level=850, quiver_var_ref_exp_name='GFS',\n",
    "                    quiver_var_space=5, quiver_var_scale=50,\n",
    "                    domains=['d01'], da_cycle=4, var_time=20220918120000, region_type='aew')"
   ]
  },
  {
   "cell_type": "markdown",
   "metadata": {},
   "source": [
    "# Geopotential height, relative humidity, winds fields on 700 hPa"
   ]
  },
  {
   "cell_type": "code",
   "execution_count": null,
   "metadata": {},
   "outputs": [],
   "source": [
    "import numpy as np\n",
    "from wrf_weather_map import draw_weather_map_6h\n",
    "\n",
    "n_exp_names = 7\n",
    "data_library_names = ['cpex']*n_exp_names\n",
    "dir_cases = ['/08_CPEX/01_CV_RF07_AEW06_IAN']*n_exp_names\n",
    "case_names = ['Ian']*n_exp_names\n",
    "exp_names = ['ERA5', 'GFS', 'CTRL', 'CONV', 'DAWN', 'HALO', 'DAWN_HALO']\n",
    "\n",
    "draw_weather_map_6h(data_library_names=data_library_names,\n",
    "                    dir_cases=dir_cases,\n",
    "                    case_names=case_names,\n",
    "                    exp_names=exp_names,\n",
    "                    contourf_var='rh', contourf_var_level=700,\n",
    "                    contour_var='null', contour_var_level=700, contour_var_ref_exp_name='GFS',\n",
    "                    contour_positive_clabel=True, contour_positive_levels=np.arange(2400, 4001, 10),\n",
    "                    quiver_vars=['u', 'v'], quiver_var_level=700, quiver_var_ref_exp_name='GFS',\n",
    "                    quiver_var_space=20, quiver_var_scale=50,\n",
    "                    domains=['d01'], da_cycle=4, var_time=20220918120000, region_type='d02')"
   ]
  },
  {
   "cell_type": "code",
   "execution_count": null,
   "metadata": {},
   "outputs": [],
   "source": [
    "import numpy as np\n",
    "from wrf_weather_map import draw_weather_map_6h\n",
    "\n",
    "n_exp_names = 7\n",
    "data_library_names = ['cpex']*n_exp_names\n",
    "dir_cases = ['/08_CPEX/01_CV_RF07_AEW06_IAN']*n_exp_names\n",
    "case_names = ['Ian']*n_exp_names\n",
    "exp_names = ['ERA5', 'GFS', 'CTRL', 'CONV', 'DAWN', 'HALO', 'DAWN_HALO']\n",
    "\n",
    "draw_weather_map_6h(data_library_names=data_library_names,\n",
    "                    dir_cases=dir_cases,\n",
    "                    case_names=case_names,\n",
    "                    exp_names=exp_names,\n",
    "                    contourf_var='rh', contourf_var_level=700,\n",
    "                    contour_var='null', contour_var_level=700, contour_var_ref_exp_name='GFS',\n",
    "                    contour_positive_clabel=True, contour_positive_levels=np.arange(2400, 4001, 3),\n",
    "                    quiver_vars=['u', 'v'], quiver_var_level=700, quiver_var_ref_exp_name='GFS',\n",
    "                    quiver_var_space=5, quiver_var_scale=50,\n",
    "                    domains=['d01'], da_cycle=4, var_time=20220918120000, region_type='aew')"
   ]
  }
 ],
 "metadata": {
  "kernelspec": {
   "display_name": "base",
   "language": "python",
   "name": "python3"
  },
  "language_info": {
   "codemirror_mode": {
    "name": "ipython",
    "version": 3
   },
   "file_extension": ".py",
   "mimetype": "text/x-python",
   "name": "python",
   "nbconvert_exporter": "python",
   "pygments_lexer": "ipython3",
   "version": "3.10.9"
  },
  "orig_nbformat": 4
 },
 "nbformat": 4,
 "nbformat_minor": 2
}
