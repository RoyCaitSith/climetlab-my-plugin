{
 "cells": [
  {
   "cell_type": "markdown",
   "metadata": {},
   "source": [
    "# Analysis increment"
   ]
  },
  {
   "cell_type": "code",
   "execution_count": null,
   "metadata": {},
   "outputs": [],
   "source": [
    "# from wrf_weather_map import draw_weather_map_6h\n",
    "\n",
    "# n_exp_names = 5\n",
    "# data_library_names = ['cpex']*n_exp_names\n",
    "# dir_cases = ['/08_CPEX/01_CV_RF07_AEW06_IAN']*n_exp_names\n",
    "# case_names = ['Ian']*n_exp_names\n",
    "# exp_names = ['CTRL', 'CONV', 'DAWN', 'HALO', 'DAWN_HALO']\n",
    "\n",
    "# draw_weather_map_6h(data_library_names=data_library_names,\n",
    "#                     dir_cases=dir_cases,\n",
    "#                     case_names=case_names,\n",
    "#                     exp_names=exp_names,\n",
    "#                     contourf_var='q_inc', contourf_var_level=925,\n",
    "#                     contour_var='null', contour_var_level=925,\n",
    "#                     quiver_vars=['u_inc', 'v_inc'], quiver_var_level=925, quiver_var_space=20,\n",
    "#                     domains=['d02'], da_cycle=4, var_time=20220916180000)"
   ]
  },
  {
   "attachments": {},
   "cell_type": "markdown",
   "metadata": {},
   "source": [
    "# 6-hr accumulated rainfall, sea surface pressure, and 10m wind"
   ]
  },
  {
   "cell_type": "code",
   "execution_count": null,
   "metadata": {},
   "outputs": [],
   "source": [
    "# from wrf_weather_map import draw_weather_map_6h\n",
    "\n",
    "# n_exp_names = 8\n",
    "# data_library_names = ['cpex']*n_exp_names\n",
    "# dir_cases = ['/08_CPEX/01_CV_RF07_AEW06_IAN']*n_exp_names\n",
    "# case_names = ['Ian']*n_exp_names\n",
    "# exp_names = ['IMERG', 'CMORPH', 'GSMaP', 'CTRL', 'CONV', 'DAWN', 'HALO', 'DAWN_HALO']\n",
    "\n",
    "# draw_weather_map_6h(data_library_names=data_library_names,\n",
    "#                     dir_cases=dir_cases,\n",
    "#                     case_names=case_names,\n",
    "#                     exp_names=exp_names,\n",
    "#                     contourf_var='rain_6h', contourf_var_level=9999,\n",
    "#                     contour_var='null', contour_var_level=9999, contour_var_ref_exp_name='GFS',\n",
    "#                     quiver_vars=['null', 'null'], quiver_var_level=9999, quiver_var_ref_exp_name='GFS', quiver_var_space=10,\n",
    "#                     domains=['d01'], da_cycle=4, var_time=20220918000000, region='aew')"
   ]
  },
  {
   "cell_type": "markdown",
   "metadata": {},
   "source": [
    "# Geopotential height, relative humidity, winds fields on 925 hPa"
   ]
  },
  {
   "cell_type": "code",
   "execution_count": null,
   "metadata": {},
   "outputs": [],
   "source": [
    "# import numpy as np\n",
    "# from wrf_weather_map import draw_weather_map_6h\n",
    "\n",
    "# n_exp_names = 6\n",
    "# data_library_names = ['cpex']*n_exp_names\n",
    "# dir_cases = ['/08_CPEX/01_CV_RF07_AEW06_IAN']*n_exp_names\n",
    "# case_names = ['Ian']*n_exp_names\n",
    "# exp_names = ['GFS', 'CTRL', 'CONV', 'DAWN', 'HALO', 'DAWN_HALO']\n",
    "\n",
    "# draw_weather_map_6h(data_library_names=data_library_names,\n",
    "#                     dir_cases=dir_cases,\n",
    "#                     case_names=case_names,\n",
    "#                     exp_names=exp_names,\n",
    "#                     contourf_var='rh', contourf_var_level=925,\n",
    "#                     contour_var='geopt', contour_var_level=925, contour_var_ref_exp_name='GFS',\n",
    "#                     contour_positive_clabel=True, contour_positive_levels=np.arange(500, 1001, 20),\n",
    "#                     quiver_vars=['u', 'v'], quiver_var_level=925, quiver_var_ref_exp_name='GFS',\n",
    "#                     quiver_var_space=20, quiver_var_scale=50,\n",
    "#                     domains=['d01'], da_cycle=4, var_time=20220916000000, region_type='d02')"
   ]
  },
  {
   "cell_type": "markdown",
   "metadata": {},
   "source": [
    "# Geopotential height, relative humidity, winds fields on 850 hPa"
   ]
  },
  {
   "cell_type": "code",
   "execution_count": null,
   "metadata": {},
   "outputs": [],
   "source": [
    "# import numpy as np\n",
    "# from wrf_weather_map import draw_weather_map_6h\n",
    "\n",
    "# n_exp_names = 6\n",
    "# data_library_names = ['cpex']*n_exp_names\n",
    "# dir_cases = ['/08_CPEX/01_CV_RF07_AEW06_IAN']*n_exp_names\n",
    "# case_names = ['Ian']*n_exp_names\n",
    "# exp_names = ['GFS', 'CTRL', 'CONV', 'DAWN', 'HALO', 'DAWN_HALO']\n",
    "\n",
    "# draw_weather_map_6h(data_library_names=data_library_names,\n",
    "#                     dir_cases=dir_cases,\n",
    "#                     case_names=case_names,\n",
    "#                     exp_names=exp_names,\n",
    "#                     contourf_var='rh', contourf_var_level=850,\n",
    "#                     contour_var='geopt', contour_var_level=850, contour_var_ref_exp_name='GFS',\n",
    "#                     contour_positive_clabel=True, contour_positive_levels=np.arange(1000, 2001, 20),\n",
    "#                     quiver_vars=['u', 'v'], quiver_var_level=850, quiver_var_ref_exp_name='GFS',\n",
    "#                     quiver_var_space=20, quiver_var_scale=50,\n",
    "#                     domains=['d01'], da_cycle=4, var_time=20220918120000, region_type='d02')"
   ]
  },
  {
   "cell_type": "markdown",
   "metadata": {},
   "source": [
    "# Geopotential height, relative humidity, winds fields on 700 hPa"
   ]
  },
  {
   "cell_type": "code",
   "execution_count": 3,
   "metadata": {},
   "outputs": [
    {
     "data": {
      "application/vnd.jupyter.widget-view+json": {
       "model_id": "7804de655465403987f4cfe601476797",
       "version_major": 2,
       "version_minor": 0
      },
      "text/plain": [
       "Domains: 0/1 files | 00:00<?"
      ]
     },
     "metadata": {},
     "output_type": "display_data"
    },
    {
     "data": {
      "application/vnd.jupyter.widget-view+json": {
       "model_id": "f64149c3ebc64604ae15ce0d7d91211b",
       "version_major": 2,
       "version_minor": 0
      },
      "text/plain": [
       "Cases:   0%|          | 0/6 [00:00<?, ?it/s]"
      ]
     },
     "metadata": {},
     "output_type": "display_data"
    },
    {
     "name": "stdout",
     "output_type": "stream",
     "text": [
      "99.98869018554687\n",
      "0.08281250000000001\n",
      "3220.991489257812\n",
      "3065.243782226563\n"
     ]
    }
   ],
   "source": [
    "import numpy as np\n",
    "from wrf_weather_map import draw_weather_map_6h\n",
    "\n",
    "n_exp_names = 6\n",
    "data_library_names = ['cpex']*n_exp_names\n",
    "dir_cases = ['/08_CPEX/01_CV_RF07_AEW06_IAN']*n_exp_names\n",
    "case_names = ['Ian']*n_exp_names\n",
    "exp_names = ['GFS', 'CTRL', 'CONV', 'DAWN', 'HALO', 'DAWN_HALO']\n",
    "\n",
    "draw_weather_map_6h(data_library_names=data_library_names,\n",
    "                    dir_cases=dir_cases,\n",
    "                    case_names=case_names,\n",
    "                    exp_names=exp_names,\n",
    "                    contourf_var='rh', contourf_var_level=700,\n",
    "                    contour_var='geopt', contour_var_level=700, contour_var_ref_exp_name='GFS',\n",
    "                    contour_positive_clabel=True, contour_positive_levels=np.arange(2400, 4001, 20),\n",
    "                    quiver_vars=['u', 'v'], quiver_var_level=700, quiver_var_ref_exp_name='GFS',\n",
    "                    quiver_var_space=20, quiver_var_scale=50,\n",
    "                    domains=['d01'], da_cycle=4, var_time=20220918000000, region_type='d02')"
   ]
  },
  {
   "cell_type": "code",
   "execution_count": null,
   "metadata": {},
   "outputs": [],
   "source": []
  }
 ],
 "metadata": {
  "kernelspec": {
   "display_name": "base",
   "language": "python",
   "name": "python3"
  },
  "language_info": {
   "codemirror_mode": {
    "name": "ipython",
    "version": 3
   },
   "file_extension": ".py",
   "mimetype": "text/x-python",
   "name": "python",
   "nbconvert_exporter": "python",
   "pygments_lexer": "ipython3",
   "version": "3.10.9"
  },
  "orig_nbformat": 4
 },
 "nbformat": 4,
 "nbformat_minor": 2
}
