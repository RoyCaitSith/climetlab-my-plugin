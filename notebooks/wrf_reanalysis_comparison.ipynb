{
 "cells": [
  {
   "cell_type": "markdown",
   "id": "524de3a4",
   "metadata": {},
   "source": [
    "# Compare WRF analysis with Reanalysis data"
   ]
  },
  {
   "cell_type": "code",
   "execution_count": null,
   "id": "e7dfb7a5",
   "metadata": {},
   "outputs": [],
   "source": [
    "from wrf_reanalysis_comparison import comapre_wrf_reanl_6h\n",
    "\n",
    "n_exp_names = 8\n",
    "data_library_names = ['goes']*n_exp_names\n",
    "dir_cases = ['/GOES-R-observation-error-covariance/01_Laura']*n_exp_names\n",
    "case_names = ['Laura']*n_exp_names\n",
    "exp_names = ['NPB', 'NPB_ASRBC4CLD_CLD_08', 'NPB_ASRBC4CLD_CLD_09', 'NPB_ASRBC4CLD_CLD_10', 'NPB_ASRBC4CLD_CLD_ALL', \\\n",
    "             'NPB_ASRBC4CLD_08', 'NPB_ASRBC4CLD_09', 'NPB_ASRBC4CLD_10']\n",
    "\n",
    "comapre_wrf_reanl_6h(data_library_names=data_library_names,\n",
    "                     dir_cases=dir_cases,\n",
    "                     case_names=case_names,\n",
    "                     exp_names=exp_names)"
   ]
  },
  {
   "cell_type": "code",
   "execution_count": null,
   "metadata": {},
   "outputs": [],
   "source": [
    "from wrf_reanalysis_comparison import comapre_wrf_reanl_6h\n",
    "\n",
    "n_exp_names = 8\n",
    "data_library_names = ['goes']*n_exp_names\n",
    "dir_cases = ['/GOES-R-observation-error-covariance/02_Ida']*n_exp_names\n",
    "case_names = ['Ida']*n_exp_names\n",
    "exp_names = ['NPB', 'NPB_ASRBC4CLD_CLD_08', 'NPB_ASRBC4CLD_CLD_09', 'NPB_ASRBC4CLD_CLD_10', 'NPB_ASRBC4CLD_CLD_ALL', \\\n",
    "             'NPB_ASRBC4CLD_08', 'NPB_ASRBC4CLD_09', 'NPB_ASRBC4CLD_10']\n",
    "\n",
    "comapre_wrf_reanl_6h(data_library_names=data_library_names,\n",
    "                     dir_cases=dir_cases,\n",
    "                     case_names=case_names,\n",
    "                     exp_names=exp_names)"
   ]
  }
 ],
 "metadata": {
  "kernelspec": {
   "display_name": "Python 3 (ipykernel)",
   "language": "python",
   "name": "python3"
  },
  "language_info": {
   "codemirror_mode": {
    "name": "ipython",
    "version": 3
   },
   "file_extension": ".py",
   "mimetype": "text/x-python",
   "name": "python",
   "nbconvert_exporter": "python",
   "pygments_lexer": "ipython3",
   "version": "3.9.18"
  }
 },
 "nbformat": 4,
 "nbformat_minor": 5
}
