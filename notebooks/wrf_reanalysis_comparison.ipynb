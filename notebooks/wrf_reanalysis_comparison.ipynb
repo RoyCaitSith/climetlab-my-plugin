{
 "cells": [
  {
   "cell_type": "markdown",
   "id": "524de3a4",
   "metadata": {},
   "source": [
    "# Compare WRF analysis with Reanalysis data"
   ]
  },
  {
   "cell_type": "code",
   "execution_count": 2,
   "id": "e7dfb7a5",
   "metadata": {},
   "outputs": [
    {
     "data": {
      "application/vnd.jupyter.widget-view+json": {
       "model_id": "c89095f5be2c4a22929c3808cf985841",
       "version_major": 2,
       "version_minor": 0
      },
      "text/plain": [
       "Cases: 0/8 files | 00:00<?"
      ]
     },
     "metadata": {},
     "output_type": "display_data"
    },
    {
     "data": {
      "application/vnd.jupyter.widget-view+json": {
       "model_id": "b5cbe3300d0c462781c6038a04874fb2",
       "version_major": 2,
       "version_minor": 0
      },
      "text/plain": [
       "Domains:   0%|          | 0/1 [00:00<?, ?it/s]"
      ]
     },
     "metadata": {},
     "output_type": "display_data"
    },
    {
     "data": {
      "application/vnd.jupyter.widget-view+json": {
       "model_id": "86cc035afb36400cabcdd84e69b78203",
       "version_major": 2,
       "version_minor": 0
      },
      "text/plain": [
       "Models:   0%|          | 0/2 [00:00<?, ?it/s]"
      ]
     },
     "metadata": {},
     "output_type": "display_data"
    },
    {
     "name": "stdout",
     "output_type": "stream",
     "text": [
      "      Model DA_Cycle Forecast_Hour            Date_Time Variable Level  \\\n",
      "0      ERA5       12             6  2021-08-26 06:00:00    u_anl  1000   \n",
      "1      ERA5       12             6  2021-08-26 06:00:00    u_anl   900   \n",
      "2      ERA5       12             6  2021-08-26 06:00:00    u_anl   800   \n",
      "3      ERA5       12             6  2021-08-26 06:00:00    u_anl   700   \n",
      "4      ERA5       12             6  2021-08-26 06:00:00    u_anl   600   \n",
      "...     ...      ...           ...                  ...      ...   ...   \n",
      "19195   NaN      NaN           NaN                  NaN      NaN   NaN   \n",
      "19196   NaN      NaN           NaN                  NaN      NaN   NaN   \n",
      "19197   NaN      NaN           NaN                  NaN      NaN   NaN   \n",
      "19198   NaN      NaN           NaN                  NaN      NaN   NaN   \n",
      "19199   NaN      NaN           NaN                  NaN      NaN   NaN   \n",
      "\n",
      "            MBE       MAE       MSE      RMSE  \n",
      "0     -0.222863  1.343057  3.921998  1.980403  \n",
      "1     -0.218609  1.448985  4.092352  2.022956  \n",
      "2      -0.16166  1.534604  4.732785  2.175497  \n",
      "3     -0.277147  1.516828  4.529172  2.128185  \n",
      "4      0.027303  1.494816   4.40805  2.099536  \n",
      "...         ...       ...       ...       ...  \n",
      "19195       NaN       NaN       NaN       NaN  \n",
      "19196       NaN       NaN       NaN       NaN  \n",
      "19197       NaN       NaN       NaN       NaN  \n",
      "19198       NaN       NaN       NaN       NaN  \n",
      "19199       NaN       NaN       NaN       NaN  \n",
      "\n",
      "[19200 rows x 10 columns]\n"
     ]
    },
    {
     "data": {
      "application/vnd.jupyter.widget-view+json": {
       "model_id": "874ab5cb31ff440fb20d2fef1e7a9286",
       "version_major": 2,
       "version_minor": 0
      },
      "text/plain": [
       "Domains:   0%|          | 0/1 [00:00<?, ?it/s]"
      ]
     },
     "metadata": {},
     "output_type": "display_data"
    },
    {
     "data": {
      "application/vnd.jupyter.widget-view+json": {
       "model_id": "5a23ed79d11b4703be5e372c267a1a76",
       "version_major": 2,
       "version_minor": 0
      },
      "text/plain": [
       "Models:   0%|          | 0/2 [00:00<?, ?it/s]"
      ]
     },
     "metadata": {},
     "output_type": "display_data"
    },
    {
     "name": "stdout",
     "output_type": "stream",
     "text": [
      "      Model DA_Cycle Forecast_Hour            Date_Time Variable Level  \\\n",
      "0      ERA5       12             6  2021-08-26 06:00:00    u_anl  1000   \n",
      "1      ERA5       12             6  2021-08-26 06:00:00    u_anl   900   \n",
      "2      ERA5       12             6  2021-08-26 06:00:00    u_anl   800   \n",
      "3      ERA5       12             6  2021-08-26 06:00:00    u_anl   700   \n",
      "4      ERA5       12             6  2021-08-26 06:00:00    u_anl   600   \n",
      "...     ...      ...           ...                  ...      ...   ...   \n",
      "19195   NaN      NaN           NaN                  NaN      NaN   NaN   \n",
      "19196   NaN      NaN           NaN                  NaN      NaN   NaN   \n",
      "19197   NaN      NaN           NaN                  NaN      NaN   NaN   \n",
      "19198   NaN      NaN           NaN                  NaN      NaN   NaN   \n",
      "19199   NaN      NaN           NaN                  NaN      NaN   NaN   \n",
      "\n",
      "            MBE       MAE       MSE      RMSE  \n",
      "0     -0.221752  1.343162  3.923557  1.980797  \n",
      "1     -0.216794  1.448726  4.091658  2.022785  \n",
      "2     -0.160809  1.534085  4.731027  2.175092  \n",
      "3     -0.278934  1.516814  4.528176  2.127951  \n",
      "4      0.024858  1.490481  4.394429  2.096289  \n",
      "...         ...       ...       ...       ...  \n",
      "19195       NaN       NaN       NaN       NaN  \n",
      "19196       NaN       NaN       NaN       NaN  \n",
      "19197       NaN       NaN       NaN       NaN  \n",
      "19198       NaN       NaN       NaN       NaN  \n",
      "19199       NaN       NaN       NaN       NaN  \n",
      "\n",
      "[19200 rows x 10 columns]\n"
     ]
    },
    {
     "data": {
      "application/vnd.jupyter.widget-view+json": {
       "model_id": "f133ac6e1fe84fcbabc878a4e13c9c7b",
       "version_major": 2,
       "version_minor": 0
      },
      "text/plain": [
       "Domains:   0%|          | 0/1 [00:00<?, ?it/s]"
      ]
     },
     "metadata": {},
     "output_type": "display_data"
    },
    {
     "data": {
      "application/vnd.jupyter.widget-view+json": {
       "model_id": "4b98e4dc420f49d7a64af05c0a4c3689",
       "version_major": 2,
       "version_minor": 0
      },
      "text/plain": [
       "Models:   0%|          | 0/2 [00:00<?, ?it/s]"
      ]
     },
     "metadata": {},
     "output_type": "display_data"
    },
    {
     "name": "stdout",
     "output_type": "stream",
     "text": [
      "      Model DA_Cycle Forecast_Hour            Date_Time Variable Level  \\\n",
      "0      ERA5       12             6  2021-08-26 06:00:00    u_anl  1000   \n",
      "1      ERA5       12             6  2021-08-26 06:00:00    u_anl   900   \n",
      "2      ERA5       12             6  2021-08-26 06:00:00    u_anl   800   \n",
      "3      ERA5       12             6  2021-08-26 06:00:00    u_anl   700   \n",
      "4      ERA5       12             6  2021-08-26 06:00:00    u_anl   600   \n",
      "...     ...      ...           ...                  ...      ...   ...   \n",
      "19195   NaN      NaN           NaN                  NaN      NaN   NaN   \n",
      "19196   NaN      NaN           NaN                  NaN      NaN   NaN   \n",
      "19197   NaN      NaN           NaN                  NaN      NaN   NaN   \n",
      "19198   NaN      NaN           NaN                  NaN      NaN   NaN   \n",
      "19199   NaN      NaN           NaN                  NaN      NaN   NaN   \n",
      "\n",
      "            MBE       MAE       MSE      RMSE  \n",
      "0     -0.221523  1.343117  3.922919  1.980636  \n",
      "1     -0.216558  1.448392   4.09047  2.022491  \n",
      "2     -0.160566  1.534019  4.730769  2.175033  \n",
      "3     -0.278892  1.516654  4.527329  2.127752  \n",
      "4      0.024928  1.489412  4.390687  2.095397  \n",
      "...         ...       ...       ...       ...  \n",
      "19195       NaN       NaN       NaN       NaN  \n",
      "19196       NaN       NaN       NaN       NaN  \n",
      "19197       NaN       NaN       NaN       NaN  \n",
      "19198       NaN       NaN       NaN       NaN  \n",
      "19199       NaN       NaN       NaN       NaN  \n",
      "\n",
      "[19200 rows x 10 columns]\n"
     ]
    },
    {
     "data": {
      "application/vnd.jupyter.widget-view+json": {
       "model_id": "4162bb21e05e4973a4a5e6b31c8865c9",
       "version_major": 2,
       "version_minor": 0
      },
      "text/plain": [
       "Domains:   0%|          | 0/1 [00:00<?, ?it/s]"
      ]
     },
     "metadata": {},
     "output_type": "display_data"
    },
    {
     "data": {
      "application/vnd.jupyter.widget-view+json": {
       "model_id": "d514789dd77743d097a26e859690158d",
       "version_major": 2,
       "version_minor": 0
      },
      "text/plain": [
       "Models:   0%|          | 0/2 [00:00<?, ?it/s]"
      ]
     },
     "metadata": {},
     "output_type": "display_data"
    },
    {
     "name": "stdout",
     "output_type": "stream",
     "text": [
      "      Model DA_Cycle Forecast_Hour            Date_Time Variable Level  \\\n",
      "0      ERA5       12             6  2021-08-26 06:00:00    u_anl  1000   \n",
      "1      ERA5       12             6  2021-08-26 06:00:00    u_anl   900   \n",
      "2      ERA5       12             6  2021-08-26 06:00:00    u_anl   800   \n",
      "3      ERA5       12             6  2021-08-26 06:00:00    u_anl   700   \n",
      "4      ERA5       12             6  2021-08-26 06:00:00    u_anl   600   \n",
      "...     ...      ...           ...                  ...      ...   ...   \n",
      "19195   NaN      NaN           NaN                  NaN      NaN   NaN   \n",
      "19196   NaN      NaN           NaN                  NaN      NaN   NaN   \n",
      "19197   NaN      NaN           NaN                  NaN      NaN   NaN   \n",
      "19198   NaN      NaN           NaN                  NaN      NaN   NaN   \n",
      "19199   NaN      NaN           NaN                  NaN      NaN   NaN   \n",
      "\n",
      "            MBE       MAE       MSE      RMSE  \n",
      "0     -0.221967  1.343197  3.923491  1.980781  \n",
      "1     -0.217057  1.448919  4.092105  2.022895  \n",
      "2     -0.160846  1.533642  4.729991  2.174854  \n",
      "3     -0.278122  1.516156  4.527294  2.127744  \n",
      "4      0.027128  1.489566  4.391643  2.095625  \n",
      "...         ...       ...       ...       ...  \n",
      "19195       NaN       NaN       NaN       NaN  \n",
      "19196       NaN       NaN       NaN       NaN  \n",
      "19197       NaN       NaN       NaN       NaN  \n",
      "19198       NaN       NaN       NaN       NaN  \n",
      "19199       NaN       NaN       NaN       NaN  \n",
      "\n",
      "[19200 rows x 10 columns]\n"
     ]
    },
    {
     "data": {
      "application/vnd.jupyter.widget-view+json": {
       "model_id": "cf74fce457ee48bca920cd22a928241a",
       "version_major": 2,
       "version_minor": 0
      },
      "text/plain": [
       "Domains:   0%|          | 0/1 [00:00<?, ?it/s]"
      ]
     },
     "metadata": {},
     "output_type": "display_data"
    },
    {
     "data": {
      "application/vnd.jupyter.widget-view+json": {
       "model_id": "cf777c200d8f423ab2840dfb3ff1c515",
       "version_major": 2,
       "version_minor": 0
      },
      "text/plain": [
       "Models:   0%|          | 0/2 [00:00<?, ?it/s]"
      ]
     },
     "metadata": {},
     "output_type": "display_data"
    },
    {
     "name": "stdout",
     "output_type": "stream",
     "text": [
      "      Model DA_Cycle Forecast_Hour            Date_Time Variable Level  \\\n",
      "0      ERA5       12             6  2021-08-26 06:00:00    u_anl  1000   \n",
      "1      ERA5       12             6  2021-08-26 06:00:00    u_anl   900   \n",
      "2      ERA5       12             6  2021-08-26 06:00:00    u_anl   800   \n",
      "3      ERA5       12             6  2021-08-26 06:00:00    u_anl   700   \n",
      "4      ERA5       12             6  2021-08-26 06:00:00    u_anl   600   \n",
      "...     ...      ...           ...                  ...      ...   ...   \n",
      "19195   NaN      NaN           NaN                  NaN      NaN   NaN   \n",
      "19196   NaN      NaN           NaN                  NaN      NaN   NaN   \n",
      "19197   NaN      NaN           NaN                  NaN      NaN   NaN   \n",
      "19198   NaN      NaN           NaN                  NaN      NaN   NaN   \n",
      "19199   NaN      NaN           NaN                  NaN      NaN   NaN   \n",
      "\n",
      "            MBE       MAE       MSE      RMSE  \n",
      "0     -0.221298  1.342829  3.922997  1.980656  \n",
      "1      -0.21643  1.448635  4.091395   2.02272  \n",
      "2      -0.16061  1.534081  4.730865  2.175055  \n",
      "3     -0.278686  1.516298  4.527591  2.127814  \n",
      "4      0.026804  1.489161  4.391729  2.095645  \n",
      "...         ...       ...       ...       ...  \n",
      "19195       NaN       NaN       NaN       NaN  \n",
      "19196       NaN       NaN       NaN       NaN  \n",
      "19197       NaN       NaN       NaN       NaN  \n",
      "19198       NaN       NaN       NaN       NaN  \n",
      "19199       NaN       NaN       NaN       NaN  \n",
      "\n",
      "[19200 rows x 10 columns]\n"
     ]
    },
    {
     "data": {
      "application/vnd.jupyter.widget-view+json": {
       "model_id": "60f588c5b07044959bb3bb17f01d5c3a",
       "version_major": 2,
       "version_minor": 0
      },
      "text/plain": [
       "Domains:   0%|          | 0/1 [00:00<?, ?it/s]"
      ]
     },
     "metadata": {},
     "output_type": "display_data"
    },
    {
     "data": {
      "application/vnd.jupyter.widget-view+json": {
       "model_id": "dd01f8f19e824ddea8c868aa484f34f2",
       "version_major": 2,
       "version_minor": 0
      },
      "text/plain": [
       "Models:   0%|          | 0/2 [00:00<?, ?it/s]"
      ]
     },
     "metadata": {},
     "output_type": "display_data"
    },
    {
     "name": "stdout",
     "output_type": "stream",
     "text": [
      "      Model DA_Cycle Forecast_Hour            Date_Time Variable Level  \\\n",
      "0      ERA5       12             6  2021-08-26 06:00:00    u_anl  1000   \n",
      "1      ERA5       12             6  2021-08-26 06:00:00    u_anl   900   \n",
      "2      ERA5       12             6  2021-08-26 06:00:00    u_anl   800   \n",
      "3      ERA5       12             6  2021-08-26 06:00:00    u_anl   700   \n",
      "4      ERA5       12             6  2021-08-26 06:00:00    u_anl   600   \n",
      "...     ...      ...           ...                  ...      ...   ...   \n",
      "19195   NaN      NaN           NaN                  NaN      NaN   NaN   \n",
      "19196   NaN      NaN           NaN                  NaN      NaN   NaN   \n",
      "19197   NaN      NaN           NaN                  NaN      NaN   NaN   \n",
      "19198   NaN      NaN           NaN                  NaN      NaN   NaN   \n",
      "19199   NaN      NaN           NaN                  NaN      NaN   NaN   \n",
      "\n",
      "            MBE       MAE       MSE      RMSE  \n",
      "0     -0.222685  1.342919  3.922429  1.980512  \n",
      "1       -0.2186  1.449023  4.092545  2.023004  \n",
      "2     -0.161627  1.534987  4.733821  2.175735  \n",
      "3     -0.276645  1.516864  4.529221  2.128197  \n",
      "4      0.028382  1.493784  4.403772  2.098517  \n",
      "...         ...       ...       ...       ...  \n",
      "19195       NaN       NaN       NaN       NaN  \n",
      "19196       NaN       NaN       NaN       NaN  \n",
      "19197       NaN       NaN       NaN       NaN  \n",
      "19198       NaN       NaN       NaN       NaN  \n",
      "19199       NaN       NaN       NaN       NaN  \n",
      "\n",
      "[19200 rows x 10 columns]\n"
     ]
    },
    {
     "data": {
      "application/vnd.jupyter.widget-view+json": {
       "model_id": "96041d33c4734d3dbdcb0da787579940",
       "version_major": 2,
       "version_minor": 0
      },
      "text/plain": [
       "Domains:   0%|          | 0/1 [00:00<?, ?it/s]"
      ]
     },
     "metadata": {},
     "output_type": "display_data"
    },
    {
     "data": {
      "application/vnd.jupyter.widget-view+json": {
       "model_id": "58e7e485d0464fcdbb6e3b7bb5329100",
       "version_major": 2,
       "version_minor": 0
      },
      "text/plain": [
       "Models:   0%|          | 0/2 [00:00<?, ?it/s]"
      ]
     },
     "metadata": {},
     "output_type": "display_data"
    },
    {
     "name": "stdout",
     "output_type": "stream",
     "text": [
      "      Model DA_Cycle Forecast_Hour            Date_Time Variable Level  \\\n",
      "0      ERA5       12             6  2021-08-26 06:00:00    u_anl  1000   \n",
      "1      ERA5       12             6  2021-08-26 06:00:00    u_anl   900   \n",
      "2      ERA5       12             6  2021-08-26 06:00:00    u_anl   800   \n",
      "3      ERA5       12             6  2021-08-26 06:00:00    u_anl   700   \n",
      "4      ERA5       12             6  2021-08-26 06:00:00    u_anl   600   \n",
      "...     ...      ...           ...                  ...      ...   ...   \n",
      "19195   NaN      NaN           NaN                  NaN      NaN   NaN   \n",
      "19196   NaN      NaN           NaN                  NaN      NaN   NaN   \n",
      "19197   NaN      NaN           NaN                  NaN      NaN   NaN   \n",
      "19198   NaN      NaN           NaN                  NaN      NaN   NaN   \n",
      "19199   NaN      NaN           NaN                  NaN      NaN   NaN   \n",
      "\n",
      "            MBE       MAE       MSE      RMSE  \n",
      "0     -0.222721  1.342934  3.922207  1.980456  \n",
      "1     -0.218386  1.448909  4.092066  2.022886  \n",
      "2     -0.161434   1.53482   4.73322  2.175597  \n",
      "3     -0.276992  1.516833  4.529826  2.128339  \n",
      "4      0.027846  1.492598  4.399188  2.097424  \n",
      "...         ...       ...       ...       ...  \n",
      "19195       NaN       NaN       NaN       NaN  \n",
      "19196       NaN       NaN       NaN       NaN  \n",
      "19197       NaN       NaN       NaN       NaN  \n",
      "19198       NaN       NaN       NaN       NaN  \n",
      "19199       NaN       NaN       NaN       NaN  \n",
      "\n",
      "[19200 rows x 10 columns]\n"
     ]
    },
    {
     "data": {
      "application/vnd.jupyter.widget-view+json": {
       "model_id": "fd9278d875814fd389c65d8a9c2bc03a",
       "version_major": 2,
       "version_minor": 0
      },
      "text/plain": [
       "Domains:   0%|          | 0/1 [00:00<?, ?it/s]"
      ]
     },
     "metadata": {},
     "output_type": "display_data"
    },
    {
     "data": {
      "application/vnd.jupyter.widget-view+json": {
       "model_id": "e2c7b53cdab24ec388115f8a4c03af2a",
       "version_major": 2,
       "version_minor": 0
      },
      "text/plain": [
       "Models:   0%|          | 0/2 [00:00<?, ?it/s]"
      ]
     },
     "metadata": {},
     "output_type": "display_data"
    },
    {
     "name": "stdout",
     "output_type": "stream",
     "text": [
      "      Model DA_Cycle Forecast_Hour            Date_Time Variable Level  \\\n",
      "0      ERA5       12             6  2021-08-26 06:00:00    u_anl  1000   \n",
      "1      ERA5       12             6  2021-08-26 06:00:00    u_anl   900   \n",
      "2      ERA5       12             6  2021-08-26 06:00:00    u_anl   800   \n",
      "3      ERA5       12             6  2021-08-26 06:00:00    u_anl   700   \n",
      "4      ERA5       12             6  2021-08-26 06:00:00    u_anl   600   \n",
      "...     ...      ...           ...                  ...      ...   ...   \n",
      "19195   NaN      NaN           NaN                  NaN      NaN   NaN   \n",
      "19196   NaN      NaN           NaN                  NaN      NaN   NaN   \n",
      "19197   NaN      NaN           NaN                  NaN      NaN   NaN   \n",
      "19198   NaN      NaN           NaN                  NaN      NaN   NaN   \n",
      "19199   NaN      NaN           NaN                  NaN      NaN   NaN   \n",
      "\n",
      "            MBE       MAE       MSE      RMSE  \n",
      "0     -0.222703  1.343193  3.923525  1.980789  \n",
      "1     -0.218039  1.449608  4.093803  2.023315  \n",
      "2     -0.161446  1.533947  4.730976  2.175081  \n",
      "3     -0.276978   1.51629  4.528797  2.128097  \n",
      "4      0.028199  1.490541  4.391884  2.095682  \n",
      "...         ...       ...       ...       ...  \n",
      "19195       NaN       NaN       NaN       NaN  \n",
      "19196       NaN       NaN       NaN       NaN  \n",
      "19197       NaN       NaN       NaN       NaN  \n",
      "19198       NaN       NaN       NaN       NaN  \n",
      "19199       NaN       NaN       NaN       NaN  \n",
      "\n",
      "[19200 rows x 10 columns]\n"
     ]
    }
   ],
   "source": [
    "from wrf_reanalysis_comparison import comapre_wrf_reanl_6h\n",
    "\n",
    "n_exp_names = 8\n",
    "data_library_names = ['goes']*n_exp_names\n",
    "dir_cases = ['/GOES-R-observation-error-covariance/02_Ida']*n_exp_names\n",
    "case_names = ['Ida']*n_exp_names\n",
    "exp_names = ['NPB', 'NPB_ASRBC4CLD_CLD_08', 'NPB_ASRBC4CLD_CLD_09', 'NPB_ASRBC4CLD_CLD_10', 'NPB_ASRBC4CLD_CLD_ALL', \\\n",
    "             'NPB_ASRBC4CLD_08', 'NPB_ASRBC4CLD_09', 'NPB_ASRBC4CLD_10']\n",
    "\n",
    "comapre_wrf_reanl_6h(data_library_names=data_library_names,\n",
    "                     dir_cases=dir_cases,\n",
    "                     case_names=case_names,\n",
    "                     exp_names=exp_names)"
   ]
  },
  {
   "cell_type": "code",
   "execution_count": null,
   "metadata": {},
   "outputs": [],
   "source": []
  }
 ],
 "metadata": {
  "kernelspec": {
   "display_name": "Python 3 (ipykernel)",
   "language": "python",
   "name": "python3"
  },
  "language_info": {
   "codemirror_mode": {
    "name": "ipython",
    "version": 3
   },
   "file_extension": ".py",
   "mimetype": "text/x-python",
   "name": "python",
   "nbconvert_exporter": "python",
   "pygments_lexer": "ipython3",
   "version": "3.9.18"
  }
 },
 "nbformat": 4,
 "nbformat_minor": 5
}
