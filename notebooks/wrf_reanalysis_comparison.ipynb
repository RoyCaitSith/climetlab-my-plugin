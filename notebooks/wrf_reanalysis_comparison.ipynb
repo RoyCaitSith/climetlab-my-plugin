{
 "cells": [
  {
   "cell_type": "markdown",
   "id": "524de3a4",
   "metadata": {},
   "source": [
    "# Compare WRF analysis with Reanalysis data"
   ]
  },
  {
   "cell_type": "code",
   "execution_count": 2,
   "id": "e7dfb7a5",
   "metadata": {},
   "outputs": [
    {
     "data": {
      "application/vnd.jupyter.widget-view+json": {
       "model_id": "8791b03c32214a6b96d3edc38e9682cd",
       "version_major": 2,
       "version_minor": 0
      },
      "text/plain": [
       "Cases: 0/8 files | 00:00<?"
      ]
     },
     "metadata": {},
     "output_type": "display_data"
    },
    {
     "data": {
      "application/vnd.jupyter.widget-view+json": {
       "model_id": "face47bbd3194bc7b4351ea6a0319c3f",
       "version_major": 2,
       "version_minor": 0
      },
      "text/plain": [
       "Domains:   0%|          | 0/1 [00:00<?, ?it/s]"
      ]
     },
     "metadata": {},
     "output_type": "display_data"
    },
    {
     "data": {
      "application/vnd.jupyter.widget-view+json": {
       "model_id": "4199e08892d84566897d0deab556168a",
       "version_major": 2,
       "version_minor": 0
      },
      "text/plain": [
       "Models:   0%|          | 0/2 [00:00<?, ?it/s]"
      ]
     },
     "metadata": {},
     "output_type": "display_data"
    },
    {
     "name": "stdout",
     "output_type": "stream",
     "text": [
      "      Model DA_Cycle Forecast_Hour            Date_Time Variable Level  \\\n",
      "0      ERA5        1             6  2021-08-26 06:00:00        u  1000   \n",
      "1      ERA5        1             6  2021-08-26 06:00:00        u   900   \n",
      "2      ERA5        1             6  2021-08-26 06:00:00        u   800   \n",
      "3      ERA5        1             6  2021-08-26 06:00:00        u   700   \n",
      "4      ERA5        1             6  2021-08-26 06:00:00        u   600   \n",
      "...     ...      ...           ...                  ...      ...   ...   \n",
      "38395   NaN      NaN           NaN                  NaN      NaN   NaN   \n",
      "38396   NaN      NaN           NaN                  NaN      NaN   NaN   \n",
      "38397   NaN      NaN           NaN                  NaN      NaN   NaN   \n",
      "38398   NaN      NaN           NaN                  NaN      NaN   NaN   \n",
      "38399   NaN      NaN           NaN                  NaN      NaN   NaN   \n",
      "\n",
      "            MBE       MAE       MSE      RMSE  \n",
      "0     -0.222863  1.343057  3.921998  1.980403  \n",
      "1     -0.218609  1.448985  4.092352  2.022956  \n",
      "2      -0.16166  1.534604  4.732785  2.175497  \n",
      "3     -0.277147  1.516828  4.529172  2.128185  \n",
      "4      0.027303  1.494816   4.40805  2.099536  \n",
      "...         ...       ...       ...       ...  \n",
      "38395       NaN       NaN       NaN       NaN  \n",
      "38396       NaN       NaN       NaN       NaN  \n",
      "38397       NaN       NaN       NaN       NaN  \n",
      "38398       NaN       NaN       NaN       NaN  \n",
      "38399       NaN       NaN       NaN       NaN  \n",
      "\n",
      "[38400 rows x 10 columns]\n"
     ]
    },
    {
     "data": {
      "application/vnd.jupyter.widget-view+json": {
       "model_id": "81f73d5b96b446bc9efb77b7d7fd8935",
       "version_major": 2,
       "version_minor": 0
      },
      "text/plain": [
       "Domains:   0%|          | 0/1 [00:00<?, ?it/s]"
      ]
     },
     "metadata": {},
     "output_type": "display_data"
    },
    {
     "data": {
      "application/vnd.jupyter.widget-view+json": {
       "model_id": "39611ffa9c7d478db5dd290e0ef73a52",
       "version_major": 2,
       "version_minor": 0
      },
      "text/plain": [
       "Models:   0%|          | 0/2 [00:00<?, ?it/s]"
      ]
     },
     "metadata": {},
     "output_type": "display_data"
    },
    {
     "name": "stdout",
     "output_type": "stream",
     "text": [
      "      Model DA_Cycle Forecast_Hour            Date_Time Variable Level  \\\n",
      "0      ERA5        1             6  2021-08-26 06:00:00        u  1000   \n",
      "1      ERA5        1             6  2021-08-26 06:00:00        u   900   \n",
      "2      ERA5        1             6  2021-08-26 06:00:00        u   800   \n",
      "3      ERA5        1             6  2021-08-26 06:00:00        u   700   \n",
      "4      ERA5        1             6  2021-08-26 06:00:00        u   600   \n",
      "...     ...      ...           ...                  ...      ...   ...   \n",
      "38395   NaN      NaN           NaN                  NaN      NaN   NaN   \n",
      "38396   NaN      NaN           NaN                  NaN      NaN   NaN   \n",
      "38397   NaN      NaN           NaN                  NaN      NaN   NaN   \n",
      "38398   NaN      NaN           NaN                  NaN      NaN   NaN   \n",
      "38399   NaN      NaN           NaN                  NaN      NaN   NaN   \n",
      "\n",
      "            MBE       MAE       MSE      RMSE  \n",
      "0     -0.222863  1.343057  3.921998  1.980403  \n",
      "1     -0.218609  1.448985  4.092352  2.022956  \n",
      "2      -0.16166  1.534604  4.732785  2.175497  \n",
      "3     -0.277147  1.516828  4.529172  2.128185  \n",
      "4      0.027303  1.494816   4.40805  2.099536  \n",
      "...         ...       ...       ...       ...  \n",
      "38395       NaN       NaN       NaN       NaN  \n",
      "38396       NaN       NaN       NaN       NaN  \n",
      "38397       NaN       NaN       NaN       NaN  \n",
      "38398       NaN       NaN       NaN       NaN  \n",
      "38399       NaN       NaN       NaN       NaN  \n",
      "\n",
      "[38400 rows x 10 columns]\n"
     ]
    },
    {
     "data": {
      "application/vnd.jupyter.widget-view+json": {
       "model_id": "7c6b845187f8447bb13a5c6050927525",
       "version_major": 2,
       "version_minor": 0
      },
      "text/plain": [
       "Domains:   0%|          | 0/1 [00:00<?, ?it/s]"
      ]
     },
     "metadata": {},
     "output_type": "display_data"
    },
    {
     "data": {
      "application/vnd.jupyter.widget-view+json": {
       "model_id": "2c9e2ce7298145808779698da75e39ad",
       "version_major": 2,
       "version_minor": 0
      },
      "text/plain": [
       "Models:   0%|          | 0/2 [00:00<?, ?it/s]"
      ]
     },
     "metadata": {},
     "output_type": "display_data"
    }
   ],
   "source": [
    "from wrf_reanalysis_comparison import comapre_wrf_reanl_6h\n",
    "\n",
    "n_exp_names = 8\n",
    "data_library_names = ['goes']*n_exp_names\n",
    "dir_cases = ['/GOES-R-observation-error-covariance/02_Ida']*n_exp_names\n",
    "case_names = ['Ida']*n_exp_names\n",
    "exp_names = ['NPB', 'NPB_ASRBC4CLD_CLD_08', 'NPB_ASRBC4CLD_CLD_09', 'NPB_ASRBC4CLD_CLD_10', 'NPB_ASRBC4CLD_CLD_ALL', \\\n",
    "             'NPB_ASRBC4CLD_08', 'NPB_ASRBC4CLD_09', 'NPB_ASRBC4CLD_10']\n",
    "\n",
    "comapre_wrf_reanl_6h(data_library_names=data_library_names,\n",
    "                     dir_cases=dir_cases,\n",
    "                     case_names=case_names,\n",
    "                     exp_names=exp_names)"
   ]
  },
  {
   "cell_type": "code",
   "execution_count": null,
   "metadata": {},
   "outputs": [],
   "source": []
  }
 ],
 "metadata": {
  "kernelspec": {
   "display_name": "Python 3 (ipykernel)",
   "language": "python",
   "name": "python3"
  },
  "language_info": {
   "codemirror_mode": {
    "name": "ipython",
    "version": 3
   },
   "file_extension": ".py",
   "mimetype": "text/x-python",
   "name": "python",
   "nbconvert_exporter": "python",
   "pygments_lexer": "ipython3",
   "version": "3.9.18"
  }
 },
 "nbformat": 4,
 "nbformat_minor": 5
}
