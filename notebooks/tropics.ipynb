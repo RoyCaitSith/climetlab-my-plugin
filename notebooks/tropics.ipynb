{
 "cells": [
  {
   "attachments": {},
   "cell_type": "markdown",
   "id": "0a98ed75-a6bf-48d4-9f7d-4feb289d7271",
   "metadata": {},
   "source": [
    "# Create bufr temp files for Different TROPICS version"
   ]
  },
  {
   "cell_type": "code",
   "execution_count": null,
   "id": "3928d53f",
   "metadata": {},
   "outputs": [],
   "source": [
    "# from tropics import create_TROPICS_bufr_temp\n",
    "\n",
    "# create_TROPICS_bufr_temp(data_library_name='tropics',\n",
    "#                          dir_case='/05_TROPICS/11_cycling_da_tropics',\n",
    "#                          case_name='Ida',\n",
    "#                          version='V2_SEA_CS')"
   ]
  },
  {
   "cell_type": "markdown",
   "id": "5dd1b671",
   "metadata": {},
   "source": [
    "# Create bufr for TROPICS"
   ]
  },
  {
   "cell_type": "code",
   "execution_count": null,
   "id": "30b136eb",
   "metadata": {},
   "outputs": [],
   "source": [
    "from tropics import create_TROPICS_bufr\n",
    "\n",
    "create_TROPICS_bufr(data_library_name='tropics',\n",
    "                    dir_case='/05_TROPICS/11_cycling_da_tropics',\n",
    "                    case_name='Ida',\n",
    "                    version='V2_SEA_CS')"
   ]
  },
  {
   "cell_type": "markdown",
   "id": "30e73357",
   "metadata": {},
   "source": [
    "# Calculate TPW for TROPICS"
   ]
  },
  {
   "cell_type": "code",
   "execution_count": null,
   "id": "cc2c8cde",
   "metadata": {},
   "outputs": [],
   "source": [
    "# from tropics import calculate_TROPICS_tpw\n",
    "\n",
    "# calculate_TROPICS_tpw(data_library_name='tropics',\n",
    "#                       dir_case='/05_TROPICS/11_cycling_da_tropics',\n",
    "#                       case_name='Ida',\n",
    "#                       version='V1_SEA_CS')"
   ]
  },
  {
   "cell_type": "markdown",
   "id": "4dda6453",
   "metadata": {},
   "source": [
    "# Draw TPW for TROPICS"
   ]
  },
  {
   "cell_type": "code",
   "execution_count": null,
   "id": "70933ccb",
   "metadata": {},
   "outputs": [],
   "source": [
    "from tropics import draw_TROPICS_tpw\n",
    "\n",
    "n_exp = 1\n",
    "data_library_names = ['tropics']*n_exp\n",
    "dir_cases = ['/05_TROPICS/11_cycling_da_tropics']*n_exp\n",
    "case_names = ['Ida']*n_exp\n",
    "versions = ['V1_SEA_AS', 'V2_SEA_AS', 'V1_SEA_CS', 'V2_SEA_CS']*n_exp\n",
    "ref_exp_names = ['CONV']*n_exp\n",
    "domains = ['d01']*n_exp\n",
    "projections = ['cyl']*n_exp\n",
    "\n",
    "draw_TROPICS_tpw(data_library_names=data_library_names,\n",
    "                 dir_cases=dir_cases,\n",
    "                 case_names=case_names,\n",
    "                 versions=versions,\n",
    "                 ref_exp_names=ref_exp_names,\n",
    "                 domains=domains,\n",
    "                 projections=projections)"
   ]
  },
  {
   "attachments": {},
   "cell_type": "markdown",
   "id": "ad049bf7-bfaa-4b4c-bee7-60aeeac56812",
   "metadata": {},
   "source": [
    "## Calculate CDF and the threshold of cloudy region"
   ]
  },
  {
   "cell_type": "code",
   "execution_count": null,
   "id": "86a1ae9b-0743-41f1-80ad-277312349020",
   "metadata": {},
   "outputs": [],
   "source": [
    "from tropics import draw_TROPICS_tpw_cdf\n",
    "\n",
    "n_exp = 4\n",
    "data_library_names = ['tropics']*n_exp\n",
    "dir_cases = ['/05_TROPICS/11_cycling_da_tropics']*n_exp\n",
    "case_names = ['Ida']*n_exp\n",
    "versions = ['V1_SEA_AS', 'V2_SEA_AS', 'V1_SEA_CS', 'V2_SEA_CS']\n",
    "\n",
    "draw_TROPICS_tpw_cdf(data_library_names=data_library_names,\n",
    "                     dir_cases=dir_cases,\n",
    "                     case_names=case_names,\n",
    "                     versions=versions)"
   ]
  },
  {
   "cell_type": "code",
   "execution_count": null,
   "id": "5c7914cf",
   "metadata": {},
   "outputs": [],
   "source": []
  }
 ],
 "metadata": {
  "kernelspec": {
   "display_name": "Python 3 (ipykernel)",
   "language": "python",
   "name": "python3"
  },
  "language_info": {
   "codemirror_mode": {
    "name": "ipython",
    "version": 3
   },
   "file_extension": ".py",
   "mimetype": "text/x-python",
   "name": "python",
   "nbconvert_exporter": "python",
   "pygments_lexer": "ipython3",
   "version": "3.10.9"
  }
 },
 "nbformat": 4,
 "nbformat_minor": 5
}
