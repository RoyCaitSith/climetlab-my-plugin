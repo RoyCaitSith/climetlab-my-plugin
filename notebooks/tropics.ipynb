{
 "cells": [
  {
   "attachments": {},
   "cell_type": "markdown",
   "id": "0a98ed75-a6bf-48d4-9f7d-4feb289d7271",
   "metadata": {},
   "source": [
    "# Create bufr temp files for Different TROPICS version"
   ]
  },
  {
   "cell_type": "code",
   "execution_count": null,
   "id": "3928d53f",
   "metadata": {},
   "outputs": [],
   "source": [
    "# from tropics import create_TROPICS_bufr_temp\n",
    "\n",
    "# create_TROPICS_bufr_temp(data_library_name='tropics',\n",
    "#                          dir_case='/05_TROPICS/11_cycling_da_tropics',\n",
    "#                          case_name='Ida',\n",
    "#                          version='V1_SEA_AS')"
   ]
  },
  {
   "cell_type": "markdown",
   "id": "5dd1b671",
   "metadata": {},
   "source": [
    "# Create bufr for TROPICS"
   ]
  },
  {
   "cell_type": "code",
   "execution_count": null,
   "id": "30b136eb",
   "metadata": {},
   "outputs": [],
   "source": [
    "from tropics import create_TROPICS_bufr\n",
    "\n",
    "create_TROPICS_bufr(data_library_name='tropics',\n",
    "                    dir_case='/05_TROPICS/11_cycling_da_tropics',\n",
    "                    case_name='Ida',\n",
    "                    version='V2_SEA_AS')"
   ]
  },
  {
   "attachments": {},
   "cell_type": "markdown",
   "id": "ad049bf7-bfaa-4b4c-bee7-60aeeac56812",
   "metadata": {},
   "source": [
    "## Calculate CDF and the threshold of cloudy region"
   ]
  },
  {
   "cell_type": "code",
   "execution_count": null,
   "id": "86a1ae9b-0743-41f1-80ad-277312349020",
   "metadata": {},
   "outputs": [],
   "source": [
    "# from tropics import draw_TROPICS_tpw_cdf\n",
    "\n",
    "# draw_TROPICS_tpw_cdf(dir_cases=['/05_TROPICS/05_cycling_da', '/05_TROPICS/10_cycling_da_tropics_v3'],\n",
    "#                      case_names=['Ida', 'Ida'])"
   ]
  },
  {
   "attachments": {},
   "cell_type": "markdown",
   "id": "a81eb321-de28-41ce-bea6-61446c6d741a",
   "metadata": {},
   "source": [
    "## Draw total precipitable water"
   ]
  },
  {
   "cell_type": "code",
   "execution_count": null,
   "id": "646c0b4d-7f1c-45ac-8f5a-477b05e364bf",
   "metadata": {},
   "outputs": [],
   "source": [
    "# from tropics import draw_TROPICS_tpw\n",
    "\n",
    "# draw_TROPICS_tpw(dir_cases=['/05_TROPICS/05_cycling_da', '/05_TROPICS/10_cycling_da_tropics_v3'],\n",
    "#                  case_names=['Ida', 'Ida'])"
   ]
  }
 ],
 "metadata": {
  "kernelspec": {
   "display_name": "Python 3 (ipykernel)",
   "language": "python",
   "name": "python3"
  },
  "language_info": {
   "codemirror_mode": {
    "name": "ipython",
    "version": 3
   },
   "file_extension": ".py",
   "mimetype": "text/x-python",
   "name": "python",
   "nbconvert_exporter": "python",
   "pygments_lexer": "ipython3",
   "version": "3.10.9"
  }
 },
 "nbformat": 4,
 "nbformat_minor": 5
}
