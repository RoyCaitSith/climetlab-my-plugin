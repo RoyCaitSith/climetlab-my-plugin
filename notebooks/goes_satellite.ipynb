{
 "cells": [
  {
   "cell_type": "markdown",
   "id": "13ece8d0",
   "metadata": {},
   "source": [
    "# Download GOES-R data by specifying the date"
   ]
  },
  {
   "cell_type": "code",
   "execution_count": null,
   "id": "191fe0ce",
   "metadata": {},
   "outputs": [],
   "source": [
    "#!pip install google-cloud-storage\n",
    "#find . -type f -iname \"*.nc\" | wc -l"
   ]
  },
  {
   "cell_type": "code",
   "execution_count": null,
   "id": "a2f6dbf8-d8bb-429a-a351-8d336309f4d0",
   "metadata": {},
   "outputs": [],
   "source": [
    "# from datetime import datetime\n",
    "# from goes_satellite import download_goes_date\n",
    "\n",
    "# dir_GOES = '/uufs/chpc.utah.edu/common/home/zpu-group30/cfeng/CPEX/06_CV/data/GOES'\n",
    "# download_start_time = datetime(2022, 10, 1, 0, 0, 0)\n",
    "# download_end_time = datetime(2022, 10, 3, 0, 0, 0)\n",
    "# time_interval = 6\n",
    "# n_days = int((download_end_time-download_start_time).days+1)\n",
    "# n_days\n",
    "\n",
    "# download_goes_date(download_start_time, n_days, dir_GOES, time_interval)"
   ]
  },
  {
   "cell_type": "markdown",
   "id": "a9b00705",
   "metadata": {},
   "source": [
    "# Download GOES-R data by specifying the case"
   ]
  },
  {
   "cell_type": "code",
   "execution_count": 1,
   "id": "c896ecad-2ae6-40bf-8ef0-82900b1ccef0",
   "metadata": {},
   "outputs": [
    {
     "data": {
      "application/vnd.jupyter.widget-view+json": {
       "model_id": "793ec153f7b740b69d68d548a792d689",
       "version_major": 2,
       "version_minor": 0
      },
      "text/plain": [
       "Cases: 0/1 files | 00:00<?"
      ]
     },
     "metadata": {},
     "output_type": "display_data"
    },
    {
     "data": {
      "application/vnd.jupyter.widget-view+json": {
       "model_id": "464c46f582d9456489a1dab7573562cb",
       "version_major": 2,
       "version_minor": 0
      },
      "text/plain": [
       "DA Cycles: 0/9 da cycles | 00:00<?"
      ]
     },
     "metadata": {},
     "output_type": "display_data"
    },
    {
     "data": {
      "application/vnd.jupyter.widget-view+json": {
       "model_id": "b6cb3b5810704427bf27d10b589c1292",
       "version_major": 2,
       "version_minor": 0
      },
      "text/plain": [
       "Files: 0/None files | 00:00<?"
      ]
     },
     "metadata": {},
     "output_type": "display_data"
    },
    {
     "data": {
      "application/vnd.jupyter.widget-view+json": {
       "model_id": "e959e259459c48feb930acbcb2034f3a",
       "version_major": 2,
       "version_minor": 0
      },
      "text/plain": [
       "Files: 0/None files | 00:00<?"
      ]
     },
     "metadata": {},
     "output_type": "display_data"
    },
    {
     "data": {
      "application/vnd.jupyter.widget-view+json": {
       "model_id": "708846d3e2c742db8b9d8f6b51094002",
       "version_major": 2,
       "version_minor": 0
      },
      "text/plain": [
       "Files: 0/None files | 00:00<?"
      ]
     },
     "metadata": {},
     "output_type": "display_data"
    },
    {
     "data": {
      "application/vnd.jupyter.widget-view+json": {
       "model_id": "020d5d286cc0424898d3bd556a4b2598",
       "version_major": 2,
       "version_minor": 0
      },
      "text/plain": [
       "Files: 0/None files | 00:00<?"
      ]
     },
     "metadata": {},
     "output_type": "display_data"
    },
    {
     "data": {
      "application/vnd.jupyter.widget-view+json": {
       "model_id": "65b6b5f58bed4a6a90decba9771e02c9",
       "version_major": 2,
       "version_minor": 0
      },
      "text/plain": [
       "Files: 0/None files | 00:00<?"
      ]
     },
     "metadata": {},
     "output_type": "display_data"
    },
    {
     "data": {
      "application/vnd.jupyter.widget-view+json": {
       "model_id": "354274df7d184d1096ab90499a2d5f0c",
       "version_major": 2,
       "version_minor": 0
      },
      "text/plain": [
       "Files: 0/None files | 00:00<?"
      ]
     },
     "metadata": {},
     "output_type": "display_data"
    },
    {
     "data": {
      "application/vnd.jupyter.widget-view+json": {
       "model_id": "b90d772a69e1482c896fdc49a67a6fc4",
       "version_major": 2,
       "version_minor": 0
      },
      "text/plain": [
       "Files: 0/None files | 00:00<?"
      ]
     },
     "metadata": {},
     "output_type": "display_data"
    },
    {
     "data": {
      "application/vnd.jupyter.widget-view+json": {
       "model_id": "97a526f1f33e4410974a386bbaac014b",
       "version_major": 2,
       "version_minor": 0
      },
      "text/plain": [
       "Files: 0/None files | 00:00<?"
      ]
     },
     "metadata": {},
     "output_type": "display_data"
    },
    {
     "data": {
      "application/vnd.jupyter.widget-view+json": {
       "model_id": "0f905854e44b4c87a26c1c8f3e9d9da2",
       "version_major": 2,
       "version_minor": 0
      },
      "text/plain": [
       "Files: 0/None files | 00:00<?"
      ]
     },
     "metadata": {},
     "output_type": "display_data"
    },
    {
     "data": {
      "application/vnd.jupyter.widget-view+json": {
       "model_id": "f6970c359a1a4492b3ad3cb213a9c374",
       "version_major": 2,
       "version_minor": 0
      },
      "text/plain": [
       "Forecasts: 0/21 forecasts | 00:00<?"
      ]
     },
     "metadata": {},
     "output_type": "display_data"
    },
    {
     "data": {
      "application/vnd.jupyter.widget-view+json": {
       "model_id": "4f6118d124244408afe34dc52579d4d9",
       "version_major": 2,
       "version_minor": 0
      },
      "text/plain": [
       "Files: 0/None files | 00:00<?"
      ]
     },
     "metadata": {},
     "output_type": "display_data"
    },
    {
     "data": {
      "application/vnd.jupyter.widget-view+json": {
       "model_id": "1e41c4cee0af4e7795d37cf2aa1b4ffd",
       "version_major": 2,
       "version_minor": 0
      },
      "text/plain": [
       "Files: 0/None files | 00:00<?"
      ]
     },
     "metadata": {},
     "output_type": "display_data"
    },
    {
     "data": {
      "application/vnd.jupyter.widget-view+json": {
       "model_id": "3810d88bf73e4ca1879e440f1a325904",
       "version_major": 2,
       "version_minor": 0
      },
      "text/plain": [
       "Files: 0/None files | 00:00<?"
      ]
     },
     "metadata": {},
     "output_type": "display_data"
    },
    {
     "data": {
      "application/vnd.jupyter.widget-view+json": {
       "model_id": "d0015d6d751941eda8dc2e7e54f84007",
       "version_major": 2,
       "version_minor": 0
      },
      "text/plain": [
       "Files: 0/None files | 00:00<?"
      ]
     },
     "metadata": {},
     "output_type": "display_data"
    },
    {
     "data": {
      "application/vnd.jupyter.widget-view+json": {
       "model_id": "c7aa420edb224538903f8f898d15d1c5",
       "version_major": 2,
       "version_minor": 0
      },
      "text/plain": [
       "Files: 0/None files | 00:00<?"
      ]
     },
     "metadata": {},
     "output_type": "display_data"
    },
    {
     "data": {
      "application/vnd.jupyter.widget-view+json": {
       "model_id": "4fb84efb09fe4ec8bd0b91e2fe062e62",
       "version_major": 2,
       "version_minor": 0
      },
      "text/plain": [
       "Files: 0/None files | 00:00<?"
      ]
     },
     "metadata": {},
     "output_type": "display_data"
    },
    {
     "data": {
      "application/vnd.jupyter.widget-view+json": {
       "model_id": "49dc9c5fcf5d4879ba304818e266a5b6",
       "version_major": 2,
       "version_minor": 0
      },
      "text/plain": [
       "Files: 0/None files | 00:00<?"
      ]
     },
     "metadata": {},
     "output_type": "display_data"
    },
    {
     "data": {
      "application/vnd.jupyter.widget-view+json": {
       "model_id": "d7b9a3868ac6468a8ef70b3f541b3c67",
       "version_major": 2,
       "version_minor": 0
      },
      "text/plain": [
       "Files: 0/None files | 00:00<?"
      ]
     },
     "metadata": {},
     "output_type": "display_data"
    },
    {
     "data": {
      "application/vnd.jupyter.widget-view+json": {
       "model_id": "0ed5501170e346e08204f3f5e1df05a4",
       "version_major": 2,
       "version_minor": 0
      },
      "text/plain": [
       "Files: 0/None files | 00:00<?"
      ]
     },
     "metadata": {},
     "output_type": "display_data"
    },
    {
     "data": {
      "application/vnd.jupyter.widget-view+json": {
       "model_id": "84bd852845d147ba90d2a7fe1c4c59d0",
       "version_major": 2,
       "version_minor": 0
      },
      "text/plain": [
       "Files: 0/None files | 00:00<?"
      ]
     },
     "metadata": {},
     "output_type": "display_data"
    },
    {
     "data": {
      "application/vnd.jupyter.widget-view+json": {
       "model_id": "cf12981d0240476ba9e06aa4253e9b76",
       "version_major": 2,
       "version_minor": 0
      },
      "text/plain": [
       "Files: 0/None files | 00:00<?"
      ]
     },
     "metadata": {},
     "output_type": "display_data"
    },
    {
     "data": {
      "application/vnd.jupyter.widget-view+json": {
       "model_id": "723924bb2edc4d89bc1cde4a8f79964d",
       "version_major": 2,
       "version_minor": 0
      },
      "text/plain": [
       "Files: 0/None files | 00:00<?"
      ]
     },
     "metadata": {},
     "output_type": "display_data"
    },
    {
     "data": {
      "application/vnd.jupyter.widget-view+json": {
       "model_id": "d4dde03585654ff195cbe5d61d33ede4",
       "version_major": 2,
       "version_minor": 0
      },
      "text/plain": [
       "Files: 0/None files | 00:00<?"
      ]
     },
     "metadata": {},
     "output_type": "display_data"
    },
    {
     "data": {
      "application/vnd.jupyter.widget-view+json": {
       "model_id": "ce8c50f750e243e7a991dc069fd26729",
       "version_major": 2,
       "version_minor": 0
      },
      "text/plain": [
       "Files: 0/None files | 00:00<?"
      ]
     },
     "metadata": {},
     "output_type": "display_data"
    },
    {
     "data": {
      "application/vnd.jupyter.widget-view+json": {
       "model_id": "734294e9909b4702a1b98ed37fcd6f42",
       "version_major": 2,
       "version_minor": 0
      },
      "text/plain": [
       "Files: 0/None files | 00:00<?"
      ]
     },
     "metadata": {},
     "output_type": "display_data"
    },
    {
     "data": {
      "application/vnd.jupyter.widget-view+json": {
       "model_id": "20b0950a81f54884b1be2040fee39d81",
       "version_major": 2,
       "version_minor": 0
      },
      "text/plain": [
       "Files: 0/None files | 00:00<?"
      ]
     },
     "metadata": {},
     "output_type": "display_data"
    },
    {
     "data": {
      "application/vnd.jupyter.widget-view+json": {
       "model_id": "2d6530f5f9884dd985ebbacd5c5c16ef",
       "version_major": 2,
       "version_minor": 0
      },
      "text/plain": [
       "Files: 0/None files | 00:00<?"
      ]
     },
     "metadata": {},
     "output_type": "display_data"
    },
    {
     "data": {
      "application/vnd.jupyter.widget-view+json": {
       "model_id": "1f02da75cf004299ba90b9ffc5a658a0",
       "version_major": 2,
       "version_minor": 0
      },
      "text/plain": [
       "Files: 0/None files | 00:00<?"
      ]
     },
     "metadata": {},
     "output_type": "display_data"
    },
    {
     "data": {
      "application/vnd.jupyter.widget-view+json": {
       "model_id": "a78fde99eb7b4a0abbf0b11ec8e22158",
       "version_major": 2,
       "version_minor": 0
      },
      "text/plain": [
       "Files: 0/None files | 00:00<?"
      ]
     },
     "metadata": {},
     "output_type": "display_data"
    },
    {
     "data": {
      "application/vnd.jupyter.widget-view+json": {
       "model_id": "9198cbd6f08942448e8bd77cb1a552f2",
       "version_major": 2,
       "version_minor": 0
      },
      "text/plain": [
       "Files: 0/None files | 00:00<?"
      ]
     },
     "metadata": {},
     "output_type": "display_data"
    },
    {
     "data": {
      "application/vnd.jupyter.widget-view+json": {
       "model_id": "64eacec129054ee3afecdc57bb2fd28d",
       "version_major": 2,
       "version_minor": 0
      },
      "text/plain": [
       "Files: 0/None files | 00:00<?"
      ]
     },
     "metadata": {},
     "output_type": "display_data"
    }
   ],
   "source": [
    "from goes_satellite import download_goes_case\n",
    "\n",
    "download_goes_case(data_library_names=['tropics'],\n",
    "                   dir_cases=['/TROPICS/12_Sam_Cycling_DA'],\n",
    "                   case_names=['Sam'])"
   ]
  },
  {
   "cell_type": "markdown",
   "id": "b10241b5",
   "metadata": {},
   "source": [
    "# Draw GOES-R, flight track, and environment\n",
    "We can apply the GOES-R images to reveal the processes of the AEWs or Hurricanes."
   ]
  },
  {
   "cell_type": "code",
   "execution_count": null,
   "id": "0df3af79",
   "metadata": {},
   "outputs": [],
   "source": [
    "# import numpy as np\n",
    "# from datetime import datetime\n",
    "# from goes_satellite import draw_goes_images\n",
    "\n",
    "# draw_goes_images(data_library_name='cpex',\n",
    "#                  dir_case='/CPEX/06_CV',\n",
    "#                  case_name='CV',\n",
    "#                  channel=10,\n",
    "#                  goes_levels=np.arange(195.0, 265.1, 1.0),\n",
    "#                  flight_track=False,\n",
    "#                  anl_start_time=datetime(2022, 10, 2, 18, 0, 0),\n",
    "#                  anl_end_time=datetime(2022, 10, 2, 18, 0, 0),\n",
    "#                  time_interval=1.0,\n",
    "#                  region_type='d01')"
   ]
  },
  {
   "cell_type": "code",
   "execution_count": null,
   "id": "d86a8b22",
   "metadata": {},
   "outputs": [],
   "source": []
  }
 ],
 "metadata": {
  "kernelspec": {
   "display_name": "Python 3 (ipykernel)",
   "language": "python",
   "name": "python3"
  },
  "language_info": {
   "codemirror_mode": {
    "name": "ipython",
    "version": 3
   },
   "file_extension": ".py",
   "mimetype": "text/x-python",
   "name": "python",
   "nbconvert_exporter": "python",
   "pygments_lexer": "ipython3",
   "version": "3.9.18"
  }
 },
 "nbformat": 4,
 "nbformat_minor": 5
}
