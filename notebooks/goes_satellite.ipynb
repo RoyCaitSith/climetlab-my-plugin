{
 "cells": [
  {
   "cell_type": "markdown",
   "id": "13ece8d0",
   "metadata": {},
   "source": [
    "# Download GOES-R data by specifying the date"
   ]
  },
  {
   "cell_type": "code",
   "execution_count": null,
   "id": "191fe0ce",
   "metadata": {},
   "outputs": [],
   "source": [
    "#!pip install google-cloud-storage\n",
    "#find . -type f -iname \"*.nc\" | wc -l"
   ]
  },
  {
   "cell_type": "code",
   "execution_count": null,
   "id": "a2f6dbf8-d8bb-429a-a351-8d336309f4d0",
   "metadata": {},
   "outputs": [],
   "source": [
    "# from datetime import datetime\n",
    "# from goes_satellite import download_goes_date\n",
    "\n",
    "# dir_GOES = '/uufs/chpc.utah.edu/common/home/zpu-group30/cfeng/GOES-R-observation-error-covariance/02_Ida/data/GOES'\n",
    "# download_start_time = datetime(2021, 8, 24, 0, 0, 0)\n",
    "# download_end_time = datetime(2021, 8, 25, 0, 0, 0)\n",
    "# time_interval = 6\n",
    "# n_days = int((download_end_time-download_start_time).days+1)\n",
    "# n_days\n",
    "\n",
    "# download_goes_date(download_start_time, n_days, dir_GOES, time_interval)"
   ]
  },
  {
   "cell_type": "markdown",
   "id": "a9b00705",
   "metadata": {},
   "source": [
    "# Download GOES-R data by specifying the case"
   ]
  },
  {
   "cell_type": "code",
   "execution_count": null,
   "id": "c896ecad-2ae6-40bf-8ef0-82900b1ccef0",
   "metadata": {},
   "outputs": [],
   "source": [
    "# from goes_satellite import download_goes_case\n",
    "\n",
    "# download_goes_case(data_library_names=['cpex'],\n",
    "#                    dir_cases=['/CPEX/05_CV_RF07_AEW06'],\n",
    "#                    case_names=['AEW06'])"
   ]
  },
  {
   "cell_type": "markdown",
   "id": "b10241b5",
   "metadata": {},
   "source": [
    "# Draw GOES-R, flight track, and environment\n",
    "We can apply the GOES-R images to reveal the processes of the AEWs or Hurricanes."
   ]
  },
  {
   "cell_type": "code",
   "execution_count": null,
   "id": "0df3af79",
   "metadata": {},
   "outputs": [],
   "source": [
    "# import numpy as np\n",
    "# from datetime import datetime\n",
    "# from goes_satellite import draw_goes_images\n",
    "\n",
    "# draw_goes_images(data_library_name='cpex',\n",
    "#                  dir_case='/08_CPEX/01_CV_RF07_AEW06_IAN',\n",
    "#                  case_name='Ian',\n",
    "#                  channel=8,\n",
    "#                  goes_levels=np.arange(195.0, 265.1, 1.0),\n",
    "#                  flight_track=True,\n",
    "#                  anl_start_time=datetime(2022, 9, 18,  12, 0, 0),\n",
    "#                  anl_end_time=datetime(2022, 9, 18,  12, 0, 0),\n",
    "#                  time_interval=1.0,\n",
    "#                  region_type='d02')"
   ]
  },
  {
   "cell_type": "code",
   "execution_count": null,
   "id": "d86a8b22",
   "metadata": {},
   "outputs": [],
   "source": []
  }
 ],
 "metadata": {
  "kernelspec": {
   "display_name": "Python 3 (ipykernel)",
   "language": "python",
   "name": "python3"
  },
  "language_info": {
   "codemirror_mode": {
    "name": "ipython",
    "version": 3
   },
   "file_extension": ".py",
   "mimetype": "text/x-python",
   "name": "python",
   "nbconvert_exporter": "python",
   "pygments_lexer": "ipython3",
   "version": "3.9.18"
  }
 },
 "nbformat": 4,
 "nbformat_minor": 5
}
