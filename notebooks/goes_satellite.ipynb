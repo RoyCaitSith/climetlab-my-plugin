{
 "cells": [
  {
   "cell_type": "markdown",
   "id": "13ece8d0",
   "metadata": {},
   "source": [
    "# Download GOES-R data by specifying the date"
   ]
  },
  {
   "cell_type": "code",
   "execution_count": null,
   "id": "191fe0ce",
   "metadata": {},
   "outputs": [],
   "source": [
    "#!pip install google-cloud-storage\n",
    "#find . -type f -iname \"*.nc\" | wc -l"
   ]
  },
  {
   "cell_type": "code",
   "execution_count": null,
   "id": "a2f6dbf8-d8bb-429a-a351-8d336309f4d0",
   "metadata": {},
   "outputs": [],
   "source": [
    "from datetime import datetime\n",
    "from goes_satellite import download_goes_date\n",
    "\n",
    "dir_GOES = '/uufs/chpc.utah.edu/common/home/zpu-group16/cfeng/02_GOES_Bias_Correction/27_ChCor/create_bufr/GOES-R'\n",
    "download_start_time = datetime.datetime(2020, 8, 20, 0, 0, 0)\n",
    "download_end_time = datetime.datetime(2020, 8, 21, 0, 0, 0)\n",
    "n_days = int((download_end_time-download_start_time).days+1)\n",
    "n_days\n",
    "\n",
    "download_goes_date(download_start_time, n_days, dir_GOES)"
   ]
  },
  {
   "cell_type": "markdown",
   "id": "a9b00705",
   "metadata": {},
   "source": [
    "# Download GOES-R data by specifying the case"
   ]
  },
  {
   "cell_type": "code",
   "execution_count": null,
   "id": "c896ecad-2ae6-40bf-8ef0-82900b1ccef0",
   "metadata": {},
   "outputs": [],
   "source": [
    "from goes_satellite import download_goes_case\n",
    "\n",
    "download_goes_case(data_library_names=['cpex', 'cpex'],\n",
    "                   dir_cases=['/08_CPEX/02_AW_RF01_AEW01', '/08_CPEX/03_AW_RF02_AEW02'],\n",
    "                   case_names=['AEW01', 'AEW02'])"
   ]
  },
  {
   "cell_type": "code",
   "execution_count": null,
   "id": "0df3af79",
   "metadata": {},
   "outputs": [],
   "source": []
  }
 ],
 "metadata": {
  "kernelspec": {
   "display_name": "Python 3 (ipykernel)",
   "language": "python",
   "name": "python3"
  },
  "language_info": {
   "codemirror_mode": {
    "name": "ipython",
    "version": 3
   },
   "file_extension": ".py",
   "mimetype": "text/x-python",
   "name": "python",
   "nbconvert_exporter": "python",
   "pygments_lexer": "ipython3",
   "version": "3.10.9"
  }
 },
 "nbformat": 4,
 "nbformat_minor": 5
}
