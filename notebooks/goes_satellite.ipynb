{
 "cells": [
  {
   "cell_type": "markdown",
   "id": "13ece8d0",
   "metadata": {},
   "source": [
    "# Download GOES-R data by specifying the date"
   ]
  },
  {
   "cell_type": "code",
   "execution_count": null,
   "id": "191fe0ce",
   "metadata": {},
   "outputs": [],
   "source": [
    "#!pip install google-cloud-storage\n",
    "#find . -type f -iname \"*.nc\" | wc -l"
   ]
  },
  {
   "cell_type": "code",
   "execution_count": null,
   "id": "a2f6dbf8-d8bb-429a-a351-8d336309f4d0",
   "metadata": {},
   "outputs": [],
   "source": [
    "from datetime import datetime\n",
    "from goes_satellite import download_goes_date\n",
    "\n",
    "dir_GOES = '/uufs/chpc.utah.edu/common/home/zpu-group16/cfeng/02_GOES_Bias_Correction/27_ChCor/create_bufr/GOES-R'\n",
    "download_start_time = datetime.datetime(2020, 8, 20, 0, 0, 0)\n",
    "download_end_time = datetime.datetime(2020, 8, 21, 0, 0, 0)\n",
    "n_days = int((download_end_time-download_start_time).days+1)\n",
    "n_days\n",
    "\n",
    "download_goes_date(download_start_time, n_days, dir_GOES)"
   ]
  },
  {
   "cell_type": "markdown",
   "id": "a9b00705",
   "metadata": {},
   "source": [
    "# Download GOES-R data by specifying the case"
   ]
  },
  {
   "cell_type": "code",
   "execution_count": 1,
   "id": "c896ecad-2ae6-40bf-8ef0-82900b1ccef0",
   "metadata": {},
   "outputs": [
    {
     "data": {
      "application/vnd.jupyter.widget-view+json": {
       "model_id": "43443863ad9d49a098bf7018664c5d9c",
       "version_major": 2,
       "version_minor": 0
      },
      "text/plain": [
       "Cases: 0/1 files | 00:00<?"
      ]
     },
     "metadata": {},
     "output_type": "display_data"
    },
    {
     "data": {
      "application/vnd.jupyter.widget-view+json": {
       "model_id": "e8f50b8c1ad943199cacb10b6fcabea7",
       "version_major": 2,
       "version_minor": 0
      },
      "text/plain": [
       "DA Cycles: 0/4 da cycles | 00:00<?"
      ]
     },
     "metadata": {},
     "output_type": "display_data"
    },
    {
     "data": {
      "application/vnd.jupyter.widget-view+json": {
       "model_id": "4d0d8960460347d98d98fed80373c3ae",
       "version_major": 2,
       "version_minor": 0
      },
      "text/plain": [
       "Files: 0/None files | 00:00<?"
      ]
     },
     "metadata": {},
     "output_type": "display_data"
    },
    {
     "data": {
      "application/vnd.jupyter.widget-view+json": {
       "model_id": "fc3dce6a44b34e8cac2f438ef6599e27",
       "version_major": 2,
       "version_minor": 0
      },
      "text/plain": [
       "Files: 0/None files | 00:00<?"
      ]
     },
     "metadata": {},
     "output_type": "display_data"
    },
    {
     "data": {
      "application/vnd.jupyter.widget-view+json": {
       "model_id": "d5dfe1f0e7c84d2a8c6ad4ae11c08686",
       "version_major": 2,
       "version_minor": 0
      },
      "text/plain": [
       "Files: 0/None files | 00:00<?"
      ]
     },
     "metadata": {},
     "output_type": "display_data"
    },
    {
     "data": {
      "application/vnd.jupyter.widget-view+json": {
       "model_id": "8e2b5566c3f8484ab9441f14149e14bc",
       "version_major": 2,
       "version_minor": 0
      },
      "text/plain": [
       "Files: 0/None files | 00:00<?"
      ]
     },
     "metadata": {},
     "output_type": "display_data"
    },
    {
     "ename": "NameError",
     "evalue": "name 'maio' is not defined",
     "output_type": "error",
     "traceback": [
      "\u001b[0;31m---------------------------------------------------------------------------\u001b[0m",
      "\u001b[0;31mNameError\u001b[0m                                 Traceback (most recent call last)",
      "Cell \u001b[0;32mIn[1], line 3\u001b[0m\n\u001b[1;32m      1\u001b[0m \u001b[39mfrom\u001b[39;00m \u001b[39mgoes_satellite\u001b[39;00m \u001b[39mimport\u001b[39;00m download_goes_case\n\u001b[0;32m----> 3\u001b[0m download_goes_case(data_library_names\u001b[39m=\u001b[39;49m[\u001b[39m'\u001b[39;49m\u001b[39mcpex\u001b[39;49m\u001b[39m'\u001b[39;49m],\n\u001b[1;32m      4\u001b[0m                    dir_cases\u001b[39m=\u001b[39;49m[\u001b[39m'\u001b[39;49m\u001b[39m/08_CPEX/01_CV_RF07_AEW06_IAN\u001b[39;49m\u001b[39m'\u001b[39;49m],\n\u001b[1;32m      5\u001b[0m                    case_names\u001b[39m=\u001b[39;49m[\u001b[39m'\u001b[39;49m\u001b[39mIan\u001b[39;49m\u001b[39m'\u001b[39;49m])\n",
      "File \u001b[0;32m~/climetlab-my-plugin/functions/goes_satellite.py:103\u001b[0m, in \u001b[0;36mdownload_goes_case\u001b[0;34m(data_library_names, dir_cases, case_names, data_sets)\u001b[0m\n\u001b[1;32m    100\u001b[0m                 \u001b[39mwith\u001b[39;00m \u001b[39mopen\u001b[39m(local_path, \u001b[39m\"\u001b[39m\u001b[39mwb\u001b[39m\u001b[39m\"\u001b[39m) \u001b[39mas\u001b[39;00m f:\n\u001b[1;32m    101\u001b[0m                     blob\u001b[39m.\u001b[39mdownload_to_file(f)\n\u001b[0;32m--> 103\u001b[0m \u001b[39mprint\u001b[39m(maio)\n\u001b[1;32m    105\u001b[0m \u001b[39mfor\u001b[39;00m idt \u001b[39min\u001b[39;00m tqdm(\u001b[39mrange\u001b[39m(n_time), desc\u001b[39m=\u001b[39m\u001b[39m'\u001b[39m\u001b[39mForecasts\u001b[39m\u001b[39m'\u001b[39m, leave\u001b[39m=\u001b[39m\u001b[39mFalse\u001b[39;00m, unit\u001b[39m=\u001b[39m\u001b[39m\"\u001b[39m\u001b[39mfiles\u001b[39m\u001b[39m\"\u001b[39m, bar_format\u001b[39m=\u001b[39m\u001b[39m\"\u001b[39m\u001b[39m{desc}\u001b[39;00m\u001b[39m: \u001b[39m\u001b[39m{n}\u001b[39;00m\u001b[39m/\u001b[39m\u001b[39m{total}\u001b[39;00m\u001b[39m forecasts | \u001b[39m\u001b[39m{elapsed}\u001b[39;00m\u001b[39m<\u001b[39m\u001b[39m{remaining}\u001b[39;00m\u001b[39m\"\u001b[39m):\n\u001b[1;32m    107\u001b[0m     time_now \u001b[39m=\u001b[39m anl_start_time \u001b[39m+\u001b[39m timedelta(hours\u001b[39m=\u001b[39mhistory_interval\u001b[39m*\u001b[39midt)\n",
      "\u001b[0;31mNameError\u001b[0m: name 'maio' is not defined"
     ]
    }
   ],
   "source": [
    "from goes_satellite import download_goes_case\n",
    "\n",
    "download_goes_case(data_library_names=['cpex'],\n",
    "                   dir_cases=['/08_CPEX/01_CV_RF07_AEW06_IAN'],\n",
    "                   case_names=['Ian'])"
   ]
  },
  {
   "cell_type": "code",
   "execution_count": null,
   "id": "0df3af79",
   "metadata": {},
   "outputs": [],
   "source": []
  }
 ],
 "metadata": {
  "kernelspec": {
   "display_name": "Python 3 (ipykernel)",
   "language": "python",
   "name": "python3"
  },
  "language_info": {
   "codemirror_mode": {
    "name": "ipython",
    "version": 3
   },
   "file_extension": ".py",
   "mimetype": "text/x-python",
   "name": "python",
   "nbconvert_exporter": "python",
   "pygments_lexer": "ipython3",
   "version": "3.10.9"
  }
 },
 "nbformat": 4,
 "nbformat_minor": 5
}
